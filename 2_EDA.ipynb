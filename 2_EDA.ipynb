{
  "nbformat": 4,
  "nbformat_minor": 0,
  "metadata": {
    "colab": {
      "name": "2_EDA.ipynb",
      "provenance": [],
      "mount_file_id": "1Ee_jw9_awzBUfF923tx5yfC6hsGIyvaL",
      "authorship_tag": "ABX9TyPuSJu/0unJdDouuEcdlS9b",
      "include_colab_link": true
    },
    "kernelspec": {
      "name": "python3",
      "display_name": "Python 3"
    }
  },
  "cells": [
    {
      "cell_type": "markdown",
      "metadata": {
        "id": "view-in-github",
        "colab_type": "text"
      },
      "source": [
        "<a href=\"https://colab.research.google.com/github/RachitBansal/RedditFlairDetector/blob/master/2_EDA.ipynb\" target=\"_parent\"><img src=\"https://colab.research.google.com/assets/colab-badge.svg\" alt=\"Open In Colab\"/></a>"
      ]
    },
    {
      "cell_type": "code",
      "metadata": {
        "id": "dVdFmu_JEqFo",
        "colab_type": "code",
        "colab": {
          "base_uri": "https://localhost:8080/",
          "height": 52
        },
        "outputId": "f00a6036-e1ac-4729-8e10-c06481c4c936"
      },
      "source": [
        "import pandas as pd\n",
        "import numpy as np\n",
        "import matplotlib.pyplot as plt\n",
        "import seaborn as sns"
      ],
      "execution_count": 2,
      "outputs": [
        {
          "output_type": "stream",
          "text": [
            "/usr/local/lib/python3.6/dist-packages/statsmodels/tools/_testing.py:19: FutureWarning: pandas.util.testing is deprecated. Use the functions in the public API at pandas.testing instead.\n",
            "  import pandas.util.testing as tm\n"
          ],
          "name": "stderr"
        }
      ]
    },
    {
      "cell_type": "code",
      "metadata": {
        "id": "UkFq9A8tE_T7",
        "colab_type": "code",
        "colab": {
          "base_uri": "https://localhost:8080/",
          "height": 34
        },
        "outputId": "1a3d9e27-3cb8-42e4-e3f7-09abe916d42c"
      },
      "source": [
        "from google.colab import drive\n",
        "drive.mount('drive')"
      ],
      "execution_count": 3,
      "outputs": [
        {
          "output_type": "stream",
          "text": [
            "Drive already mounted at drive; to attempt to forcibly remount, call drive.mount(\"drive\", force_remount=True).\n"
          ],
          "name": "stdout"
        }
      ]
    },
    {
      "cell_type": "code",
      "metadata": {
        "id": "WGbs4KjTFMcO",
        "colab_type": "code",
        "colab": {
          "base_uri": "https://localhost:8080/",
          "height": 52
        },
        "outputId": "74e74262-04d5-44a1-c351-2920d6b497f5"
      },
      "source": [
        "df = pd.read_csv('./drive/My Drive/rMIDAS_final.csv')"
      ],
      "execution_count": 85,
      "outputs": [
        {
          "output_type": "stream",
          "text": [
            "/usr/local/lib/python3.6/dist-packages/IPython/core/interactiveshell.py:2718: DtypeWarning: Columns (0) have mixed types.Specify dtype option on import or set low_memory=False.\n",
            "  interactivity=interactivity, compiler=compiler, result=result)\n"
          ],
          "name": "stderr"
        }
      ]
    },
    {
      "cell_type": "code",
      "metadata": {
        "id": "kK2G1_LzFfc5",
        "colab_type": "code",
        "colab": {
          "base_uri": "https://localhost:8080/",
          "height": 710
        },
        "outputId": "58ba74fd-b2f7-4ecd-8410-52af954031d3"
      },
      "source": [
        "df.head(10)"
      ],
      "execution_count": 86,
      "outputs": [
        {
          "output_type": "execute_result",
          "data": {
            "text/html": [
              "<div>\n",
              "<style scoped>\n",
              "    .dataframe tbody tr th:only-of-type {\n",
              "        vertical-align: middle;\n",
              "    }\n",
              "\n",
              "    .dataframe tbody tr th {\n",
              "        vertical-align: top;\n",
              "    }\n",
              "\n",
              "    .dataframe thead th {\n",
              "        text-align: right;\n",
              "    }\n",
              "</style>\n",
              "<table border=\"1\" class=\"dataframe\">\n",
              "  <thead>\n",
              "    <tr style=\"text-align: right;\">\n",
              "      <th></th>\n",
              "      <th>created_utc</th>\n",
              "      <th>id</th>\n",
              "      <th>link_flair_text</th>\n",
              "      <th>num_comments</th>\n",
              "      <th>selftext</th>\n",
              "      <th>title</th>\n",
              "      <th>url</th>\n",
              "    </tr>\n",
              "  </thead>\n",
              "  <tbody>\n",
              "    <tr>\n",
              "      <th>0</th>\n",
              "      <td>1554185977</td>\n",
              "      <td>b8fe48</td>\n",
              "      <td>NaN</td>\n",
              "      <td>2.0</td>\n",
              "      <td>NaN</td>\n",
              "      <td>Opinion | A theory about the sudden rise of Nitin Gadkari</td>\n",
              "      <td>https://www.livemint.com/opinion/columns/opinion-a-theory-about-the-sudden-rise-of-nitin-gadkari-1554059463808.html</td>\n",
              "    </tr>\n",
              "    <tr>\n",
              "      <th>1</th>\n",
              "      <td>1515991106</td>\n",
              "      <td>7qhc9y</td>\n",
              "      <td>NaN</td>\n",
              "      <td>0.0</td>\n",
              "      <td>[deleted]</td>\n",
              "      <td>PU Colleges in Mangalore.</td>\n",
              "      <td>https://www.reddit.com/r/india/comments/7qhc9y/pu_colleges_in_mangalore/</td>\n",
              "    </tr>\n",
              "    <tr>\n",
              "      <th>2</th>\n",
              "      <td>1558945602</td>\n",
              "      <td>btjiv5</td>\n",
              "      <td>Politics</td>\n",
              "      <td>3.0</td>\n",
              "      <td>NaN</td>\n",
              "      <td>Remembering Jawaharlal Nehru on his death anniversary</td>\n",
              "      <td>https://i.redd.it/txph3eq1sp031.jpg</td>\n",
              "    </tr>\n",
              "    <tr>\n",
              "      <th>3</th>\n",
              "      <td>1501064512</td>\n",
              "      <td>6pn4gj</td>\n",
              "      <td>Non-Political</td>\n",
              "      <td>0.0</td>\n",
              "      <td>NaN</td>\n",
              "      <td>[FRESH VIDEO] Armaan Malik - 'Barfani' (Babumoshai Bandookbaaz, Nawazuddin Siddiqui, Bidita Bag)</td>\n",
              "      <td>https://www.youtube.com/watch?v=LzETSqumgCY</td>\n",
              "    </tr>\n",
              "    <tr>\n",
              "      <th>4</th>\n",
              "      <td>1517726535</td>\n",
              "      <td>7v59mr</td>\n",
              "      <td>NaN</td>\n",
              "      <td>0.0</td>\n",
              "      <td>NaN</td>\n",
              "      <td>7,000 super-rich Indians shifted overseas in 2017; 10,000 from China</td>\n",
              "      <td>http://zeenews.india.com/india/7000-super-rich-indians-shifted-overseas-in-2017-10000-from-china-2078535.html</td>\n",
              "    </tr>\n",
              "    <tr>\n",
              "      <th>5</th>\n",
              "      <td>1574087019</td>\n",
              "      <td>dy3t9k</td>\n",
              "      <td>Non-Political</td>\n",
              "      <td>2.0</td>\n",
              "      <td>Today I had an appointment for my kid's passport application. I had already visited last time but it was kept on hold saying the birth certificate needs to be modified. \\n\\nNow after numerous back and forth for scanning documents among A, B and C counters, the C counter officer tells me that verification will be carried out. \\n\\nThis when I endorsed my wife's name on my passport just a while a...</td>\n",
              "      <td>Whims and fancies of officers at PSK [NP]</td>\n",
              "      <td>https://www.reddit.com/r/india/comments/dy3t9k/whims_and_fancies_of_officers_at_psk_np/</td>\n",
              "    </tr>\n",
              "    <tr>\n",
              "      <th>6</th>\n",
              "      <td>1410478029</td>\n",
              "      <td>2g5gqn</td>\n",
              "      <td>Non-Political</td>\n",
              "      <td>1.0</td>\n",
              "      <td>NaN</td>\n",
              "      <td>Rann Utsav - A festival in the deserts of Kutch, Gujarat.</td>\n",
              "      <td>http://www.rannutsav.net/</td>\n",
              "    </tr>\n",
              "    <tr>\n",
              "      <th>7</th>\n",
              "      <td>1483609441</td>\n",
              "      <td>5m5j3f</td>\n",
              "      <td>Science/Technology</td>\n",
              "      <td>3.0</td>\n",
              "      <td>NaN</td>\n",
              "      <td>CCMB signs MoUs with four startups</td>\n",
              "      <td>http://economictimes.indiatimes.com/small-biz/startups/ccmb-signs-mous-with-four-startups/articleshow/56310976.cms</td>\n",
              "    </tr>\n",
              "    <tr>\n",
              "      <th>8</th>\n",
              "      <td>1479750176</td>\n",
              "      <td>5e5caf</td>\n",
              "      <td>Politics</td>\n",
              "      <td>0.0</td>\n",
              "      <td>[deleted]</td>\n",
              "      <td>PM Modi didn't do his homework</td>\n",
              "      <td>http://www.forbes.com/sites/panosmourdoukoutas/2016/11/20/pm-modi-didnt-do-his-homework/2/#3357d4b378b3</td>\n",
              "    </tr>\n",
              "    <tr>\n",
              "      <th>9</th>\n",
              "      <td>1492613889</td>\n",
              "      <td>66aplw</td>\n",
              "      <td>Politics</td>\n",
              "      <td>2.0</td>\n",
              "      <td>NaN</td>\n",
              "      <td>GST rules: One leg still stuck in old taxes</td>\n",
              "      <td>http://www.forbesindia.com/article/special/gst-rules-one-leg-still-stuck-in-old-taxes/46731/1</td>\n",
              "    </tr>\n",
              "  </tbody>\n",
              "</table>\n",
              "</div>"
            ],
            "text/plain": [
              "  created_utc  ...                                                                                                                  url\n",
              "0  1554185977  ...  https://www.livemint.com/opinion/columns/opinion-a-theory-about-the-sudden-rise-of-nitin-gadkari-1554059463808.html\n",
              "1  1515991106  ...                                             https://www.reddit.com/r/india/comments/7qhc9y/pu_colleges_in_mangalore/\n",
              "2  1558945602  ...                                                                                  https://i.redd.it/txph3eq1sp031.jpg\n",
              "3  1501064512  ...                                                                          https://www.youtube.com/watch?v=LzETSqumgCY\n",
              "4  1517726535  ...        http://zeenews.india.com/india/7000-super-rich-indians-shifted-overseas-in-2017-10000-from-china-2078535.html\n",
              "5  1574087019  ...                              https://www.reddit.com/r/india/comments/dy3t9k/whims_and_fancies_of_officers_at_psk_np/\n",
              "6  1410478029  ...                                                                                            http://www.rannutsav.net/\n",
              "7  1483609441  ...   http://economictimes.indiatimes.com/small-biz/startups/ccmb-signs-mous-with-four-startups/articleshow/56310976.cms\n",
              "8  1479750176  ...              http://www.forbes.com/sites/panosmourdoukoutas/2016/11/20/pm-modi-didnt-do-his-homework/2/#3357d4b378b3\n",
              "9  1492613889  ...                        http://www.forbesindia.com/article/special/gst-rules-one-leg-still-stuck-in-old-taxes/46731/1\n",
              "\n",
              "[10 rows x 7 columns]"
            ]
          },
          "metadata": {
            "tags": []
          },
          "execution_count": 86
        }
      ]
    },
    {
      "cell_type": "code",
      "metadata": {
        "id": "eYc2Snp9FlW-",
        "colab_type": "code",
        "colab": {
          "base_uri": "https://localhost:8080/",
          "height": 538
        },
        "outputId": "21f3c4e5-e3f3-4ee9-87c6-3baef8c58d38"
      },
      "source": [
        "flairs_to_keep = []\n",
        "flairs_in_df = list( dict.fromkeys(list(df.loc[:, 'link_flair_text'].values)))\n",
        "print(len(flairs_in_df))\n",
        "for flair in flairs_in_df:\n",
        "  count = np.sum(df.loc[:, 'link_flair_text'].values == flair)\n",
        "  if(count>500):\n",
        "    print(flair, \"\\t\", count)\n",
        "    flairs_to_keep.append(flair)"
      ],
      "execution_count": 87,
      "outputs": [
        {
          "output_type": "stream",
          "text": [
            "731\n",
            "Politics \t 129061\n",
            "Non-Political \t 204007\n",
            "Science/Technology \t 14010\n",
            "AskIndia \t 45811\n",
            "Policy/Economy \t 18642\n",
            "Coronavirus \t 7004\n",
            "Entertainment \t 4421\n",
            "Repost. \t 2307\n",
            "Sports \t 6217\n",
            "Stickied Topic. \t 799\n",
            "Policy \t 2306\n",
            "[R]eddiquette \t 10424\n",
            "Business/Finance \t 17436\n",
            "All CAPS. \t 1700\n",
            "Not in English. \t 4666\n",
            "Meta. \t 529\n",
            "Food \t 3395\n",
            "Demonetization \t 6457\n",
            "Scheduled \t 1754\n",
            "Repost; \t 1284\n",
            "Science &amp; Technology \t 1810\n",
            "Business &amp; Finance \t 892\n",
            "Policy &amp; Economy \t 2012\n",
            "Low-effort self-post. \t 1231\n",
            "Not about India. \t 2615\n",
            "Unverified Content. \t 930\n",
            "Photography \t 4331\n",
            "Not Original Title. \t 2117\n",
            "CAA-NRC \t 1070\n"
          ],
          "name": "stdout"
        }
      ]
    },
    {
      "cell_type": "code",
      "metadata": {
        "id": "jptCgYK0Fg8M",
        "colab_type": "code",
        "colab": {
          "base_uri": "https://localhost:8080/",
          "height": 260
        },
        "outputId": "49539a07-21f8-4c88-d1f3-5fa0f4716407"
      },
      "source": [
        "df.info()"
      ],
      "execution_count": 88,
      "outputs": [
        {
          "output_type": "stream",
          "text": [
            "<class 'pandas.core.frame.DataFrame'>\n",
            "RangeIndex: 749973 entries, 0 to 749972\n",
            "Data columns (total 7 columns):\n",
            " #   Column           Non-Null Count   Dtype  \n",
            "---  ------           --------------   -----  \n",
            " 0   created_utc      749970 non-null  object \n",
            " 1   id               749956 non-null  object \n",
            " 2   link_flair_text  509337 non-null  object \n",
            " 3   num_comments     749931 non-null  float64\n",
            " 4   selftext         208140 non-null  object \n",
            " 5   title            696974 non-null  object \n",
            " 6   url              696975 non-null  object \n",
            "dtypes: float64(1), object(6)\n",
            "memory usage: 40.1+ MB\n"
          ],
          "name": "stdout"
        }
      ]
    },
    {
      "cell_type": "code",
      "metadata": {
        "id": "SxJQTw4mblEX",
        "colab_type": "code",
        "colab": {
          "base_uri": "https://localhost:8080/",
          "height": 34
        },
        "outputId": "8cd7e234-2ae9-4e75-9b31-472a1cae5e18"
      },
      "source": [
        "df = df.dropna('index', subset = ['title', 'link_flair_text'])\n",
        "df['num_comments'] = df['num_comments'].astype(int)\n",
        "df = df.reset_index()\n",
        "df = df.drop('index', 'columns')\n",
        "print(df.shape)"
      ],
      "execution_count": 89,
      "outputs": [
        {
          "output_type": "stream",
          "text": [
            "(456357, 7)\n"
          ],
          "name": "stdout"
        }
      ]
    },
    {
      "cell_type": "code",
      "metadata": {
        "id": "RZoGxrrwVQD7",
        "colab_type": "code",
        "colab": {}
      },
      "source": [
        "for i in range(df.shape[0]):\n",
        "  if(i%10000 == 0):\n",
        "    print(i)\n",
        "  if(df.loc[i, 'link_flair_text'] not in flairs_to_keep):\n",
        "    df = df.drop(i, 'index')\n",
        "    continue\n",
        "  df.loc[i, 'num_comments'] = int(df.loc[i, 'num_comments'])\n",
        "  if(df.loc[i, 'selftext'] == '[deleted]'):\n",
        "    df.loc[i, 'selftext'] = 'None'"
      ],
      "execution_count": 0,
      "outputs": []
    },
    {
      "cell_type": "code",
      "metadata": {
        "id": "027mwhsTWoF5",
        "colab_type": "code",
        "colab": {
          "base_uri": "https://localhost:8080/",
          "height": 34
        },
        "outputId": "92d2678a-85bc-47df-bc39-159934a4e1f1"
      },
      "source": [
        "df.shape"
      ],
      "execution_count": 61,
      "outputs": [
        {
          "output_type": "execute_result",
          "data": {
            "text/plain": [
              "(319079, 7)"
            ]
          },
          "metadata": {
            "tags": []
          },
          "execution_count": 61
        }
      ]
    },
    {
      "cell_type": "code",
      "metadata": {
        "id": "78JCRjGAHeiN",
        "colab_type": "code",
        "colab": {
          "base_uri": "https://localhost:8080/",
          "height": 352
        },
        "outputId": "cc4ec99a-4811-46e0-9295-26d5dc572e47"
      },
      "source": [
        "sns.heatmap(df.isnull(),cbar=False,yticklabels=False,cmap = 'viridis')"
      ],
      "execution_count": 90,
      "outputs": [
        {
          "output_type": "execute_result",
          "data": {
            "text/plain": [
              "<matplotlib.axes._subplots.AxesSubplot at 0x7f5a9177e860>"
            ]
          },
          "metadata": {
            "tags": []
          },
          "execution_count": 90
        },
        {
          "output_type": "display_data",
          "data": {
            "image/png": "[encoded data removed]",
            "text/plain": [
              "<Figure size 432x288 with 1 Axes>"
            ]
          },
          "metadata": {
            "tags": [],
            "needs_background": "light"
          }
        }
      ]
    },
    {
      "cell_type": "code",
      "metadata": {
        "id": "Uh9EYwyYfRBw",
        "colab_type": "code",
        "colab": {
          "base_uri": "https://localhost:8080/",
          "height": 191
        },
        "outputId": "dcaebfe9-eced-4eda-8f75-3e5bed2c9d86"
      },
      "source": [
        "!pip install pytorch-nlp"
      ],
      "execution_count": 65,
      "outputs": [
        {
          "output_type": "stream",
          "text": [
            "Collecting edm\n",
            "  Downloading https://files.pythonhosted.org/packages/42/4b/ab24f5d58fa155a9cb9388681ec90fed70bc1ff4efea6b3964827354f601/edm-0.0.4.tar.gz\n",
            "Requirement already satisfied: numpy in /usr/local/lib/python3.6/dist-packages (from edm) (1.18.2)\n",
            "Building wheels for collected packages: edm\n",
            "  Building wheel for edm (setup.py) ... \u001b[?25l\u001b[?25hdone\n",
            "  Created wheel for edm: filename=edm-0.0.4-cp36-none-any.whl size=10639 sha256=dc7fff05609ffc37f56c5bcaece4a96b3cbbe14af2bf56291b52332a424a13ac\n",
            "  Stored in directory: /root/.cache/pip/wheels/f5/9b/f6/778ef88e921a1c1ef7b9d04d1af501a7014d89e941c3301c56\n",
            "Successfully built edm\n",
            "Installing collected packages: edm\n",
            "Successfully installed edm-0.0.4\n"
          ],
          "name": "stdout"
        }
      ]
    },
    {
      "cell_type": "code",
      "metadata": {
        "id": "VqSg75gbex--",
        "colab_type": "code",
        "colab": {}
      },
      "source": [
        "import torchnlp\n",
        "from torchnlp.encoders import LabelEncoder"
      ],
      "execution_count": 0,
      "outputs": []
    },
    {
      "cell_type": "code",
      "metadata": {
        "id": "s14IjYZ3IXS9",
        "colab_type": "code",
        "colab": {}
      },
      "source": [
        "df_cols = {'link_flair_text':[], 'num_comments':[], 'selftext':[], 'title':[], 'url':[]}"
      ],
      "execution_count": 0,
      "outputs": []
    },
    {
      "cell_type": "code",
      "metadata": {
        "id": "keEzo8hiJmo6",
        "colab_type": "code",
        "colab": {}
      },
      "source": [
        "for i in range(df.shape[0]):\n",
        "  df_cols['link_flair_text'].append(df.loc[i, 'link_flair_text'])\n",
        "  df_cols['title'].append(len(df.loc[i, 'title']))\n",
        "  df_cols['url'].append(len(df.loc[i, 'url']))\n",
        "  df_cols['num_comments'].append(int(df.loc[i, 'num_comments']))\n",
        "  if type(df.loc[i, 'selftext']) != float:\n",
        "    df_cols['selftext'].append(len(df.loc[i, 'selftext']))\n",
        "  else:\n",
        "    df_cols['selftext'].append(0)"
      ],
      "execution_count": 0,
      "outputs": []
    },
    {
      "cell_type": "code",
      "metadata": {
        "id": "GNWdwRfLLhAJ",
        "colab_type": "code",
        "colab": {
          "base_uri": "https://localhost:8080/",
          "height": 34
        },
        "outputId": "caf34b6a-a14c-45d8-d2c7-e401c2727d19"
      },
      "source": [
        "len(df_cols['title'])"
      ],
      "execution_count": 93,
      "outputs": [
        {
          "output_type": "execute_result",
          "data": {
            "text/plain": [
              "456357"
            ]
          },
          "metadata": {
            "tags": []
          },
          "execution_count": 93
        }
      ]
    },
    {
      "cell_type": "code",
      "metadata": {
        "id": "DS5ed6uqNell",
        "colab_type": "code",
        "colab": {}
      },
      "source": [
        "encoder = LabelEncoder(df_cols['link_flair_text'])"
      ],
      "execution_count": 0,
      "outputs": []
    },
    {
      "cell_type": "code",
      "metadata": {
        "id": "FSRVecu4PD_n",
        "colab_type": "code",
        "colab": {}
      },
      "source": [
        "df_cols['link_flair_text'] = encoder.batch_encode(df_cols['link_flair_text'])"
      ],
      "execution_count": 0,
      "outputs": []
    },
    {
      "cell_type": "code",
      "metadata": {
        "id": "05MOsAvSK_Qx",
        "colab_type": "code",
        "colab": {
          "base_uri": "https://localhost:8080/",
          "height": 363
        },
        "outputId": "68f62c8a-9445-4b3e-b7de-382f21237f57"
      },
      "source": [
        "df_supp = pd.DataFrame(df_cols)\n",
        "df_supp.head(10)"
      ],
      "execution_count": 96,
      "outputs": [
        {
          "output_type": "execute_result",
          "data": {
            "text/html": [
              "<div>\n",
              "<style scoped>\n",
              "    .dataframe tbody tr th:only-of-type {\n",
              "        vertical-align: middle;\n",
              "    }\n",
              "\n",
              "    .dataframe tbody tr th {\n",
              "        vertical-align: top;\n",
              "    }\n",
              "\n",
              "    .dataframe thead th {\n",
              "        text-align: right;\n",
              "    }\n",
              "</style>\n",
              "<table border=\"1\" class=\"dataframe\">\n",
              "  <thead>\n",
              "    <tr style=\"text-align: right;\">\n",
              "      <th></th>\n",
              "      <th>link_flair_text</th>\n",
              "      <th>num_comments</th>\n",
              "      <th>selftext</th>\n",
              "      <th>title</th>\n",
              "      <th>url</th>\n",
              "    </tr>\n",
              "  </thead>\n",
              "  <tbody>\n",
              "    <tr>\n",
              "      <th>0</th>\n",
              "      <td>1</td>\n",
              "      <td>3</td>\n",
              "      <td>0</td>\n",
              "      <td>53</td>\n",
              "      <td>35</td>\n",
              "    </tr>\n",
              "    <tr>\n",
              "      <th>1</th>\n",
              "      <td>2</td>\n",
              "      <td>0</td>\n",
              "      <td>0</td>\n",
              "      <td>96</td>\n",
              "      <td>43</td>\n",
              "    </tr>\n",
              "    <tr>\n",
              "      <th>2</th>\n",
              "      <td>2</td>\n",
              "      <td>2</td>\n",
              "      <td>1019</td>\n",
              "      <td>41</td>\n",
              "      <td>87</td>\n",
              "    </tr>\n",
              "    <tr>\n",
              "      <th>3</th>\n",
              "      <td>2</td>\n",
              "      <td>1</td>\n",
              "      <td>0</td>\n",
              "      <td>57</td>\n",
              "      <td>25</td>\n",
              "    </tr>\n",
              "    <tr>\n",
              "      <th>4</th>\n",
              "      <td>3</td>\n",
              "      <td>3</td>\n",
              "      <td>0</td>\n",
              "      <td>34</td>\n",
              "      <td>114</td>\n",
              "    </tr>\n",
              "    <tr>\n",
              "      <th>5</th>\n",
              "      <td>1</td>\n",
              "      <td>0</td>\n",
              "      <td>9</td>\n",
              "      <td>30</td>\n",
              "      <td>103</td>\n",
              "    </tr>\n",
              "    <tr>\n",
              "      <th>6</th>\n",
              "      <td>1</td>\n",
              "      <td>2</td>\n",
              "      <td>0</td>\n",
              "      <td>43</td>\n",
              "      <td>93</td>\n",
              "    </tr>\n",
              "    <tr>\n",
              "      <th>7</th>\n",
              "      <td>1</td>\n",
              "      <td>1</td>\n",
              "      <td>1623</td>\n",
              "      <td>71</td>\n",
              "      <td>92</td>\n",
              "    </tr>\n",
              "    <tr>\n",
              "      <th>8</th>\n",
              "      <td>1</td>\n",
              "      <td>0</td>\n",
              "      <td>0</td>\n",
              "      <td>52</td>\n",
              "      <td>33</td>\n",
              "    </tr>\n",
              "    <tr>\n",
              "      <th>9</th>\n",
              "      <td>1</td>\n",
              "      <td>0</td>\n",
              "      <td>0</td>\n",
              "      <td>110</td>\n",
              "      <td>62</td>\n",
              "    </tr>\n",
              "  </tbody>\n",
              "</table>\n",
              "</div>"
            ],
            "text/plain": [
              "   link_flair_text  num_comments  selftext  title  url\n",
              "0                1             3         0     53   35\n",
              "1                2             0         0     96   43\n",
              "2                2             2      1019     41   87\n",
              "3                2             1         0     57   25\n",
              "4                3             3         0     34  114\n",
              "5                1             0         9     30  103\n",
              "6                1             2         0     43   93\n",
              "7                1             1      1623     71   92\n",
              "8                1             0         0     52   33\n",
              "9                1             0         0    110   62"
            ]
          },
          "metadata": {
            "tags": []
          },
          "execution_count": 96
        }
      ]
    },
    {
      "cell_type": "code",
      "metadata": {
        "id": "pkk4ewQ3j19h",
        "colab_type": "code",
        "colab": {
          "base_uri": "https://localhost:8080/",
          "height": 300
        },
        "outputId": "e49673cf-80c0-4799-97bb-41ebbfb75bc5"
      },
      "source": [
        "df_supp.describe()"
      ],
      "execution_count": 97,
      "outputs": [
        {
          "output_type": "execute_result",
          "data": {
            "text/html": [
              "<div>\n",
              "<style scoped>\n",
              "    .dataframe tbody tr th:only-of-type {\n",
              "        vertical-align: middle;\n",
              "    }\n",
              "\n",
              "    .dataframe tbody tr th {\n",
              "        vertical-align: top;\n",
              "    }\n",
              "\n",
              "    .dataframe thead th {\n",
              "        text-align: right;\n",
              "    }\n",
              "</style>\n",
              "<table border=\"1\" class=\"dataframe\">\n",
              "  <thead>\n",
              "    <tr style=\"text-align: right;\">\n",
              "      <th></th>\n",
              "      <th>link_flair_text</th>\n",
              "      <th>num_comments</th>\n",
              "      <th>selftext</th>\n",
              "      <th>title</th>\n",
              "      <th>url</th>\n",
              "    </tr>\n",
              "  </thead>\n",
              "  <tbody>\n",
              "    <tr>\n",
              "      <th>count</th>\n",
              "      <td>456357.000000</td>\n",
              "      <td>456357.000000</td>\n",
              "      <td>456357.000000</td>\n",
              "      <td>456357.000000</td>\n",
              "      <td>456357.000000</td>\n",
              "    </tr>\n",
              "    <tr>\n",
              "      <th>mean</th>\n",
              "      <td>7.138703</td>\n",
              "      <td>11.099236</td>\n",
              "      <td>102.990010</td>\n",
              "      <td>70.116334</td>\n",
              "      <td>90.176947</td>\n",
              "    </tr>\n",
              "    <tr>\n",
              "      <th>std</th>\n",
              "      <td>22.465501</td>\n",
              "      <td>52.198631</td>\n",
              "      <td>514.516165</td>\n",
              "      <td>41.111412</td>\n",
              "      <td>41.344201</td>\n",
              "    </tr>\n",
              "    <tr>\n",
              "      <th>min</th>\n",
              "      <td>1.000000</td>\n",
              "      <td>-3.000000</td>\n",
              "      <td>0.000000</td>\n",
              "      <td>1.000000</td>\n",
              "      <td>4.000000</td>\n",
              "    </tr>\n",
              "    <tr>\n",
              "      <th>25%</th>\n",
              "      <td>1.000000</td>\n",
              "      <td>0.000000</td>\n",
              "      <td>0.000000</td>\n",
              "      <td>45.000000</td>\n",
              "      <td>60.000000</td>\n",
              "    </tr>\n",
              "    <tr>\n",
              "      <th>50%</th>\n",
              "      <td>2.000000</td>\n",
              "      <td>1.000000</td>\n",
              "      <td>0.000000</td>\n",
              "      <td>64.000000</td>\n",
              "      <td>93.000000</td>\n",
              "    </tr>\n",
              "    <tr>\n",
              "      <th>75%</th>\n",
              "      <td>5.000000</td>\n",
              "      <td>7.000000</td>\n",
              "      <td>9.000000</td>\n",
              "      <td>83.000000</td>\n",
              "      <td>115.000000</td>\n",
              "    </tr>\n",
              "    <tr>\n",
              "      <th>max</th>\n",
              "      <td>705.000000</td>\n",
              "      <td>11706.000000</td>\n",
              "      <td>39826.000000</td>\n",
              "      <td>318.000000</td>\n",
              "      <td>2107.000000</td>\n",
              "    </tr>\n",
              "  </tbody>\n",
              "</table>\n",
              "</div>"
            ],
            "text/plain": [
              "       link_flair_text   num_comments  ...          title            url\n",
              "count    456357.000000  456357.000000  ...  456357.000000  456357.000000\n",
              "mean          7.138703      11.099236  ...      70.116334      90.176947\n",
              "std          22.465501      52.198631  ...      41.111412      41.344201\n",
              "min           1.000000      -3.000000  ...       1.000000       4.000000\n",
              "25%           1.000000       0.000000  ...      45.000000      60.000000\n",
              "50%           2.000000       1.000000  ...      64.000000      93.000000\n",
              "75%           5.000000       7.000000  ...      83.000000     115.000000\n",
              "max         705.000000   11706.000000  ...     318.000000    2107.000000\n",
              "\n",
              "[8 rows x 5 columns]"
            ]
          },
          "metadata": {
            "tags": []
          },
          "execution_count": 97
        }
      ]
    },
    {
      "cell_type": "code",
      "metadata": {
        "id": "SUpfk0S0LfDx",
        "colab_type": "code",
        "colab": {
          "base_uri": "https://localhost:8080/",
          "height": 356
        },
        "outputId": "8820f847-1e56-4532-9109-20cfa2349268"
      },
      "source": [
        "plt.figure(figsize=(6,4))\n",
        "sns.heatmap(df_supp.corr(),cmap='Blues',annot=False) "
      ],
      "execution_count": 98,
      "outputs": [
        {
          "output_type": "execute_result",
          "data": {
            "text/plain": [
              "<matplotlib.axes._subplots.AxesSubplot at 0x7f5a82a63400>"
            ]
          },
          "metadata": {
            "tags": []
          },
          "execution_count": 98
        },
        {
          "output_type": "display_data",
          "data": {
            "image/png": "[encoded data removed]",
            "text/plain": [
              "<Figure size 432x288 with 2 Axes>"
            ]
          },
          "metadata": {
            "tags": [],
            "needs_background": "light"
          }
        }
      ]
    },
    {
      "cell_type": "code",
      "metadata": {
        "id": "XIGTu0FePxuC",
        "colab_type": "code",
        "colab": {
          "base_uri": "https://localhost:8080/",
          "height": 396
        },
        "outputId": "dc4d6a08-5c8a-4acc-ece5-e29dc028b781"
      },
      "source": [
        "k = 5 #number of variables for heatmap\n",
        "cols = df_supp.corr().nlargest(k, 'link_flair_text')['link_flair_text'].index\n",
        "cm = df_supp[cols].corr()\n",
        "plt.figure(figsize=(10,6))\n",
        "sns.heatmap(cm, annot=True, cmap = 'viridis')"
      ],
      "execution_count": 99,
      "outputs": [
        {
          "output_type": "execute_result",
          "data": {
            "text/plain": [
              "<matplotlib.axes._subplots.AxesSubplot at 0x7f5a82d41400>"
            ]
          },
          "metadata": {
            "tags": []
          },
          "execution_count": 99
        },
        {
          "output_type": "display_data",
          "data": {
            "image/png": "[encoded data removed]",
            "text/plain": [
              "<Figure size 720x432 with 2 Axes>"
            ]
          },
          "metadata": {
            "tags": [],
            "needs_background": "light"
          }
        }
      ]
    },
    {
      "cell_type": "code",
      "metadata": {
        "id": "YfBGg-dgQud1",
        "colab_type": "code",
        "colab": {
          "base_uri": "https://localhost:8080/",
          "height": 290
        },
        "outputId": "8f8e3c94-507d-4192-f99d-125830448a30"
      },
      "source": [
        "l = df_supp.columns.values\n",
        "n_cols = 5\n",
        "n_rows = len(l)-1/n_cols\n",
        "plt.figure(figsize=(2*n_cols+15,5*n_rows))\n",
        "for i in range(0,len(l)):\n",
        "    plt.subplot(n_rows+1, n_cols, i+1)\n",
        "    sns.distplot(df_supp[l[i]],kde=True)"
      ],
      "execution_count": 100,
      "outputs": [
        {
          "output_type": "display_data",
          "data": {
            "image/png": "[encoded data removed]",
            "text/plain": [
              "<Figure size 1800x1728 with 5 Axes>"
            ]
          },
          "metadata": {
            "tags": [],
            "needs_background": "light"
          }
        }
      ]
    },
    {
      "cell_type": "code",
      "metadata": {
        "id": "84m10dGjlAOZ",
        "colab_type": "code",
        "colab": {}
      },
      "source": [
        ""
      ],
      "execution_count": 0,
      "outputs": []
    }
  ]
}
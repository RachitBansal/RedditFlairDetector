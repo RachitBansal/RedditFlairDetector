{
  "nbformat": 4,
  "nbformat_minor": 0,
  "metadata": {
    "colab": {
      "name": "1_DataCollection.ipynb",
      "provenance": [],
      "collapsed_sections": [],
      "mount_file_id": "18kM91eTDQ7FlJvQ5oZeR_1kW77kc4HM1",
      "authorship_tag": "ABX9TyN6GwFWQOuKdZEq1SRuYRDw",
      "include_colab_link": true
    },
    "kernelspec": {
      "name": "python3",
      "display_name": "Python 3"
    }
  },
  "cells": [
    {
      "cell_type": "markdown",
      "metadata": {
        "id": "view-in-github",
        "colab_type": "text"
      },
      "source": [
        "<a href=\"https://colab.research.google.com/github/RachitBansal/RedditFlairDetector/blob/master/1_DataCollection.ipynb\" target=\"_parent\"><img src=\"https://colab.research.google.com/assets/colab-badge.svg\" alt=\"Open In Colab\"/></a>"
      ]
    },
    {
      "cell_type": "markdown",
      "metadata": {
        "id": "4eIly-TVnN4f",
        "colab_type": "text"
      },
      "source": [
        "# Data Collection\n",
        "\n",
        "In this notebook, I have explored the ways to extract data from Reddit submissions. The various methods have been compared and demonstrated.  "
      ]
    },
    {
      "cell_type": "code",
      "metadata": {
        "id": "XLLnUZVvDgUT",
        "colab_type": "code",
        "outputId": "bf54fe36-087a-48d8-b737-ab90739e3f66",
        "colab": {
          "base_uri": "https://localhost:8080/",
          "height": 330
        }
      },
      "source": [
        "!pip install praw"
      ],
      "execution_count": 0,
      "outputs": [
        {
          "output_type": "stream",
          "text": [
            "Collecting praw\n",
            "\u001b[?25l  Downloading https://files.pythonhosted.org/packages/25/c0/b9714b4fb164368843b41482a3cac11938021871adf99bf5aaa3980b0182/praw-6.5.1-py3-none-any.whl (134kB)\n",
            "\u001b[K     |████████████████████████████████| 143kB 2.7MB/s \n",
            "\u001b[?25hCollecting websocket-client>=0.54.0\n",
            "\u001b[?25l  Downloading https://files.pythonhosted.org/packages/4c/5f/f61b420143ed1c8dc69f9eaec5ff1ac36109d52c80de49d66e0c36c3dfdf/websocket_client-0.57.0-py2.py3-none-any.whl (200kB)\n",
            "\u001b[K     |████████████████████████████████| 204kB 8.9MB/s \n",
            "\u001b[?25hCollecting update-checker>=0.16\n",
            "  Downloading https://files.pythonhosted.org/packages/17/c9/ab11855af164d03be0ff4fddd4c46a5bd44799a9ecc1770e01a669c21168/update_checker-0.16-py2.py3-none-any.whl\n",
            "Collecting prawcore<2.0,>=1.0.1\n",
            "  Downloading https://files.pythonhosted.org/packages/76/b5/ce6282dea45cba6f08a30e25d18e0f3d33277e2c9fcbda75644b8dc0089b/prawcore-1.0.1-py2.py3-none-any.whl\n",
            "Requirement already satisfied: six in /usr/local/lib/python3.6/dist-packages (from websocket-client>=0.54.0->praw) (1.12.0)\n",
            "Requirement already satisfied: requests>=2.3.0 in /usr/local/lib/python3.6/dist-packages (from update-checker>=0.16->praw) (2.21.0)\n",
            "Requirement already satisfied: chardet<3.1.0,>=3.0.2 in /usr/local/lib/python3.6/dist-packages (from requests>=2.3.0->update-checker>=0.16->praw) (3.0.4)\n",
            "Requirement already satisfied: certifi>=2017.4.17 in /usr/local/lib/python3.6/dist-packages (from requests>=2.3.0->update-checker>=0.16->praw) (2020.4.5.1)\n",
            "Requirement already satisfied: idna<2.9,>=2.5 in /usr/local/lib/python3.6/dist-packages (from requests>=2.3.0->update-checker>=0.16->praw) (2.8)\n",
            "Requirement already satisfied: urllib3<1.25,>=1.21.1 in /usr/local/lib/python3.6/dist-packages (from requests>=2.3.0->update-checker>=0.16->praw) (1.24.3)\n",
            "Installing collected packages: websocket-client, update-checker, prawcore, praw\n",
            "Successfully installed praw-6.5.1 prawcore-1.0.1 update-checker-0.16 websocket-client-0.57.0\n"
          ],
          "name": "stdout"
        }
      ]
    },
    {
      "cell_type": "code",
      "metadata": {
        "id": "XgmnKH8h3Hqa",
        "colab_type": "code",
        "outputId": "deb1e8bc-7f6d-49d8-9f67-274ea7bceda2",
        "colab": {
          "base_uri": "https://localhost:8080/",
          "height": 34
        }
      },
      "source": [
        "from google.colab import drive\n",
        "drive.mount('/content/drive')"
      ],
      "execution_count": 0,
      "outputs": [
        {
          "output_type": "stream",
          "text": [
            "Drive already mounted at /content/drive; to attempt to forcibly remount, call drive.mount(\"/content/drive\", force_remount=True).\n"
          ],
          "name": "stdout"
        }
      ]
    },
    {
      "cell_type": "markdown",
      "metadata": {
        "id": "c6kvKi57hUZu",
        "colab_type": "text"
      },
      "source": [
        "**Using PRAW for collecting the data**\n",
        "\n",
        "The following was observed:\n",
        "\n",
        "- A maximum of 250 data points per flair could be collected with this method\n",
        "\n",
        "- This is extremely low for further processes and thus this method was not used for the final data.\n",
        "\n",
        "These observations were noted after carrying out the below experiments:"
      ]
    },
    {
      "cell_type": "code",
      "metadata": {
        "id": "rKSLc7ZWCYJ9",
        "colab_type": "code",
        "colab": {}
      },
      "source": [
        "import praw\n",
        "import pandas as pd\n",
        "import datetime as dt"
      ],
      "execution_count": 0,
      "outputs": []
    },
    {
      "cell_type": "code",
      "metadata": {
        "id": "VWNuR4i_kUvW",
        "colab_type": "code",
        "colab": {}
      },
      "source": [
        "import numpy as np\n",
        "import sklearn.utils as utils"
      ],
      "execution_count": 0,
      "outputs": []
    },
    {
      "cell_type": "code",
      "metadata": {
        "id": "fL76xdl6Dbtg",
        "colab_type": "code",
        "colab": {}
      },
      "source": [
        "reddit = praw.Reddit(client_id='mZxKduOfxjNThA', \\\n",
        "                     client_secret='s9yiNq1s7URgalN4O8IHqOhCl9w', \\\n",
        "                     user_agent='rClassifier', \\\n",
        "                     username='RachitB2500', \\\n",
        "                     password='RacBan@1')"
      ],
      "execution_count": 0,
      "outputs": []
    },
    {
      "cell_type": "code",
      "metadata": {
        "id": "82xnt7gvEIqa",
        "colab_type": "code",
        "colab": {}
      },
      "source": [
        "subreddit = reddit.subreddit('india')"
      ],
      "execution_count": 0,
      "outputs": []
    },
    {
      "cell_type": "code",
      "metadata": {
        "id": "YkFe0sLnRjWd",
        "colab_type": "code",
        "colab": {}
      },
      "source": [
        "data_dic = {\n",
        "    'id': [],\n",
        "    'title': [],\n",
        "    'disc': [],\n",
        "    'comment': [],\n",
        "    'flair': []\n",
        "}"
      ],
      "execution_count": 0,
      "outputs": []
    },
    {
      "cell_type": "code",
      "metadata": {
        "id": "xfJJhg3wfUQW",
        "colab_type": "code",
        "colab": {}
      },
      "source": [
        "flairs = [\"Non-Political\", \"[R]eddiquette\", \"Scheduled\", \"Photography\", \"Science/Technology\", \"Politics\", \"Business/Finance\", \"Policy/Economy\", \"Sports\", \"Food\", \"AMA\", \"AskIndia\"]"
      ],
      "execution_count": 0,
      "outputs": []
    },
    {
      "cell_type": "code",
      "metadata": {
        "colab_type": "code",
        "outputId": "3a385e1e-d1a6-4c24-8c8a-1fa6cf3c91ae",
        "id": "plqKvaFglO0r",
        "colab": {
          "base_uri": "https://localhost:8080/",
          "height": 851
        }
      },
      "source": [
        "for flair in flairs:\n",
        "  for i, submission in enumerate(subreddit.search('flair:\"'+flair+'\"', sort='new', syntax='lucene', limit=10000)):\n",
        "    # submission.flair.select(flairName[1])\n",
        "    data_dic['id'].append(submission.id)\n",
        "    data_dic['title'].append(submission.title)\n",
        "    data_dic['disc'].append(submission.selftext)\n",
        "    data_dic['flair'].append(flair)\n",
        "    # try:\n",
        "    #   top_comment = [comment.body for comment in submission.comments if (hasattr(comment, \"body\") and comment.distinguished==None)][0]\n",
        "    # except:\n",
        "    #   top_comment = \"\"\n",
        "    # data_dic['comment'].append(top_comment)\n",
        "    submission.comments.replace_more(limit=0)\n",
        "    comments = ''\n",
        "    for comment in submission.comments.list():\n",
        "        comments = ' ' + comments + comment.body\n",
        "    data_dic['comment'].append(comments)\n",
        "    # try:\n",
        "    #   for comment in submission.comments[0:1]:\n",
        "    #     data_dic['comment'].append[comment.body[:150]]\n",
        "    # except:\n",
        "    #   data_dic['comment'].append[\"\"]\n",
        "    if(i%100 == 0):\n",
        "      print(i)\n",
        "    if(i%500 == 0):\n",
        "      print(submission.title)"
      ],
      "execution_count": 0,
      "outputs": [
        {
          "output_type": "stream",
          "text": [
            "0\n",
            "Siddis: In It For The Long Run | Unique Stories from India\n",
            "100\n",
            "200\n",
            "0\n",
            "Pakistan’s former legislator seeks asylum in India\n",
            "100\n",
            "200\n",
            "0\n",
            "Random Daily Discussion Thread - April 10, 2020 at 09:15AM\n",
            "100\n",
            "200\n",
            "0\n",
            "Something refreshing to look at during these lockdown times\n",
            "100\n",
            "200\n",
            "0\n",
            "Bottle stand that keeps you hydrated\n",
            "100\n",
            "200\n",
            "0\n",
            "How Modi Has Trampled the Founding Idea of India - The Atlantic\n",
            "100\n",
            "200\n",
            "0\n",
            "ADB Assures $ 2.2 Billion Support To India During Coronavirus Pandemic\n",
            "100\n",
            "200\n",
            "0\n",
            "99.8% workforce in IT sector incapable of remote working: Study\n",
            "100\n",
            "200\n",
            "0\n",
            "India turns to Taiwan for cricket\n",
            "100\n",
            "200\n",
            "0\n",
            "What to do if some shopkeepers in my area are selling products at prices above MRP in this pandemic?\n",
            "100\n",
            "200\n",
            "0\n",
            "Hi, I’m Dr. Roshan Radhakrishnan, a doctor, and an avid writer. I am here to answer your queries about Coronavirus and then some more. AMA.\n",
            "100\n",
            "200\n",
            "0\n",
            "What is the state of online deliveries - I need to order a few items?\n",
            "100\n",
            "200\n"
          ],
          "name": "stdout"
        }
      ]
    },
    {
      "cell_type": "code",
      "metadata": {
        "id": "_sUMJGHhpEWJ",
        "colab_type": "code",
        "colab": {}
      },
      "source": [
        "# data_dic['id'] = data_dic['id'][1:]\n",
        "rows = min(len(data_dic[key]) for key in list(data_dic.keys()))\n",
        "for key in list(data_dic.keys()):\n",
        "  # print(len(data_dic[key]))\n",
        "  if(len(data_dic[key]) > rows):\n",
        "    data_dic[key] = data_dic[key][len(data_dic[key]) - rows:]"
      ],
      "execution_count": 0,
      "outputs": []
    },
    {
      "cell_type": "code",
      "metadata": {
        "id": "fSyMs7k7mNJm",
        "colab_type": "code",
        "colab": {}
      },
      "source": [
        "data = pd.DataFrame(data_dic)\n",
        "df = data.sample(frac=1).reset_index(drop=True)"
      ],
      "execution_count": 0,
      "outputs": []
    },
    {
      "cell_type": "code",
      "metadata": {
        "id": "P0nqjVHQ3A6V",
        "colab_type": "code",
        "colab": {}
      },
      "source": [
        "df.to_csv('drive/My Drive/redditIndia_1.csv')"
      ],
      "execution_count": 0,
      "outputs": []
    },
    {
      "cell_type": "code",
      "metadata": {
        "id": "UskRVG7anXyt",
        "colab_type": "code",
        "outputId": "157beb81-070b-4333-ba63-0e1143dad6d7",
        "colab": {
          "base_uri": "https://localhost:8080/",
          "height": 677
        }
      },
      "source": [
        "df.head(20)"
      ],
      "execution_count": 0,
      "outputs": [
        {
          "output_type": "execute_result",
          "data": {
            "text/html": [
              "<div>\n",
              "<style scoped>\n",
              "    .dataframe tbody tr th:only-of-type {\n",
              "        vertical-align: middle;\n",
              "    }\n",
              "\n",
              "    .dataframe tbody tr th {\n",
              "        vertical-align: top;\n",
              "    }\n",
              "\n",
              "    .dataframe thead th {\n",
              "        text-align: right;\n",
              "    }\n",
              "</style>\n",
              "<table border=\"1\" class=\"dataframe\">\n",
              "  <thead>\n",
              "    <tr style=\"text-align: right;\">\n",
              "      <th></th>\n",
              "      <th>id</th>\n",
              "      <th>title</th>\n",
              "      <th>disc</th>\n",
              "      <th>comment</th>\n",
              "      <th>flair</th>\n",
              "    </tr>\n",
              "  </thead>\n",
              "  <tbody>\n",
              "    <tr>\n",
              "      <th>0</th>\n",
              "      <td>cziid8</td>\n",
              "      <td>I have a flight to catch at 10.30 PM. But can'...</td>\n",
              "      <td>I booked a flight to Muscat through MakeMyTrip...</td>\n",
              "      <td>MMT &amp; Airlines will charge you for that un...</td>\n",
              "      <td>[R]eddiquette</td>\n",
              "    </tr>\n",
              "    <tr>\n",
              "      <th>1</th>\n",
              "      <td>fxs1vy</td>\n",
              "      <td>Politics in the time of corona: WB CM question...</td>\n",
              "      <td></td>\n",
              "      <td>Oh FFS. \\n\\nYellow, Orange...</td>\n",
              "      <td>Politics</td>\n",
              "    </tr>\n",
              "    <tr>\n",
              "      <th>2</th>\n",
              "      <td>dar2o6</td>\n",
              "      <td>Food insecurity affects children’s learning</td>\n",
              "      <td></td>\n",
              "      <td>Already knew that. Just watching the kid pick...</td>\n",
              "      <td>Food</td>\n",
              "    </tr>\n",
              "    <tr>\n",
              "      <th>3</th>\n",
              "      <td>esokhg</td>\n",
              "      <td>Is there really any way to differentiate cage ...</td>\n",
              "      <td>In my city they sell 6 cage free eggs for 100 ...</td>\n",
              "      <td>I think that cage free eggs have a dens...</td>\n",
              "      <td>Food</td>\n",
              "    </tr>\n",
              "    <tr>\n",
              "      <th>4</th>\n",
              "      <td>d0c9gt</td>\n",
              "      <td>Noida family gets threat for letting girl ride...</td>\n",
              "      <td></td>\n",
              "      <td>Here’s a...</td>\n",
              "      <td>[R]eddiquette</td>\n",
              "    </tr>\n",
              "    <tr>\n",
              "      <th>5</th>\n",
              "      <td>ffo1yk</td>\n",
              "      <td>YES Bank's Rs 10,800 crore bonds could soon tu...</td>\n",
              "      <td></td>\n",
              "      <td></td>\n",
              "      <td>Business/Finance</td>\n",
              "    </tr>\n",
              "    <tr>\n",
              "      <th>6</th>\n",
              "      <td>ftihsj</td>\n",
              "      <td>What technologies are needed to become a full ...</td>\n",
              "      <td>Hello, I am interested in becoming a full stac...</td>\n",
              "      <td>Currently learning MERN and/or MEAN is the ea...</td>\n",
              "      <td>Non-Political</td>\n",
              "    </tr>\n",
              "    <tr>\n",
              "      <th>7</th>\n",
              "      <td>fvblal</td>\n",
              "      <td>Saharanpur Police says no truth in Tablighi Ja...</td>\n",
              "      <td></td>\n",
              "      <td>Here’s anot...</td>\n",
              "      <td>Politics</td>\n",
              "    </tr>\n",
              "    <tr>\n",
              "      <th>8</th>\n",
              "      <td>fss2u3</td>\n",
              "      <td>Despite 3-mth moratorium announcement, borrowe...</td>\n",
              "      <td></td>\n",
              "      <td>Very messy implementation. The RBI should ha...</td>\n",
              "      <td>Policy/Economy</td>\n",
              "    </tr>\n",
              "    <tr>\n",
              "      <th>9</th>\n",
              "      <td>fthfk5</td>\n",
              "      <td>reminder that today might be the last day to s...</td>\n",
              "      <td>Tomorrow Hotstar will be rebranded to disney+ ...</td>\n",
              "      <td>Me gareeb using a free streami...</td>\n",
              "      <td>Non-Political</td>\n",
              "    </tr>\n",
              "    <tr>\n",
              "      <th>10</th>\n",
              "      <td>fbn1tc</td>\n",
              "      <td>Pre-match corteo by Chennaiyin FC fans ahead o...</td>\n",
              "      <td></td>\n",
              "      <td>Hope we meet you in finals and get our rev...</td>\n",
              "      <td>Sports</td>\n",
              "    </tr>\n",
              "    <tr>\n",
              "      <th>11</th>\n",
              "      <td>fx23qq</td>\n",
              "      <td>Apology hints how deep ‘fear’ runs</td>\n",
              "      <td></td>\n",
              "      <td>&gt;The half-page advertisement on Page 2 o...</td>\n",
              "      <td>Politics</td>\n",
              "    </tr>\n",
              "    <tr>\n",
              "      <th>12</th>\n",
              "      <td>fvvvbu</td>\n",
              "      <td>A letter to Anand Teltumbde, on his way to jail</td>\n",
              "      <td></td>\n",
              "      <td></td>\n",
              "      <td>Politics</td>\n",
              "    </tr>\n",
              "    <tr>\n",
              "      <th>13</th>\n",
              "      <td>emwxfu</td>\n",
              "      <td>Penumbral lunar eclipse Collage - 10/11 Januar...</td>\n",
              "      <td></td>\n",
              "      <td>Equipment : Nikon P900 @357mm equivalent of 2...</td>\n",
              "      <td>Photography</td>\n",
              "    </tr>\n",
              "    <tr>\n",
              "      <th>14</th>\n",
              "      <td>fx490m</td>\n",
              "      <td>UP Police Register FIR Against Journalist Pras...</td>\n",
              "      <td></td>\n",
              "      <td>&gt; The Lucknow city police on Tuesday ...</td>\n",
              "      <td>Politics</td>\n",
              "    </tr>\n",
              "    <tr>\n",
              "      <th>15</th>\n",
              "      <td>fhcliv</td>\n",
              "      <td>So nice to see more Indian chefs recognised on...</td>\n",
              "      <td>Mumbai's first tasting menu-only restaurant, M...</td>\n",
              "      <td>Visited Masque about 2-3 years ago for din...</td>\n",
              "      <td>Food</td>\n",
              "    </tr>\n",
              "    <tr>\n",
              "      <th>16</th>\n",
              "      <td>d2b489</td>\n",
              "      <td>Two new species of ginger discovered from Naga...</td>\n",
              "      <td></td>\n",
              "      <td>Oh hell yeahOh shit I misread it</td>\n",
              "      <td>Food</td>\n",
              "    </tr>\n",
              "    <tr>\n",
              "      <th>17</th>\n",
              "      <td>ful3zc</td>\n",
              "      <td>BJP chief Nadda cautions party leaders: Don’t ...</td>\n",
              "      <td></td>\n",
              "      <td>...</td>\n",
              "      <td>Politics</td>\n",
              "    </tr>\n",
              "    <tr>\n",
              "      <th>18</th>\n",
              "      <td>d1tkp4</td>\n",
              "      <td>Three Animal Species Declared Extinct in India</td>\n",
              "      <td></td>\n",
              "      <td></td>\n",
              "      <td>[R]eddiquette</td>\n",
              "    </tr>\n",
              "    <tr>\n",
              "      <th>19</th>\n",
              "      <td>fvss05</td>\n",
              "      <td>SC judgment on RTI Act sets a dangerously low ...</td>\n",
              "      <td></td>\n",
              "      <td></td>\n",
              "      <td>Politics</td>\n",
              "    </tr>\n",
              "  </tbody>\n",
              "</table>\n",
              "</div>"
            ],
            "text/plain": [
              "        id  ...             flair\n",
              "0   cziid8  ...     [R]eddiquette\n",
              "1   fxs1vy  ...          Politics\n",
              "2   dar2o6  ...              Food\n",
              "3   esokhg  ...              Food\n",
              "4   d0c9gt  ...     [R]eddiquette\n",
              "5   ffo1yk  ...  Business/Finance\n",
              "6   ftihsj  ...     Non-Political\n",
              "7   fvblal  ...          Politics\n",
              "8   fss2u3  ...    Policy/Economy\n",
              "9   fthfk5  ...     Non-Political\n",
              "10  fbn1tc  ...            Sports\n",
              "11  fx23qq  ...          Politics\n",
              "12  fvvvbu  ...          Politics\n",
              "13  emwxfu  ...       Photography\n",
              "14  fx490m  ...          Politics\n",
              "15  fhcliv  ...              Food\n",
              "16  d2b489  ...              Food\n",
              "17  ful3zc  ...          Politics\n",
              "18  d1tkp4  ...     [R]eddiquette\n",
              "19  fvss05  ...          Politics\n",
              "\n",
              "[20 rows x 5 columns]"
            ]
          },
          "metadata": {
            "tags": []
          },
          "execution_count": 15
        }
      ]
    },
    {
      "cell_type": "code",
      "metadata": {
        "id": "c4XqHrOK30d2",
        "colab_type": "code",
        "outputId": "9142ebcb-b0b8-4efc-cd43-505a6ee33c60",
        "colab": {
          "base_uri": "https://localhost:8080/",
          "height": 225
        }
      },
      "source": [
        "df.info()"
      ],
      "execution_count": 0,
      "outputs": [
        {
          "output_type": "stream",
          "text": [
            "<class 'pandas.core.frame.DataFrame'>\n",
            "RangeIndex: 2925 entries, 0 to 2924\n",
            "Data columns (total 5 columns):\n",
            " #   Column   Non-Null Count  Dtype \n",
            "---  ------   --------------  ----- \n",
            " 0   id       2925 non-null   object\n",
            " 1   title    2925 non-null   object\n",
            " 2   disc     2925 non-null   object\n",
            " 3   comment  2925 non-null   object\n",
            " 4   flair    2925 non-null   object\n",
            "dtypes: object(5)\n",
            "memory usage: 114.4+ KB\n"
          ],
          "name": "stdout"
        }
      ]
    },
    {
      "cell_type": "code",
      "metadata": {
        "id": "UTbb2uRzn0U5",
        "colab_type": "code",
        "outputId": "dda96faa-22cb-426f-9ed1-541df931d0bc",
        "colab": {
          "base_uri": "https://localhost:8080/",
          "height": 225
        }
      },
      "source": [
        "for flair in flairs:\n",
        "  print(flair, \"\\t\", np.sum(df.loc[:, 'flair'].values == flair))"
      ],
      "execution_count": 0,
      "outputs": [
        {
          "output_type": "stream",
          "text": [
            "275\n",
            "232\n",
            "240\n",
            "241\n",
            "244\n",
            "248\n",
            "247\n",
            "250\n",
            "222\n",
            "243\n",
            "235\n",
            "248\n"
          ],
          "name": "stdout"
        }
      ]
    },
    {
      "cell_type": "code",
      "metadata": {
        "id": "Iy1aYSav3-ob",
        "colab_type": "code",
        "outputId": "e6fbe9f8-fce4-40b2-eca8-a3739156ee65",
        "colab": {
          "base_uri": "https://localhost:8080/",
          "height": 104
        }
      },
      "source": [
        "for key in list(data_dic.keys()):\n",
        "  print(key, \"\\t\", np.sum(df.loc[:, key].values != \"\"))"
      ],
      "execution_count": 0,
      "outputs": [
        {
          "output_type": "stream",
          "text": [
            "id \t 2925\n",
            "title \t 2925\n",
            "disc \t 1258\n",
            "comment \t 2460\n",
            "flair \t 2925\n"
          ],
          "name": "stdout"
        }
      ]
    },
    {
      "cell_type": "markdown",
      "metadata": {
        "id": "7legu_uviWKy",
        "colab_type": "text"
      },
      "source": [
        "**Using pushshift for Data Collection**\n",
        "\n",
        "The following was observed:\n",
        "\n",
        "- Though this API allows a maximum of 1000 results per call, repeated calls after changing the timestamp allows us to gather a huge amount of data.\n",
        "\n",
        "- A bit around .7M data points have been scraped and this, after preprocessing, would act as the final data. "
      ]
    },
    {
      "cell_type": "code",
      "metadata": {
        "id": "NBdNhv4OM0QW",
        "colab_type": "code",
        "colab": {}
      },
      "source": [
        "import requests"
      ],
      "execution_count": 0,
      "outputs": []
    },
    {
      "cell_type": "code",
      "metadata": {
        "id": "j5hptszx9NqG",
        "colab_type": "code",
        "colab": {}
      },
      "source": [
        "net_json = {'data': []}\n",
        "glob_ids = []"
      ],
      "execution_count": 0,
      "outputs": []
    },
    {
      "cell_type": "code",
      "metadata": {
        "id": "C_S32_7uoG7T",
        "colab_type": "code",
        "colab": {}
      },
      "source": [
        "def get_pushshift_data(size, sort_type, sort, fields, subreddit, query = None, after = None, before = None):\n",
        "  if(before):\n",
        "    if(after):\n",
        "      url = f\"https://api.pushshift.io/reddit/search/submission/?subreddit={subreddit}&fields={fields}&size={size}&sort={sort}&sort_type={sort_type}&after={after}&before={before}\"\n",
        "    else:\n",
        "      url = f\"https://api.pushshift.io/reddit/search/submission/?query={query}&subreddit={subreddit}&fields={fields}&size={size}&sort={sort}&sort_type={sort_type}&before={before}\"\n",
        "\n",
        "  elif(query):\n",
        "    url = f\"https://api.pushshift.io/reddit/search/submission/?query={query}&subreddit={subreddit}&fields={fields}&size={size}&sort={sort}&sort_type={sort_type}\"\n",
        "\n",
        "  else:\n",
        "    url = f\"https://api.pushshift.io/reddit/search/submission/?subreddit={subreddit}&fields={fields}&size={size}&sort={sort}&sort_type={sort_type}\"\n",
        "\n",
        "  request = requests.get(url)\n",
        "  json_response = request.json()\n",
        "  # print(json_response)/\n",
        "  for i in range(len(json_response['data'])):\n",
        "    sub_id = json_response['data'][i]['id']\n",
        "    if(sub_id not in glob_ids):\n",
        "      glob_ids.append(sub_id)\n",
        "      net_json['data'].append(json_response['data'][i])\n",
        "    \n",
        "  return int(net_json['data'][-1]['created_utc'])"
      ],
      "execution_count": 0,
      "outputs": []
    },
    {
      "cell_type": "code",
      "metadata": {
        "id": "NKBxUt8-8b2u",
        "colab_type": "code",
        "outputId": "38a327d2-1090-49a5-fe5e-33c85d2e9a55",
        "colab": {
          "base_uri": "https://localhost:8080/",
          "height": 86
        }
      },
      "source": [
        "data_type = 'submission'\n",
        "subreddit = 'India'\n",
        "flairs = [\"Non-Political\", \"[R]eddiquette\", \"Scheduled\", \"Photography\", \"Science/Technology\", \"Politics\", \"Business/Finance\", \"Policy/Economy\", \"Sports\", \"Food\", \"AMA\", \"AskIndia\"]\n",
        "fields = 'id,title,selftext,url,link_flair_text,num_comments,created_utc'\n",
        "size = 1000\n",
        "last = 1586721116       # time when this was written \n",
        "\n",
        "for i in range(1, 50):\n",
        "  if(i%10 == 0):\n",
        "    print(i)\n",
        "  last = get_pushshift_data(size=1000, sort_type='created_utc', sort='desc', fields = fields, subreddit = subreddit, before=last)"
      ],
      "execution_count": 0,
      "outputs": [
        {
          "output_type": "stream",
          "text": [
            "10\n",
            "20\n",
            "30\n",
            "40\n"
          ],
          "name": "stdout"
        }
      ]
    },
    {
      "cell_type": "code",
      "metadata": {
        "id": "hjSNYduK9Scd",
        "colab_type": "code",
        "outputId": "63786582-63e1-47c5-c3ae-4c9e12328ced",
        "colab": {
          "base_uri": "https://localhost:8080/",
          "height": 156
        }
      },
      "source": [
        "print(len(net_json['data']))\n",
        "net_json['data'][-1]"
      ],
      "execution_count": 0,
      "outputs": [
        {
          "output_type": "stream",
          "text": [
            "49000\n"
          ],
          "name": "stdout"
        },
        {
          "output_type": "execute_result",
          "data": {
            "text/plain": [
              "{'created_utc': 1577977801,\n",
              " 'id': 'eizd3j',\n",
              " 'link_flair_text': 'AskIndia',\n",
              " 'num_comments': 0,\n",
              " 'selftext': '[removed]',\n",
              " 'title': 'Vape related',\n",
              " 'url': 'https://www.reddit.com/r/india/comments/eizd3j/vape_related/'}"
            ]
          },
          "metadata": {
            "tags": []
          },
          "execution_count": 9
        }
      ]
    },
    {
      "cell_type": "code",
      "metadata": {
        "id": "4tLF1Wib96G3",
        "colab_type": "code",
        "outputId": "77e7cc53-5c60-48ff-ae57-64659028bd67",
        "colab": {
          "base_uri": "https://localhost:8080/",
          "height": 173
        }
      },
      "source": [
        "for i in range(51, 150):\n",
        "  if(i%10 == 0):\n",
        "    print(i)\n",
        "  last = get_pushshift_data(size=1000, sort_type='created_utc', sort='desc', fields = fields, subreddit = subreddit, before=last)"
      ],
      "execution_count": 0,
      "outputs": [
        {
          "output_type": "stream",
          "text": [
            "60\n",
            "70\n",
            "80\n",
            "90\n",
            "100\n",
            "110\n",
            "120\n",
            "130\n",
            "140\n"
          ],
          "name": "stdout"
        }
      ]
    },
    {
      "cell_type": "code",
      "metadata": {
        "id": "SdBKuNZ2-CB7",
        "colab_type": "code",
        "outputId": "b2779275-b2d9-46f4-e105-c88cba4e5e18",
        "colab": {
          "base_uri": "https://localhost:8080/",
          "height": 156
        }
      },
      "source": [
        "print(len(net_json['data']))\n",
        "net_json['data'][-1]"
      ],
      "execution_count": 0,
      "outputs": [
        {
          "output_type": "stream",
          "text": [
            "148000\n"
          ],
          "name": "stdout"
        },
        {
          "output_type": "execute_result",
          "data": {
            "text/plain": [
              "{'created_utc': 1560296121,\n",
              " 'id': 'bzjufa',\n",
              " 'link_flair_text': 'Politics',\n",
              " 'num_comments': 4,\n",
              " 'selftext': '',\n",
              " 'title': 'Another Journalist Arrested for ‘Defamatory Content’ Against Yogi',\n",
              " 'url': 'https://www.thequint.com/news/india/another-journalist-held-for-defamatory-content-against-yogi-adityanath'}"
            ]
          },
          "metadata": {
            "tags": []
          },
          "execution_count": 11
        }
      ]
    },
    {
      "cell_type": "code",
      "metadata": {
        "id": "i1R48sBBBtUL",
        "colab_type": "code",
        "outputId": "7e9c9709-2103-4c1c-c92f-0047bbfac2eb",
        "colab": {
          "base_uri": "https://localhost:8080/",
          "height": 260
        }
      },
      "source": [
        "for i in range(151, 300):\n",
        "  if(i%10 == 0):\n",
        "    print(i)\n",
        "  last = get_pushshift_data(size=1000, sort_type='created_utc', sort='desc', fields = fields, subreddit = subreddit, before=last)"
      ],
      "execution_count": 0,
      "outputs": [
        {
          "output_type": "stream",
          "text": [
            "160\n",
            "170\n",
            "180\n",
            "190\n",
            "200\n",
            "210\n",
            "220\n",
            "230\n",
            "240\n",
            "250\n",
            "260\n",
            "270\n",
            "280\n",
            "290\n"
          ],
          "name": "stdout"
        }
      ]
    },
    {
      "cell_type": "code",
      "metadata": {
        "id": "h0UxTTs8ByaX",
        "colab_type": "code",
        "outputId": "947fee4c-a21e-4e63-de6b-821834d53eb7",
        "colab": {
          "base_uri": "https://localhost:8080/",
          "height": 139
        }
      },
      "source": [
        "print(len(net_json['data']))\n",
        "net_json['data'][-1]"
      ],
      "execution_count": 0,
      "outputs": [
        {
          "output_type": "stream",
          "text": [
            "297000\n"
          ],
          "name": "stdout"
        },
        {
          "output_type": "execute_result",
          "data": {
            "text/plain": [
              "{'created_utc': 1536236060,\n",
              " 'id': '9dhwws',\n",
              " 'num_comments': 0,\n",
              " 'selftext': '',\n",
              " 'title': 'Want to drink coffee alongside snakes? Head to this Cambodia-cafe!',\n",
              " 'url': 'https://www.newsbytesapp.com/timeline/World/31298/139425/this-cambodia-cafe-offers-coffee-and-reptiles'}"
            ]
          },
          "metadata": {
            "tags": []
          },
          "execution_count": 28
        }
      ]
    },
    {
      "cell_type": "code",
      "metadata": {
        "id": "g4P5tlR2GmKD",
        "colab_type": "code",
        "outputId": "311db08b-138f-4fc2-b4d3-a35ad1b7f305",
        "colab": {
          "base_uri": "https://localhost:8080/",
          "height": 364
        }
      },
      "source": [
        "last = 1522540800\n",
        "for i in range(200):\n",
        "  if(i%10 == 0):\n",
        "    print(i)\n",
        "  last = get_pushshift_data(size=1000, sort_type='created_utc', sort='desc', fields = fields, subreddit = subreddit, before=last)"
      ],
      "execution_count": 0,
      "outputs": [
        {
          "output_type": "stream",
          "text": [
            "0\n",
            "10\n",
            "20\n",
            "30\n",
            "40\n",
            "50\n",
            "60\n",
            "70\n",
            "80\n",
            "90\n",
            "100\n",
            "110\n",
            "120\n",
            "130\n",
            "140\n",
            "150\n",
            "160\n",
            "170\n",
            "180\n",
            "190\n"
          ],
          "name": "stdout"
        }
      ]
    },
    {
      "cell_type": "code",
      "metadata": {
        "id": "7DtIFLibMBiI",
        "colab_type": "code",
        "outputId": "b7621a05-2bee-4bcc-ccce-0d23f69892d1",
        "colab": {
          "base_uri": "https://localhost:8080/",
          "height": 156
        }
      },
      "source": [
        "print(len(net_json['data']))\n",
        "net_json['data'][-1]"
      ],
      "execution_count": 0,
      "outputs": [
        {
          "output_type": "stream",
          "text": [
            "697000\n"
          ],
          "name": "stdout"
        },
        {
          "output_type": "execute_result",
          "data": {
            "text/plain": [
              "{'created_utc': 1491756898,\n",
              " 'id': '64e1gj',\n",
              " 'link_flair_text': 'Not Original Title',\n",
              " 'num_comments': 3,\n",
              " 'selftext': '[deleted]',\n",
              " 'title': 'TIL Contraceptives have been banned as OTC drugs in Tamil Nadu for over a decade. So much progression..',\n",
              " 'url': 'http://m.timesofindia.com/city/chennai/Online-petition-seeks-revocation-of-ban-on-over-the-counter-sale-of-emergency-contraceptive-pills-in-TN/articleshow/54703048.cms'}"
            ]
          },
          "metadata": {
            "tags": []
          },
          "execution_count": 61
        }
      ]
    },
    {
      "cell_type": "code",
      "metadata": {
        "id": "vjYIz_Gs_yRL",
        "colab_type": "code",
        "outputId": "8d815bc4-5bc7-4196-be5b-d7f009e271b6",
        "colab": {
          "base_uri": "https://localhost:8080/",
          "height": 363
        }
      },
      "source": [
        "df = pd.DataFrame(net_json['data'])\n",
        "df = df.sample(frac=1).reset_index(drop=True)\n",
        "df.head(10)"
      ],
      "execution_count": 0,
      "outputs": [
        {
          "output_type": "execute_result",
          "data": {
            "text/html": [
              "<div>\n",
              "<style scoped>\n",
              "    .dataframe tbody tr th:only-of-type {\n",
              "        vertical-align: middle;\n",
              "    }\n",
              "\n",
              "    .dataframe tbody tr th {\n",
              "        vertical-align: top;\n",
              "    }\n",
              "\n",
              "    .dataframe thead th {\n",
              "        text-align: right;\n",
              "    }\n",
              "</style>\n",
              "<table border=\"1\" class=\"dataframe\">\n",
              "  <thead>\n",
              "    <tr style=\"text-align: right;\">\n",
              "      <th></th>\n",
              "      <th>created_utc</th>\n",
              "      <th>id</th>\n",
              "      <th>link_flair_text</th>\n",
              "      <th>num_comments</th>\n",
              "      <th>selftext</th>\n",
              "      <th>title</th>\n",
              "      <th>url</th>\n",
              "    </tr>\n",
              "  </thead>\n",
              "  <tbody>\n",
              "    <tr>\n",
              "      <th>0</th>\n",
              "      <td>1554185977</td>\n",
              "      <td>b8fe48</td>\n",
              "      <td>NaN</td>\n",
              "      <td>2</td>\n",
              "      <td></td>\n",
              "      <td>Opinion | A theory about the sudden rise of Ni...</td>\n",
              "      <td>https://www.livemint.com/opinion/columns/opini...</td>\n",
              "    </tr>\n",
              "    <tr>\n",
              "      <th>1</th>\n",
              "      <td>1515991106</td>\n",
              "      <td>7qhc9y</td>\n",
              "      <td>NaN</td>\n",
              "      <td>0</td>\n",
              "      <td>[deleted]</td>\n",
              "      <td>PU Colleges in Mangalore.</td>\n",
              "      <td>https://www.reddit.com/r/india/comments/7qhc9y...</td>\n",
              "    </tr>\n",
              "    <tr>\n",
              "      <th>2</th>\n",
              "      <td>1558945602</td>\n",
              "      <td>btjiv5</td>\n",
              "      <td>Politics</td>\n",
              "      <td>3</td>\n",
              "      <td></td>\n",
              "      <td>Remembering Jawaharlal Nehru on his death anni...</td>\n",
              "      <td>https://i.redd.it/txph3eq1sp031.jpg</td>\n",
              "    </tr>\n",
              "    <tr>\n",
              "      <th>3</th>\n",
              "      <td>1501064512</td>\n",
              "      <td>6pn4gj</td>\n",
              "      <td>Non-Political</td>\n",
              "      <td>0</td>\n",
              "      <td></td>\n",
              "      <td>[FRESH VIDEO] Armaan Malik - 'Barfani' (Babumo...</td>\n",
              "      <td>https://www.youtube.com/watch?v=LzETSqumgCY</td>\n",
              "    </tr>\n",
              "    <tr>\n",
              "      <th>4</th>\n",
              "      <td>1517726535</td>\n",
              "      <td>7v59mr</td>\n",
              "      <td>NaN</td>\n",
              "      <td>0</td>\n",
              "      <td></td>\n",
              "      <td>7,000 super-rich Indians shifted overseas in 2...</td>\n",
              "      <td>http://zeenews.india.com/india/7000-super-rich...</td>\n",
              "    </tr>\n",
              "    <tr>\n",
              "      <th>5</th>\n",
              "      <td>1574087019</td>\n",
              "      <td>dy3t9k</td>\n",
              "      <td>Non-Political</td>\n",
              "      <td>2</td>\n",
              "      <td>Today I had an appointment for my kid's passpo...</td>\n",
              "      <td>Whims and fancies of officers at PSK [NP]</td>\n",
              "      <td>https://www.reddit.com/r/india/comments/dy3t9k...</td>\n",
              "    </tr>\n",
              "    <tr>\n",
              "      <th>6</th>\n",
              "      <td>1410478029</td>\n",
              "      <td>2g5gqn</td>\n",
              "      <td>Non-Political</td>\n",
              "      <td>1</td>\n",
              "      <td></td>\n",
              "      <td>Rann Utsav - A festival in the deserts of Kutc...</td>\n",
              "      <td>http://www.rannutsav.net/</td>\n",
              "    </tr>\n",
              "    <tr>\n",
              "      <th>7</th>\n",
              "      <td>1483609441</td>\n",
              "      <td>5m5j3f</td>\n",
              "      <td>Science/Technology</td>\n",
              "      <td>3</td>\n",
              "      <td></td>\n",
              "      <td>CCMB signs MoUs with four startups</td>\n",
              "      <td>http://economictimes.indiatimes.com/small-biz/...</td>\n",
              "    </tr>\n",
              "    <tr>\n",
              "      <th>8</th>\n",
              "      <td>1479750176</td>\n",
              "      <td>5e5caf</td>\n",
              "      <td>Politics</td>\n",
              "      <td>0</td>\n",
              "      <td>[deleted]</td>\n",
              "      <td>PM Modi didn't do his homework</td>\n",
              "      <td>http://www.forbes.com/sites/panosmourdoukoutas...</td>\n",
              "    </tr>\n",
              "    <tr>\n",
              "      <th>9</th>\n",
              "      <td>1492613889</td>\n",
              "      <td>66aplw</td>\n",
              "      <td>Politics</td>\n",
              "      <td>2</td>\n",
              "      <td></td>\n",
              "      <td>GST rules: One leg still stuck in old taxes</td>\n",
              "      <td>http://www.forbesindia.com/article/special/gst...</td>\n",
              "    </tr>\n",
              "  </tbody>\n",
              "</table>\n",
              "</div>"
            ],
            "text/plain": [
              "   created_utc  ...                                                url\n",
              "0   1554185977  ...  https://www.livemint.com/opinion/columns/opini...\n",
              "1   1515991106  ...  https://www.reddit.com/r/india/comments/7qhc9y...\n",
              "2   1558945602  ...                https://i.redd.it/txph3eq1sp031.jpg\n",
              "3   1501064512  ...        https://www.youtube.com/watch?v=LzETSqumgCY\n",
              "4   1517726535  ...  http://zeenews.india.com/india/7000-super-rich...\n",
              "5   1574087019  ...  https://www.reddit.com/r/india/comments/dy3t9k...\n",
              "6   1410478029  ...                          http://www.rannutsav.net/\n",
              "7   1483609441  ...  http://economictimes.indiatimes.com/small-biz/...\n",
              "8   1479750176  ...  http://www.forbes.com/sites/panosmourdoukoutas...\n",
              "9   1492613889  ...  http://www.forbesindia.com/article/special/gst...\n",
              "\n",
              "[10 rows x 7 columns]"
            ]
          },
          "metadata": {
            "tags": []
          },
          "execution_count": 67
        }
      ]
    },
    {
      "cell_type": "code",
      "metadata": {
        "id": "YGUJXeNrACsU",
        "colab_type": "code",
        "outputId": "a2ab17b8-db1d-422d-b00d-9cc2a7fa9f88",
        "colab": {
          "base_uri": "https://localhost:8080/",
          "height": 538
        }
      },
      "source": [
        "flairs_in_df = list( dict.fromkeys(list(df.loc[:, 'link_flair_text'].values)))\n",
        "print(len(flairs_in_df))\n",
        "for flair in flairs_in_df:\n",
        "  count = np.sum(df.loc[:, 'link_flair_text'].values == flair)\n",
        "  if(count>500):\n",
        "    print(flair, \"\\t\", count)"
      ],
      "execution_count": 0,
      "outputs": [
        {
          "output_type": "stream",
          "text": [
            "707\n",
            "AskIndia \t 45811\n",
            "Politics \t 129061\n",
            "Food \t 3395\n",
            "Coronavirus \t 7004\n",
            "Photography \t 4331\n",
            "Business/Finance \t 17436\n",
            "Policy/Economy \t 18642\n",
            "Non-Political \t 151076\n",
            "Sports \t 6217\n",
            "Low-effort self-post. \t 1231\n",
            "Science/Technology \t 14010\n",
            "Scheduled \t 1754\n",
            "Meta. \t 529\n",
            "All CAPS. \t 1700\n",
            "Demonetization \t 6457\n",
            "CAA-NRC \t 1070\n",
            "Science &amp; Technology \t 1810\n",
            "[R]eddiquette \t 10424\n",
            "Not in English. \t 4666\n",
            "Entertainment \t 4421\n",
            "Not about India. \t 2615\n",
            "Repost. \t 2307\n",
            "Not Original Title. \t 2117\n",
            "Stickied Topic. \t 799\n",
            "Policy \t 2306\n",
            "Policy &amp; Economy \t 2012\n",
            "Business &amp; Finance \t 892\n",
            "Repost; \t 1284\n",
            "Unverified Content. \t 930\n"
          ],
          "name": "stdout"
        }
      ]
    },
    {
      "cell_type": "code",
      "metadata": {
        "id": "wMSVsNc7CQq7",
        "colab_type": "code",
        "colab": {}
      },
      "source": [
        " df.to_csv('./drive/My Drive/rMIDAS_final.csv', index = False)"
      ],
      "execution_count": 0,
      "outputs": []
    },
    {
      "cell_type": "code",
      "metadata": {
        "id": "bUikXYXlkg5z",
        "colab_type": "code",
        "colab": {}
      },
      "source": [
        ""
      ],
      "execution_count": 0,
      "outputs": []
    }
  ]
}
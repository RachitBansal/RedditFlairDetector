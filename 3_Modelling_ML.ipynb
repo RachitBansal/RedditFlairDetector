{
  "nbformat": 4,
  "nbformat_minor": 0,
  "metadata": {
    "colab": {
      "name": "3_Modelling_ML.ipynb",
      "provenance": [],
      "collapsed_sections": [],
      "machine_shape": "hm",
      "mount_file_id": "1PmLwg15_LLWgJDQ3w5YJQylDPuAGO1rU",
      "authorship_tag": "ABX9TyM1BSOdeQ5pJUXKMUNum31S",
      "include_colab_link": true
    },
    "kernelspec": {
      "name": "python3",
      "display_name": "Python 3"
    }
  },
  "cells": [
    {
      "cell_type": "markdown",
      "metadata": {
        "id": "view-in-github",
        "colab_type": "text"
      },
      "source": [
        "<a href=\"https://colab.research.google.com/github/RachitBansal/RedditFlairDetector/blob/master/3_Modelling_ML.ipynb\" target=\"_parent\"><img src=\"https://colab.research.google.com/assets/colab-badge.svg\" alt=\"Open In Colab\"/></a>"
      ]
    },
    {
      "cell_type": "markdown",
      "metadata": {
        "id": "UC1at0Vi_jCY",
        "colab_type": "text"
      },
      "source": [
        "# ML Models for Reddit Flair Detection\n",
        "\n",
        "In this notebook, we will train and test various ML Models on r/India subreddit data [collected](https://colab.research.google.com/drive/18kM91eTDQ7FlJvQ5oZeR_1kW77kc4HM1#scrollTo=7DtIFLibMBiI) and [preprocessed](https://colab.research.google.com/drive/1Ee_jw9_awzBUfF923tx5yfC6hsGIyvaL) previously."
      ]
    },
    {
      "cell_type": "markdown",
      "metadata": {
        "id": "4We2zrAbAIj6",
        "colab_type": "text"
      },
      "source": [
        "## Importing the necessary dependencies"
      ]
    },
    {
      "cell_type": "code",
      "metadata": {
        "id": "WA7ZfYrdBzzy",
        "colab_type": "code",
        "colab": {}
      },
      "source": [
        "import pandas as pd\n",
        "import numpy as np"
      ],
      "execution_count": 0,
      "outputs": []
    },
    {
      "cell_type": "code",
      "metadata": {
        "id": "8LLvKgftCBAA",
        "colab_type": "code",
        "outputId": "cee63b56-960b-47e9-a48a-8572328df7cd",
        "colab": {
          "base_uri": "https://localhost:8080/",
          "height": 124
        }
      },
      "source": [
        "from google.colab import drive\n",
        "drive.mount('drive', force_remount=True)"
      ],
      "execution_count": 0,
      "outputs": [
        {
          "output_type": "stream",
          "text": [
            "Go to this URL in a browser: https://accounts.google.com/o/oauth2/auth?client_id=947318989803-6bn6qk8qdgf4n4g3pfee6491hc0brc4i.apps.googleusercontent.com&redirect_uri=urn%3aietf%3awg%3aoauth%3a2.0%3aoob&response_type=code&scope=email%20https%3a%2f%2fwww.googleapis.com%2fauth%2fdocs.test%20https%3a%2f%2fwww.googleapis.com%2fauth%2fdrive%20https%3a%2f%2fwww.googleapis.com%2fauth%2fdrive.photos.readonly%20https%3a%2f%2fwww.googleapis.com%2fauth%2fpeopleapi.readonly\n",
            "\n",
            "Enter your authorization code:\n",
            "··········\n",
            "Mounted at drive\n"
          ],
          "name": "stdout"
        }
      ]
    },
    {
      "cell_type": "code",
      "metadata": {
        "id": "Bk2KH9v8er_6",
        "colab_type": "code",
        "outputId": "7d387da2-6fef-4f19-bff0-4ca6a9f4efbd",
        "colab": {
          "base_uri": "https://localhost:8080/",
          "height": 332
        }
      },
      "source": [
        "!pip install contractions"
      ],
      "execution_count": 0,
      "outputs": [
        {
          "output_type": "stream",
          "text": [
            "Collecting contractions\n",
            "  Downloading https://files.pythonhosted.org/packages/85/41/c3dfd5feb91a8d587ed1a59f553f07c05f95ad4e5d00ab78702fbf8fe48a/contractions-0.0.24-py2.py3-none-any.whl\n",
            "Collecting textsearch\n",
            "  Downloading https://files.pythonhosted.org/packages/42/a8/03407021f9555043de5492a2bd7a35c56cc03c2510092b5ec018cae1bbf1/textsearch-0.0.17-py2.py3-none-any.whl\n",
            "Collecting pyahocorasick\n",
            "\u001b[?25l  Downloading https://files.pythonhosted.org/packages/f4/9f/f0d8e8850e12829eea2e778f1c90e3c53a9a799b7f412082a5d21cd19ae1/pyahocorasick-1.4.0.tar.gz (312kB)\n",
            "\u001b[K     |████████████████████████████████| 317kB 2.9MB/s \n",
            "\u001b[?25hCollecting Unidecode\n",
            "\u001b[?25l  Downloading https://files.pythonhosted.org/packages/d0/42/d9edfed04228bacea2d824904cae367ee9efd05e6cce7ceaaedd0b0ad964/Unidecode-1.1.1-py2.py3-none-any.whl (238kB)\n",
            "\u001b[K     |████████████████████████████████| 245kB 50.7MB/s \n",
            "\u001b[?25hBuilding wheels for collected packages: pyahocorasick\n",
            "  Building wheel for pyahocorasick (setup.py) ... \u001b[?25l\u001b[?25hdone\n",
            "  Created wheel for pyahocorasick: filename=pyahocorasick-1.4.0-cp36-cp36m-linux_x86_64.whl size=81701 sha256=1dcc19d642bd56a4d691f116be74c0fcc295e929c0f2a8d13f0763fea31a0f90\n",
            "  Stored in directory: /root/.cache/pip/wheels/0a/90/61/87a55f5b459792fbb2b7ba6b31721b06ff5cf6bde541b40994\n",
            "Successfully built pyahocorasick\n",
            "Installing collected packages: pyahocorasick, Unidecode, textsearch, contractions\n",
            "Successfully installed Unidecode-1.1.1 contractions-0.0.24 pyahocorasick-1.4.0 textsearch-0.0.17\n"
          ],
          "name": "stdout"
        }
      ]
    },
    {
      "cell_type": "code",
      "metadata": {
        "id": "JlFy_Yi2a3Xy",
        "colab_type": "code",
        "outputId": "b36def60-15fa-4af5-e209-eee854ea2e22",
        "colab": {
          "base_uri": "https://localhost:8080/",
          "height": 72
        }
      },
      "source": [
        "import nltk\n",
        "from nltk.stem import WordNetLemmatizer\n",
        "from sklearn.model_selection import train_test_split\n",
        "from sklearn.feature_extraction.text import CountVectorizer, TfidfTransformer\n",
        "from sklearn.metrics import accuracy_score, confusion_matrix\n",
        "from sklearn.pipeline import make_pipeline\n",
        "from nltk.corpus import stopwords\n",
        "import re\n",
        "from sklearn.metrics import classification_report\n",
        "import matplotlib.pyplot as plt\n",
        "import seaborn as sns\n",
        "import contractions\n",
        "import pickle"
      ],
      "execution_count": 0,
      "outputs": [
        {
          "output_type": "stream",
          "text": [
            "/usr/local/lib/python3.6/dist-packages/statsmodels/tools/_testing.py:19: FutureWarning: pandas.util.testing is deprecated. Use the functions in the public API at pandas.testing instead.\n",
            "  import pandas.util.testing as tm\n"
          ],
          "name": "stderr"
        }
      ]
    },
    {
      "cell_type": "code",
      "metadata": {
        "id": "99QtVfS2vHYO",
        "colab_type": "code",
        "colab": {}
      },
      "source": [
        "from sklearn.metrics import roc_curve\n",
        "from sklearn.metrics import roc_auc_score\n",
        "from matplotlib import pyplot"
      ],
      "execution_count": 0,
      "outputs": []
    },
    {
      "cell_type": "code",
      "metadata": {
        "id": "IbE_vTlgc7iv",
        "colab_type": "code",
        "colab": {}
      },
      "source": [
        "nltk.download('all')"
      ],
      "execution_count": 0,
      "outputs": []
    },
    {
      "cell_type": "markdown",
      "metadata": {
        "id": "NsTLEbl5AdAX",
        "colab_type": "text"
      },
      "source": [
        "## Preprocessing the data using RegExp"
      ]
    },
    {
      "cell_type": "code",
      "metadata": {
        "id": "IlrzA1KJbVqW",
        "colab_type": "code",
        "colab": {}
      },
      "source": [
        "wnl = WordNetLemmatizer()\n",
        "remove =set(stopwords.words('english'))\n",
        "\n",
        "def process(words):\n",
        "    words =str(words)\n",
        "    words=re.sub('([.,////])',' ',words)\n",
        "    words=re.sub('\\[.*?\\]', '', words)\n",
        "    words = words.replace('\\n', ' ')\n",
        "    try:\n",
        "      words = contractions.fix(words)\n",
        "    except:\n",
        "      pass\n",
        "    word_list = nltk.word_tokenize(re.sub(r'([^a-z A-Z])', '', words.lower()))\n",
        "    comment = ' '.join([wnl.lemmatize(w) for w in word_list if w not in remove])\n",
        "    \n",
        "    return comment\n",
        "\n",
        "def processURL(words):\n",
        "  # words = words.split('://')[1]\n",
        "  words = words.split('/')\n",
        "  seq = ' '.join(words)\n",
        "  seq = re.sub(\"[^a-zA-Z]\", \" \", seq)\n",
        "  seq = re.sub(\" +\", \" \", seq).strip()\n",
        "  return seq"
      ],
      "execution_count": 0,
      "outputs": []
    },
    {
      "cell_type": "code",
      "metadata": {
        "id": "iP8lH2aqvo9T",
        "colab_type": "code",
        "outputId": "a8cafca5-223d-4a69-f2bb-809c5972da1f",
        "colab": {
          "base_uri": "https://localhost:8080/",
          "height": 34
        }
      },
      "source": [
        "import os\n",
        "os.listdir"
      ],
      "execution_count": 0,
      "outputs": [
        {
          "output_type": "execute_result",
          "data": {
            "text/plain": [
              "<function posix.listdir>"
            ]
          },
          "metadata": {
            "tags": []
          },
          "execution_count": 45
        }
      ]
    },
    {
      "cell_type": "code",
      "metadata": {
        "id": "q8_M-vuhbGga",
        "colab_type": "code",
        "colab": {}
      },
      "source": [
        "data = pd.read_csv('./drive/My Drive/rMIDAS_bal_2.csv')"
      ],
      "execution_count": 0,
      "outputs": []
    },
    {
      "cell_type": "code",
      "metadata": {
        "id": "qNxrcshkq8xx",
        "colab_type": "code",
        "colab": {}
      },
      "source": [
        "data['title'] = data['title'].apply(process)\n",
        "data['selftext'] = data['selftext'].apply(process)\n",
        "data['url'] = data['url'].apply(processURL)"
      ],
      "execution_count": 0,
      "outputs": []
    },
    {
      "cell_type": "markdown",
      "metadata": {
        "id": "FE2oVPASa3vP",
        "colab_type": "text"
      },
      "source": [
        "## Logistic Regression"
      ]
    },
    {
      "cell_type": "code",
      "metadata": {
        "id": "-PzUlY3W5yMj",
        "colab_type": "code",
        "colab": {}
      },
      "source": [
        "from sklearn.pipeline import FeatureUnion\n",
        "from sklearn.preprocessing import FunctionTransformer\n",
        "from sklearn.pipeline import Pipeline\n",
        "\n",
        "def lr(X,y):\n",
        "    from sklearn.linear_model import LogisticRegression\n",
        "    \n",
        "    X_train, X_test, y_train, y_test = train_test_split(X, y, test_size=0.2,random_state=100)\n",
        "    logreg = make_pipeline(CountVectorizer(), TfidfTransformer(), LogisticRegression(C=1, penalty = 'l1', solver = 'liblinear'))\n",
        "    \n",
        "    logreg.fit(X_train, y_train)\n",
        "    y_pred = logreg.predict(X_test)\n",
        "    \n",
        "    train_acc = logreg.score(X_train, y_train)\n",
        "    valid_acc = accuracy_score(y_pred, y_test)\n",
        "\n",
        "    print(f'\\tTrain Acc: {train_acc:.3f}')\n",
        "    print(f'\\tVal. Acc: {valid_acc:.3f}')\n",
        "    print(confusion_matrix(y_test,y_pred))\n",
        "    \n",
        "    print(classification_report(y_test, y_pred))"
      ],
      "execution_count": 0,
      "outputs": []
    },
    {
      "cell_type": "code",
      "metadata": {
        "id": "b8NiN7S7sb-1",
        "colab_type": "code",
        "outputId": "04207c68-b131-4a12-f5d3-ae82d5c9c40c",
        "colab": {
          "base_uri": "https://localhost:8080/",
          "height": 610
        }
      },
      "source": [
        "data['total'] = data['title'] + ' ' + data['url']\n",
        "X=data['total']\n",
        "y=data['link_flair_text']\n",
        "\n",
        "lr(X,y)"
      ],
      "execution_count": 0,
      "outputs": [
        {
          "output_type": "stream",
          "text": [
            "\tTrain Acc: 0.659\n",
            "\tVal. Acc: 0.626\n",
            "[[ 6990   117    78     9  1185    45    29    99   404   102    25    18]\n",
            " [  368  1901     7     4   660    10    11   415   117   157     6     3]\n",
            " [  143     3   851     0   228     1    14    20   119    12     1     0]\n",
            " [   68     7     0   165   582    13     7     9    50    16     5     0]\n",
            " [ 1929   253   137    46  9623    78   187   474  1829   342   120    29]\n",
            " [   67    11     3     7   298   347    19    20   150    26    13     1]\n",
            " [   35     3     7     2   318     8   385     1    42     5     5     0]\n",
            " [  308   266    34     3   845    13     7  2851   935   101    10     7]\n",
            " [  661    62    72     7  2139    24    73   497 11384    55    41    22]\n",
            " [  374   195    26     5   870    26    19   103   131  1381     8    10]\n",
            " [   76     4     1     6   318     4     3     4    51     6   745     0]\n",
            " [  611    27     2     8   816     5    12    77   375    30    11   176]]\n",
            "                    precision    recall  f1-score   support\n",
            "\n",
            "          AskIndia       0.60      0.77      0.67      9101\n",
            "  Business/Finance       0.67      0.52      0.58      3659\n",
            "       Coronavirus       0.70      0.61      0.65      1392\n",
            "     Entertainment       0.63      0.18      0.28       922\n",
            "     Non-Political       0.54      0.64      0.58     15047\n",
            "   Not in English.       0.60      0.36      0.45       962\n",
            "       Photography       0.50      0.47      0.49       811\n",
            "    Policy/Economy       0.62      0.53      0.57      5380\n",
            "          Politics       0.73      0.76      0.74     15037\n",
            "Science/Technology       0.62      0.44      0.51      3148\n",
            "            Sports       0.75      0.61      0.67      1218\n",
            "     [R]eddiquette       0.66      0.08      0.15      2150\n",
            "\n",
            "          accuracy                           0.63     58827\n",
            "         macro avg       0.64      0.50      0.53     58827\n",
            "      weighted avg       0.63      0.63      0.61     58827\n",
            "\n"
          ],
          "name": "stdout"
        }
      ]
    },
    {
      "cell_type": "code",
      "metadata": {
        "id": "pualXV2jmPy-",
        "colab_type": "code",
        "outputId": "91e07524-0257-4e32-d95d-b8cb098f1ca6",
        "colab": {
          "base_uri": "https://localhost:8080/",
          "height": 610
        }
      },
      "source": [
        "data['total'] = data['title'] \n",
        "X=data['total']\n",
        "y=data['link_flair_text']\n",
        "\n",
        "lr(X,y)"
      ],
      "execution_count": 0,
      "outputs": [
        {
          "output_type": "stream",
          "text": [
            "\tTrain Acc: 0.637\n",
            "\tVal. Acc: 0.595\n",
            "[[ 5773   189    75    12  2067    39    24   175   554   146    33    14]\n",
            " [  339  1786     6     2   770     5     4   442   128   166     7     4]\n",
            " [  107     5   795     0   323     1     2    17   126    14     1     1]\n",
            " [   70     7     0   122   615     3     7     8    66    15     9     0]\n",
            " [ 1731   307   105    44  9748    31   109   482  1983   363   113    31]\n",
            " [   80    14     0     3   346   285     8    26   162    23    15     0]\n",
            " [   37     4     6     0   420     5   277     4    40    14     4     0]\n",
            " [  262   263    30     2   994     7     3  2748   950   104    11     6]\n",
            " [  440    63    52     9  2406    19    14   522 11394    68    37    13]\n",
            " [  351   201    29     0  1001    12     7   118   129  1287     7     6]\n",
            " [   62     6     2     4   353     6     3     6    64     6   706     0]\n",
            " [  474    35     2     9   991     5     8    87   391    28    13   107]]\n",
            "                    precision    recall  f1-score   support\n",
            "\n",
            "          AskIndia       0.59      0.63      0.61      9101\n",
            "  Business/Finance       0.62      0.49      0.55      3659\n",
            "       Coronavirus       0.72      0.57      0.64      1392\n",
            "     Entertainment       0.59      0.13      0.22       922\n",
            "     Non-Political       0.49      0.65      0.56     15047\n",
            "   Not in English.       0.68      0.30      0.41       962\n",
            "       Photography       0.59      0.34      0.43       811\n",
            "    Policy/Economy       0.59      0.51      0.55      5380\n",
            "          Politics       0.71      0.76      0.73     15037\n",
            "Science/Technology       0.58      0.41      0.48      3148\n",
            "            Sports       0.74      0.58      0.65      1218\n",
            "     [R]eddiquette       0.59      0.05      0.09      2150\n",
            "\n",
            "          accuracy                           0.60     58827\n",
            "         macro avg       0.62      0.45      0.49     58827\n",
            "      weighted avg       0.60      0.60      0.58     58827\n",
            "\n"
          ],
          "name": "stdout"
        }
      ]
    },
    {
      "cell_type": "markdown",
      "metadata": {
        "id": "2WKOR4uBA3n3",
        "colab_type": "text"
      },
      "source": [
        "## Naive Bayes"
      ]
    },
    {
      "cell_type": "code",
      "metadata": {
        "id": "Ff57zgatNBQe",
        "colab_type": "code",
        "colab": {}
      },
      "source": [
        "def NaiveBayes(X,y):\n",
        "  \n",
        "    from sklearn.naive_bayes import MultinomialNB\n",
        "    X_train, X_test, y_train, y_test = train_test_split(X, y, test_size=0.3,random_state=100)\n",
        "\n",
        "    nb = make_pipeline(CountVectorizer(),TfidfTransformer(),MultinomialNB(alpha=2))\n",
        "    nb.fit(X_train, y_train)\n",
        "\n",
        "    y_pred = nb.predict(X_test)\n",
        "\n",
        "    train_acc = nb.score(X_train, y_train)\n",
        "    valid_acc = accuracy_score(y_pred, y_test)\n",
        "\n",
        "    print(f'\\tTrain Acc: {train_acc:.3f}')\n",
        "    print(f'\\tVal. Acc: {valid_acc:.3f}')\n",
        "    print(confusion_matrix(y_test,y_pred))\n",
        "    print(classification_report(y_test, y_pred))\n",
        "\n",
        "    pickle.dump(nb, open(\"./drive/My Drive/model_nb.pkl\", \"wb\"))"
      ],
      "execution_count": 0,
      "outputs": []
    },
    {
      "cell_type": "code",
      "metadata": {
        "id": "B2zs5VgpkTkq",
        "colab_type": "code",
        "outputId": "3fc2d608-85d6-4812-eccf-fe5e9937472d",
        "colab": {
          "base_uri": "https://localhost:8080/",
          "height": 645
        }
      },
      "source": [
        "data['total'] = data['title'] + ' ' + data['url']\n",
        "X=data['total']\n",
        "y=data['link_flair_text']\n",
        "\n",
        "NaiveBayes(X,y)"
      ],
      "execution_count": 0,
      "outputs": [
        {
          "output_type": "stream",
          "text": [
            "\tTrain Acc: 0.530\n",
            "\tVal. Acc: 0.496\n",
            "[[ 6397    14     0     0  5976     7     0    13  1308     2     0     1]\n",
            " [  338   788     0     0  3315     0     0   223   777     1     0     0]\n",
            " [   88     0     2     0  1354     1     0     2   634     0     0     0]\n",
            " [   31     0     0     0  1180     0     0     1   142     1     0     0]\n",
            " [ 1254     3     0     0 16230     2     0    92  5008     9     0     0]\n",
            " [   90     1     0     0   881    61     0     2   362     0     0     0]\n",
            " [    6     0     0     0  1127     3     0     0    84     0     0     0]\n",
            " [  181     0     0     0  2670     1     0   900  4349     2     0     0]\n",
            " [  225     0     0     0  3073     3     0    45 19223     0     0     0]\n",
            " [  320     6     0     0  3818     0     0    14   481   116     0     0]\n",
            " [   31     2     0     0  1469     1     0     0   339     0     6     0]\n",
            " [  455     2     0     0  1794     1     0     9   892     0     0     1]]\n"
          ],
          "name": "stdout"
        },
        {
          "output_type": "stream",
          "text": [
            "/usr/local/lib/python3.6/dist-packages/sklearn/metrics/_classification.py:1272: UndefinedMetricWarning: Precision and F-score are ill-defined and being set to 0.0 in labels with no predicted samples. Use `zero_division` parameter to control this behavior.\n",
            "  _warn_prf(average, modifier, msg_start, len(result))\n"
          ],
          "name": "stderr"
        },
        {
          "output_type": "stream",
          "text": [
            "                    precision    recall  f1-score   support\n",
            "\n",
            "          AskIndia       0.68      0.47      0.55     13718\n",
            "  Business/Finance       0.97      0.14      0.25      5442\n",
            "       Coronavirus       1.00      0.00      0.00      2081\n",
            "     Entertainment       0.00      0.00      0.00      1355\n",
            "     Non-Political       0.38      0.72      0.50     22598\n",
            "   Not in English.       0.76      0.04      0.08      1397\n",
            "       Photography       0.00      0.00      0.00      1220\n",
            "    Policy/Economy       0.69      0.11      0.19      8103\n",
            "          Politics       0.57      0.85      0.68     22569\n",
            "Science/Technology       0.89      0.02      0.05      4755\n",
            "            Sports       1.00      0.00      0.01      1848\n",
            "     [R]eddiquette       0.50      0.00      0.00      3154\n",
            "\n",
            "          accuracy                           0.50     88240\n",
            "         macro avg       0.62      0.20      0.19     88240\n",
            "      weighted avg       0.59      0.50      0.43     88240\n",
            "\n"
          ],
          "name": "stdout"
        }
      ]
    },
    {
      "cell_type": "code",
      "metadata": {
        "id": "dXEl8Ljqe8HT",
        "colab_type": "code",
        "outputId": "966df5ae-ac3c-44bf-b2e5-4d888845ff4d",
        "colab": {
          "base_uri": "https://localhost:8080/",
          "height": 645
        }
      },
      "source": [
        "data['total'] = data['title'] + ' ' + data['selftext'] + ' ' + data['url']\n",
        "X=data['total']\n",
        "y=data['link_flair_text']\n",
        "\n",
        "NaiveBayes(X,y)"
      ],
      "execution_count": 0,
      "outputs": [
        {
          "output_type": "stream",
          "text": [
            "\tTrain Acc: 0.541\n",
            "\tVal. Acc: 0.512\n",
            "[[ 9202    12     0     0  3649     7     0     6   841     1     0     0]\n",
            " [  596   732     0     0  3257     1     0   167   689     0     0     0]\n",
            " [  260     0     2     0  1289     1     0     3   526     0     0     0]\n",
            " [   59     0     0     0  1170     0     0     0   125     1     0     0]\n",
            " [ 2469     2     0     0 15603     4     0    72  4443     5     0     0]\n",
            " [   89     1     0     0   898    36     0     1   372     0     0     0]\n",
            " [   22     0     0     0  1126     1     0     0    71     0     0     0]\n",
            " [  422     0     0     0  2855     1     0   763  4061     1     0     0]\n",
            " [  522     0     0     0  3221     3     0    34 18789     0     0     0]\n",
            " [  581     3     0     0  3664     0     0     6   411    90     0     0]\n",
            " [   49     1     0     0  1493     1     0     0   299     0     5     0]\n",
            " [  802     1     0     0  1560     1     0     5   785     0     0     0]]\n"
          ],
          "name": "stdout"
        },
        {
          "output_type": "stream",
          "text": [
            "/usr/local/lib/python3.6/dist-packages/sklearn/metrics/_classification.py:1272: UndefinedMetricWarning: Precision and F-score are ill-defined and being set to 0.0 in labels with no predicted samples. Use `zero_division` parameter to control this behavior.\n",
            "  _warn_prf(average, modifier, msg_start, len(result))\n"
          ],
          "name": "stderr"
        },
        {
          "output_type": "stream",
          "text": [
            "                    precision    recall  f1-score   support\n",
            "\n",
            "          AskIndia       0.61      0.67      0.64     13718\n",
            "  Business/Finance       0.97      0.13      0.24      5442\n",
            "       Coronavirus       1.00      0.00      0.00      2081\n",
            "     Entertainment       0.00      0.00      0.00      1355\n",
            "     Non-Political       0.39      0.69      0.50     22598\n",
            "   Not in English.       0.64      0.03      0.05      1397\n",
            "       Photography       0.00      0.00      0.00      1220\n",
            "    Policy/Economy       0.72      0.09      0.17      8103\n",
            "          Politics       0.60      0.83      0.70     22569\n",
            "Science/Technology       0.92      0.02      0.04      4755\n",
            "            Sports       1.00      0.00      0.01      1848\n",
            "     [R]eddiquette       0.00      0.00      0.00      3154\n",
            "\n",
            "          accuracy                           0.51     88240\n",
            "         macro avg       0.57      0.21      0.19     88240\n",
            "      weighted avg       0.58      0.51      0.44     88240\n",
            "\n"
          ],
          "name": "stdout"
        }
      ]
    },
    {
      "cell_type": "markdown",
      "metadata": {
        "id": "TVdexaR_A6OQ",
        "colab_type": "text"
      },
      "source": [
        "## SVM Classifier"
      ]
    },
    {
      "cell_type": "code",
      "metadata": {
        "id": "3AYVF41wNh7m",
        "colab_type": "code",
        "colab": {}
      },
      "source": [
        "def svm(X,y):\n",
        "    from sklearn.linear_model import SGDClassifier\n",
        "    X_train, X_test, y_train, y_test = train_test_split(X, y, test_size=0.3,random_state=100)\n",
        "\n",
        "    sgd = make_pipeline(CountVectorizer(),TfidfTransformer(),SGDClassifier(alpha=0.001, penalty='elasticnet'))\n",
        "\n",
        "    sgd.fit(X_train, y_train)\n",
        "\n",
        "    y_pred = sgd.predict(X_test)\n",
        "    \n",
        "    train_acc = sgd.score(X_train, y_train)\n",
        "    valid_acc = accuracy_score(y_pred, y_test)\n",
        "\n",
        "    print(f'\\tTrain Acc: {train_acc:.3f}')\n",
        "    print(f'\\tVal. Acc: {valid_acc:.3f}')\n",
        "    print(confusion_matrix(y_test,y_pred))\n",
        "    print(classification_report(y_test, y_pred))\n",
        "\n",
        "    pickle.dump(sgd, open(\"./drive/My Drive/model_sgd.pkl\", \"wb\"))"
      ],
      "execution_count": 0,
      "outputs": []
    },
    {
      "cell_type": "code",
      "metadata": {
        "id": "PByIU7GSk_72",
        "colab_type": "code",
        "outputId": "ad5d15a2-d1a1-44be-d3f3-ea71f7bd6c16",
        "colab": {
          "base_uri": "https://localhost:8080/",
          "height": 1000
        }
      },
      "source": [
        "data['total'] = data['title'] + ' ' + data['url']\n",
        "X=data['total']\n",
        "y=data['link_flair_text']\n",
        "\n",
        "svm(X,y)"
      ],
      "execution_count": 0,
      "outputs": [
        {
          "output_type": "stream",
          "text": [
            "\tTrain Acc: 0.497\n",
            "\tVal. Acc: 0.495\n",
            "[[   29    74     3     4     0     0     0     0   287     0     0     0\n",
            "      0     0    11    90     0     0     0     0     0     0     0     0]\n",
            " [  135  8610    74    96     0     0     0     0  2605     0     0     0\n",
            "      0     0   286  1861     0     0     0     0     2     0     0     0]\n",
            " [  129   686   845    10     0     0     0     0  2054     0     0     0\n",
            "      0     0   742  1211     0     0     0     0     1     0     0     0]\n",
            " [    4   289     2   864     0     0     0     0   407     0     0     0\n",
            "      0     0     6   527     0     0     0     0     0     0     0     0]\n",
            " [   27   116     6     0     0     0     0     0   903     0     0     0\n",
            "      0     0     9   276     0     0     0     0     0     0     0     0]\n",
            " [   31   202     5     7     0     0     0     0   611     0     0     0\n",
            "      0     0    10   149     0     0     0     0     2     0     0     0]\n",
            " [    0   168     0     8     0     0     0     0    38     0     0     0\n",
            "      0     0    17   120     0     0     0     0     0     0     0     0]\n",
            " [    0    86     0     0     0     0     0     0    42     0     0     0\n",
            "      0     0     3    31     0     0     0     0     0     0     0     0]\n",
            " [  452  6693   110   229     0     0     0     0 21428     0     0     0\n",
            "      0     0   953 15372     0     0     0     0    35     0     0     0]\n",
            " [    3     3     2     0     0     0     0     0   249     0     0     0\n",
            "      0     0    25   336     0     0     0     0     0     0     0     0]\n",
            " [    9    73     4     0     0     0     0     0   391     0     0     0\n",
            "      0     0    13   279     0     0     0     0     0     0     0     0]\n",
            " [  271    63     4     0     0     0     0     0   590     0     0     0\n",
            "      0     0    34   424     0     0     0     0     3     0     0     0]\n",
            " [   12   113     0     2     0     0     0     0   905     0     0     0\n",
            "      0     0    13   233     0     0     0     0     0     0     0     0]\n",
            " [    6    51     9     0     0     0     0     0   141     0     0     0\n",
            "      0     0   100   391     0     0     0     0     0     0     0     0]\n",
            " [   52   386    28    37     0     0     0     0  1375     0     0     0\n",
            "      0     0  2229  4006     0     0     0     0     1     0     0     0]\n",
            " [   87  1416    11    48     0     0     0     0  4912     0     0     0\n",
            "      0     0   415 32103     0     0     0     0     4     0     0     0]\n",
            " [    6    23     0     0     0     0     0     0   178     0     0     0\n",
            "      0     0    52   451     0     0     0     0     0     0     0     0]\n",
            " [    1     8     1     0     0     0     0     0   118     0     0     0\n",
            "      0     0    24   234     0     0     0     0     2     0     0     0]\n",
            " [    8    45    20     1     0     0     0     0   390     0     0     0\n",
            "      0     0     5    65     0     0     0     0     0     0     0     0]\n",
            " [  149   703    61    33     0     0     0     0  2341     0     0     0\n",
            "      0     0   167  1379     0     0     0     0     1     0     0     0]\n",
            " [  136   177     9     5     0     0     0     0   815     0     0     0\n",
            "      0     0    20   590     0     0     0     0   103     0     0     0]\n",
            " [    4    20     0     0     0     0     0     0    38     0     0     0\n",
            "      0     0    75   107     0     0     0     0     0     0     0     0]\n",
            " [    0     8     0     0     0     0     0     0   138     0     0     0\n",
            "      0     0     6   139     0     0     0     0     0     0     0     0]\n",
            " [   25   884    17     0     0     0     0     0   975     0     0     0\n",
            "      0     0    57  1126     0     0     0     0     0     0     0     0]]\n"
          ],
          "name": "stdout"
        },
        {
          "output_type": "stream",
          "text": [
            "/usr/local/lib/python3.6/dist-packages/sklearn/metrics/_classification.py:1272: UndefinedMetricWarning: Precision and F-score are ill-defined and being set to 0.0 in labels with no predicted samples. Use `zero_division` parameter to control this behavior.\n",
            "  _warn_prf(average, modifier, msg_start, len(result))\n"
          ],
          "name": "stderr"
        },
        {
          "output_type": "stream",
          "text": [
            "                       precision    recall  f1-score   support\n",
            "\n",
            "            All CAPS.       0.02      0.06      0.03       498\n",
            "             AskIndia       0.41      0.63      0.50     13669\n",
            "     Business/Finance       0.70      0.15      0.25      5678\n",
            "          Coronavirus       0.64      0.41      0.50      2099\n",
            "        Entertainment       0.00      0.00      0.00      1337\n",
            "                 Food       0.00      0.00      0.00      1017\n",
            "Low-effort self-post.       0.00      0.00      0.00       351\n",
            "                Meta.       0.00      0.00      0.00       162\n",
            "        Non-Political       0.51      0.47      0.49     45272\n",
            "  Not Original Title.       0.00      0.00      0.00       618\n",
            "     Not about India.       0.00      0.00      0.00       769\n",
            "      Not in English.       0.00      0.00      0.00      1389\n",
            "          Photography       0.00      0.00      0.00      1278\n",
            "               Policy       0.00      0.00      0.00       698\n",
            "       Policy/Economy       0.42      0.27      0.33      8114\n",
            "             Politics       0.52      0.82      0.64     38996\n",
            "              Repost.       0.00      0.00      0.00       710\n",
            "              Repost;       0.00      0.00      0.00       388\n",
            "            Scheduled       0.00      0.00      0.00       534\n",
            "   Science/Technology       0.00      0.00      0.00      4834\n",
            "               Sports       0.67      0.06      0.10      1855\n",
            "      Stickied Topic.       0.00      0.00      0.00       244\n",
            "  Unverified Content.       0.00      0.00      0.00       291\n",
            "        [R]eddiquette       0.00      0.00      0.00      3084\n",
            "\n",
            "             accuracy                           0.49    133885\n",
            "            macro avg       0.16      0.12      0.12    133885\n",
            "         weighted avg       0.44      0.49      0.44    133885\n",
            "\n"
          ],
          "name": "stdout"
        }
      ]
    },
    {
      "cell_type": "code",
      "metadata": {
        "id": "5KPaMq7plF0f",
        "colab_type": "code",
        "outputId": "c45608ea-b8f2-4e86-ba70-81b05648b695",
        "colab": {
          "base_uri": "https://localhost:8080/",
          "height": 1000
        }
      },
      "source": [
        "data['total'] = data['title']\n",
        "X=data['total']\n",
        "y=data['link_flair_text']\n",
        "\n",
        "svm(X,y)"
      ],
      "execution_count": 0,
      "outputs": [
        {
          "output_type": "stream",
          "text": [
            "\tTrain Acc: 0.399\n",
            "\tVal. Acc: 0.396\n",
            "[[    0   384     2     4     0     0     0     0    47     0     0     0\n",
            "      0     0     3    58     0     0     0     0     0     0     0     0]\n",
            " [    0 10046    67    95     0     4     0     0  1666     0     0     0\n",
            "      0     0   212  1576     0     0     1     0     2     0     0     0]\n",
            " [    0  3573   650    10     0     1     0     0   527     0     0     0\n",
            "      0     0   236   680     0     0     0     0     1     0     0     0]\n",
            " [    0   701     2   863     0     0     0     0   113     0     0     0\n",
            "      0     0     4   416     0     0     0     0     0     0     0     0]\n",
            " [    0   754     3     0     0     0     0     0   390     0     0     0\n",
            "      0     0     7   183     0     0     0     0     0     0     0     0]\n",
            " [    0   749     6     5     0    88     0     0   100     0     0     0\n",
            "      0     0     1    66     0     0     0     0     2     0     0     0]\n",
            " [    0   171     0     8     0     0     0     0    44     0     0     0\n",
            "      0     0    14   113     0     0     0     0     1     0     0     0]\n",
            " [    0   119     0     0     0     0     0     0    11     0     0     0\n",
            "      0     0     3    29     0     0     0     0     0     0     0     0]\n",
            " [    0 24157   156   218     0    11     0     0 10928     0     0     0\n",
            "      0     0   531  9210     0     0     1     0    60     0     0     0]\n",
            " [    0   309     2     0     0     0     0     0    88     0     0     0\n",
            "      0     0    23   196     0     0     0     0     0     0     0     0]\n",
            " [    0   432     5     0     0     1     0     0   113     0     0     0\n",
            "      0     0     9   209     0     0     0     0     0     0     0     0]\n",
            " [    0   951     1     0     0     3     0     0   126     0     0     0\n",
            "      0     0    18   286     0     0     0     0     4     0     0     0]\n",
            " [    0   851     7     3     0     0     0     0   250     0     0     0\n",
            "      0     0    10   157     0     0     0     0     0     0     0     0]\n",
            " [    0   324    10     0     0     0     0     0    66     0     0     0\n",
            "      0     0    42   255     0     0     0     0     1     0     0     0]\n",
            " [    0  3145    53    37     0     0     0     0   471     0     0     0\n",
            "      0     0  1717  2690     0     0     0     0     1     0     0     0]\n",
            " [    0  8014    35    45     0     4     0     0  1987     0     0     0\n",
            "      0     0   303 28598     0     0     0     0    10     0     0     0]\n",
            " [    0   202     1     0     0     1     0     0   103     0     0     0\n",
            "      0     0    51   352     0     0     0     0     0     0     0     0]\n",
            " [    0    91     1     0     0     0     0     0    83     0     0     0\n",
            "      0     0    21   189     0     0     0     0     3     0     0     0]\n",
            " [    0   148    18     1     0     0     0     0   286     0     0     0\n",
            "      0     0     4    44     0     0    33     0     0     0     0     0]\n",
            " [    0  3624    77    30     0     0     0     0   393     0     0     0\n",
            "      0     0   104   605     0     0     0     0     1     0     0     0]\n",
            " [    0  1154     5     5     0     0     0     0   231     0     0     0\n",
            "      0     0     5   343     0     0     0     0   112     0     0     0]\n",
            " [    0    61     0     0     0     1     0     0    12     0     0     0\n",
            "      0     0    77    93     0     0     0     0     0     0     0     0]\n",
            " [    0   140     0     0     0     0     0     0    21     0     0     0\n",
            "      0     0     7   123     0     0     0     0     0     0     0     0]\n",
            " [    0  1588    19     0     0     0     0     0   705     0     0     0\n",
            "      0     0    32   740     0     0     0     0     0     0     0     0]]\n"
          ],
          "name": "stdout"
        },
        {
          "output_type": "stream",
          "text": [
            "/usr/local/lib/python3.6/dist-packages/sklearn/metrics/_classification.py:1272: UndefinedMetricWarning: Precision and F-score are ill-defined and being set to 0.0 in labels with no predicted samples. Use `zero_division` parameter to control this behavior.\n",
            "  _warn_prf(average, modifier, msg_start, len(result))\n"
          ],
          "name": "stderr"
        },
        {
          "output_type": "stream",
          "text": [
            "                       precision    recall  f1-score   support\n",
            "\n",
            "            All CAPS.       0.00      0.00      0.00       498\n",
            "             AskIndia       0.16      0.73      0.27     13669\n",
            "     Business/Finance       0.58      0.11      0.19      5678\n",
            "          Coronavirus       0.65      0.41      0.50      2099\n",
            "        Entertainment       0.00      0.00      0.00      1337\n",
            "                 Food       0.77      0.09      0.16      1017\n",
            "Low-effort self-post.       0.00      0.00      0.00       351\n",
            "                Meta.       0.00      0.00      0.00       162\n",
            "        Non-Political       0.58      0.24      0.34     45272\n",
            "  Not Original Title.       0.00      0.00      0.00       618\n",
            "     Not about India.       0.00      0.00      0.00       769\n",
            "      Not in English.       0.00      0.00      0.00      1389\n",
            "          Photography       0.00      0.00      0.00      1278\n",
            "               Policy       0.00      0.00      0.00       698\n",
            "       Policy/Economy       0.50      0.21      0.30      8114\n",
            "             Politics       0.61      0.73      0.66     38996\n",
            "              Repost.       0.00      0.00      0.00       710\n",
            "              Repost;       0.00      0.00      0.00       388\n",
            "            Scheduled       0.94      0.06      0.12       534\n",
            "   Science/Technology       0.00      0.00      0.00      4834\n",
            "               Sports       0.57      0.06      0.11      1855\n",
            "      Stickied Topic.       0.00      0.00      0.00       244\n",
            "  Unverified Content.       0.00      0.00      0.00       291\n",
            "        [R]eddiquette       0.00      0.00      0.00      3084\n",
            "\n",
            "             accuracy                           0.40    133885\n",
            "            macro avg       0.22      0.11      0.11    133885\n",
            "         weighted avg       0.47      0.40      0.37    133885\n",
            "\n"
          ],
          "name": "stdout"
        }
      ]
    },
    {
      "cell_type": "code",
      "metadata": {
        "id": "Yl4zQ9JuO0T5",
        "colab_type": "code",
        "outputId": "b1774c49-a1ae-448d-845b-032460d990f9",
        "colab": {
          "base_uri": "https://localhost:8080/",
          "height": 1000
        }
      },
      "source": [
        "data['total'] = data['title'] + ' ' + data['selftext'] + ' ' + data['url']\n",
        "X=data['total']\n",
        "y=data['link_flair_text']\n",
        "\n",
        "svm(X,y)"
      ],
      "execution_count": 0,
      "outputs": [
        {
          "output_type": "stream",
          "text": [
            "\tTrain Acc: 0.486\n",
            "\tVal. Acc: 0.485\n",
            "[[    0    56     0     4     0     0     0     0   308     0     0     0\n",
            "      0    22     1   107     0     0     0     0     0     0     0     0]\n",
            " [    0  1988    42   117     0     0     0     0  9046     0     0     0\n",
            "      0    63   146  2266     0     0     0     0     1     0     0     0]\n",
            " [    0   255   805    11     0     0     0     0  3134     0     0     0\n",
            "      0   198   165  1110     0     0     0     0     0     0     0     0]\n",
            " [    0    56     1   898     0     0     0     0   516     0     0     0\n",
            "      0    57     4   567     0     0     0     0     0     0     0     0]\n",
            " [    0    15     1     0     0     0     0     0  1018     0     0     0\n",
            "      0    14     3   286     0     0     0     0     0     0     0     0]\n",
            " [    0    50     3     7     0     2     0     0   774     0     0     0\n",
            "      0    17     0   162     0     0     0     0     2     0     0     0]\n",
            " [    0    84     0     8     0     0     0     0   152     0     0     0\n",
            "      0     0    10    96     0     0     0     0     1     0     0     0]\n",
            " [    0    58     0     0     0     0     0     0    76     0     0     0\n",
            "      0     0     1    27     0     0     0     0     0     0     0     0]\n",
            " [    0  1036    24   241     0     0     0     0 27284     0     0     0\n",
            "      0   453   316 15910     0     0     0     0     8     0     0     0]\n",
            " [    0     3     0     0     0     0     0     0   276     0     0     0\n",
            "      0     3    11   325     0     0     0     0     0     0     0     0]\n",
            " [    0    37     0     0     0     0     0     0   449     0     0     0\n",
            "      0     5     8   270     0     0     0     0     0     0     0     0]\n",
            " [    0    22     0     0     0     0     0     0   708     0     0     0\n",
            "      0   212     8   436     0     0     0     0     3     0     0     0]\n",
            " [    0    22     5     3     0     0     0     0   989     0     0     0\n",
            "      0    35    10   214     0     0     0     0     0     0     0     0]\n",
            " [    0    12     0     0     0     0     0     0   232     0     0     0\n",
            "      0    16    34   404     0     0     0     0     0     0     0     0]\n",
            " [    0   125    11    40     0     0     0     0  2444     0     0     0\n",
            "      0   297  1243  3953     0     0     0     0     1     0     0     0]\n",
            " [    0   236     5    57     0     0     0     0  5728     0     0     0\n",
            "      0   153   164 32652     0     0     0     0     1     0     0     0]\n",
            " [    0    13     0     0     0     0     0     0   206     0     0     0\n",
            "      0     8    35   448     0     0     0     0     0     0     0     0]\n",
            " [    0     2     1     0     0     0     0     0   138     0     0     0\n",
            "      0     9     3   234     0     0     0     0     1     0     0     0]\n",
            " [    0    10     3     1     0     0     0     0   370     0     0     0\n",
            "      0     5     0   145     0     0     0     0     0     0     0     0]\n",
            " [    0   177    12    33     0     0     0     0  3183     0     0     0\n",
            "      0    81    53  1295     0     0     0     0     0     0     0     0]\n",
            " [    0    40     4     5     0     0     0     0  1119     0     0     0\n",
            "      0    20     5   625     0     0     0     0    37     0     0     0]\n",
            " [    0    18     0     0     0     0     0     0    66     0     0     0\n",
            "      0     2    55   103     0     0     0     0     0     0     0     0]\n",
            " [    0     2     0     0     0     0     0     0   149     0     0     0\n",
            "      0     1     1   138     0     0     0     0     0     0     0     0]\n",
            " [    0   126     5     0     0     0     0     0  1696     0     0     0\n",
            "      0    14    11  1232     0     0     0     0     0     0     0     0]]\n"
          ],
          "name": "stdout"
        },
        {
          "output_type": "stream",
          "text": [
            "/usr/local/lib/python3.6/dist-packages/sklearn/metrics/_classification.py:1272: UndefinedMetricWarning: Precision and F-score are ill-defined and being set to 0.0 in labels with no predicted samples. Use `zero_division` parameter to control this behavior.\n",
            "  _warn_prf(average, modifier, msg_start, len(result))\n"
          ],
          "name": "stderr"
        },
        {
          "output_type": "stream",
          "text": [
            "                       precision    recall  f1-score   support\n",
            "\n",
            "            All CAPS.       0.00      0.00      0.00       498\n",
            "             AskIndia       0.45      0.15      0.22     13669\n",
            "     Business/Finance       0.87      0.14      0.24      5678\n",
            "          Coronavirus       0.63      0.43      0.51      2099\n",
            "        Entertainment       0.00      0.00      0.00      1337\n",
            "                 Food       1.00      0.00      0.00      1017\n",
            "Low-effort self-post.       0.00      0.00      0.00       351\n",
            "                Meta.       0.00      0.00      0.00       162\n",
            "        Non-Political       0.45      0.60      0.52     45272\n",
            "  Not Original Title.       0.00      0.00      0.00       618\n",
            "     Not about India.       0.00      0.00      0.00       769\n",
            "      Not in English.       0.00      0.00      0.00      1389\n",
            "          Photography       0.00      0.00      0.00      1278\n",
            "               Policy       0.01      0.02      0.01       698\n",
            "       Policy/Economy       0.54      0.15      0.24      8114\n",
            "             Politics       0.52      0.84      0.64     38996\n",
            "              Repost.       0.00      0.00      0.00       710\n",
            "              Repost;       0.00      0.00      0.00       388\n",
            "            Scheduled       0.00      0.00      0.00       534\n",
            "   Science/Technology       0.00      0.00      0.00      4834\n",
            "               Sports       0.67      0.02      0.04      1855\n",
            "      Stickied Topic.       0.00      0.00      0.00       244\n",
            "  Unverified Content.       0.00      0.00      0.00       291\n",
            "        [R]eddiquette       0.00      0.00      0.00      3084\n",
            "\n",
            "             accuracy                           0.48    133885\n",
            "            macro avg       0.21      0.10      0.10    133885\n",
            "         weighted avg       0.45      0.48      0.42    133885\n",
            "\n"
          ],
          "name": "stdout"
        }
      ]
    },
    {
      "cell_type": "code",
      "metadata": {
        "id": "fFlMKXclO2G5",
        "colab_type": "code",
        "outputId": "e24d291a-0f88-487b-a1d4-649003885386",
        "colab": {
          "base_uri": "https://localhost:8080/",
          "height": 1000
        }
      },
      "source": [
        "data['total'] = data['title']\n",
        "X=data['total']\n",
        "y=data['link_flair_text']\n",
        "\n",
        "svm(X,y)"
      ],
      "execution_count": 0,
      "outputs": [
        {
          "output_type": "stream",
          "text": [
            "\tTrain Acc: 0.496\n",
            "\tVal. Acc: 0.494\n",
            "[[    0    22     2    11     0     0     0     0   399     0     0     0\n",
            "      0     0     9    53     0     0     0     0     2     0     0     0]\n",
            " [    0  2194   309   446     0     4     0     0  8942     0     0     0\n",
            "      0     0   242  1520     0     0     1     0    11     0     0     0]\n",
            " [    0   234  1004   124     0     1     0     0  3210     0     0     0\n",
            "      0     0   456   646     0     0     0     0     3     0     0     0]\n",
            " [    0    42    11   868     0     0     0     0   749     0     0     0\n",
            "      0     0     8   421     0     0     0     0     0     0     0     0]\n",
            " [    0    68     6    12     0     0     0     0  1070     0     0     0\n",
            "      0     0     6   174     0     0     0     0     1     0     0     0]\n",
            " [    0   108    12    14     0    89     0     0   717     0     0     0\n",
            "      0     0     9    68     0     0     0     0     0     0     0     0]\n",
            " [    0    25     3    10     0     0     0     0   186     0     0     0\n",
            "      0     0    13   113     0     0     0     0     1     0     0     0]\n",
            " [    0    26     0     3     0     0     0     0    98     0     0     0\n",
            "      0     0     2    33     0     0     0     0     0     0     0     0]\n",
            " [    0  2724   566   731     0    10     0     0 31362     0     0     0\n",
            "      0     0   712  9089     0     0     1     0    77     0     0     0]\n",
            " [    0    25     5    11     0     0     0     0   350     0     0     0\n",
            "      0     0    30   195     0     0     0     0     2     0     0     0]\n",
            " [    0    37     3     6     0     1     0     0   499     0     0     0\n",
            "      0     0    14   205     0     0     0     0     4     0     0     0]\n",
            " [    0    33     6    16     0     3     0     0  1024     0     0     0\n",
            "      0     0    19   288     0     0     0     0     0     0     0     0]\n",
            " [    0    42     9     7     0     0     0     0  1073     0     0     0\n",
            "      0     0    12   135     0     0     0     0     0     0     0     0]\n",
            " [    0    21    20    45     0     0     0     0   240     0     0     0\n",
            "      0     0   114   258     0     0     0     0     0     0     0     0]\n",
            " [    0   213   191   426     0     0     0     0  2573     0     0     0\n",
            "      0     0  1985  2723     0     0     0     0     3     0     0     0]\n",
            " [    0   526   132   275     0     2     0     0  9201     0     0     0\n",
            "      0     0   333 28512     0     0     0     0    15     0     0     0]\n",
            " [    0    13     5    10     0     1     0     0   272     0     0     0\n",
            "      0     0    52   357     0     0     0     0     0     0     0     0]\n",
            " [    0     7     5     8     0     0     0     0   174     0     0     0\n",
            "      0     0    18   174     0     0     0     0     2     0     0     0]\n",
            " [    0    27     7     7     0     0     0     0   415     0     0     0\n",
            "      0     0     2    43     0     0    33     0     0     0     0     0]\n",
            " [    0   337   164   157     0     0     0     0  3482     0     0     0\n",
            "      0     0    92   600     0     0     0     0     2     0     0     0]\n",
            " [    0   128    13    15     0     0     0     0  1181     0     0     0\n",
            "      0     0    11   401     0     0     0     0   106     0     0     0]\n",
            " [    0     7     1     3     0     1     0     0    60     0     0     0\n",
            "      0     0    84    88     0     0     0     0     0     0     0     0]\n",
            " [    0    16     0     4     0     0     0     0   149     0     0     0\n",
            "      0     0     7   114     0     0     0     0     1     0     0     0]\n",
            " [    0   219    39    40     0     0     0     0  1999     0     0     0\n",
            "      0     0    39   747     0     0     0     0     1     0     0     0]]\n"
          ],
          "name": "stdout"
        },
        {
          "output_type": "stream",
          "text": [
            "/usr/local/lib/python3.6/dist-packages/sklearn/metrics/_classification.py:1272: UndefinedMetricWarning: Precision and F-score are ill-defined and being set to 0.0 in labels with no predicted samples. Use `zero_division` parameter to control this behavior.\n",
            "  _warn_prf(average, modifier, msg_start, len(result))\n"
          ],
          "name": "stderr"
        },
        {
          "output_type": "stream",
          "text": [
            "                       precision    recall  f1-score   support\n",
            "\n",
            "            All CAPS.       0.00      0.00      0.00       498\n",
            "             AskIndia       0.31      0.16      0.21     13669\n",
            "     Business/Finance       0.40      0.18      0.25      5678\n",
            "          Coronavirus       0.27      0.41      0.32      2099\n",
            "        Entertainment       0.00      0.00      0.00      1337\n",
            "                 Food       0.79      0.09      0.16      1017\n",
            "Low-effort self-post.       0.00      0.00      0.00       351\n",
            "                Meta.       0.00      0.00      0.00       162\n",
            "        Non-Political       0.45      0.69      0.55     45272\n",
            "  Not Original Title.       0.00      0.00      0.00       618\n",
            "     Not about India.       0.00      0.00      0.00       769\n",
            "      Not in English.       0.00      0.00      0.00      1389\n",
            "          Photography       0.00      0.00      0.00      1278\n",
            "               Policy       0.00      0.00      0.00       698\n",
            "       Policy/Economy       0.46      0.24      0.32      8114\n",
            "             Politics       0.61      0.73      0.66     38996\n",
            "              Repost.       0.00      0.00      0.00       710\n",
            "              Repost;       0.00      0.00      0.00       388\n",
            "            Scheduled       0.94      0.06      0.12       534\n",
            "   Science/Technology       0.00      0.00      0.00      4834\n",
            "               Sports       0.46      0.06      0.10      1855\n",
            "      Stickied Topic.       0.00      0.00      0.00       244\n",
            "  Unverified Content.       0.00      0.00      0.00       291\n",
            "        [R]eddiquette       0.00      0.00      0.00      3084\n",
            "\n",
            "             accuracy                           0.49    133885\n",
            "            macro avg       0.20      0.11      0.11    133885\n",
            "         weighted avg       0.43      0.49      0.44    133885\n",
            "\n"
          ],
          "name": "stdout"
        }
      ]
    },
    {
      "cell_type": "markdown",
      "metadata": {
        "id": "La8-K7HtBAAm",
        "colab_type": "text"
      },
      "source": [
        "## Random Forest"
      ]
    },
    {
      "cell_type": "code",
      "metadata": {
        "id": "cJsSvzY4bJUp",
        "colab_type": "code",
        "colab": {}
      },
      "source": [
        "def randomForest(X,y):\n",
        "  \n",
        "    from sklearn.ensemble import RandomForestClassifier\n",
        "\n",
        "    X_train, X_test, y_train, y_test = train_test_split(X, y, test_size=0.3)\n",
        "    rf = make_pipeline(CountVectorizer(),TfidfTransformer(), RandomForestClassifier(criterion = \"gini\", n_estimators=50, bootstrap=True, max_features='sqrt'))\n",
        "    rf.fit(X_train, y_train)\n",
        "\n",
        "    y_pred = rf.predict(X_test)\n",
        "    \n",
        "    train_acc = rf.score(X_train, y_train)\n",
        "    valid_acc = accuracy_score(y_pred, y_test)\n",
        "\n",
        "    print(f'\\tTrain Acc: {train_acc:.3f}')\n",
        "    print(f'\\tVal. Acc: {valid_acc:.3f}')\n",
        "    print(confusion_matrix(y_test,y_pred))\n",
        "    print(classification_report(y_test, y_pred))\n",
        "\n",
        "    pickle.dump(rf, open(\"./drive/My Drive/model_rf.pkl\", \"wb\"))"
      ],
      "execution_count": 0,
      "outputs": []
    },
    {
      "cell_type": "code",
      "metadata": {
        "id": "A7nak58Rg0Sy",
        "colab_type": "code",
        "outputId": "64ea4025-2090-47a4-e714-52ba81a74606",
        "colab": {
          "base_uri": "https://localhost:8080/",
          "height": 610
        }
      },
      "source": [
        "data['total'] = data['title']\n",
        "X=data['total']\n",
        "y=data['link_flair_text']\n",
        "\n",
        "randomForest(X,y)"
      ],
      "execution_count": 0,
      "outputs": [
        {
          "output_type": "stream",
          "text": [
            "\tTrain Acc: 0.991\n",
            "\tVal. Acc: 0.574\n",
            "[[ 9433   152    72     7  2905    85    23   193   733    88    23    31]\n",
            " [  535  2280    20     4  1561    12     2   585   335   155    10     6]\n",
            " [  206     2   993     0   524    10     1    17   267     5     1     7]\n",
            " [  141    10     0   147   874    12     5    11   111    11     9     1]\n",
            " [ 3074   281   151    30 14866    72    93   554  3018   297   132    53]\n",
            " [  104    15     5     5   484   509    12    32   215    16    10     2]\n",
            " [  100    11     6     0   770     8   322     5    63    24     0     1]\n",
            " [  478   218    41     2  1948    19     4  3702  1718    77     4     8]\n",
            " [  957    64    61     9  4558    69    12   509 16019    58    45    30]\n",
            " [  682   191    37     3  1972    33     9   153   267  1306    12     8]\n",
            " [  126     8     7     7   727     9     5    15   177     5   838     1]\n",
            " [  753    24     0     3  1379    13     7    74   549    35     9   231]]\n",
            "                    precision    recall  f1-score   support\n",
            "\n",
            "          AskIndia       0.57      0.69      0.62     13745\n",
            "  Business/Finance       0.70      0.41      0.52      5505\n",
            "       Coronavirus       0.71      0.49      0.58      2033\n",
            "     Entertainment       0.68      0.11      0.19      1332\n",
            "     Non-Political       0.46      0.66      0.54     22621\n",
            "   Not in English.       0.60      0.36      0.45      1409\n",
            "       Photography       0.65      0.25      0.36      1310\n",
            "    Policy/Economy       0.63      0.45      0.53      8219\n",
            "          Politics       0.68      0.72      0.70     22391\n",
            "Science/Technology       0.63      0.28      0.39      4673\n",
            "            Sports       0.77      0.44      0.56      1925\n",
            "     [R]eddiquette       0.61      0.08      0.13      3077\n",
            "\n",
            "          accuracy                           0.57     88240\n",
            "         macro avg       0.64      0.41      0.46     88240\n",
            "      weighted avg       0.60      0.57      0.56     88240\n",
            "\n"
          ],
          "name": "stdout"
        }
      ]
    },
    {
      "cell_type": "code",
      "metadata": {
        "id": "7PTZ-Ks8hTBd",
        "colab_type": "code",
        "outputId": "aaa47589-db60-4549-f480-ad2049ac047d",
        "colab": {
          "base_uri": "https://localhost:8080/",
          "height": 610
        }
      },
      "source": [
        "data['total'] = data['title'] + ' ' + data['url']\n",
        "X=data['total']\n",
        "y=data['link_flair_text']\n",
        "\n",
        "randomForest(X,y)"
      ],
      "execution_count": 0,
      "outputs": [
        {
          "output_type": "stream",
          "text": [
            "\tTrain Acc: 0.998\n",
            "\tVal. Acc: 0.588\n",
            "[[11346    81    49     0  1717    52    12    52   438    51    12    17]\n",
            " [  634  2328     7     3  1363    13     3   626   357   138     3    12]\n",
            " [  367     8   900     1   475     1     4    15   349    10     1     1]\n",
            " [  135     8     0   131   889    17     3    14   116     4     2     0]\n",
            " [ 3606   219    90    35 13848    71    80   492  3696   277    90    31]\n",
            " [   70    18     3     9   539   461    13    15   199    23     7     3]\n",
            " [   98     9     8     1   636     8   440     0    87     7     1     0]\n",
            " [  614   229    25     5  1607    17     5  3553  1972    79     4     7]\n",
            " [ 1354    57    39     7  3822    43    19   536 16535    44    31    38]\n",
            " [  690   202    27     5  1910    25     4   146   370  1347     6    10]\n",
            " [  158     7     4     2   682     4     2    12   159     7   772     1]\n",
            " [ 1038    23     3     1  1056     6     9    59   604    21     4   267]]\n",
            "                    precision    recall  f1-score   support\n",
            "\n",
            "          AskIndia       0.56      0.82      0.67     13827\n",
            "  Business/Finance       0.73      0.42      0.54      5487\n",
            "       Coronavirus       0.78      0.42      0.55      2132\n",
            "     Entertainment       0.66      0.10      0.17      1319\n",
            "     Non-Political       0.49      0.61      0.54     22535\n",
            "   Not in English.       0.64      0.34      0.44      1360\n",
            "       Photography       0.74      0.34      0.47      1295\n",
            "    Policy/Economy       0.64      0.44      0.52      8117\n",
            "          Politics       0.66      0.73      0.70     22525\n",
            "Science/Technology       0.67      0.28      0.40      4742\n",
            "            Sports       0.83      0.43      0.56      1810\n",
            "     [R]eddiquette       0.69      0.09      0.15      3091\n",
            "\n",
            "          accuracy                           0.59     88240\n",
            "         macro avg       0.67      0.42      0.48     88240\n",
            "      weighted avg       0.61      0.59      0.57     88240\n",
            "\n"
          ],
          "name": "stdout"
        }
      ]
    }
  ]
}
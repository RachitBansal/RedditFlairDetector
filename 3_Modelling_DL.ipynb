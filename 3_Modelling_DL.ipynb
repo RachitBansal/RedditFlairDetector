{
  "nbformat": 4,
  "nbformat_minor": 0,
  "metadata": {
    "colab": {
      "name": "3_Modelling_DL.ipynb",
      "provenance": [],
      "collapsed_sections": [],
      "machine_shape": "hm",
      "mount_file_id": "1fehVwGPrCCW2u4sWREljTPYnU5GMchks",
      "authorship_tag": "ABX9TyOo6vpg0rPQPjYg9jugnUcq",
      "include_colab_link": true
    },
    "kernelspec": {
      "name": "python3",
      "display_name": "Python 3"
    },
    "accelerator": "GPU",
    "widgets": {
      "application/vnd.jupyter.widget-state+json": {
        "79672808d5c545d196d79ce95c294b91": {
          "model_module": "@jupyter-widgets/controls",
          "model_name": "HBoxModel",
          "state": {
            "_view_name": "HBoxView",
            "_dom_classes": [],
            "_model_name": "HBoxModel",
            "_view_module": "@jupyter-widgets/controls",
            "_model_module_version": "1.5.0",
            "_view_count": null,
            "_view_module_version": "1.5.0",
            "box_style": "",
            "layout": "IPY_MODEL_0bb4f9d59b474e6384cca02dd278fb6f",
            "_model_module": "@jupyter-widgets/controls",
            "children": [
              "IPY_MODEL_747506a045e44b2fb10fa633cba3f110",
              "IPY_MODEL_18619cf913444c02af4cd82ae498df05"
            ]
          }
        },
        "0bb4f9d59b474e6384cca02dd278fb6f": {
          "model_module": "@jupyter-widgets/base",
          "model_name": "LayoutModel",
          "state": {
            "_view_name": "LayoutView",
            "grid_template_rows": null,
            "right": null,
            "justify_content": null,
            "_view_module": "@jupyter-widgets/base",
            "overflow": null,
            "_model_module_version": "1.2.0",
            "_view_count": null,
            "flex_flow": null,
            "width": null,
            "min_width": null,
            "border": null,
            "align_items": null,
            "bottom": null,
            "_model_module": "@jupyter-widgets/base",
            "top": null,
            "grid_column": null,
            "overflow_y": null,
            "overflow_x": null,
            "grid_auto_flow": null,
            "grid_area": null,
            "grid_template_columns": null,
            "flex": null,
            "_model_name": "LayoutModel",
            "justify_items": null,
            "grid_row": null,
            "max_height": null,
            "align_content": null,
            "visibility": null,
            "align_self": null,
            "height": null,
            "min_height": null,
            "padding": null,
            "grid_auto_rows": null,
            "grid_gap": null,
            "max_width": null,
            "order": null,
            "_view_module_version": "1.2.0",
            "grid_template_areas": null,
            "object_position": null,
            "object_fit": null,
            "grid_auto_columns": null,
            "margin": null,
            "display": null,
            "left": null
          }
        },
        "747506a045e44b2fb10fa633cba3f110": {
          "model_module": "@jupyter-widgets/controls",
          "model_name": "IntProgressModel",
          "state": {
            "_view_name": "ProgressView",
            "style": "IPY_MODEL_86e52d6c7b4744ec993582080ae990b7",
            "_dom_classes": [],
            "description": "100%",
            "_model_name": "IntProgressModel",
            "bar_style": "success",
            "max": 334421,
            "_view_module": "@jupyter-widgets/controls",
            "_model_module_version": "1.5.0",
            "value": 334421,
            "_view_count": null,
            "_view_module_version": "1.5.0",
            "orientation": "horizontal",
            "min": 0,
            "description_tooltip": null,
            "_model_module": "@jupyter-widgets/controls",
            "layout": "IPY_MODEL_a7c94bd9eadd4d13a09dbd861bdbcd5b"
          }
        },
        "18619cf913444c02af4cd82ae498df05": {
          "model_module": "@jupyter-widgets/controls",
          "model_name": "HTMLModel",
          "state": {
            "_view_name": "HTMLView",
            "style": "IPY_MODEL_f25a4614ac5c495c94d1cbf2d84d4cd7",
            "_dom_classes": [],
            "description": "",
            "_model_name": "HTMLModel",
            "placeholder": "​",
            "_view_module": "@jupyter-widgets/controls",
            "_model_module_version": "1.5.0",
            "value": " 334421/334421 [1:08:05&lt;00:00, 81.86it/s]",
            "_view_count": null,
            "_view_module_version": "1.5.0",
            "description_tooltip": null,
            "_model_module": "@jupyter-widgets/controls",
            "layout": "IPY_MODEL_fcbcb927aa1649ec930a99647decc08c"
          }
        },
        "86e52d6c7b4744ec993582080ae990b7": {
          "model_module": "@jupyter-widgets/controls",
          "model_name": "ProgressStyleModel",
          "state": {
            "_view_name": "StyleView",
            "_model_name": "ProgressStyleModel",
            "description_width": "initial",
            "_view_module": "@jupyter-widgets/base",
            "_model_module_version": "1.5.0",
            "_view_count": null,
            "_view_module_version": "1.2.0",
            "bar_color": null,
            "_model_module": "@jupyter-widgets/controls"
          }
        },
        "a7c94bd9eadd4d13a09dbd861bdbcd5b": {
          "model_module": "@jupyter-widgets/base",
          "model_name": "LayoutModel",
          "state": {
            "_view_name": "LayoutView",
            "grid_template_rows": null,
            "right": null,
            "justify_content": null,
            "_view_module": "@jupyter-widgets/base",
            "overflow": null,
            "_model_module_version": "1.2.0",
            "_view_count": null,
            "flex_flow": null,
            "width": null,
            "min_width": null,
            "border": null,
            "align_items": null,
            "bottom": null,
            "_model_module": "@jupyter-widgets/base",
            "top": null,
            "grid_column": null,
            "overflow_y": null,
            "overflow_x": null,
            "grid_auto_flow": null,
            "grid_area": null,
            "grid_template_columns": null,
            "flex": null,
            "_model_name": "LayoutModel",
            "justify_items": null,
            "grid_row": null,
            "max_height": null,
            "align_content": null,
            "visibility": null,
            "align_self": null,
            "height": null,
            "min_height": null,
            "padding": null,
            "grid_auto_rows": null,
            "grid_gap": null,
            "max_width": null,
            "order": null,
            "_view_module_version": "1.2.0",
            "grid_template_areas": null,
            "object_position": null,
            "object_fit": null,
            "grid_auto_columns": null,
            "margin": null,
            "display": null,
            "left": null
          }
        },
        "f25a4614ac5c495c94d1cbf2d84d4cd7": {
          "model_module": "@jupyter-widgets/controls",
          "model_name": "DescriptionStyleModel",
          "state": {
            "_view_name": "StyleView",
            "_model_name": "DescriptionStyleModel",
            "description_width": "",
            "_view_module": "@jupyter-widgets/base",
            "_model_module_version": "1.5.0",
            "_view_count": null,
            "_view_module_version": "1.2.0",
            "_model_module": "@jupyter-widgets/controls"
          }
        },
        "fcbcb927aa1649ec930a99647decc08c": {
          "model_module": "@jupyter-widgets/base",
          "model_name": "LayoutModel",
          "state": {
            "_view_name": "LayoutView",
            "grid_template_rows": null,
            "right": null,
            "justify_content": null,
            "_view_module": "@jupyter-widgets/base",
            "overflow": null,
            "_model_module_version": "1.2.0",
            "_view_count": null,
            "flex_flow": null,
            "width": null,
            "min_width": null,
            "border": null,
            "align_items": null,
            "bottom": null,
            "_model_module": "@jupyter-widgets/base",
            "top": null,
            "grid_column": null,
            "overflow_y": null,
            "overflow_x": null,
            "grid_auto_flow": null,
            "grid_area": null,
            "grid_template_columns": null,
            "flex": null,
            "_model_name": "LayoutModel",
            "justify_items": null,
            "grid_row": null,
            "max_height": null,
            "align_content": null,
            "visibility": null,
            "align_self": null,
            "height": null,
            "min_height": null,
            "padding": null,
            "grid_auto_rows": null,
            "grid_gap": null,
            "max_width": null,
            "order": null,
            "_view_module_version": "1.2.0",
            "grid_template_areas": null,
            "object_position": null,
            "object_fit": null,
            "grid_auto_columns": null,
            "margin": null,
            "display": null,
            "left": null
          }
        },
        "3b12a431adc74031b05c95f274e6cb05": {
          "model_module": "@jupyter-widgets/controls",
          "model_name": "HBoxModel",
          "state": {
            "_view_name": "HBoxView",
            "_dom_classes": [],
            "_model_name": "HBoxModel",
            "_view_module": "@jupyter-widgets/controls",
            "_model_module_version": "1.5.0",
            "_view_count": null,
            "_view_module_version": "1.5.0",
            "box_style": "",
            "layout": "IPY_MODEL_45800ca35e5c44cea80de5747ba68bd5",
            "_model_module": "@jupyter-widgets/controls",
            "children": [
              "IPY_MODEL_8eb617af4e1d4a588e8a4866ae142057",
              "IPY_MODEL_4f1e455219d04a74acb79a6817fbfa18"
            ]
          }
        },
        "45800ca35e5c44cea80de5747ba68bd5": {
          "model_module": "@jupyter-widgets/base",
          "model_name": "LayoutModel",
          "state": {
            "_view_name": "LayoutView",
            "grid_template_rows": null,
            "right": null,
            "justify_content": null,
            "_view_module": "@jupyter-widgets/base",
            "overflow": null,
            "_model_module_version": "1.2.0",
            "_view_count": null,
            "flex_flow": null,
            "width": null,
            "min_width": null,
            "border": null,
            "align_items": null,
            "bottom": null,
            "_model_module": "@jupyter-widgets/base",
            "top": null,
            "grid_column": null,
            "overflow_y": null,
            "overflow_x": null,
            "grid_auto_flow": null,
            "grid_area": null,
            "grid_template_columns": null,
            "flex": null,
            "_model_name": "LayoutModel",
            "justify_items": null,
            "grid_row": null,
            "max_height": null,
            "align_content": null,
            "visibility": null,
            "align_self": null,
            "height": null,
            "min_height": null,
            "padding": null,
            "grid_auto_rows": null,
            "grid_gap": null,
            "max_width": null,
            "order": null,
            "_view_module_version": "1.2.0",
            "grid_template_areas": null,
            "object_position": null,
            "object_fit": null,
            "grid_auto_columns": null,
            "margin": null,
            "display": null,
            "left": null
          }
        },
        "8eb617af4e1d4a588e8a4866ae142057": {
          "model_module": "@jupyter-widgets/controls",
          "model_name": "IntProgressModel",
          "state": {
            "_view_name": "ProgressView",
            "style": "IPY_MODEL_a5f074fe9d0c425fa20a034f780743ee",
            "_dom_classes": [],
            "description": "Epoch: 100%",
            "_model_name": "IntProgressModel",
            "bar_style": "success",
            "max": 2,
            "_view_module": "@jupyter-widgets/controls",
            "_model_module_version": "1.5.0",
            "value": 2,
            "_view_count": null,
            "_view_module_version": "1.5.0",
            "orientation": "horizontal",
            "min": 0,
            "description_tooltip": null,
            "_model_module": "@jupyter-widgets/controls",
            "layout": "IPY_MODEL_fc9694a4da614696aa21541980236037"
          }
        },
        "4f1e455219d04a74acb79a6817fbfa18": {
          "model_module": "@jupyter-widgets/controls",
          "model_name": "HTMLModel",
          "state": {
            "_view_name": "HTMLView",
            "style": "IPY_MODEL_b4e770509eb643cf8a5a114d87a469a4",
            "_dom_classes": [],
            "description": "",
            "_model_name": "HTMLModel",
            "placeholder": "​",
            "_view_module": "@jupyter-widgets/controls",
            "_model_module_version": "1.5.0",
            "value": " 2/2 [1:06:02&lt;00:00, 1981.04s/it]",
            "_view_count": null,
            "_view_module_version": "1.5.0",
            "description_tooltip": null,
            "_model_module": "@jupyter-widgets/controls",
            "layout": "IPY_MODEL_25e6d4c3aad94fe59ba21f00b54cf581"
          }
        },
        "a5f074fe9d0c425fa20a034f780743ee": {
          "model_module": "@jupyter-widgets/controls",
          "model_name": "ProgressStyleModel",
          "state": {
            "_view_name": "StyleView",
            "_model_name": "ProgressStyleModel",
            "description_width": "initial",
            "_view_module": "@jupyter-widgets/base",
            "_model_module_version": "1.5.0",
            "_view_count": null,
            "_view_module_version": "1.2.0",
            "bar_color": null,
            "_model_module": "@jupyter-widgets/controls"
          }
        },
        "fc9694a4da614696aa21541980236037": {
          "model_module": "@jupyter-widgets/base",
          "model_name": "LayoutModel",
          "state": {
            "_view_name": "LayoutView",
            "grid_template_rows": null,
            "right": null,
            "justify_content": null,
            "_view_module": "@jupyter-widgets/base",
            "overflow": null,
            "_model_module_version": "1.2.0",
            "_view_count": null,
            "flex_flow": null,
            "width": null,
            "min_width": null,
            "border": null,
            "align_items": null,
            "bottom": null,
            "_model_module": "@jupyter-widgets/base",
            "top": null,
            "grid_column": null,
            "overflow_y": null,
            "overflow_x": null,
            "grid_auto_flow": null,
            "grid_area": null,
            "grid_template_columns": null,
            "flex": null,
            "_model_name": "LayoutModel",
            "justify_items": null,
            "grid_row": null,
            "max_height": null,
            "align_content": null,
            "visibility": null,
            "align_self": null,
            "height": null,
            "min_height": null,
            "padding": null,
            "grid_auto_rows": null,
            "grid_gap": null,
            "max_width": null,
            "order": null,
            "_view_module_version": "1.2.0",
            "grid_template_areas": null,
            "object_position": null,
            "object_fit": null,
            "grid_auto_columns": null,
            "margin": null,
            "display": null,
            "left": null
          }
        },
        "b4e770509eb643cf8a5a114d87a469a4": {
          "model_module": "@jupyter-widgets/controls",
          "model_name": "DescriptionStyleModel",
          "state": {
            "_view_name": "StyleView",
            "_model_name": "DescriptionStyleModel",
            "description_width": "",
            "_view_module": "@jupyter-widgets/base",
            "_model_module_version": "1.5.0",
            "_view_count": null,
            "_view_module_version": "1.2.0",
            "_model_module": "@jupyter-widgets/controls"
          }
        },
        "25e6d4c3aad94fe59ba21f00b54cf581": {
          "model_module": "@jupyter-widgets/base",
          "model_name": "LayoutModel",
          "state": {
            "_view_name": "LayoutView",
            "grid_template_rows": null,
            "right": null,
            "justify_content": null,
            "_view_module": "@jupyter-widgets/base",
            "overflow": null,
            "_model_module_version": "1.2.0",
            "_view_count": null,
            "flex_flow": null,
            "width": null,
            "min_width": null,
            "border": null,
            "align_items": null,
            "bottom": null,
            "_model_module": "@jupyter-widgets/base",
            "top": null,
            "grid_column": null,
            "overflow_y": null,
            "overflow_x": null,
            "grid_auto_flow": null,
            "grid_area": null,
            "grid_template_columns": null,
            "flex": null,
            "_model_name": "LayoutModel",
            "justify_items": null,
            "grid_row": null,
            "max_height": null,
            "align_content": null,
            "visibility": null,
            "align_self": null,
            "height": null,
            "min_height": null,
            "padding": null,
            "grid_auto_rows": null,
            "grid_gap": null,
            "max_width": null,
            "order": null,
            "_view_module_version": "1.2.0",
            "grid_template_areas": null,
            "object_position": null,
            "object_fit": null,
            "grid_auto_columns": null,
            "margin": null,
            "display": null,
            "left": null
          }
        },
        "22376f03079242a4abbb97113422d785": {
          "model_module": "@jupyter-widgets/controls",
          "model_name": "HBoxModel",
          "state": {
            "_view_name": "HBoxView",
            "_dom_classes": [],
            "_model_name": "HBoxModel",
            "_view_module": "@jupyter-widgets/controls",
            "_model_module_version": "1.5.0",
            "_view_count": null,
            "_view_module_version": "1.5.0",
            "box_style": "",
            "layout": "IPY_MODEL_cb3c79335e5544feb57b4256be7d9e26",
            "_model_module": "@jupyter-widgets/controls",
            "children": [
              "IPY_MODEL_195983c05d904d9ca926f14e4dbdbf03",
              "IPY_MODEL_ca44d6ea497f4152a41f4c4058ab44e7"
            ]
          }
        },
        "cb3c79335e5544feb57b4256be7d9e26": {
          "model_module": "@jupyter-widgets/base",
          "model_name": "LayoutModel",
          "state": {
            "_view_name": "LayoutView",
            "grid_template_rows": null,
            "right": null,
            "justify_content": null,
            "_view_module": "@jupyter-widgets/base",
            "overflow": null,
            "_model_module_version": "1.2.0",
            "_view_count": null,
            "flex_flow": null,
            "width": null,
            "min_width": null,
            "border": null,
            "align_items": null,
            "bottom": null,
            "_model_module": "@jupyter-widgets/base",
            "top": null,
            "grid_column": null,
            "overflow_y": null,
            "overflow_x": null,
            "grid_auto_flow": null,
            "grid_area": null,
            "grid_template_columns": null,
            "flex": null,
            "_model_name": "LayoutModel",
            "justify_items": null,
            "grid_row": null,
            "max_height": null,
            "align_content": null,
            "visibility": null,
            "align_self": null,
            "height": null,
            "min_height": null,
            "padding": null,
            "grid_auto_rows": null,
            "grid_gap": null,
            "max_width": null,
            "order": null,
            "_view_module_version": "1.2.0",
            "grid_template_areas": null,
            "object_position": null,
            "object_fit": null,
            "grid_auto_columns": null,
            "margin": null,
            "display": null,
            "left": null
          }
        },
        "195983c05d904d9ca926f14e4dbdbf03": {
          "model_module": "@jupyter-widgets/controls",
          "model_name": "IntProgressModel",
          "state": {
            "_view_name": "ProgressView",
            "style": "IPY_MODEL_8260e012715f4136b91cc733cc3de834",
            "_dom_classes": [],
            "description": "Current iteration: 100%",
            "_model_name": "IntProgressModel",
            "bar_style": "success",
            "max": 2613,
            "_view_module": "@jupyter-widgets/controls",
            "_model_module_version": "1.5.0",
            "value": 2613,
            "_view_count": null,
            "_view_module_version": "1.5.0",
            "orientation": "horizontal",
            "min": 0,
            "description_tooltip": null,
            "_model_module": "@jupyter-widgets/controls",
            "layout": "IPY_MODEL_fb07437372a246da855c407ae5b3c478"
          }
        },
        "ca44d6ea497f4152a41f4c4058ab44e7": {
          "model_module": "@jupyter-widgets/controls",
          "model_name": "HTMLModel",
          "state": {
            "_view_name": "HTMLView",
            "style": "IPY_MODEL_0c06a4f5f8f44257a6708c85ef8b3df9",
            "_dom_classes": [],
            "description": "",
            "_model_name": "HTMLModel",
            "placeholder": "​",
            "_view_module": "@jupyter-widgets/controls",
            "_model_module_version": "1.5.0",
            "value": " 2613/2613 [1:06:02&lt;00:00,  1.52s/it]",
            "_view_count": null,
            "_view_module_version": "1.5.0",
            "description_tooltip": null,
            "_model_module": "@jupyter-widgets/controls",
            "layout": "IPY_MODEL_e1d03ec33f3f4f829b38151685e4ad43"
          }
        },
        "8260e012715f4136b91cc733cc3de834": {
          "model_module": "@jupyter-widgets/controls",
          "model_name": "ProgressStyleModel",
          "state": {
            "_view_name": "StyleView",
            "_model_name": "ProgressStyleModel",
            "description_width": "initial",
            "_view_module": "@jupyter-widgets/base",
            "_model_module_version": "1.5.0",
            "_view_count": null,
            "_view_module_version": "1.2.0",
            "bar_color": null,
            "_model_module": "@jupyter-widgets/controls"
          }
        },
        "fb07437372a246da855c407ae5b3c478": {
          "model_module": "@jupyter-widgets/base",
          "model_name": "LayoutModel",
          "state": {
            "_view_name": "LayoutView",
            "grid_template_rows": null,
            "right": null,
            "justify_content": null,
            "_view_module": "@jupyter-widgets/base",
            "overflow": null,
            "_model_module_version": "1.2.0",
            "_view_count": null,
            "flex_flow": null,
            "width": null,
            "min_width": null,
            "border": null,
            "align_items": null,
            "bottom": null,
            "_model_module": "@jupyter-widgets/base",
            "top": null,
            "grid_column": null,
            "overflow_y": null,
            "overflow_x": null,
            "grid_auto_flow": null,
            "grid_area": null,
            "grid_template_columns": null,
            "flex": null,
            "_model_name": "LayoutModel",
            "justify_items": null,
            "grid_row": null,
            "max_height": null,
            "align_content": null,
            "visibility": null,
            "align_self": null,
            "height": null,
            "min_height": null,
            "padding": null,
            "grid_auto_rows": null,
            "grid_gap": null,
            "max_width": null,
            "order": null,
            "_view_module_version": "1.2.0",
            "grid_template_areas": null,
            "object_position": null,
            "object_fit": null,
            "grid_auto_columns": null,
            "margin": null,
            "display": null,
            "left": null
          }
        },
        "0c06a4f5f8f44257a6708c85ef8b3df9": {
          "model_module": "@jupyter-widgets/controls",
          "model_name": "DescriptionStyleModel",
          "state": {
            "_view_name": "StyleView",
            "_model_name": "DescriptionStyleModel",
            "description_width": "",
            "_view_module": "@jupyter-widgets/base",
            "_model_module_version": "1.5.0",
            "_view_count": null,
            "_view_module_version": "1.2.0",
            "_model_module": "@jupyter-widgets/controls"
          }
        },
        "e1d03ec33f3f4f829b38151685e4ad43": {
          "model_module": "@jupyter-widgets/base",
          "model_name": "LayoutModel",
          "state": {
            "_view_name": "LayoutView",
            "grid_template_rows": null,
            "right": null,
            "justify_content": null,
            "_view_module": "@jupyter-widgets/base",
            "overflow": null,
            "_model_module_version": "1.2.0",
            "_view_count": null,
            "flex_flow": null,
            "width": null,
            "min_width": null,
            "border": null,
            "align_items": null,
            "bottom": null,
            "_model_module": "@jupyter-widgets/base",
            "top": null,
            "grid_column": null,
            "overflow_y": null,
            "overflow_x": null,
            "grid_auto_flow": null,
            "grid_area": null,
            "grid_template_columns": null,
            "flex": null,
            "_model_name": "LayoutModel",
            "justify_items": null,
            "grid_row": null,
            "max_height": null,
            "align_content": null,
            "visibility": null,
            "align_self": null,
            "height": null,
            "min_height": null,
            "padding": null,
            "grid_auto_rows": null,
            "grid_gap": null,
            "max_width": null,
            "order": null,
            "_view_module_version": "1.2.0",
            "grid_template_areas": null,
            "object_position": null,
            "object_fit": null,
            "grid_auto_columns": null,
            "margin": null,
            "display": null,
            "left": null
          }
        },
        "93a4f1da56eb428ba663c6805b4a8b9a": {
          "model_module": "@jupyter-widgets/controls",
          "model_name": "HBoxModel",
          "state": {
            "_view_name": "HBoxView",
            "_dom_classes": [],
            "_model_name": "HBoxModel",
            "_view_module": "@jupyter-widgets/controls",
            "_model_module_version": "1.5.0",
            "_view_count": null,
            "_view_module_version": "1.5.0",
            "box_style": "",
            "layout": "IPY_MODEL_c3971618c1b7417eaceaedefd0356b9b",
            "_model_module": "@jupyter-widgets/controls",
            "children": [
              "IPY_MODEL_71580b0d335c4c39bd7ebe2285373fd8",
              "IPY_MODEL_ddce8fec7ae64cfe83dd711f7cdd1073"
            ]
          }
        },
        "c3971618c1b7417eaceaedefd0356b9b": {
          "model_module": "@jupyter-widgets/base",
          "model_name": "LayoutModel",
          "state": {
            "_view_name": "LayoutView",
            "grid_template_rows": null,
            "right": null,
            "justify_content": null,
            "_view_module": "@jupyter-widgets/base",
            "overflow": null,
            "_model_module_version": "1.2.0",
            "_view_count": null,
            "flex_flow": null,
            "width": null,
            "min_width": null,
            "border": null,
            "align_items": null,
            "bottom": null,
            "_model_module": "@jupyter-widgets/base",
            "top": null,
            "grid_column": null,
            "overflow_y": null,
            "overflow_x": null,
            "grid_auto_flow": null,
            "grid_area": null,
            "grid_template_columns": null,
            "flex": null,
            "_model_name": "LayoutModel",
            "justify_items": null,
            "grid_row": null,
            "max_height": null,
            "align_content": null,
            "visibility": null,
            "align_self": null,
            "height": null,
            "min_height": null,
            "padding": null,
            "grid_auto_rows": null,
            "grid_gap": null,
            "max_width": null,
            "order": null,
            "_view_module_version": "1.2.0",
            "grid_template_areas": null,
            "object_position": null,
            "object_fit": null,
            "grid_auto_columns": null,
            "margin": null,
            "display": null,
            "left": null
          }
        },
        "71580b0d335c4c39bd7ebe2285373fd8": {
          "model_module": "@jupyter-widgets/controls",
          "model_name": "IntProgressModel",
          "state": {
            "_view_name": "ProgressView",
            "style": "IPY_MODEL_bd0861580df4472989260c2bf26ccf66",
            "_dom_classes": [],
            "description": "Current iteration: 100%",
            "_model_name": "IntProgressModel",
            "bar_style": "success",
            "max": 2613,
            "_view_module": "@jupyter-widgets/controls",
            "_model_module_version": "1.5.0",
            "value": 2613,
            "_view_count": null,
            "_view_module_version": "1.5.0",
            "orientation": "horizontal",
            "min": 0,
            "description_tooltip": null,
            "_model_module": "@jupyter-widgets/controls",
            "layout": "IPY_MODEL_00356064ab414fd88d9c680ca8a7ad14"
          }
        },
        "ddce8fec7ae64cfe83dd711f7cdd1073": {
          "model_module": "@jupyter-widgets/controls",
          "model_name": "HTMLModel",
          "state": {
            "_view_name": "HTMLView",
            "style": "IPY_MODEL_130368a3edd7403e908798efd2522888",
            "_dom_classes": [],
            "description": "",
            "_model_name": "HTMLModel",
            "placeholder": "​",
            "_view_module": "@jupyter-widgets/controls",
            "_model_module_version": "1.5.0",
            "value": " 2613/2613 [35:26&lt;00:00,  1.23it/s]",
            "_view_count": null,
            "_view_module_version": "1.5.0",
            "description_tooltip": null,
            "_model_module": "@jupyter-widgets/controls",
            "layout": "IPY_MODEL_1a8541ed56904522a63e8dddafff4f8d"
          }
        },
        "bd0861580df4472989260c2bf26ccf66": {
          "model_module": "@jupyter-widgets/controls",
          "model_name": "ProgressStyleModel",
          "state": {
            "_view_name": "StyleView",
            "_model_name": "ProgressStyleModel",
            "description_width": "initial",
            "_view_module": "@jupyter-widgets/base",
            "_model_module_version": "1.5.0",
            "_view_count": null,
            "_view_module_version": "1.2.0",
            "bar_color": null,
            "_model_module": "@jupyter-widgets/controls"
          }
        },
        "00356064ab414fd88d9c680ca8a7ad14": {
          "model_module": "@jupyter-widgets/base",
          "model_name": "LayoutModel",
          "state": {
            "_view_name": "LayoutView",
            "grid_template_rows": null,
            "right": null,
            "justify_content": null,
            "_view_module": "@jupyter-widgets/base",
            "overflow": null,
            "_model_module_version": "1.2.0",
            "_view_count": null,
            "flex_flow": null,
            "width": null,
            "min_width": null,
            "border": null,
            "align_items": null,
            "bottom": null,
            "_model_module": "@jupyter-widgets/base",
            "top": null,
            "grid_column": null,
            "overflow_y": null,
            "overflow_x": null,
            "grid_auto_flow": null,
            "grid_area": null,
            "grid_template_columns": null,
            "flex": null,
            "_model_name": "LayoutModel",
            "justify_items": null,
            "grid_row": null,
            "max_height": null,
            "align_content": null,
            "visibility": null,
            "align_self": null,
            "height": null,
            "min_height": null,
            "padding": null,
            "grid_auto_rows": null,
            "grid_gap": null,
            "max_width": null,
            "order": null,
            "_view_module_version": "1.2.0",
            "grid_template_areas": null,
            "object_position": null,
            "object_fit": null,
            "grid_auto_columns": null,
            "margin": null,
            "display": null,
            "left": null
          }
        },
        "130368a3edd7403e908798efd2522888": {
          "model_module": "@jupyter-widgets/controls",
          "model_name": "DescriptionStyleModel",
          "state": {
            "_view_name": "StyleView",
            "_model_name": "DescriptionStyleModel",
            "description_width": "",
            "_view_module": "@jupyter-widgets/base",
            "_model_module_version": "1.5.0",
            "_view_count": null,
            "_view_module_version": "1.2.0",
            "_model_module": "@jupyter-widgets/controls"
          }
        },
        "1a8541ed56904522a63e8dddafff4f8d": {
          "model_module": "@jupyter-widgets/base",
          "model_name": "LayoutModel",
          "state": {
            "_view_name": "LayoutView",
            "grid_template_rows": null,
            "right": null,
            "justify_content": null,
            "_view_module": "@jupyter-widgets/base",
            "overflow": null,
            "_model_module_version": "1.2.0",
            "_view_count": null,
            "flex_flow": null,
            "width": null,
            "min_width": null,
            "border": null,
            "align_items": null,
            "bottom": null,
            "_model_module": "@jupyter-widgets/base",
            "top": null,
            "grid_column": null,
            "overflow_y": null,
            "overflow_x": null,
            "grid_auto_flow": null,
            "grid_area": null,
            "grid_template_columns": null,
            "flex": null,
            "_model_name": "LayoutModel",
            "justify_items": null,
            "grid_row": null,
            "max_height": null,
            "align_content": null,
            "visibility": null,
            "align_self": null,
            "height": null,
            "min_height": null,
            "padding": null,
            "grid_auto_rows": null,
            "grid_gap": null,
            "max_width": null,
            "order": null,
            "_view_module_version": "1.2.0",
            "grid_template_areas": null,
            "object_position": null,
            "object_fit": null,
            "grid_auto_columns": null,
            "margin": null,
            "display": null,
            "left": null
          }
        },
        "da4f6fbbebd7428abee7a12c99988d8c": {
          "model_module": "@jupyter-widgets/controls",
          "model_name": "HBoxModel",
          "state": {
            "_view_name": "HBoxView",
            "_dom_classes": [],
            "_model_name": "HBoxModel",
            "_view_module": "@jupyter-widgets/controls",
            "_model_module_version": "1.5.0",
            "_view_count": null,
            "_view_module_version": "1.5.0",
            "box_style": "",
            "layout": "IPY_MODEL_3ac12121676a425ba3a66b0fe8b6ccf4",
            "_model_module": "@jupyter-widgets/controls",
            "children": [
              "IPY_MODEL_0e8ea0bf7d0e4527a070b3cc27077a49",
              "IPY_MODEL_6da003cafc9a4596a9af60eda6517593"
            ]
          }
        },
        "3ac12121676a425ba3a66b0fe8b6ccf4": {
          "model_module": "@jupyter-widgets/base",
          "model_name": "LayoutModel",
          "state": {
            "_view_name": "LayoutView",
            "grid_template_rows": null,
            "right": null,
            "justify_content": null,
            "_view_module": "@jupyter-widgets/base",
            "overflow": null,
            "_model_module_version": "1.2.0",
            "_view_count": null,
            "flex_flow": null,
            "width": null,
            "min_width": null,
            "border": null,
            "align_items": null,
            "bottom": null,
            "_model_module": "@jupyter-widgets/base",
            "top": null,
            "grid_column": null,
            "overflow_y": null,
            "overflow_x": null,
            "grid_auto_flow": null,
            "grid_area": null,
            "grid_template_columns": null,
            "flex": null,
            "_model_name": "LayoutModel",
            "justify_items": null,
            "grid_row": null,
            "max_height": null,
            "align_content": null,
            "visibility": null,
            "align_self": null,
            "height": null,
            "min_height": null,
            "padding": null,
            "grid_auto_rows": null,
            "grid_gap": null,
            "max_width": null,
            "order": null,
            "_view_module_version": "1.2.0",
            "grid_template_areas": null,
            "object_position": null,
            "object_fit": null,
            "grid_auto_columns": null,
            "margin": null,
            "display": null,
            "left": null
          }
        },
        "0e8ea0bf7d0e4527a070b3cc27077a49": {
          "model_module": "@jupyter-widgets/controls",
          "model_name": "IntProgressModel",
          "state": {
            "_view_name": "ProgressView",
            "style": "IPY_MODEL_0530bceb9a6a43f989095207e0170dcb",
            "_dom_classes": [],
            "description": "100%",
            "_model_name": "IntProgressModel",
            "bar_style": "success",
            "max": 89257,
            "_view_module": "@jupyter-widgets/controls",
            "_model_module_version": "1.5.0",
            "value": 89257,
            "_view_count": null,
            "_view_module_version": "1.5.0",
            "orientation": "horizontal",
            "min": 0,
            "description_tooltip": null,
            "_model_module": "@jupyter-widgets/controls",
            "layout": "IPY_MODEL_2f48f21a630e48328ade967789ed188c"
          }
        },
        "6da003cafc9a4596a9af60eda6517593": {
          "model_module": "@jupyter-widgets/controls",
          "model_name": "HTMLModel",
          "state": {
            "_view_name": "HTMLView",
            "style": "IPY_MODEL_bc9a007fefcd4a0395a78904f75d53e6",
            "_dom_classes": [],
            "description": "",
            "_model_name": "HTMLModel",
            "placeholder": "​",
            "_view_module": "@jupyter-widgets/controls",
            "_model_module_version": "1.5.0",
            "value": " 89257/89257 [33:14&lt;00:00, 44.74it/s]",
            "_view_count": null,
            "_view_module_version": "1.5.0",
            "description_tooltip": null,
            "_model_module": "@jupyter-widgets/controls",
            "layout": "IPY_MODEL_d0d767b297cf49bd8f22cb2693a8c980"
          }
        },
        "0530bceb9a6a43f989095207e0170dcb": {
          "model_module": "@jupyter-widgets/controls",
          "model_name": "ProgressStyleModel",
          "state": {
            "_view_name": "StyleView",
            "_model_name": "ProgressStyleModel",
            "description_width": "initial",
            "_view_module": "@jupyter-widgets/base",
            "_model_module_version": "1.5.0",
            "_view_count": null,
            "_view_module_version": "1.2.0",
            "bar_color": null,
            "_model_module": "@jupyter-widgets/controls"
          }
        },
        "2f48f21a630e48328ade967789ed188c": {
          "model_module": "@jupyter-widgets/base",
          "model_name": "LayoutModel",
          "state": {
            "_view_name": "LayoutView",
            "grid_template_rows": null,
            "right": null,
            "justify_content": null,
            "_view_module": "@jupyter-widgets/base",
            "overflow": null,
            "_model_module_version": "1.2.0",
            "_view_count": null,
            "flex_flow": null,
            "width": null,
            "min_width": null,
            "border": null,
            "align_items": null,
            "bottom": null,
            "_model_module": "@jupyter-widgets/base",
            "top": null,
            "grid_column": null,
            "overflow_y": null,
            "overflow_x": null,
            "grid_auto_flow": null,
            "grid_area": null,
            "grid_template_columns": null,
            "flex": null,
            "_model_name": "LayoutModel",
            "justify_items": null,
            "grid_row": null,
            "max_height": null,
            "align_content": null,
            "visibility": null,
            "align_self": null,
            "height": null,
            "min_height": null,
            "padding": null,
            "grid_auto_rows": null,
            "grid_gap": null,
            "max_width": null,
            "order": null,
            "_view_module_version": "1.2.0",
            "grid_template_areas": null,
            "object_position": null,
            "object_fit": null,
            "grid_auto_columns": null,
            "margin": null,
            "display": null,
            "left": null
          }
        },
        "bc9a007fefcd4a0395a78904f75d53e6": {
          "model_module": "@jupyter-widgets/controls",
          "model_name": "DescriptionStyleModel",
          "state": {
            "_view_name": "StyleView",
            "_model_name": "DescriptionStyleModel",
            "description_width": "",
            "_view_module": "@jupyter-widgets/base",
            "_model_module_version": "1.5.0",
            "_view_count": null,
            "_view_module_version": "1.2.0",
            "_model_module": "@jupyter-widgets/controls"
          }
        },
        "d0d767b297cf49bd8f22cb2693a8c980": {
          "model_module": "@jupyter-widgets/base",
          "model_name": "LayoutModel",
          "state": {
            "_view_name": "LayoutView",
            "grid_template_rows": null,
            "right": null,
            "justify_content": null,
            "_view_module": "@jupyter-widgets/base",
            "overflow": null,
            "_model_module_version": "1.2.0",
            "_view_count": null,
            "flex_flow": null,
            "width": null,
            "min_width": null,
            "border": null,
            "align_items": null,
            "bottom": null,
            "_model_module": "@jupyter-widgets/base",
            "top": null,
            "grid_column": null,
            "overflow_y": null,
            "overflow_x": null,
            "grid_auto_flow": null,
            "grid_area": null,
            "grid_template_columns": null,
            "flex": null,
            "_model_name": "LayoutModel",
            "justify_items": null,
            "grid_row": null,
            "max_height": null,
            "align_content": null,
            "visibility": null,
            "align_self": null,
            "height": null,
            "min_height": null,
            "padding": null,
            "grid_auto_rows": null,
            "grid_gap": null,
            "max_width": null,
            "order": null,
            "_view_module_version": "1.2.0",
            "grid_template_areas": null,
            "object_position": null,
            "object_fit": null,
            "grid_auto_columns": null,
            "margin": null,
            "display": null,
            "left": null
          }
        },
        "7c0f426dce19412f9a5ce47291b03eb1": {
          "model_module": "@jupyter-widgets/controls",
          "model_name": "HBoxModel",
          "state": {
            "_view_name": "HBoxView",
            "_dom_classes": [],
            "_model_name": "HBoxModel",
            "_view_module": "@jupyter-widgets/controls",
            "_model_module_version": "1.5.0",
            "_view_count": null,
            "_view_module_version": "1.5.0",
            "box_style": "",
            "layout": "IPY_MODEL_714cd59a42f44a14bd8f1381b28646a7",
            "_model_module": "@jupyter-widgets/controls",
            "children": [
              "IPY_MODEL_7baf87f8780a4434b5634ebe527de048",
              "IPY_MODEL_29e942d4bba641fea049ebbfe689698f"
            ]
          }
        },
        "714cd59a42f44a14bd8f1381b28646a7": {
          "model_module": "@jupyter-widgets/base",
          "model_name": "LayoutModel",
          "state": {
            "_view_name": "LayoutView",
            "grid_template_rows": null,
            "right": null,
            "justify_content": null,
            "_view_module": "@jupyter-widgets/base",
            "overflow": null,
            "_model_module_version": "1.2.0",
            "_view_count": null,
            "flex_flow": null,
            "width": null,
            "min_width": null,
            "border": null,
            "align_items": null,
            "bottom": null,
            "_model_module": "@jupyter-widgets/base",
            "top": null,
            "grid_column": null,
            "overflow_y": null,
            "overflow_x": null,
            "grid_auto_flow": null,
            "grid_area": null,
            "grid_template_columns": null,
            "flex": null,
            "_model_name": "LayoutModel",
            "justify_items": null,
            "grid_row": null,
            "max_height": null,
            "align_content": null,
            "visibility": null,
            "align_self": null,
            "height": null,
            "min_height": null,
            "padding": null,
            "grid_auto_rows": null,
            "grid_gap": null,
            "max_width": null,
            "order": null,
            "_view_module_version": "1.2.0",
            "grid_template_areas": null,
            "object_position": null,
            "object_fit": null,
            "grid_auto_columns": null,
            "margin": null,
            "display": null,
            "left": null
          }
        },
        "7baf87f8780a4434b5634ebe527de048": {
          "model_module": "@jupyter-widgets/controls",
          "model_name": "IntProgressModel",
          "state": {
            "_view_name": "ProgressView",
            "style": "IPY_MODEL_63f1375c367b4afab1eeff45dbe2d80c",
            "_dom_classes": [],
            "description": "100%",
            "_model_name": "IntProgressModel",
            "bar_style": "success",
            "max": 698,
            "_view_module": "@jupyter-widgets/controls",
            "_model_module_version": "1.5.0",
            "value": 698,
            "_view_count": null,
            "_view_module_version": "1.5.0",
            "orientation": "horizontal",
            "min": 0,
            "description_tooltip": null,
            "_model_module": "@jupyter-widgets/controls",
            "layout": "IPY_MODEL_9a87c20401a74b3b85b33eef62d7e03b"
          }
        },
        "29e942d4bba641fea049ebbfe689698f": {
          "model_module": "@jupyter-widgets/controls",
          "model_name": "HTMLModel",
          "state": {
            "_view_name": "HTMLView",
            "style": "IPY_MODEL_6fbcd9ea65644208a4903362a48d7fd6",
            "_dom_classes": [],
            "description": "",
            "_model_name": "HTMLModel",
            "placeholder": "​",
            "_view_module": "@jupyter-widgets/controls",
            "_model_module_version": "1.5.0",
            "value": " 698/698 [32:14&lt;00:00,  2.77s/it]",
            "_view_count": null,
            "_view_module_version": "1.5.0",
            "description_tooltip": null,
            "_model_module": "@jupyter-widgets/controls",
            "layout": "IPY_MODEL_971537a0aa0845839c70b2a2bdfac3a0"
          }
        },
        "63f1375c367b4afab1eeff45dbe2d80c": {
          "model_module": "@jupyter-widgets/controls",
          "model_name": "ProgressStyleModel",
          "state": {
            "_view_name": "StyleView",
            "_model_name": "ProgressStyleModel",
            "description_width": "initial",
            "_view_module": "@jupyter-widgets/base",
            "_model_module_version": "1.5.0",
            "_view_count": null,
            "_view_module_version": "1.2.0",
            "bar_color": null,
            "_model_module": "@jupyter-widgets/controls"
          }
        },
        "9a87c20401a74b3b85b33eef62d7e03b": {
          "model_module": "@jupyter-widgets/base",
          "model_name": "LayoutModel",
          "state": {
            "_view_name": "LayoutView",
            "grid_template_rows": null,
            "right": null,
            "justify_content": null,
            "_view_module": "@jupyter-widgets/base",
            "overflow": null,
            "_model_module_version": "1.2.0",
            "_view_count": null,
            "flex_flow": null,
            "width": null,
            "min_width": null,
            "border": null,
            "align_items": null,
            "bottom": null,
            "_model_module": "@jupyter-widgets/base",
            "top": null,
            "grid_column": null,
            "overflow_y": null,
            "overflow_x": null,
            "grid_auto_flow": null,
            "grid_area": null,
            "grid_template_columns": null,
            "flex": null,
            "_model_name": "LayoutModel",
            "justify_items": null,
            "grid_row": null,
            "max_height": null,
            "align_content": null,
            "visibility": null,
            "align_self": null,
            "height": null,
            "min_height": null,
            "padding": null,
            "grid_auto_rows": null,
            "grid_gap": null,
            "max_width": null,
            "order": null,
            "_view_module_version": "1.2.0",
            "grid_template_areas": null,
            "object_position": null,
            "object_fit": null,
            "grid_auto_columns": null,
            "margin": null,
            "display": null,
            "left": null
          }
        },
        "6fbcd9ea65644208a4903362a48d7fd6": {
          "model_module": "@jupyter-widgets/controls",
          "model_name": "DescriptionStyleModel",
          "state": {
            "_view_name": "StyleView",
            "_model_name": "DescriptionStyleModel",
            "description_width": "",
            "_view_module": "@jupyter-widgets/base",
            "_model_module_version": "1.5.0",
            "_view_count": null,
            "_view_module_version": "1.2.0",
            "_model_module": "@jupyter-widgets/controls"
          }
        },
        "971537a0aa0845839c70b2a2bdfac3a0": {
          "model_module": "@jupyter-widgets/base",
          "model_name": "LayoutModel",
          "state": {
            "_view_name": "LayoutView",
            "grid_template_rows": null,
            "right": null,
            "justify_content": null,
            "_view_module": "@jupyter-widgets/base",
            "overflow": null,
            "_model_module_version": "1.2.0",
            "_view_count": null,
            "flex_flow": null,
            "width": null,
            "min_width": null,
            "border": null,
            "align_items": null,
            "bottom": null,
            "_model_module": "@jupyter-widgets/base",
            "top": null,
            "grid_column": null,
            "overflow_y": null,
            "overflow_x": null,
            "grid_auto_flow": null,
            "grid_area": null,
            "grid_template_columns": null,
            "flex": null,
            "_model_name": "LayoutModel",
            "justify_items": null,
            "grid_row": null,
            "max_height": null,
            "align_content": null,
            "visibility": null,
            "align_self": null,
            "height": null,
            "min_height": null,
            "padding": null,
            "grid_auto_rows": null,
            "grid_gap": null,
            "max_width": null,
            "order": null,
            "_view_module_version": "1.2.0",
            "grid_template_areas": null,
            "object_position": null,
            "object_fit": null,
            "grid_auto_columns": null,
            "margin": null,
            "display": null,
            "left": null
          }
        },
        "4562135ea00f45e0baa8494898abbf68": {
          "model_module": "@jupyter-widgets/controls",
          "model_name": "HBoxModel",
          "state": {
            "_view_name": "HBoxView",
            "_dom_classes": [],
            "_model_name": "HBoxModel",
            "_view_module": "@jupyter-widgets/controls",
            "_model_module_version": "1.5.0",
            "_view_count": null,
            "_view_module_version": "1.5.0",
            "box_style": "",
            "layout": "IPY_MODEL_97f6435040044d3e8df5d5400a1f06da",
            "_model_module": "@jupyter-widgets/controls",
            "children": [
              "IPY_MODEL_816d601cde4d4cfaaa6298f3a813a98d",
              "IPY_MODEL_4aaca58384f5494891bbea82e6adf7aa"
            ]
          }
        },
        "97f6435040044d3e8df5d5400a1f06da": {
          "model_module": "@jupyter-widgets/base",
          "model_name": "LayoutModel",
          "state": {
            "_view_name": "LayoutView",
            "grid_template_rows": null,
            "right": null,
            "justify_content": null,
            "_view_module": "@jupyter-widgets/base",
            "overflow": null,
            "_model_module_version": "1.2.0",
            "_view_count": null,
            "flex_flow": null,
            "width": null,
            "min_width": null,
            "border": null,
            "align_items": null,
            "bottom": null,
            "_model_module": "@jupyter-widgets/base",
            "top": null,
            "grid_column": null,
            "overflow_y": null,
            "overflow_x": null,
            "grid_auto_flow": null,
            "grid_area": null,
            "grid_template_columns": null,
            "flex": null,
            "_model_name": "LayoutModel",
            "justify_items": null,
            "grid_row": null,
            "max_height": null,
            "align_content": null,
            "visibility": null,
            "align_self": null,
            "height": null,
            "min_height": null,
            "padding": null,
            "grid_auto_rows": null,
            "grid_gap": null,
            "max_width": null,
            "order": null,
            "_view_module_version": "1.2.0",
            "grid_template_areas": null,
            "object_position": null,
            "object_fit": null,
            "grid_auto_columns": null,
            "margin": null,
            "display": null,
            "left": null
          }
        },
        "816d601cde4d4cfaaa6298f3a813a98d": {
          "model_module": "@jupyter-widgets/controls",
          "model_name": "IntProgressModel",
          "state": {
            "_view_name": "ProgressView",
            "style": "IPY_MODEL_b215b1455c8a43fdbc2f7e600e128848",
            "_dom_classes": [],
            "description": "100%",
            "_model_name": "IntProgressModel",
            "bar_style": "success",
            "max": 89257,
            "_view_module": "@jupyter-widgets/controls",
            "_model_module_version": "1.5.0",
            "value": 89257,
            "_view_count": null,
            "_view_module_version": "1.5.0",
            "orientation": "horizontal",
            "min": 0,
            "description_tooltip": null,
            "_model_module": "@jupyter-widgets/controls",
            "layout": "IPY_MODEL_b93fa9481646415c83fd2e4920e3801b"
          }
        },
        "4aaca58384f5494891bbea82e6adf7aa": {
          "model_module": "@jupyter-widgets/controls",
          "model_name": "HTMLModel",
          "state": {
            "_view_name": "HTMLView",
            "style": "IPY_MODEL_c7695f41f4584c819819b17eb5f13f2c",
            "_dom_classes": [],
            "description": "",
            "_model_name": "HTMLModel",
            "placeholder": "​",
            "_view_module": "@jupyter-widgets/controls",
            "_model_module_version": "1.5.0",
            "value": " 89257/89257 [00:37&lt;00:00, 2398.32it/s]",
            "_view_count": null,
            "_view_module_version": "1.5.0",
            "description_tooltip": null,
            "_model_module": "@jupyter-widgets/controls",
            "layout": "IPY_MODEL_0ff37e23639f41a39d2d4bb65223dbd2"
          }
        },
        "b215b1455c8a43fdbc2f7e600e128848": {
          "model_module": "@jupyter-widgets/controls",
          "model_name": "ProgressStyleModel",
          "state": {
            "_view_name": "StyleView",
            "_model_name": "ProgressStyleModel",
            "description_width": "initial",
            "_view_module": "@jupyter-widgets/base",
            "_model_module_version": "1.5.0",
            "_view_count": null,
            "_view_module_version": "1.2.0",
            "bar_color": null,
            "_model_module": "@jupyter-widgets/controls"
          }
        },
        "b93fa9481646415c83fd2e4920e3801b": {
          "model_module": "@jupyter-widgets/base",
          "model_name": "LayoutModel",
          "state": {
            "_view_name": "LayoutView",
            "grid_template_rows": null,
            "right": null,
            "justify_content": null,
            "_view_module": "@jupyter-widgets/base",
            "overflow": null,
            "_model_module_version": "1.2.0",
            "_view_count": null,
            "flex_flow": null,
            "width": null,
            "min_width": null,
            "border": null,
            "align_items": null,
            "bottom": null,
            "_model_module": "@jupyter-widgets/base",
            "top": null,
            "grid_column": null,
            "overflow_y": null,
            "overflow_x": null,
            "grid_auto_flow": null,
            "grid_area": null,
            "grid_template_columns": null,
            "flex": null,
            "_model_name": "LayoutModel",
            "justify_items": null,
            "grid_row": null,
            "max_height": null,
            "align_content": null,
            "visibility": null,
            "align_self": null,
            "height": null,
            "min_height": null,
            "padding": null,
            "grid_auto_rows": null,
            "grid_gap": null,
            "max_width": null,
            "order": null,
            "_view_module_version": "1.2.0",
            "grid_template_areas": null,
            "object_position": null,
            "object_fit": null,
            "grid_auto_columns": null,
            "margin": null,
            "display": null,
            "left": null
          }
        },
        "c7695f41f4584c819819b17eb5f13f2c": {
          "model_module": "@jupyter-widgets/controls",
          "model_name": "DescriptionStyleModel",
          "state": {
            "_view_name": "StyleView",
            "_model_name": "DescriptionStyleModel",
            "description_width": "",
            "_view_module": "@jupyter-widgets/base",
            "_model_module_version": "1.5.0",
            "_view_count": null,
            "_view_module_version": "1.2.0",
            "_model_module": "@jupyter-widgets/controls"
          }
        },
        "0ff37e23639f41a39d2d4bb65223dbd2": {
          "model_module": "@jupyter-widgets/base",
          "model_name": "LayoutModel",
          "state": {
            "_view_name": "LayoutView",
            "grid_template_rows": null,
            "right": null,
            "justify_content": null,
            "_view_module": "@jupyter-widgets/base",
            "overflow": null,
            "_model_module_version": "1.2.0",
            "_view_count": null,
            "flex_flow": null,
            "width": null,
            "min_width": null,
            "border": null,
            "align_items": null,
            "bottom": null,
            "_model_module": "@jupyter-widgets/base",
            "top": null,
            "grid_column": null,
            "overflow_y": null,
            "overflow_x": null,
            "grid_auto_flow": null,
            "grid_area": null,
            "grid_template_columns": null,
            "flex": null,
            "_model_name": "LayoutModel",
            "justify_items": null,
            "grid_row": null,
            "max_height": null,
            "align_content": null,
            "visibility": null,
            "align_self": null,
            "height": null,
            "min_height": null,
            "padding": null,
            "grid_auto_rows": null,
            "grid_gap": null,
            "max_width": null,
            "order": null,
            "_view_module_version": "1.2.0",
            "grid_template_areas": null,
            "object_position": null,
            "object_fit": null,
            "grid_auto_columns": null,
            "margin": null,
            "display": null,
            "left": null
          }
        },
        "df7c4d2162fe41ff8b9b7547e8d4b109": {
          "model_module": "@jupyter-widgets/controls",
          "model_name": "HBoxModel",
          "state": {
            "_view_name": "HBoxView",
            "_dom_classes": [],
            "_model_name": "HBoxModel",
            "_view_module": "@jupyter-widgets/controls",
            "_model_module_version": "1.5.0",
            "_view_count": null,
            "_view_module_version": "1.5.0",
            "box_style": "",
            "layout": "IPY_MODEL_a7addc29313d47c5b1932031a37bce4c",
            "_model_module": "@jupyter-widgets/controls",
            "children": [
              "IPY_MODEL_e1d9852362174b98834b74fe4eb983d4",
              "IPY_MODEL_b98d4bb94d384dfa81e71f09f540b6c5"
            ]
          }
        },
        "a7addc29313d47c5b1932031a37bce4c": {
          "model_module": "@jupyter-widgets/base",
          "model_name": "LayoutModel",
          "state": {
            "_view_name": "LayoutView",
            "grid_template_rows": null,
            "right": null,
            "justify_content": null,
            "_view_module": "@jupyter-widgets/base",
            "overflow": null,
            "_model_module_version": "1.2.0",
            "_view_count": null,
            "flex_flow": null,
            "width": null,
            "min_width": null,
            "border": null,
            "align_items": null,
            "bottom": null,
            "_model_module": "@jupyter-widgets/base",
            "top": null,
            "grid_column": null,
            "overflow_y": null,
            "overflow_x": null,
            "grid_auto_flow": null,
            "grid_area": null,
            "grid_template_columns": null,
            "flex": null,
            "_model_name": "LayoutModel",
            "justify_items": null,
            "grid_row": null,
            "max_height": null,
            "align_content": null,
            "visibility": null,
            "align_self": null,
            "height": null,
            "min_height": null,
            "padding": null,
            "grid_auto_rows": null,
            "grid_gap": null,
            "max_width": null,
            "order": null,
            "_view_module_version": "1.2.0",
            "grid_template_areas": null,
            "object_position": null,
            "object_fit": null,
            "grid_auto_columns": null,
            "margin": null,
            "display": null,
            "left": null
          }
        },
        "e1d9852362174b98834b74fe4eb983d4": {
          "model_module": "@jupyter-widgets/controls",
          "model_name": "IntProgressModel",
          "state": {
            "_view_name": "ProgressView",
            "style": "IPY_MODEL_7a1151e34dfb433588f7138e8856ec9b",
            "_dom_classes": [],
            "description": "100%",
            "_model_name": "IntProgressModel",
            "bar_style": "success",
            "max": 698,
            "_view_module": "@jupyter-widgets/controls",
            "_model_module_version": "1.5.0",
            "value": 698,
            "_view_count": null,
            "_view_module_version": "1.5.0",
            "orientation": "horizontal",
            "min": 0,
            "description_tooltip": null,
            "_model_module": "@jupyter-widgets/controls",
            "layout": "IPY_MODEL_1b1474305f4844bc84a99658bdb06576"
          }
        },
        "b98d4bb94d384dfa81e71f09f540b6c5": {
          "model_module": "@jupyter-widgets/controls",
          "model_name": "HTMLModel",
          "state": {
            "_view_name": "HTMLView",
            "style": "IPY_MODEL_64bbb877dc0a47069fab4cd61c1fe7ab",
            "_dom_classes": [],
            "description": "",
            "_model_name": "HTMLModel",
            "placeholder": "​",
            "_view_module": "@jupyter-widgets/controls",
            "_model_module_version": "1.5.0",
            "value": " 698/698 [02:37&lt;00:00,  4.42it/s]",
            "_view_count": null,
            "_view_module_version": "1.5.0",
            "description_tooltip": null,
            "_model_module": "@jupyter-widgets/controls",
            "layout": "IPY_MODEL_a3a82b6e2d694719b1d5f04b36acfe43"
          }
        },
        "7a1151e34dfb433588f7138e8856ec9b": {
          "model_module": "@jupyter-widgets/controls",
          "model_name": "ProgressStyleModel",
          "state": {
            "_view_name": "StyleView",
            "_model_name": "ProgressStyleModel",
            "description_width": "initial",
            "_view_module": "@jupyter-widgets/base",
            "_model_module_version": "1.5.0",
            "_view_count": null,
            "_view_module_version": "1.2.0",
            "bar_color": null,
            "_model_module": "@jupyter-widgets/controls"
          }
        },
        "1b1474305f4844bc84a99658bdb06576": {
          "model_module": "@jupyter-widgets/base",
          "model_name": "LayoutModel",
          "state": {
            "_view_name": "LayoutView",
            "grid_template_rows": null,
            "right": null,
            "justify_content": null,
            "_view_module": "@jupyter-widgets/base",
            "overflow": null,
            "_model_module_version": "1.2.0",
            "_view_count": null,
            "flex_flow": null,
            "width": null,
            "min_width": null,
            "border": null,
            "align_items": null,
            "bottom": null,
            "_model_module": "@jupyter-widgets/base",
            "top": null,
            "grid_column": null,
            "overflow_y": null,
            "overflow_x": null,
            "grid_auto_flow": null,
            "grid_area": null,
            "grid_template_columns": null,
            "flex": null,
            "_model_name": "LayoutModel",
            "justify_items": null,
            "grid_row": null,
            "max_height": null,
            "align_content": null,
            "visibility": null,
            "align_self": null,
            "height": null,
            "min_height": null,
            "padding": null,
            "grid_auto_rows": null,
            "grid_gap": null,
            "max_width": null,
            "order": null,
            "_view_module_version": "1.2.0",
            "grid_template_areas": null,
            "object_position": null,
            "object_fit": null,
            "grid_auto_columns": null,
            "margin": null,
            "display": null,
            "left": null
          }
        },
        "64bbb877dc0a47069fab4cd61c1fe7ab": {
          "model_module": "@jupyter-widgets/controls",
          "model_name": "DescriptionStyleModel",
          "state": {
            "_view_name": "StyleView",
            "_model_name": "DescriptionStyleModel",
            "description_width": "",
            "_view_module": "@jupyter-widgets/base",
            "_model_module_version": "1.5.0",
            "_view_count": null,
            "_view_module_version": "1.2.0",
            "_model_module": "@jupyter-widgets/controls"
          }
        },
        "a3a82b6e2d694719b1d5f04b36acfe43": {
          "model_module": "@jupyter-widgets/base",
          "model_name": "LayoutModel",
          "state": {
            "_view_name": "LayoutView",
            "grid_template_rows": null,
            "right": null,
            "justify_content": null,
            "_view_module": "@jupyter-widgets/base",
            "overflow": null,
            "_model_module_version": "1.2.0",
            "_view_count": null,
            "flex_flow": null,
            "width": null,
            "min_width": null,
            "border": null,
            "align_items": null,
            "bottom": null,
            "_model_module": "@jupyter-widgets/base",
            "top": null,
            "grid_column": null,
            "overflow_y": null,
            "overflow_x": null,
            "grid_auto_flow": null,
            "grid_area": null,
            "grid_template_columns": null,
            "flex": null,
            "_model_name": "LayoutModel",
            "justify_items": null,
            "grid_row": null,
            "max_height": null,
            "align_content": null,
            "visibility": null,
            "align_self": null,
            "height": null,
            "min_height": null,
            "padding": null,
            "grid_auto_rows": null,
            "grid_gap": null,
            "max_width": null,
            "order": null,
            "_view_module_version": "1.2.0",
            "grid_template_areas": null,
            "object_position": null,
            "object_fit": null,
            "grid_auto_columns": null,
            "margin": null,
            "display": null,
            "left": null
          }
        },
        "0de02a06ebc84690a0aeadeea6700143": {
          "model_module": "@jupyter-widgets/controls",
          "model_name": "HBoxModel",
          "state": {
            "_view_name": "HBoxView",
            "_dom_classes": [],
            "_model_name": "HBoxModel",
            "_view_module": "@jupyter-widgets/controls",
            "_model_module_version": "1.5.0",
            "_view_count": null,
            "_view_module_version": "1.5.0",
            "box_style": "",
            "layout": "IPY_MODEL_25e6ebb8ae3b472d9d5221b55348049b",
            "_model_module": "@jupyter-widgets/controls",
            "children": [
              "IPY_MODEL_34b69791e6ea4a7a85731231f97f781a",
              "IPY_MODEL_53d40bd90f0341f396e1f969d3a58a27"
            ]
          }
        },
        "25e6ebb8ae3b472d9d5221b55348049b": {
          "model_module": "@jupyter-widgets/base",
          "model_name": "LayoutModel",
          "state": {
            "_view_name": "LayoutView",
            "grid_template_rows": null,
            "right": null,
            "justify_content": null,
            "_view_module": "@jupyter-widgets/base",
            "overflow": null,
            "_model_module_version": "1.2.0",
            "_view_count": null,
            "flex_flow": null,
            "width": null,
            "min_width": null,
            "border": null,
            "align_items": null,
            "bottom": null,
            "_model_module": "@jupyter-widgets/base",
            "top": null,
            "grid_column": null,
            "overflow_y": null,
            "overflow_x": null,
            "grid_auto_flow": null,
            "grid_area": null,
            "grid_template_columns": null,
            "flex": null,
            "_model_name": "LayoutModel",
            "justify_items": null,
            "grid_row": null,
            "max_height": null,
            "align_content": null,
            "visibility": null,
            "align_self": null,
            "height": null,
            "min_height": null,
            "padding": null,
            "grid_auto_rows": null,
            "grid_gap": null,
            "max_width": null,
            "order": null,
            "_view_module_version": "1.2.0",
            "grid_template_areas": null,
            "object_position": null,
            "object_fit": null,
            "grid_auto_columns": null,
            "margin": null,
            "display": null,
            "left": null
          }
        },
        "34b69791e6ea4a7a85731231f97f781a": {
          "model_module": "@jupyter-widgets/controls",
          "model_name": "IntProgressModel",
          "state": {
            "_view_name": "ProgressView",
            "style": "IPY_MODEL_26a76e6ce797437c9678fa09a203d02f",
            "_dom_classes": [],
            "description": "100%",
            "_model_name": "IntProgressModel",
            "bar_style": "success",
            "max": 334421,
            "_view_module": "@jupyter-widgets/controls",
            "_model_module_version": "1.5.0",
            "value": 334421,
            "_view_count": null,
            "_view_module_version": "1.5.0",
            "orientation": "horizontal",
            "min": 0,
            "description_tooltip": null,
            "_model_module": "@jupyter-widgets/controls",
            "layout": "IPY_MODEL_0f920c4ca06046c38410d3282a6999aa"
          }
        },
        "53d40bd90f0341f396e1f969d3a58a27": {
          "model_module": "@jupyter-widgets/controls",
          "model_name": "HTMLModel",
          "state": {
            "_view_name": "HTMLView",
            "style": "IPY_MODEL_8bc573966dfe46e190b9d3de8edff963",
            "_dom_classes": [],
            "description": "",
            "_model_name": "HTMLModel",
            "placeholder": "​",
            "_view_module": "@jupyter-widgets/controls",
            "_model_module_version": "1.5.0",
            "value": " 334421/334421 [00:37&lt;00:00, 8909.42it/s]",
            "_view_count": null,
            "_view_module_version": "1.5.0",
            "description_tooltip": null,
            "_model_module": "@jupyter-widgets/controls",
            "layout": "IPY_MODEL_640d2d7f473d47d0a045e4a6ed5b195d"
          }
        },
        "26a76e6ce797437c9678fa09a203d02f": {
          "model_module": "@jupyter-widgets/controls",
          "model_name": "ProgressStyleModel",
          "state": {
            "_view_name": "StyleView",
            "_model_name": "ProgressStyleModel",
            "description_width": "initial",
            "_view_module": "@jupyter-widgets/base",
            "_model_module_version": "1.5.0",
            "_view_count": null,
            "_view_module_version": "1.2.0",
            "bar_color": null,
            "_model_module": "@jupyter-widgets/controls"
          }
        },
        "0f920c4ca06046c38410d3282a6999aa": {
          "model_module": "@jupyter-widgets/base",
          "model_name": "LayoutModel",
          "state": {
            "_view_name": "LayoutView",
            "grid_template_rows": null,
            "right": null,
            "justify_content": null,
            "_view_module": "@jupyter-widgets/base",
            "overflow": null,
            "_model_module_version": "1.2.0",
            "_view_count": null,
            "flex_flow": null,
            "width": null,
            "min_width": null,
            "border": null,
            "align_items": null,
            "bottom": null,
            "_model_module": "@jupyter-widgets/base",
            "top": null,
            "grid_column": null,
            "overflow_y": null,
            "overflow_x": null,
            "grid_auto_flow": null,
            "grid_area": null,
            "grid_template_columns": null,
            "flex": null,
            "_model_name": "LayoutModel",
            "justify_items": null,
            "grid_row": null,
            "max_height": null,
            "align_content": null,
            "visibility": null,
            "align_self": null,
            "height": null,
            "min_height": null,
            "padding": null,
            "grid_auto_rows": null,
            "grid_gap": null,
            "max_width": null,
            "order": null,
            "_view_module_version": "1.2.0",
            "grid_template_areas": null,
            "object_position": null,
            "object_fit": null,
            "grid_auto_columns": null,
            "margin": null,
            "display": null,
            "left": null
          }
        },
        "8bc573966dfe46e190b9d3de8edff963": {
          "model_module": "@jupyter-widgets/controls",
          "model_name": "DescriptionStyleModel",
          "state": {
            "_view_name": "StyleView",
            "_model_name": "DescriptionStyleModel",
            "description_width": "",
            "_view_module": "@jupyter-widgets/base",
            "_model_module_version": "1.5.0",
            "_view_count": null,
            "_view_module_version": "1.2.0",
            "_model_module": "@jupyter-widgets/controls"
          }
        },
        "640d2d7f473d47d0a045e4a6ed5b195d": {
          "model_module": "@jupyter-widgets/base",
          "model_name": "LayoutModel",
          "state": {
            "_view_name": "LayoutView",
            "grid_template_rows": null,
            "right": null,
            "justify_content": null,
            "_view_module": "@jupyter-widgets/base",
            "overflow": null,
            "_model_module_version": "1.2.0",
            "_view_count": null,
            "flex_flow": null,
            "width": null,
            "min_width": null,
            "border": null,
            "align_items": null,
            "bottom": null,
            "_model_module": "@jupyter-widgets/base",
            "top": null,
            "grid_column": null,
            "overflow_y": null,
            "overflow_x": null,
            "grid_auto_flow": null,
            "grid_area": null,
            "grid_template_columns": null,
            "flex": null,
            "_model_name": "LayoutModel",
            "justify_items": null,
            "grid_row": null,
            "max_height": null,
            "align_content": null,
            "visibility": null,
            "align_self": null,
            "height": null,
            "min_height": null,
            "padding": null,
            "grid_auto_rows": null,
            "grid_gap": null,
            "max_width": null,
            "order": null,
            "_view_module_version": "1.2.0",
            "grid_template_areas": null,
            "object_position": null,
            "object_fit": null,
            "grid_auto_columns": null,
            "margin": null,
            "display": null,
            "left": null
          }
        },
        "3d0979d98b494527b0e1d41ea03fa819": {
          "model_module": "@jupyter-widgets/controls",
          "model_name": "HBoxModel",
          "state": {
            "_view_name": "HBoxView",
            "_dom_classes": [],
            "_model_name": "HBoxModel",
            "_view_module": "@jupyter-widgets/controls",
            "_model_module_version": "1.5.0",
            "_view_count": null,
            "_view_module_version": "1.5.0",
            "box_style": "",
            "layout": "IPY_MODEL_44299da0b5fd4bb4a226c1a4c6e30c1a",
            "_model_module": "@jupyter-widgets/controls",
            "children": [
              "IPY_MODEL_b74070b9d1ad4d2c98469d260dc21b2d",
              "IPY_MODEL_31a1dbfecd164492a722d1edbba89f00"
            ]
          }
        },
        "44299da0b5fd4bb4a226c1a4c6e30c1a": {
          "model_module": "@jupyter-widgets/base",
          "model_name": "LayoutModel",
          "state": {
            "_view_name": "LayoutView",
            "grid_template_rows": null,
            "right": null,
            "justify_content": null,
            "_view_module": "@jupyter-widgets/base",
            "overflow": null,
            "_model_module_version": "1.2.0",
            "_view_count": null,
            "flex_flow": null,
            "width": null,
            "min_width": null,
            "border": null,
            "align_items": null,
            "bottom": null,
            "_model_module": "@jupyter-widgets/base",
            "top": null,
            "grid_column": null,
            "overflow_y": null,
            "overflow_x": null,
            "grid_auto_flow": null,
            "grid_area": null,
            "grid_template_columns": null,
            "flex": null,
            "_model_name": "LayoutModel",
            "justify_items": null,
            "grid_row": null,
            "max_height": null,
            "align_content": null,
            "visibility": null,
            "align_self": null,
            "height": null,
            "min_height": null,
            "padding": null,
            "grid_auto_rows": null,
            "grid_gap": null,
            "max_width": null,
            "order": null,
            "_view_module_version": "1.2.0",
            "grid_template_areas": null,
            "object_position": null,
            "object_fit": null,
            "grid_auto_columns": null,
            "margin": null,
            "display": null,
            "left": null
          }
        },
        "b74070b9d1ad4d2c98469d260dc21b2d": {
          "model_module": "@jupyter-widgets/controls",
          "model_name": "IntProgressModel",
          "state": {
            "_view_name": "ProgressView",
            "style": "IPY_MODEL_3c0fa36555524ecd93228b2c6821d272",
            "_dom_classes": [],
            "description": "Epoch:   0%",
            "_model_name": "IntProgressModel",
            "bar_style": "",
            "max": 2,
            "_view_module": "@jupyter-widgets/controls",
            "_model_module_version": "1.5.0",
            "value": 0,
            "_view_count": null,
            "_view_module_version": "1.5.0",
            "orientation": "horizontal",
            "min": 0,
            "description_tooltip": null,
            "_model_module": "@jupyter-widgets/controls",
            "layout": "IPY_MODEL_fa4e638fb067479e988fb0d1e6811a5b"
          }
        },
        "31a1dbfecd164492a722d1edbba89f00": {
          "model_module": "@jupyter-widgets/controls",
          "model_name": "HTMLModel",
          "state": {
            "_view_name": "HTMLView",
            "style": "IPY_MODEL_b95d5b3d57a54faeb0fef34b8aeabe1e",
            "_dom_classes": [],
            "description": "",
            "_model_name": "HTMLModel",
            "placeholder": "​",
            "_view_module": "@jupyter-widgets/controls",
            "_model_module_version": "1.5.0",
            "value": " 0/2 [00:00&lt;?, ?it/s]",
            "_view_count": null,
            "_view_module_version": "1.5.0",
            "description_tooltip": null,
            "_model_module": "@jupyter-widgets/controls",
            "layout": "IPY_MODEL_776df0f1eaed48438329524323652b2b"
          }
        },
        "3c0fa36555524ecd93228b2c6821d272": {
          "model_module": "@jupyter-widgets/controls",
          "model_name": "ProgressStyleModel",
          "state": {
            "_view_name": "StyleView",
            "_model_name": "ProgressStyleModel",
            "description_width": "initial",
            "_view_module": "@jupyter-widgets/base",
            "_model_module_version": "1.5.0",
            "_view_count": null,
            "_view_module_version": "1.2.0",
            "bar_color": null,
            "_model_module": "@jupyter-widgets/controls"
          }
        },
        "fa4e638fb067479e988fb0d1e6811a5b": {
          "model_module": "@jupyter-widgets/base",
          "model_name": "LayoutModel",
          "state": {
            "_view_name": "LayoutView",
            "grid_template_rows": null,
            "right": null,
            "justify_content": null,
            "_view_module": "@jupyter-widgets/base",
            "overflow": null,
            "_model_module_version": "1.2.0",
            "_view_count": null,
            "flex_flow": null,
            "width": null,
            "min_width": null,
            "border": null,
            "align_items": null,
            "bottom": null,
            "_model_module": "@jupyter-widgets/base",
            "top": null,
            "grid_column": null,
            "overflow_y": null,
            "overflow_x": null,
            "grid_auto_flow": null,
            "grid_area": null,
            "grid_template_columns": null,
            "flex": null,
            "_model_name": "LayoutModel",
            "justify_items": null,
            "grid_row": null,
            "max_height": null,
            "align_content": null,
            "visibility": null,
            "align_self": null,
            "height": null,
            "min_height": null,
            "padding": null,
            "grid_auto_rows": null,
            "grid_gap": null,
            "max_width": null,
            "order": null,
            "_view_module_version": "1.2.0",
            "grid_template_areas": null,
            "object_position": null,
            "object_fit": null,
            "grid_auto_columns": null,
            "margin": null,
            "display": null,
            "left": null
          }
        },
        "b95d5b3d57a54faeb0fef34b8aeabe1e": {
          "model_module": "@jupyter-widgets/controls",
          "model_name": "DescriptionStyleModel",
          "state": {
            "_view_name": "StyleView",
            "_model_name": "DescriptionStyleModel",
            "description_width": "",
            "_view_module": "@jupyter-widgets/base",
            "_model_module_version": "1.5.0",
            "_view_count": null,
            "_view_module_version": "1.2.0",
            "_model_module": "@jupyter-widgets/controls"
          }
        },
        "776df0f1eaed48438329524323652b2b": {
          "model_module": "@jupyter-widgets/base",
          "model_name": "LayoutModel",
          "state": {
            "_view_name": "LayoutView",
            "grid_template_rows": null,
            "right": null,
            "justify_content": null,
            "_view_module": "@jupyter-widgets/base",
            "overflow": null,
            "_model_module_version": "1.2.0",
            "_view_count": null,
            "flex_flow": null,
            "width": null,
            "min_width": null,
            "border": null,
            "align_items": null,
            "bottom": null,
            "_model_module": "@jupyter-widgets/base",
            "top": null,
            "grid_column": null,
            "overflow_y": null,
            "overflow_x": null,
            "grid_auto_flow": null,
            "grid_area": null,
            "grid_template_columns": null,
            "flex": null,
            "_model_name": "LayoutModel",
            "justify_items": null,
            "grid_row": null,
            "max_height": null,
            "align_content": null,
            "visibility": null,
            "align_self": null,
            "height": null,
            "min_height": null,
            "padding": null,
            "grid_auto_rows": null,
            "grid_gap": null,
            "max_width": null,
            "order": null,
            "_view_module_version": "1.2.0",
            "grid_template_areas": null,
            "object_position": null,
            "object_fit": null,
            "grid_auto_columns": null,
            "margin": null,
            "display": null,
            "left": null
          }
        },
        "85b846be86a946e69324b3b437fcede6": {
          "model_module": "@jupyter-widgets/controls",
          "model_name": "HBoxModel",
          "state": {
            "_view_name": "HBoxView",
            "_dom_classes": [],
            "_model_name": "HBoxModel",
            "_view_module": "@jupyter-widgets/controls",
            "_model_module_version": "1.5.0",
            "_view_count": null,
            "_view_module_version": "1.5.0",
            "box_style": "",
            "layout": "IPY_MODEL_906f2558e9e6446c84d520892990b594",
            "_model_module": "@jupyter-widgets/controls",
            "children": [
              "IPY_MODEL_cdb5e6f352484262bb506e67db1b95b0",
              "IPY_MODEL_d0b6bbf48f8a43899feec7ffe5210ce7"
            ]
          }
        },
        "906f2558e9e6446c84d520892990b594": {
          "model_module": "@jupyter-widgets/base",
          "model_name": "LayoutModel",
          "state": {
            "_view_name": "LayoutView",
            "grid_template_rows": null,
            "right": null,
            "justify_content": null,
            "_view_module": "@jupyter-widgets/base",
            "overflow": null,
            "_model_module_version": "1.2.0",
            "_view_count": null,
            "flex_flow": null,
            "width": null,
            "min_width": null,
            "border": null,
            "align_items": null,
            "bottom": null,
            "_model_module": "@jupyter-widgets/base",
            "top": null,
            "grid_column": null,
            "overflow_y": null,
            "overflow_x": null,
            "grid_auto_flow": null,
            "grid_area": null,
            "grid_template_columns": null,
            "flex": null,
            "_model_name": "LayoutModel",
            "justify_items": null,
            "grid_row": null,
            "max_height": null,
            "align_content": null,
            "visibility": null,
            "align_self": null,
            "height": null,
            "min_height": null,
            "padding": null,
            "grid_auto_rows": null,
            "grid_gap": null,
            "max_width": null,
            "order": null,
            "_view_module_version": "1.2.0",
            "grid_template_areas": null,
            "object_position": null,
            "object_fit": null,
            "grid_auto_columns": null,
            "margin": null,
            "display": null,
            "left": null
          }
        },
        "cdb5e6f352484262bb506e67db1b95b0": {
          "model_module": "@jupyter-widgets/controls",
          "model_name": "IntProgressModel",
          "state": {
            "_view_name": "ProgressView",
            "style": "IPY_MODEL_6c5281579a6a4e5892d2c17bd96a1921",
            "_dom_classes": [],
            "description": "Current iteration:   0%",
            "_model_name": "IntProgressModel",
            "bar_style": "",
            "max": 2613,
            "_view_module": "@jupyter-widgets/controls",
            "_model_module_version": "1.5.0",
            "value": 0,
            "_view_count": null,
            "_view_module_version": "1.5.0",
            "orientation": "horizontal",
            "min": 0,
            "description_tooltip": null,
            "_model_module": "@jupyter-widgets/controls",
            "layout": "IPY_MODEL_98d99b76564f40058c211f8ab96ec80d"
          }
        },
        "d0b6bbf48f8a43899feec7ffe5210ce7": {
          "model_module": "@jupyter-widgets/controls",
          "model_name": "HTMLModel",
          "state": {
            "_view_name": "HTMLView",
            "style": "IPY_MODEL_9f9150ad73e843f08227d5eefd714550",
            "_dom_classes": [],
            "description": "",
            "_model_name": "HTMLModel",
            "placeholder": "​",
            "_view_module": "@jupyter-widgets/controls",
            "_model_module_version": "1.5.0",
            "value": " 0/2613 [00:00&lt;?, ?it/s]",
            "_view_count": null,
            "_view_module_version": "1.5.0",
            "description_tooltip": null,
            "_model_module": "@jupyter-widgets/controls",
            "layout": "IPY_MODEL_dd133d29bcf14fabbd5b34b24d7c6e3b"
          }
        },
        "6c5281579a6a4e5892d2c17bd96a1921": {
          "model_module": "@jupyter-widgets/controls",
          "model_name": "ProgressStyleModel",
          "state": {
            "_view_name": "StyleView",
            "_model_name": "ProgressStyleModel",
            "description_width": "initial",
            "_view_module": "@jupyter-widgets/base",
            "_model_module_version": "1.5.0",
            "_view_count": null,
            "_view_module_version": "1.2.0",
            "bar_color": null,
            "_model_module": "@jupyter-widgets/controls"
          }
        },
        "98d99b76564f40058c211f8ab96ec80d": {
          "model_module": "@jupyter-widgets/base",
          "model_name": "LayoutModel",
          "state": {
            "_view_name": "LayoutView",
            "grid_template_rows": null,
            "right": null,
            "justify_content": null,
            "_view_module": "@jupyter-widgets/base",
            "overflow": null,
            "_model_module_version": "1.2.0",
            "_view_count": null,
            "flex_flow": null,
            "width": null,
            "min_width": null,
            "border": null,
            "align_items": null,
            "bottom": null,
            "_model_module": "@jupyter-widgets/base",
            "top": null,
            "grid_column": null,
            "overflow_y": null,
            "overflow_x": null,
            "grid_auto_flow": null,
            "grid_area": null,
            "grid_template_columns": null,
            "flex": null,
            "_model_name": "LayoutModel",
            "justify_items": null,
            "grid_row": null,
            "max_height": null,
            "align_content": null,
            "visibility": null,
            "align_self": null,
            "height": null,
            "min_height": null,
            "padding": null,
            "grid_auto_rows": null,
            "grid_gap": null,
            "max_width": null,
            "order": null,
            "_view_module_version": "1.2.0",
            "grid_template_areas": null,
            "object_position": null,
            "object_fit": null,
            "grid_auto_columns": null,
            "margin": null,
            "display": null,
            "left": null
          }
        },
        "9f9150ad73e843f08227d5eefd714550": {
          "model_module": "@jupyter-widgets/controls",
          "model_name": "DescriptionStyleModel",
          "state": {
            "_view_name": "StyleView",
            "_model_name": "DescriptionStyleModel",
            "description_width": "",
            "_view_module": "@jupyter-widgets/base",
            "_model_module_version": "1.5.0",
            "_view_count": null,
            "_view_module_version": "1.2.0",
            "_model_module": "@jupyter-widgets/controls"
          }
        },
        "dd133d29bcf14fabbd5b34b24d7c6e3b": {
          "model_module": "@jupyter-widgets/base",
          "model_name": "LayoutModel",
          "state": {
            "_view_name": "LayoutView",
            "grid_template_rows": null,
            "right": null,
            "justify_content": null,
            "_view_module": "@jupyter-widgets/base",
            "overflow": null,
            "_model_module_version": "1.2.0",
            "_view_count": null,
            "flex_flow": null,
            "width": null,
            "min_width": null,
            "border": null,
            "align_items": null,
            "bottom": null,
            "_model_module": "@jupyter-widgets/base",
            "top": null,
            "grid_column": null,
            "overflow_y": null,
            "overflow_x": null,
            "grid_auto_flow": null,
            "grid_area": null,
            "grid_template_columns": null,
            "flex": null,
            "_model_name": "LayoutModel",
            "justify_items": null,
            "grid_row": null,
            "max_height": null,
            "align_content": null,
            "visibility": null,
            "align_self": null,
            "height": null,
            "min_height": null,
            "padding": null,
            "grid_auto_rows": null,
            "grid_gap": null,
            "max_width": null,
            "order": null,
            "_view_module_version": "1.2.0",
            "grid_template_areas": null,
            "object_position": null,
            "object_fit": null,
            "grid_auto_columns": null,
            "margin": null,
            "display": null,
            "left": null
          }
        }
      }
    }
  },
  "cells": [
    {
      "cell_type": "markdown",
      "metadata": {
        "id": "view-in-github",
        "colab_type": "text"
      },
      "source": [
        "<a href=\"https://colab.research.google.com/github/RachitBansal/RedditFlairDetector/blob/master/3_Modelling_DL.ipynb\" target=\"_parent\"><img src=\"https://colab.research.google.com/assets/colab-badge.svg\" alt=\"Open In Colab\"/></a>"
      ]
    },
    {
      "cell_type": "code",
      "metadata": {
        "id": "WA7ZfYrdBzzy",
        "colab_type": "code",
        "colab": {}
      },
      "source": [
        "import pandas as pd\n",
        "import numpy as np"
      ],
      "execution_count": 0,
      "outputs": []
    },
    {
      "cell_type": "code",
      "metadata": {
        "id": "8LLvKgftCBAA",
        "colab_type": "code",
        "outputId": "5347a484-0d5a-4976-a531-1cc60a1c1336",
        "colab": {
          "base_uri": "https://localhost:8080/",
          "height": 34
        }
      },
      "source": [
        "from google.colab import drive\n",
        "drive.mount('drive')"
      ],
      "execution_count": 5,
      "outputs": [
        {
          "output_type": "stream",
          "text": [
            "Drive already mounted at drive; to attempt to forcibly remount, call drive.mount(\"drive\", force_remount=True).\n"
          ],
          "name": "stdout"
        }
      ]
    },
    {
      "cell_type": "markdown",
      "metadata": {
        "id": "nx43PlHvazpR",
        "colab_type": "text"
      },
      "source": [
        "**LSTM**"
      ]
    },
    {
      "cell_type": "code",
      "metadata": {
        "id": "eYRrt4GNUOGp",
        "colab_type": "code",
        "colab": {}
      },
      "source": [
        "import torch\n",
        "import torch.nn as nn\n",
        "import torch.nn.functional as F\n",
        "import torch.optim as optim\n",
        "from torchtext import data\n",
        "import torchtext"
      ],
      "execution_count": 0,
      "outputs": []
    },
    {
      "cell_type": "code",
      "metadata": {
        "id": "Kr0c3n-RUPnb",
        "colab_type": "code",
        "colab": {}
      },
      "source": [
        "torch.backends.cudnn.deterministic = True  "
      ],
      "execution_count": 0,
      "outputs": []
    },
    {
      "cell_type": "code",
      "metadata": {
        "id": "SXMRiiL3UVUW",
        "colab_type": "code",
        "colab": {}
      },
      "source": [
        "TEXT = data.Field(tokenize='spacy',batch_first=True,include_lengths=True, lower = True, )\n",
        "LABEL = data.LabelField(dtype = torch.float,batch_first=True, lower = True)"
      ],
      "execution_count": 0,
      "outputs": []
    },
    {
      "cell_type": "code",
      "metadata": {
        "id": "bdzPzFB3HgL5",
        "colab_type": "code",
        "colab": {}
      },
      "source": [
        "def processURL(words):\n",
        "    try:\n",
        "      words = words.split('://')[1]\n",
        "      words = words.split('/')\n",
        "      return ' '.join([' '.join(word.split('.')) for word in words])\n",
        "    except:\n",
        "      return words"
      ],
      "execution_count": 0,
      "outputs": []
    },
    {
      "cell_type": "code",
      "metadata": {
        "id": "0oVOrh6GHhu5",
        "colab_type": "code",
        "colab": {}
      },
      "source": [
        "df = pd.read_csv('drive/My Drive/rMIDAS.csv')\n",
        "# df['url'] = df['url'].apply(processURL)"
      ],
      "execution_count": 0,
      "outputs": []
    },
    {
      "cell_type": "code",
      "metadata": {
        "id": "vllCidFlH1Gv",
        "colab_type": "code",
        "colab": {}
      },
      "source": [
        "# df.head()\n",
        "df.to_csv('drive/My Drive/rMIDAS.csv', index = False)"
      ],
      "execution_count": 0,
      "outputs": []
    },
    {
      "cell_type": "code",
      "metadata": {
        "id": "IT9Hw_aJkusw",
        "colab_type": "code",
        "colab": {
          "base_uri": "https://localhost:8080/",
          "height": 206
        },
        "outputId": "8a00bf50-8038-474c-f75d-8881deeae9aa"
      },
      "source": [
        "df.head()"
      ],
      "execution_count": 30,
      "outputs": [
        {
          "output_type": "execute_result",
          "data": {
            "text/html": [
              "<div>\n",
              "<style scoped>\n",
              "    .dataframe tbody tr th:only-of-type {\n",
              "        vertical-align: middle;\n",
              "    }\n",
              "\n",
              "    .dataframe tbody tr th {\n",
              "        vertical-align: top;\n",
              "    }\n",
              "\n",
              "    .dataframe thead th {\n",
              "        text-align: right;\n",
              "    }\n",
              "</style>\n",
              "<table border=\"1\" class=\"dataframe\">\n",
              "  <thead>\n",
              "    <tr style=\"text-align: right;\">\n",
              "      <th></th>\n",
              "      <th>created_utc</th>\n",
              "      <th>id</th>\n",
              "      <th>link_flair_text</th>\n",
              "      <th>num_comments</th>\n",
              "      <th>selftext</th>\n",
              "      <th>title</th>\n",
              "      <th>url</th>\n",
              "    </tr>\n",
              "  </thead>\n",
              "  <tbody>\n",
              "    <tr>\n",
              "      <th>0</th>\n",
              "      <td>1.558946e+09</td>\n",
              "      <td>btjiv5</td>\n",
              "      <td>Politics</td>\n",
              "      <td>3</td>\n",
              "      <td>None</td>\n",
              "      <td>Remembering Jawaharlal Nehru on his death anni...</td>\n",
              "      <td>i redd it txph3eq1sp031 jpg</td>\n",
              "    </tr>\n",
              "    <tr>\n",
              "      <th>1</th>\n",
              "      <td>1.501065e+09</td>\n",
              "      <td>6pn4gj</td>\n",
              "      <td>Non-Political</td>\n",
              "      <td>0</td>\n",
              "      <td>None</td>\n",
              "      <td>[FRESH VIDEO] Armaan Malik - 'Barfani' (Babumo...</td>\n",
              "      <td>www youtube com watch?v=LzETSqumgCY</td>\n",
              "    </tr>\n",
              "    <tr>\n",
              "      <th>2</th>\n",
              "      <td>1.574087e+09</td>\n",
              "      <td>dy3t9k</td>\n",
              "      <td>Non-Political</td>\n",
              "      <td>2</td>\n",
              "      <td>Today I had an appointment for my kid's passpo...</td>\n",
              "      <td>Whims and fancies of officers at PSK [NP]</td>\n",
              "      <td>www reddit com r india comments dy3t9k whims_a...</td>\n",
              "    </tr>\n",
              "    <tr>\n",
              "      <th>3</th>\n",
              "      <td>1.410478e+09</td>\n",
              "      <td>2g5gqn</td>\n",
              "      <td>Non-Political</td>\n",
              "      <td>1</td>\n",
              "      <td>None</td>\n",
              "      <td>Rann Utsav - A festival in the deserts of Kutc...</td>\n",
              "      <td>www rannutsav net</td>\n",
              "    </tr>\n",
              "    <tr>\n",
              "      <th>4</th>\n",
              "      <td>1.483609e+09</td>\n",
              "      <td>5m5j3f</td>\n",
              "      <td>Science/Technology</td>\n",
              "      <td>3</td>\n",
              "      <td>None</td>\n",
              "      <td>CCMB signs MoUs with four startups</td>\n",
              "      <td>economictimes indiatimes com small-biz startup...</td>\n",
              "    </tr>\n",
              "  </tbody>\n",
              "</table>\n",
              "</div>"
            ],
            "text/plain": [
              "    created_utc  ...                                                url\n",
              "0  1.558946e+09  ...                        i redd it txph3eq1sp031 jpg\n",
              "1  1.501065e+09  ...                www youtube com watch?v=LzETSqumgCY\n",
              "2  1.574087e+09  ...  www reddit com r india comments dy3t9k whims_a...\n",
              "3  1.410478e+09  ...                                 www rannutsav net \n",
              "4  1.483609e+09  ...  economictimes indiatimes com small-biz startup...\n",
              "\n",
              "[5 rows x 7 columns]"
            ]
          },
          "metadata": {
            "tags": []
          },
          "execution_count": 30
        }
      ]
    },
    {
      "cell_type": "code",
      "metadata": {
        "id": "2KjcarPC-X45",
        "colab_type": "code",
        "outputId": "abae3c55-d440-4543-fd0a-598cc79c6b33",
        "colab": {
          "base_uri": "https://localhost:8080/",
          "height": 34
        }
      },
      "source": [
        "fields = [(None, None), (None, None), ('flair', LABEL), (None, None), (None, None), ('title', TEXT), (None, None)]\n",
        "training_data=data.TabularDataset(path = 'drive/My Drive/rMIDAS.csv', format = 'csv', fields = fields, skip_header = True)\n",
        "\n",
        "print(vars(training_data.examples[3]))"
      ],
      "execution_count": 31,
      "outputs": [
        {
          "output_type": "stream",
          "text": [
            "{'flair': 'non-political', 'title': ['rann', 'utsav', '-', 'a', 'festival', 'in', 'the', 'deserts', 'of', 'kutch', ',', 'gujarat', '.']}\n"
          ],
          "name": "stdout"
        }
      ]
    },
    {
      "cell_type": "code",
      "metadata": {
        "id": "vjFcLvK9t_7a",
        "colab_type": "code",
        "outputId": "ca07be69-5d33-4371-9b50-29da64252e3a",
        "colab": {
          "base_uri": "https://localhost:8080/",
          "height": 104
        }
      },
      "source": [
        "for i in range(5):\n",
        "  print(vars(training_data.examples[i]))"
      ],
      "execution_count": 32,
      "outputs": [
        {
          "output_type": "stream",
          "text": [
            "{'flair': 'politics', 'title': ['remembering', 'jawaharlal', 'nehru', 'on', 'his', 'death', 'anniversary']}\n",
            "{'flair': 'non-political', 'title': ['[', 'fresh', 'video', ']', 'armaan', 'malik', '-', \"'\", 'barfani', \"'\", '(', 'babumoshai', 'bandookbaaz', ',', 'nawazuddin', 'siddiqui', ',', 'bidita', 'bag', ')']}\n",
            "{'flair': 'non-political', 'title': ['whims', 'and', 'fancies', 'of', 'officers', 'at', 'psk', '[', 'np', ']']}\n",
            "{'flair': 'non-political', 'title': ['rann', 'utsav', '-', 'a', 'festival', 'in', 'the', 'deserts', 'of', 'kutch', ',', 'gujarat', '.']}\n",
            "{'flair': 'science/technology', 'title': ['ccmb', 'signs', 'mous', 'with', 'four', 'startups']}\n"
          ],
          "name": "stdout"
        }
      ]
    },
    {
      "cell_type": "code",
      "metadata": {
        "id": "AU9eAmvlVHVk",
        "colab_type": "code",
        "colab": {}
      },
      "source": [
        "train_data, valid_data = training_data.split(split_ratio=0.7)"
      ],
      "execution_count": 0,
      "outputs": []
    },
    {
      "cell_type": "code",
      "metadata": {
        "id": "MRYM4GxcGBjA",
        "colab_type": "code",
        "colab": {}
      },
      "source": [
        "vectors = torchtext.vocab.Vectors('wiki-news-300d-1M.vec', cache = './drive/My Drive/')"
      ],
      "execution_count": 0,
      "outputs": []
    },
    {
      "cell_type": "code",
      "metadata": {
        "id": "5ZETCN3fWN-3",
        "colab_type": "code",
        "outputId": "2dc742f8-d915-4294-e4db-a5d2f610da61",
        "colab": {
          "base_uri": "https://localhost:8080/",
          "height": 124
        }
      },
      "source": [
        "TEXT.build_vocab(train_data,min_freq=3, vectors = vectors)  \n",
        "LABEL.build_vocab(train_data)\n",
        "\n",
        "print(\"Size of topic vocab:\",len(TEXT.vocab))\n",
        "\n",
        "print(\"Size of flair vocab:\",len(LABEL.vocab))\n",
        "\n",
        "print(TEXT.vocab.freqs.most_common(11))  \n",
        "\n",
        "print(LABEL.vocab.freqs.most_common(14))\n",
        "\n",
        "print(TEXT.vocab.stoi)"
      ],
      "execution_count": 35,
      "outputs": [
        {
          "output_type": "stream",
          "text": [
            "Size of topic vocab: 40014\n",
            "Size of flair vocab: 24\n",
            "[(',', 103173), ('to', 90880), ('in', 89765), ('the', 82255), ('of', 69979), ('.', 64231), (':', 59067), ('india', 58084), ('-', 53017), ('?', 52648), ('a', 50147)]\n",
            "[('non-political', 105894), ('politics', 91019), ('askindia', 32238), ('policy/economy', 18841), ('business/finance', 12816), ('science/technology', 11072), ('[r]eddiquette', 7303), ('coronavirus', 4841), ('sports', 4375), ('not in english.', 3272), ('entertainment', 3093), ('photography', 3027), ('food', 2361), ('not about india.', 1817)]\n",
            "defaultdict(<function _default_unk_index at 0x7f194f2c8ae8>, {'<unk>': 0, '<pad>': 1, ',': 2, 'to': 3, 'in': 4, 'the': 5, 'of': 6, '.': 7, ':': 8, 'india': 9, '-': 10, '?': 11, 'a': 12, 'for': 13, 'and': 14, 'on': 15, 'is': 16, \"'s\": 17, '[': 18, ']': 19, \"'\": 20, 'with': 21, 'indian': 22, 'from': 23, 'you': 24, 'i': 25, '!': 26, 'modi': 27, 'it': 28, 'what': 29, 'by': 30, 'this': 31, '’s': 32, '\"': 33, 'are': 34, 'at': 35, 'how': 36, '|': 37, ')': 38, 'do': 39, '/': 40, 'be': 41, 'as': 42, '(': 43, 'that': 44, 'not': 45, 'bjp': 46, 'np': 47, ';': 48, 'have': 49, 'why': 50, 'delhi': 51, 'up': 52, 'will': 53, 'about': 54, 'your': 55, 'an': 56, 'can': 57, 'after': 58, 'has': 59, 'my': 60, 'says': 61, '’': 62, 'who': 63, 'new': 64, '‘': 65, 'was': 66, 'pm': 67, 'we': 68, 'all': 69, \"n't\": 70, 'people': 71, 'or': 72, 'over': 73, 'rs': 74, '#': 75, 'no': 76, 'out': 77, 'government': 78, '&': 79, 'if': 80, 'against': 81, 'one': 82, 'now': 83, 'pakistan': 84, 'govt': 85, 'amp': 86, 'help': 87, 'his': 88, 'news': 89, 'world': 90, 'get': 91, 'but': 92, 'me': 93, 'us': 94, 'like': 95, 'r': 96, 'congress': 97, 'more': 98, 'should': 99, '...': 100, 'mumbai': 101, 'first': 102, 'need': 103, 'day': 104, 'narendra': 105, 'best': 106, 'some': 107, '%': 108, 'here': 109, 'old': 110, 'their': 111, 'any': 112, 'so': 113, 'its': 114, 'times': 115, 'just': 116, 'they': 117, 'minister': 118, 'when': 119, 'time': 120, 'does': 121, 'video': 122, 'gandhi': 123, 'man': 124, 'p': 125, 'court': 126, 'police': 127, 'he': 128, 'today': 129, 'indians': 130, 'women': 131, 'know': 132, 'there': 133, 'did': 134, 'top': 135, 'which': 136, 'our': 137, 'china': 138, 'years': 139, '10': 140, 'good': 141, 'year': 142, 'make': 143, '2': 144, 'case': 145, 'twitter': 146, 'may': 147, 'most': 148, 'than': 149, 'aap': 150, 'into': 151, 'state': 152, '5': 153, 'kashmir': 154, 'singh': 155, 'bank': 156, 'anyone': 157, 'money': 158, 'only': 159, 'being': 160, '2019': 161, 'kerala': 162, 'would': 163, 'post': 164, 'rahul': 165, 'media': 166, 'kejriwal': 167, 'woman': 168, 'made': 169, 'please': 170, 'hindu': 171, 'free': 172, 'two': 173, 'been': 174, 'crore': 175, 'life': 176, 'country': 177, 'her': 178, '3': 179, 'chief': 180, '1': 181, '2017': 182, 'gujarat': 183, 'take': 184, 'online': 185, 'report': 186, 'under': 187, 'pradesh': 188, 'where': 189, 'back': 190, 'think': 191, 'national': 192, 'live': 193, 'go': 194, 'party': 195, 'hindi': 196, 'right': 197, 'aadhaar': 198, 'other': 199, 'air': 200, 'army': 201, 'had': 202, 'home': 203, 'vs': 204, 'watch': 205, 'want': 206, 'students': 207, 'off': 208, 'were': 209, 'data': 210, 'cm': 211, 'rape': 212, 'maharashtra': 213, 'high': 214, 'am': 215, 'n’t': 216, 'during': 217, 'before': 218, 'leader': 219, 'thread': 220, 'them': 221, '4': 222, 'gst': 223, 'election': 224, 'muslim': 225, '..': 226, 'days': 227, 'ban': 228, 'could': 229, 'way': 230, 'down': 231, 'use': 232, 'him': 233, '$': 234, '–': 235, 'these': 236, 'love': 237, 'anti': 238, 'girl': 239, 'even': 240, 'political': 241, 'til': 242, 'power': 243, 'work': 244, 'death': 245, 'khan': 246, 'tax': 247, 'trump': 248, 'say': 249, '2018': 250, 'guys': 251, 'shah': 252, 'demonetisation': 253, '/r': 254, 'got': 255, 'many': 256, 'gets': 257, 'must': 258, 'daily': 259, 'found': 260, 'attack': 261, 'buy': 262, 'men': 263, 'big': 264, 'elections': 265, 'last': 266, 'lakh': 267, 'centre': 268, 'supreme': 269, 'story': 270, 'family': 271, 'next': 272, 'sc': 273, 'jio': 274, 'set': 275, 'list': 276, 'going': 277, 'prime': 278, 'law': 279, 'much': 280, 'arvind': 281, 'movie': 282, 'killed': 283, 'ca': 284, 'still': 285, 'see': 286, 'whatsapp': 287, 'economy': 288, 'tv': 289, 'arrested': 290, 'discussion': 291, 'ram': 292, 'water': 293, 'song': 294, 'job': 295, 'coronavirus': 296, 'happy': 297, 'karnataka': 298, 'business': 299, 'war': 300, 'social': 301, 'school': 302, 'while': 303, 'rss': 304, 'bangalore': 305, 'every': 306, 'google': 307, 'city': 308, 'advice': 309, '20': 310, 'app': 311, 'food': 312, 'public': 313, 'tamil': 314, 'mobile': 315, 'card': 316, 'without': 317, 'bollywood': 318, 'kumar': 319, 'show': 320, 'real': 321, 'amazon': 322, 'ask': 323, 'president': 324, 'hyderabad': 325, 'someone': 326, 'muslims': 327, 'really': 328, 'pay': 329, 'support': 330, 'give': 331, 'bill': 332, 'film': 333, 'stop': 334, 'black': 335, 'too': 336, 'full': 337, 'visit': 338, 'between': 339, 'mp': 340, 'group': 341, 'meet': 342, 'politics': 343, 'history': 344, 'wants': 345, 'protest': 346, 'name': 347, 'internet': 348, 'service': 349, 'fake': 350, 'making': 351, 'open': 352, 'phone': 353, '100': 354, 'ever': 355, 'facebook': 356, 'find': 357, 'budget': 358, 'polls': 359, 'deal': 360, 'question': 361, 'caa': 362, 'student': 363, 'become': 364, 'using': 365, 'asks': 366, 'non': 367, 'getting': 368, 'bengal': 369, 'let': 370, 'change': 371, 'another': 372, 'looking': 373, 'things': 374, 'growth': 375, 'amit': 376, 'calls': 377, 'come': 378, 'rbi': 379, 'also': 380, 'per': 381, 'own': 382, 'official': 383, '7': 384, 'states': 385, 'she': 386, '2014': 387, '6': 388, 'bengaluru': 389, 'share': 390, 'again': 391, 'south': 392, 'number': 393, 'plan': 394, 'price': 395, 'million': 396, 'sabha': 397, 'company': 398, 'cash': 399, 'random': 400, 'through': 401, 'plans': 402, 'train': 403, 'said': 404, 'services': 405, 'three': 406, 'very': 407, 'violence': 408, '“': 409, 'better': 410, 'global': 411, 'look': 412, 'great': 413, 'speech': 414, 'bihar': 415, 'launch': 416, '”': 417, 'used': 418, 'long': 419, 'system': 420, 'call': 421, 'scam': 422, 'yogi': 423, 'because': 424, 'part': 425, 'those': 426, 'latest': 427, 'security': 428, 'start': 429, 'away': 430, 'dead': 431, 'economic': 432, 'book': 433, 'x': 434, 'health': 435, 'act': 436, 'jobs': 437, \"'m\": 438, 'house': 439, 'temple': 440, 'pakistani': 441, 'note': 442, 'vote': 443, 'children': 444, 'never': 445, 'test': 446, 'foreign': 447, 'behind': 448, 'win': 449, 'music': 450, 'sex': 451, '2016': 452, 'education': 453, '2020': 454, 'face': 455, 'hit': 456, 'notes': 457, 'accused': 458, 'market': 459, 'account': 460, 'check': 461, 'punjab': 462, 'questions': 463, 'chennai': 464, 'end': 465, 'wife': 466, 'place': 467, 'due': 468, 'based': 469, 'former': 470, 'soon': 471, 'land': 472, 'around': 473, 'shows': 474, 'bad': 475, 'cases': 476, 'digital': 477, 'doing': 478, 'west': 479, 'askindia': 480, 'join': 481, 'billion': 482, 'road': 483, 'cow': 484, 'well': 485, 'reliance': 486, 'goa': 487, '15': 488, 'months': 489, 'read': 490, 'fight': 491, 'nadu': 492, 'banks': 493, 'policy': 494, 'farmers': 495, 'team': 496, 'night': 497, 'class': 498, 'protests': 499, 'car': 500, 'covid-19': 501, 'youtube': 502, 'since': 503, 'study': 504, 'worth': 505, 'girls': 506, 'sena': 507, 'then': 508, 'project': 509, 'rajasthan': 510, 'near': 511, '8': 512, 'english': 513, 'international': 514, 'makes': 515, 'across': 516, 'order': 517, 'diwali': 518, 'reddit': 519, 'leaders': 520, 'serious': 521, 'left': 522, 'claims': 523, 'board': 524, 'e': 525, 'workers': 526, 'adityanath': 527, 'college': 528, 'terror': 529, '50': 530, 'takes': 531, 'link': 532, 'university': 533, '12': 534, 'review': 535, 'poll': 536, 'uttar': 537, 'chinese': 538, 'office': 539, 'g': 540, 'morning': 541, 'website': 542, 'idea': 543, 'future': 544, 'airtel': 545, 'haryana': 546, 'biggest': 547, 'move': 548, 'travel': 549, 'march': 550, 'hc': 551, 'issues': 552, 'के': 553, 'son': 554, 'pak': 555, 'needs': 556, 'tech': 557, 'wrong': 558, 'nation': 559, 'cricket': 560, 'flipkart': 561, 'wo': 562, 'among': 563, 'guy': 564, 'issue': 565, 'opinion': 566, 'tells': 567, 'mla': 568, 'marriage': 569, 'month': 570, 'cbi': 571, 'pune': 572, 'something': 573, 'kolkata': 574, '30': 575, 'child': 576, 'income': 577, 'held': 578, 'crisis': 579, 'experience': 580, 'hai': 581, 'ministry': 582, 'working': 583, 'fire': 584, 'north': 585, 'companies': 586, 'feel': 587, 'parents': 588, 'called': 589, 'murder': 590, 'sale': 591, 'friend': 592, 'countries': 593, 'express': 594, 'week': 595, 'bharat': 596, 'poor': 597, 'development': 598, 'offer': 599, 'defence': 600, 'assam': 601, 'assembly': 602, 'body': 603, 'mother': 604, 'same': 605, 'jaitley': 606, 'interview': 607, 'article': 608, 'hospital': 609, 'action': 610, 'five': 611, 'lost': 612, 'kids': 613, '*': 614, 'gold': 615, 'lockdown': 616, 'such': 617, 'lok': 618, 'few': 619, 'trying': 620, 'justice': 621, 'father': 622, 'problem': 623, 'shot': 624, 'village': 625, 'special': 626, 'launches': 627, 'game': 628, 'goes': 629, 'seen': 630, 'survey': 631, 'rise': 632, 'ki': 633, 'keep': 634, 'hate': 635, 'union': 636, 'yadav': 637, 'officer': 638, 'probe': 639, 'four': 640, 'likely': 641, 'asked': 642, 'caste': 643, 'shiv': 644, 'iit': 645, 'rate': 646, 'ahead': 647, 'cost': 648, 'legal': 649, 'series': 650, 'cops': 651, 'inside': 652, 'ex': 653, 'youth': 654, 'cup': 655, 'low': 656, 'second': 657, 'thing': 658, 'pollution': 659, 'tell': 660, 'campaign': 661, 'done': 662, 'play': 663, 'rules': 664, '11': 665, 'telangana': 666, 'songs': 667, 'everyone': 668, 'raped': 669, '9': 670, 'save': 671, 'talk': 672, 'true': 673, 'major': 674, 'hindus': 675, 'metro': 676, 'stand': 677, 'jail': 678, '500': 679, 'comments': 680, 'taking': 681, 'general': 682, 'hey': 683, 'isro': 684, 'nrc': 685, 'career': 686, 'details': 687, 'gdp': 688, 'cut': 689, 'british': 690, 'border': 691, 'regarding': 692, 'tips': 693, 'users': 694, 'industry': 695, 'sector': 696, 'coming': 697, 'run': 698, 'sharma': 699, 'short': 700, 'current': 701, 'different': 702, 'schools': 703, 'happened': 704, 'yet': 705, '2015': 706, 'loan': 707, 'private': 708, 't': 709, 'person': 710, 'put': 711, 'small': 712, 'visa': 713, 'republic': 714, 'dalit': 715, 'daughter': 716, 'view': 717, 'andhra': 718, 'parliament': 719, 'hours': 720, 'largest': 721, 'places': 722, 'results': 723, 'में': 724, 'culture': 725, 'launched': 726, 'thought': 727, 'rights': 728, 'attacks': 729, '18': 730, 'railways': 731, 'allegedly': 732, 'friends': 733, 'channel': 734, 'suicide': 735, 'taken': 736, 'letter': 737, 'till': 738, 'human': 739, 'trade': 740, 'others': 741, 'pro': 742, 'arun': 743, '||': 744, 'ndtv': 745, 'sexual': 746, 'commission': 747, 'medical': 748, 'dies': 749, 'science': 750, 'boy': 751, 'cr': 752, 'stay': 753, 'clean': 754, 'wins': 755, 'seeks': 756, 'leave': 757, 'rally': 758, 'interesting': 759, 'cities': 760, 'corruption': 761, 'available': 762, 'offers': 763, 'randia': 764, 'citizenship': 765, 'engineering': 766, 'funny': 767, 'ad': 768, 'strike': 769, 'american': 770, 'safe': 771, 'की': 772, 'community': 773, '25': 774, 'late': 775, 'randians': 776, 'democracy': 777, 'given': 778, 'solar': 779, 'jnu': 780, 'opposition': 781, 'else': 782, 'ready': 783, 'banned': 784, 'local': 785, 'missing': 786, 'prices': 787, 'force': 788, 'movies': 789, 'turn': 790, 'early': 791, 'riots': 792, 'language': 793, 'aadhar': 794, 's': 795, 'challenge': 796, 'living': 797, 'uber': 798, 'took': 799, '—': 800, 'learn': 801, 'mamata': 802, 'talks': 803, 'technology': 804, 'wedding': 805, 'caught': 806, 'facts': 807, 'hope': 808, 'madhya': 809, 'space': 810, 'impact': 811, 'gives': 812, 'railway': 813, 'paytm': 814, 'trip': 815, 'credit': 816, 'message': 817, 'videos': 818, 'officials': 819, 'head': 820, 'jammu': 821, 'notice': 822, 'row': 823, 'tata': 824, 'information': 825, 'oc': 826, 'currency': 827, 'less': 828, 'doctors': 829, 'hits': 830, 'j&amp;k': 831, 'record': 832, 'picture': 833, 'posts': 834, 'amid': 835, 'outside': 836, 'religious': 837, 'self': 838, 'viral': 839, 'sri': 840, 'quality': 841, \"'ve\": 842, 'central': 843, 'led': 844, 'beautiful': 845, 'religion': 846, 'un': 847, 'freedom': 848, 'suggest': 849, 'bring': 850, 'exclusive': 851, 'situation': 852, 'books': 853, 'independence': 854, 'april': 855, 'orders': 856, 'hi': 857, 'finally': 858, 'photo': 859, 'sub': 860, 'charges': 861, 'machine': 862, 'population': 863, 'actually': 864, 'came': 865, 'exam': 866, 'debate': 867, 'trailer': 868, 'asia': 869, 'flight': 870, 'young': 871, 'related': 872, 'apple': 873, 'suggestions': 874, 'little': 875, 'form': 876, 'match': 877, 'status': 878, 'towards': 879, 'updates': 880, 'red': 881, '+': 882, 'का': 883, 'saw': 884, 'worst': 885, 'page': 886, 'cabinet': 887, 'm': 888, '....': 889, 'care': 890, 'might': 891, 'reason': 892, 'accounts': 893, 'finance': 894, 'corona': 895, 'planning': 896, 'startup': 897, 'wanted': 898, '14': 899, 'possible': 900, 'station': 901, '16': 902, 'airport': 903, 'event': 904, 'despite': 905, 'die': 906, 'parties': 907, 'reports': 908, 'super': 909, 'gang': 910, 'star': 911, 'iphone': 912, 'each': 913, 'hand': 914, 'single': 915, 'source': 916, \"'re\": 917, 'god': 918, 'release': 919, 'scheme': 920, 'android': 921, 'battle': 922, 'having': 923, 'important': 924, 'uk': 925, 'buying': 926, 'mission': 927, 'comes': 928, 'level': 929, 'return': 930, 'salman': 931, 'traffic': 932, 'usa': 933, 'six': 934, 'ago': 935, 'both': 936, 'killing': 937, 'financial': 938, 'research': 939, 'truth': 940, 'age': 941, 'oil': 942, 'meeting': 943, 'amazing': 944, 'looks': 945, 'patel': 946, 'award': 947, 'thoughts': 948, 'documentary': 949, 'model': 950, 'varanasi': 951, 'panel': 952, 'military': 953, 'ceo': 954, 'forces': 955, 'demand': 956, 'far': 957, 'front': 958, 'went': 959, 'netflix': 960, 'final': 961, 'giving': 962, 'k': 963, 'lives': 964, 'illegal': 965, 'paper': 966, 'products': 967, 'festival': 968, 'beef': 969, 'once': 970, 'है': 971, 'anything': 972, 'society': 973, 'comment': 974, 'december': 975, 'funds': 976, 'response': 977, 'east': 978, 'forced': 979, 'street': 980, 'swamy': 981, 'hard': 982, 'plant': 983, 'tomorrow': 984, 'claim': 985, 'demonetization': 986, 'enough': 987, 'nuclear': 988, 'ji': 989, 'everything': 990, 'key': 991, 'employees': 992, 'image': 993, 'arnab': 994, 'sources': 995, 'line': 996, 'camera': 997, 'decision': 998, 'injured': 999, 'priyanka': 1000, 'drive': 1001, 'via': 1002, 'told': 1003, '40': 1004, 'payments': 1005, 'rule': 1006, 'white': 1007, 'baby': 1008, 'fraud': 1009, 'kill': 1010, 'rti': 1011, 'hindutva': 1012, 'rafale': 1013, 'threat': 1014, 'charge': 1015, 'cover': 1016, 'terrorists': 1017, 'fund': 1018, 'actor': 1019, 'past': 1020, 'donald': 1021, 'driver': 1022, '17': 1023, 'eli5': 1024, 'art': 1025, 'birthday': 1026, 'petrol': 1027, 'rant': 1028, 'ads': 1029, 'candidate': 1030, 'control': 1031, 'growing': 1032, 'photos': 1033, 'speed': 1034, 'turns': 1035, 'code': 1036, 'hold': 1037, 'instead': 1038, 'banerjee': 1039, 'press': 1040, 'abroad': 1041, 'sbi': 1042, 'victim': 1043, 'mob': 1044, 'reality': 1045, 'investment': 1046, 'payment': 1047, 'statue': 1048, 'couple': 1049, 'ambani': 1050, 'citizens': 1051, 'soldiers': 1052, 'asking': 1053, 'episode': 1054, 'light': 1055, 'personal': 1056, 'stories': 1057, 'highest': 1058, 'members': 1059, 'sonia': 1060, 'date': 1061, 'dear': 1062, 'raj': 1063, 'reasons': 1064, 'software': 1065, 'becomes': 1066, 'lot': 1067, 'female': 1068, 'names': 1069, 'etc': 1070, 'term': 1071, 'needed': 1072, 'recent': 1073, 'breaking': 1074, 'cent': 1075, 'along': 1076, 'paid': 1077, 'privacy': 1078, 'version': 1079, 'projects': 1080, 'role': 1081, '19': 1082, 'half': 1083, 'believe': 1084, 'husband': 1085, 'build': 1086, 'communal': 1087, 'japan': 1088, 'yes': 1089, 'ama': 1090, 'beaten': 1091, 'nehru': 1092, 'peace': 1093, 'doctor': 1094, 'capital': 1095, 'judge': 1096, 'ka': 1097, 'started': 1098, 'u': 1099, 'tharoor': 1100, 'triple': 1101, 'arrest': 1102, 'australia': 1103, 'manufacturers': 1104, 'river': 1105, 'try': 1106, 'ahmedabad': 1107, 'announces': 1108, 'bsnl': 1109, 'games': 1110, 'step': 1111, 'thanks': 1112, 'warns': 1113, 'asian': 1114, 'building': 1115, 're': 1116, 'request': 1117, 'verdict': 1118, '200': 1119, 'manmohan': 1120, 'married': 1121, 'porn': 1122, 'safety': 1123, 'seats': 1124, 'update': 1125, 'को': 1126, 'booked': 1127, 'rural': 1128, 'russia': 1129, 'slams': 1130, 'chandigarh': 1131, 'rupee': 1132, 'tweets': 1133, 'watching': 1134, 'bbc': 1135, 'nothing': 1136, 'talaq': 1137, '13': 1138, 'holi': 1139, 'tried': 1140, 'brand': 1141, 'cards': 1142, 'governor': 1143, 'network': 1144, 'wing': 1145, '21': 1146, 'kashmiri': 1147, 'xiaomi': 1148, 'create': 1149, 'से': 1150, 'bitcoin': 1151, 'bombay': 1152, 'heart': 1153, 'subramanian': 1154, 'vijay': 1155, 'harassment': 1156, 'answer': 1157, 'anybody': 1158, 'beat': 1159, 'mind': 1160, 'groups': 1161, 'send': 1162, 'sell': 1163, 'ec': 1164, 'analysis': 1165, 'content': 1166, 'popular': 1167, 'reveals': 1168, 'bus': 1169, 'common': 1170, 'huge': 1171, 'loss': 1172, 'virus': 1173, 'terrorist': 1174, 'views': 1175, 'calling': 1176, 'including': 1177, 'kohli': 1178, 'words': 1179, 'address': 1180, 'allowed': 1181, 'evening': 1182, 'training': 1183, '24': 1184, 'laptop': 1185, 'secret': 1186, 'strikes': 1187, 'already': 1188, 'bangladesh': 1189, 'mlas': 1190, 'net': 1191, 'raise': 1192, 'selling': 1193, 'shashi': 1194, 'almost': 1195, 'always': 1196, 'civil': 1197, 'energy': 1198, 'fall': 1199, 'june': 1200, 'third': 1201, 'mandatory': 1202, 'explain': 1203, 'jaipur': 1204, 'january': 1205, 'ties': 1206, 'district': 1207, 'guide': 1208, 'hindustan': 1209, 'journalist': 1210, 'kapoor': 1211, 'politicians': 1212, '70': 1213, 'download': 1214, 'laws': 1215, 'odisha': 1216, 'positive': 1217, 'within': 1218, 'access': 1219, 'least': 1220, 'july': 1221, 'ministers': 1222, 'point': 1223, 'success': 1224, 'cop': 1225, 'noida': 1226, 'numbers': 1227, 'sports': 1228, 'follow': 1229, 'interest': 1230, 'points': 1231, 'baba': 1232, 'close': 1233, 'crime': 1234, 'finds': 1235, 'kills': 1236, 'rates': 1237, 'brother': 1238, 'channels': 1239, 'works': 1240, 'attacked': 1241, 'fact': 1242, 'site': 1243, 'word': 1244, 'changed': 1245, 'died': 1246, 'hands': 1247, 'jan': 1248, 'middle': 1249, 'nt': 1250, 'faces': 1251, 'problems': 1252, 'valley': 1253, 'votes': 1254, 'area': 1255, 'course': 1256, 'lead': 1257, 'obama': 1258, 'plea': 1259, 'track': 1260, 'hello': 1261, 'fir': 1262, 'playing': 1263, 'climate': 1264, 'smartphone': 1265, 'staff': 1266, 'gift': 1267, 'released': 1268, 'shut': 1269, 'apps': 1270, 'complaint': 1271, 'complete': 1272, 'jharkhand': 1273, 'kind': 1274, 'kiran': 1275, 'gurgaon': 1276, 'property': 1277, 'sent': 1278, 'saying': 1279, 'surgical': 1280, 'continue': 1281, 'easy': 1282, 'upa': 1283, 'meme': 1284, 'store': 1285, 'rich': 1286, 'understand': 1287, 'gadkari': 1288, 'lucknow': 1289, 'remember': 1290, 'side': 1291, 'tweet': 1292, 'fast': 1293, 'push': 1294, 'shit': 1295, 'break': 1296, 'delivery': 1297, 'fans': 1298, 'rajya': 1299, 'target': 1300, 'toi': 1301, 'ways': 1302, 'alleged': 1303, 'lose': 1304, 'virat': 1305, 'web': 1306, 'fear': 1307, 'management': 1308, 'mean': 1309, 'supporters': 1310, 'experts': 1311, 'sharing': 1312, 'august': 1313, 'entry': 1314, 'together': 1315, 'bedi': 1316, 'isis': 1317, 'season': 1318, 'seems': 1319, 'weekly': 1320, 'cars': 1321, 'director': 1322, 'failed': 1323, 'passes': 1324, 'ias': 1325, 'provide': 1326, 'smart': 1327, 'demands': 1328, 'senior': 1329, '1000': 1330, 'created': 1331, 'firms': 1332, 'november': 1333, 'sites': 1334, 'tn': 1335, 'green': 1336, 'tour': 1337, 'websites': 1338, 'cab': 1339, 'constitution': 1340, 'reaction': 1341, 'result': 1342, 'samsung': 1343, '1st': 1344, 'driving': 1345, 'file': 1346, 'himachal': 1347, 'insurance': 1348, 'western': 1349, ':)': 1350, 'dream': 1351, 'search': 1352, 'won': 1353, 'desi': 1354, 'starts': 1355, 'boost': 1356, 'gas': 1357, 'ground': 1358, 'pan': 1359, 'sales': 1360, 'uttarakhand': 1361, 'anthem': 1362, 'banking': 1363, 'flag': 1364, 'solution': 1365, 'treatment': 1366, 'activists': 1367, 'bail': 1368, 'effect': 1369, 'fuck': 1370, 'salary': 1371, 'birth': 1372, 'department': 1373, 'dog': 1374, 'amritsar': 1375, 'auto': 1376, 'broadband': 1377, 'cartoon': 1378, 'coal': 1379, 'exchange': 1380, 'firm': 1381, 'happen': 1382, 'named': 1383, 'ravi': 1384, 'voting': 1385, 'benefits': 1386, 'israel': 1387, 'united': 1388, 'welcome': 1389, 'deaths': 1390, 'statement': 1391, 'thank': 1392, 'funding': 1393, 'map': 1394, 'phones': 1395, 'proof': 1396, 'rajnath': 1397, '😂': 1398, 'fighting': 1399, 'swaraj': 1400, 'yoga': 1401, \"'ll\": 1402, 'pictures': 1403, 'canada': 1404, 'controversy': 1405, 'electric': 1406, 'u.s.': 1407, 'america': 1408, 'ayodhya': 1409, 'cong': 1410, 'exit': 1411, 'rajan': 1412, 'secular': 1413, 'sign': 1414, 'exams': 1415, 'returns': 1416, 'spread': 1417, 'october': 1418, 'according': 1419, 'bans': 1420, 'ideas': 1421, 'vodafone': 1422, 'gb': 1423, 'hike': 1424, 'teacher': 1425, 'total': 1426, 'v': 1427, 'victory': 1428, 'boss': 1429, 'encounter': 1430, 'hotel': 1431, 'increase': 1432, 'meets': 1433, 'plus': 1434, 'reach': 1435, 'files': 1436, 'september': 1437, 'sikh': 1438, 'speak': 1439, 'activist': 1440, 'thackeray': 1441, 'voters': 1442, 'celebrate': 1443, 'eat': 1444, 'following': 1445, 'startups': 1446, 'films': 1447, 'massive': 1448, 'prasad': 1449, 'ramdev': 1450, 'gone': 1451, 'higher': 1452, 'islam': 1453, 'marketing': 1454, 'style': 1455, 'hot': 1456, 'alleges': 1457, 'cuts': 1458, 'double': 1459, 'firstpost': 1460, 'rahim': 1461, 'summit': 1462, '60': 1463, 'colleges': 1464, 'dance': 1465, 'means': 1466, 'process': 1467, 'recently': 1468, 'reply': 1469, 'section': 1470, 'seeking': 1471, 'sushma': 1472, 'taj': 1473, 'dr': 1474, 'options': 1475, 'iaf': 1476, 'minutes': 1477, 'wtf': 1478, 'allow': 1479, 'kapil': 1480, 'park': 1481, 'cows': 1482, 'gave': 1483, 'miss': 1484, 'nda': 1485, 'warning': 1486, 'criminal': 1487, 'main': 1488, 'minor': 1489, 'petition': 1490, 'sad': 1491, 'fresh': 1492, 'goswami': 1493, 'member': 1494, 'moving': 1495, 'relationship': 1496, 'roads': 1497, 'subreddit': 1498, 'heard': 1499, 'jai': 1500, 'nepal': 1501, 'refuses': 1502, 'steps': 1503, 'trust': 1504, 'naidu': 1505, 'pre': 1506, 'dalits': 1507, 'officers': 1508, 'sets': 1509, 'stock': 1510, 'became': 1511, 'false': 1512, 'received': 1513, 'christian': 1514, 'earn': 1515, 'ola': 1516, 'secretary': 1517, 'voice': 1518, 'bike': 1519, 'cancer': 1520, 'fb': 1521, 'manufacturer': 1522, 'running': 1523, 'shri': 1524, 'terrorism': 1525, 'changes': 1526, 'eyes': 1527, 'forward': 1528, 'rail': 1529, 'reforms': 1530, 'relief': 1531, 'victims': 1532, 'movement': 1533, 'turned': 1534, 'cause': 1535, 'irani': 1536, 'later': 1537, 'modern': 1538, 'tickets': 1539, 'ancient': 1540, 'assault': 1541, 'coaching': 1542, 'joins': 1543, 'strong': 1544, 'talking': 1545, 'thousands': 1546, 'trains': 1547, 'famous': 1548, 'filed': 1549, 'nitish': 1550, 'proud': 1551, 'toll': 1552, 'able': 1553, 'duty': 1554, 'mps': 1555, 'threatens': 1556, 'families': 1557, 'hear': 1558, 'ke': 1559, 'links': 1560, 'loans': 1561, 'moment': 1562, 'pass': 1563, 'protect': 1564, 'smriti': 1565, 'vehicles': 1566, 'center': 1567, 'favorite': 1568, 'jihad': 1569, 'sold': 1570, '22': 1571, '31': 1572, 'fadnavis': 1573, 'invest': 1574, 'comedy': 1575, 'crores': 1576, 'fellow': 1577, 'focus': 1578, 'happening': 1579, 'joke': 1580, 'built': 1581, 'london': 1582, 'matter': 1583, 'redmi': 1584, '।': 1585, 'moves': 1586, 'scientists': 1587, 'alliance': 1588, 'attempt': 1589, 'hacked': 1590, 'redditors': 1591, 'upcoming': 1592, 'writes': 1593, 'hero': 1594, 'learning': 1595, 'recommend': 1596, 'ticket': 1597, 'yesterday': 1598, 'linked': 1599, 'moon': 1600, 'quit': 1601, 'weeks': 1602, 'zomato': 1603, 'block': 1604, 'fun': 1605, 'lord': 1606, 'wire': 1607, 'apply': 1608, 'boys': 1609, 'jayalalithaa': 1610, 'league': 1611, 'angry': 1612, 'dark': 1613, 'magic': 1614, 'punjabi': 1615, 'images': 1616, 'mahal': 1617, 'design': 1618, 'mass': 1619, 'pilot': 1620, 'urban': 1621, 'bullet': 1622, 'domestic': 1623, 'lanka': 1624, 'farmer': 1625, 'removed': 1626, 'sure': 1627, 'incident': 1628, 'islamic': 1629, 'wish': 1630, 'avoid': 1631, 'awards': 1632, 'clear': 1633, 'denied': 1634, 'eye': 1635, '2000': 1636, 'alert': 1637, 'intelligence': 1638, 'speaking': 1639, 'waste': 1640, 'himself': 1641, 'index': 1642, 'remove': 1643, 'reported': 1644, 'modiji': 1645, 'platform': 1646, 'posted': 1647, 'ने': 1648, 'chhattisgarh': 1649, 'reservation': 1650, 'accident': 1651, 'cheap': 1652, 'hinduism': 1653, 'liquor': 1654, 'cell': 1655, 'cool': 1656, 'favourite': 1657, 'propaganda': 1658, 'shankar': 1659, 'lack': 1660, 'tiger': 1661, 'town': 1662, 'worker': 1663, 'drug': 1664, 'oneplus': 1665, 'ride': 1666, 'sachin': 1667, 'showing': 1668, '2nd': 1669, 'anniversary': 1670, 'chicken': 1671, 'citizen': 1672, 'forget': 1673, 'satellite': 1674, 'scene': 1675, 'zero': 1676, 'alive': 1677, 'cbse': 1678, 'met': 1679, 'seven': 1680, 'simple': 1681, 'sinha': 1682, 'teachers': 1683, 'aam': 1684, 'bhagat': 1685, 'council': 1686, 'emergency': 1687, 'navy': 1688, 'collection': 1689, 'enter': 1690, 'raises': 1691, 'journey': 1692, 'areas': 1693, 'eating': 1694, 'fan': 1695, 'shop': 1696, 'strategy': 1697, 'wait': 1698, 'deals': 1699, 'falls': 1700, 'forest': 1701, 'hd': 1702, 'listen': 1703, 'manufacturing': 1704, 'risk': 1705, 'adani': 1706, 'co': 1707, 'known': 1708, 'large': 1709, 'missile': 1710, 'nitin': 1711, 'reading': 1712, 'room': 1713, 'below': 1714, 'born': 1715, 'cashless': 1716, 'football': 1717, 'info': 1718, 'nearly': 1719, 'records': 1720, 'hearing': 1721, 'psa': 1722, 'shocking': 1723, 'spend': 1724, 'aib': 1725, 'continues': 1726, 'customer': 1727, 'entire': 1728, 'happens': 1729, 'institute': 1730, 'lawyers': 1731, 'leaves': 1732, 'promises': 1733, 'winning': 1734, 'recipe': 1735, 'similar': 1736, 'पर': 1737, '300': 1738, 'amendment': 1739, 'cross': 1740, 'mods': 1741, 'sends': 1742, 'spot': 1743, '370': 1744, 'abuse': 1745, 'dhoni': 1746, 'difference': 1747, 'metoo': 1748, 'passport': 1749, 'tea': 1750, 'bid': 1751, 'contest': 1752, 'helped': 1753, 'pic': 1754, 'telecom': 1755, 'telugu': 1756, 'fine': 1757, 'mallya': 1758, 'original': 1759, 'becoming': 1760, 'chopra': 1761, 'failure': 1762, 'healthcare': 1763, 'loses': 1764, 'operation': 1765, 'century': 1766, 'lalu': 1767, 'present': 1768, 'starting': 1769, 'blocked': 1770, 'chidambaram': 1771, 'founder': 1772, 'hair': 1773, 'mark': 1774, 'fuel': 1775, 'infosys': 1776, 'madras': 1777, 'mental': 1778, 'product': 1779, 'blood': 1780, 'choose': 1781, 'rising': 1782, 'whole': 1783, 'akhilesh': 1784, 'beyond': 1785, 'improve': 1786, 'jet': 1787, 'pics': 1788, 'ganga': 1789, 'newspaper': 1790, 'pulwama': 1791, 'sense': 1792, 'trai': 1793, 'announced': 1794, 'customers': 1795, 'linking': 1796, 'seek': 1797, 'suspended': 1798, 'candidates': 1799, 'krishna': 1800, 'raghuram': 1801, 'terms': 1802, 'hour': 1803, 'itself': 1804, 'transactions': 1805, 'aadmi': 1806, 'ani': 1807, 'blames': 1808, 'mahatma': 1809, 'paying': 1810, 'shared': 1811, 'speaks': 1812, 'diesel': 1813, 'earth': 1814, 'galaxy': 1815, 'powerful': 1816, 'roy': 1817, 'sanjay': 1818, 'seat': 1819, 'wear': 1820, 'blast': 1821, 'conference': 1822, 'corporate': 1823, 'drop': 1824, 'race': 1825, 'tests': 1826, '2013': 1827, 'blue': 1828, 'protesters': 1829, '23': 1830, '90': 1831, 'b': 1832, 'exposed': 1833, 'ladakh': 1834, 'n': 1835, 'na': 1836, 'respect': 1837, 'trouble': 1838, 'write': 1839, 'aamir': 1840, 'agenda': 1841, 'ipl': 1842, 'nations': 1843, 'rare': 1844, 'silent': 1845, 'anil': 1846, 'degree': 1847, 'documents': 1848, 'dr.': 1849, 'interested': 1850, 'ncr': 1851, 'voter': 1852, 'wall': 1853, 'और': 1854, '26': 1855, 'ali': 1856, 'explained': 1857, 'indira': 1858, 'mukesh': 1859, 'rejects': 1860, 'reviews': 1861, 'several': 1862, 'bhopal': 1863, 'declared': 1864, 'facing': 1865, 'fix': 1866, 'lawyer': 1867, 'majority': 1868, 'pawar': 1869, 'period': 1870, 'testing': 1871, 'upi': 1872, 'contact': 1873, 'ends': 1874, 'km': 1875, 'mom': 1876, 'bought': 1877, 'committee': 1878, 'expected': 1879, 'farm': 1880, 'title': 1881, 'tourist': 1882, 'trending': 1883, 'affairs': 1884, 'begins': 1885, 'construction': 1886, 'estate': 1887, 'journalists': 1888, 'male': 1889, 'ms': 1890, 'recruitment': 1891, 'shares': 1892, 'sunday': 1893, '80': 1894, 'bagh': 1895, 'tourism': 1896, '--': 1897, 'church': 1898, 'discuss': 1899, 'awesome': 1900, 'dangerous': 1901, 'events': 1902, 'lies': 1903, 'rajiv': 1904, '…': 1905, 'grow': 1906, 'heavy': 1907, 'inspired': 1908, 'leading': 1909, 'losing': 1910, 'stopped': 1911, 'vehicle': 1912, 'dal': 1913, 'feature': 1914, 'swachh': 1915, 'afghanistan': 1916, 'atm': 1917, 'girlfriend': 1918, 'manipur': 1919, 'remark': 1920, 'arunachal': 1921, 'bsf': 1922, 'deepika': 1923, 'investors': 1924, 'poster': 1925, 'alone': 1926, 'chairman': 1927, 'fair': 1928, 'germany': 1929, 'jamia': 1930, 'amp;amp': 1931, 'debt': 1932, 'loc': 1933, 'nri': 1934, 'runs': 1935, 'stage': 1936, 'uses': 1937, 'above': 1938, 'protesting': 1939, 'thinking': 1940, 'uidai': 1941, 'blame': 1942, 'guess': 1943, 'lower': 1944, 'meat': 1945, 'remain': 1946, '28': 1947, 'average': 1948, 'guru': 1949, 'hotstar': 1950, 'infrastructure': 1951, 'sp': 1952, 'stone': 1953, 'targets': 1954, 'transfer': 1955, 'actress': 1956, 'bridge': 1957, 'counter': 1958, 'engineer': 1959, 'leaked': 1960, 'mi': 1961, 'owls': 1962, 'plastic': 1963, 'rupees': 1964, 'supply': 1965, 'visiting': 1966, 'wearing': 1967, 'abvp': 1968, 'kid': 1969, 'millions': 1970, 'successful': 1971, 'user': 1972, 'accuses': 1973, 'changing': 1974, 'evidence': 1975, 'imran': 1976, 'pc': 1977, 'aircraft': 1978, 'decide': 1979, 'dogs': 1980, 'electricity': 1981, 'fails': 1982, 'fastest': 1983, 'helping': 1984, 'indo': 1985, 'messages': 1986, 'quick': 1987, 'quota': 1988, 'summer': 1989, 'urges': 1990, 'affected': 1991, 'box': 1992, 'cag': 1993, 'campus': 1994, 'fighter': 1995, 'pmo': 1996, 'remarks': 1997, 'yourself': 1998, 'breaks': 1999, 'commerce': 2000, 'honest': 2001, 'nationalism': 2002, 'opens': 2003, 'passengers': 2004, 'program': 2005, 'registration': 2006, 'sanskrit': 2007, 'shopping': 2008, 'spent': 2009, 'basic': 2010, 'engineers': 2011, 'sim': 2012, 'approves': 2013, 'conspiracy': 2014, 'investigation': 2015, 'mohan': 2016, 'performance': 2017, 'puts': 2018, 'quora': 2019, 'sexually': 2020, 'choice': 2021, 'professor': 2022, 'soldier': 2023, 'tragedy': 2024, 'agency': 2025, 'chance': 2026, 'din': 2027, 'floods': 2028, 'languages': 2029, 'normal': 2030, 'passed': 2031, 'protection': 2032, 'smartphones': 2033, 'worse': 2034, 'decided': 2035, 'faith': 2036, 'inflation': 2037, 'nice': 2038, 'nsfw': 2039, 'parrikar': 2040, 'seized': 2041, 'silence': 2042, 'whose': 2043, 'beach': 2044, 'era': 2045, 'february': 2046, 'hell': 2047, 'kamal': 2048, 'lake': 2049, 'meanwhile': 2050, 'trading': 2051, 'amount': 2052, 'connection': 2053, 'defeat': 2054, 'ft': 2055, 'king': 2056, 'milk': 2057, 'offering': 2058, 'padmavati': 2059, 'proposal': 2060, 'recommendations': 2061, 'restaurant': 2062, 'value': 2063, 'allegations': 2064, 'assets': 2065, 'bomb': 2066, 'burning': 2067, 'conversation': 2068, 'houses': 2069, 'judges': 2070, 'minority': 2071, 'prove': 2072, 'saudi': 2073, 'sunny': 2074, 'application': 2075, 'features': 2076, 'instagram': 2077, 'labour': 2078, 'markets': 2079, 'streaming': 2080, 'toilet': 2081, 'unique': 2082, 'vice': 2083, 'clash': 2084, 'computer': 2085, 'dad': 2086, 'evm': 2087, 'explains': 2088, 'exporters': 2089, 'extra': 2090, 'homes': 2091, 'leads': 2092, 'papers': 2093, 'pressure': 2094, 'register': 2095, 'sea': 2096, 'celebrating': 2097, 'defamation': 2098, 'highlights': 2099, 'policies': 2100, 'prakash': 2101, 'rises': 2102, 'session': 2103, 'cinema': 2104, 'd': 2105, 'detained': 2106, 'gender': 2107, 'grand': 2108, 'hilarious': 2109, 'option': 2110, 'resolution': 2111, 'text': 2112, 'walk': 2113, '10,000': 2114, 'sister': 2115, 'brought': 2116, 'c': 2117, 'currently': 2118, 'gorakhpur': 2119, 'nobel': 2120, 'posting': 2121, 'prize': 2122, 'production': 2123, 'se': 2124, 'sit': 2125, '3rd': 2126, 'accept': 2127, 'blog': 2128, 'lessons': 2129, 'patanjali': 2130, 'plants': 2131, 'politician': 2132, 'sorry': 2133, 'subscribe': 2134, 'though': 2135, 'dubai': 2136, 'prevent': 2137, 'srinagar': 2138, 'teen': 2139, 'xpost': 2140, 'add': 2141, 'base': 2142, 'booking': 2143, 'cyber': 2144, 'field': 2145, 'gay': 2146, 'parts': 2147, 'raids': 2148, 'wave': 2149, 'akshay': 2150, 'attend': 2151, 'attention': 2152, 'bachchan': 2153, 'benefit': 2154, 'enjoy': 2155, 'knows': 2156, 'leadership': 2157, 'players': 2158, 'regional': 2159, 'seriously': 2160, 'streets': 2161, 'dec': 2162, 'deep': 2163, 'ed': 2164, 'lynching': 2165, 'ncp': 2166, 'plane': 2167, 'region': 2168, 'ensure': 2169, 'mars': 2170, 'minimum': 2171, 'monsoon': 2172, 'snapdeal': 2173, 'vashikaran': 2174, 'winter': 2175, 'wishes': 2176, 'written': 2177, 'ai': 2178, 'beats': 2179, 'controversial': 2180, 'issued': 2181, 'origin': 2182, 'perfect': 2183, 'quits': 2184, 'raping': 2185, 'ravish': 2186, 'responsible': 2187, 'sms': 2188, 'denies': 2189, 'deputy': 2190, 'environment': 2191, 'feedback': 2192, 'profile': 2193, 'club': 2194, 'corrupt': 2195, 'manohar': 2196, 'murdered': 2197, 'ones': 2198, 'radio': 2199, 'rapes': 2200, 'troops': 2201, 'firing': 2202, 'grotal': 2203, 'kg': 2204, 'nirbhaya': 2205, 'slaughter': 2206, 'cji': 2207, 'expect': 2208, 'friendly': 2209, 'icc': 2210, 'keeps': 2211, 'l': 2212, 'meghalaya': 2213, 'spreading': 2214, 'stuff': 2215, 'tough': 2216, 'tribute': 2217, 'villages': 2218, 'censor': 2219, 'creating': 2220, 'crpf': 2221, 'drugs': 2222, 'employee': 2223, 'jee': 2224, 'nath': 2225, 'northeast': 2226, 'rai': 2227, 'turning': 2228, 'until': 2229, 'weekend': 2230, '27': 2231, 'bhai': 2232, 'flood': 2233, 'john': 2234, 'signs': 2235, 'sikkim': 2236, 'stuck': 2237, 'york': 2238, 'agra': 2239, 'bit': 2240, 'lets': 2241, 'reform': 2242, 'retail': 2243, 'tripura': 2244, 'urdu': 2245, 'animal': 2246, 'civic': 2247, 'crash': 2248, 'eight': 2249, 'fort': 2250, 'french': 2251, 'mid': 2252, 'played': 2253, 'pretty': 2254, 'rao': 2255, 'residents': 2256, 'resigns': 2257, 'russian': 2258, 'waiting': 2259, 'xi': 2260, '1,000': 2261, 'ajit': 2262, 'anand': 2263, 'bigger': 2264, 'de': 2265, 'durga': 2266, 'governance': 2267, 'jawan': 2268, 'militants': 2269, 'niti': 2270, 'theory': 2271, 'amitabh': 2272, 'camp': 2273, 'developed': 2274, 'mayawati': 2275, 'nirav': 2276, 'partner': 2277, 'percent': 2278, 'traditional': 2279, 'translation': 2280, 'compared': 2281, 'karan': 2282, 'cattle': 2283, 'dispute': 2284, 'doklam': 2285, 'goods': 2286, 'joint': 2287, 'mr': 2288, 'ordered': 2289, 'owners': 2290, 'pewdiepie': 2291, 'puja': 2292, 'required': 2293, 'sensex': 2294, 'sitharaman': 2295, 'wealth': 2296, 'handle': 2297, 'korea': 2298, 'olympics': 2299, 'rain': 2300, 'reduce': 2301, 'releases': 2302, 'score': 2303, 'systems': 2304, 'universities': 2305, 'various': 2306, 'ayupp': 2307, 'consumer': 2308, 'hospitals': 2309, 'lady': 2310, 'profit': 2311, 'stations': 2312, 'supporting': 2313, 'thinks': 2314, 'vhp': 2315, 'aid': 2316, 'balance': 2317, 'courses': 2318, 'develop': 2319, 'identity': 2320, 'lakhs': 2321, 'nod': 2322, 'repair': 2323, 'route': 2324, 'ups': 2325, 'annual': 2326, 'challenges': 2327, 'charged': 2328, 'criticism': 2329, 'drivers': 2330, 'evms': 2331, 'fail': 2332, 'friday': 2333, 'ho': 2334, 'iran': 2335, 'multiple': 2336, 'patients': 2337, 'sarkar': 2338, 'sharad': 2339, 'slowdown': 2340, 'techie': 2341, 'themselves': 2342, 'writing': 2343, '=': 2344, 'expert': 2345, 'highway': 2346, 'hockey': 2347, 'limit': 2348, 'revenue': 2349, 'tmc': 2350, 'armed': 2351, 'consider': 2352, 'email': 2353, 'foundation': 2354, 'taxes': 2355, 'trial': 2356, 'unity': 2357, 'beauty': 2358, 'cultural': 2359, 'feeling': 2360, 'finding': 2361, 'hire': 2362, 'hiring': 2363, 'independent': 2364, 'poverty': 2365, 'shame': 2366, 'successfully': 2367, 'whether': 2368, 'wrote': 2369, 'edition': 2370, 'fashion': 2371, 'jain': 2372, 'manifesto': 2373, 'minorities': 2374, 'namo': 2375, 'rest': 2376, 'revolution': 2377, 'screen': 2378, 'agree': 2379, 'ambedkar': 2380, 'ap': 2381, 'concerns': 2382, 'mega': 2383, 'nagpur': 2384, 'purchase': 2385, 'struggle': 2386, '400': 2387, 'africa': 2388, 'devendra': 2389, 'factory': 2390, 'fee': 2391, 'folks': 2392, 'mine': 2393, 'singapore': 2394, 'tree': 2395, '2002': 2396, 'baat': 2397, 'gau': 2398, 'id': 2399, 'marry': 2400, 'racist': 2401, 'thrashed': 2402, 'tops': 2403, 'travelling': 2404, 'vision': 2405, 'arrests': 2406, 'authorities': 2407, 'bar': 2408, 'completely': 2409, 'cyclone': 2410, 'drinking': 2411, 'further': 2412, 'knowledge': 2413, 'rent': 2414, 'slow': 2415, 'type': 2416, 'worried': 2417, 'al': 2418, 'announcement': 2419, 'bharti': 2420, 'bhushan': 2421, 'convert': 2422, 'direct': 2423, 'journalism': 2424, 'mba': 2425, 'microsoft': 2426, 'quotes': 2427, 'shaheen': 2428, 'trend': 2429, 'tries': 2430, '2.0': 2431, 'appeal': 2432, 'assaulted': 2433, 'backs': 2434, 'cutting': 2435, 'debit': 2436, 'exports': 2437, 'housing': 2438, 'industrial': 2439, 'luxury': 2440, 'natural': 2441, 'nia': 2442, 'promise': 2443, 'range': 2444, 'remains': 2445, 'bhakts': 2446, 'conversion': 2447, 'crazy': 2448, 'longer': 2449, 'magazine': 2450, 'reporting': 2451, 'richest': 2452, 'spotify': 2453, 'touch': 2454, 'vadra': 2455, 'arms': 2456, 'brings': 2457, 'carrying': 2458, 'flights': 2459, 'host': 2460, 'ko': 2461, 'lowest': 2462, 'schemes': 2463, 'steel': 2464, 'trees': 2465, '12th': 2466, 'anymore': 2467, 'artist': 2468, 'bcci': 2469, 'bhagwat': 2470, 'bills': 2471, 'exactly': 2472, 'fm': 2473, 'hurt': 2474, 'mahindra': 2475, 'mishra': 2476, 'owaisi': 2477, 'probably': 2478, 'stupid': 2479, 'transport': 2480, '2,000': 2481, '@': 2482, 'disaster': 2483, 'dowry': 2484, 'feb': 2485, 'invite': 2486, 'nirmala': 2487, 'nokia': 2488, 'opening': 2489, 'owner': 2490, 'pandemic': 2491, 'sees': 2492, 'spending': 2493, 'suspected': 2494, 'bodies': 2495, 'cat': 2496, 'liberal': 2497, 'machines': 2498, 'outrage': 2499, 'patna': 2500, 'ruling': 2501, 'secularism': 2502, 'seeing': 2503, 'toilets': 2504, 'alcohol': 2505, 'coverage': 2506, 'economics': 2507, 'kya': 2508, 'nine': 2509, 'programme': 2510, 'revealed': 2511, 'affect': 2512, 'affordable': 2513, 'arranged': 2514, 'awareness': 2515, 'captain': 2516, 'cctv': 2517, 'clears': 2518, 'click': 2519, 'footage': 2520, 'guard': 2521, 'initiative': 2522, 'medal': 2523, 'ngo': 2524, 'nobody': 2525, 'opportunity': 2526, 'showerthought': 2527, 'stolen': 2528, 'japanese': 2529, 'kept': 2530, 'promote': 2531, 'separate': 2532, 'wallet': 2533, 'yatra': 2534, 'allows': 2535, 'bengali': 2536, 'commercial': 2537, 'mann': 2538, 'mr.': 2539, 'sabarimala': 2540, 'stars': 2541, 'प्राथमिक': 2542, 'boycott': 2543, 'brothers': 2544, 'cancelled': 2545, 'christmas': 2546, 'drone': 2547, 'planned': 2548, 'practice': 2549, 'rather': 2550, 'answers': 2551, 'dera': 2552, 'fired': 2553, 'hackers': 2554, 'heritage': 2555, 'operations': 2556, 'pick': 2557, 'pregnant': 2558, 'skin': 2559, 'taxi': 2560, 'crackdown': 2561, 'drunk': 2562, 'healthy': 2563, 'helps': 2564, 'minute': 2565, 'nature': 2566, 'rajdeep': 2567, 'standard': 2568, 'unit': 2569, 'closed': 2570, 'conflict': 2571, 'earlier': 2572, 'fears': 2573, 'golden': 2574, 'personnel': 2575, 'premium': 2576, 'specialist': 2577, 'villagers': 2578, 'worshippers': 2579, 'animals': 2580, 'band': 2581, 'begin': 2582, 'classes': 2583, 'dating': 2584, 'decade': 2585, 'discount': 2586, 'discrimination': 2587, 'export': 2588, 'monday': 2589, 'violation': 2590, 'wifi': 2591, 'drama': 2592, 'feels': 2593, 'gain': 2594, 'holds': 2595, 'locals': 2596, 'passenger': 2597, 'phase': 2598, 'potential': 2599, 'ranks': 2600, 'rice': 2601, 'riot': 2602, 'stands': 2603, 'visited': 2604, 'costs': 2605, 'example': 2606, 'goyal': 2607, 'relevant': 2608, 'trillion': 2609, '29': 2610, 'feed': 2611, 'ganesh': 2612, 'hypocrisy': 2613, 'lines': 2614, 'saved': 2615, 'ten': 2616, 'upsc': 2617, 'violent': 2618, '48': 2619, 'cheaper': 2620, 'courts': 2621, 'crowd': 2622, 'curfew': 2623, 'europe': 2624, 'hundreds': 2625, 'involved': 2626, 'specialists': 2627, 'surat': 2628, 'americans': 2629, 'ceremony': 2630, 'considered': 2631, 'corrugation': 2632, 'drink': 2633, 'followers': 2634, 'incredible': 2635, 'kanpur': 2636, 'notification': 2637, 'offered': 2638, 'sunset': 2639, 'blow': 2640, 'brands': 2641, 'electoral': 2642, 'gaming': 2643, 'generation': 2644, 'items': 2645, 'mein': 2646, 'nagar': 2647, 'quite': 2648, 'raised': 2649, 'temples': 2650, 'aayog': 2651, 'audio': 2652, 'confirms': 2653, 'german': 2654, 'hdfc': 2655, 'historic': 2656, 'holding': 2657, 'honour': 2658, 'irctc': 2659, 'nagaland': 2660, 'partition': 2661, 'pubg': 2662, 'shock': 2663, 'standing': 2664, '150': 2665, 'allahabad': 2666, 'drops': 2667, 'fly': 2668, 'indore': 2669, 'jadhav': 2670, 'location': 2671, 'moral': 2672, 'piece': 2673, 'spotted': 2674, 'surprise': 2675, 'tension': 2676, 'waiver': 2677, 'wireless': 2678, 'शैक्षिक': 2679, 'covid': 2680, 'kochi': 2681, 'selfie': 2682, 'admission': 2683, 'executive': 2684, 'flying': 2685, 'identify': 2686, 'marks': 2687, 'mining': 2688, 'mosque': 2689, 'npr': 2690, 'position': 2691, 'rajinikanth': 2692, 'rescue': 2693, 'shops': 2694, 'solve': 2695, 'sound': 2696, 'urgent': 2697, 'worry': 2698, 'खबर': 2699, 'actual': 2700, 'critical': 2701, 'door': 2702, 'draft': 2703, 'filing': 2704, 'ii': 2705, 'scared': 2706, 'skills': 2707, 'tendulkar': 2708, 'traders': 2709, 'admits': 2710, 'bhim': 2711, 'carry': 2712, 'confirmed': 2713, 'deadline': 2714, 'expensive': 2715, 'forgotten': 2716, 'meerut': 2717, 'opinions': 2718, 'pnb': 2719, 'quarantine': 2720, 'registered': 2721, 'tcs': 2722, 'teach': 2723, 'threats': 2724, 'understanding': 2725, 'britain': 2726, 'celebration': 2727, 'cold': 2728, 'donate': 2729, 'elected': 2730, 'greatest': 2731, 'guilty': 2732, 'horror': 2733, 'mirror': 2734, 'mukherjee': 2735, 'package': 2736, 'relations': 2737, 'sending': 2738, 'shower': 2739, 'trends': 2740, 'alternative': 2741, 'bmc': 2742, 'considering': 2743, 'cryptocurrency': 2744, 'deadly': 2745, 'gun': 2746, 'mistake': 2747, 'pain': 2748, 'prashant': 2749, 'regime': 2750, 'saeed': 2751, 'upper': 2752, 'aiims': 2753, 'airlines': 2754, 'bags': 2755, 'buses': 2756, 'coffee': 2757, 'crimes': 2758, 'gate': 2759, 'leaving': 2760, 'nris': 2761, 'patient': 2762, 'sharif': 2763, 'tourists': 2764, 'withdraw': 2765, '2011': 2766, 'articles': 2767, 'difficult': 2768, 'display': 2769, 'dollar': 2770, 'ease': 2771, 'economist': 2772, 'icici': 2773, 'master': 2774, 'padukone': 2775, 'promoting': 2776, 'rap': 2777, 'saffron': 2778, 'savings': 2779, 'shoot': 2780, 'watched': 2781, 'wild': 2782, 'clashes': 2783, 'depression': 2784, 'jallikattu': 2785, 'kannada': 2786, 'knew': 2787, 'marathi': 2788, 'nasa': 2789, 'penalty': 2790, 'permission': 2791, 'rock': 2792, 'speaker': 2793, 'voted': 2794, '45': 2795, 'babri': 2796, 'businesses': 2797, 'champions': 2798, 'device': 2799, 'garbage': 2800, 'import': 2801, 'indigo': 2802, 'isi': 2803, 'mulayam': 2804, 'winner': 2805, 'actors': 2806, 'agencies': 2807, 'brain': 2808, 'invites': 2809, 'mess': 2810, 'refused': 2811, 'suspends': 2812, 'swami': 2813, '2012': 2814, '35': 2815, 'anger': 2816, 'beating': 2817, 'competition': 2818, 'h-1b': 2819, 'leak': 2820, 'malayalam': 2821, 'memes': 2822, 'padmaavat': 2823, 'sangh': 2824, 'scale': 2825, 'tribal': 2826, 'valentine': 2827, 'appointed': 2828, 'deposit': 2829, 'devi': 2830, 'ek': 2831, 'especially': 2832, 'fdi': 2833, 'gifts': 2834, 'greater': 2835, 'joining': 2836, 'lol': 2837, 'mandir': 2838, 'manish': 2839, 'poem': 2840, 'quint': 2841, 'sedition': 2842, 'setting': 2843, 'uniform': 2844, 'weapons': 2845, 'zakir': 2846, '0': 2847, 'broke': 2848, 'chandra': 2849, 'committed': 2850, 'convicted': 2851, 'dress': 2852, 'faced': 2853, 'hopes': 2854, 'masjid': 2855, 'neutrality': 2856, 'portal': 2857, 'tale': 2858, 'tinder': 2859, 'weight': 2860, '.....': 2861, '26/11': 2862, 'clothes': 2863, 'comic': 2864, 'electronic': 2865, 'felt': 2866, 'gauri': 2867, 'om': 2868, 'pk': 2869, 'previous': 2870, 'rejected': 2871, 'resignation': 2872, 'rukh': 2873, 'yogendra': 2874, '️': 2875, 'active': 2876, 'ambassador': 2877, 'atms': 2878, 'aware': 2879, 'beware': 2880, 'certificate': 2881, 'cloud': 2882, 'concern': 2883, 'conduct': 2884, 'deposits': 2885, 'dutt': 2886, 'expose': 2887, 'france': 2888, 'kunal': 2889, 'negative': 2890, 'nov': 2891, 'providing': 2892, 'roll': 2893, 'shopusa': 2894, 'sky': 2895, 'technical': 2896, 'thakur': 2897, 'unlimited': 2898, 'apart': 2899, 'apparently': 2900, 'breach': 2901, 'catch': 2902, 'celebrations': 2903, 'foreigners': 2904, 'hotels': 2905, 'replace': 2906, 'reporter': 2907, 'resources': 2908, 'scientist': 2909, 'singer': 2910, 'size': 2911, 'unknown': 2912, 'upon': 2913, 'visits': 2914, \"'d\": 2915, '1984': 2916, '@narendramodi': 2917, 'du': 2918, 'extended': 2919, 'flat': 2920, 'gupta': 2921, 'hafiz': 2922, 'industries': 2923, 'leone': 2924, 'progress': 2925, 'quarter': 2926, 'sleep': 2927, 'uddhav': 2928, 'bag': 2929, 'chetan': 2930, 'corporation': 2931, 'declare': 2932, 'defends': 2933, 'deliver': 2934, 'divorce': 2935, 'experiences': 2936, 'fi': 2937, 'limited': 2938, 'sisodia': 2939, 'solutions': 2940, 'approach': 2941, 'curious': 2942, 'efforts': 2943, 'epic': 2944, 'falling': 2945, 'flu': 2946, 'myanmar': 2947, 'nationalist': 2948, 'posters': 2949, 'professional': 2950, 'supports': 2951, 'dig': 2952, 'hunger': 2953, 'lie': 2954, 'masters': 2955, 'player': 2956, 'plays': 2957, 'proposes': 2958, 'reaches': 2959, 'receive': 2960, 'resign': 2961, 'restaurants': 2962, 'rio': 2963, 'sql': 2964, 'stake': 2965, 'subsidy': 2966, 'wake': 2967, 'crypto': 2968, 'delay': 2969, 'dinner': 2970, 'lights': 2971, 'monthly': 2972, 'royal': 2973, 'ship': 2974, 'sindhu': 2975, 'sun': 2976, '10th': 2977, '75': 2978, 'advertisement': 2979, 'anurag': 2980, 'association': 2981, 'bars': 2982, 'burnt': 2983, 'crusher': 2984, 'editor': 2985, 'everyday': 2986, 'kovind': 2987, 'lenovo': 2988, 'moved': 2989, 'myth': 2990, 'path': 2991, 'sardar': 2992, 'threatened': 2993, 'woes': 2994, 'worked': 2995, 'क्या': 2996, 'acid': 2997, 'agriculture': 2998, 'baahubali': 2999, 'bhakt': 3000, 'captured': 3001, 'cheapest': 3002, 'dhan': 3003, 'holiday': 3004, 'hostel': 3005, 'j': 3006, 'pack': 3007, 'reddy': 3008, 'reveal': 3009, 'studying': 3010, 'weird': 3011, 'yrs': 3012, 'basis': 3013, 'bose': 3014, 'bsp': 3015, 'chit': 3016, 'creates': 3017, 'das': 3018, 'destroyed': 3019, 'england': 3020, 'hardik': 3021, 'joshi': 3022, 'proposed': 3023, 'rohingya': 3024, 'round': 3025, 'shooting': 3026, 'standoff': 3027, 'stocks': 3028, 'stops': 3029, 'suit': 3030, 'tonight': 3031, 'नहीं': 3032, '’m': 3033, 'airways': 3034, 'australian': 3035, 'biryani': 3036, 'blockchain': 3037, 'broken': 3038, 'custody': 3039, 'effective': 3040, 'exist': 3041, 'fifa': 3042, 'gogoi': 3043, 'heat': 3044, 'jokes': 3045, 'newslaundry': 3046, 'perspective': 3047, 'piyush': 3048, 'prepare': 3049, 'ruled': 3050, 'stores': 3051, 'survive': 3052, 'table': 3053, 'trophy': 3054, 'uae': 3055, 'withdrawal': 3056, 'administration': 3057, 'agreement': 3058, 'bajrang': 3059, 'cleaning': 3060, 'combat': 3061, 'effects': 3062, 'elephant': 3063, 'employment': 3064, 'fucking': 3065, 'humans': 3066, 'maps': 3067, 'molestation': 3068, 'nifty': 3069, 'sardesai': 3070, 'saving': 3071, 'seo': 3072, 'cheating': 3073, 'comparison': 3074, 'favour': 3075, 'gon': 3076, 'missed': 3077, 'moto': 3078, 'oh': 3079, 'wonder': 3080, 'zee': 3081, 'amethi': 3082, 'bond': 3083, 'dna': 3084, 'feet': 3085, 'joined': 3086, 'marriages': 3087, 'pays': 3088, 'sick': 3089, 'singing': 3090, 'swiss': 3091, 'tag': 3092, 'taught': 3093, 'truly': 3094, 'writer': 3095, 'coach': 3096, 'confused': 3097, 'european': 3098, 'eve': 3099, 'inter': 3100, 'judiciary': 3101, 'measures': 3102, 'neet': 3103, 'outbreak': 3104, 'pranab': 3105, 'reportedly': 3106, 'shivaji': 3107, 'trolls': 3108, 'vajpayee': 3109, 'youths': 3110, 'भी': 3111, 'aims': 3112, 'bribe': 3113, 'cancels': 3114, 'clip': 3115, 'coast': 3116, 'compulsory': 3117, 'customs': 3118, 'dreams': 3119, 'gains': 3120, 'influence': 3121, 'inr': 3122, 'lesson': 3123, 'medicine': 3124, 'norms': 3125, 'spy': 3126, 'stones': 3127, 'upto': 3128, 'veg': 3129, 'abdullah': 3130, 'childhood': 3131, 'damage': 3132, 'dirty': 3133, 'empire': 3134, 'fully': 3135, 'immigration': 3136, 'iraq': 3137, 'kcr': 3138, 'naik': 3139, 'presidential': 3140, 'priest': 3141, 'rains': 3142, 'sasikala': 3143, 'sitting': 3144, 'smog': 3145, 'strategic': 3146, 'suffering': 3147, 'uri': 3148, 'wi': 3149, 'aur': 3150, 'banning': 3151, 'boat': 3152, 'burn': 3153, 'businessman': 3154, 'graduate': 3155, 'odi': 3156, 'ok': 3157, 'parade': 3158, 'rating': 3159, 'rip': 3160, 'survivor': 3161, 'twice': 3162, 'unable': 3163, 'advertising': 3164, 'bhi': 3165, 'bringing': 3166, 'complaints': 3167, 'complex': 3168, 'fiscal': 3169, 'gurmeet': 3170, 'harassed': 3171, 'inc': 3172, 'jawans': 3173, 'jump': 3174, 'kashmiris': 3175, 'licence': 3176, 'makers': 3177, 'partners': 3178, 'persons': 3179, 'plot': 3180, 'raid': 3181, 'shipping': 3182, 'suggestion': 3183, 'suggests': 3184, 'tackle': 3185, 'ugly': 3186, 'unemployment': 3187, '`': 3188, 'ac': 3189, 'chat': 3190, 'decades': 3191, 'decline': 3192, 'fish': 3193, 'fixed': 3194, 'increased': 3195, 'investments': 3196, 'killer': 3197, 'meters': 3198, 'oct': 3199, 'rawat': 3200, 'reserve': 3201, 'sacked': 3202, 'scientific': 3203, 'sentence': 3204, 'ssc': 3205, 'surgery': 3206, 'abused': 3207, 'blind': 3208, 'blocking': 3209, 'defense': 3210, 'historical': 3211, 'ice': 3212, 'judicial': 3213, 'pet': 3214, 'receives': 3215, 'shiva': 3216, 'slag': 3217, '1.5': 3218, 'anushka': 3219, 'districts': 3220, 'floor': 3221, 'holy': 3222, 'kulbhushan': 3223, 'lal': 3224, 'merger': 3225, 'myself': 3226, 'ne': 3227, 'patriotism': 3228, 'port': 3229, 'recovered': 3230, 'storm': 3231, 'stream': 3232, 'traveling': 3233, 'upset': 3234, 'vastu': 3235, 'wars': 3236, 'whom': 3237, 'हैं': 3238, 'activities': 3239, 'ashok': 3240, 'centres': 3241, 'deficit': 3242, 'either': 3243, 'essential': 3244, 'facility': 3245, 'gita': 3246, 'grotal.com': 3247, 'heads': 3248, 'hitler': 3249, 'holders': 3250, 'lankesh': 3251, 'lying': 3252, 'ngos': 3253, 'often': 3254, 'parliamentary': 3255, 'rank': 3256, 'ranking': 3257, 'robert': 3258, 'shift': 3259, 'st': 3260, 'teaching': 3261, 'television': 3262, '50,000': 3263, '5th': 3264, 'acquisition': 3265, 'advani': 3266, 'ajay': 3267, 'bhutan': 3268, 'cap': 3269, 'chandrababu': 3270, 'commits': 3271, 'copy': 3272, 'declares': 3273, 'liberals': 3274, 'losses': 3275, 'lpg': 3276, 'maruti': 3277, 'massacre': 3278, 'maybe': 3279, 'meal': 3280, 'seem': 3281, 'truck': 3282, 'anna': 3283, 'artists': 3284, 'claimed': 3285, 'demanding': 3286, 'extremely': 3287, 'invited': 3288, 'masala': 3289, 'memorial': 3290, 'nahi': 3291, 'stray': 3292, 'talent': 3293, 'welfare': 3294, '2008': 3295, 'admit': 3296, 'appointment': 3297, 'attempts': 3298, 'brics': 3299, 'category': 3300, 'ceasefire': 3301, 'couples': 3302, 'dam': 3303, 'engine': 3304, 'hrd': 3305, 'imposed': 3306, 'internal': 3307, 'interviews': 3308, 'max': 3309, 'membership': 3310, 'necessary': 3311, 'oath': 3312, 'okay': 3313, 'pride': 3314, 'racism': 3315, 'somebody': 3316, '32': 3317, '3d': 3318, 'advanced': 3319, 'background': 3320, 'bandh': 3321, 'centers': 3322, 'compensation': 3323, 'covid19': 3324, 'cry': 3325, 'escape': 3326, 'fare': 3327, 'flags': 3328, 'gap': 3329, 'hidden': 3330, 'jets': 3331, 'kashyap': 3332, 'levels': 3333, 'ls': 3334, 'manage': 3335, 'multi': 3336, 'pok': 3337, 'query': 3338, 'ranked': 3339, 'rescued': 3340, 'soft': 3341, 'swiggy': 3342, 'treat': 3343, 'advise': 3344, 'afraid': 3345, 'aiadmk': 3346, 'bigg': 3347, 'fitness': 3348, 'godse': 3349, 'gopal': 3350, 'jamaat': 3351, 'legacy': 3352, 'owned': 3353, 'pricing': 3354, 'slapped': 3355, 'surveillance': 3356, 'tradition': 3357, 'translate': 3358, 'yo': 3359, '2022': 3360, 'bound': 3361, 'capacity': 3362, 'censorship': 3363, 'chain': 3364, 'creative': 3365, 'divided': 3366, 'educated': 3367, 'exposes': 3368, 'hanuman': 3369, 'harsh': 3370, 'litre': 3371, 'muzaffarnagar': 3372, 'nawaz': 3373, 'puri': 3374, 'racket': 3375, 'romantic': 3376, 'satish': 3377, 'secure': 3378, 'silver': 3379, 'skill': 3380, 'submit': 3381, '1947': 3382, 'condition': 3383, 'delayed': 3384, 'disease': 3385, 'educational': 3386, 'entertainment': 3387, 'figure': 3388, 'hain': 3389, 'ips': 3390, 'keeping': 3391, 'ludhiana': 3392, 'midnight': 3393, 'o': 3394, 'physical': 3395, 'prepared': 3396, 'professionals': 3397, 'published': 3398, 'restrictions': 3399, 'rohit': 3400, 'serve': 3401, 'subscription': 3402, 'tiktok': 3403, 'urine': 3404, 'लिए': 3405, 'busy': 3406, 'certain': 3407, 'context': 3408, 'contract': 3409, 'counting': 3410, 'dedicated': 3411, 'dept': 3412, 'enters': 3413, 'giant': 3414, 'guns': 3415, 'gurugram': 3416, 'hollywood': 3417, 'hunt': 3418, 'ideology': 3419, 'increasing': 3420, 'padma': 3421, 'saree': 3422, 'shutdown': 3423, 'slogans': 3424, 'affair': 3425, 'blasts': 3426, 'cs': 3427, 'curb': 3428, 'dil': 3429, 'forum': 3430, 'indies': 3431, 'mystery': 3432, 'navratri': 3433, 'protestors': 3434, 'raw': 3435, 'residence': 3436, 'somewhere': 3437, 'thrones': 3438, 'transaction': 3439, '🇮': 3440, '🇳': 3441, 'backed': 3442, 'commander': 3443, 'dd': 3444, 'delivered': 3445, 'effort': 3446, 'flats': 3447, 'grows': 3448, 'institutions': 3449, 'manager': 3450, 'polluted': 3451, 'provider': 3452, 'refuse': 3453, 'sikhs': 3454, 'targeted': 3455, 'theft': 3456, 'vedic': 3457, 'vinod': 3458, 'zoke': 3459, 'auction': 3460, 'azam': 3461, 'blocks': 3462, 'claiming': 3463, 'dry': 3464, 'exercise': 3465, 'fees': 3466, 'fires': 3467, 'gangrape': 3468, 'goal': 3469, 'guidelines': 3470, 'lift': 3471, 'maha': 3472, 'nsa': 3473, 'opportunities': 3474, 'panic': 3475, 'raja': 3476, 'returned': 3477, 'sisters': 3478, 'suresh': 3479, 'tiwari': 3480, 'vikas': 3481, 'virtual': 3482, '’re': 3483, 'advance': 3484, 'ally': 3485, 'announce': 3486, 'artificial': 3487, 'audience': 3488, 'draws': 3489, 'dying': 3490, 'fifth': 3491, 'fourth': 3492, 'fundamental': 3493, 'introduce': 3494, 'introduces': 3495, 'maoists': 3496, 'mode': 3497, 'mutual': 3498, 'oppose': 3499, 'podcast': 3500, 'polling': 3501, 'prefer': 3502, 'ranveer': 3503, 'residential': 3504, 'scenes': 3505, 'shoes': 3506, 'standards': 3507, 'teaser': 3508, 'trolled': 3509, 'venkaiah': 3510, 'एक': 3511, '🔥': 3512, 'alt': 3513, 'arabia': 3514, 'awarded': 3515, 'brilliant': 3516, 'canadian': 3517, 'cleared': 3518, 'cnn': 3519, 'count': 3520, 'iim': 3521, 'iits': 3522, 'ill': 3523, 'kailash': 3524, 'ladies': 3525, 'migrants': 3526, 'olympic': 3527, 'ordinance': 3528, 'served': 3529, 'siddaramaiah': 3530, 'suspect': 3531, 'threatening': 3532, 'toxic': 3533, 'willing': 3534, 'भारत': 3535, '600': 3536, '_': 3537, 'absolutely': 3538, 'agent': 3539, 'axis': 3540, 'bench': 3541, 'caused': 3542, 'database': 3543, 'dialogue': 3544, 'divide': 3545, 'easily': 3546, 'emotional': 3547, 'genuine': 3548, 'hide': 3549, 'institutes': 3550, 'maximum': 3551, 'mohammad': 3552, 'offices': 3553, 'pension': 3554, 'praises': 3555, 'produce': 3556, 'raising': 3557, 'reacts': 3558, 'shortage': 3559, 'sons': 3560, 'tensions': 3561, 'theme': 3562, 'useful': 3563, 'vegetarian': 3564, 'wise': 3565, 'witness': 3566, 'wow': 3567, '20,000': 3568, 'abhinandan': 3569, 'apology': 3570, 'christians': 3571, 'correct': 3572, 'deserve': 3573, 'desperate': 3574, 'donations': 3575, 'eid': 3576, 'feat': 3577, 'gem': 3578, 'haasan': 3579, 'humanity': 3580, 'imam': 3581, 'iron': 3582, 'jalandhar': 3583, 'jumps': 3584, 'kargil': 3585, 'mail': 3586, 'migrant': 3587, 'naked': 3588, 'pure': 3589, 'slaps': 3590, 'sparks': 3591, 'surge': 3592, 'transgender': 3593, 'varun': 3594, 'ये': 3595, '4th': 3596, 'airports': 3597, 'akbar': 3598, 'bn': 3599, 'brutally': 3600, 'cast': 3601, 'charging': 3602, 'collapse': 3603, 'doval': 3604, 'dropped': 3605, 'gods': 3606, 'gujarati': 3607, 'happiness': 3608, 'headphones': 3609, 'imports': 3610, 'island': 3611, 'lands': 3612, 'logic': 3613, 'militant': 3614, 'min': 3615, 'mini': 3616, 'ocean': 3617, 'pandit': 3618, 'policemen': 3619, 'rid': 3620, 'thrown': 3621, 'visas': 3622, 'bear': 3623, 'championship': 3624, 'chaos': 3625, 'commissioner': 3626, 'dawood': 3627, 'deleted': 3628, 'driven': 3629, 'equipment': 3630, 'goons': 3631, 'governments': 3632, 'highly': 3633, 'himalayas': 3634, 'indus': 3635, 'install': 3636, 'kanhaiya': 3637, 'logo': 3638, 'malik': 3639, 'mask': 3640, 'medium': 3641, 'noticed': 3642, 'prison': 3643, 'rocket': 3644, 'sunil': 3645, '36': 3646, 'achieve': 3647, 'caption': 3648, 'dealing': 3649, 'dj': 3650, 'entering': 3651, 'forms': 3652, 'gen': 3653, 'ghar': 3654, 'implementation': 3655, 'kaur': 3656, 'library': 3657, 'lyrics': 3658, 'mcd': 3659, 'meaning': 3660, 'organisation': 3661, 'pakistanis': 3662, 'recharge': 3663, 'sir': 3664, 'specific': 3665, 'threaten': 3666, 'treated': 3667, 'vishwas': 3668, '33': 3669, 'bangladeshi': 3670, 'celebrates': 3671, 'concerned': 3672, 'corridor': 3673, 'decides': 3674, 'developing': 3675, 'equal': 3676, 'forecast': 3677, 'innovation': 3678, 'jailed': 3679, 'kiss': 3680, 'launching': 3681, 'mere': 3682, 'mn': 3683, 'motors': 3684, 'smoking': 3685, 'suffer': 3686, 'unrest': 3687, 'acharya': 3688, 'azad': 3689, 'balakot': 3690, 'cauvery': 3691, 'curry': 3692, 'everywhere': 3693, 'fit': 3694, 'flow': 3695, 'gautam': 3696, 'hanging': 3697, 'ignore': 3698, 'pact': 3699, 'principal': 3700, 'sidhu': 3701, 'tied': 3702, 'tracking': 3703, 'wikipedia': 3704, '7th': 3705, 'academic': 3706, 'bride': 3707, 'confidence': 3708, 'constituency': 3709, 'dates': 3710, 'extends': 3711, 'hub': 3712, 'jayanti': 3713, 'laundering': 3714, 'lg': 3715, 'loved': 3716, 'municipal': 3717, 'overseas': 3718, 'pulls': 3719, 'putin': 3720, 'shimla': 3721, 'solo': 3722, 'spicejet': 3723, 'sting': 3724, 'tariff': 3725, 'ahmed': 3726, 'ambulance': 3727, 'barkha': 3728, 'branch': 3729, 'cashback': 3730, 'connect': 3731, 'developers': 3732, 'gates': 3733, 'material': 3734, 'paris': 3735, 'rapist': 3736, 'ratna': 3737, 'receiving': 3738, 'scare': 3739, 'scenario': 3740, 'shown': 3741, 'studies': 3742, 'suicides': 3743, 'swine': 3744, 'thane': 3745, '5,000': 3746, ':(': 3747, 'argument': 3748, 'author': 3749, 'authority': 3750, 'battery': 3751, 'bias': 3752, 'classic': 3753, 'dangal': 3754, 'dev': 3755, 'fill': 3756, 'hatred': 3757, 'ib': 3758, 'junior': 3759, 'kangana': 3760, 'maharaj': 3761, 'pooja': 3762, 'presence': 3763, 'satellites': 3764, 'silk': 3765, 'tank': 3766, 'units': 3767, 'yamuna': 3768, 'yojana': 3769, 'कैसे': 3770, '•': 3771, 'adds': 3772, 'convicts': 3773, 'eco': 3774, 'envoy': 3775, 'instant': 3776, 'israeli': 3777, 'legit': 3778, 'likes': 3779, 'mata': 3780, 'meant': 3781, 'novel': 3782, 'print': 3783, 'printing': 3784, 'relatives': 3785, 'responsibility': 3786, 'semi': 3787, 'sen': 3788, 'specifications': 3789, 'split': 3790, 'tested': 3791, 'adult': 3792, 'amidst': 3793, 'andaman': 3794, 'azhar': 3795, 'bonds': 3796, 'celebrities': 3797, 'drought': 3798, 'guwahati': 3799, 'headed': 3800, 'imf': 3801, 'leh': 3802, 'lock': 3803, 'masks': 3804, 'meter': 3805, 'peaceful': 3806, 'removal': 3807, 'respond': 3808, 'returning': 3809, 'reward': 3810, 'sadhguru': 3811, 'scandal': 3812, 'sometimes': 3813, 'taliban': 3814, 'usage': 3815, 'usd': 3816, 'weather': 3817, 'zealand': 3818, 'appear': 3819, 'cure': 3820, 'devices': 3821, 'drdo': 3822, 'followed': 3823, 'guidance': 3824, 'hacking': 3825, 'italy': 3826, 'lovers': 3827, 'promised': 3828, 'putting': 3829, 'symbol': 3830, 'tracks': 3831, 'unveils': 3832, 'verma': 3833, 'vikram': 3834, 'vishal': 3835, 'zone': 3836, 'तो': 3837, 'aaj': 3838, 'acting': 3839, 'actions': 3840, 'airline': 3841, 'boyfriend': 3842, 'camps': 3843, 'causes': 3844, 'character': 3845, 'closer': 3846, 'corrugated': 3847, 'critics': 3848, 'damn': 3849, 'designer': 3850, 'destroy': 3851, 'diamond': 3852, 'dismisses': 3853, 'eastern': 3854, 'entrepreneurs': 3855, 'failing': 3856, 'fought': 3857, 'herald': 3858, 'ins': 3859, 'outlook': 3860, 'pink': 3861, 'rahman': 3862, 'reduced': 3863, 'revive': 3864, 'sacred': 3865, 'sridevi': 3866, 'suddenly': 3867, 'supposed': 3868, 'veteran': 3869, 'added': 3870, 'directs': 3871, 'grants': 3872, 'introduced': 3873, 'kin': 3874, 'literally': 3875, 'maker': 3876, 'masood': 3877, 'moody': 3878, 'parody': 3879, 'sells': 3880, 'severe': 3881, 'spokesperson': 3882, 'straight': 3883, 'vigilantes': 3884, 'volunteers': 3885, 'weak': 3886, '250': 3887, 'apartment': 3888, 'attendance': 3889, 'babies': 3890, 'biometric': 3891, 'calcutta': 3892, 'coders': 3893, 'communities': 3894, 'discovered': 3895, 'draw': 3896, 'ep': 3897, 'fest': 3898, 'garden': 3899, 'heading': 3900, 'inspiring': 3901, 'la': 3902, 'omar': 3903, 'pil': 3904, 'praise': 3905, 'superpower': 3906, 'switch': 3907, 'tool': 3908, 'uncle': 3909, 'valid': 3910, 'vande': 3911, 'walking': 3912, 'aviation': 3913, 'biased': 3914, 'bombs': 3915, 'cbfc': 3916, 'colour': 3917, 'cook': 3918, 'fined': 3919, 'foot': 3920, 'hill': 3921, 'medicines': 3922, 'officially': 3923, 'refugees': 3924, 'requests': 3925, 'rumours': 3926, 'sport': 3927, 'tie': 3928, 'transferred': 3929, 'unnao': 3930, 'हो': 3931, '2.5': 3932, '99': 3933, 'abdul': 3934, 'activity': 3935, 'bhatt': 3936, 'buys': 3937, 'cameras': 3938, 'chouhan': 3939, 'coin': 3940, 'communication': 3941, 'corner': 3942, 'directly': 3943, 'dissent': 3944, 'elderly': 3945, 'eu': 3946, 'extension': 3947, 'faster': 3948, 'fields': 3949, 'guha': 3950, 'hum': 3951, 'immigrants': 3952, 'incidents': 3953, 'ipo': 3954, 'kamra': 3955, 'lt': 3956, 'manoj': 3957, 'pages': 3958, 'partnership': 3959, 'pragya': 3960, 'ration': 3961, 'retirement': 3962, 'shirt': 3963, 'sony': 3964, 'tired': 3965, '2010': 3966, 'aide': 3967, 'beer': 3968, 'boards': 3969, 'bureau': 3970, 'chandrayaan': 3971, 'coimbatore': 3972, 'commit': 3973, 'consent': 3974, 'cooking': 3975, 'crosses': 3976, 'cycle': 3977, 'extreme': 3978, 'hack': 3979, 'hints': 3980, 'iconic': 3981, 'importance': 3982, 'ist': 3983, 'landing': 3984, 'maths': 3985, 'mea': 3986, 'pv': 3987, 'refund': 3988, 'refusing': 3989, 'riding': 3990, 'sebi': 3991, 'shekhar': 3992, 'stays': 3993, 'updated': 3994, '🙏': 3995, 'addresses': 3996, 'astrologer': 3997, 'bird': 3998, 'cambridge': 3999, 'celebrated': 4000, 'coaches': 4001, 'colonial': 4002, 'core': 4003, 'creation': 4004, 'custom': 4005, 'detention': 4006, 'doordarshan': 4007, 'edge': 4008, 'highways': 4009, 'implemented': 4010, 'individual': 4011, 'jawaharlal': 4012, 'limits': 4013, 'lunch': 4014, 'math': 4015, 'matters': 4016, 'misleading': 4017, 'mostly': 4018, 'mysore': 4019, 'offensive': 4020, 'oldest': 4021, 'pdf': 4022, 'purpose': 4023, 'rage': 4024, 'savarkar': 4025, 'stabbed': 4026, 'totally': 4027, 'types': 4028, 'urjit': 4029, 'academy': 4030, 'aligarh': 4031, 'arundhati': 4032, 'beginning': 4033, 'crackers': 4034, 'crop': 4035, 'crucial': 4036, 'decent': 4037, 'defecation': 4038, 'desh': 4039, 'dual': 4040, 'entrance': 4041, 'implement': 4042, 'investing': 4043, 'jay': 4044, 'laugh': 4045, 'lover': 4046, 'output': 4047, 'perform': 4048, 'prince': 4049, 'pull': 4050, 'queen': 4051, 'rakhi': 4052, 'serial': 4053, 'sleeping': 4054, 'sounds': 4055, 'spectrum': 4056, 'subscribers': 4057, 'swearing': 4058, 'techies': 4059, 'winners': 4060, 'abusing': 4061, 'atal': 4062, 'confirm': 4063, 'disabled': 4064, 'discounts': 4065, 'granted': 4066, 'hind': 4067, 'honor': 4068, 'ind': 4069, 'ink': 4070, 'kalyan': 4071, 'mns': 4072, 'mulls': 4073, 'myths': 4074, 'onion': 4075, 'op': 4076, 'peak': 4077, 'poetry': 4078, 'prabhu': 4079, 'procedure': 4080, 'selection': 4081, 'square': 4082, 'stealing': 4083, 'sunanda': 4084, 'superstar': 4085, 'tejas': 4086, 'warned': 4087, 'approval': 4088, 'crew': 4089, 'entrepreneur': 4090, 'fights': 4091, 'figures': 4092, 'fishermen': 4093, 'graduates': 4094, 'headlines': 4095, 'idol': 4096, 'immediate': 4097, 'mahasabha': 4098, 'mani': 4099, 'molested': 4100, 'offline': 4101, 'powers': 4102, 'properties': 4103, 'rakesh': 4104, 'rapists': 4105, 'removes': 4106, 'revenge': 4107, 'rival': 4108, 'rolls': 4109, 'shivraj': 4110, 'shuts': 4111, 'sweet': 4112, 'tablighi': 4113, 'teams': 4114, 'tears': 4115, 'telling': 4116, 'trafficking': 4117, 'troll': 4118, 'unpopular': 4119, 'vs.': 4120, 'worldwide': 4121, 'boom': 4122, 'conditions': 4123, 'consequences': 4124, 'dancing': 4125, 'document': 4126, 'ended': 4127, 'enemy': 4128, 'et': 4129, 'existing': 4130, 'fucked': 4131, 'justin': 4132, 'managed': 4133, 'mehta': 4134, 'memory': 4135, 'nor': 4136, 'opposing': 4137, 'outfit': 4138, 'pushes': 4139, 'quiz': 4140, 'saturday': 4141, 'serving': 4142, 'southern': 4143, 'spam': 4144, 'srk': 4145, 'stunning': 4146, 'tape': 4147, 'ultimate': 4148, 'whatever': 4149, 'ansari': 4150, 'approved': 4151, 'badly': 4152, 'chowkidar': 4153, 'concept': 4154, 'consumers': 4155, 'converted': 4156, 'criminals': 4157, 'crunch': 4158, 'destination': 4159, 'earthquake': 4160, 'f': 4161, 'icon': 4162, 'mainstream': 4163, 'mix': 4164, 'nationals': 4165, 'nationwide': 4166, 'punishment': 4167, 'rankings': 4168, 'rashtra': 4169, 'reliable': 4170, 'remix': 4171, 'rivers': 4172, 'roast': 4173, 'samajwadi': 4174, 'squad': 4175, 'sujata': 4176, 'trek': 4177, 'walks': 4178, 'yashwant': 4179, 'abu': 4180, 'accidents': 4181, 'bhu': 4182, 'brazil': 4183, 'chai': 4184, 'challenging': 4185, 'dehradun': 4186, 'deserves': 4187, 'developer': 4188, 'diet': 4189, 'empty': 4190, 'experiment': 4191, 'farming': 4192, 'filled': 4193, 'globally': 4194, 'heroes': 4195, 'irony': 4196, 'killings': 4197, 'letters': 4198, 'listening': 4199, 'mizoram': 4200, 'narrative': 4201, 'painting': 4202, 'patra': 4203, 'phd': 4204, 'quote': 4205, 'recorded': 4206, 'satire': 4207, 'seconds': 4208, 'seller': 4209, 'statements': 4210, 'studio': 4211, 'targeting': 4212, 'bajaj': 4213, 'bihari': 4214, 'bizarre': 4215, 'carried': 4216, 'facilities': 4217, 'forcing': 4218, 'foreigner': 4219, 'funeral': 4220, 'guest': 4221, 'mafia': 4222, 'maintain': 4223, 'mall': 4224, 'manali': 4225, 'mera': 4226, 'opened': 4227, 'pr': 4228, 'rakshaks': 4229, 'researchers': 4230, 'retired': 4231, 'slips': 4232, 'supporter': 4233, 't20': 4234, 'task': 4235, 'throws': 4236, 'trapped': 4237, 'tuesday': 4238, 'tvf': 4239, 'windows': 4240, 'worship': 4241, 'ayurveda': 4242, 'beijing': 4243, 'bs': 4244, 'cafe': 4245, 'chart': 4246, 'charts': 4247, 'cpm': 4248, 'expand': 4249, 'explore': 4250, 'fc': 4251, 'fiction': 4252, 'forever': 4253, 'innocent': 4254, 'kher': 4255, 'mistakes': 4256, 'provided': 4257, 'sakshi': 4258, 'scams': 4259, 'shocked': 4260, 'sing': 4261, 'suzuki': 4262, 'trinamool': 4263, 'universal': 4264, 'vip': 4265, 'wanna': 4266, 'waters': 4267, 'yeh': 4268, '’ve': 4269, 'akhtar': 4270, 'apologise': 4271, 'arjun': 4272, 'aside': 4273, 'cancel': 4274, 'chances': 4275, 'complain': 4276, 'consumption': 4277, 'contribute': 4278, 'crashes': 4279, 'distance': 4280, 'ending': 4281, 'except': 4282, 'ghost': 4283, 'katju': 4284, 'kyc': 4285, 'naval': 4286, 'nightmare': 4287, 'noise': 4288, 'operators': 4289, 'passing': 4290, 'priya': 4291, 'shield': 4292, 'soul': 4293, 'spiritual': 4294, 'strength': 4295, 'structure': 4296, 'vadodara': 4297, 'venture': 4298, 'violations': 4299, 'vows': 4300, 'amul': 4301, 'attacking': 4302, 'busted': 4303, 'cable': 4304, 'causing': 4305, 'crack': 4306, 'defend': 4307, 'democratic': 4308, 'digvijaya': 4309, 'donation': 4310, 'emerging': 4311, 'ghaziabad': 4312, 'groom': 4313, 'include': 4314, 'kalam': 4315, 'kitchen': 4316, 'krk': 4317, 'livemint': 4318, 'longest': 4319, 'loud': 4320, 'moments': 4321, 'newspapers': 4322, 'pulled': 4323, 'react': 4324, 'scores': 4325, 'screening': 4326, 'searching': 4327, 'signal': 4328, 'significant': 4329, 'strange': 4330, 'stress': 4331, 'struggling': 4332, 'technologies': 4333, '}': 4334, '🤔': 4335, 'anchor': 4336, 'asaduddin': 4337, 'audit': 4338, 'bet': 4339, 'biopic': 4340, 'constable': 4341, 'cotton': 4342, 'depressed': 4343, 'description': 4344, 'everybody': 4345, 'fed': 4346, 'gangraped': 4347, 'goddess': 4348, 'gulf': 4349, 'hazare': 4350, 'ielts': 4351, 'inquiry': 4352, 'lab': 4353, 'license': 4354, 'maldives': 4355, 'mha': 4356, 'packages': 4357, 'pitch': 4358, 'pixel': 4359, 'questioning': 4360, 'sadhvi': 4361, 'salaries': 4362, 'slogan': 4363, 'snake': 4364, 'speeds': 4365, 'submarine': 4366, 'tricks': 4367, 'unlikely': 4368, 'wide': 4369, 'window': 4370, '101': 4371, 'aakhirkyon': 4372, 'abandoned': 4373, 'abusive': 4374, 'agrees': 4375, 'amu': 4376, 'anywhere': 4377, 'applying': 4378, 'borders': 4379, 'civilians': 4380, 'debut': 4381, 'designing': 4382, 'dot': 4383, 'dumb': 4384, 'extend': 4385, 'fell': 4386, 'gym': 4387, 'helmet': 4388, 'horse': 4389, 'laptops': 4390, 'locked': 4391, 'maoist': 4392, 'mod': 4393, 'newly': 4394, 'remote': 4395, 'sides': 4396, 'stick': 4397, 'vlog': 4398, 'मोदी': 4399, '700': 4400, '90s': 4401, 'accepted': 4402, 'advisory': 4403, 'brahmin': 4404, 'brave': 4405, 'cares': 4406, 'castes': 4407, 'clothing': 4408, 'comedian': 4409, 'cooperation': 4410, 'crying': 4411, 'employer': 4412, 'greetings': 4413, 'hall': 4414, 'honey': 4415, 'lucky': 4416, 'meetup': 4417, 'motorcycle': 4418, 'neither': 4419, 'panchayat': 4420, 'patriotic': 4421, 'pilots': 4422, 'planes': 4423, 'pls': 4424, 'preparing': 4425, 'provides': 4426, 'remembering': 4427, 'saharanpur': 4428, 'sandeep': 4429, 'skip': 4430, 'sought': 4431, 'steal': 4432, 'summons': 4433, 'symptoms': 4434, 'torture': 4435, 'toys': 4436, 'unite': 4437, 'upgrade': 4438, 'allege': 4439, 'arrival': 4440, 'ball': 4441, 'classical': 4442, 'coins': 4443, 'congratulations': 4444, 'delivers': 4445, 'dhruv': 4446, 'elite': 4447, 'graphic': 4448, 'hype': 4449, 'johar': 4450, 'keen': 4451, 'kulcha': 4452, 'legally': 4453, 'maa': 4454, 'maintenance': 4455, 'mufti': 4456, 'mysterious': 4457, 'ngt': 4458, 'oxygen': 4459, 'par': 4460, 'reached': 4461, 'reserves': 4462, 'schedule': 4463, 'scrap': 4464, 'sentenced': 4465, 'sight': 4466, 'staying': 4467, 'trick': 4468, 'trudeau': 4469, 'urge': 4470, 'vc': 4471, 'verification': 4472, 'violates': 4473, 'washington': 4474, 'wildlife': 4475, 'accepts': 4476, 'allowing': 4477, 'apologises': 4478, 'attitude': 4479, 'aug': 4480, 'bipin': 4481, 'citing': 4482, 'dare': 4483, 'distancing': 4484, 'error': 4485, 'grant': 4486, 'harvard': 4487, 'hiding': 4488, 'judgment': 4489, 'kidnapped': 4490, 'loya': 4491, 'mataram': 4492, 'mount': 4493, 'nurses': 4494, 'opposed': 4495, 'planet': 4496, 'podcasts': 4497, 'recognition': 4498, 'regular': 4499, 'rose': 4500, 'sudden': 4501, 'teenager': 4502, 'trap': 4503, 'vacation': 4504, 'weapon': 4505, 'wind': 4506, 'wives': 4507, '-:-': 4508, '10-year': 4509, '21st': 4510, '44': 4511, 'abp': 4512, 'adopt': 4513, 'african': 4514, 'aiyar': 4515, 'biography': 4516, 'chant': 4517, 'cousin': 4518, 'darjeeling': 4519, 'deccan': 4520, 'doodle': 4521, 'khattar': 4522, 'metal': 4523, 'monkey': 4524, 'northern': 4525, 'ongoing': 4526, 'performing': 4527, 'providers': 4528, 'resident': 4529, 'sanitary': 4530, 'shots': 4531, 'statistics': 4532, 'suspects': 4533, 'throw': 4534, 'tier': 4535, 'tobacco': 4536, 'transplant': 4537, 'twist': 4538, 'wage': 4539, 'ab': 4540, 'alok': 4541, 'applications': 4542, 'bitcoins': 4543, 'convince': 4544, 'daughters': 4545, 'doubt': 4546, 'doubts': 4547, 'fatwa': 4548, 'gambhir': 4549, 'george': 4550, 'ghosh': 4551, 'goals': 4552, 'hosting': 4553, 'hr': 4554, 'ignored': 4555, 'javadekar': 4556, 'kick': 4557, 'legend': 4558, 'models': 4559, 'mughal': 4560, 'organization': 4561, 'prayers': 4562, 'programming': 4563, 'ramayana': 4564, 'reminder': 4565, 'scheduled': 4566, 'shape': 4567, 'slap': 4568, 'stir': 4569, 'stranded': 4570, 'subhash': 4571, 'surprised': 4572, 'terrible': 4573, 'textbooks': 4574, 'theatre': 4575, 'timeline': 4576, 'tym': 4577, 'udaipur': 4578, 'vivek': 4579, 'appreciated': 4580, 'arm': 4581, 'ass': 4582, 'assistant': 4583, 'belt': 4584, 'birds': 4585, 'blaming': 4586, 'cess': 4587, 'condemns': 4588, 'conversions': 4589, 'cringe': 4590, 'drones': 4591, 'friendship': 4592, 'glass': 4593, 'harassing': 4594, 'janata': 4595, 'kar': 4596, 'leaks': 4597, 'lion': 4598, 'lynched': 4599, 'misuse': 4600, 'monitor': 4601, 'motion': 4602, 'nationalists': 4603, 'nihalani': 4604, 'permanent': 4605, 'preparation': 4606, 'primary': 4607, 'questioned': 4608, 'ratings': 4609, 'recommendation': 4610, 'secrets': 4611, 'server': 4612, 'solidarity': 4613, 'tak': 4614, 'values': 4615, 'withdraws': 4616, '’ll': 4617, '144': 4618, 'absolute': 4619, 'baar': 4620, 'beti': 4621, 'covered': 4622, 'debates': 4623, 'deepak': 4624, 'demolition': 4625, 'dengue': 4626, 'deny': 4627, 'external': 4628, 'fascism': 4629, 'festivals': 4630, 'ganesha': 4631, 'iii': 4632, 'janta': 4633, 'jibe': 4634, 'karni': 4635, 'layoffs': 4636, 'lesser': 4637, 'literature': 4638, 'mbbs': 4639, 'method': 4640, 'narayan': 4641, 'neighbour': 4642, 'opposite': 4643, 'pandits': 4644, 'paradise': 4645, 'participate': 4646, 'pending': 4647, 'premier': 4648, 'queue': 4649, 'radical': 4650, 'rickshaw': 4651, 'rift': 4652, 'rush': 4653, 'script': 4654, 'togadia': 4655, 'trials': 4656, 'versus': 4657, 'virgin': 4658, 'wondering': 4659, '2030': 4660, 'admitted': 4661, 'amma': 4662, 'analytica': 4663, 'appreciate': 4664, 'blamed': 4665, 'calm': 4666, 'carrier': 4667, 'celebrity': 4668, 'champion': 4669, 'charity': 4670, 'contribution': 4671, 'drives': 4672, 'evolution': 4673, 'featuring': 4674, 'funded': 4675, 'gps': 4676, 'grab': 4677, 'hyperloop': 4678, 'ideal': 4679, 'learned': 4680, 'pandey': 4681, 'parking': 4682, 'pizza': 4683, 'powered': 4684, 'ranaut': 4685, 'releasing': 4686, 'responds': 4687, 'shelter': 4688, 'shocker': 4689, 'slum': 4690, 'snapchat': 4691, 'touching': 4692, 'trail': 4693, 'warn': 4694, '31st': 4695, '55': 4696, 'additional': 4697, 'aged': 4698, 'amarinder': 4699, 'askreddit': 4700, 'capable': 4701, 'chandrayaan-2': 4702, 'dae': 4703, 'diversity': 4704, 'expansion': 4705, 'experienced': 4706, 'explanation': 4707, 'firecrackers': 4708, 'har': 4709, 'hiv': 4710, 'holidays': 4711, 'imagine': 4712, 'innovative': 4713, 'jewellery': 4714, 'judgement': 4715, 'katrina': 4716, 'lens': 4717, 'lit': 4718, 'mangalore': 4719, 'matches': 4720, 'mocks': 4721, 'possibly': 4722, 'prank': 4723, 'punching': 4724, 'recover': 4725, 'reject': 4726, 'religions': 4727, 'rental': 4728, 'saarc': 4729, 'signed': 4730, 'smoke': 4731, 'stronger': 4732, 'tdp': 4733, 'tortured': 4734, 'vpn': 4735, '1.3': 4736, '49': 4737, 'barack': 4738, 'bed': 4739, 'choosing': 4740, 'danger': 4741, 'decisions': 4742, 'definitely': 4743, 'delete': 4744, 'detailed': 4745, 'domain': 4746, 'electronics': 4747, 'expressway': 4748, 'hills': 4749, 'himalayan': 4750, 'hitting': 4751, 'hole': 4752, 'ibrahim': 4753, 'isolation': 4754, 'linkedin': 4755, 'martyrs': 4756, 'museum': 4757, 'paypal': 4758, 'photography': 4759, 'practices': 4760, 'priority': 4761, 'proper': 4762, 'protecting': 4763, 'pushed': 4764, 'pushkar': 4765, 'raksha': 4766, 'ratan': 4767, 'recovery': 4768, 'silicon': 4769, 'speakers': 4770, 'stance': 4771, 'territory': 4772, 'thursday': 4773, 'vulnerable': 4774, 'y': 4775, 'ya': 4776, 'कर': 4777, '01': 4778, '15th': 4779, 'accepting': 4780, 'afghan': 4781, 'amarnath': 4782, 'arrives': 4783, 'behaviour': 4784, 'brutal': 4785, 'census': 4786, 'chest': 4787, 'da': 4788, 'direction': 4789, 'enthusiasts': 4790, 'forbes': 4791, 'guitar': 4792, 'humour': 4793, 'hussain': 4794, 'loot': 4795, 'mahabharata': 4796, 'marijuana': 4797, 'mela': 4798, 'mentally': 4799, 'mentioned': 4800, 'motivational': 4801, 'mujahideen': 4802, 'obc': 4803, 'raga': 4804, 'rallies': 4805, 'rampal': 4806, 'resume': 4807, 'ridiculous': 4808, 'shayari': 4809, 'shitty': 4810, 'speeches': 4811, 'stole': 4812, 'syllabus': 4813, 'tesla': 4814, 'unhappy': 4815, 'vivo': 4816, 'wonderful': 4817, 'youtuber': 4818, '😍': 4819, 'acts': 4820, 'aditya': 4821, 'assaulting': 4822, 'bay': 4823, 'billionaire': 4824, 'buyers': 4825, 'cigarettes': 4826, 'clarifies': 4827, 'color': 4828, 'conclave': 4829, 'conducted': 4830, 'constitutional': 4831, 'credits': 4832, 'cricketer': 4833, 'dairy': 4834, 'dmk': 4835, 'earning': 4836, 'evil': 4837, 'examination': 4838, 'formation': 4839, 'hamid': 4840, 'huawei': 4841, 'interim': 4842, 'mad': 4843, 'migration': 4844, 'mistry': 4845, 'mohammed': 4846, 'pahlaj': 4847, 'percentage': 4848, 'pharma': 4849, 'pop': 4850, 'pratap': 4851, 'prep': 4852, 'ramesh': 4853, 'resort': 4854, 'sanctions': 4855, 'shazia': 4856, 'sibal': 4857, 'sonu': 4858, 'sort': 4859, 'syria': 4860, 'warriors': 4861, '🤣': 4862, '37': 4863, '42': 4864, '43': 4865, '800': 4866, 'accidental': 4867, 'animation': 4868, 'appeals': 4869, 'bangla': 4870, 'biweekly': 4871, 'bulk': 4872, 'contempt': 4873, 'crush': 4874, 'fascist': 4875, 'fat': 4876, 'gear': 4877, 'interior': 4878, 'islands': 4879, 'isp': 4880, 'lawmaker': 4881, 'lgbt': 4882, 'ltd': 4883, 'marital': 4884, 'navjot': 4885, 'none': 4886, 'openly': 4887, 'parent': 4888, 'pdp': 4889, 'policing': 4890, 'pool': 4891, 'premises': 4892, 'progressive': 4893, 'scanner': 4894, 'scrapped': 4895, 'select': 4896, 'shell': 4897, 'spoke': 4898, 'stadium': 4899, 'storage': 4900, 'subject': 4901, 'sugar': 4902, 'taxpayers': 4903, 'triggers': 4904, 'trolling': 4905, 'vaccine': 4906, '{': 4907, 'ambitious': 4908, 'anime': 4909, 'anonymous': 4910, 'anxiety': 4911, 'apna': 4912, 'badminton': 4913, 'capture': 4914, 'demo': 4915, 'diary': 4916, 'eclipse': 4917, 'hang': 4918, 'hurting': 4919, 'immediately': 4920, 'infra': 4921, 'injuries': 4922, 'intolerance': 4923, 'jeans': 4924, 'luck': 4925, 'lunar': 4926, 'maneka': 4927, 'mcdonald': 4928, 'md': 4929, 'memories': 4930, 'mixed': 4931, 'netaji': 4932, 'obsession': 4933, 'orbit': 4934, 'oyo': 4935, 'pe': 4936, 'ratio': 4937, 'resolve': 4938, 'rides': 4939, 'sectors': 4940, 'sept': 4941, 'tiny': 4942, 'tip': 4943, 'tweeted': 4944, 'volunteer': 4945, 'ward': 4946, 'workplace': 4947, 'wto': 4948, 'आप': 4949, '120': 4950, '8th': 4951, 'aggressive': 4952, 'album': 4953, 'assures': 4954, 'atheist': 4955, 'bang': 4956, 'breakfast': 4957, 'brief': 4958, 'burden': 4959, 'bye': 4960, 'chopper': 4961, 'crops': 4962, 'dilip': 4963, 'dth': 4964, 'explaining': 4965, 'hegde': 4966, 'helpline': 4967, 'hizbul': 4968, 'identified': 4969, 'insult': 4970, 'jodhpur': 4971, 'kabaddi': 4972, 'khanna': 4973, 'lived': 4974, 'loves': 4975, 'mouth': 4976, 'placement': 4977, 'pvt': 4978, 'rani': 4979, 'reservations': 4980, 'rollout': 4981, 'sambit': 4982, 'shadow': 4983, 'shahrukh': 4984, 'shakti': 4985, 'shetty': 4986, 'slowly': 4987, 'stampede': 4988, 'topic': 4989, 'tracker': 4990, 'turnout': 4991, 'washing': 4992, 'whistleblower': 4993, '1971': 4994, '65': 4995, 'ashutosh': 4996, 'astrology': 4997, 'begun': 4998, 'compilation': 4999, 'distribution': 5000, 'everest': 5001, 'formula': 5002, 'grade': 5003, 'grid': 5004, 'hearts': 5005, 'helicopter': 5006, 'hikes': 5007, 'indigenous': 5008, 'introducing': 5009, 'learnt': 5010, 'mangaluru': 5011, 'mantra': 5012, 'messenger': 5013, 'nana': 5014, 'native': 5015, 'odd': 5016, 'oppo': 5017, 'pappu': 5018, 'picks': 5019, 'proves': 5020, 'root': 5021, 'sacrifice': 5022, 'sand': 5023, 'shall': 5024, 'syed': 5025, 'toh': 5026, 'travels': 5027, 'venue': 5028, '❤': 5029, '5000': 5030, ':d': 5031, 'adopted': 5032, 'dalai': 5033, 'david': 5034, 'designed': 5035, 'disappointed': 5036, 'drawing': 5037, 'dung': 5038, 'easier': 5039, 'entered': 5040, 'gathering': 5041, 'hails': 5042, 'included': 5043, 'jahan': 5044, 'jem': 5045, 'labourers': 5046, 'lankan': 5047, 'larger': 5048, 'leela': 5049, 'lifetime': 5050, 'mobiles': 5051, 'mothers': 5052, 'nigam': 5053, 'oliver': 5054, 'pledge': 5055, 'predicted': 5056, 'prepaid': 5057, 'qatar': 5058, 'ranjan': 5059, 'recipes': 5060, 'renamed': 5061, 'reverse': 5062, 'ring': 5063, 'rohingyas': 5064, 'rooms': 5065, 'scindia': 5066, 'scooter': 5067, 'sexist': 5068, 'sexy': 5069, 'shameful': 5070, 'showed': 5071, 'siddiqui': 5072, 'spoken': 5073, 'tariffs': 5074, 'taste': 5075, 'trash': 5076, 'trips': 5077, 'walls': 5078, 'warrior': 5079, 'weed': 5080, 'welcomes': 5081, '~': 5082, 'accurate': 5083, 'afford': 5084, 'aim': 5085, 'anupam': 5086, 'anyway': 5087, 'attending': 5088, 'bats': 5089, 'bi': 5090, 'bio': 5091, 'booth': 5092, 'bottle': 5093, 'campaigning': 5094, 'capitalism': 5095, 'circle': 5096, 'completed': 5097, 'condoms': 5098, 'cpi': 5099, 'cute': 5100, 'discovery': 5101, 'embassy': 5102, 'fate': 5103, 'finals': 5104, 'funniest': 5105, 'ht': 5106, 'italian': 5107, 'korean': 5108, 'laid': 5109, 'lama': 5110, 'lawmakers': 5111, 'lifestyle': 5112, 'lots': 5113, 'mahesh': 5114, 'minds': 5115, 'mohali': 5116, 'navi': 5117, 'obsessed': 5118, 'palace': 5119, 'pmc': 5120, 'rajput': 5121, 'rana': 5122, 'replies': 5123, 'scholar': 5124, 'settle': 5125, 'shastri': 5126, 'snow': 5127, 'spends': 5128, 'stopping': 5129, 'subcontinent': 5130, 'subtitles': 5131, 'tallest': 5132, 'unless': 5133, 'vandalised': 5134, 'vietnam': 5135, 'तक': 5136, 'ही': 5137, '2009': 5138, '6th': 5139, 'ablaze': 5140, 'agitation': 5141, 'alia': 5142, 'athletes': 5143, 'avengers': 5144, 'birla': 5145, 'capita': 5146, 'checking': 5147, 'chess': 5148, 'clicked': 5149, 'cola': 5150, 'compare': 5151, 'concert': 5152, 'consultants': 5153, 'cruise': 5154, 'cyrus': 5155, 'ecommerce': 5156, 'editorial': 5157, 'fiasco': 5158, 'fruit': 5159, 'frustrated': 5160, 'haj': 5161, 'individuals': 5162, 'jaish': 5163, 'kidney': 5164, 'kuch': 5165, 'lecture': 5166, 'malaysia': 5167, 'mango': 5168, 'marrying': 5169, 'martyred': 5170, 'motor': 5171, 'news18': 5172, 'nexus': 5173, 'notices': 5174, 'offence': 5175, 'parivar': 5176, 'pradhan': 5177, 'rk': 5178, 'sec': 5179, 'slows': 5180, 'soap': 5181, 'stats': 5182, 'strict': 5183, 'struggles': 5184, 'suv': 5185, 'thrash': 5186, 'tribals': 5187, '25,000': 5188, '34': 5189, 'abducted': 5190, 'acche': 5191, 'addressing': 5192, 'apartments': 5193, 'applied': 5194, 'believed': 5195, 'bhojpuri': 5196, 'bronze': 5197, 'cake': 5198, 'casual': 5199, 'certification': 5200, 'cleric': 5201, 'competitive': 5202, 'condom': 5203, 'crude': 5204, 'curbs': 5205, 'diseases': 5206, 'division': 5207, 'equality': 5208, 'fares': 5209, 'finish': 5210, 'flak': 5211, 'flash': 5212, 'foul': 5213, 'ghats': 5214, 'hrs': 5215, 'ilmi': 5216, 'impose': 5217, 'infected': 5218, 'interests': 5219, 'lovely': 5220, 'mood': 5221, 'murthy': 5222, 'najeeb': 5223, 'pal': 5224, 'placed': 5225, 'platforms': 5226, 'prohibition': 5227, 'promo': 5228, 'prospects': 5229, 'protein': 5230, 'relationships': 5231, 'rohtak': 5232, 'sai': 5233, 'separatists': 5234, 'slam': 5235, 'suffers': 5236, 'surface': 5237, 'tb': 5238, 'voices': 5239, 'warrant': 5240, 'wipro': 5241, 'ye': 5242, '377': 5243, 'abuses': 5244, 'amartya': 5245, 'appoints': 5246, 'attract': 5247, 'bhansali': 5248, 'bhavan': 5249, 'bottom': 5250, 'bulandshahr': 5251, 'bullshit': 5252, 'bypoll': 5253, 'cabs': 5254, 'chowk': 5255, 'cream': 5256, 'distress': 5257, 'donates': 5258, 'dynasty': 5259, 'earns': 5260, 'economists': 5261, 'endgame': 5262, 'ganguly': 5263, 'generate': 5264, 'habits': 5265, 'includes': 5266, 'introduction': 5267, 'jaya': 5268, 'jinping': 5269, 'kanwal': 5270, 'karachi': 5271, 'listed': 5272, 'lokpal': 5273, 'mention': 5274, 'nazi': 5275, 'nomination': 5276, 'pelting': 5277, 'popularity': 5278, 'producer': 5279, 'promotion': 5280, 'pumps': 5281, 'quiet': 5282, 'replaced': 5283, 'salt': 5284, 'softbank': 5285, 'stood': 5286, 'suppliers': 5287, 'thousand': 5288, 'tongue': 5289, 'tools': 5290, 'turkey': 5291, 'typical': 5292, 'ultra': 5293, 'unfair': 5294, 'wages': 5295, 'weddings': 5296, '11th': 5297, '14th': 5298, 'arrived': 5299, 'ayush': 5300, 'bahubali': 5301, 'covering': 5302, 'crown': 5303, 'differences': 5304, 'dilemma': 5305, 'dish': 5306, 'dussehra': 5307, 'factor': 5308, 'feared': 5309, 'fiber': 5310, 'fixing': 5311, 'function': 5312, 'g20': 5313, 'h': 5314, 'inspiration': 5315, 'insulting': 5316, 'kumbh': 5317, 'lpt': 5318, 'meals': 5319, 'musical': 5320, 'netanyahu': 5321, 'nilekani': 5322, 'nsg': 5323, 'ops': 5324, 'patent': 5325, 'printed': 5326, 'pursue': 5327, 'pushing': 5328, 'risks': 5329, 'rivals': 5330, 'salute': 5331, 'shillong': 5332, 'specs': 5333, 'spirit': 5334, 'tower': 5335, 'transparency': 5336, 'worshipers': 5337, '19th': 5338, '3,000': 5339, '51': 5340, 'acquire': 5341, 'adventure': 5342, 'aishwarya': 5343, 'babu': 5344, 'backlash': 5345, 'belongs': 5346, 'bharati': 5347, 'cheated': 5348, 'comics': 5349, 'confusion': 5350, 'convict': 5351, 'destinations': 5352, 'diplomacy': 5353, 'diplomatic': 5354, 'doors': 5355, 'dude': 5356, 'ecosystem': 5357, 'entrepreneurship': 5358, 'environmental': 5359, 'grew': 5360, 'halls': 5361, 'handling': 5362, 'hiked': 5363, 'hp': 5364, 'imported': 5365, 'improving': 5366, 'intellectual': 5367, 'internship': 5368, 'jobless': 5369, 'kaif': 5370, 'mary': 5371, 'mins': 5372, 'mountain': 5373, 'neighbours': 5374, 'networks': 5375, 'owns': 5376, 'prepares': 5377, 'ran': 5378, 'rangoli': 5379, 'rathee': 5380, 'saves': 5381, 'scary': 5382, 'shahid': 5383, 'shoots': 5384, 'simply': 5385, '30,000': 5386, 'abhiyan': 5387, 'achievements': 5388, 'adarsh': 5389, 'aircel': 5390, 'analytics': 5391, 'ashram': 5392, 'asus': 5393, 'bachao': 5394, 'badal': 5395, 'brutality': 5396, 'builds': 5397, 'chill': 5398, 'chose': 5399, 'cia': 5400, 'defending': 5401, 'degrees': 5402, 'delicious': 5403, 'designs': 5404, 'destroying': 5405, 'enabled': 5406, 'equivalent': 5407, 'essay': 5408, 'fault': 5409, 'flair': 5410, 'grocery': 5411, 'h1b': 5412, 'handed': 5413, 'hyd': 5414, 'inequality': 5415, 'ios': 5416, 'iphones': 5417, 'javed': 5418, 'manual': 5419, 'npa': 5420, 'nun': 5421, 'outfits': 5422, 'pattern': 5423, 'physics': 5424, 'poet': 5425, 'rajesh': 5426, 'ranchi': 5427, 'setback': 5428, 'sheila': 5429, 'sucks': 5430, 'tagore': 5431, 'tamilnadu': 5432, 'unconstitutional': 5433, 'upvote': 5434, 'usual': 5435, 'validity': 5436, 'vardhan': 5437, 'vk': 5438, 'writers': 5439, 'younger': 5440, 'अब': 5441, '2024': 5442, 'abhishek': 5443, 'acquires': 5444, 'acquitted': 5445, 'admissions': 5446, 'agricultural': 5447, 'amazon.in': 5448, 'authentication': 5449, 'avail': 5450, 'ayurvedic': 5451, 'balochistan': 5452, 'bikes': 5453, 'button': 5454, 'collect': 5455, 'commentary': 5456, 'condemn': 5457, 'denial': 5458, 'discussing': 5459, 'discussions': 5460, 'doubles': 5461, 'egg': 5462, 'elon': 5463, 'estimated': 5464, 'excellent': 5465, 'exists': 5466, 'finger': 5467, 'founders': 5468, 'frame': 5469, 'freelancers': 5470, 'godman': 5471, 'herself': 5472, 'homeless': 5473, 'hrithik': 5474, 'installed': 5475, 'investor': 5476, 'kannur': 5477, 'landmark': 5478, 'laughing': 5479, 'monitoring': 5480, 'newborn': 5481, 'opposes': 5482, 'oscar': 5483, 'playlist': 5484, 'politically': 5485, 'pslv': 5486, 'queries': 5487, 'realize': 5488, 'regret': 5489, 'satyarthi': 5490, 'spots': 5491, 'towns': 5492, 'transfers': 5493, 'treaty': 5494, '2025': 5495, '52': 5496, 'attended': 5497, 'backing': 5498, 'bahadur': 5499, 'brahmins': 5500, 'branded': 5501, 'bribery': 5502, 'bse': 5503, 'bureaucrats': 5504, 'clearly': 5505, 'completes': 5506, 'connections': 5507, 'connectivity': 5508, 'credibility': 5509, 'decoding': 5510, 'documentaries': 5511, 'drain': 5512, 'drinks': 5513, 'emerges': 5514, 'equity': 5515, 'expression': 5516, 'forgot': 5517, 'gateway': 5518, 'harmony': 5519, 'hip': 5520, 'humble': 5521, 'imposes': 5522, 'improved': 5523, 'indonesia': 5524, 'inspector': 5525, 'kala': 5526, 'kissing': 5527, 'lay': 5528, 'mangalyaan': 5529, 'maratha': 5530, 'nawazuddin': 5531, 'operating': 5532, 'organised': 5533, 'presents': 5534, 'pros': 5535, 'qaeda': 5536, 'ranbir': 5537, 'regulations': 5538, 'reuters': 5539, 'sab': 5540, 'sahara': 5541, 'smile': 5542, 'sonam': 5543, 'stalking': 5544, 'strip': 5545, 'switzerland': 5546, 'telcos': 5547, 'throwing': 5548, 'yeddyurappa': 5549, 'किया': 5550, '3-year': 5551, 'addiction': 5552, 'advertisements': 5553, 'advocate': 5554, 'ak': 5555, 'aryan': 5556, 'bal': 5557, 'chand': 5558, 'civilian': 5559, 'clearance': 5560, 'colours': 5561, 'column': 5562, 'dgp': 5563, 'dhinchak': 5564, 'dollars': 5565, 'factors': 5566, 'flawed': 5567, 'foods': 5568, 'gaya': 5569, 'genius': 5570, 'hong': 5571, 'households': 5572, 'ibn': 5573, 'indeed': 5574, 'indie': 5575, 'invitation': 5576, 'jagan': 5577, 'kota': 5578, 'lashkar': 5579, 'log': 5580, 'lonely': 5581, 'looked': 5582, 'martyr': 5583, 'medals': 5584, 'msg': 5585, 'mythology': 5586, 'naxal': 5587, 'older': 5588, 'pieces': 5589, 'renewable': 5590, 'require': 5591, 'ril': 5592, 'roshan': 5593, 'saif': 5594, 'sellers': 5595, 'sheet': 5596, 'stamp': 5597, 'subs': 5598, 'throat': 5599, 'wb': 5600, 'wednesday': 5601, 'wisdom': 5602, 'appears': 5603, 'arts': 5604, 'bazaar': 5605, 'bicycle': 5606, 'bunch': 5607, 'conservation': 5608, 'courtesy': 5609, 'directors': 5610, 'discover': 5611, 'disgusting': 5612, 'dues': 5613, 'earphones': 5614, 'eggs': 5615, 'f1': 5616, 'festive': 5617, 'genocide': 5618, 'goi': 5619, 'harm': 5620, 'hasan': 5621, 'icj': 5622, 'idiots': 5623, 'involving': 5624, 'item': 5625, 'ivanka': 5626, 'jd(u': 5627, 'kong': 5628, 'malware': 5629, 'massage': 5630, 'menu': 5631, 'mitron': 5632, 'monk': 5633, 'mos': 5634, 'murders': 5635, 'ongc': 5636, 'otherwise': 5637, 'pads': 5638, 'paise': 5639, 'picked': 5640, 'ramachandra': 5641, 'raps': 5642, 'reactions': 5643, 'recommended': 5644, 'ruined': 5645, 'sax': 5646, 'temporary': 5647, 'thapar': 5648, 'tom': 5649, 'transmission': 5650, 'u-17': 5651, 'ugc': 5652, 'unbiased': 5653, 'underrated': 5654, 'yeah': 5655, 'yuva': 5656, 'इस': 5657, '2005': 5658, '38': 5659, '39': 5660, '54': 5661, '67': 5662, '72': 5663, '85': 5664, 'abe': 5665, 'accidentally': 5666, 'aftermath': 5667, 'agarwal': 5668, 'amar': 5669, 'babus': 5670, 'bansal': 5671, 'bell': 5672, 'bids': 5673, 'billionaires': 5674, 'bold': 5675, 'censored': 5676, 'championships': 5677, 'copied': 5678, 'directed': 5679, 'don': 5680, 'excise': 5681, 'gf': 5682, 'guests': 5683, 'hacker': 5684, 'hacks': 5685, 'jethmalani': 5686, 'leopard': 5687, 'lifts': 5688, 'malnutrition': 5689, 'meri': 5690, 'mindset': 5691, 'opt': 5692, 'prediction': 5693, 'ravindra': 5694, 'recommends': 5695, 'reference': 5696, 'repeat': 5697, 'rishikesh': 5698, 'rocks': 5699, 'sacha': 5700, 'saina': 5701, 'sanitation': 5702, 'sauda': 5703, 'sep': 5704, 'shooter': 5705, 'sponsored': 5706, 'starring': 5707, 'suspicion': 5708, 'tum': 5709, 'tunnel': 5710, 'underway': 5711, 'yours': 5712, '13-year': 5713, '15,000': 5714, 'allies': 5715, 'ashamed': 5716, 'atleast': 5717, 'buildings': 5718, 'cancellation': 5719, 'cms': 5720, 'colony': 5721, 'connected': 5722, 'courier': 5723, 'cse': 5724, 'damaged': 5725, 'discord': 5726, 'dravid': 5727, 'editing': 5728, 'exemption': 5729, 'infant': 5730, 'islamabad': 5731, 'karma': 5732, 'keyboard': 5733, 'kicks': 5734, 'knowing': 5735, 'located': 5736, 'lone': 5737, 'mayor': 5738, 'mbps': 5739, 'pen': 5740, 'policeman': 5741, 'powder': 5742, 'praising': 5743, 'predictions': 5744, 'properly': 5745, 'rapid': 5746, 'regulation': 5747, 'removing': 5748, 'romeo': 5749, 'separatist': 5750, 'spare': 5751, 'succeed': 5752, 'sundar': 5753, 'tampering': 5754, 'teresa': 5755, 'tigers': 5756, 'useless': 5757, 'verify': 5758, 'violating': 5759, 'wary': 5760, 'aids': 5761, 'automatic': 5762, 'barred': 5763, 'beta': 5764, 'boeing': 5765, 'bored': 5766, 'brides': 5767, 'brigade': 5768, 'buried': 5769, 'colors': 5770, 'communist': 5771, 'confident': 5772, 'cons': 5773, 'crossed': 5774, 'dasmesh': 5775, 'davos': 5776, 'dhawan': 5777, 'dutta': 5778, 'educate': 5779, 'emails': 5780, 'ethnic': 5781, 'expresses': 5782, 'idiot': 5783, 'implications': 5784, 'isl': 5785, 'ivf': 5786, 'jayalalitha': 5787, 'jesus': 5788, 'jungle': 5789, 'lee': 5790, 'loose': 5791, 'mathematics': 5792, 'measure': 5793, 'micromax': 5794, 'mou': 5795, 'particular': 5796, 'password': 5797, 'performed': 5798, 'perhaps': 5799, 'photoshop': 5800, 'pose': 5801, 'postpaid': 5802, 'predicts': 5803, 'priests': 5804, 'quickly': 5805, 'raman': 5806, 'resistance': 5807, 'satya': 5808, 'sentiments': 5809, 'steam': 5810, 'stripped': 5811, 'sunrise': 5812, 'threads': 5813, 'tolerance': 5814, 'trusted': 5815, 'uma': 5816, 'unions': 5817, 'w': 5818, 'बाद': 5819, '12-year': 5820, '58': 5821, '66': 5822, '900': 5823, 'abhijit': 5824, 'adoption': 5825, 'advisor': 5826, 'agents': 5827, 'alibaba': 5828, 'arrive': 5829, 'believes': 5830, 'bharatiya': 5831, 'bhubaneswar': 5832, 'bloomberg': 5833, 'bottles': 5834, 'bull': 5835, 'calendar': 5836, 'colleague': 5837, 'dump': 5838, 'ebay': 5839, 'f-16': 5840, 'farms': 5841, 'farooq': 5842, 'goodbye': 5843, 'graft': 5844, 'greenpeace': 5845, 'headquarters': 5846, 'height': 5847, 'homeopathy': 5848, 'homosexuality': 5849, 'hoping': 5850, 'however': 5851, 'hungry': 5852, 'i&amp;b': 5853, 'initiatives': 5854, 'inspirational': 5855, 'intel': 5856, 'karti': 5857, 'kharagpur': 5858, 'kings': 5859, 'lists': 5860, 'manner': 5861, 'mantri': 5862, 'manufacture': 5863, 'mehbooba': 5864, 'musk': 5865, 'nandan': 5866, 'nepotism': 5867, 'outlets': 5868, 'penis': 5869, 'pray': 5870, 'protected': 5871, 'proved': 5872, 'relative': 5873, 'reminds': 5874, 'rjd': 5875, 'roots': 5876, 'sawant': 5877, 'selected': 5878, 'sharp': 5879, 'shifted': 5880, 'shoe': 5881, 'signals': 5882, 'signature': 5883, 'slashes': 5884, 'soil': 5885, 'supplier': 5886, 'tall': 5887, 'telegram': 5888, 'tez': 5889, 'upload': 5890, 'vibrant': 5891, 'whenever': 5892, 'wishing': 5893, 'yuvraj': 5894, '16-year': 5895, '2001': 5896, '2004': 5897, 'acceptable': 5898, 'assistance': 5899, 'belong': 5900, 'betting': 5901, 'bitch': 5902, 'bj[p': 5903, 'bright': 5904, 'catholic': 5905, 'circular': 5906, 'collections': 5907, 'cpi(m': 5908, 'deol': 5909, 'diabetes': 5910, 'disputed': 5911, 'docs': 5912, 'epidemic': 5913, 'explosion': 5914, 'fame': 5915, 'faridabad': 5916, 'federal': 5917, 'ford': 5918, 'gaurav': 5919, 'hal': 5920, 'household': 5921, 'illness': 5922, 'jugaad': 5923, 'justify': 5924, 'kit': 5925, 'lander': 5926, 'malhotra': 5927, 'munde': 5928, 'orbiter': 5929, 'patil': 5930, 'pilgrims': 5931, 'poison': 5932, 'priced': 5933, 'retailers': 5934, 'santa': 5935, 'scope': 5936, 'spain': 5937, 'species': 5938, 'sultan': 5939, 'supported': 5940, 'sushil': 5941, 'sweep': 5942, 'thailand': 5943, 'thieves': 5944, 'trigger': 5945, 'universe': 5946, 'wallets': 5947, 'whale': 5948, 'क्यों': 5949, 'यह': 5950, '/s': 5951, '5-year': 5952, 'achieved': 5953, 'amendments': 5954, 'amnesty': 5955, 'assassination': 5956, 'bites': 5957, 'bitter': 5958, 'chaudhary': 5959, 'clarification': 5960, 'clinics': 5961, 'closure': 5962, 'coalition': 5963, 'communications': 5964, 'con': 5965, 'derail': 5966, 'designers': 5967, 'devotees': 5968, 'dictionary': 5969, 'differently': 5970, 'ebola': 5971, 'filmmaker': 5972, 'flower': 5973, 'flowers': 5974, 'forex': 5975, 'formal': 5976, 'gan': 5977, 'guardian': 5978, 'institution': 5979, 'jeep': 5980, 'joseph': 5981, 'jung': 5982, 'lotus': 5983, 'mastermind': 5984, 'michael': 5985, 'mirza': 5986, 'motivation': 5987, 'mrp': 5988, 'nutrition': 5989, 'occupied': 5990, 'operator': 5991, 'overall': 5992, 'patriot': 5993, 'personality': 5994, 'pti': 5995, 'queues': 5996, 'radar': 5997, 'restored': 5998, 'rijiju': 5999, 'scammers': 6000, 'screwed': 6001, 'sehwag': 6002, 'shifting': 6003, 'shirts': 6004, 'strongly': 6005, 'surrender': 6006, 'tap': 6007, 'theatres': 6008, 'tonnes': 6009, 'topper': 6010, 'tune': 6011, 'unesco': 6012, 'unprecedented': 6013, 'vijayan': 6014, 'vivekananda': 6015, 'wrestling': 6016, 'youngest': 6017, 'साथ': 6018, '2021': 6019, 'architecture': 6020, 'automation': 6021, 'backward': 6022, 'bankruptcy': 6023, 'banner': 6024, 'bilateral': 6025, 'brahmos': 6026, 'briefing': 6027, 'bust': 6028, 'california': 6029, 'campaigns': 6030, 'careful': 6031, 'chosen': 6032, 'conviction': 6033, 'cries': 6034, 'dealers': 6035, 'declines': 6036, 'dikshit': 6037, 'dk': 6038, 'enfield': 6039, 'enforcement': 6040, 'expectations': 6041, 'extortion': 6042, 'extradition': 6043, 'ganges': 6044, 'glory': 6045, 'halt': 6046, 'hanged': 6047, 'iisc': 6048, 'maiden': 6049, 'organisations': 6050, 'pg': 6051, 'plate': 6052, 'prof': 6053, 'puducherry': 6054, 'pump': 6055, 'punish': 6056, 'raha': 6057, 'realise': 6058, 'repost': 6059, 'scholarship': 6060, 'solving': 6061, 'spat': 6062, 'specifically': 6063, 'summary': 6064, 'swift': 6065, 'tihar': 6066, 'transform': 6067, 'vegetables': 6068, 'zoo': 6069, '......': 6070, '130': 6071, '47': 6072, 'advantage': 6073, 'airspace': 6074, 'akash': 6075, 'animated': 6076, 'asaram': 6077, 'autonomy': 6078, 'badaun': 6079, 'compares': 6080, 'conservative': 6081, 'convoy': 6082, 'cracks': 6083, 'defaulters': 6084, 'diaspora': 6085, 'dip': 6086, 'dumped': 6087, 'dust': 6088, 'earned': 6089, 'empowerment': 6090, 'excited': 6091, 'facial': 6092, 'farewell': 6093, 'filter': 6094, 'flee': 6095, 'folk': 6096, 'forests': 6097, 'giveaway': 6098, 'gm': 6099, 'husbands': 6100, 'inclusion': 6101, 'insight': 6102, 'koregaon': 6103, 'loving': 6104, 'maid': 6105, 'makeover': 6106, 'mandate': 6107, 'mms': 6108, 'naxals': 6109, 'paint': 6110, 'pinarayi': 6111, 'prisoners': 6112, 'rajdhani': 6113, 'reducing': 6114, 'requesting': 6115, 'richard': 6116, 'sam': 6117, 'spreads': 6118, 'stephen': 6119, 'stereotypes': 6120, 'surya': 6121, 'syndrome': 6122, 'tales': 6123, 'tatkal': 6124, 'textbook': 6125, 'tribe': 6126, 'van': 6127, 'varma': 6128, 'volte': 6129, 'yechury': 6130, 'करें': 6131, '64': 6132, '95': 6133, 'aarey': 6134, 'abortion': 6135, 'ar': 6136, 'brown': 6137, 'bureaucracy': 6138, 'cid': 6139, 'clinic': 6140, 'closing': 6141, 'commuters': 6142, 'cricketers': 6143, 'crossing': 6144, 'deposited': 6145, 'digvijay': 6146, 'disturbing': 6147, 'diwas': 6148, 'dosa': 6149, 'duo': 6150, 'expelled': 6151, 'exposing': 6152, 'fallen': 6153, 'fighters': 6154, 'gather': 6155, 'gesture': 6156, 'grave': 6157, 'grounds': 6158, 'hop': 6159, 'impossible': 6160, 'invented': 6161, 'kedarnath': 6162, 'liked': 6163, 'mar': 6164, 'mashup': 6165, 'objectionable': 6166, 'pacific': 6167, 'patekar': 6168, 'philosophy': 6169, 'pregnancy': 6170, 'pursuing': 6171, 'reaching': 6172, 'representation': 6173, 'saraswati': 6174, 'scraps': 6175, 'seeds': 6176, 'shourie': 6177, 'shutting': 6178, 'tablet': 6179, 'teens': 6180, 'trained': 6181, 'travellers': 6182, 'untold': 6183, 'unusual': 6184, 'worldnews': 6185, 'आज': 6186, 'जी': 6187, '09': 6188, '180': 6189, '41': 6190, 'alternatives': 6191, 'alwar': 6192, 'appropriate': 6193, 'aspirants': 6194, 'battles': 6195, 'billions': 6196, 'bonus': 6197, 'brexit': 6198, 'carries': 6199, 'cats': 6200, 'chargesheet': 6201, 'choices': 6202, 'cooked': 6203, 'courage': 6204, 'destroys': 6205, 'developments': 6206, 'diya': 6207, 'dm': 6208, 'essar': 6209, 'estimates': 6210, 'excerpt': 6211, 'feminism': 6212, 'fleet': 6213, 'hail': 6214, 'hug': 6215, 'hunting': 6216, 'hurriyat': 6217, 'ignoring': 6218, 'inch': 6219, 'intervention': 6220, 'managing': 6221, 'marathon': 6222, 'maulana': 6223, 'mit': 6224, 'mosques': 6225, 'nota': 6226, 'objects': 6227, 'pandya': 6228, 'photographer': 6229, 'proceedings': 6230, 'producing': 6231, 'profits': 6232, 'programs': 6233, 'prostitution': 6234, 'psus': 6235, 'regulator': 6236, 'represent': 6237, 'robot': 6238, 'saradha': 6239, 'solved': 6240, 'studied': 6241, 'survivors': 6242, 'teenage': 6243, 'tibet': 6244, 'torrent': 6245, 'travelled': 6246, 'u.p.': 6247, 'vendor': 6248, 'vir': 6249, 'warner': 6250, 'wayanad': 6251, 'zuckerberg': 6252, '°': 6253, 'दिया': 6254, '20th': 6255, '40,000': 6256, '46': 6257, 'achievement': 6258, 'adults': 6259, 'af': 6260, 'aka': 6261, 'atrocities': 6262, 'bandhan': 6263, 'barely': 6264, 'began': 6265, 'bin': 6266, 'blues': 6267, 'bluetooth': 6268, 'browser': 6269, 'centuries': 6270, 'christianity': 6271, 'civilization': 6272, 'commonwealth': 6273, 'definition': 6274, 'derails': 6275, 'develops': 6276, 'diplomat': 6277, 'dumping': 6278, 'duties': 6279, 'einstein': 6280, 'elephants': 6281, 'fallout': 6282, 'follows': 6283, 'forwards': 6284, 'furious': 6285, 'godhra': 6286, 'gslv': 6287, 'homemade': 6288, 'illegally': 6289, 'inaugurates': 6290, 'insane': 6291, 'investigate': 6292, 'involvement': 6293, 'joy': 6294, 'kits': 6295, 'labs': 6296, 'lays': 6297, 'le': 6298, 'locations': 6299, 'logistics': 6300, 'ma': 6301, 'madhav': 6302, 'manjul': 6303, 'mechanical': 6304, 'meetings': 6305, 'methods': 6306, 'minors': 6307, 'missiles': 6308, 'neutral': 6309, 'nude': 6310, 'offended': 6311, 'pepsi': 6312, 'postponed': 6313, 'processing': 6314, 'rajeev': 6315, 'rama': 6316, 'ray': 6317, 'realme': 6318, 'resource': 6319, 'revamp': 6320, 'rhetoric': 6321, 'rounds': 6322, 'safer': 6323, 'scammed': 6324, 'scrutiny': 6325, 'significance': 6326, 'smaller': 6327, 'snacks': 6328, 'stable': 6329, 'statues': 6330, 'telegraph': 6331, 'tenure': 6332, 'tipu': 6333, 'transformation': 6334, 'treating': 6335, 'wef': 6336, 'सबसे': 6337, '₹': 6338, '1.2': 6339, '1993': 6340, '360': 6341, 'aerial': 6342, 'awkward': 6343, 'bmw': 6344, 'carpet': 6345, 'charlie': 6346, 'cheer': 6347, 'clouds': 6348, 'cmv': 6349, 'conducts': 6350, 'cope': 6351, 'creator': 6352, 'delays': 6353, 'destruction': 6354, 'doorstep': 6355, 'eats': 6356, 'encounters': 6357, 'feeding': 6358, 'guarantee': 6359, 'headline': 6360, 'increases': 6361, 'integration': 6362, 'jyoti': 6363, 'lahore': 6364, 'lakshmi': 6365, 'leg': 6366, 'literacy': 6367, 'mathura': 6368, 'menace': 6369, 'ministries': 6370, 'movers': 6371, 'nashik': 6372, 'nehwal': 6373, 'netas': 6374, 'nutshell': 6375, 'olx': 6376, 'overcome': 6377, 'pace': 6378, 'pathetic': 6379, 'phonepe': 6380, 'possibility': 6381, 'ppl': 6382, 'presenting': 6383, 'priorities': 6384, 'prosperity': 6385, 'purchased': 6386, 'realty': 6387, 'recording': 6388, 'revised': 6389, 'rewards': 6390, 'rindia': 6391, 'robbed': 6392, 'ryan': 6393, 'saint': 6394, 'sarees': 6395, 'subreddits': 6396, 'suspension': 6397, 'sustainable': 6398, 'sweeps': 6399, 'thomas': 6400, 'thugs': 6401, 'tu': 6402, 'tvs': 6403, 'ur': 6404, 'usually': 6405, 'vizag': 6406, 'wanting': 6407, 'waves': 6408, 'withdrawn': 6409, 'woo': 6410, 'worries': 6411, 'सरकार': 6412, '73': 6413, '9th': 6414, ';)': 6415, 'absence': 6416, 'accountability': 6417, 'ahmad': 6418, 'aliexpress': 6419, 'attached': 6420, 'attractive': 6421, 'bakchodi': 6422, 'batra': 6423, 'bhima': 6424, 'broadcast': 6425, 'buddhist': 6426, 'burns': 6427, 'bury': 6428, 'caps': 6429, 'challenged': 6430, 'chase': 6431, 'checks': 6432, 'cigarette': 6433, 'cites': 6434, 'cleanliness': 6435, 'clerics': 6436, 'coke': 6437, 'collapses': 6438, 'combined': 6439, 'connecting': 6440, 'cruelty': 6441, 'default': 6442, 'departments': 6443, 'didi': 6444, 'dixit': 6445, 'donated': 6446, 'dubbed': 6447, 'echo': 6448, 'editors': 6449, 'embrace': 6450, 'emerge': 6451, 'ethics': 6452, 'expenses': 6453, 'exploring': 6454, 'exposure': 6455, 'faculty': 6456, 'format': 6457, 'fresher': 6458, 'fruits': 6459, 'graduation': 6460, 'grover': 6461, 'honda': 6462, 'howdy': 6463, 'inauguration': 6464, 'ipc': 6465, 'jab': 6466, 'jo': 6467, 'justified': 6468, 'jyotiraditya': 6469, 'kaise': 6470, 'legendary': 6471, 'mercy': 6472, 'ministerial': 6473, 'mm': 6474, 'mock': 6475, 'morgan': 6476, 'nathuram': 6477, 'nights': 6478, 'offshore': 6479, 'overnight': 6480, 'oxford': 6481, 'photograph': 6482, 'pocket': 6483, 'preferably': 6484, 'pseudo': 6485, 'quarantined': 6486, 'rafi': 6487, 'recall': 6488, 'replacement': 6489, 'replaces': 6490, 'rethink': 6491, 'revival': 6492, 'romance': 6493, 'shahi': 6494, 'smith': 6495, 'stomach': 6496, 'sukma': 6497, 'tanushree': 6498, 'throughout': 6499, 'touches': 6500, 'tricolour': 6501, 'tutorial': 6502, 'upholds': 6503, 'warming': 6504, 'witch': 6505, 'yellow': 6506, 'दिन': 6507, '🤦': 6508, '09:15am': 6509, '18th': 6510, ':p': 6511, 'aziz': 6512, 'beard': 6513, 'beginners': 6514, 'cartoonist': 6515, 'celebs': 6516, 'certificates': 6517, 'chair': 6518, 'chartered': 6519, 'chauhan': 6520, 'chemical': 6521, 'criticising': 6522, 'cryptocurrencies': 6523, 'dassault': 6524, 'deeply': 6525, 'demographic': 6526, 'demonetised': 6527, 'desert': 6528, 'duped': 6529, 'enemies': 6530, 'excuse': 6531, 'factories': 6532, 'fantastic': 6533, 'fewer': 6534, 'flies': 6535, 'floating': 6536, 'gurmehar': 6537, 'hates': 6538, 'impressed': 6539, 'imprisonment': 6540, 'indiaspeaks': 6541, 'infinity': 6542, 'informed': 6543, 'kingdom': 6544, 'lighting': 6545, 'mai': 6546, 'manjhi': 6547, 'matrimonial': 6548, 'mexico': 6549, 'misinformation': 6550, 'mtnl': 6551, 'myntra': 6552, 'nowhere': 6553, 'oberoi': 6554, 'occasion': 6555, 'organic': 6556, 'packers': 6557, 'pawan': 6558, 'perception': 6559, 'pf': 6560, 'pichai': 6561, 'pin': 6562, 'plz': 6563, 'predict': 6564, 'prem': 6565, 'produced': 6566, 'prominent': 6567, 'publicly': 6568, 'rath': 6569, 'routes': 6570, 'rt': 6571, 'scrapping': 6572, 'secy': 6573, 'sensitive': 6574, 'shed': 6575, 'simi': 6576, 'sings': 6577, 'spiti': 6578, 'subsidies': 6579, 'suffered': 6580, 'sweets': 6581, 'topics': 6582, 'toy': 6583, 'unemployed': 6584, 'visitors': 6585, 'wah': 6586, 'wash': 6587, 'witnessed': 6588, 'wwe': 6589, 'ysk': 6590, 'करने': 6591, 'తెలుగు': 6592, '♂': 6593, '02': 6594, '66a': 6595, 'aarti': 6596, 'ashish': 6597, 'automatically': 6598, 'bhakti': 6599, 'bloody': 6600, 'bro': 6601, 'burger': 6602, 'catches': 6603, 'chandrasekhar': 6604, 'checked': 6605, 'cheque': 6606, 'classified': 6607, 'clueless': 6608, 'comparing': 6609, 'compliance': 6610, 'contracts': 6611, 'cycling': 6612, 'deletes': 6613, 'describe': 6614, 'encourage': 6615, 'engagement': 6616, 'flip': 6617, 'gaikwad': 6618, 'gt': 6619, 'guards': 6620, 'hq': 6621, 'infographic': 6622, 'interpretation': 6623, 'isha': 6624, 'jails': 6625, 'journal': 6626, 'kim': 6627, 'kishore': 6628, 'knife': 6629, 'koi': 6630, 'kotak': 6631, 'laxman': 6632, 'madison': 6633, 'maggi': 6634, 'mains': 6635, 'manu': 6636, 'marine': 6637, 'maternity': 6638, 'mauritius': 6639, 'merit': 6640, 'messed': 6641, 'mohalla': 6642, 'molesting': 6643, 'mountains': 6644, 'navami': 6645, 'negligence': 6646, 'nephew': 6647, 'nikon': 6648, 'nizamuddin': 6649, 'palestine': 6650, 'pelters': 6651, 'potato': 6652, 'prayer': 6653, 'purchasing': 6654, 'rainfall': 6655, 'rampant': 6656, 'rated': 6657, 'rebels': 6658, 'recession': 6659, 'reduces': 6660, 'searches': 6661, 'selfies': 6662, 'sheikh': 6663, 'shitpost': 6664, 'shree': 6665, 'sixth': 6666, 'slashed': 6667, 'solid': 6668, 'steve': 6669, 'struck': 6670, 'stubble': 6671, 'tally': 6672, 'tender': 6673, 'tournament': 6674, 'veer': 6675, 'wholesale': 6676, '4,000': 6677, '63': 6678, '82': 6679, 'accusations': 6680, 'ae': 6681, 'affects': 6682, 'allah': 6683, 'api': 6684, 'attacker': 6685, 'bapu': 6686, 'bets': 6687, 'browsing': 6688, 'bungalow': 6689, 'bypolls': 6690, 'casteism': 6691, 'chocolate': 6692, 'cic': 6693, 'clapping': 6694, 'converting': 6695, 'declaration': 6696, 'defeated': 6697, 'denying': 6698, 'detail': 6699, 'dragged': 6700, 'enable': 6701, 'expects': 6702, 'failures': 6703, 'fever': 6704, 'finished': 6705, 'flop': 6706, 'fool': 6707, 'formed': 6708, 'gadgets': 6709, 'ganpati': 6710, 'gears': 6711, 'genetic': 6712, 'gopinath': 6713, 'hampi': 6714, 'harry': 6715, 'infection': 6716, 'inputs': 6717, 'kishor': 6718, 'kms': 6719, 'lashes': 6720, 'levy': 6721, 'loop': 6722, 'mahabharat': 6723, 'martin': 6724, 'millennials': 6725, 'misra': 6726, 'monetary': 6727, 'newton': 6728, 'nose': 6729, 'nse': 6730, 'participation': 6731, 'passion': 6732, 'passports': 6733, 'privilege': 6734, 'psu': 6735, 'purchases': 6736, 'quietly': 6737, 'raje': 6738, 'rashid': 6739, 'registers': 6740, 'roaming': 6741, 'router': 6742, 'sacks': 6743, 'seize': 6744, 'shami': 6745, 'smuggling': 6746, 'spark': 6747, 'stall': 6748, 'stunt': 6749, 'sudhir': 6750, 'suggested': 6751, 'superhero': 6752, 'surprising': 6753, 'therapy': 6754, 'thief': 6755, 'traveller': 6756, 'tukde': 6757, 'underground': 6758, 'watches': 6759, 'workforce': 6760, 'worthy': 6761, 'yr': 6762, 'z': 6763, '2003': 6764, '26th': 6765, '53': 6766, '62': 6767, '68': 6768, '8-year': 6769, '97': 6770, 'affidavit': 6771, 'azadi': 6772, 'balaji': 6773, 'basically': 6774, 'breakthrough': 6775, 'caravan': 6776, 'chancellor': 6777, 'chapter': 6778, 'chilling': 6779, 'clubs': 6780, 'collecting': 6781, 'cult': 6782, 'discussed': 6783, 'elect': 6784, 'favours': 6785, 'filmed': 6786, 'fines': 6787, 'fy18': 6788, 'gag': 6789, 'gandhiji': 6790, 'globe': 6791, 'grandfather': 6792, 'historian': 6793, 'ibm': 6794, 'infiltration': 6795, 'ipad': 6796, 'irrigation': 6797, 'jeff': 6798, 'joker': 6799, 'jumla': 6800, 'kali': 6801, 'kindly': 6802, 'l&amp;t': 6803, 'leather': 6804, 'lic': 6805, 'magnetic': 6806, 'maharaja': 6807, 'managers': 6808, 'mentality': 6809, 'mittal': 6810, 'mum': 6811, 'nano': 6812, 'nearby': 6813, 'nhrc': 6814, 'nominated': 6815, 'nowadays': 6816, 'ordinary': 6817, 'perfectly': 6818, 'plight': 6819, 'prez': 6820, 'procession': 6821, 'publicity': 6822, 'randian': 6823, 'reporters': 6824, 'retain': 6825, 'revolutionary': 6826, 's.': 6827, 'setup': 6828, 'staffer': 6829, 'strengthen': 6830, 'suspend': 6831, 'sydney': 6832, 'tarun': 6833, 'textile': 6834, 'traditions': 6835, 'tribes': 6836, 'tribune': 6837, 'unfortunate': 6838, 'vishnu': 6839, 'vyapam': 6840, 'walmart': 6841, 'youngsters': 6842, '1.4': 6843, '1962': 6844, '1991': 6845, '2,500': 6846, '2007': 6847, '24x7': 6848, '4.5': 6849, '56': 6850, 'afternoon': 6851, 'aimed': 6852, 'alternate': 6853, 'and/or': 6854, 'apathy': 6855, 'apollo': 6856, 'appreciation': 6857, 'awaits': 6858, 'bandra': 6859, 'battling': 6860, 'behave': 6861, 'bezos': 6862, 'bot': 6863, 'bounty': 6864, 'bucket': 6865, 'buffalo': 6866, 'casting': 6867, 'changer': 6868, 'chanting': 6869, 'cinemas': 6870, 'command': 6871, 'commodity': 6872, 'conducting': 6873, 'contributions': 6874, 'cuisine': 6875, 'delegation': 6876, 'discourse': 6877, 'edited': 6878, 'emi': 6879, 'escapes': 6880, 'exchanges': 6881, 'fantasy': 6882, 'faulty': 6883, 'fintech': 6884, 'fireworks': 6885, 'generally': 6886, 'grown': 6887, 'heavily': 6888, 'helpful': 6889, 'hurry': 6890, 'imd': 6891, 'inaugurated': 6892, 'incorrect': 6893, 'india-': 6894, 'insults': 6895, 'itr': 6896, 'jama': 6897, 'jiophone': 6898, 'kareena': 6899, 'killers': 6900, 'kinda': 6901, 'lane': 6902, 'legs': 6903, 'module': 6904, 'muhammad': 6905, 'narayana': 6906, 'neighbors': 6907, 'nidhi': 6908, 'omg': 6909, 'operate': 6910, 'ourselves': 6911, 'pai': 6912, 'panels': 6913, 'personally': 6914, 'po': 6915, 'pork': 6916, 'practical': 6917, 'productivity': 6918, 'profitable': 6919, 'psychology': 6920, 'regions': 6921, 'regularly': 6922, 'reputation': 6923, 'requested': 6924, 'resigned': 6925, 'sania': 6926, 'sari': 6927, 'sealed': 6928, 'selective': 6929, 'shout': 6930, 'simultaneous': 6931, 'sitaram': 6932, 'skype': 6933, 'slip': 6934, 'slums': 6935, 'sticks': 6936, 'stressed': 6937, 'suits': 6938, 'sums': 6939, 'suspicious': 6940, 'texts': 6941, 'unlike': 6942, 'unsc': 6943, 'vedas': 6944, 'warm': 6945, 'wings': 6946, 'wood': 6947, 'zindabad': 6948, '07': 6949, '125': 6950, '16th': 6951, '2050': 6952, '23rd': 6953, '7-year': 6954, '87': 6955, 'aa': 6956, 'admin': 6957, 'ages': 6958, 'alarming': 6959, 'anant': 6960, 'annoying': 6961, 'assessment': 6962, 'athlete': 6963, 'authentic': 6964, 'bali': 6965, 'bastar': 6966, 'bat': 6967, 'blogs': 6968, 'cells': 6969, 'chopped': 6970, 'chor': 6971, 'coding': 6972, 'colleagues': 6973, 'collected': 6974, 'compromise': 6975, 'dares': 6976, 'dekho': 6977, 'detect': 6978, 'dharma': 6979, 'di': 6980, 'eligible': 6981, 'established': 6982, 'excel': 6983, 'fabric': 6984, 'fertility': 6985, 'filling': 6986, 'furniture': 6987, 'giriraj': 6988, 'graffiti': 6989, 'grey': 6990, 'hoax': 6991, 'hyundai': 6992, 'ignorant': 6993, 'initial': 6994, 'intelligent': 6995, 'james': 6996, 'jignesh': 6997, 'kaun': 6998, 'kiren': 6999, 'lodged': 7000, 'mauka': 7001, 'mills': 7002, 'mj': 7003, 'naming': 7004, 'nostalgia': 7005, 'ordering': 7006, 'poco': 7007, 'praveen': 7008, 'principles': 7009, 'rat': 7010, 'rats': 7011, 'rear': 7012, 'rebel': 7013, 'refugee': 7014, 'requirement': 7015, 'rj': 7016, 'saga': 7017, 'sections': 7018, 'sewage': 7019, 'sharmila': 7020, 'shia': 7021, 'signing': 7022, 'sole': 7023, 'spell': 7024, 'tear': 7025, 'tej': 7026, 'telecast': 7027, 'unnecessary': 7028, 'vegetable': 7029, 'vp': 7030, 'wapsi': 7031, 'wheeler': 7032, '£': 7033, 'हिंदी': 7034, '+91': 7035, '14-year': 7036, '15-year': 7037, '22nd': 7038, '4-year': 7039, '57': 7040, '69': 7041, '86': 7042, 'advised': 7043, 'arijit': 7044, 'assaults': 7045, 'bhagwant': 7046, 'bhat': 7047, 'bikers': 7048, 'cardiac': 7049, 'chavan': 7050, 'cheers': 7051, 'chilli': 7052, 'complaining': 7053, 'crashed': 7054, 'dealer': 7055, 'dignity': 7056, 'directorate': 7057, 'divine': 7058, 'drag': 7059, 'dragon': 7060, 'dwarka': 7061, 'effectively': 7062, 'emperor': 7063, 'enhance': 7064, 'enjoying': 7065, 'exciting': 7066, 'familiar': 7067, 'fascinating': 7068, 'financing': 7069, 'freed': 7070, 'freelance': 7071, 'fy17': 7072, 'gaza': 7073, 'glimpse': 7074, 'gowda': 7075, 'haridwar': 7076, 'heaven': 7077, 'highlight': 7078, 'hsbc': 7079, 'humiliated': 7080, 'iitians': 7081, 'ishrat': 7082, 'jadu': 7083, 'jerusalem': 7084, 'jinnah': 7085, 'johnson': 7086, 'kicked': 7087, 'leaf': 7088, 'lending': 7089, 'linkage': 7090, 'lite': 7091, 'macbook': 7092, 'madhu': 7093, 'madurai': 7094, 'makeup': 7095, 'malegaon': 7096, 'marries': 7097, 'marvel': 7098, 'mukt': 7099, 'ncert': 7100, 'ntpc': 7101, 'oscars': 7102, 'petroleum': 7103, 'presented': 7104, 'preview': 7105, 'proven': 7106, 'psychological': 7107, 'punished': 7108, 'ransomware': 7109, 'requirements': 7110, 'responses': 7111, 'rooftop': 7112, 'ruckus': 7113, 'sa': 7114, 'savage': 7115, 'si': 7116, 'sikka': 7117, 'somnath': 7118, 'sue': 7119, 'summoned': 7120, 'survival': 7121, 'swimming': 7122, 'tackling': 7123, 'tribunal': 7124, 'trs': 7125, 'vacancies': 7126, 'vandalism': 7127, 'vigilantism': 7128, 'visual': 7129, 'volume': 7130, 'wala': 7131, 'widow': 7132, 'witnesses': 7133, 'हुआ': 7134, 'होगा': 7135, '08': 7136, '160': 7137, '17th': 7138, '6,000': 7139, '84': 7140, '@arvindkejriwal': 7141, 'advocates': 7142, 'afspa': 7143, 'agni': 7144, 'ailing': 7145, 'assamese': 7146, 'aunty': 7147, 'aurangabad': 7148, 'beheaded': 7149, 'billing': 7150, 'bleeding': 7151, 'builder': 7152, 'buzz': 7153, 'canon': 7154, 'chaturvedi': 7155, 'clarify': 7156, 'cleaner': 7157, 'cleanest': 7158, 'collective': 7159, 'computers': 7160, 'curriculum': 7161, 'defy': 7162, 'deployed': 7163, 'diplomats': 7164, 'disruption': 7165, 'dravidian': 7166, 'drill': 7167, 'elements': 7168, 'embarrassment': 7169, 'exact': 7170, 'execution': 7171, 'expenditure': 7172, 'fani': 7173, 'fingerless': 7174, 'flaws': 7175, 'fortune': 7176, 'fup': 7177, 'gangs': 7178, 'garba': 7179, 'gov': 7180, 'guinness': 7181, 'hence': 7182, 'horrific': 7183, 'importing': 7184, 'insights': 7185, 'invasion': 7186, 'isps': 7187, 'jha': 7188, 'kabir': 7189, 'kindle': 7190, 'kuldeep': 7191, 'lacks': 7192, 'lately': 7193, 'load': 7194, 'looted': 7195, 'maidan': 7196, 'masked': 7197, 'millia': 7198, 'naam': 7199, 'naresh': 7200, 'narmada': 7201, 'neck': 7202, 'nonsense': 7203, 'origins': 7204, 'periyar': 7205, 'petitions': 7206, 'piracy': 7207, 'pornhub': 7208, 'portrait': 7209, 'pos': 7210, 'prevention': 7211, 'quitting': 7212, 'raees': 7213, 'readers': 7214, 'recruit': 7215, 'restricted': 7216, 'rioting': 7217, 'rishi': 7218, 'rituals': 7219, 'roadshow': 7220, 'robots': 7221, 'routine': 7222, 'serves': 7223, 'sexism': 7224, 'slavery': 7225, 'snack': 7226, 'spin': 7227, 'stalin': 7228, 'surely': 7229, 'taboo': 7230, 'tibetan': 7231, 'towers': 7232, 'unacceptable': 7233, 'valuation': 7234, 'verified': 7235, 'wheat': 7236, 'workshop': 7237, '»': 7238, 'शिक्षक': 7239, '👇': 7240, '1.7': 7241, '1992': 7242, '25th': 7243, '3000': 7244, '4000': 7245, '5.7': 7246, '81': 7247, '96': 7248, 'alarm': 7249, 'alien': 7250, 'although': 7251, 'availability': 7252, 'awaited': 7253, 'benami': 7254, 'bug': 7255, 'cannabis': 7256, 'casualties': 7257, 'clients': 7258, 'collector': 7259, 'commandos': 7260, 'commitment': 7261, 'communalism': 7262, 'considers': 7263, 'creepy': 7264, 'criticises': 7265, 'desai': 7266, 'dialogues': 7267, 'disclose': 7268, 'discusses': 7269, 'dishes': 7270, 'ear': 7271, 'economies': 7272, 'equipments': 7273, 'executives': 7274, 'existed': 7275, 'fingerprint': 7276, 'flyover': 7277, 'fuels': 7278, 'gwalior': 7279, 'honeymoon': 7280, 'horrible': 7281, 'implementing': 7282, 'intellectuals': 7283, 'interaction': 7284, 'kafeel': 7285, 'landscape': 7286, 'liability': 7287, 'lynchings': 7288, 'merge': 7289, 'mic': 7290, 'mildly': 7291, 'mobs': 7292, 'mumbaikars': 7293, 'mysuru': 7294, 'otp': 7295, 'phenomenon': 7296, 'pole': 7297, 'pravin': 7298, 'promising': 7299, 'publish': 7300, 'puzzle': 7301, 'q2': 7302, 'quest': 7303, 'rajkot': 7304, 'ramzan': 7305, 'reads': 7306, 'realised': 7307, 'resisting': 7308, 'ritual': 7309, 'sat': 7310, 'servers': 7311, 'settlement': 7312, 'shutdowns': 7313, 'siachen': 7314, 'slammed': 7315, 'spoof': 7316, 'stanley': 7317, 'structural': 7318, 'submitted': 7319, 'surrounding': 7320, 'tanks': 7321, 'taxation': 7322, 'te': 7323, 'tense': 7324, 'triggered': 7325, 'trucks': 7326, 'tsunami': 7327, 'twin': 7328, 'vacate': 7329, 'violate': 7330, 'wc': 7331, 'zindagi': 7332, '1950': 7333, '30th': 7334, '83': 7335, 'adding': 7336, 'ajmer': 7337, 'apex': 7338, 'arguments': 7339, 'avatar': 7340, 'blatant': 7341, 'buddha': 7342, 'bullets': 7343, 'bullying': 7344, 'cellular': 7345, 'chandrashekhar': 7346, 'coconut': 7347, 'consultant': 7348, 'costlier': 7349, 'delhiites': 7350, 'delivering': 7351, 'dislike': 7352, 'dividend': 7353, 'dozens': 7354, 'earnings': 7355, 'examine': 7356, 'favor': 7357, 'forming': 7358, 'gandhinagar': 7359, 'ghat': 7360, 'glorious': 7361, 'goel': 7362, 'gram': 7363, 'haul': 7364, 'hired': 7365, 'hometown': 7366, 'hostage': 7367, 'hosts': 7368, 'iims': 7369, 'inclusive': 7370, 'informal': 7371, 'integrity': 7372, 'ishqbaaz': 7373, 'jam': 7374, 'legends': 7375, 'lifted': 7376, 'lutyens': 7377, 'meditation': 7378, 'mercedes': 7379, 'merry': 7380, 'mk': 7381, 'mp3': 7382, 'mukul': 7383, 'munnar': 7384, 'mushkil': 7385, 'naga': 7386, 'naveen': 7387, 'nears': 7388, 'paramilitary': 7389, 'participating': 7390, 'patiala': 7391, 'picking': 7392, 'poses': 7393, 'prior': 7394, 'promoted': 7395, 'racing': 7396, 'rampage': 7397, 'rapper': 7398, 'reception': 7399, 'redditor': 7400, 'retire': 7401, 'rs4': 7402, 'sake': 7403, 'sanghi': 7404, 'sap': 7405, 'seva': 7406, 'spaces': 7407, 'spree': 7408, 'supplies': 7409, 'ta': 7410, 'teeth': 7411, 'terminal': 7412, 'trademark': 7413, 'transportation': 7414, 'u.n.': 7415, 'uday': 7416, 'vvip': 7417, 'withdrawals': 7418, 'zenfone': 7419, 'रहे': 7420, '1999': 7421, '@pmoindia': 7422, 'accessible': 7423, 'accessories': 7424, 'allocation': 7425, 'appointments': 7426, 'attempted': 7427, 'azmi': 7428, 'bangladeshis': 7429, 'bishop': 7430, 'biswa': 7431, 'bogus': 7432, 'brace': 7433, 'breast': 7434, 'brick': 7435, 'businessmen': 7436, 'bypass': 7437, 'casteist': 7438, 'catching': 7439, 'cement': 7440, 'ceos': 7441, 'cheat': 7442, 'chrome': 7443, 'clever': 7444, 'comeback': 7445, 'contesting': 7446, 'costly': 7447, 'derogatory': 7448, 'disney': 7449, 'diy': 7450, 'electrical': 7451, 'eliminate': 7452, 'enforce': 7453, 'existence': 7454, 'explosive': 7455, 'filmmakers': 7456, 'fingers': 7457, 'gaye': 7458, 'generic': 7459, 'goat': 7460, 'grandson': 7461, 'haider': 7462, 'hardware': 7463, 'haunted': 7464, 'hoga': 7465, 'hottest': 7466, 'ignores': 7467, 'illiterate': 7468, 'indias': 7469, 'iq': 7470, 'kartarpur': 7471, 'kom': 7472, 'length': 7473, 'markandey': 7474, 'mitra': 7475, 'mubarak': 7476, 'namaste': 7477, 'neta': 7478, 'newshour': 7479, 'nhai': 7480, 'object': 7481, 'offenders': 7482, 'oppn': 7483, 'outcome': 7484, 'patrol': 7485, 'photographs': 7486, 'pitches': 7487, 'placements': 7488, 'pleas': 7489, 'positions': 7490, 'pot': 7491, 'prannoy': 7492, 'privatisation': 7493, 'provisions': 7494, 'pub': 7495, 'ranjit': 7496, 'readies': 7497, 'reduction': 7498, 'rename': 7499, 'rout': 7500, 'shyam': 7501, 'spouse': 7502, 'surplus': 7503, 'surrenders': 7504, 'threw': 7505, 'thriller': 7506, 'transgenders': 7507, 'unbelievable': 7508, 'valuable': 7509, 'vvpat': 7510, 'wikileaks': 7511, 'wipe': 7512, 'zinda': 7513, 'न': 7514, '59': 7515, '92': 7516, 'a1': 7517, 'ability': 7518, 'accent': 7519, 'actresses': 7520, 'adviser': 7521, 'amaravati': 7522, 'amrita': 7523, 'answered': 7524, 'approaches': 7525, 'arabic': 7526, 'asset': 7527, 'ate': 7528, 'authors': 7529, 'basics': 7530, 'beggars': 7531, 'besides': 7532, 'biometrics': 7533, 'bribes': 7534, 'broad': 7535, 'canteen': 7536, 'carbon': 7537, 'cartoons': 7538, 'christ': 7539, 'circulation': 7540, 'clinton': 7541, 'comprehensive': 7542, 'congrats': 7543, 'consuming': 7544, 'cos': 7545, 'creativity': 7546, 'criticised': 7547, 'currencies': 7548, 'curse': 7549, 'cylinder': 7550, 'dharna': 7551, 'eligibility': 7552, 'elphinstone': 7553, 'epfo': 7554, 'episodes': 7555, 'establish': 7556, 'evasion': 7557, 'expands': 7558, 'featured': 7559, 'feelings': 7560, 'fodder': 7561, 'freecharge': 7562, 'giants': 7563, 'govts': 7564, 'gujrat': 7565, 'gully': 7566, 'hassan': 7567, 'helicopters': 7568, 'hosted': 7569, 'humor': 7570, 'im': 7571, 'imdb': 7572, 'imposition': 7573, 'inaugurate': 7574, 'iranian': 7575, 'issuing': 7576, 'jal': 7577, 'k.': 7578, 'kbc': 7579, 'khurshid': 7580, 'landed': 7581, 'legitimate': 7582, 'mart': 7583, 'mocking': 7584, 'nab': 7585, 'outstanding': 7586, 'overhaul': 7587, 'plots': 7588, 'poisoning': 7589, 'polio': 7590, 'poorest': 7591, 'pornography': 7592, 'ramdas': 7593, 'refer': 7594, 'regulate': 7595, 'remake': 7596, 'repeatedly': 7597, 'requires': 7598, 'robbery': 7599, 'rolling': 7600, 'rope': 7601, 'roti': 7602, 'sabarmati': 7603, 'sanctuary': 7604, 'sentences': 7605, 'shortly': 7606, 'skilled': 7607, 'smell': 7608, 'switched': 7609, 'thrashes': 7610, 'tight': 7611, 'timelapse': 7612, 'tomato': 7613, 'transparent': 7614, 'trivandrum': 7615, 'twins': 7616, 'twitterati': 7617, 'tycoon': 7618, 'unveiled': 7619, 'vacant': 7620, 'varrier': 7621, 'violated': 7622, 'visible': 7623, 'vital': 7624, 'गया': 7625, 'देश': 7626, '😁': 7627, '1500': 7628, '28th': 7629, '3.5': 7630, '350': 7631, '77': 7632, 'abled': 7633, 'absurd': 7634, 'arab': 7635, 'archive': 7636, 'aspects': 7637, 'bachelor': 7638, 'bashing': 7639, 'beggar': 7640, 'behavior': 7641, 'booming': 7642, 'boxing': 7643, 'bridges': 7644, 'burdwan': 7645, 'captures': 7646, 'chairs': 7647, 'characters': 7648, 'chop': 7649, 'christopher': 7650, 'chronology': 7651, 'closes': 7652, 'coca': 7653, 'codes': 7654, 'comfortable': 7655, 'copies': 7656, 'copyright': 7657, 'crony': 7658, 'demanded': 7659, 'describes': 7660, 'diaries': 7661, 'dips': 7662, 'disability': 7663, 'disagree': 7664, 'disorder': 7665, 'disrupt': 7666, 'eminent': 7667, 'equally': 7668, 'espionage': 7669, 'evacuated': 7670, 'extraordinary': 7671, 'fancy': 7672, 'framework': 7673, 'franchise': 7674, 'freebies': 7675, 'gandhis': 7676, 'gentlemen': 7677, 'gross': 7678, 'holder': 7679, 'hyderabadi': 7680, 'hygiene': 7681, 'indianbooks': 7682, 'instructions': 7683, 'interfere': 7684, 'intervene': 7685, 'ire': 7686, 'islamia': 7687, 'isolated': 7688, 'jersey': 7689, 'jihadi': 7690, 'kabul': 7691, 'kaziranga': 7692, 'kingfisher': 7693, 'kisan': 7694, 'lata': 7695, 'lauds': 7696, 'leaking': 7697, 'leap': 7698, 'lk': 7699, 'lottery': 7700, 'madrasa': 7701, 'mangoes': 7702, 'maya': 7703, 'merchant': 7704, 'monkeys': 7705, 'nyc': 7706, 'organisers': 7707, 'pair': 7708, 'paneer': 7709, 'patriarchy': 7710, 'paul': 7711, 'pilgrimage': 7712, 'poised': 7713, 'poonam': 7714, 'procurement': 7715, 'programmes': 7716, 'prosecute': 7717, 'purifier': 7718, 'rashtrapati': 7719, 'rcom': 7720, 'relation': 7721, 'remedies': 7722, 'richer': 7723, 'rupani': 7724, 'sagarika': 7725, 'sciences': 7726, 'silently': 7727, 'sporting': 7728, 'suicidal': 7729, 'tainted': 7730, 'talwar': 7731, 'tarek': 7732, 'timing': 7733, 'tirupati': 7734, 'titled': 7735, 'trace': 7736, 'tragic': 7737, 'tulsi': 7738, 'waivers': 7739, 'wiped': 7740, 'woke': 7741, '//': 7742, '1,500': 7743, '2006': 7744, '2yodoindia': 7745, '7.5': 7746, '78': 7747, '94': 7748, 'accuse': 7749, 'acquits': 7750, 'ambitions': 7751, 'amongst': 7752, 'architect': 7753, 'ashwin': 7754, 'assocham': 7755, 'associated': 7756, 'attackers': 7757, 'banana': 7758, 'bareilly': 7759, 'bits': 7760, 'blowing': 7761, 'breakdown': 7762, 'builders': 7763, 'bureaucrat': 7764, 'calculator': 7765, 'climbs': 7766, 'clips': 7767, 'comfort': 7768, 'compete': 7769, 'complained': 7770, 'conductor': 7771, 'construct': 7772, 'contemporary': 7773, 'convention': 7774, 'correction': 7775, 'councillor': 7776, 'criteria': 7777, 'crowdfunding': 7778, 'deadliest': 7779, 'engage': 7780, 'erupts': 7781, 'eventually': 7782, 'exhibition': 7783, 'finest': 7784, 'fog': 7785, 'freshers': 7786, 'fry': 7787, 'gamers': 7788, 'glasses': 7789, 'gotten': 7790, 'hint': 7791, 'honestly': 7792, 'honours': 7793, 'hooda': 7794, 'ignorance': 7795, 'impacted': 7796, 'iot': 7797, 'irom': 7798, 'jazeera': 7799, 'jp': 7800, 'kathua': 7801, 'malls': 7802, 'mantar': 7803, 'manushi': 7804, 'marshal': 7805, 'martial': 7806, 'materials': 7807, 'mevani': 7808, 'mohandas': 7809, 'mutton': 7810, 'nails': 7811, 'nc': 7812, 'ny': 7813, 'orange': 7814, 'packs': 7815, 'paintings': 7816, 'pellet': 7817, 'peshawar': 7818, 'peta': 7819, 'pledges': 7820, 'populated': 7821, 'prescription': 7822, 'producers': 7823, 'python': 7824, 'q': 7825, 'q3': 7826, 'ramayan': 7827, 'repeated': 7828, 'researcher': 7829, 'restore': 7830, 'rude': 7831, 'runner': 7832, 'sagar': 7833, 'shelling': 7834, 'shrine': 7835, 'slaves': 7836, 'slowing': 7837, 'stalker': 7838, 'steals': 7839, 'swing': 7840, 'taxpayer': 7841, 'tennis': 7842, 'thiruvananthapuram': 7843, 'titles': 7844, 'torn': 7845, 'trader': 7846, 'transforming': 7847, 'tuition': 7848, 'udupi': 7849, 'ufo': 7850, 'unexpected': 7851, 'unicef': 7852, 'unmarried': 7853, 'vasundhara': 7854, 'vintage': 7855, 'virginity': 7856, 'xd': 7857, 'करे': 7858, '/u': 7859, '6-year': 7860, '8,000': 7861, '80,000': 7862, '88': 7863, 'accounting': 7864, 'adalat': 7865, 'aired': 7866, 'ankit': 7867, 'asha': 7868, 'attempting': 7869, 'bachelors': 7870, 'bands': 7871, 'bankers': 7872, 'bare': 7873, 'bearing': 7874, 'betrayed': 7875, 'biscuits': 7876, 'blown': 7877, 'blunder': 7878, 'bombing': 7879, 'booths': 7880, 'bread': 7881, 'breathe': 7882, 'careers': 7883, 'cas': 7884, 'chaturthi': 7885, 'chops': 7886, 'circus': 7887, 'clock': 7888, 'cobrapost': 7889, 'comedians': 7890, 'commando': 7891, 'consultation': 7892, 'corporates': 7893, 'counselling': 7894, 'dawn': 7895, 'declaring': 7896, 'destiny': 7897, 'divisive': 7898, 'dozen': 7899, 'exodus': 7900, 'exporter': 7901, 'forcibly': 7902, 'gathered': 7903, 'ghose': 7904, 'hardly': 7905, 'helmets': 7906, 'hurdles': 7907, 'hurts': 7908, 'hybrid': 7909, 'icmr': 7910, 'impressive': 7911, 'integrated': 7912, 'invested': 7913, 'invisible': 7914, 'ireland': 7915, 'jashodaben': 7916, 'jews': 7917, 'jk': 7918, 'juice': 7919, 'junk': 7920, \"k'taka\": 7921, 'landslide': 7922, 'laureate': 7923, 'lobby': 7924, 'mamta': 7925, 'marketplace': 7926, 'megathread': 7927, 'meta': 7928, 'mg': 7929, 'micro': 7930, 'moderate': 7931, 'monuments': 7932, 'movements': 7933, 'needy': 7934, 'neha': 7935, 'neighbourhood': 7936, 'nicobar': 7937, 'nit': 7938, 'noodles': 7939, 'nursery': 7940, 'obor': 7941, 'onions': 7942, 'ooty': 7943, 'os': 7944, 'overrated': 7945, 'overtake': 7946, 'paraded': 7947, 'parallel': 7948, 'permit': 7949, 'pets': 7950, 'plunges': 7951, 'prasar': 7952, 'probes': 7953, 'promotional': 7954, 'ps': 7955, 'quran': 7956, 'recalls': 7957, 'rifles': 7958, 'safely': 7959, 'sample': 7960, 'scoopwhoop': 7961, 'sentiment': 7962, 'shade': 7963, 'shatrughan': 7964, 'shopian': 7965, 'significantly': 7966, 'snapdragon': 7967, 'spike': 7968, 'staring': 7969, 'stranger': 7970, 'surgeon': 7971, 'temporarily': 7972, 'theories': 7973, 'tik': 7974, 'tours': 7975, 'toward': 7976, 'translated': 7977, 'trekking': 7978, 'ul': 7979, 'uncertain': 7980, 'uploaded': 7981, 'v.': 7982, 'पहले': 7983, 'కథ': 7984, '100,000': 7985, '71': 7986, '76': 7987, 'accountable': 7988, 'accusing': 7989, 'ace': 7990, 'affecting': 7991, 'analysts': 7992, 'anchors': 7993, 'andheri': 7994, 'appeasement': 7995, 'asap': 7996, 'begging': 7997, 'beloved': 7998, 'bhaskar': 7999, 'biker': 8000, 'blank': 8001, 'blessings': 8002, 'bots': 8003, 'boxer': 8004, 'boxes': 8005, 'branches': 8006, 'branding': 8007, 'breed': 8008, 'calf': 8009, 'cd': 8010, 'complicated': 8011, 'confession': 8012, 'contains': 8013, 'converts': 8014, 'cracker': 8015, 'crowds': 8016, 'dargah': 8017, 'deciding': 8018, 'declining': 8019, 'desperately': 8020, 'disappear': 8021, 'distributing': 8022, 'dominated': 8023, 'drawn': 8024, 'dropping': 8025, 'dua': 8026, 'dum': 8027, 'economically': 8028, 'embarrassed': 8029, 'escorts': 8030, 'eurasian': 8031, 'expats': 8032, 'extent': 8033, 'fairness': 8034, 'fatah': 8035, 'fearing': 8036, 'firs': 8037, 'fled': 8038, 'fortis': 8039, 'fountain': 8040, 'frozen': 8041, 'gifted': 8042, 'hat': 8043, 'hated': 8044, 'herbal': 8045, 'horoscope': 8046, 'hota': 8047, 'hundred': 8048, 'hvac': 8049, 'informative': 8050, 'insignificant': 8051, 'installation': 8052, 'investigating': 8053, 'jaggi': 8054, 'jantar': 8055, 'jumping': 8056, 'kabhi': 8057, 'karnan': 8058, 'labourer': 8059, 'lac': 8060, 'lapse': 8061, 'letting': 8062, 'lipstick': 8063, 'listing': 8064, 'mahajan': 8065, 'mediacrooks': 8066, 'metros': 8067, 'michel': 8068, 'mim': 8069, 'mines': 8070, 'misused': 8071, 'momentum': 8072, 'monster': 8073, 'mosquito': 8074, 'motorola': 8075, 'nail': 8076, 'namaz': 8077, 'novels': 8078, 'nurse': 8079, 'observation': 8080, 'observe': 8081, 'outreach': 8082, 'p.': 8083, 'p]m': 8084, 'packed': 8085, 'pad': 8086, 'pankaj': 8087, 'paresh': 8088, 'physically': 8089, 'pi': 8090, 'populous': 8091, 'posing': 8092, 'quarters': 8093, 'rangers': 8094, 'reader': 8095, 'realistic': 8096, 'relate': 8097, 'resorts': 8098, 'rte': 8099, 'sanction': 8100, 'scholarships': 8101, 'sehgal': 8102, 'sensible': 8103, 'servants': 8104, 'shaped': 8105, 'ships': 8106, 'showcase': 8107, 'slain': 8108, 'slave': 8109, 'spanish': 8110, 'spice': 8111, 'stages': 8112, 'statistical': 8113, 'stirs': 8114, 'surrogacy': 8115, 'tactics': 8116, 'takeover': 8117, 'taslima': 8118, 'teri': 8119, 'tweeting': 8120, 'unboxing': 8121, 'undergrad': 8122, 'unga': 8123, 'unseen': 8124, 'urgently': 8125, 'verge': 8126, 'vigilante': 8127, 'waah': 8128, 'wagah': 8129, 'walked': 8130, 'wooden': 8131, 'wordpress': 8132, \"y'\": 8133, 'रहा': 8134, 'वाले': 8135, 'साल': 8136, '11,000': 8137, '17-year': 8138, '74': 8139, 'aarushi': 8140, 'achche': 8141, 'alumni': 8142, 'announcing': 8143, 'appearance': 8144, 'appeared': 8145, 'approve': 8146, 'aspirant': 8147, 'atmosphere': 8148, 'ats': 8149, 'authorised': 8150, 'ba': 8151, 'balls': 8152, 'belonging': 8153, 'bofors': 8154, 'breaches': 8155, 'burkha': 8156, 'bursting': 8157, 'chasing': 8158, 'circulated': 8159, 'cisf': 8160, 'coastal': 8161, 'complains': 8162, 'conclusion': 8163, 'constant': 8164, 'contacts': 8165, 'cooperative': 8166, 'covers': 8167, 'crushed': 8168, 'dell': 8169, 'demise': 8170, 'deportation': 8171, 'desire': 8172, 'disclosure': 8173, 'divorced': 8174, 'dominate': 8175, 'doubled': 8176, 'efficient': 8177, 'entirely': 8178, 'falsely': 8179, 'frauds': 8180, 'harish': 8181, 'helpless': 8182, 'hoon': 8183, 'hopeful': 8184, 'idols': 8185, 'improvement': 8186, 'incentives': 8187, 'inevitable': 8188, 'infertility': 8189, 'influential': 8190, 'input': 8191, 'insider': 8192, 'instances': 8193, 'interference': 8194, 'itc': 8195, 'jadeja': 8196, 'jaishankar': 8197, 'kidnapping': 8198, 'kinds': 8199, 'knockout': 8200, 'kudos': 8201, 'kumble': 8202, 'kupwara': 8203, 'labor': 8204, 'lazy': 8205, 'legislator': 8206, 'liar': 8207, 'lifting': 8208, 'locality': 8209, 'lohri': 8210, 'loser': 8211, 'lte': 8212, 'mangeshkar': 8213, 'mb': 8214, 'mehndi': 8215, 'mighty': 8216, 'millionaire': 8217, 'mortality': 8218, 'narasimha': 8219, 'newest': 8220, 'norm': 8221, 'nuke': 8222, 'odds': 8223, 'ours': 8224, 'outsourcing': 8225, 'panchayats': 8226, 'panchkula': 8227, 'paradox': 8228, 'plunge': 8229, 'profession': 8230, 'prosecution': 8231, 'quashes': 8232, 'qureshi': 8233, 'raghav': 8234, 'reacted': 8235, 'realized': 8236, 'reasonable': 8237, 'retreat': 8238, 'rivalry': 8239, 'sengar': 8240, 'shave': 8241, 'shukla': 8242, 'slapping': 8243, 'sourav': 8244, 'squads': 8245, 'stalled': 8246, 'starter': 8247, 'stem': 8248, 'submits': 8249, 'suck': 8250, 'superior': 8251, 'survived': 8252, 'swipe': 8253, 'tablets': 8254, 'teesta': 8255, 'thug': 8256, 'troubled': 8257, 'underwear': 8258, 'untouchability': 8259, 'valentines': 8260, 'videocon': 8261, 'visakhapatnam': 8262, 'voip': 8263, 'wani': 8264, 'warnings': 8265, 'wasting': 8266, 'wholesome': 8267, 'wickets': 8268, 'worlds': 8269, 'zoom': 8270, 'अपने': 8271, 'कौन': 8272, 'घर': 8273, '\\u200d': 8274, '104': 8275, '20k': 8276, '450': 8277, '750': 8278, '9/11': 8279, 'achhe': 8280, 'acquired': 8281, 'addicted': 8282, 'analyst': 8283, 'apj': 8284, 'artistes': 8285, 'asean': 8286, 'asshole': 8287, 'attorney': 8288, 'badass': 8289, 'basu': 8290, 'bathroom': 8291, 'beheading': 8292, 'berth': 8293, 'bigotry': 8294, 'bite': 8295, 'blessed': 8296, 'bloggers': 8297, 'broadcasting': 8298, 'camping': 8299, 'categories': 8300, 'cec': 8301, 'chakra': 8302, 'chip': 8303, 'churches': 8304, 'client': 8305, 'commute': 8306, 'convinced': 8307, 'coup': 8308, 'dadri': 8309, 'dc': 8310, 'define': 8311, 'dipak': 8312, 'distant': 8313, 'dnd': 8314, 'drags': 8315, 'dumps': 8316, 'dutch': 8317, 'emissions': 8318, 'encephalitis': 8319, 'exits': 8320, 'explainer': 8321, 'filmfare': 8322, 'flooded': 8323, 'forgets': 8324, 'frequent': 8325, 'gstn': 8326, 'habit': 8327, 'hathway': 8328, 'hawala': 8329, 'hawking': 8330, 'hoardings': 8331, 'holes': 8332, 'honoured': 8333, 'hopefully': 8334, 'houston': 8335, 'icse': 8336, 'ids': 8337, 'injury': 8338, 'insensitive': 8339, 'irregularities': 8340, 'jitendra': 8341, 'kare': 8342, 'khadi': 8343, 'layer': 8344, 'legislation': 8345, 'liberty': 8346, 'lokayukta': 8347, 'lure': 8348, 'macron': 8349, 'mandi': 8350, 'manufactured': 8351, 'mapporn': 8352, 'meenakshi': 8353, 'merchants': 8354, 'messaging': 8355, 'mike': 8356, 'modified': 8357, 'multijet': 8358, 'musharraf': 8359, 'nalanda': 8360, 'naqvi': 8361, 'natwar': 8362, 'nithyananda': 8363, 'nominee': 8364, 'npas': 8365, 'objective': 8366, 'observed': 8367, 'onboard': 8368, 'onto': 8369, 'operational': 8370, 'opponents': 8371, 'organ': 8372, 'outsiders': 8373, 'padmavat': 8374, 'painted': 8375, 'palm': 8376, 'participants': 8377, 'patidar': 8378, 'pds': 8379, 'planted': 8380, 'poop': 8381, 'presentation': 8382, 'printer': 8383, 'probing': 8384, 'pulling': 8385, 'q1': 8386, 'raided': 8387, 'rashtriya': 8388, 'recounts': 8389, 'regards': 8390, 'rejecting': 8391, 'remaining': 8392, 'remembers': 8393, 'retaliation': 8394, 'roles': 8395, 'roof': 8396, 'rrb': 8397, 'scored': 8398, 'seizes': 8399, 'sessions': 8400, 'setu': 8401, 'shanti': 8402, 'shatabdi': 8403, 'siege': 8404, 'sins': 8405, 'smokers': 8406, 'snap': 8407, 'snooping': 8408, 'soar': 8409, 'socialism': 8410, 'socialist': 8411, 'societies': 8412, 'sops': 8413, 'soup': 8414, 'soviet': 8415, 'spelling': 8416, 'spoiler': 8417, 'sponsor': 8418, 'stalls': 8419, 'strategies': 8420, 'stroke': 8421, 'sues': 8422, 'surges': 8423, 'sword': 8424, 'tok': 8425, 'tributes': 8426, 'truths': 8427, 'tussle': 8428, 'underwater': 8429, 'unsafe': 8430, 'uproar': 8431, 'viewers': 8432, 'warfare': 8433, 'whistle': 8434, 'whoever': 8435, 'wiki': 8436, 'workout': 8437, 'xs': 8438, 'yahoo': 8439, 'zones': 8440, 'जारी': 8441, 'दी': 8442, 'भर्ती': 8443, '😊': 8444, '03': 8445, '10k': 8446, '1965': 8447, '21-year': 8448, 'aimplb': 8449, 'allegation': 8450, 'appoint': 8451, 'arrogance': 8452, 'aspiring': 8453, 'attends': 8454, 'aurangzeb': 8455, 'ayushman': 8456, 'balcony': 8457, 'basirhat': 8458, 'beaches': 8459, 'bhk': 8460, 'bhutto': 8461, 'biz': 8462, 'boarding': 8463, 'brahmaputra': 8464, 'burhan': 8465, 'buyer': 8466, 'cam': 8467, 'canal': 8468, 'caution': 8469, 'cgl': 8470, 'chamber': 8471, 'cheese': 8472, 'choksi': 8473, 'churchill': 8474, 'clause': 8475, 'compromised': 8476, 'consultancy': 8477, 'contain': 8478, 'contractors': 8479, 'crap': 8480, 'critique': 8481, 'dancer': 8482, 'darkness': 8483, 'daylight': 8484, 'disappointing': 8485, 'donor': 8486, 'dramatic': 8487, 'eases': 8488, 'edit': 8489, 'empower': 8490, 'engaged': 8491, 'errors': 8492, 'expense': 8493, 'extremism': 8494, 'filthy': 8495, 'flagship': 8496, 'fooled': 8497, 'forensic': 8498, 'gamble': 8499, 'gravity': 8500, 'greeting': 8501, 'haji': 8502, 'hangs': 8503, 'haters': 8504, 'heckled': 8505, 'hemant': 8506, 'himalaya': 8507, 'hindustani': 8508, 'icu': 8509, 'identification': 8510, 'inciting': 8511, 'intention': 8512, 'j&amp;amp;k': 8513, 'janmashtami': 8514, 'jnusu': 8515, 'journo': 8516, 'khap': 8517, 'laying': 8518, 'legislative': 8519, 'loksabha': 8520, 'marathas': 8521, 'masses': 8522, 'mile': 8523, 'misses': 8524, 'moderators': 8525, 'motivated': 8526, 'nabbed': 8527, 'nadda': 8528, 'nadella': 8529, 'nasscom': 8530, 'nepali': 8531, 'nyt': 8532, 'oci': 8533, 'onwards': 8534, 'organized': 8535, 'para': 8536, 'parcel': 8537, 'passive': 8538, 'petitioner': 8539, 'pipeline': 8540, 'ponzi': 8541, 'portfolio': 8542, 'precautions': 8543, 'probed': 8544, 'quantum': 8545, 'rahe': 8546, 'raju': 8547, 'ramjas': 8548, 'remind': 8549, 'revealing': 8550, 'rifle': 8551, 'robbers': 8552, 'ruin': 8553, 'rumour': 8554, 'san': 8555, 'seal': 8556, 'searched': 8557, 'secretly': 8558, 'seth': 8559, 'shaheed': 8560, 'shake': 8561, 'shaktikanta': 8562, 'shameless': 8563, 'sohrabuddin': 8564, 'sonakshi': 8565, 'sos': 8566, 'sovereign': 8567, 'specially': 8568, 'spies': 8569, 'spring': 8570, 'spying': 8571, 'srinivasan': 8572, 'strangers': 8573, 'submarines': 8574, 'surveys': 8575, 'swara': 8576, 'territories': 8577, 'tracked': 8578, 'underworld': 8579, 'unveil': 8580, 'variant': 8581, 'vegetarians': 8582, 'vendors': 8583, 'viewed': 8584, 'vigilance': 8585, 'warranty': 8586, 'wasted': 8587, 'wears': 8588, 'whereas': 8589, 'worrying': 8590, 'wrestler': 8591, 'जानिए': 8592, 'जो': 8593, 'योगी': 8594, '😱': 8595, '19-year': 8596, '5.5': 8597, 'acres': 8598, 'adultery': 8599, 'airing': 8600, 'alexa': 8601, 'angel': 8602, 'appearing': 8603, 'applicable': 8604, 'arya': 8605, 'asthana': 8606, 'beliefs': 8607, 'bells': 8608, 'bigbasket': 8609, 'braces': 8610, 'brink': 8611, 'btech': 8612, 'censors': 8613, 'chants': 8614, 'classroom': 8615, 'clearing': 8616, 'clue': 8617, 'cobra': 8618, 'cognizant': 8619, 'concrete': 8620, 'consecutive': 8621, 'constituencies': 8622, 'consume': 8623, 'continuing': 8624, 'coupon': 8625, 'cracked': 8626, 'damages': 8627, 'deported': 8628, 'dipa': 8629, 'dlf': 8630, 'dose': 8631, 'drowning': 8632, 'ekta': 8633, 'equipped': 8634, 'expired': 8635, 'faking': 8636, 'females': 8637, 'finances': 8638, 'fishing': 8639, 'forgive': 8640, 'forwarding': 8641, 'framed': 8642, 'freelancing': 8643, 'functioning': 8644, 'gk': 8645, 'greets': 8646, 'havoc': 8647, 'hbo': 8648, 'hebdo': 8649, 'heights': 8650, 'hires': 8651, 'intense': 8652, 'interactive': 8653, 'intraday': 8654, 'jumped': 8655, 'karmakar': 8656, 'knock': 8657, 'kutch': 8658, 'lied': 8659, 'literate': 8660, 'loudspeakers': 8661, 'malala': 8662, 'mature': 8663, 'milestone': 8664, 'monopoly': 8665, 'mtv': 8666, 'natarajan': 8667, 'ncrb': 8668, 'norway': 8669, 'nz': 8670, 'operative': 8671, 'passage': 8672, 'plagiarism': 8673, 'poaching': 8674, 'poonch': 8675, 'profiles': 8676, 'publishing': 8677, 'qualify': 8678, 'rakes': 8679, 'raut': 8680, 'reflects': 8681, 'regulatory': 8682, 'renaming': 8683, 'reserved': 8684, 'rioters': 8685, 'robotics': 8686, 'sant': 8687, 'sarabhai': 8688, 'secured': 8689, 'shelters': 8690, 'sher': 8691, 'shinzo': 8692, 'shun': 8693, 'silly': 8694, 'slab': 8695, 'slightly': 8696, 'spotlight': 8697, 'subtle': 8698, 'sushant': 8699, 'switching': 8700, 'sworn': 8701, 'tattoo': 8702, 'tds': 8703, 'thi': 8704, 'ton': 8705, 'touched': 8706, 'trans': 8707, 'uncertainty': 8708, 'uranium': 8709, 'vat': 8710, 've': 8711, 'visibility': 8712, 'voluntary': 8713, 'widespread': 8714, 'wine': 8715, 'youtubers': 8716, 'zebpay': 8717, 'कांग्रेस': 8718, 'जाने': 8719, '1.8': 8720, '10000': 8721, '110': 8722, '1975': 8723, '1990': 8724, '93': 8725, 'a.': 8726, 'absconding': 8727, 'addition': 8728, 'atheists': 8729, 'atomic': 8730, 'aus': 8731, 'bailable': 8732, 'bc': 8733, 'bedtime': 8734, 'bhagavad': 8735, 'bhajan': 8736, 'bois': 8737, 'bookings': 8738, 'boring': 8739, 'buddhism': 8740, 'carefully': 8741, 'chains': 8742, 'chhillar': 8743, 'chicago': 8744, 'chowdhury': 8745, 'civilisation': 8746, 'closely': 8747, 'completing': 8748, 'computing': 8749, 'congratulates': 8750, 'curve': 8751, 'cwg': 8752, 'dataisbeautiful': 8753, 'defying': 8754, 'deploys': 8755, 'deport': 8756, 'detected': 8757, 'dictatorship': 8758, 'discriminatory': 8759, 'dismissed': 8760, 'distribute': 8761, 'domino': 8762, 'dresses': 8763, 'effigy': 8764, 'eic': 8765, 'employed': 8766, 'estimate': 8767, 'executed': 8768, 'expecting': 8769, 'financially': 8770, 'fried': 8771, 'fringe': 8772, 'gehlot': 8773, 'gems': 8774, 'goldman': 8775, 'governors': 8776, 'guj': 8777, 'gw': 8778, 'handles': 8779, 'harass': 8780, 'hashtag': 8781, 'honeypreet': 8782, 'hudhud': 8783, 'hurled': 8784, 'iitian': 8785, 'imgur': 8786, 'impaired': 8787, 'injustice': 8788, 'inner': 8789, 'inx': 8790, 'itinerary': 8791, 'jadavpur': 8792, 'jains': 8793, 'jayant': 8794, 'jayate': 8795, 'kanyakumari': 8796, 'kashi': 8797, 'kavita': 8798, 'kerry': 8799, 'laughter': 8800, 'lesbian': 8801, 'lynch': 8802, 'malini': 8803, 'manipal': 8804, 'margin': 8805, 'mastercard': 8806, 'mechanism': 8807, 'minded': 8808, 'missionaries': 8809, 'musicians': 8810, 'narendramodi': 8811, 'navigation': 8812, 'necklace': 8813, 'nl': 8814, 'noob': 8815, 'observations': 8816, 'organizations': 8817, 'overtakes': 8818, 'panama': 8819, 'persecution': 8820, 'phrase': 8821, 'preamble': 8822, 'proposals': 8823, 'ps4': 8824, 'pyar': 8825, 'racial': 8826, 'rainbow': 8827, 'raipur': 8828, 'registering': 8829, 'relocation': 8830, 'rescues': 8831, 'resolved': 8832, 'riders': 8833, 'roger': 8834, 'sangeet': 8835, 'scholars': 8836, 'seed': 8837, 'segment': 8838, 'shaadi': 8839, 'shampoo': 8840, 'shastra': 8841, 'siddharth': 8842, 'sin': 8843, 'smugglers': 8844, 'snubs': 8845, 'soars': 8846, 'socially': 8847, 'srikanth': 8848, 'string': 8849, 'subramaniam': 8850, 'subscribed': 8851, 'successor': 8852, 'takeaways': 8853, 'teaches': 8854, 'themed': 8855, 'transformed': 8856, 'transition': 8857, 'tri': 8858, 'tripathi': 8859, 'trusts': 8860, 'ujjain': 8861, 'unsung': 8862, 'utter': 8863, 'vidarbha': 8864, 'virender': 8865, 'vistara': 8866, 'washed': 8867, 'welcomed': 8868, 'withdrawing': 8869, 'मे': 8870, 'मैं': 8871, 'हर': 8872, '🏻': 8873, '1.1': 8874, '15k': 8875, '1948': 8876, '29th': 8877, '7.1': 8878, '91': 8879, 'abduction': 8880, 'academics': 8881, 'adhaar': 8882, 'adr': 8883, 'affiliate': 8884, 'agreed': 8885, 'agri': 8886, 'agustawestland': 8887, 'akbaruddin': 8888, 'alerts': 8889, 'ananth': 8890, 'andamans': 8891, 'apologies': 8892, 'applies': 8893, 'aroor': 8894, 'automated': 8895, 'batch': 8896, 'bath': 8897, 'batting': 8898, 'beacon': 8899, 'behalf': 8900, 'belly': 8901, 'bhattacharya': 8902, 'bieber': 8903, 'blackout': 8904, 'blasphemy': 8905, 'blogger': 8906, 'burned': 8907, 'burst': 8908, 'cadre': 8909, 'ceiling': 8910, 'charm': 8911, 'checkout': 8912, 'choppers': 8913, 'cleaned': 8914, 'colonialism': 8915, 'com': 8916, 'commodities': 8917, 'constructed': 8918, 'credible': 8919, 'criticise': 8920, 'crorepati': 8921, 'dadlani': 8922, 'dances': 8923, 'darwin': 8924, 'deaf': 8925, 'declined': 8926, 'defies': 8927, 'demolished': 8928, 'dharavi': 8929, 'discipline': 8930, 'distributed': 8931, 'doc': 8932, 'doctrine': 8933, 'donors': 8934, 'duplicate': 8935, 'el': 8936, 'elsewhere': 8937, 'en': 8938, 'endangered': 8939, 'endorse': 8940, 'erupt': 8941, 'exclusively': 8942, 'exempt': 8943, 'fitch': 8944, 'focused': 8945, 'formally': 8946, 'founded': 8947, 'gained': 8948, 'gallery': 8949, 'harder': 8950, 'ikea': 8951, 'immigrant': 8952, 'incompetent': 8953, 'insta': 8954, 'intensifies': 8955, 'internships': 8956, 'jack': 8957, 'landlord': 8958, 'lathi': 8959, 'laxmi': 8960, 'legislators': 8961, 'litres': 8962, 'lmao': 8963, 'lodha': 8964, 'lt;3': 8965, 'malaysian': 8966, 'malviya': 8967, 'memorable': 8968, 'miffed': 8969, 'mounted': 8970, 'muharram': 8971, 'mussoorie': 8972, 'nabi': 8973, 'negativity': 8974, 'no.1': 8975, 'obvious': 8976, 'originally': 8977, 'ownership': 8978, 'paddy': 8979, 'paisa': 8980, 'parishad': 8981, 'pens': 8982, 'peoples': 8983, 'petty': 8984, 'pillai': 8985, 'plain': 8986, 'pokemon': 8987, 'prayagraj': 8988, 'preity': 8989, 'prisoner': 8990, 'productive': 8991, 'professors': 8992, 'projected': 8993, 'promotes': 8994, 'protested': 8995, 'protocol': 8996, 'proxy': 8997, 'races': 8998, 'rajputs': 8999, 'rakshak': 9000, 'rapidly': 9001, 'referendum': 9002, 'reflect': 9003, 'regrets': 9004, 'relatively': 9005, 'remarkable': 9006, 'remedy': 9007, 'renewal': 9008, 'repeal': 9009, 'replied': 9010, 'resist': 9011, 'resistant': 9012, 'rulers': 9013, 'saath': 9014, 'sankranti': 9015, 'sarita': 9016, 'screenshot': 9017, 'shades': 9018, 'sharjeel': 9019, 'shifts': 9020, 'skies': 9021, 'skinned': 9022, 'snakes': 9023, 'speculation': 9024, 'ss': 9025, 'stayed': 9026, 'stupidity': 9027, 'subhas': 9028, 'sweden': 9029, 't20i': 9030, 'thumbs': 9031, 'tolerate': 9032, 'transit': 9033, 'truecaller': 9034, 'undergo': 9035, 'vaccination': 9036, 'vahini': 9037, 'vasudev': 9038, 'visarjan': 9039, 'welcoming': 9040, 'whopping': 9041, 'wrath': 9042, 'xii': 9043, '®': 9044, 'आपको': 9045, 'इन': 9046, 'उपाय': 9047, 'काम': 9048, 'देखें': 9049, 'बना': 9050, 'या': 9051, '👏': 9052, '13th': 9053, '24th': 9054, '35a': 9055, '6.1': 9056, '6000': 9057, '7,000': 9058, 'adivasi': 9059, 'afc': 9060, 'agrarian': 9061, 'alleging': 9062, 'allowance': 9063, 'alongside': 9064, 'amateur': 9065, 'amended': 9066, 'anantnag': 9067, 'angle': 9068, 'arjuna': 9069, 'arrogant': 9070, 'artillery': 9071, 'assure': 9072, 'automobile': 9073, 'awardee': 9074, 'baap': 9075, 'backpacking': 9076, 'belief': 9077, 'beneficial': 9078, 'benjamin': 9079, 'bimaru': 9080, 'bookmyshow': 9081, 'brahma': 9082, 'bubble': 9083, 'buck': 9084, 'butter': 9085, 'capt': 9086, 'cart': 9087, 'cc': 9088, 'chabahar': 9089, 'chiefs': 9090, 'circa': 9091, 'circumstances': 9092, 'committing': 9093, 'consolidation': 9094, 'consulting': 9095, 'continued': 9096, 'controlled': 9097, 'coolest': 9098, 'counters': 9099, 'coupons': 9100, 'cultures': 9101, 'damaging': 9102, 'defecating': 9103, 'depicting': 9104, 'dhaka': 9105, 'disappeared': 9106, 'disastrous': 9107, 'discoms': 9108, 'dominance': 9109, 'dy': 9110, 'egypt': 9111, 'embarrassing': 9112, 'encouraging': 9113, 'entity': 9114, 'epf': 9115, 'ethical': 9116, 'experiments': 9117, 'feast': 9118, 'federation': 9119, 'feminist': 9120, 'flooding': 9121, 'fmcg': 9122, 'fraudulent': 9123, 'freeze': 9124, 'frontier': 9125, 'fury': 9126, 'fusion': 9127, 'fy': 9128, 'gaining': 9129, 'ghee': 9130, 'github': 9131, 'grad': 9132, 'grandmother': 9133, 'graphics': 9134, 'grip': 9135, 'gurdwara': 9136, 'hackathon': 9137, 'hadiya': 9138, 'headphone': 9139, 'hobby': 9140, 'hospitalised': 9141, 'ignou': 9142, 'illicit': 9143, 'immersion': 9144, 'improves': 9145, 'incoming': 9146, 'instrument': 9147, 'instrumental': 9148, 'intent': 9149, 'invalid': 9150, 'invests': 9151, 'jacket': 9152, 'jaguar': 9153, 'jairam': 9154, 'jallianwala': 9155, 'khalistan': 9156, 'kurta': 9157, 'kurtis': 9158, 'laser': 9159, 'lease': 9160, 'licences': 9161, 'linen': 9162, 'linux': 9163, 'lowers': 9164, 'madrasas': 9165, 'magical': 9166, 'malabar': 9167, 'menon': 9168, 'miles': 9169, 'misconduct': 9170, 'mobility': 9171, 'mw': 9172, 'naseeruddin': 9173, 'niece': 9174, 'obscene': 9175, 'okays': 9176, 'overpopulation': 9177, 'paan': 9178, 'pangong': 9179, 'panneerselvam': 9180, 'pastor': 9181, 'pathan': 9182, 'performs': 9183, 'philippines': 9184, 'pissed': 9185, 'plenty': 9186, 'polluting': 9187, 'poorly': 9188, 'ports': 9189, 'pothole': 9190, 'preferred': 9191, 'princess': 9192, 'pte': 9193, 'qualified': 9194, 'radha': 9195, 'rane': 9196, 'rawal': 9197, 'regressive': 9198, 'rehman': 9199, 'relating': 9200, 'reluctant': 9201, 'reshuffle': 9202, 'retains': 9203, 'reviving': 9204, 'ro': 9205, 'roadside': 9206, 'rods': 9207, 'rto': 9208, 'sahib': 9209, 'samples': 9210, 'satisfied': 9211, 'secretariat': 9212, 'serials': 9213, 'servant': 9214, 'shady': 9215, 'shaming': 9216, 'sharia': 9217, 'shroff': 9218, 'slash': 9219, 'smooth': 9220, 'spicy': 9221, 'sreedharan': 9222, 'sriharikota': 9223, 'standup': 9224, 'starved': 9225, 'superstition': 9226, 'sustained': 9227, 'sympathy': 9228, 'telephone': 9229, 'theaters': 9230, 'thin': 9231, 'triumph': 9232, 'undisclosed': 9233, 'unearths': 9234, 'unfortunately': 9235, 'utility': 9236, 'utsav': 9237, 'vandalise': 9238, 'varthaman': 9239, 'vegan': 9240, 'vidya': 9241, 'wealthy': 9242, 'wonders': 9243, 'कुछ': 9244, 'था': 9245, 'भाषण': 9246, '06': 9247, '199': 9248, '1998': 9249, '2-year': 9250, '6.5': 9251, '60,000': 9252, '98': 9253, 'abbas': 9254, 'abhay': 9255, 'acceptance': 9256, 'acted': 9257, 'advantages': 9258, 'advisors': 9259, 'alam': 9260, 'aloo': 9261, 'apologizes': 9262, 'arabian': 9263, 'arora': 9264, 'ashoka': 9265, 'assume': 9266, 'atishi': 9267, 'b.tech': 9268, 'bakshi': 9269, 'bash': 9270, 'beginner': 9271, 'bhardwaj': 9272, 'bilawal': 9273, 'boi': 9274, 'br': 9275, 'breakup': 9276, 'breath': 9277, 'bucks': 9278, 'c.': 9279, 'capability': 9280, 'carved': 9281, 'cea': 9282, 'certified': 9283, 'chautala': 9284, 'chef': 9285, 'chemistry': 9286, 'chocolates': 9287, 'cisco': 9288, 'climb': 9289, 'coldplay': 9290, 'consensus': 9291, 'conversations': 9292, 'corporations': 9293, 'counts': 9294, 'culprits': 9295, 'cvc': 9296, 'dealt': 9297, 'debacle': 9298, 'defeats': 9299, 'deliberately': 9300, 'demolish': 9301, 'desktop': 9302, 'determine': 9303, 'devastating': 9304, 'devgn': 9305, 'devil': 9306, 'digging': 9307, \"don't\": 9308, 'downloads': 9309, 'dressed': 9310, 'eci': 9311, 'emotions': 9312, 'enquiry': 9313, 'enterprise': 9314, 'entitled': 9315, 'escalate': 9316, 'essentials': 9317, 'explores': 9318, 'extremist': 9319, 'famine': 9320, 'fifty': 9321, 'freight': 9322, 'fumes': 9323, 'fyi': 9324, 'geography': 9325, 'gill': 9326, 'goli': 9327, 'grim': 9328, 'harmful': 9329, 'haunt': 9330, 'hema': 9331, 'hijack': 9332, 'hm': 9333, 'honesty': 9334, 'insists': 9335, 'interface': 9336, 'ip': 9337, 'iso': 9338, 'jaisalmer': 9339, 'jayanthi': 9340, 'kamaal': 9341, 'kant': 9342, 'katha': 9343, 'kolhapur': 9344, 'krishnan': 9345, 'lenders': 9346, 'lo': 9347, 'logical': 9348, 'login': 9349, 'looms': 9350, 'ltd.': 9351, 'magnificent': 9352, 'malaria': 9353, 'mill': 9354, 'minhaj': 9355, 'miracle': 9356, 'ml': 9357, 'morcha': 9358, 'mughals': 9359, 'muzaffarpur': 9360, 'nasreen': 9361, 'netizens': 9362, 'nmc': 9363, 'odia': 9364, 'offense': 9365, 'outlet': 9366, 'paints': 9367, 'parle': 9368, 'peacock': 9369, 'peek': 9370, 'pile': 9371, 'plates': 9372, 'plaza': 9373, 'poems': 9374, 'potholes': 9375, 'proceed': 9376, 'prof.': 9377, 'propose': 9378, 'pulse': 9379, 'purifiers': 9380, 'purposes': 9381, 'r&amp;d': 9382, 'rebellion': 9383, 'referred': 9384, 'rekha': 9385, 'renting': 9386, 'repo': 9387, 'rera': 9388, 'resulted': 9389, 'retaliate': 9390, 'rickshaws': 9391, 'robust': 9392, 'rover': 9393, 'runway': 9394, 's9': 9395, 'sack': 9396, 'sanjiv': 9397, 'semester': 9398, 'sham': 9399, 'shilpa': 9400, 'sigh': 9401, 'skips': 9402, 'skull': 9403, 'spectacular': 9404, 'spur': 9405, 'stabs': 9406, 'stare': 9407, 'striking': 9408, 'subramanium': 9409, 'subscriber': 9410, 'sung': 9411, 'surfaces': 9412, 'swag': 9413, 'taimur': 9414, 'talented': 9415, 'talked': 9416, 'tanker': 9417, 'tasty': 9418, 'tha': 9419, 'thrashing': 9420, 'tirumala': 9421, 'tone': 9422, 'traced': 9423, 'traveled': 9424, 'travelers': 9425, 'tremendous': 9426, 'turf': 9427, 'twenty': 9428, 'unethical': 9429, 'unofficial': 9430, 'ventures': 9431, 'viewing': 9432, 'vigil': 9433, 'vikramaditya': 9434, 'villain': 9435, 'visually': 9436, 'vladimir': 9437, 'vr': 9438, 'vulgar': 9439, 'wasim': 9440, 'wheelers': 9441, 'zinta': 9442, 'चुनाव': 9443, '100th': 9444, '140': 9445, '1994': 9446, '50k': 9447, '7000': 9448, '79': 9449, 'abort': 9450, 'acb': 9451, 'aimim': 9452, 'airasia': 9453, 'airstrike': 9454, 'applicants': 9455, 'apt': 9456, 'archives': 9457, 'arnub': 9458, 'athletics': 9459, 'avenge': 9460, 'baggage': 9461, 'bahu': 9462, 'bakchod': 9463, 'balanced': 9464, 'banker': 9465, 'bb': 9466, 'believing': 9467, 'binny': 9468, 'blows': 9469, 'bone': 9470, 'bravery': 9471, 'breeding': 9472, 'choking': 9473, 'chota': 9474, 'collar': 9475, 'colonel': 9476, 'completion': 9477, 'condemned': 9478, 'conferred': 9479, 'constructive': 9480, 'contractor': 9481, 'contrary': 9482, 'controversies': 9483, 'crocodile': 9484, 'crowded': 9485, 'dated': 9486, 'decoration': 9487, 'decorative': 9488, 'derailment': 9489, 'detain': 9490, 'dhanteras': 9491, 'dharamshala': 9492, 'diagnosed': 9493, 'disqualified': 9494, 'distributes': 9495, 'elusive': 9496, 'engines': 9497, 'enterprises': 9498, 'everytime': 9499, 'examples': 9500, 'explodes': 9501, 'facepalm': 9502, 'fibre': 9503, 'findings': 9504, 'flew': 9505, 'florida': 9506, 'gayi': 9507, 'generated': 9508, 'greet': 9509, 'gurus': 9510, 'haha': 9511, 'headache': 9512, 'hijacked': 9513, 'hindostan': 9514, 'hmm': 9515, 'hoarding': 9516, 'humiliation': 9517, 'ideologue': 9518, 'impression': 9519, 'impressions': 9520, 'inaction': 9521, 'infants': 9522, 'influenced': 9523, 'instruments': 9524, 'insulted': 9525, 'insurgency': 9526, 'inviting': 9527, 'j.': 9528, 'jagdish': 9529, 'jamshedpur': 9530, 'jat': 9531, 'jewish': 9532, 'junction': 9533, 'karunanidhi': 9534, 'kfc': 9535, 'kiya': 9536, 'knives': 9537, 'leftist': 9538, 'literary': 9539, 'lodge': 9540, 'loyalty': 9541, 'luggage': 9542, 'magnitude': 9543, 'manchester': 9544, 'mangal': 9545, 'mapping': 9546, 'marked': 9547, 'mehdi': 9548, 'mentions': 9549, 'migrate': 9550, 'missionary': 9551, 'mocked': 9552, 'monument': 9553, 'moradabad': 9554, 'mudi': 9555, 'muthalik': 9556, 'nba': 9557, 'nomura': 9558, 'oman': 9559, 'onlyscoop': 9560, 'opener': 9561, 'outsider': 9562, 'parks': 9563, 'parsi': 9564, 'particularly': 9565, 'penalties': 9566, 'personalities': 9567, 'ply': 9568, 'pocso': 9569, 'pongal': 9570, 'postal': 9571, 'pretext': 9572, 'promotions': 9573, 'protective': 9574, 'punch': 9575, 'qualification': 9576, 'quartz': 9577, 'rajouri': 9578, 'ravana': 9579, 'rebuild': 9580, 'registry': 9581, 'representatives': 9582, 'revenues': 9583, 'revolt': 9584, 'roopa': 9585, 'saavn': 9586, 'samosa': 9587, 'screens': 9588, 'seminar': 9589, 'seniors': 9590, 'shahabuddin': 9591, 'shinde': 9592, 'shoppers': 9593, 'shrinks': 9594, 'singles': 9595, 'sketch': 9596, 'somewhat': 9597, 'st.': 9598, 'starving': 9599, 'statehood': 9600, 'stigma': 9601, 'stumbled': 9602, 'stuns': 9603, 'subjects': 9604, 'supriyo': 9605, 'takers': 9606, 'technique': 9607, 'tera': 9608, 'termed': 9609, 'theater': 9610, 'thermal': 9611, 'thrice': 9612, 'tightens': 9613, 'tigress': 9614, 'tokyo': 9615, 'toyota': 9616, 'turkish': 9617, 'uc': 9618, 'unchanged': 9619, 'undergraduate': 9620, 'upgraded': 9621, 'vent': 9622, 'venues': 9623, 'vet': 9624, 'veterans': 9625, 'viewpoint': 9626, 'vijayawada': 9627, 'visuals': 9628, 'wet': 9629, 'widely': 9630, 'widows': 9631, 'wondered': 9632, 'भारतीय': 9633, 'शिक्षा': 9634, 'हुए': 9635, '👌': 9636, '1080p': 9637, '12,000': 9638, '20-year': 9639, '22-year': 9640, '4,500': 9641, '4k': 9642, '650': 9643, '70th': 9644, 'abandon': 9645, 'achieving': 9646, 'actively': 9647, 'adivasis': 9648, 'anandiben': 9649, 'apr': 9650, 'aspirations': 9651, 'baroda': 9652, 'baseless': 9653, 'bbmp': 9654, 'beautifully': 9655, 'bedroom': 9656, 'bee': 9657, 'bheem': 9658, 'bobby': 9659, 'booze': 9660, 'breathing': 9661, 'buzzfeed': 9662, 'camel': 9663, 'cautions': 9664, 'cave': 9665, 'certainly': 9666, 'challan': 9667, 'cheering': 9668, 'chinmayanand': 9669, 'chooses': 9670, 'chutney': 9671, 'clerk': 9672, 'climbing': 9673, 'coincidence': 9674, 'commissions': 9675, 'connaught': 9676, 'constantly': 9677, 'contestant': 9678, 'contrast': 9679, 'contributed': 9680, 'cooler': 9681, 'corporator': 9682, 'cried': 9683, 'debating': 9684, 'decrease': 9685, 'depressing': 9686, 'deshmukh': 9687, 'determination': 9688, 'dgca': 9689, 'dick': 9690, 'differ': 9691, 'diktat': 9692, 'dominant': 9693, 'donkey': 9694, 'duck': 9695, 'dynamic': 9696, 'expanding': 9697, 'expo': 9698, 'extremists': 9699, 'foiled': 9700, 'fold': 9701, 'functional': 9702, 'gana': 9703, 'gangster': 9704, 'geelani': 9705, 'genuinely': 9706, 'ghulam': 9707, 'godi': 9708, 'goodwill': 9709, 'graph': 9710, 'grips': 9711, 'halts': 9712, 'hating': 9713, 'hoarders': 9714, 'hotspots': 9715, 'howrah': 9716, 'hung': 9717, 'hydraulic': 9718, 'hypocrite': 9719, 'iamfawad': 9720, 'icai': 9721, 'imminent': 9722, 'inbox': 9723, 'incomplete': 9724, 'indefinitely': 9725, 'insolvency': 9726, 'intro': 9727, 'jabong': 9728, 'jana': 9729, 'juvenile': 9730, 'kharge': 9731, 'kmph': 9732, 'largely': 9733, 'lavish': 9734, 'legion': 9735, 'lekhi': 9736, 'liberation': 9737, 'maken': 9738, 'mandsaur': 9739, 'mate': 9740, 'mgnrega': 9741, 'misogyny': 9742, 'mnrega': 9743, 'mongering': 9744, 'morality': 9745, 'neighbouring': 9746, 'neo': 9747, 'nissan': 9748, 'nostalgic': 9749, 'notifies': 9750, 'nursing': 9751, 'ordeal': 9752, 'orphanage': 9753, 'outcomes': 9754, 'overview': 9755, 'pant': 9756, 'pants': 9757, 'partially': 9758, 'pathankot': 9759, 'pfi': 9760, 'photoshopped': 9761, 'pickle': 9762, 'pills': 9763, 'platen': 9764, 'pondicherry': 9765, 'preference': 9766, 'prey': 9767, 'rabindranath': 9768, 'radiation': 9769, 'raining': 9770, 'reclaim': 9771, 'recovers': 9772, 'refusal': 9773, 'relatable': 9774, 'replacing': 9775, 'rites': 9776, 'ruining': 9777, 'rumors': 9778, 'rushdie': 9779, 's10': 9780, 's8': 9781, 'sabka': 9782, 'sajid': 9783, 'secures': 9784, 'shocks': 9785, 'shorts': 9786, 'shouting': 9787, 'similarities': 9788, 'singham': 9789, 'snub': 9790, 'spacecraft': 9791, 'spices': 9792, 'stares': 9793, 'starrer': 9794, 'structures': 9795, 'swacch': 9796, 'swords': 9797, 'symbols': 9798, 'tejasvi': 9799, 'temperature': 9800, 'textiles': 9801, 'thali': 9802, 'thriving': 9803, 'tillerson': 9804, 'timesnow': 9805, 'toddler': 9806, 'tons': 9807, 'toronto': 9808, 'troubles': 9809, 'tube': 9810, 'tv9': 9811, 'u.s': 9812, 'unaccounted': 9813, 'underprivileged': 9814, 'understood': 9815, 'unicorn': 9816, 'vemula': 9817, 'wallpaper': 9818, 'wasseypur': 9819, 'watchdog': 9820, 'widens': 9821, 'wrongly': 9822, 'आपके': 9823, 'कोई': 9824, 'होगी': 9825, '1.6': 9826, '18-year': 9827, '2023': 9828, '27th': 9829, '61': 9830, '7.3': 9831, '70,000': 9832, 'abhijeet': 9833, 'abolish': 9834, 'abrogation': 9835, 'adira': 9836, 'adopting': 9837, 'adopts': 9838, 'advises': 9839, 'agrawal': 9840, 'agreements': 9841, 'aides': 9842, 'aliens': 9843, 'anatomy': 9844, 'anytime': 9845, 'arunabh': 9846, 'asi': 9847, 'aslam': 9848, 'asleep': 9849, 'assurance': 9850, 'assured': 9851, 'athawale': 9852, 'attitudes': 9853, 'babul': 9854, 'backwaters': 9855, 'bacteria': 9856, 'balloon': 9857, 'baloch': 9858, 'bankrupt': 9859, 'battleground': 9860, 'berlin': 9861, 'betrayal': 9862, 'blitz': 9863, 'botched': 9864, 'bother': 9865, 'brd': 9866, 'butt': 9867, 'campuses': 9868, 'candles': 9869, 'cargo': 9870, 'cautious': 9871, 'chaiwala': 9872, 'chanakya': 9873, 'charcha': 9874, 'chutiya': 9875, 'collision': 9876, 'compensate': 9877, 'confront': 9878, 'consult': 9879, 'controlling': 9880, 'controls': 9881, 'criticizing': 9882, 'dar': 9883, 'deepa': 9884, 'deepens': 9885, 'defame': 9886, 'delaying': 9887, 'dental': 9888, 'designate': 9889, 'despair': 9890, 'determined': 9891, 'dilli': 9892, 'dire': 9893, 'discharged': 9894, 'disturbed': 9895, 'donating': 9896, 'drills': 9897, 'earliest': 9898, 'efficiency': 9899, 'elder': 9900, 'excessive': 9901, 'excluded': 9902, 'experiencing': 9903, 'eyeing': 9904, 'facilitate': 9905, 'faiz': 9906, 'fasting': 9907, 'fatal': 9908, 'fellowship': 9909, 'floats': 9910, 'forwarded': 9911, 'frequently': 9912, 'functions': 9913, 'ge': 9914, 'geographic': 9915, 'glitches': 9916, 'gmail': 9917, 'grenade': 9918, 'groundwater': 9919, 'guaranteed': 9920, 'gul': 9921, 'handset': 9922, 'healing': 9923, 'heartbreaking': 9924, 'historians': 9925, 'hostels': 9926, 'i.e.': 9927, 'illusion': 9928, 'immunity': 9929, 'increasingly': 9930, 'indicates': 9931, 'infamous': 9932, 'inmates': 9933, 'insan': 9934, 'intimate': 9935, 'invokes': 9936, 'irked': 9937, 'irl': 9938, 'islamophobia': 9939, 'jaikar': 9940, 'jealous': 9941, 'jiofi': 9942, 'jolt': 9943, 'karmarkar': 9944, 'karo': 9945, 'kejri': 9946, 'knot': 9947, 'laden': 9948, 'lakes': 9949, 'layout': 9950, 'liye': 9951, 'marina': 9952, 'mehul': 9953, 'mentor': 9954, 'mig-21': 9955, 'mint': 9956, 'misled': 9957, 'missions': 9958, 'mnc': 9959, 'mo': 9960, 'musician': 9961, 'n.': 9962, 'narrow': 9963, 'nationality': 9964, 'networking': 9965, 'newsclick': 9966, 'offset': 9967, 'olds': 9968, 'oppression': 9969, 'outgoing': 9970, 'oye': 9971, 'painful': 9972, 'panagariya': 9973, 'patnaik': 9974, 'pelted': 9975, 'persecuted': 9976, 'pew': 9977, 'photographers': 9978, 'pie': 9979, 'pit': 9980, 'pms': 9981, 'portray': 9982, 'portugal': 9983, 'practicing': 9984, 'pramod': 9985, 'prasoon': 9986, 'pratish': 9987, 'premiere': 9988, 'previously': 9989, 'rathore': 9990, 'recognise': 9991, 'recognize': 9992, 'relaxing': 9993, 'remittances': 9994, 'renuka': 9995, 'representing': 9996, 'responded': 9997, 'retailer': 9998, 'revelations': 9999, 'ripped': 10000, 'rockets': 10001, 'sainath': 10002, 'scammer': 10003, 'scan': 10004, 'scratch': 10005, 'screw': 10006, 'shamed': 10007, 'sharply': 10008, 'shaw': 10009, 'shehla': 10010, 'shraddha': 10011, 'smashes': 10012, 'som': 10013, 'spells': 10014, 'stability': 10015, 'stimulus': 10016, 'sued': 10017, 'tanmay': 10018, 'tejpal': 10019, 'thrissur': 10020, 'torrents': 10021, 'tractor': 10022, 'traitors': 10023, 'treasure': 10024, 'trilokpuri': 10025, 'tubelight': 10026, 'tunak': 10027, 'turmeric': 10028, 'tyagi': 10029, 'unearthed': 10030, 'uniforms': 10031, 'urged': 10032, 'versions': 10033, 'vi': 10034, 'victoria': 10035, 'vihar': 10036, 'vijayvargiya': 10037, 'vilas': 10038, 'vines': 10039, 'vrindavan': 10040, 'wrap': 10041, 'yay': 10042, 'ysr': 10043, 'yt': 10044, 'zaira': 10045, 'zika': 10046, 'बात': 10047, 'रही': 10048, 'हुई': 10049, '►': 10050, '👉': 10051, '😅': 10052, '😎': 10053, '04': 10054, '112': 10055, '1857': 10056, '1978': 10057, '24/7': 10058, 'accessing': 10059, 'addressed': 10060, 'adequate': 10061, 'advert': 10062, 'akhand': 10063, 'alka': 10064, 'ammunition': 10065, 'amounts': 10066, 'ancestors': 10067, 'anjali': 10068, 'antibiotics': 10069, 'aqi': 10070, 'arrangement': 10071, 'associate': 10072, 'axe': 10073, 'ballot': 10074, 'batteries': 10075, 'befitting': 10076, 'behaving': 10077, 'bjps': 10078, 'boats': 10079, 'bol': 10080, 'bolt': 10081, 'bowl': 10082, 'boycotting': 10083, 'brawl': 10084, 'bros': 10085, 'budgam': 10086, 'caller': 10087, 'candle': 10088, 'chalisa': 10089, 'chandrasekaran': 10090, 'chikungunya': 10091, 'clickbait': 10092, 'clinical': 10093, 'containing': 10094, 'copper': 10095, 'critically': 10096, 'cruel': 10097, 'cst': 10098, 'culprit': 10099, 'dave': 10100, 'dda': 10101, 'deepavali': 10102, 'defined': 10103, 'desperation': 10104, 'dhabi': 10105, 'dial': 10106, 'diploma': 10107, 'disappearing': 10108, 'disposal': 10109, 'dividing': 10110, 'dressing': 10111, 'easiest': 10112, 'eaters': 10113, 'eng': 10114, 'etiquette': 10115, 'euthanasia': 10116, 'evacuation': 10117, 'farce': 10118, 'fav': 10119, 'fearless': 10120, 'federer': 10121, 'feeds': 10122, 'feud': 10123, 'fitting': 10124, 'flock': 10125, 'flows': 10126, 'foils': 10127, 'footballer': 10128, 'frdi': 10129, 'freaking': 10130, 'gd': 10131, 'guided': 10132, 'gulzar': 10133, 'hangout': 10134, 'harappan': 10135, 'hatke': 10136, 'hmmm': 10137, 'hua': 10138, 'hugs': 10139, 'hurdle': 10140, 'identifying': 10141, 'igi': 10142, 'immune': 10143, 'imposing': 10144, 'impress': 10145, 'inks': 10146, 'intended': 10147, 'iqbal': 10148, 'iyer': 10149, 'jams': 10150, 'jihadis': 10151, 'jim': 10152, 'junaid': 10153, 'kasganj': 10154, 'kasol': 10155, 'kia': 10156, 'knight': 10157, 'koli': 10158, 'kumari': 10159, 'label': 10160, 'lag': 10161, 'lakhvi': 10162, 'landline': 10163, 'lca': 10164, 'lecturer': 10165, 'lifeline': 10166, 'liver': 10167, 'luxurious': 10168, 'mainly': 10169, 'makar': 10170, 'mcx': 10171, 'merged': 10172, 'milind': 10173, 'millionaires': 10174, 'moms': 10175, 'morphed': 10176, 'mosquitoes': 10177, 'msme': 10178, 'mt': 10179, 'mud': 10180, 'musa': 10181, 'necessity': 10182, 'neighbor': 10183, 'nirmal': 10184, 'noah': 10185, 'npci': 10186, 'obtain': 10187, 'obviously': 10188, 'organise': 10189, 'osama': 10190, 'outdated': 10191, 'packaging': 10192, 'packet': 10193, 'parked': 10194, 'participated': 10195, 'patwardhan': 10196, 'peacefully': 10197, 'peers': 10198, 'piano': 10199, 'pistol': 10200, 'pleads': 10201, 'pogrom': 10202, 'poisoned': 10203, 'poorer': 10204, 'potter': 10205, 'pour': 10206, 'precious': 10207, 'prevented': 10208, 'preventing': 10209, 'principle': 10210, 'prithviraj': 10211, 'privileged': 10212, 'prone': 10213, 'pronounce': 10214, 'prophet': 10215, 'puppy': 10216, 'rajat': 10217, 'randomly': 10218, 'rang': 10219, 'regiment': 10220, 'rejection': 10221, 'relax': 10222, 'remembered': 10223, 'renowned': 10224, 'responding': 10225, 'restriction': 10226, 'rigged': 10227, 'satyamev': 10228, 'sci': 10229, 'scripts': 10230, 'secrecy': 10231, 'seekers': 10232, 'sensor': 10233, 'shining': 10234, 'sita': 10235, 'situations': 10236, 'sized': 10237, 'slew': 10238, 'spg': 10239, 'sponsors': 10240, 'stack': 10241, 'staged': 10242, 'subsidised': 10243, 'surpass': 10244, 'surprises': 10245, 'swept': 10246, 'tab': 10247, 'teenagers': 10248, 'tejashwi': 10249, 'tenders': 10250, 'testimony': 10251, 'tifu': 10252, 'todays': 10253, 'tony': 10254, 'torched': 10255, 'traces': 10256, 'transporting': 10257, 'trauma': 10258, 'traveler': 10259, 'tussar': 10260, 'tvshows': 10261, 'umar': 10262, 'una': 10263, 'unidentified': 10264, 'us$': 10265, 'valued': 10266, 'variety': 10267, 'vast': 10268, 'vendetta': 10269, 'vijender': 10270, 'warships': 10271, 'wider': 10272, 'woh': 10273, 'â\\x80\\x93': 10274, 'करते': 10275, 'गए': 10276, 'दुनिया': 10277, 'प्रदेश': 10278, '1200': 10279, '1970': 10280, '1995': 10281, '1996': 10282, '70-year': 10283, 'academia': 10284, 'aero': 10285, 'aggression': 10286, 'annually': 10287, 'astrologers': 10288, 'avoiding': 10289, 'awake': 10290, 'azaan': 10291, 'bahl': 10292, 'balak': 10293, 'ballistic': 10294, 'banaras': 10295, 'banknotes': 10296, 'banners': 10297, 'bano': 10298, 'beg': 10299, 'bidding': 10300, 'bikini': 10301, 'blacklist': 10302, 'blower': 10303, 'bonanza': 10304, 'booklet': 10305, 'borne': 10306, 'btc': 10307, 'candy': 10308, 'capturing': 10309, 'censoring': 10310, 'chases': 10311, 'chauth': 10312, 'clarity': 10313, 'clinch': 10314, 'clothesline': 10315, 'combo': 10316, 'condemning': 10317, 'consulate': 10318, 'contradicts': 10319, 'conundrum': 10320, 'coorg': 10321, 'cousins': 10322, 'cracking': 10323, 'craft': 10324, 'credited': 10325, 'critic': 10326, 'criticize': 10327, 'crosspost': 10328, 'crowned': 10329, 'dada': 10330, 'dahi': 10331, 'dainik': 10332, 'defeating': 10333, 'designated': 10334, 'directions': 10335, 'discontent': 10336, 'displaced': 10337, 'dispose': 10338, 'disqualification': 10339, 'ditch': 10340, 'diverted': 10341, 'diyas': 10342, 'doll': 10343, 'elders': 10344, 'emiway': 10345, 'employers': 10346, 'ensuring': 10347, 'ericsson': 10348, 'establishment': 10349, 'examinations': 10350, 'excess': 10351, 'fathers': 10352, 'fleeing': 10353, 'flesh': 10354, 'floyd': 10355, 'foxconn': 10356, 'furore': 10357, 'fuss': 10358, 'gif': 10359, 'gir': 10360, 'glad': 10361, 'gokarna': 10362, 'goof': 10363, 'gunned': 10364, 'guv': 10365, 'gyan': 10366, 'handcrafted': 10367, 'handled': 10368, 'heal': 10369, 'heartland': 10370, 'hijab': 10371, 'horns': 10372, 'hydroxychloroquine': 10373, 'ima': 10374, 'indu': 10375, 'insecure': 10376, 'integral': 10377, 'irresponsible': 10378, 'irrfan': 10379, 'ishq': 10380, 'jaan': 10381, 'jerry': 10382, 'kaam': 10383, 'kanika': 10384, 'kevin': 10385, 'kozhikode': 10386, 'lalit': 10387, 'liquid': 10388, 'lodhi': 10389, 'lured': 10390, 'm1': 10391, 'madness': 10392, 'mails': 10393, 'menstrual': 10394, 'mersal': 10395, 'millennial': 10396, 'mira': 10397, 'miscreants': 10398, 'moratorium': 10399, 'murderer': 10400, 'naturally': 10401, 'nervous': 10402, 'netherlands': 10403, 'nigeria': 10404, 'np]india': 10405, 'nsfl': 10406, 'nsui': 10407, 'nuns': 10408, 'objection': 10409, 'ockhi': 10410, 'onam': 10411, 'oral': 10412, 'owe': 10413, 'panipat': 10414, 'partial': 10415, 'patience': 10416, 'permits': 10417, 'pharmaceutical': 10418, 'pillar': 10419, 'pioneer': 10420, 'pleasure': 10421, 'pmi': 10422, 'portuguese': 10423, 'prachi': 10424, 'prejudice': 10425, 'prod': 10426, 'prosecutor': 10427, 'purnima': 10428, 'pursuit': 10429, 'r.': 10430, 'ragging': 10431, 'rainy': 10432, 'reconsider': 10433, 'recycling': 10434, 'referring': 10435, 'regard': 10436, 'reiterates': 10437, 'renewed': 10438, 'reopen': 10439, 'represents': 10440, 'rider': 10441, 'rohith': 10442, 'roman': 10443, 'rupay': 10444, 'rushed': 10445, 's-400': 10446, 'sanghis': 10447, 'satyapal': 10448, 'senate': 10449, 'sensation': 10450, 'settled': 10451, 'sidharth': 10452, 'slide': 10453, 'slit': 10454, 'soccer': 10455, 'sometime': 10456, 'southeast': 10457, 'splits': 10458, 'stated': 10459, 'streams': 10460, 'stretch': 10461, 'strips': 10462, 'strongman': 10463, 'surname': 10464, 'survives': 10465, 'sweeping': 10466, 'tags': 10467, 'tailor': 10468, 'taxed': 10469, 'techniques': 10470, 'terrace': 10471, 'tewari': 10472, 'thus': 10473, 'tide': 10474, 'torch': 10475, 'unverified': 10476, 'urging': 10477, 'varsity': 10478, 'villains': 10479, 'vinay': 10480, 'wadia': 10481, 'warship': 10482, 'wrapped': 10483, 'xbox': 10484, 'yaad': 10485, 'yard': 10486, 'yield': 10487, 'व': 10488, 'वीडियो': 10489, '102': 10490, '108': 10491, '111': 10492, '149': 10493, '251': 10494, '4032': 10495, 'abhi': 10496, 'accommodation': 10497, 'africans': 10498, 'aizawl': 10499, 'alter': 10500, 'asansol': 10501, 'auctions': 10502, 'await': 10503, 'backpack': 10504, 'barbaric': 10505, 'barrier': 10506, 'basket': 10507, 'basketball': 10508, 'belgium': 10509, 'bhaiya': 10510, 'bhawan': 10511, 'bible': 10512, 'blanket': 10513, 'boil': 10514, 'boosting': 10515, 'boundary': 10516, 'brewing': 10517, 'buffaloes': 10518, 'bukhari': 10519, 'burqa': 10520, 'caaprotests': 10521, 'calculate': 10522, 'carnatic': 10523, 'cctvs': 10524, 'cellphone': 10525, 'chased': 10526, 'chips': 10527, 'chris': 10528, 'cinematic': 10529, 'circulating': 10530, 'clad': 10531, 'cleansing': 10532, 'cnbc': 10533, 'col': 10534, 'committees': 10535, 'components': 10536, 'conscience': 10537, 'consensual': 10538, 'contestants': 10539, 'costing': 10540, 'coward': 10541, 'cpec': 10542, 'csr': 10543, 'cured': 10544, 'demonitization': 10545, 'deprived': 10546, 'derived': 10547, 'desis': 10548, 'dham': 10549, 'disorders': 10550, 'disturb': 10551, 'divides': 10552, 'divya': 10553, 'dji': 10554, 'drew': 10555, 'dsp': 10556, 'dubious': 10557, 'em': 10558, 'embracing': 10559, 'emerged': 10560, 'escaped': 10561, 'escort': 10562, 'eviction': 10563, 'expels': 10564, 'explosives': 10565, 'faked': 10566, 'feasible': 10567, 'ferry': 10568, 'fictional': 10569, 'flairs': 10570, 'fooling': 10571, 'fools': 10572, 'forcefully': 10573, 'franco': 10574, 'frontpage': 10575, 'gameplay': 10576, 'gaumutra': 10577, 'generations': 10578, 'glitch': 10579, 'godmen': 10580, 'govind': 10581, 'grammar': 10582, 'grandparents': 10583, 'grounded': 10584, 'gujaratis': 10585, 'haircut': 10586, 'handsome': 10587, 'hashmi': 10588, 'hats': 10589, 'hotspot': 10590, 'icons': 10591, 'inappropriate': 10592, 'inc.': 10593, 'inches': 10594, 'indiafacts': 10595, 'indra': 10596, 'inflows': 10597, 'initiate': 10598, 'innings': 10599, 'irfan': 10600, 'islamist': 10601, 'jdu': 10602, 'jimmy': 10603, 'josh': 10604, 'kannan': 10605, 'kejru': 10606, 'khichdi': 10607, 'kite': 10608, 'labels': 10609, 'lamborghini': 10610, 'lgbtq': 10611, 'linguistic': 10612, 'lions': 10613, 'lip': 10614, 'livelihood': 10615, 'lobbying': 10616, 'locally': 10617, 'lockheed': 10618, 'looting': 10619, 'machinery': 10620, 'madan': 10621, 'madhuri': 10622, 'magsaysay': 10623, 'mandal': 10624, 'markaz': 10625, 'mast': 10626, 'masterstroke': 10627, 'masturbation': 10628, 'maxis': 10629, 'meaningful': 10630, 'mi3': 10631, 'militancy': 10632, 'mirzapur': 10633, 'mistaken': 10634, 'modis': 10635, 'mondal': 10636, 'mudra': 10637, 'mukhtar': 10638, 'mulling': 10639, 'mutilated': 10640, 'mutilation': 10641, 'nanak': 10642, 'neighborhood': 10643, 'newsx': 10644, 'nigerian': 10645, 'nios': 10646, 'northeastern': 10647, 'np]what': 10648, 'nyay': 10649, 'oops': 10650, 'opera': 10651, 'overwhelming': 10652, 'padhao': 10653, 'paf': 10654, 'pani': 10655, 'paranormal': 10656, 'paswan': 10657, 'pathak': 10658, 'peeing': 10659, 'plug': 10660, 'potentially': 10661, 'precedent': 10662, 'predator': 10663, 'prestigious': 10664, 'privately': 10665, 'probability': 10666, 'protectionism': 10667, 'proving': 10668, 'provision': 10669, 'pt': 10670, 'pubs': 10671, 'quarterly': 10672, 'radhika': 10673, 'rajamouli': 10674, 'rajasthani': 10675, 'referral': 10676, 'refers': 10677, 'reinstated': 10678, 'renames': 10679, 'sarkaar': 10680, 'sarkari': 10681, 'sarpanch': 10682, 'scavenging': 10683, 'schooling': 10684, 'scotland': 10685, 'scuffle': 10686, 'separated': 10687, 'separation': 10688, 'severely': 10689, 'sheets': 10690, 'shine': 10691, 'shithole': 10692, 'shrinking': 10693, 'shweta': 10694, 'shy': 10695, 'siddhartha': 10696, 'slot': 10697, 'spine': 10698, 'stamps': 10699, 'steady': 10700, 'stereotype': 10701, 'strongest': 10702, 'suitable': 10703, 'superbugs': 10704, 'surfing': 10705, 'surgeries': 10706, 'swap': 10707, 'taller': 10708, 'tenant': 10709, 'terracotta': 10710, 'tomb': 10711, 'trp': 10712, 'trumps': 10713, 'turmoil': 10714, 'tutor': 10715, 'undermine': 10716, 'unnatural': 10717, 'unused': 10718, 'upadhyay': 10719, 'upgrades': 10720, 'upside': 10721, 'vaishno': 10722, 'viable': 10723, 'visitor': 10724, 'waterfalls': 10725, 'whey': 10726, 'winds': 10727, 'wolf': 10728, 'yale': 10729, 'परीक्षा': 10730, '11-year': 10731, '135': 10732, '1966': 10733, '1980s': 10734, '20s': 10735, '220': 10736, '23-year': 10737, '80s': 10738, 'a.r.': 10739, 'abortions': 10740, 'accountant': 10741, 'acquittal': 10742, 'adapter': 10743, 'addict': 10744, 'administrative': 10745, 'adobe': 10746, 'afzal': 10747, 'ag': 10748, 'alcoholic': 10749, 'alike': 10750, 'allotment': 10751, 'alphabet': 10752, 'amir': 10753, 'attracts': 10754, 'autobiography': 10755, 'backyard': 10756, 'bajrangi': 10757, 'bald': 10758, 'bappa': 10759, 'baramulla': 10760, 'bend': 10761, 'beneficiaries': 10762, 'beneficiary': 10763, 'bhangra': 10764, 'bjd': 10765, 'blackmoney': 10766, 'bless': 10767, 'bob': 10768, 'bomber': 10769, 'bones': 10770, 'boon': 10771, 'bra': 10772, 'breastfeeding': 10773, 'broom': 10774, 'btw': 10775, 'burial': 10776, 'captive': 10777, 'casualty': 10778, 'caves': 10779, 'chacha': 10780, 'chanda': 10781, 'chandrachud': 10782, 'clocks': 10783, 'collegium': 10784, 'combination': 10785, 'communicate': 10786, 'continent': 10787, 'continuous': 10788, 'convenience': 10789, 'conventional': 10790, 'cough': 10791, 'counterparts': 10792, 'craziest': 10793, 'curiosity': 10794, 'cwc': 10795, 'daniel': 10796, 'dasgupta': 10797, 'dcw': 10798, 'dec.': 10799, 'deceased': 10800, 'defaming': 10801, 'defining': 10802, 'deliberate': 10803, 'deliveries': 10804, 'depth': 10805, 'difficulty': 10806, 'digitally': 10807, 'dirt': 10808, 'dismal': 10809, 'docomo': 10810, 'dustbin': 10811, 'elevated': 10812, 'emigrate': 10813, 'empowering': 10814, 'encyclopedia': 10815, 'enjoyed': 10816, 'esports': 10817, 'evaders': 10818, 'excellence': 10819, 'exchanging': 10820, 'exempted': 10821, 'expedition': 10822, 'extradited': 10823, 'fawad': 10824, 'fibernet': 10825, 'fits': 10826, 'flyers': 10827, 'focusing': 10828, 'forbidden': 10829, 'fossil': 10830, 'fragile': 10831, 'freelancer': 10832, 'gabbard': 10833, 'gardens': 10834, 'goan': 10835, 'gorkhaland': 10836, 'grace': 10837, 'grandpa': 10838, 'granting': 10839, 'grief': 10840, 'grooming': 10841, 'ha': 10842, 'hailed': 10843, 'haven': 10844, 'heroin': 10845, 'himanta': 10846, 'hisar': 10847, 'hourly': 10848, 'immoral': 10849, 'imphal': 10850, \"india'\\x80\\x99s\": 10851, 'indiaâ\\x80\\x99s': 10852, 'inducted': 10853, 'initiated': 10854, 'innovations': 10855, 'insecurity': 10856, 'institutional': 10857, 'interviewing': 10858, 'intolerant': 10859, 'irrespective': 10860, 'itbp': 10861, 'jagran': 10862, 'java': 10863, 'jewelry': 10864, 'jindal': 10865, 'jun': 10866, 'justifies': 10867, 'kalki': 10868, 'kamala': 10869, 'kansas': 10870, 'kathmandu': 10871, 'kgs': 10872, 'khalid': 10873, 'kishwar': 10874, 'kodaikanal': 10875, 'kudankulam': 10876, 'kumaraswamy': 10877, 'ladki': 10878, 'lean': 10879, 'leaning': 10880, 'liable': 10881, 'locks': 10882, 'majestic': 10883, 'malappuram': 10884, 'manipulation': 10885, 'meira': 10886, 'melbourne': 10887, 'mercury': 10888, 'messi': 10889, 'midday': 10890, 'misplaced': 10891, 'monastery': 10892, 'monsanto': 10893, 'mute': 10894, 'nariman': 10895, 'ncw': 10896, 'nd': 10897, 'nearest': 10898, 'news18.com': 10899, 'nikhil': 10900, 'noor': 10901, 'noted': 10902, 'nuts': 10903, 'objections': 10904, 'observes': 10905, 'oriented': 10906, 'palaniswami': 10907, 'panda': 10908, 'papa': 10909, 'parenting': 10910, 'payal': 10911, 'peeps': 10912, 'permanently': 10913, 'perpetrators': 10914, 'pervert': 10915, 'pla': 10916, 'poisonous': 10917, 'polarisation': 10918, 'polygamy': 10919, 'portable': 10920, 'possession': 10921, 'ppf': 10922, 'premji': 10923, 'prevalent': 10924, 'programmer': 10925, 'prompts': 10926, 'provident': 10927, 'province': 10928, 'punishable': 10929, 'pwd': 10930, 'qualifications': 10931, 'queer': 10932, 'quo': 10933, 'raghu': 10934, 'rajendra': 10935, 'rameswaram': 10936, 'rampur': 10937, 'ravan': 10938, 'realities': 10939, 'refuge': 10940, 'regardless': 10941, 'relevance': 10942, 'representative': 10943, 'respective': 10944, 'restrict': 10945, 'resumes': 10946, 'retd': 10947, 'revived': 10948, 'rewarded': 10949, 'rings': 10950, 'risking': 10951, 'roasted': 10952, 'rocky': 10953, 'rod': 10954, 'rohatgi': 10955, 'rough': 10956, 'royce': 10957, 'rubbish': 10958, 'sans': 10959, 'sanskari': 10960, 'sarma': 10961, 'scales': 10962, 'sequel': 10963, 'setalvad': 10964, 'sexuality': 10965, 'shitting': 10966, 'shopkeepers': 10967, 'shoulders': 10968, 'showerthoughts': 10969, 'spa': 10970, 'spared': 10971, 'sq': 10972, 'statesman': 10973, 'submitting': 10974, 'sum': 10975, 'surviving': 10976, 'swati': 10977, 'talwars': 10978, 'tapes': 10979, 'taxmen': 10980, 'tech2': 10981, 'ted': 10982, 'tens': 10983, 'terrifying': 10984, 'tilak': 10985, 'toothpaste': 10986, 'tracing': 10987, 'transcript': 10988, 'tremors': 10989, 'tryst': 10990, 'ts': 10991, 'unified': 10992, 'unkill': 10993, 'unwanted': 10994, 'vault': 10995, 'venom': 10996, 'ventilators': 10997, 'vips': 10998, 'viraat': 10999, 'vishwa': 11000, 'viswanathan': 11001, 'volunteering': 11002, 'vouchers': 11003, 'wali': 11004, 'weaker': 11005, 'wheel': 11006, 'worsens': 11007, 'wrestlers': 11008, 'xl': 11009, 'xr': 11010, 'کی': 11011, 'کے': 11012, 'कुमार': 11013, 'फिर': 11014, 'बीजेपी': 11015, 'लोग': 11016, 'सभी': 11017, '1800': 11018, '1945': 11019, '1961': 11020, '25-year': 11021, '35,000': 11022, '420': 11023, 'abhinav': 11024, 'ache': 11025, 'activism': 11026, 'admiral': 11027, 'adorable': 11028, 'advices': 11029, 'aiming': 11030, 'akali': 11031, 'alappuzha': 11032, 'alcove': 11033, 'alpesh': 11034, 'alphons': 11035, 'alright': 11036, 'amend': 11037, 'anxious': 11038, 'appointing': 11039, 'approached': 11040, 'argue': 11041, 'arguing': 11042, 'arson': 11043, 'artwork': 11044, 'asians': 11045, 'audi': 11046, 'autorickshaw': 11047, 'azim': 11048, 'backup': 11049, 'balloons': 11050, 'bamboo': 11051, 'ben': 11052, 'blankets': 11053, 'bow': 11054, 'bowling': 11055, 'brass': 11056, 'breathtaking': 11057, 'bullied': 11058, 'cabin': 11059, 'capitalist': 11060, 'charger': 11061, 'charles': 11062, 'chhota': 11063, 'cleavage': 11064, 'clicking': 11065, 'closest': 11066, 'collaboration': 11067, 'competitiveness': 11068, 'compound': 11069, 'countdown': 11070, 'counterfeit': 11071, 'cp': 11072, 'creature': 11073, 'cum': 11074, \"d'souza\": 11075, 'debuts': 11076, 'deduction': 11077, 'deeper': 11078, 'defiance': 11079, 'deity': 11080, 'dekh': 11081, 'deploy': 11082, 'deployment': 11083, 'dg': 11084, 'difficulties': 11085, 'digilocker': 11086, 'disclosed': 11087, 'displayed': 11088, 'disrupted': 11089, 'diverse': 11090, 'divert': 11091, 'dots': 11092, 'driverless': 11093, 'drowned': 11094, 'eaten': 11095, 'edward': 11096, 'electrification': 11097, 'engaging': 11098, 'exception': 11099, 'exile': 11100, 'expat': 11101, 'exploitation': 11102, 'exporting': 11103, 'farhan': 11104, 'fcra': 11105, 'filming': 11106, 'fingerprints': 11107, 'finland': 11108, 'flare': 11109, 'flops': 11110, 'fortunes': 11111, 'forums': 11112, 'fulfill': 11113, 'geeta': 11114, 'genetics': 11115, 'geneva': 11116, 'genitals': 11117, 'glance': 11118, 'gorgeous': 11119, 'grabs': 11120, 'groceries': 11121, 'grylls': 11122, 'halted': 11123, 'hearings': 11124, 'hefty': 11125, 'homegrown': 11126, 'horizon': 11127, 'horrifying': 11128, 'hostile': 11129, 'imagination': 11130, 'indefinite': 11131, 'induction': 11132, 'inform': 11133, 'internationally': 11134, 'interviewed': 11135, 'iss': 11136, 'itap': 11137, 'jackson': 11138, 'jaswant': 11139, 'jitan': 11140, 'journos': 11141, 'junks': 11142, 'kasab': 11143, 'khalistani': 11144, 'khilji': 11145, 'kidambi': 11146, 'legislature': 11147, 'lenin': 11148, 'lieutenant': 11149, 'lightning': 11150, 'loading': 11151, 'loads': 11152, 'loneliness': 11153, 'lungi': 11154, 'maheshwari': 11155, 'malnourished': 11156, 'manik': 11157, 'mci': 11158, 'medalist': 11159, 'medieval': 11160, 'midst': 11161, 'milky': 11162, 'mismatch': 11163, 'mobikwik': 11164, 'modinomics': 11165, 'monumental': 11166, 'mrw': 11167, 'murli': 11168, 'mushroom': 11169, 'nair': 11170, 'nifs': 11171, 'noisy': 11172, 'noon': 11173, 'occurred': 11174, 'orop': 11175, 'outrageous': 11176, 'pakoda': 11177, 'parineeti': 11178, 'passwords': 11179, 'pcs': 11180, 'peaks': 11181, 'pehlu': 11182, 'perks': 11183, 'petitioners': 11184, 'ploy': 11185, 'pointed': 11186, 'portion': 11187, 'preserve': 11188, 'probable': 11189, 'projection': 11190, 'prompt': 11191, 'prostitute': 11192, 'prototype': 11193, 'psychologist': 11194, 'pts': 11195, 'purohit': 11196, 'qualities': 11197, 'reacting': 11198, 'references': 11199, 'reformer': 11200, 'registrations': 11201, 'remained': 11202, 'reminded': 11203, 'renew': 11204, 'reputed': 11205, 'reset': 11206, 'respectively': 11207, 'revelation': 11208, 'revises': 11209, 'rohan': 11210, 'ropes': 11211, 'roundtable': 11212, 'saints': 11213, 'salaried': 11214, 'salem': 11215, 'salim': 11216, 'sandhu': 11217, 'sangam': 11218, 'sara': 11219, 'sarcasm': 11220, 'sarcastic': 11221, 'satirical': 11222, 'saviour': 11223, 'secondary': 11224, 'sensational': 11225, 'sharapova': 11226, 'shells': 11227, 'sink': 11228, 'sinking': 11229, 'sl': 11230, 'smh': 11231, 'somehow': 11232, 'specification': 11233, 'spirits': 11234, 'staffers': 11235, 'std': 11236, 'steep': 11237, 'stepped': 11238, 'substitute': 11239, 'supplements': 11240, 'supriya': 11241, 'swaminathan': 11242, 't10': 11243, 'tahir': 11244, 'taiwan': 11245, 'tamils': 11246, 'tandon': 11247, 'taxis': 11248, 'teasing': 11249, 'technological': 11250, 'temperatures': 11251, 'therefore': 11252, 'tomar': 11253, 'treats': 11254, 'unlock': 11255, 'unnoticed': 11256, 'unreal': 11257, 'unsubscribe': 11258, 'username': 11259, 'venezuela': 11260, 'vfx': 11261, 'vit': 11262, 'weekends': 11263, 'westerners': 11264, 'windfall': 11265, 'wingers': 11266, 'wisely': 11267, 'woos': 11268, 'wore': 11269, 'yearly': 11270, '¦': 11271, 'â\\x80\\x94': 11272, 'अगर': 11273, 'दिवस': 11274, 'नही': 11275, 'नाम': 11276, 'बड़ा': 11277, 'मंदिर': 11278, 'महिला': 11279, 'राम': 11280, 'होने': 11281, '’d': 11282, '₹500': 11283, '😡': 11284, '🙄': 11285, '119': 11286, '1600': 11287, '175': 11288, '2.1': 11289, '24-year': 11290, '30k': 11291, '9,000': 11292, 'aa[p': 11293, 'aayega': 11294, 'accord': 11295, 'adb': 11296, 'adhd': 11297, 'adsense': 11298, 'affiliated': 11299, 'aishe': 11300, 'annoyed': 11301, 'antivirus': 11302, 'appliances': 11303, 'aspect': 11304, 'assailants': 11305, 'atheism': 11306, 'averted': 11307, 'babas': 11308, 'bahar': 11309, 'bahrain': 11310, 'banega': 11311, 'barriers': 11312, 'batsman': 11313, 'bengalis': 11314, 'bgm': 11315, 'bijnor': 11316, 'biology': 11317, 'blackmailing': 11318, 'blew': 11319, 'blindly': 11320, 'blockbuster': 11321, 'blueprint': 11322, 'boobs': 11323, 'boosts': 11324, 'bpl': 11325, 'bricks': 11326, 'bsc': 11327, 'busts': 11328, 'canteens': 11329, 'centric': 11330, 'chadha': 11331, 'chan': 11332, 'chawla': 11333, 'chromecast': 11334, 'clap': 11335, 'classy': 11336, 'collaborate': 11337, 'communism': 11338, 'compass': 11339, 'confesses': 11340, 'confusing': 11341, 'consular': 11342, 'convincing': 11343, 'copying': 11344, 'counsel': 11345, 'countrymen': 11346, 'coz': 11347, 'credentials': 11348, 'criticized': 11349, 'crorepatis': 11350, 'crusader': 11351, 'csk': 11352, 'cups': 11353, 'cybersecurity': 11354, 'daler': 11355, 'dangers': 11356, 'deactivated': 11357, 'deepen': 11358, 'del': 11359, 'demonetized': 11360, 'depend': 11361, 'detects': 11362, 'dimapur': 11363, 'dirtiest': 11364, 'disabilities': 11365, 'disco': 11366, 'djpunjab.in': 11367, 'draconian': 11368, 'dreaming': 11369, 'drove': 11370, 'dtc': 11371, 'ducks': 11372, 'elevation': 11373, 'entities': 11374, 'ev': 11375, 'exclusion': 11376, 'excuses': 11377, 'expectancy': 11378, 'fastag': 11379, 'fence': 11380, 'figured': 11381, 'firmly': 11382, 'flees': 11383, 'float': 11384, 'foil': 11385, 'foolish': 11386, 'founding': 11387, 'francis': 11388, 'francisco': 11389, 'fronts': 11390, 'ftii': 11391, 'gamer': 11392, 'garment': 11393, 'gilgit': 11394, 'godrej': 11395, 'grievance': 11396, 'gunpoint': 11397, 'guntur': 11398, 'gurudwara': 11399, 'guruji': 11400, 'hailing': 11401, 'hari': 11402, 'headlinestoday': 11403, 'heated': 11404, 'hillary': 11405, 'homosexual': 11406, 'hypothetical': 11407, 'iama': 11408, 'ibps': 11409, 'ideological': 11410, 'iftar': 11411, 'imo': 11412, 'impacts': 11413, 'incredibly': 11414, 'indianpeoplefacebook': 11415, 'inspires': 11416, 'investigated': 11417, 'investigations': 11418, 'investigative': 11419, 'ioa': 11420, 'jhansi': 11421, 'jiocoin': 11422, 'jiofiber': 11423, 'justification': 11424, 'kahani': 11425, 'ken': 11426, 'kendriya': 11427, 'kerosene': 11428, 'khalifa': 11429, 'm.': 11430, 'magazines': 11431, 'majithia': 11432, 'maran': 11433, 'marching': 11434, 'maurya': 11435, 'mercilessly': 11436, 'minus': 11437, 'mishap': 11438, 'misusing': 11439, 'modicare': 11440, 'mohanlal': 11441, 'mohd': 11442, 'moscow': 11443, 'mouthpiece': 11444, 'mppeb': 11445, 'murugan': 11446, 'muscle': 11447, 'nainital': 11448, 'narayanan': 11449, 'neglect': 11450, 'negotiations': 11451, 'niranjan': 11452, 'noc': 11453, 'nolan': 11454, 'nominal': 11455, 'nominations': 11456, 'notifications': 11457, 'objected': 11458, 'oblique': 11459, 'observatory': 11460, 'originated': 11461, 'p]akistan': 11462, 'panorama': 11463, 'paralympics': 11464, 'payers': 11465, 'pepsico': 11466, 'performances': 11467, 'persian': 11468, 'peter': 11469, 'philip': 11470, 'phogat': 11471, 'photoshoot': 11472, 'pirate': 11473, 'pirates': 11474, 'pockets': 11475, 'polish': 11476, 'portals': 11477, 'portfolios': 11478, 'poultry': 11479, 'pragati': 11480, 'praised': 11481, 'presidency': 11482, 'prevents': 11483, 'processes': 11484, 'produces': 11485, 'prosecuted': 11486, 'provocative': 11487, 'pulses': 11488, 'pvr': 11489, 'q&amp;a': 11490, 'quoting': 11491, 'rajini': 11492, 'refurbished': 11493, 'rendition': 11494, 'resolutions': 11495, 'reunion': 11496, 'rick': 11497, 'risers': 11498, 'robotic': 11499, 'rogue': 11500, 'rohini': 11501, 'rolled': 11502, 'rr': 11503, 'sajjan': 11504, 'salwar': 11505, 'sanitizer': 11506, 'satyagraha': 11507, 'selfish': 11508, 'sewer': 11509, 'shattered': 11510, 'sherlock': 11511, 'shikhar': 11512, 'sholay': 11513, 'shortages': 11514, 'shouts': 11515, 'smarter': 11516, 'spacex': 11517, 'speeding': 11518, 'sr': 11519, 'stunts': 11520, 'subrata': 11521, 'substance': 11522, 'suburban': 11523, 'succumbs': 11524, 'sufi': 11525, 'suhel': 11526, 'supersonic': 11527, 'surpasses': 11528, 'surprisingly': 11529, 'swear': 11530, 'tables': 11531, 'tactic': 11532, 'temper': 11533, 'theatrical': 11534, 'thick': 11535, 'throttling': 11536, 'timings': 11537, 'tomatoes': 11538, 'translating': 11539, 'translator': 11540, 'trivedi': 11541, 'uncensored': 11542, 'unpaid': 11543, 'uploading': 11544, 'usb': 11545, 'vanish': 11546, 'vasai': 11547, 'vidhan': 11548, 'volumes': 11549, 'wardrobe': 11550, 'waterways': 11551, 'weighs': 11552, 'weinstein': 11553, 'wheelchair': 11554, 'wheels': 11555, '͡': 11556, 'जय': 11557, 'थी': 11558, 'धन': 11559, 'बारे': 11560, 'राहुल': 11561, 'समय': 11562, 'हम': 11563, '★': 11564, '👍': 11565, '😭': 11566, '-&gt': 11567, '-grotal': 11568, '103': 11569, '1980': 11570, '1983': 11571, '3,500': 11572, '399': 11573, '5-star': 11574, '75,000': 11575, '9-year': 11576, ':/': 11577, 'abki': 11578, 'absent': 11579, 'accompanied': 11580, 'acknowledge': 11581, 'advertise': 11582, 'aicte': 11583, 'airstrikes': 11584, 'aisi': 11585, 'alimony': 11586, 'amanatullah': 11587, 'antibiotic': 11588, 'apologize': 11589, 'apparel': 11590, 'arbitrary': 11591, 'argues': 11592, 'arjan': 11593, 'arrange': 11594, 'arrivals': 11595, 'askindia]what': 11596, 'assignment': 11597, 'attaches': 11598, 'attraction': 11599, 'balan': 11600, 'bangkok': 11601, 'banquet': 11602, 'baron': 11603, 'bases': 11604, 'bewafa': 11605, 'bhabha': 11606, 'bhandari': 11607, 'bhatia': 11608, 'blackmail': 11609, 'bleak': 11610, 'blockade': 11611, 'bluff': 11612, 'bottled': 11613, 'bpo': 11614, 'brakes': 11615, 'brokers': 11616, 'bulls': 11617, 'bully': 11618, 'bumrah': 11619, 'busting': 11620, 'candid': 11621, 'capabilities': 11622, 'carnival': 11623, 'catastrophe': 11624, 'ccd': 11625, 'chal': 11626, 'chhatrapati': 11627, 'choudhary': 11628, 'chronic': 11629, 'circlejerk': 11630, 'colonies': 11631, 'colorful': 11632, 'compliant': 11633, 'concludes': 11634, 'congressman': 11635, 'conquer': 11636, 'coping': 11637, 'corp': 11638, 'creamy': 11639, 'crises': 11640, 'curbing': 11641, 'dams': 11642, 'danish': 11643, 'darshan': 11644, 'dash': 11645, 'dashboard': 11646, 'democracies': 11647, 'described': 11648, 'deserved': 11649, 'deshbhakt': 11650, 'desk': 11651, 'detection': 11652, 'detector': 11653, 'devotional': 11654, 'dharmendra': 11655, 'dhoti': 11656, 'diamonds': 11657, 'disrespect': 11658, 'divas': 11659, 'downfall': 11660, 'drugged': 11661, 'dub': 11662, 'ears': 11663, 'ego': 11664, 'encouraged': 11665, 'enrolment': 11666, 'euro': 11667, 'europeans': 11668, 'evicted': 11669, 'exaggerated': 11670, 'exceed': 11671, 'exploited': 11672, 'expressed': 11673, 'eyewitness': 11674, 'flour': 11675, 'focuses': 11676, 'foodpanda': 11677, 'fraudsters': 11678, 'freely': 11679, 'frequency': 11680, 'fridge': 11681, 'ftth': 11682, 'fuelled': 11683, 'g5': 11684, 'gaffe': 11685, 'ganja': 11686, 'gatherings': 11687, 'gayatri': 11688, 'gifting': 11689, 'gobind': 11690, 'goverment': 11691, 'grabbing': 11692, 'graveyard': 11693, 'habib': 11694, 'halal': 11695, 'havens': 11696, 'hawa': 11697, 'heck': 11698, 'heroine': 11699, 'hid': 11700, 'highlighting': 11701, 'hinglish': 11702, 'hollow': 11703, 'hostess': 11704, 'hysteria': 11705, 'idli': 11706, 'iip': 11707, 'il&amp;fs': 11708, 'indianews': 11709, 'indirect': 11710, 'indulging': 11711, 'inspire': 11712, 'interpol': 11713, 'intervenes': 11714, 'inventions': 11715, 'irrelevant': 11716, 'irs': 11717, 'iv': 11718, 'jointly': 11719, 'jordan': 11720, 'kadam': 11721, 'kanimozhi': 11722, 'karkare': 11723, 'karna': 11724, 'karur': 11725, 'kicking': 11726, 'konkan': 11727, 'kulgam': 11728, 'kulkarni': 11729, 'lacs': 11730, 'laughs': 11731, 'lawsuit': 11732, 'lemon': 11733, 'lingayat': 11734, 'liquidity': 11735, 'logs': 11736, 'looming': 11737, 'magistrate': 11738, 'mahashivratri': 11739, 'makemytrip': 11740, 'malda': 11741, 'mallikarjun': 11742, 'manages': 11743, 'mander': 11744, 'mascot': 11745, 'mayhem': 11746, 'mcdonalds': 11747, 'mediation': 11748, 'menstruation': 11749, 'merely': 11750, 'mf': 11751, 'mh': 11752, 'mirage': 11753, 'mismanagement': 11754, 'mockery': 11755, 'mouse': 11756, 'mrs': 11757, 'msc': 11758, 'murderers': 11759, 'murdering': 11760, 'nahin': 11761, 'napkins': 11762, 'narratives': 11763, 'neech': 11764, 'ni': 11765, 'noble': 11766, 'nukes': 11767, 'o.o': 11768, 'objecting': 11769, 'ode': 11770, 'orissa': 11771, 'ousted': 11772, 'pandal': 11773, 'parole': 11774, 'parvati': 11775, 'pav': 11776, 'pearl': 11777, 'peer': 11778, 'performers': 11779, 'pharmacy': 11780, 'php': 11781, 'pigeon': 11782, 'piss': 11783, 'poker': 11784, 'polandball': 11785, 'polo': 11786, 'postcard': 11787, 'pounds': 11788, 'predatory': 11789, 'promoters': 11790, 'proposing': 11791, 'protester': 11792, 'pul': 11793, 'ramp': 11794, 'recap': 11795, 'recycled': 11796, 'rely': 11797, 'renewables': 11798, 'repay': 11799, 'represented': 11800, 'restricts': 11801, 'retires': 11802, 'rewriting': 11803, 'rigging': 11804, 'rips': 11805, 'sach': 11806, 'sacrificed': 11807, 'safeguard': 11808, 'samaj': 11809, 'santosh': 11810, 'sati': 11811, 'satyendra': 11812, 'sauce': 11813, 'savvy': 11814, 'sexiest': 11815, 'shaktimaan': 11816, 'shines': 11817, 'shipped': 11818, 'shootout': 11819, 'shouted': 11820, 'shreya': 11821, 'siblings': 11822, 'singhvi': 11823, 'sinks': 11824, 'skirts': 11825, 'slump': 11826, 'snoop': 11827, 'spill': 11828, 'spray': 11829, 'stakes': 11830, 'stalked': 11831, 'stark': 11832, 'stealth': 11833, 'strapped': 11834, 'stunned': 11835, 'submission': 11836, 'submissions': 11837, 'sunni': 11838, 'surrendered': 11839, 'tabled': 11840, 'tail': 11841, 'tampered': 11842, 'telescope': 11843, 'tere': 11844, 'terrified': 11845, 'thrive': 11846, 'throwback': 11847, 'toefl': 11848, 'tolerant': 11849, 'tollywood': 11850, 'tougher': 11851, 'toughest': 11852, 'trainer': 11853, 'traitor': 11854, 'turnover': 11855, 'twinkle': 11856, 'ug': 11857, 'ukraine': 11858, 'unauthorised': 11859, 'uncomfortable': 11860, 'undergoing': 11861, 'unfit': 11862, 'unites': 11863, 'unleashed': 11864, 'untouchable': 11865, 'victories': 11866, 'vijaya': 11867, 'volkswagen': 11868, 'vysya': 11869, 'waits': 11870, 'waive': 11871, 'wallpapers': 11872, 'witnessing': 11873, 'worshipping': 11874, 'wounds': 11875, 'yasin': 11876, 'yummy': 11877, 'आदेश': 11878, 'कभी': 11879, 'कहा': 11880, 'कि': 11881, 'पूरा': 11882, 'मंत्री': 11883, 'लोगों': 11884, 'विद्यालयों': 11885, 'होता': 11886, '™': 11887, '........': 11888, '05': 11889, '1/2': 11890, '13,000': 11891, '1946': 11892, '1997': 11893, '22,000': 11894, '3.2': 11895, '3.6': 11896, '30-year': 11897, '3024': 11898, '3310': 11899, '4032x3024': 11900, '4chan': 11901, '6.3': 11902, '720p': 11903, '89': 11904, 'abs': 11905, 'accountants': 11906, 'acoustic': 11907, 'adaptation': 11908, 'aditi': 11909, 'adnan': 11910, 'agar': 11911, 'agusta': 11912, 'aisa': 11913, 'aisle': 11914, 'ambanis': 11915, 'amity': 11916, 'anarchy': 11917, 'antony': 11918, 'approaching': 11919, 'assholes': 11920, 'astronaut': 11921, 'asylum': 11922, 'auditor': 11923, 'aunt': 11924, 'backlog': 11925, 'backstory': 11926, 'bagga': 11927, 'bahut': 11928, 'bai': 11929, 'banglore': 11930, 'barber': 11931, 'baru': 11932, 'batman': 11933, 'bawana': 11934, 'bespocut': 11935, 'biyani': 11936, 'blacklisted': 11937, 'bleed': 11938, 'blessing': 11939, 'boot': 11940, 'bosch': 11941, 'britishers': 11942, 'buddy': 11943, 'calicut': 11944, 'campaigner': 11945, 'canvas': 11946, 'carryminati': 11947, 'casts': 11948, 'cds': 11949, 'chats': 11950, 'chelameswar': 11951, 'chhapaak': 11952, 'chhath': 11953, 'chokes': 11954, 'chronicle': 11955, 'cibil': 11956, 'clampdown': 11957, 'cleaners': 11958, 'composer': 11959, 'conflicts': 11960, 'contributing': 11961, 'convenient': 11962, 'cooks': 11963, 'cooperate': 11964, 'corners': 11965, 'corridors': 11966, 'counted': 11967, 'couriers': 11968, 'cv': 11969, 'cycles': 11970, 'deer': 11971, 'dena': 11972, 'dependent': 11973, 'descendants': 11974, 'detective': 11975, 'dhoom': 11976, 'digitisation': 11977, 'disappointment': 11978, 'disputes': 11979, 'doomed': 11980, 'dragging': 11981, 'drastically': 11982, 'dudes': 11983, 'emirates': 11984, 'endorsing': 11985, 'enduring': 11986, 'engg': 11987, 'enroll': 11988, 'essentially': 11989, 'evolved': 11990, 'extending': 11991, 'extinction': 11992, 'faye': 11993, 'fd': 11994, 'firecracker': 11995, 'foetus': 11996, 'footprint': 11997, 'gentleman': 11998, 'gloves': 11999, 'goers': 12000, 'gopichand': 12001, 'gorge': 12002, 'grateful': 12003, 'gre': 12004, 'greatly': 12005, 'greed': 12006, 'greedy': 12007, 'greener': 12008, 'grilled': 12009, 'guts': 12010, 'halloween': 12011, 'harvest': 12012, 'hashtags': 12013, 'helm': 12014, 'highs': 12015, 'hugging': 12016, 'humanitarian': 12017, 'identities': 12018, 'imagined': 12019, 'indoors': 12020, 'inheritance': 12021, 'installing': 12022, 'intact': 12023, 'integrate': 12024, 'iris': 12025, 'islamists': 12026, 'jackie': 12027, 'jats': 12028, 'jolly': 12029, 'keralites': 12030, 'khans': 12031, 'kidding': 12032, 'kk': 12033, 'lamps': 12034, 'latter': 12035, 'lava': 12036, 'legalised': 12037, 'libraries': 12038, 'lodges': 12039, 'loosing': 12040, 'maan': 12041, 'mahadev': 12042, 'mahendra': 12043, 'mahila': 12044, 'maintaining': 12045, 'malayali': 12046, 'mana': 12047, 'maritime': 12048, 'mathew': 12049, 'matrimony': 12050, 'medication': 12051, 'mig': 12052, 'mineral': 12053, 'miners': 12054, 'mirchi': 12055, 'misconceptions': 12056, 'miserable': 12057, 'monitored': 12058, 'msm': 12059, 'mygov': 12060, 'mysteries': 12061, 'n95': 12062, 'nagrota': 12063, 'nailed': 12064, 'nawab': 12065, 'nayak': 12066, 'neft': 12067, 'nizam': 12068, 'notch': 12069, 'occupy': 12070, 'offs': 12071, 'opium': 12072, 'optimistic': 12073, 'oriental': 12074, 'ouster': 12075, 'owes': 12076, 'owning': 12077, 'oxfam': 12078, 'p2p': 12079, 'pa': 12080, 'pac': 12081, 'panag': 12082, 'parivartan': 12083, 'paste': 12084, 'peddling': 12085, 'pedestrian': 12086, 'pee': 12087, 'pencil': 12088, 'percentile': 12089, 'phir': 12090, 'pill': 12091, 'pirated': 12092, 'planting': 12093, 'poo': 12094, 'populist': 12095, 'portability': 12096, 'pouring': 12097, 'preacher': 12098, 'preparedness': 12099, 'processed': 12100, 'prospective': 12101, 'provoking': 12102, 'punjabis': 12103, 'qms': 12104, 'qtiyapa': 12105, 'radhe': 12106, 'raging': 12107, 'rajkummar': 12108, 'rajnikanth': 12109, 'ranji': 12110, 'rational': 12111, 'rations': 12112, 'reactors': 12113, 'recruits': 12114, 'redfm': 12115, 'repercussions': 12116, 'respected': 12117, 'respiratory': 12118, 'responsive': 12119, 'restores': 12120, 'revives': 12121, 'revoked': 12122, 'revokes': 12123, 'rgv': 12124, 'rn': 12125, 'robin': 12126, 'ruins': 12127, 'saab': 12128, 'sabki': 12129, 'sacrifices': 12130, 'safest': 12131, 'salve': 12132, 'sana': 12133, 'sanjeev': 12134, 'satisfy': 12135, 'scoring': 12136, 'scorpene': 12137, 'shakes': 12138, 'sheep': 12139, 'shielding': 12140, 'shivaay': 12141, 'shivpal': 12142, 'shoulder': 12143, 'sided': 12144, 'simran': 12145, 'simultaneously': 12146, 'sincere': 12147, 'sino': 12148, 'sip': 12149, 'sits': 12150, 'snaps': 12151, 'sneak': 12152, 'span': 12153, 'spider': 12154, 'starbucks': 12155, 'starvation': 12156, 'sticker': 12157, 'strictly': 12158, 'studios': 12159, 'stung': 12160, 'stylish': 12161, 'sufficient': 12162, 'superb': 12163, 'systematic': 12164, 'taiba': 12165, 'taxing': 12166, 'tm': 12167, 'tosh': 12168, 'triangle': 12169, 'troubling': 12170, 'turnaround': 12171, 'turtles': 12172, 'tvc': 12173, 'ultimatum': 12174, 'unaware': 12175, 'uni': 12176, 'upadhyaya': 12177, 'utensils': 12178, 'utterly': 12179, 'vacancy': 12180, 'vallabhbhai': 12181, 'varsities': 12182, 'vatican': 12183, 'ventilator': 12184, 'verbal': 12185, 'versova': 12186, 'vitamin': 12187, 'vu': 12188, 'vulnerability': 12189, 'waived': 12190, 'wale': 12191, 'waqf': 12192, 'whip': 12193, 'whisky': 12194, 'ww2': 12195, 'कोर्ट': 12196, 'दिल्ली': 12197, 'पाकिस्तान': 12198, 'वेतन': 12199, 'स्कूलों': 12200, '😀': 12201, '128': 12202, '1988': 12203, '2100': 12204, '500/1000': 12205, '9000': 12206, 'abolished': 12207, 'administrator': 12208, 'airbnb': 12209, 'ambition': 12210, 'amenities': 12211, 'apu': 12212, 'ash': 12213, 'aussie': 12214, 'autonomous': 12215, 'avalanche': 12216, 'b.': 12217, 'baijal': 12218, 'bailout': 12219, 'bait': 12220, 'bandwagon': 12221, 'barring': 12222, 'basmati': 12223, 'beas': 12224, 'beast': 12225, 'bhabhi': 12226, 'bhargava': 12227, 'blackmailed': 12228, 'blade': 12229, 'bonhomie': 12230, 'borrow': 12231, 'borrowers': 12232, 'boundaries': 12233, 'boycotts': 12234, 'brazilian': 12235, 'brunt': 12236, 'bunkers': 12237, 'bureaucratic': 12238, 'byju': 12239, 'cakes': 12240, 'calculations': 12241, 'campa': 12242, 'cfo': 12243, 'chairperson': 12244, 'chakraborty': 12245, 'charities': 12246, 'chattisgarh': 12247, 'choke': 12248, 'classmate': 12249, 'coai': 12250, 'collapsed': 12251, 'combine': 12252, 'commenting': 12253, 'complainant': 12254, 'confessions': 12255, 'congressional': 12256, 'conquered': 12257, 'conscious': 12258, 'counterpart': 12259, 'covert': 12260, 'criticizes': 12261, 'cylinders': 12262, 'daddy': 12263, 'dalal': 12264, 'dank': 12265, 'dedicates': 12266, 'deemed': 12267, 'deendayal': 12268, 'dekha': 12269, 'denomination': 12270, 'dent': 12271, 'dentist': 12272, 'depends': 12273, 'depositing': 12274, 'dhol': 12275, 'digit': 12276, 'dilute': 12277, 'dinesh': 12278, 'directive': 12279, 'disruptive': 12280, 'diversion': 12281, 'dominates': 12282, 'dope': 12283, 'doubling': 12284, 'downloaded': 12285, 'drum': 12286, 'dslr': 12287, 'dummy': 12288, 'dwellers': 12289, 'dynastic': 12290, 'easter': 12291, 'eateries': 12292, 'echoes': 12293, 'equation': 12294, 'experimental': 12295, 'exploration': 12296, 'extinct': 12297, 'extract': 12298, 'filth': 12299, 'finale': 12300, 'flame': 12301, 'flaw': 12302, 'flirting': 12303, 'forecasts': 12304, 'fox': 12305, 'frames': 12306, 'frontline': 12307, 'frustration': 12308, 'fssai': 12309, 'fundraiser': 12310, 'gangtok': 12311, 'ghana': 12312, 'ghatkopar': 12313, 'graves': 12314, 'grill': 12315, 'grills': 12316, 'grossing': 12317, 'handloom': 12318, 'harvesting': 12319, 'haunts': 12320, 'heaviest': 12321, 'henry': 12322, 'hollande': 12323, 'homage': 12324, 'homeland': 12325, 'honorary': 12326, 'horn': 12327, 'horrors': 12328, 'huffpost': 12329, 'humiliating': 12330, 'ibnlive': 12331, 'ideologies': 12332, 'idiotic': 12333, 'importer': 12334, 'incentive': 12335, 'indecent': 12336, 'indicate': 12337, 'industrialist': 12338, 'infiltrators': 12339, 'injures': 12340, 'instigating': 12341, 'intensify': 12342, 'interceptor': 12343, 'jamat': 12344, 'jayega': 12345, 'joe': 12346, 'juhu': 12347, 'jv': 12348, 'kannadigas': 12349, 'khurrana': 12350, 'kidnap': 12351, 'kirti': 12352, 'kitty': 12353, 'kj': 12354, 'knee': 12355, 'kochhar': 12356, 'laga': 12357, 'lakshadweep': 12358, 'lamp': 12359, 'laughed': 12360, 'legality': 12361, 'lethal': 12362, 'liberalism': 12363, 'loyal': 12364, 'mah': 12365, 'maintained': 12366, 'manhandled': 12367, 'mecca': 12368, 'microphone': 12369, 'mild': 12370, 'mistakenly': 12371, 'mncs': 12372, 'modify': 12373, 'mohit': 12374, 'molest': 12375, 'motorbike': 12376, 'mourning': 12377, 'mustard': 12378, 'nazis': 12379, 'ndtv.com': 12380, 'nirupam': 12381, 'normalcy': 12382, 'notorious': 12383, 'np]the': 12384, 'nupur': 12385, 'optimism': 12386, 'oracle': 12387, 'orchestrated': 12388, 'orthodox': 12389, 'outraged': 12390, 'outskirts': 12391, 'outsourced': 12392, 'overpopulated': 12393, 'p]olitical': 12394, 'padman': 12395, 'palestinian': 12396, 'pata': 12397, 'patents': 12398, 'pentagon': 12399, 'perceived': 12400, 'permitted': 12401, 'phule': 12402, 'pilani': 12403, 'piya': 12404, 'portrayed': 12405, 'potatoes': 12406, 'poured': 12407, 'praful': 12408, 'presidents': 12409, 'pressed': 12410, 'proclaimed': 12411, 'profiteering': 12412, 'provokes': 12413, 'pseudoscience': 12414, 'publication': 12415, 'pyaar': 12416, 'pyramid': 12417, 'qualcomm': 12418, 'rae': 12419, 'rages': 12420, 'ramanujan': 12421, 'ranu': 12422, 'razed': 12423, 'recognised': 12424, 'recovering': 12425, 'refunds': 12426, 'respecting': 12427, 'respite': 12428, 'rewari': 12429, 'risky': 12430, 'rob': 12431, 'rocked': 12432, 'rockstar': 12433, 'rubbishes': 12434, 'sachs': 12435, 'sadly': 12436, 'safdarjung': 12437, 'sami': 12438, 'sanctioned': 12439, 'sarovar': 12440, 'satyajit': 12441, 'saurabh': 12442, 'sco': 12443, 'sect': 12444, 'securities': 12445, 'seema': 12446, 'seinfeld': 12447, 'senator': 12448, 'sentinel': 12449, 'shook': 12450, 'silenced': 12451, 'smallest': 12452, 'smes': 12453, 'smiling': 12454, 'smt': 12455, 'smuggled': 12456, 'snapped': 12457, 'snatched': 12458, 'sour': 12459, 'spiderman': 12460, 'spit': 12461, 'spite': 12462, 'spyware': 12463, 'stanford': 12464, 'sugarcane': 12465, 'sustain': 12466, 'taapsee': 12467, 'tamper': 12468, 'tatas': 12469, 'template': 12470, 'termination': 12471, 'thakor': 12472, 'theresa': 12473, 'thumping': 12474, 'ticking': 12475, 'tipping': 12476, 'trafficked': 12477, 'transferring': 12478, 'ucc': 12479, 'udwin': 12480, 'ui': 12481, 'ujjwala': 12482, 'unblock': 12483, 'underage': 12484, 'undertake': 12485, 'unearth': 12486, 'unleash': 12487, 'unmanned': 12488, 'uplifting': 12489, 'usain': 12490, 'ut': 12491, 'uts': 12492, 'vaghela': 12493, 'vanishing': 12494, 'vellore': 12495, 'vessel': 12496, 'vicious': 12497, 'vij': 12498, 'vow': 12499, 'warren': 12500, 'waterfall': 12501, 'wished': 12502, 'witty': 12503, 'worsen': 12504, 'wounded': 12505, 'wuhan': 12506, 'xavier': 12507, 'जरूर': 12508, 'जवाब': 12509, 'दो': 12510, 'नेता': 12511, 'पुलिस': 12512, 'बोले': 12513, 'मौत': 12514, 'शिक्षकों': 12515, 'श्री': 12516, '14,000': 12517, '1931': 12518, '1949': 12519, '1951': 12520, '1967': 12521, '2.3': 12522, '2040': 12523, '27,000': 12524, '4.3': 12525, '40k': 12526, '6s': 12527, ':-)': 12528, 'aajtak': 12529, 'abolishing': 12530, 'accessed': 12531, 'acer': 12532, 'adhia': 12533, 'admi': 12534, 'affiliation': 12535, 'algorithm': 12536, 'allowances': 12537, 'amazon.com': 12538, 'amd': 12539, 'ananthamurthy': 12540, 'anantkumar': 12541, 'andaz': 12542, 'announcements': 12543, 'anonymity': 12544, 'anonymously': 12545, 'apache': 12546, 'arbitration': 12547, 'arindam': 12548, 'arrangements': 12549, 'ashes': 12550, 'asif': 12551, 'atif': 12552, 'atop': 12553, 'ayushmann': 12554, 'babbar': 12555, 'bala': 12556, 'baltistan': 12557, 'bane': 12558, 'barcelona': 12559, 'bareli': 12560, 'begs': 12561, 'benchmark': 12562, 'benz': 12563, 'bf': 12564, 'bharadwaj': 12565, 'biological': 12566, 'biscuit': 12567, 'bodyguard': 12568, 'boots': 12569, 'boris': 12570, 'bounce': 12571, 'bowler': 12572, 'brains': 12573, 'briefly': 12574, 'bullock': 12575, 'calculation': 12576, 'capped': 12577, 'captcha': 12578, 'carriers': 12579, 'cci': 12580, 'chandni': 12581, 'char': 12582, 'charred': 12583, 'chemicals': 12584, 'chemists': 12585, 'chronicles': 12586, 'circuit': 12587, 'citibank': 12588, 'clan': 12589, 'clay': 12590, 'closet': 12591, 'coalgate': 12592, 'collectors': 12593, 'collects': 12594, 'coloured': 12595, 'commissioned': 12596, 'commonly': 12597, 'communists': 12598, 'comparable': 12599, 'concentration': 12600, 'conditioner': 12601, 'confirmation': 12602, 'contributes': 12603, 'convocation': 12604, 'correctly': 12605, 'countrywide': 12606, 'custodial': 12607, 'cutest': 12608, 'dabangg': 12609, 'dabholkar': 12610, 'dabur': 12611, 'deb': 12612, 'debunking': 12613, 'decisive': 12614, 'defective': 12615, 'defiant': 12616, 'demonitisation': 12617, 'demons': 12618, 'depicted': 12619, 'depositors': 12620, 'derek': 12621, 'devdutt': 12622, 'dictator': 12623, 'discovering': 12624, 'disgrace': 12625, 'disruptions': 12626, 'dns': 12627, 'downvote': 12628, 'dummies': 12629, 'duration': 12630, 'dynamics': 12631, 'ebook': 12632, 'ekyc': 12633, 'elaborate': 12634, 'emotionally': 12635, 'enact': 12636, 'enforced': 12637, 'ensures': 12638, 'eternal': 12639, 'euros': 12640, 'excerpts': 12641, 'exchanged': 12642, 'exchequer': 12643, 'exploiting': 12644, 'fateh': 12645, 'fetch': 12646, 'finmin': 12647, 'flays': 12648, 'flowing': 12649, 'flute': 12650, 'forge': 12651, 'fray': 12652, 'freak': 12653, 'fugitive': 12654, 'fulfilled': 12655, 'fy19': 12656, 'gaps': 12657, 'generous': 12658, 'gentle': 12659, 'geopolitical': 12660, 'gig': 12661, 'gimmick': 12662, 'gmat': 12663, 'gopinathan': 12664, 'graduated': 12665, 'grandma': 12666, 'grofers': 12667, 'gta': 12668, 'guild': 12669, 'halwa': 12670, 'handy': 12671, 'hcl': 12672, 'hectares': 12673, 'herb': 12674, 'hides': 12675, 'holocaust': 12676, 'homework': 12677, 'hue': 12678, 'humshakals': 12679, 'hunters': 12680, 'identifies': 12681, 'incite': 12682, 'indresh': 12683, 'infantry': 12684, 'infighting': 12685, 'influx': 12686, 'infringement': 12687, 'inked': 12688, 'inspection': 12689, 'intentionally': 12690, 'intercourse': 12691, 'intern': 12692, 'intex': 12693, 'invincible': 12694, 'isc': 12695, 'ja': 12696, 'jazz': 12697, 'jean': 12698, 'jewel': 12699, 'kabali': 12700, 'kesari': 12701, 'kodnani': 12702, 'lacking': 12703, 'lamb': 12704, 'lamba': 12705, 'latin': 12706, 'livefist': 12707, 'loo': 12708, 'lookalike': 12709, 'maaro': 12710, 'mac': 12711, 'maharana': 12712, 'mahmood': 12713, 'makeinindia': 12714, 'mammoth': 12715, 'manipuri': 12716, 'mantras': 12717, 'marathwada': 12718, 'mat': 12719, 'mc': 12720, 'meteor': 12721, 'metres': 12722, 'microwave': 12723, 'middleman': 12724, 'migrating': 12725, 'mihir': 12726, 'mischief': 12727, 'misguided': 12728, 'mislead': 12729, 'mujhe': 12730, 'municipality': 12731, 'nanavati': 12732, 'naya': 12733, 'neglected': 12734, 'nuisance': 12735, 'occupation': 12736, 'offender': 12737, 'outdoor': 12738, 'pacts': 12739, 'paes': 12740, 'palakkad': 12741, 'pankaja': 12742, 'paperless': 12743, 'patidars': 12744, 'pause': 12745, 'penalised': 12746, 'pierce': 12747, 'pigeons': 12748, 'pips': 12749, 'plague': 12750, 'pointless': 12751, 'poland': 12752, 'polarised': 12753, 'pope': 12754, 'prateek': 12755, 'praying': 12756, 'preparations': 12757, 'profiling': 12758, 'prohibited': 12759, 'prostitutes': 12760, 'pwc': 12761, 'racially': 12762, 'rajapaksa': 12763, 'rakha': 12764, 'ramadan': 12765, 'rattled': 12766, 'rattles': 12767, 'recognized': 12768, 'rejig': 12769, 'replica': 12770, 'rescuing': 12771, 'respects': 12772, 'retarded': 12773, 'revisit': 12774, 'revisited': 12775, 'revisiting': 12776, 'rewind': 12777, 'ridden': 12778, 'roadmap': 12779, 'roam': 12780, 'roommate': 12781, 'ruler': 12782, 'runners': 12783, 'sadhus': 12784, 'sail': 12785, 'saket': 12786, 'salutes': 12787, 'sansad': 12788, 'sapna': 12789, 'saxena': 12790, 'schoolgirls': 12791, 'scripted': 12792, 'scroll.in': 12793, 'sculpture': 12794, 'seculars': 12795, 'seizure': 12796, 'sheer': 12797, 'shirdi': 12798, 'shivratri': 12799, 'shoaib': 12800, 'showpiece': 12801, 'sighting': 12802, 'singers': 12803, 'slaughtering': 12804, 'slice': 12805, 'sm': 12806, 'smash': 12807, 'snag': 12808, 'sona': 12809, 'sonbhadra': 12810, 'speedy': 12811, 'spirituality': 12812, 'spoilers': 12813, 'stating': 12814, 'stepping': 12815, 'sterilisation': 12816, 'stickers': 12817, 'streamable': 12818, 'sts': 12819, 'stuffed': 12820, 'styled': 12821, 'subscribing': 12822, 'subway': 12823, 'supposedly': 12824, 'suvs': 12825, 'swadeshi': 12826, 'swedish': 12827, 'switches': 12828, 'tableau': 12829, 'tame': 12830, 'tamilians': 12831, 'taps': 12832, 'tastes': 12833, 'tattoos': 12834, 'texas': 12835, 'thesis': 12836, 'toe': 12837, 'tuberculosis': 12838, 'turban': 12839, 'tv18': 12840, 'tyme': 12841, 'tyranny': 12842, 'uncles': 12843, 'unruly': 12844, 'untouchables': 12845, 'untouched': 12846, 'uploads': 12847, 'vaidik': 12848, 'vardah': 12849, 'vasant': 12850, 'violators': 12851, 'wannabe': 12852, 'weirdest': 12853, 'wherever': 12854, 'winters': 12855, 'wpi': 12856, 'wwi': 12857, 'wwii': 12858, 'yeti': 12859, 'yu': 12860, '×': 12861, 'अभी': 12862, 'कहानी': 12863, 'किसी': 12864, 'जब': 12865, 'बहुत': 12866, 'बार': 12867, 'बॉलीवुड': 12868, 'वो': 12869, '₹100': 12870, '---': 12871, '1,800': 12872, '105': 12873, '1100': 12874, '1940': 12875, '2.2': 12876, '2026': 12877, '2048': 12878, '210': 12879, '3024x4032': 12880, '500,000': 12881, '56-inch': 12882, '6.7': 12883, 'a.k.a': 12884, 'accenture': 12885, 'acknowledges': 12886, 'acs': 12887, 'addicts': 12888, 'afire': 12889, 'alliances': 12890, 'allocations': 12891, 'aman': 12892, 'amazingly': 12893, 'ambala': 12894, 'ambit': 12895, 'ambush': 12896, 'an-32': 12897, 'anderson': 12898, 'andolan': 12899, 'answering': 12900, 'arrows': 12901, 'arsenal': 12902, 'assassin': 12903, 'assigned': 12904, 'assist': 12905, 'associates': 12906, 'assuming': 12907, 'attire': 12908, 'aunties': 12909, 'authenticity': 12910, 'authorized': 12911, 'automotive': 12912, 'avam': 12913, 'avoided': 12914, 'awaiting': 12915, 'azaadi': 12916, 'backdoor': 12917, 'backfired': 12918, 'backwards': 12919, 'bada': 12920, 'bangles': 12921, 'barala': 12922, 'bas': 12923, 'basit': 12924, 'bca': 12925, 'beans': 12926, 'bears': 12927, 'belonged': 12928, 'benefited': 12929, 'bhagwan': 12930, 'bhajans': 12931, 'bhandarkar': 12932, 'bhasker': 12933, 'binary': 12934, 'blogging': 12935, 'bobde': 12936, 'bobs': 12937, 'bonded': 12938, 'brotherhood': 12939, 'budgets': 12940, 'bugs': 12941, 'cables': 12942, 'café': 12943, 'calculated': 12944, 'canceled': 12945, 'catering': 12946, 'cellphones': 12947, 'centenary': 12948, 'chahiye': 12949, 'chandrayaan2': 12950, 'change.org': 12951, 'charminar': 12952, 'checklist': 12953, 'circles': 12954, 'clat': 12955, 'cleanup': 12956, 'clinches': 12957, 'collateral': 12958, 'collectively': 12959, 'colourful': 12960, 'columnist': 12961, 'commercials': 12962, 'comrade': 12963, 'comrades': 12964, 'concepts': 12965, 'condolences': 12966, 'congressmen': 12967, 'contents': 12968, 'cosmetic': 12969, 'craze': 12970, 'creams': 12971, 'crippled': 12972, 'csds': 12973, 'cube': 12974, 'cures': 12975, 'darul': 12976, 'davinder': 12977, 'dbs': 12978, 'debunked': 12979, 'defamatory': 12980, 'defer': 12981, 'defers': 12982, 'deoband': 12983, 'departure': 12984, 'describing': 12985, 'dhulagarh': 12986, 'disable': 12987, 'discounted': 12988, 'discovers': 12989, 'disguise': 12990, 'disha': 12991, 'disrespecting': 12992, 'distorted': 12993, 'dock': 12994, 'dos': 12995, 'dp': 12996, 'drains': 12997, 'dropout': 12998, 'dushyant': 12999, 'dystopia': 13000, 'ebooks': 13001, 'educating': 13002, 'electrified': 13003, 'enraged': 13004, 'evaluation': 13005, 'ews': 13006, 'exercises': 13007, 'exotic': 13008, 'exposé': 13009, 'fairly': 13010, 'falcon': 13011, 'faq': 13012, 'feb.': 13013, 'federalism': 13014, 'feminists': 13015, 'finalise': 13016, 'firefox': 13017, 'flagged': 13018, 'flyer': 13019, 'foldable': 13020, 'footprints': 13021, 'gavaskar': 13022, 'gene': 13023, 'girish': 13024, 'golf': 13025, 'governing': 13026, 'grain': 13027, 'grass': 13028, 'hardcore': 13029, 'harley': 13030, 'harsha': 13031, 'hasmukh': 13032, 'hayat': 13033, 'hazarika': 13034, 'heinous': 13035, 'hierarchy': 13036, 'hobbies': 13037, 'hoist': 13038, 'homosexuals': 13039, 'hooked': 13040, 'horses': 13041, 'housing.com': 13042, 'htc': 13043, 'hu': 13044, 'hunter': 13045, 'hut': 13046, 'hyper': 13047, 'ichr': 13048, 'ied': 13049, 'iipm': 13050, 'indiaspend': 13051, 'indoor': 13052, 'indulge': 13053, 'inflow': 13054, 'informs': 13055, 'ingredients': 13056, 'initiates': 13057, 'intensity': 13058, 'invoke': 13059, 'irish': 13060, 'jabalpur': 13061, 'janmabhoomi': 13062, 'jayaprakash': 13063, 'jcb': 13064, 'jewellers': 13065, 'jr': 13066, 'jury': 13067, 'jute': 13068, 'k20': 13069, 'kakkar': 13070, 'kalikho': 13071, 'kambala': 13072, 'kamlesh': 13073, 'kanwar': 13074, 'kendra': 13075, 'kickstarter': 13076, 'kuan': 13077, 'laboratory': 13078, 'ladder': 13079, 'lags': 13080, 'lancet': 13081, 'lasting': 13082, 'launcher': 13083, 'leander': 13084, 'lend': 13085, 'lenskart': 13086, 'lest': 13087, 'leverage': 13088, 'lighter': 13089, 'likens': 13090, 'loaded': 13091, 'loophole': 13092, 'lowered': 13093, 'lung': 13094, 'lust': 13095, 'mahagathbandhan': 13096, 'maids': 13097, 'malicious': 13098, 'mallika': 13099, 'manch': 13100, 'mania': 13101, 'manipulated': 13102, 'manto': 13103, 'maria': 13104, 'maro': 13105, 'masti': 13106, 'mattress': 13107, 'mayank': 13108, 'maze': 13109, 'mbas': 13110, 'medha': 13111, 'metropolitan': 13112, 'middlemen': 13113, 'milan': 13114, 'millet': 13115, 'mojo': 13116, 'molests': 13117, 'momos': 13118, 'mounts': 13119, 'moustache': 13120, 'mozilla': 13121, 'msp': 13122, 'nanda': 13123, 'negotiate': 13124, 'nightlife': 13125, 'ninja': 13126, 'noose': 13127, 'notebandi': 13128, 'noticing': 13129, 'notified': 13130, 'obcs': 13131, 'observing': 13132, 'organize': 13133, 'originals': 13134, 'orkut': 13135, 'orphan': 13136, 'outer': 13137, 'pachauri': 13138, 'pannu': 13139, 'paralysis': 13140, 'parekh': 13141, 'pariksha': 13142, 'patch': 13143, 'patkar': 13144, 'periods': 13145, 'perspectives': 13146, 'perumal': 13147, 'pervez': 13148, 'pesticide': 13149, 'picturesque': 13150, 'pig': 13151, 'pigs': 13152, 'pils': 13153, 'pleased': 13154, 'polite': 13155, 'popcorn': 13156, 'portraits': 13157, 'portrayal': 13158, 'prajapati': 13159, 'preferential': 13160, 'preventive': 13161, 'processor': 13162, 'proportion': 13163, 'prosperous': 13164, 'psychiatrist': 13165, 'publisher': 13166, 'puppies': 13167, 'qaida': 13168, 'quad': 13169, 'quake': 13170, 'quoted': 13171, 'rafael': 13172, 'rajkumar': 13173, 'ramlila': 13174, 'rams': 13175, 'randi': 13176, 'refutes': 13177, 'regulated': 13178, 'rejoice': 13179, 'relentless': 13180, 'remotely': 13181, 'renault': 13182, 'res': 13183, 'resigning': 13184, 'restoration': 13185, 'reviewed': 13186, 'rex': 13187, 'rhinos': 13188, 'rindians': 13189, 'rode': 13190, 's&amp;p': 13191, 'sadhu': 13192, 'safari': 13193, 'sandwich': 13194, 'satisfaction': 13195, 'sealing': 13196, 'seals': 13197, 'seeker': 13198, 'seemed': 13199, 'sentencing': 13200, 'seoul': 13201, 'showcasing': 13202, 'shrink': 13203, 'sights': 13204, 'sightseeing': 13205, 'sikri': 13206, 'simplified': 13207, 'sirsa': 13208, 'slabs': 13209, 'sleuths': 13210, 'slits': 13211, 'slower': 13212, 'snoopgate': 13213, 'snowden': 13214, 'snowfall': 13215, 'souls': 13216, 'soundtrack': 13217, 'spamming': 13218, 'sparked': 13219, 'spitting': 13220, 'spokespersons': 13221, 'staggering': 13222, 'stalling': 13223, 'stents': 13224, 'stern': 13225, 'subsidiary': 13226, 'summon': 13227, 'superstars': 13228, 'supplied': 13229, 'suppose': 13230, 'suppress': 13231, 'surroundings': 13232, 'sweat': 13233, 'tajinder': 13234, 'tariq': 13235, 'taunts': 13236, 'thai': 13237, 'thirds': 13238, 'tnm': 13239, 'todayilearned': 13240, 'token': 13241, 'topi': 13242, 'toppers': 13243, 'trajectory': 13244, 'trichy': 13245, 'truce': 13246, 'truckers': 13247, 'tuk': 13248, 'udan': 13249, 'uid': 13250, 'unanimously': 13251, 'unhealthy': 13252, 'upfront': 13253, 'urvashi': 13254, 'vandalising': 13255, 'venus': 13256, 'virtually': 13257, 'vis': 13258, 'vlogs': 13259, 'waging': 13260, 'warehouse': 13261, 'watering': 13262, 'weakness': 13263, 'webseries': 13264, 'weighing': 13265, 'william': 13266, 'wilson': 13267, 'zombie': 13268, '·': 13269, 'आपका': 13270, 'इंडिया': 13271, 'उत्तर': 13272, 'ऐसे': 13273, 'करना': 13274, 'चाहते': 13275, 'जीवन': 13276, 'थे': 13277, 'नए': 13278, 'पूरी': 13279, 'बंद': 13280, 'बातें': 13281, 'बिना': 13282, 'यूपी': 13283, 'योजना': 13284, 'लाख': 13285, 'वाला': 13286, 'शादी': 13287, 'शुरू': 13288, 'सकते': 13289, 'सिंह': 13290, '🔔': 13291, '😆': 13292, '😜': 13293, '0.5': 13294, '1,300': 13295, '131': 13296, '132': 13297, '1970s': 13298, '1981': 13299, '1987': 13300, '1989': 13301, '2.4': 13302, '2000s': 13303, '230': 13304, '2k': 13305, '3.0': 13306, '5.8': 13307, '999': 13308, '@ani': 13309, 'aaya': 13310, 'acc': 13311, 'accusation': 13312, 'adhwaryu': 13313, 'adjourned': 13314, 'administered': 13315, 'admitting': 13316, 'advances': 13317, 'adventures': 13318, 'afridi': 13319, 'amas': 13320, 'amazed': 13321, 'amends': 13322, 'amla': 13323, 'analysing': 13324, 'angered': 13325, 'angers': 13326, 'annum': 13327, 'anu': 13328, 'apparent': 13329, 'appetite': 13330, 'approximately': 13331, 'apte': 13332, 'arena': 13333, 'arif': 13334, 'arihant': 13335, 'arriving': 13336, 'attendants': 13337, 'awas': 13338, 'azamgarh': 13339, 'bakery': 13340, 'bana': 13341, 'bass': 13342, 'bastion': 13343, 'bata': 13344, 'bathinda': 13345, 'battlefield': 13346, 'bd': 13347, 'begusarai': 13348, 'behest': 13349, 'belts': 13350, 'bhang': 13351, 'blatantly': 13352, 'blinded': 13353, 'bombed': 13354, 'bora': 13355, 'bps': 13356, 'breeds': 13357, 'browse': 13358, 'budding': 13359, 'bulb': 13360, 'bullion': 13361, 'butthurt': 13362, 'b’luru': 13363, 'cannes': 13364, 'cease': 13365, 'chandy': 13366, 'charming': 13367, 'chatterjee': 13368, 'chaudhuri': 13369, 'cheats': 13370, 'chorus': 13371, 'classics': 13372, 'classification': 13373, 'clearances': 13374, 'clicks': 13375, 'cliff': 13376, 'cloth': 13377, 'clout': 13378, 'cochin': 13379, 'cockroach': 13380, 'companion': 13381, 'compartment': 13382, 'concerning': 13383, 'confess': 13384, 'confidential': 13385, 'confronts': 13386, 'consciousness': 13387, 'constitutes': 13388, 'consumed': 13389, 'container': 13390, 'contested': 13391, 'corbett': 13392, 'costliest': 13393, 'coworking': 13394, 'csir': 13395, 'dais': 13396, 'darbar': 13397, 'dean': 13398, 'debris': 13399, 'debroy': 13400, 'defines': 13401, 'deleting': 13402, 'demon': 13403, 'deve': 13404, 'dhulai': 13405, 'digest': 13406, 'dinanath': 13407, 'disappearance': 13408, 'dismiss': 13409, 'diss': 13410, 'diu': 13411, 'diva': 13412, 'dmrc': 13413, 'dost': 13414, 'downloading': 13415, 'drown': 13416, 'ds': 13417, 'duping': 13418, 'edits': 13419, 'encountered': 13420, 'encryption': 13421, 'entrepreneurial': 13422, 'erase': 13423, 'erotic': 13424, 'escalation': 13425, 'ethnicity': 13426, 'examined': 13427, 'excitement': 13428, 'execute': 13429, 'exemptions': 13430, 'expiry': 13431, 'exploded': 13432, 'famed': 13433, 'favoured': 13434, 'fiji': 13435, 'filters': 13436, 'fixes': 13437, 'flames': 13438, 'flouting': 13439, 'flown': 13440, 'footpath': 13441, 'footsteps': 13442, 'footwear': 13443, 'fortnight': 13444, 'framing': 13445, 'freezes': 13446, 'frenzy': 13447, 'fries': 13448, 'fu': 13449, 'fundamentalism': 13450, 'gadget': 13451, 'garlic': 13452, 'gays': 13453, 'geet': 13454, 'gen.': 13455, 'generator': 13456, 'genetically': 13457, 'genital': 13458, 'ghosts': 13459, 'gifs': 13460, 'globalization': 13461, 'gloom': 13462, 'goair': 13463, 'googled': 13464, 'goosebumps': 13465, 'gopi': 13466, 'gopro': 13467, 'gratitude': 13468, 'greek': 13469, 'guilt': 13470, 'gulmarg': 13471, 'gurdaspur': 13472, 'h1n1': 13473, 'handi': 13474, 'happiest': 13475, 'hassle': 13476, 'hdil': 13477, 'healthier': 13478, 'hiking': 13479, 'homecoming': 13480, 'homoeopathy': 13481, 'horny': 13482, 'hounded': 13483, 'housewives': 13484, 'hyped': 13485, 'i5': 13486, 'ian': 13487, 'ideals': 13488, 'illustration': 13489, 'imaging': 13490, 'imax': 13491, 'immense': 13492, 'imperial': 13493, 'inherited': 13494, 'instance': 13495, 'interracial': 13496, 'interstellar': 13497, 'intimidation': 13498, 'invention': 13499, 'investigates': 13500, 'irks': 13501, 'islamophobic': 13502, 'isolate': 13503, 'jackets': 13504, 'jhunjhunwala': 13505, 'jingoism': 13506, 'johnny': 13507, 'jong': 13508, 'jr.': 13509, 'jud': 13510, 'jukebox': 13511, 'kaka': 13512, 'kaushik': 13513, 'keys': 13514, 'kn': 13515, 'knees': 13516, 'kullu': 13517, 'landfill': 13518, 'langar': 13519, 'lapses': 13520, 'laureates': 13521, 'leila': 13522, 'leslee': 13523, 'lingayats': 13524, 'listened': 13525, 'litigation': 13526, 'llb': 13527, 'lollipop': 13528, 'loopholes': 13529, 'losers': 13530, 'lounge': 13531, 'madrassa': 13532, 'maintains': 13533, 'mankind': 13534, 'marches': 13535, 'marksheet': 13536, 'marxist': 13537, 'mediate': 13538, 'meera': 13539, 'merchandise': 13540, 'mewat': 13541, 'mil': 13542, 'mileage': 13543, 'mimicry': 13544, 'miniature': 13545, 'miracles': 13546, 'mnp': 13547, 'molester': 13548, 'molesters': 13549, 'monitors': 13550, 'monsoons': 13551, 'morale': 13552, 'mosul': 13553, 'motorcycles': 13554, 'mourns': 13555, 'mri': 13556, 'mtech': 13557, 'mts': 13558, 'murshidabad': 13559, 'mushrooms': 13560, 'nagas': 13561, 'namaskar': 13562, 'namma': 13563, 'narcos': 13564, 'nasty': 13565, 'neeraj': 13566, 'nerve': 13567, 'ness': 13568, 'nikki': 13569, 'normally': 13570, 'np]how': 13571, 'np]why': 13572, 'ntr': 13573, 'oet': 13574, 'organs': 13575, 'orwell': 13576, 'overtaking': 13577, 'pakodas': 13578, 'pansare': 13579, 'parameters': 13580, 'paranoid': 13581, 'parental': 13582, 'parrot': 13583, 'parsis': 13584, 'pct': 13585, 'pelt': 13586, 'pertaining': 13587, 'phased': 13588, 'photographed': 13589, 'pilgrim': 13590, 'pinch': 13591, 'placard': 13592, 'placing': 13593, 'plotting': 13594, 'pointing': 13595, 'poke': 13596, 'powerhouse': 13597, 'ppe': 13598, 'ppp': 13599, 'prefers': 13600, 'presses': 13601, 'prithvi': 13602, 'procedures': 13603, 'programmers': 13604, 'protects': 13605, 'psbs': 13606, 'publishers': 13607, 'pun': 13608, 'puppet': 13609, 'q4': 13610, 'rants': 13611, 'raspberry': 13612, 'rd': 13613, 'reap': 13614, 'reasoning': 13615, 'reborn': 13616, 'receipt': 13617, 'recipient': 13618, 'recruiters': 13619, 'reflection': 13620, 'refrain': 13621, 'repeating': 13622, 'repeats': 13623, 'retaliatory': 13624, 'reviewing': 13625, 'rewrite': 13626, 'rhymes': 13627, 'rig': 13628, 'ringing': 13629, 'ringtone': 13630, 'ronaldo': 13631, 'roorkee': 13632, 'rooted': 13633, 'roughly': 13634, 'rumor': 13635, 'saas': 13636, 'saibaba': 13637, 'sakte': 13638, 'salaam': 13639, 'salahuddin': 13640, 'sanatan': 13641, 'saplings': 13642, 'saris': 13643, 'sartaj': 13644, 'satta': 13645, 'savitri': 13646, 'scamming': 13647, 'scars': 13648, 'scavengers': 13649, 'schoolgirl': 13650, 'scorecard': 13651, 'scs': 13652, 'seasons': 13653, 'sejal': 13654, 'sequence': 13655, 'sfi': 13656, 'shaikh': 13657, 'shivam': 13658, 'shobha': 13659, 'shore': 13660, 'showers': 13661, 'shunted': 13662, 'singhal': 13663, 'siri': 13664, 'skeletons': 13665, 'ski': 13666, 'slaughterhouses': 13667, 'slowest': 13668, 'slumps': 13669, 'snatch': 13670, 'socio': 13671, 'sourcing': 13672, 'spectacle': 13673, 'spills': 13674, 'spinner': 13675, 'spokesman': 13676, 'squadron': 13677, 'stains': 13678, 'strain': 13679, 'strategist': 13680, 'styles': 13681, 'su-30': 13682, 'subjected': 13683, 'substantial': 13684, 'substantially': 13685, 'sumitra': 13686, 'sundarbans': 13687, 'superman': 13688, 'sur': 13689, 'surcharge': 13690, 'swayamsevak': 13691, 'tactical': 13692, 'tapped': 13693, 'tedx': 13694, 'tehelka': 13695, 'tend': 13696, 'throne': 13697, 'tikka': 13698, 'toss': 13699, 'traded': 13700, 'trainee': 13701, 'traps': 13702, 'treason': 13703, 'trevor': 13704, 'tricolor': 13705, 'tripping': 13706, 'tso': 13707, 'tweak': 13708, 'udemy': 13709, 'udit': 13710, 'uloom': 13711, 'unanswered': 13712, 'unconditional': 13713, 'underlying': 13714, 'univ': 13715, 'unkills': 13716, 'unlawful': 13717, 'unocoin': 13718, 'urinating': 13719, 'utkal': 13720, 'utmost': 13721, 'uttam': 13722, 'uttrakhand': 13723, 'vaastu': 13724, 'vagina': 13725, 'vedanta': 13726, 'verses': 13727, 'vibes': 13728, 'virgins': 13729, 'viruses': 13730, 'visionary': 13731, 'w/': 13732, 'waited': 13733, 'waives': 13734, 'weaken': 13735, 'weds': 13736, 'widening': 13737, 'williams': 13738, 'yojna': 13739, 'आया': 13740, 'चीन': 13741, 'जा': 13742, 'जानें': 13743, 'ना': 13744, 'बेसिक': 13745, 'भाजपा': 13746, 'लेकर': 13747, 'वाली': 13748, 'सच': 13749, 'हार्दिक': 13750, 'কি': 13751, '₹2000': 13752, '🙂': 13753, '.......': 13754, '1.25': 13755, '106': 13756, '115': 13757, '136': 13758, '146': 13759, '15000': 13760, '157': 13761, '1960': 13762, '240': 13763, '272': 13764, '6.6': 13765, '737': 13766, '8.5': 13767, '950': 13768, '@amitshah': 13769, 'aapka': 13770, 'aboard': 13771, 'abolition': 13772, 'acclaimed': 13773, 'adverse': 13774, 'affection': 13775, 'aggarwal': 13776, 'ah': 13777, 'aided': 13778, 'aiff': 13779, 'airbus': 13780, 'airforce': 13781, 'akhlaq': 13782, 'akshardham': 13783, 'alauddin': 13784, 'albert': 13785, 'allied': 13786, 'altitude': 13787, 'alumnus': 13788, 'ambulances': 13789, 'amruta': 13790, 'ante': 13791, 'apis': 13792, 'apni': 13793, 'appease': 13794, 'approx': 13795, 'argued': 13796, 'arresting': 13797, 'asci': 13798, 'assassinated': 13799, 'astonishing': 13800, 'astra': 13801, 'astronomy': 13802, 'atul': 13803, 'auli': 13804, 'auspicious': 13805, 'authoritarian': 13806, 'autos': 13807, 'avoids': 13808, 'aya': 13809, 'ayyub': 13810, \"b'day\": 13811, 'backfire': 13812, 'baked': 13813, 'bananas': 13814, 'barrel': 13815, 'bba': 13816, 'bcg': 13817, 'beds': 13818, 'bernie': 13819, 'bestof': 13820, 'bhagalpur': 13821, 'biases': 13822, 'bibek': 13823, 'bifurcation': 13824, 'bigot': 13825, 'bigoted': 13826, 'bigots': 13827, 'bikaner': 13828, 'binge': 13829, 'biofuel': 13830, 'blackberry': 13831, 'blaze': 13832, 'bodo': 13833, 'bolster': 13834, 'bombshell': 13835, 'boomer': 13836, 'bosses': 13837, 'bouncers': 13838, 'boycotted': 13839, 'brainwashed': 13840, 'bravehearts': 13841, 'breached': 13842, 'breasts': 13843, 'buddhists': 13844, 'bullies': 13845, 'bumper': 13846, 'buzzers': 13847, 'byomkesh': 13848, 'bypassing': 13849, 'cabbie': 13850, 'cancelling': 13851, 'candidature': 13852, 'capitalante.com': 13853, 'capitals': 13854, 'carlsen': 13855, 'challenger': 13856, 'chalo': 13857, 'changa': 13858, 'chitra': 13859, 'chittorgarh': 13860, 'chopping': 13861, 'churn': 13862, 'clone': 13863, 'cocktail': 13864, 'colombo': 13865, 'compatible': 13866, 'compelled': 13867, 'competing': 13868, 'competitor': 13869, 'conclude': 13870, 'concluded': 13871, 'conditional': 13872, 'conditioning': 13873, 'conferencing': 13874, 'confrontation': 13875, 'conserve': 13876, 'consistently': 13877, 'creators': 13878, 'creatures': 13879, 'cringeworthy': 13880, 'cringy': 13881, 'cvoter': 13882, 'cyanogen': 13883, 'dadar': 13884, 'dads': 13885, 'daman': 13886, 'damania': 13887, 'dangerously': 13888, 'davis': 13889, 'dayal': 13890, 'decks': 13891, 'deducted': 13892, 'defaulter': 13893, 'defecate': 13894, 'defection': 13895, 'defended': 13896, 'defied': 13897, 'densely': 13898, 'deora': 13899, 'devanagari': 13900, 'dhfl': 13901, 'disclosing': 13902, 'discourage': 13903, 'discriminate': 13904, 'displays': 13905, 'disrupts': 13906, 'doctorate': 13907, \"don'ts\": 13908, 'donkeys': 13909, 'duke': 13910, 'dunkirk': 13911, 'eatery': 13912, 'embraces': 13913, 'emission': 13914, 'emraan': 13915, 'endless': 13916, 'enjoys': 13917, 'ensured': 13918, 'equals': 13919, 'erp': 13920, 'essence': 13921, 'euphoria': 13922, 'evade': 13923, 'evict': 13924, 'expertise': 13925, 'fading': 13926, 'faiths': 13927, 'faqs': 13928, 'fda': 13929, 'fedex': 13930, 'fiat': 13931, 'ficci': 13932, 'fielding': 13933, 'filmmaking': 13934, 'finder': 13935, 'fluent': 13936, 'font': 13937, 'forged': 13938, 'forging': 13939, 'forth': 13940, 'frustrating': 13941, 'gambling': 13942, 'garg': 13943, 'geo': 13944, 'ghalib': 13945, 'ghazipur': 13946, 'google+': 13947, 'gradually': 13948, 'grains': 13949, 'greeted': 13950, 'gujjus': 13951, 'gunda': 13952, 'handshake': 13953, 'harbour': 13954, 'harris': 13955, 'hasina': 13956, 'headset': 13957, 'hears': 13958, 'hima': 13959, 'himesh': 13960, 'hoisting': 13961, 'honking': 13962, 'honourable': 13963, 'hook': 13964, 'hospitality': 13965, 'hoti': 13966, 'hsr': 13967, 'hurls': 13968, 'idbi': 13969, 'idfc': 13970, 'idk': 13971, 'ig': 13972, 'imaginary': 13973, 'impacting': 13974, 'impeachment': 13975, 'impending': 13976, 'inability': 13977, 'indic': 13978, 'indirectly': 13979, 'infections': 13980, 'infiltrated': 13981, 'innocence': 13982, 'insist': 13983, 'instantly': 13984, 'intensive': 13985, 'interact': 13986, 'interfaith': 13987, 'invent': 13988, 'inventory': 13989, 'inverter': 13990, 'irrational': 13991, 'jamiat': 13992, 'janardhan': 13993, 'jd': 13994, 'jind': 13995, 'justices': 13996, 'kab': 13997, 'kanchenjunga': 13998, 'kaul': 13999, 'kenya': 14000, 'kerela': 14001, 'keshav': 14002, 'khadse': 14003, 'kheerganga': 14004, 'khemka': 14005, 'kisses': 14006, 'knowledgeable': 14007, 'koechlin': 14008, 'kolam': 14009, 'kondapalli': 14010, 'kurukshetra': 14011, 'lahiri': 14012, 'lakshman': 14013, 'lalla': 14014, 'lathicharge': 14015, 'legalise': 14016, 'legalising': 14017, 'lekin': 14018, 'leo': 14019, 'lips': 14020, 'litter': 14021, 'lng': 14022, 'lowering': 14023, 'lows': 14024, 'lyf': 14025, 'madlad': 14026, 'mahabalipuram': 14027, 'mahua': 14028, 'males': 14029, 'mama': 14030, 'mansarovar': 14031, 'martyrdom': 14032, 'matching': 14033, 'measuring': 14034, 'medallist': 14035, 'melania': 14036, 'memo': 14037, 'metals': 14038, 'mia': 14039, 'minerals': 14040, 'moderation': 14041, 'moitra': 14042, 'mortal': 14043, 'mortem': 14044, 'morty': 14045, 'motu': 14046, 'mudgal': 14047, 'mulakkal': 14048, 'mummy': 14049, 'mustafa': 14050, 'mutiny': 14051, 'mythological': 14052, 'naroda': 14053, 'neutrino': 14054, 'nh7': 14055, 'nick': 14056, 'nigerians': 14057, 'notion': 14058, 'np]indian': 14059, 'nptel': 14060, 'oct.': 14061, 'opec': 14062, 'org': 14063, 'packaged': 14064, 'padwa': 14065, 'paratha': 14066, 'parting': 14067, 'patriots': 14068, 'pensions': 14069, 'photojournalist': 14070, 'pipe': 14071, 'pitroda': 14072, 'pizzas': 14073, 'planners': 14074, 'pleasant': 14075, 'pod': 14076, 'pokhran': 14077, 'poonawalla': 14078, 'populism': 14079, 'possessing': 14080, 'practising': 14081, 'pranks': 14082, 'preliminary': 14083, 'premature': 14084, 'primarily': 14085, 'prisons': 14086, 'pritam': 14087, 'propoganda': 14088, 'publishes': 14089, 'puncture': 14090, 'qualifiers': 14091, 'quantity': 14092, 'quotas': 14093, 'r]/india': 14094, 'rabri': 14095, 'radicalisation': 14096, 'railwire': 14097, 'rajyavardhan': 14098, 'ransom': 14099, 'ranthambore': 14100, 'rarely': 14101, 'rcb': 14102, 'rcep': 14103, 'rebuttal': 14104, 'recapitalisation': 14105, 'reclaiming': 14106, 'recruited': 14107, 'reddiquette': 14108, 'redeem': 14109, 'redressal': 14110, 'refrigerator': 14111, 'rehabilitation': 14112, 'remittance': 14113, 'rented': 14114, 'repairing': 14115, 'restraint': 14116, 'retaliates': 14117, 'retard': 14118, 'revision': 14119, 'rhino': 14120, 'rot': 14121, 'ruby': 14122, 'saaho': 14123, 'sabotage': 14124, 'saini': 14125, 'sambar': 14126, 'sanders': 14127, 'sanghvi': 14128, 'scandals': 14129, 'scapegoat': 14130, 'scathing': 14131, 'scion': 14132, 'screaming': 14133, 'scum': 14134, 'seattle': 14135, 'semen': 14136, 'semis': 14137, 'sentinelese': 14138, 'sh': 14139, 'shankaracharya': 14140, 'showroom': 14141, 'sindhi': 14142, 'skinny': 14143, 'slides': 14144, 'slight': 14145, 'slur': 14146, 'sneakers': 14147, 'soaring': 14148, 'sophisticated': 14149, 'sourced': 14150, 'spammers': 14151, 'speechless': 14152, 'spoil': 14153, 'spouses': 14154, 'ssb': 14155, 'ssd': 14156, 'stashed': 14157, 'statutory': 14158, 'stings': 14159, 'streak': 14160, 'stresses': 14161, 'stringent': 14162, 'suburbs': 14163, 'suggesting': 14164, 'sukhbir': 14165, 'sukhdev': 14166, 'sukhoi': 14167, 'summers': 14168, 'superfast': 14169, 'supernatural': 14170, 'surf': 14171, 'swim': 14172, 'systematically': 14173, 'taboos': 14174, 'tapas': 14175, 'tawang': 14176, 'tearing': 14177, 'technically': 14178, 'technician': 14179, 'th': 14180, 'thar': 14181, 'tharki': 14182, 'theprint': 14183, 'thinkers': 14184, 'thor': 14185, 'timely': 14186, 'tiranga': 14187, 'toast': 14188, 'topped': 14189, 'trailers': 14190, 'trails': 14191, 'tricked': 14192, 'turbulence': 14193, 'tushar': 14194, 'unauthorized': 14195, 'unclaimed': 14196, 'unconscious': 14197, 'uneasy': 14198, 'unlocked': 14199, 'unscientific': 14200, 'unstable': 14201, 'unsure': 14202, 'updating': 14203, 'uprising': 14204, 'upvotes': 14205, 'veena': 14206, 'veggies': 14207, 'veil': 14208, 'versa': 14209, 'veterinary': 14210, 'vidyalaya': 14211, 'vinayak': 14212, 'vocabulary': 14213, 'void': 14214, 'voluntarily': 14215, 'waking': 14216, 'weekender': 14217, 'weigh': 14218, 'wells': 14219, 'winston': 14220, 'wired': 14221, 'worli': 14222, 'wsj': 14223, 'yogeshwar': 14224, 'zohra': 14225, 'अपना': 14226, 'अपनी': 14227, 'जान': 14228, 'नया': 14229, 'पे': 14230, 'पैसे': 14231, 'बनाये': 14232, 'मेरा': 14233, 'रह': 14234, 'हमारे': 14235, 'हॉट': 14236, '🏻\\u200d': 14237, '😃': 14238, '😉': 14239, '-the': 14240, '1,200': 14241, '1080': 14242, '117': 14243, '126': 14244, '129': 14245, '145': 14246, '147': 14247, '165': 14248, '18,000': 14249, '1954': 14250, '1977': 14251, '26-year': 14252, '4.7': 14253, '4032x2268': 14254, '45th': 14255, '499': 14256, '65-year': 14257, '66th': 14258, '80-year': 14259, 'a2': 14260, 'aaditya': 14261, 'aapko': 14262, 'aaptards': 14263, 'abbott': 14264, 'abhiyaan': 14265, 'abt': 14266, 'accelerator': 14267, 'accounted': 14268, 'acquaintance': 14269, 'activated': 14270, 'adolf': 14271, 'advertised': 14272, 'agony': 14273, 'airplane': 14274, 'akhil': 14275, 'allocated': 14276, 'allotted': 14277, 'amaze': 14278, 'amusing': 14279, 'anal': 14280, 'analogy': 14281, 'apolitical': 14282, 'archaic': 14283, 'arise': 14284, 'assess': 14285, 'atta': 14286, 'attenborough': 14287, 'attracting': 14288, 'attractions': 14289, 'avenger': 14290, 'avenue': 14291, 'avinash': 14292, 'awaaz': 14293, 'awful': 14294, 'ayog': 14295, 'babaji': 14296, 'balancing': 14297, 'balyan': 14298, 'bandwidth': 14299, 'barc': 14300, 'belagavi': 14301, 'beneath': 14302, 'berkeley': 14303, 'bhaijaan': 14304, 'bhel': 14305, 'bhosle': 14306, 'bhullar': 14307, 'bikram': 14308, 'bilkis': 14309, 'bindra': 14310, 'biswas': 14311, 'biting': 14312, 'blasters': 14313, 'bloodbath': 14314, 'bloom': 14315, 'blouse': 14316, 'bmtc': 14317, 'boasts': 14318, 'bodybuilding': 14319, 'bohra': 14320, 'booster': 14321, 'brazen': 14322, 'bribed': 14323, 'brighter': 14324, 'broker': 14325, 'brosnan': 14326, 'buddies': 14327, 'bungalows': 14328, 'c++': 14329, 'cadres': 14330, 'campaigners': 14331, 'carnage': 14332, 'cbdt': 14333, 'cern': 14334, 'chhetri': 14335, 'chiranjeevi': 14336, 'chortel': 14337, 'christine': 14338, 'chunk': 14339, 'cited': 14340, 'cj': 14341, 'coa': 14342, 'coffers': 14343, 'colaba': 14344, 'colonisation': 14345, 'columbia': 14346, 'compiled': 14347, 'congratulate': 14348, 'connects': 14349, 'constructing': 14350, 'consumes': 14351, 'corn': 14352, 'cornered': 14353, 'courtroom': 14354, 'creed': 14355, 'cremation': 14356, 'crickex': 14357, 'crisil': 14358, 'crispy': 14359, 'crusade': 14360, 'crushing': 14361, 'cultivation': 14362, 'culturally': 14363, 'daah': 14364, 'daal': 14365, 'dan': 14366, 'dancers': 14367, 'dantewada': 14368, 'daring': 14369, 'daro': 14370, 'decorated': 14371, 'demonstration': 14372, 'depiction': 14373, 'detains': 14374, 'deter': 14375, 'devs': 14376, 'dhaba': 14377, 'digibank': 14378, 'digitization': 14379, 'digs': 14380, 'disasters': 14381, 'discloses': 14382, 'discontinued': 14383, 'disqualifies': 14384, 'distraught': 14385, 'doggo': 14386, 'domains': 14387, 'dominos': 14388, 'doom': 14389, 'doping': 14390, 'dreaded': 14391, 'dreze': 14392, 'ece': 14393, 'eloping': 14394, 'emmanuel': 14395, 'endangering': 14396, 'endorses': 14397, 'enforcing': 14398, 'enhanced': 14399, 'enrolled': 14400, 'entertain': 14401, 'entertaining': 14402, 'envoys': 14403, 'erdogan': 14404, 'eroding': 14405, 'escalating': 14406, 'examines': 14407, 'examining': 14408, 'excavation': 14409, 'excluding': 14410, 'existential': 14411, 'expulsion': 14412, 'eyed': 14413, 'f**k': 14414, 'fabricated': 14415, 'facie': 14416, 'fairy': 14417, 'faizan': 14418, 'fanatic': 14419, 'fashionable': 14420, 'fetish': 14421, 'fiancee': 14422, 'finishing': 14423, 'flexi': 14424, 'fliers': 14425, 'follower': 14426, 'fond': 14427, 'foster': 14428, 'frankly': 14429, 'fulfil': 14430, 'g-20': 14431, 'g5s': 14432, 'gali': 14433, 'gama': 14434, 'gambit': 14435, 'gearing': 14436, 'generating': 14437, 'gestures': 14438, 'getaway': 14439, 'geyser': 14440, 'glaciers': 14441, 'glorifying': 14442, 'goats': 14443, 'goodness': 14444, 'gramin': 14445, 'greatness': 14446, 'grmd': 14447, 'gudi': 14448, 'habitat': 14449, 'haley': 14450, 'hammer': 14451, 'happier': 14452, 'harvey': 14453, 'hateful': 14454, 'hazard': 14455, 'heartbreak': 14456, 'heartwarming': 14457, 'heats': 14458, 'heed': 14459, 'hegemony': 14460, 'homeopathic': 14461, 'homi': 14462, 'hooch': 14463, 'hubby': 14464, 'i.e': 14465, 'illustrated': 14466, 'inconvenience': 14467, 'indicators': 14468, 'inflating': 14469, 'installs': 14470, 'intentions': 14471, 'introspection': 14472, 'invaders': 14473, 'isaac': 14474, 'isb': 14475, 'itunes': 14476, 'j&amp;k.': 14477, 'jacob': 14478, 'jagga': 14479, 'jaising': 14480, 'jeet': 14481, 'jerk': 14482, 'jeweller': 14483, 'jewels': 14484, 'jonas': 14485, 'jubilee': 14486, 'juggernaut': 14487, 'kaha': 14488, 'kal': 14489, 'kardashian': 14490, 'karte': 14491, 'karva': 14492, 'katiyar': 14493, 'keh': 14494, 'knocked': 14495, 'kokrajhar': 14496, 'kollam': 14497, 'komal': 14498, 'kothari': 14499, 'k’taka': 14500, 'labelled': 14501, 'lagging': 14502, 'landlords': 14503, 'lap': 14504, 'laundry': 14505, 'lavasa': 14506, 'lcd': 14507, 'leakage': 14508, 'lenses': 14509, 'licensing': 14510, 'limbo': 14511, 'lingerie': 14512, 'littering': 14513, 'locker': 14514, 'loksatta': 14515, 'louder': 14516, 'lungs': 14517, 'luring': 14518, 'madhubala': 14519, 'madhur': 14520, 'maharastra': 14521, 'mahira': 14522, 'malad': 14523, 'malai': 14524, 'mallu': 14525, 'marx': 14526, 'masarat': 14527, 'massacres': 14528, 'masterpiece': 14529, 'matlab': 14530, 'matrix': 14531, 'mazumdar': 14532, 'mcc': 14533, 'meaningless': 14534, 'mediocrity': 14535, 'mehmood': 14536, 'minimal': 14537, 'mirrors': 14538, 'misbehaving': 14539, 'mithali': 14540, 'monks': 14541, 'mornings': 14542, 'motherland': 14543, 'mounting': 14544, 'msmes': 14545, 'mufflerman': 14546, 'mukti': 14547, 'najma': 14548, 'narcotics': 14549, 'naukri': 14550, 'naxalite': 14551, 'newbie': 14552, 'niche': 14553, 'nikah': 14554, 'nostradamus': 14555, 'notinmyname': 14556, 'nrega': 14557, 'obesity': 14558, 'obliged': 14559, 'offences': 14560, 'offend': 14561, 'olympiad': 14562, 'organiser': 14563, 'organising': 14564, 'orwellian': 14565, 'outcry': 14566, 'outright': 14567, 'oven': 14568, 'p]olice': 14569, 'paani': 14570, 'paki': 14571, 'pamphlet': 14572, 'parliamentarians': 14573, 'partly': 14574, 'pattanaik': 14575, 'patterns': 14576, 'peanuts': 14577, 'pensioners': 14578, 'perceptions': 14579, 'peril': 14580, 'permissions': 14581, 'pesticides': 14582, 'phases': 14583, 'phishing': 14584, 'pickup': 14585, 'playbook': 14586, 'playstore': 14587, 'plotted': 14588, 'pointers': 14589, 'politicised': 14590, 'polity': 14591, 'postpones': 14592, 'prabhas': 14593, 'pradyuman': 14594, 'pressing': 14595, 'pretending': 14596, 'prevail': 14597, 'prima': 14598, 'princeton': 14599, 'problematic': 14600, 'punched': 14601, 'purana': 14602, 'questionable': 14603, 'radhakrishnan': 14604, 'radia': 14605, 'rahi': 14606, 'rajma': 14607, 'rajpath': 14608, 'rakshabandhan': 14609, 'rationale': 14610, 'rc': 14611, 'reactor': 14612, 'recharges': 14613, 'redefined': 14614, 'reflections': 14615, 'relaxed': 14616, 'renders': 14617, 'repayment': 14618, 'replicate': 14619, 'restrains': 14620, 'restructuring': 14621, 'retrieve': 14622, 'retweeted': 14623, 'rg': 14624, 'ripe': 14625, 'roadies': 14626, 'saal': 14627, 'sacking': 14628, 'sadness': 14629, 'sahi': 14630, 'sahitya': 14631, 'sambhaji': 14632, 'samosas': 14633, 'sane': 14634, 'sanstha': 14635, 'savitribai': 14636, 'scarcity': 14637, 'scooters': 14638, 'scream': 14639, 'screened': 14640, 'scroll': 14641, 'seasonal': 14642, 'sectarian': 14643, 'seemingly': 14644, 'seer': 14645, 'seizures': 14646, 'settings': 14647, 'sez': 14648, 'sh*t': 14649, 'shadows': 14650, 'shames': 14651, 'shani': 14652, 'shaping': 14653, 'shariat': 14654, 'shedding': 14655, 'shivakumar': 14656, 'shopkeeper': 14657, 'siasat': 14658, 'sigma': 14659, 'simmba': 14660, 'sirf': 14661, 'sitar': 14662, 'situated': 14663, 'skipped': 14664, 'slamming': 14665, 'slaughtered': 14666, 'sleeps': 14667, 'slipped': 14668, 'slippers': 14669, 'slut': 14670, 'socks': 14671, 'sofia': 14672, 'soman': 14673, 'sorted': 14674, 'soumya': 14675, 'sounded': 14676, 'sovereignty': 14677, 'srm': 14678, 'stan': 14679, 'standby': 14680, 'stateless': 14681, 'sticky': 14682, 'stokes': 14683, 'stoned': 14684, 'stored': 14685, 'storms': 14686, 'strengthens': 14687, 'subsequent': 14688, 'subtitle': 14689, 'sunburn': 14690, 'sundays': 14691, 'surendra': 14692, 'swarajya': 14693, 'swastika': 14694, 'sync': 14695, 'tabla': 14696, 'tabs': 14697, 'tatti': 14698, 'terminated': 14699, 'thankful': 14700, 'thanking': 14701, 'theni': 14702, 'thru': 14703, 'tibetans': 14704, 'tolerated': 14705, 'tricky': 14706, 'tujhe': 14707, 'tunes': 14708, 'tweaks': 14709, 'typing': 14710, 'u-19': 14711, 'u.k.': 14712, 'ugadi': 14713, 'ultimately': 14714, 'umbrella': 14715, 'unavailable': 14716, 'unconventional': 14717, 'uncovers': 14718, 'undercover': 14719, 'undermining': 14720, 'unequal': 14721, 'unfulfilled': 14722, 'unplugged': 14723, 'usha': 14724, 'validation': 14725, 'vanakkam': 14726, 'vertical': 14727, 'vile': 14728, 'vishwanath': 14729, 'visualization': 14730, 'vocal': 14731, 'voucher': 14732, 'vox': 14733, 'wards': 14734, 'weakest': 14735, 'wellness': 14736, 'whiskey': 14737, 'womens': 14738, 'ww1': 14739, 'yediyurappa': 14740, 'ys': 14741, 'zoomcar': 14742, 'गांधी': 14743, 'चाहिए': 14744, 'पीएम': 14745, 'बच्चों': 14746, 'बनाने': 14747, 'बाबा': 14748, 'बीएड': 14749, 'मिला': 14750, 'सवाल': 14751, 'सामने': 14752, 'हाथ': 14753, 'होंगे': 14754, 'होली': 14755, '😘': 14756, '-2': 14757, '10-day': 14758, '150th': 14759, '16,000': 14760, '170': 14761, '190': 14762, '1900': 14763, '1914': 14764, '1943': 14765, '1976': 14766, '1s': 14767, '2.8': 14768, '200,000': 14769, '2500': 14770, '275': 14771, '3-month': 14772, '365': 14773, '4.8': 14774, '45,000': 14775, '68th': 14776, '8.1': 14777, 'a.p.': 14778, 'aaja': 14779, 'aarogya': 14780, 'abraham': 14781, 'accha': 14782, 'activa': 14783, 'activate': 14784, 'acute': 14785, 'adidas': 14786, 'admire': 14787, 'aise': 14788, 'albums': 14789, 'alto': 14790, 'analyse': 14791, 'ananya': 14792, 'ancestral': 14793, 'ani_news': 14794, 'apk': 14795, 'applause': 14796, 'appraisal': 14797, 'archer': 14798, 'archery': 14799, 'arvindkejriwal': 14800, 'ashraf': 14801, 'ashwini': 14802, 'asianet': 14803, 'assembled': 14804, 'astrophysicist': 14805, 'atrocity': 14806, 'attendant': 14807, 'attracted': 14808, 'aws': 14809, 'aye': 14810, 'baffled': 14811, 'bagged': 14812, 'baniya': 14813, 'bappi': 14814, 'barb': 14815, 'bargain': 14816, 'batala': 14817, 'bathing': 14818, 'berserk': 14819, 'bhagwati': 14820, 'bhalla': 14821, 'bharatpur': 14822, 'bhiwandi': 14823, 'bhp': 14824, 'bhupen': 14825, 'blunders': 14826, 'bridal': 14827, 'brothels': 14828, 'brush': 14829, 'bulbs': 14830, 'bullish': 14831, 'bush': 14832, 'buyhatke': 14833, 'caliphate': 14834, 'cartoonscape': 14835, 'chanted': 14836, 'chauvinism': 14837, 'che': 14838, 'cherry': 14839, 'chickens': 14840, 'choked': 14841, 'civilized': 14842, 'coined': 14843, 'colored': 14844, 'commissioners': 14845, 'competitors': 14846, 'comply': 14847, 'composition': 14848, 'confined': 14849, 'congestion': 14850, 'constituent': 14851, 'contacted': 14852, 'containment': 14853, 'cooker': 14854, 'cooling': 14855, 'countering': 14856, 'crashing': 14857, 'creep': 14858, 'crippling': 14859, 'crumbling': 14860, 'cue': 14861, 'curtains': 14862, 'cutoff': 14863, 'd.': 14864, 'damned': 14865, 'darkest': 14866, 'datta': 14867, 'dcp': 14868, 'deadlines': 14869, 'deadlock': 14870, 'debunks': 14871, 'decker': 14872, 'dekhenge': 14873, 'delight': 14874, 'deloitte': 14875, 'demonstrates': 14876, 'denmark': 14877, 'depicts': 14878, 'desired': 14879, 'despacito': 14880, 'devotee': 14881, 'devyani': 14882, 'dhamaka': 14883, 'dhanoa': 14884, 'diagnosis': 14885, 'dileep': 14886, 'dining': 14887, 'dis': 14888, 'disadvantages': 14889, 'discredit': 14890, 'discriminated': 14891, 'disgusted': 14892, 'displaying': 14893, 'distances': 14894, 'distinct': 14895, 'ditches': 14896, 'documented': 14897, 'dodge': 14898, 'dogfight': 14899, 'dokalam': 14900, 'dons': 14901, 'doraemon': 14902, 'dota': 14903, 'doubtful': 14904, 'downgrade': 14905, 'drastic': 14906, 'dri': 14907, 'drugmakers': 14908, 'dubbing': 14909, 'dubey': 14910, 'duniya': 14911, 'durant': 14912, 'dusu': 14913, 'dutee': 14914, 'dw': 14915, 'dynasties': 14916, 'eager': 14917, 'earphone': 14918, 'edible': 14919, 'egyptian': 14920, 'eknath': 14921, 'eleven': 14922, 'elizabeth': 14923, 'emoji': 14924, 'emulate': 14925, 'engineered': 14926, 'enrollment': 14927, 'entries': 14928, 'envy': 14929, 'epw': 14930, 'equities': 14931, 'eric': 14932, 'evacuate': 14933, 'exceptional': 14934, 'exempts': 14935, 'expanded': 14936, 'expressions': 14937, 'facelift': 14938, 'fad': 14939, 'fanaticism': 14940, 'fatalities': 14941, 'favourable': 14942, 'fernandes': 14943, 'feroz': 14944, 'fervour': 14945, 'filings': 14946, 'finishes': 14947, 'fitted': 14948, 'flavoured': 14949, 'floors': 14950, 'frees': 14951, 'fundamentalists': 14952, 'fy20': 14953, 'gadchiroli': 14954, 'gadwal': 14955, 'gajendra': 14956, 'gangsters': 14957, 'garage': 14958, 'germans': 14959, 'glacier': 14960, 'gobar': 14961, 'godavari': 14962, 'goddamn': 14963, 'golwalkar': 14964, 'gormint': 14965, 'gotra': 14966, 'grads': 14967, 'gravitational': 14968, 'guardians': 14969, 'guidebook': 14970, 'gullible': 14971, 'gunmen': 14972, 'h1-b': 14973, 'handsets': 14974, 'hans': 14975, 'happily': 14976, 'heist': 14977, 'hesitate': 14978, 'hinduphobia': 14979, 'holdings': 14980, 'homestay': 14981, \"hon'ble\": 14982, 'honorable': 14983, 'hopeless': 14984, 'housefull': 14985, 'iff': 14986, 'iifa': 14987, 'improvements': 14988, 'impunity': 14989, 'incomes': 14990, 'indicator': 14991, 'indicted': 14992, 'indonesian': 14993, 'indrani': 14994, 'infectious': 14995, 'influencers': 14996, 'inhuman': 14997, 'inserted': 14998, \"int'l\": 14999, 'intermediary': 15000, 'introspect': 15001, 'ioc': 15002, 'irritating': 15003, 'israelis': 15004, 'itna': 15005, 'ivy': 15006, 'jaane': 15007, 'jacqueline': 15008, 'jao': 15009, 'jatt': 15010, 'jaw': 15011, 'jessica': 15012, 'js': 15013, 'judged': 15014, 'judgments': 15015, 'junket': 15016, 'kajal': 15017, 'karl': 15018, 'karzai': 15019, 'kgf': 15020, 'khehar': 15021, 'khetan': 15022, 'kingpin': 15023, 'kissed': 15024, 'kl': 15025, 'koffee': 15026, 'krishnamurthy': 15027, 'kurla': 15028, 'kuwait': 15029, 'lad': 15030, 'lasik': 15031, 'latur': 15032, 'layoff': 15033, 'learns': 15034, 'leopards': 15035, 'licenses': 15036, 'lil': 15037, 'livelihoods': 15038, 'liverpool': 15039, 'livestock': 15040, 'lizard': 15041, 'locking': 15042, 'locomotive': 15043, 'lookout': 15044, 'los': 15045, 'louis': 15046, 'loyalists': 15047, 'madame': 15048, 'majoritarian': 15049, 'malign': 15050, 'mathematician': 15051, 'mca': 15052, 'medianama': 15053, 'medicinal': 15054, 'mergers': 15055, 'merkel': 15056, 'mlc': 15057, 'mln': 15058, 'modernisation': 15059, 'modia': 15060, 'mohenjo': 15061, 'moily': 15062, 'mota': 15063, 'mudiji': 15064, 'mukkabaaz': 15065, 'multiplex': 15066, 'mumbaikar': 15067, 'murky': 15068, 'muscular': 15069, 'muted': 15070, 'mutt': 15071, 'mythical': 15072, 'ncc': 15073, 'needing': 15074, 'nehruvian': 15075, 'newborns': 15076, 'nh': 15077, 'nikkei': 15078, 'nita': 15079, 'nominate': 15080, 'nooyi': 15081, 'nougat': 15082, 'nps': 15083, 'nytimes': 15084, 'occur': 15085, 'odis': 15086, 'offerings': 15087, 'og': 15088, 'olive': 15089, 'opponent': 15090, 'opted': 15091, 'optional': 15092, 'opts': 15093, 'ott': 15094, 'outoftheloop': 15095, 'overcoming': 15096, 'packing': 15097, 'param': 15098, 'parched': 15099, 'parlours': 15100, 'paths': 15101, 'payer': 15102, 'payroll': 15103, 'pegasus': 15104, 'penal': 15105, 'peon': 15106, 'pepper': 15107, 'perfumes': 15108, 'ping': 15109, 'pneumonia': 15110, 'pond': 15111, 'posh': 15112, 'postcards': 15113, 'pots': 15114, 'pours': 15115, 'preach': 15116, 'predators': 15117, 'premchand': 15118, 'prescribed': 15119, 'preserving': 15120, 'prevails': 15121, 'primer': 15122, 'privileges': 15123, 'prizes': 15124, 'productions': 15125, 'psl': 15126, 'psycho': 15127, 'pujari': 15128, 'punia': 15129, 'purely': 15130, 'purification': 15131, 'pussy': 15132, 'qamar': 15133, 'qr': 15134, 'questionnaire': 15135, 'quikr': 15136, 'raftaar': 15137, 'rahane': 15138, 'rajni': 15139, 'recieved': 15140, 'recreate': 15141, 'recruiter': 15142, 'recruiting': 15143, 'recycle': 15144, 'redefine': 15145, 'redefining': 15146, 'relaxation': 15147, 'render': 15148, 'resorting': 15149, 'restoring': 15150, 'reunite': 15151, 'revamped': 15152, 'reverses': 15153, 'revise': 15154, 'ridiculed': 15155, 'rightly': 15156, 'roadblock': 15157, 'roses': 15158, 'roster': 15159, 'rotten': 15160, 'rstv': 15161, 'runaway': 15162, 'sabse': 15163, 'saddened': 15164, 'saheb': 15165, 'sangli': 15166, 'sanjaya': 15167, 'saragarhi': 15168, 'sath': 15169, 'scenic': 15170, 'schengen': 15171, 'scott': 15172, 'scottish': 15173, 'scramble': 15174, 'scumbag': 15175, 'securing': 15176, 'selects': 15177, 'sene': 15178, 'settles': 15179, 'settling': 15180, 'severed': 15181, 'sewers': 15182, 'shaina': 15183, 'shaking': 15184, 'shark': 15185, 'shobhaa': 15186, 'shoddy': 15187, 'shopclues': 15188, 'shorter': 15189, 'shortfall': 15190, 'shruti': 15191, 'shud': 15192, 'sindh': 15193, 'siphoned': 15194, 'sixes': 15195, 'sketches': 15196, 'skipping': 15197, 'slang': 15198, 'slept': 15199, 'slowed': 15200, 'smashed': 15201, 'snapshot': 15202, 'snubbed': 15203, 'soda': 15204, 'solely': 15205, 'somaiya': 15206, 'soni': 15207, 'sore': 15208, 'spar': 15209, 'splurge': 15210, 'spoiling': 15211, 'spurs': 15212, 'spurt': 15213, 'srijan': 15214, 'stab': 15215, 'storytelling': 15216, 'straw': 15217, 'stricken': 15218, 'sudarshan': 15219, 'sudha': 15220, 'supplying': 15221, 'suppressed': 15222, 'supremacist': 15223, 'surreal': 15224, 'swach': 15225, 'swapan': 15226, 'taarak': 15227, 'tapping': 15228, 'tavleen': 15229, 'taxman': 15230, 'teamindus': 15231, 'techno': 15232, 'tent': 15233, 'territorial': 15234, 'tet': 15235, 'theirs': 15236, 'therapist': 15237, 'thinker': 15238, 'thirst': 15239, 'tho': 15240, 'throats': 15241, 'thunder': 15242, 'thwart': 15243, 'tiff': 15244, 'tollygunge': 15245, 'touring': 15246, 'treasures': 15247, 'treatments': 15248, 'trivia': 15249, 'trivial': 15250, 'twisted': 15251, 'tying': 15252, 'typo': 15253, 'u19': 15254, 'ud': 15255, 'uhd': 15256, 'unclear': 15257, 'uncut': 15258, 'undemocratic': 15259, 'understands': 15260, 'unedited': 15261, 'uneducated': 15262, 'unhrc': 15263, 'unhurt': 15264, 'unicorns': 15265, 'url': 15266, 'ux': 15267, 'varieties': 15268, 'veiled': 15269, 'vested': 15270, 'villager': 15271, 'volvo': 15272, 'wagon': 15273, 'wannacry': 15274, 'wapasi': 15275, 'warden': 15276, 'wastage': 15277, 'wealthiest': 15278, 'wicket': 15279, 'wilderness': 15280, 'wilful': 15281, 'wink': 15282, 'wion': 15283, 'wound': 15284, 'wrt': 15285, 'yaar': 15286, 'yew': 15287, 'yousafzai': 15288, 'zafar': 15289, 'میں': 15290, 'आसान': 15291, 'ऑनलाइन': 15292, 'गई': 15293, 'छात्र': 15294, 'दे': 15295, 'देखे': 15296, 'परिषदीय': 15297, 'बिहार': 15298, 'सकता': 15299, 'सब': 15300, 'हजार': 15301, '😳': 15302, '🤗': 15303, '-_-': 15304, '0*/0': 15305, '1,400': 15306, '100-crore': 15307, '122': 15308, '169': 15309, '1942': 15310, '1k': 15311, '2.25': 15312, '21,000': 15313, '21-day': 15314, '390': 15315, '3k': 15316, '3s': 15317, '4.4': 15318, '75th': 15319, '8000': 15320, '@aamaadmiparty': 15321, '@swamy39': 15322, 'aaptard': 15323, 'abcd': 15324, 'accomplished': 15325, 'acp': 15326, 'acre': 15327, 'adam': 15328, 'admins': 15329, 'aicc': 15330, 'ajmal': 15331, 'ak-47': 15332, 'algorithms': 15333, 'allocates': 15334, 'ambassadors': 15335, 'amigo': 15336, 'amusement': 15337, 'ancestry': 15338, 'antics': 15339, 'aparna': 15340, 'apne': 15341, 'apocalypse': 15342, 'applicant': 15343, 'arabs': 15344, 'archaeological': 15345, 'archbishop': 15346, 'assemble': 15347, 'assemblies': 15348, 'asserts': 15349, 'attendees': 15350, 'autopsy': 15351, 'autozone': 15352, 'axed': 15353, 'ayyappa': 15354, 'backfires': 15355, 'balakrishnan': 15356, 'balkrishna': 15357, 'banknote': 15358, 'barge': 15359, 'barmer': 15360, 'batti': 15361, 'beacons': 15362, 'bearers': 15363, 'beautification': 15364, 'begged': 15365, 'beings': 15366, 'bellandur': 15367, 'berths': 15368, 'bhagwad': 15369, 'bhanu': 15370, 'bhatkal': 15371, 'bicycles': 15372, 'bimstec': 15373, 'biodiversity': 15374, 'birbhum': 15375, 'births': 15376, 'blend': 15377, 'blot': 15378, 'bp': 15379, 'braid': 15380, 'bravo': 15381, 'brij': 15382, 'brooks': 15383, 'bulletproof': 15384, 'bump': 15385, 'burj': 15386, 'burma': 15387, 'buyback': 15388, 'bwf': 15389, 'cad': 15390, 'cafes': 15391, 'calves': 15392, 'captions': 15393, 'castle': 15394, 'catchy': 15395, 'celeb': 15396, 'certifications': 15397, 'cet': 15398, 'chaotic': 15399, 'charkha': 15400, 'chaurasia': 15401, 'chawal': 15402, 'checker': 15403, 'cheques': 15404, 'chi': 15405, 'cholesterol': 15406, 'classifieds': 15407, 'classmates': 15408, 'classrooms': 15409, 'cleans': 15410, 'cmd': 15411, 'cmie': 15412, 'cng': 15413, 'co.': 15414, 'co2': 15415, 'coercive': 15416, 'collusion': 15417, 'colorized': 15418, 'commands': 15419, 'commemorate': 15420, 'comparisons': 15421, 'compassion': 15422, 'component': 15423, 'conservatives': 15424, 'console': 15425, 'consolidate': 15426, 'constituted': 15427, 'contained': 15428, 'contentious': 15429, 'controller': 15430, 'conveniently': 15431, 'corps': 15432, 'corpus': 15433, 'costa': 15434, 'councillors': 15435, 'cpu': 15436, 'crafted': 15437, 'crappy': 15438, 'cremate': 15439, 'cremated': 15440, 'criminalising': 15441, 'crossfire': 15442, 'ct': 15443, 'cubs': 15444, 'curd': 15445, 'dailymotion': 15446, 'dara': 15447, 'dared': 15448, 'davidson': 15449, 'ddlj': 15450, 'dealings': 15451, 'debated': 15452, 'declassified': 15453, 'decoded': 15454, 'dedicate': 15455, 'derailments': 15456, 'descent': 15457, 'deserted': 15458, 'destroyer': 15459, 'detecting': 15460, 'dettol': 15461, 'deutsche': 15462, 'deva': 15463, 'devastated': 15464, 'dhana': 15465, 'dharam': 15466, 'dhyan': 15467, 'diagnostic': 15468, 'dialysis': 15469, 'differentiate': 15470, 'dignitaries': 15471, 'discontinue': 15472, 'disguised': 15473, 'dismissal': 15474, 'disney+': 15475, 'disproportionate': 15476, 'distinction': 15477, 'ditched': 15478, 'dive': 15479, 'diverting': 15480, 'diving': 15481, 'dominating': 15482, 'dongle': 15483, 'downed': 15484, 'drowns': 15485, 'drunken': 15486, 'dwindling': 15487, 'dysfunctional': 15488, 'easing': 15489, 'economical': 15490, 'edm': 15491, 'embarrass': 15492, 'empathy': 15493, 'empowered': 15494, 'enables': 15495, 'encroachment': 15496, 'enmity': 15497, 'enthusiast': 15498, 'essays': 15499, 'evaluating': 15500, 'existent': 15501, 'exploit': 15502, 'expressing': 15503, 'ey': 15504, 'factions': 15505, 'faizabad': 15506, 'fantasies': 15507, 'farah': 15508, 'fareed': 15509, 'fatf': 15510, 'fatima': 15511, 'feasibility': 15512, 'fellows': 15513, 'fierce': 15514, 'filmy': 15515, 'firozabad': 15516, 'fishy': 15517, 'fledged': 15518, 'foeticide': 15519, 'forgery': 15520, 'fr': 15521, 'freedoms': 15522, 'frm': 15523, 'ftw': 15524, 'fuckin': 15525, 'fundamentals': 15526, 'furnish': 15527, 'fy16': 15528, 'gaana': 15529, 'gandhian': 15530, 'geek': 15531, 'geeks': 15532, 'geopolitics': 15533, 'ghoomar': 15534, 'glasgow': 15535, 'glowing': 15536, 'goenka': 15537, 'golds': 15538, 'gopalkrishna': 15539, 'gossip': 15540, 'gourd': 15541, 'governed': 15542, 'grades': 15543, 'grenades': 15544, 'groped': 15545, 'guides': 15546, 'gunman': 15547, 'gutkha': 15548, 'gyms': 15549, 'h1': 15550, 'halves': 15551, 'hamare': 15552, 'hamper': 15553, 'harasses': 15554, 'harbhajan': 15555, 'harshvardhan': 15556, 'haveli': 15557, 'hazardous': 15558, 'heating': 15559, 'holland': 15560, 'homophobic': 15561, 'hone': 15562, 'hpcl': 15563, 'hs': 15564, 'hul': 15565, 'humility': 15566, 'hun': 15567, 'hurl': 15568, 'husain': 15569, 'ians': 15570, 'iffi': 15571, 'iiit': 15572, 'inadequate': 15573, 'incursion': 15574, 'indiainvestments': 15575, 'indices': 15576, 'inflammatory': 15577, 'infographics': 15578, 'ingredient': 15579, 'initially': 15580, 'inox': 15581, 'insects': 15582, 'insiders': 15583, 'inspite': 15584, 'intercaste': 15585, 'invaded': 15586, 'investigators': 15587, 'involves': 15588, 'ironic': 15589, 'ix': 15590, 'j7': 15591, 'jaaniye': 15592, 'jailbreak': 15593, 'jaisha': 15594, 'jasoos': 15595, 'jasprit': 15596, 'jd(s': 15597, 'jeopardy': 15598, 'jingle': 15599, 'jiosaavn': 15600, 'judging': 15601, 'jurassic': 15602, 'jurisdiction': 15603, 'kalmadi': 15604, 'kameez': 15605, 'kangaroo': 15606, 'kapur': 15607, 'karat': 15608, 'karne': 15609, 'karwa': 15610, 'khabardar': 15611, 'khas': 15612, 'khelo': 15613, 'kindness': 15614, 'koinex': 15615, 'kp': 15616, 'kr': 15617, 'kyun': 15618, 'laddu': 15619, 'laila': 15620, 'lame': 15621, 'larry': 15622, 'lasagna': 15623, 'lash': 15624, 'lasted': 15625, 'lasts': 15626, 'latestly': 15627, 'learner': 15628, 'lectures': 15629, 'legalization': 15630, 'li': 15631, 'liberalization': 15632, 'lick': 15633, 'lightly': 15634, 'liking': 15635, 'll': 15636, 'locate': 15637, 'logged': 15638, 'logos': 15639, 'loom': 15640, 'lunchbox': 15641, 'madhavan': 15642, 'mahabaleshwar': 15643, 'mahadayi': 15644, 'maine': 15645, 'mangroves': 15646, 'mao': 15647, 'massacred': 15648, 'masturbating': 15649, 'matched': 15650, 'maternal': 15651, 'mcgregor': 15652, 'meghnad': 15653, 'meltdown': 15654, 'mfw': 15655, 'mica': 15656, 'millets': 15657, 'mithun': 15658, 'mlm': 15659, 'modem': 15660, 'modes': 15661, 'mohun': 15662, 'monetization': 15663, 'motivate': 15664, 'mrs.': 15665, 'mt.': 15666, 'munshi': 15667, 'mural': 15668, 'muralidhar': 15669, 'murderous': 15670, 'murthal': 15671, 'mystic': 15672, 'nag': 15673, 'nathu': 15674, 'naturopathy': 15675, 'navic': 15676, 'naxalites': 15677, 'netbanking': 15678, 'nhi': 15679, 'nielsen': 15680, 'nightmares': 15681, 'nike': 15682, 'nirbhay': 15683, 'notable': 15684, 'np]i': 15685, 'nsso': 15686, 'nudity': 15687, 'numerous': 15688, 'obituary': 15689, 'obscure': 15690, 'obtaining': 15691, 'offending': 15692, 'ooltah': 15693, 'orf': 15694, 'osho': 15695, 'outage': 15696, 'overdue': 15697, 'p]olitics': 15698, 'packets': 15699, 'padmini': 15700, 'paperwork': 15701, 'parallels': 15702, 'parvesh': 15703, 'passionate': 15704, 'patrika': 15705, 'peacocks': 15706, 'peculiar': 15707, 'pelter': 15708, 'penguin': 15709, 'penn': 15710, 'penny': 15711, 'performer': 15712, 'perfume': 15713, 'perils': 15714, 'persistent': 15715, 'philanthropy': 15716, 'phobia': 15717, 'phrases': 15718, 'piles': 15719, 'pins': 15720, 'pinto': 15721, 'pio': 15722, 'playboy': 15723, 'poetic': 15724, 'poets': 15725, 'pokémon': 15726, 'pollute': 15727, 'pompeo': 15728, 'popped': 15729, 'populations': 15730, 'possibilities': 15731, 'practically': 15732, 'practitioners': 15733, 'predicting': 15734, 'prestige': 15735, 'prolonged': 15736, 'proofs': 15737, 'proposition': 15738, 'pujara': 15739, 'punishes': 15740, 'punishments': 15741, 'pura': 15742, 'purge': 15743, 'purify': 15744, 'purse': 15745, 'qawwali': 15746, 'queensland': 15747, 'quoran': 15748, 'r&amp;aw': 15749, 'rabbit': 15750, 'raina': 15751, 'raisina': 15752, 'rajghat': 15753, 'ramani': 15754, 'ramchandra': 15755, 'ramnath': 15756, 'ramon': 15757, 'ranting': 15758, 'rationalist': 15759, 'rave': 15760, 'raza': 15761, 'readiness': 15762, 'realises': 15763, 'rebound': 15764, 'recipients': 15765, 'recites': 15766, 'reckless': 15767, 'recount': 15768, 'reel': 15769, 'reign': 15770, 'relieve': 15771, 'relieved': 15772, 'renovation': 15773, 'reopens': 15774, 'resemblance': 15775, 'reservoir': 15776, 'resignations': 15777, 'restart': 15778, 'revoking': 15779, 'richa': 15780, 'rightwing': 15781, 'risked': 15782, 'rld': 15783, 'rollback': 15784, 'roommates': 15785, 'roughed': 15786, 'rs.1000': 15787, 'rubber': 15788, 'russell': 15789, 'sadanand': 15790, 'sadananda': 15791, 'sailors': 15792, 'salesman': 15793, 'samba': 15794, 'samson': 15795, 'sanctity': 15796, 'sandesh': 15797, 'sang': 15798, 'sanskaari': 15799, 'sanskar': 15800, 'satisfying': 15801, 'satyam': 15802, 'savita': 15803, 'sayeed': 15804, 'scribe': 15805, 'scriptures': 15806, 'seaplane': 15807, 'secunderabad': 15808, 'seemandhra': 15809, 'separately': 15810, 'serene': 15811, 'sethi': 15812, 'seychelles': 15813, 'shakuntala': 15814, 'shambles': 15815, 'shaurya': 15816, 'shaving': 15817, 'sheds': 15818, 'sheen': 15819, 'sheena': 15820, 'sheeran': 15821, 'shields': 15822, 'shiny': 15823, 'shipment': 15824, 'shipments': 15825, 'shivaratri': 15826, 'shubh': 15827, 'sikhism': 15828, 'siliguri': 15829, 'simplify': 15830, 'sivan': 15831, 'skeleton': 15832, 'smells': 15833, 'smiles': 15834, 'smps': 15835, 'soiled': 15836, 'someday': 15837, 'sonali': 15838, 'sood': 15839, 'sop': 15840, 'sopore': 15841, 'sorts': 15842, 'spammed': 15843, 'spineless': 15844, 'spooky': 15845, 'srivastava': 15846, 'stayzilla': 15847, 'stint': 15848, 'strengthening': 15849, 'strife': 15850, 'succession': 15851, 'suspending': 15852, 'sweepers': 15853, 'tailers': 15854, 'tamannaah': 15855, 'tamasha': 15856, 'tantrik': 15857, 'techcrunch': 15858, 'tee': 15859, 'telenor': 15860, 'tempered': 15861, 'tencent': 15862, 'tenth': 15863, 'tents': 15864, 'terminals': 15865, 'tf': 15866, 'thanos': 15867, 'throwaway': 15868, 'ticketing': 15869, 'tiffin': 15870, 'tightening': 15871, 'tiles': 15872, 'tina': 15873, 'tintin': 15874, 'tiss': 15875, 'toffee': 15876, 'topple': 15877, 'touts': 15878, 'trashes': 15879, 'trio': 15880, 'triund': 15881, 'tropical': 15882, 'trustworthy': 15883, 'udayagiri': 15884, 'uncovered': 15885, 'underestimate': 15886, 'undergoes': 15887, 'undermined': 15888, 'undue': 15889, 'unexplored': 15890, 'unforgettable': 15891, 'unilever': 15892, 'unreserved': 15893, 'urbanization': 15894, 'vaccines': 15895, 'vacuum': 15896, 'vaiko': 15897, 'vain': 15898, 'vanished': 15899, 'variants': 15900, 'vasco': 15901, 'ved': 15902, 'venice': 15903, 'vessels': 15904, 'viber': 15905, 'vicky': 15906, 'viewership': 15907, 'vine': 15908, 'visualisation': 15909, 'vortex': 15910, 'votebank': 15911, 'waris': 15912, 'warne': 15913, 'warrants': 15914, 'waving': 15915, 'weakening': 15916, 'weavers': 15917, 'wechat': 15918, 'westland': 15919, 'wilbur': 15920, 'wipes': 15921, 'writings': 15922, 'xxx': 15923, 'yamaha': 15924, 'ysrcp': 15925, 'z2': 15926, 'zanskar': 15927, 'کا': 15928, 'आरती': 15929, 'उनके': 15930, 'तैयार': 15931, 'देगा': 15932, 'नई': 15933, 'पता': 15934, 'पांच': 15935, 'बच्चे': 15936, 'बड़ी': 15937, 'बने': 15938, 'रात': 15939, 'ले': 15940, 'संबंध': 15941, 'स्कूल': 15942, '₹1': 15943, '₹1000': 15944, '🇰': 15945, '💔': 15946, '🤷': 15947, '1,100': 15948, '1.9': 15949, '107': 15950, '109': 15951, '114': 15952, '116': 15953, '1280': 15954, '1950s': 15955, '1952': 15956, '1955': 15957, '1969': 15958, '1974': 15959, '1986': 15960, '2.6': 15961, '25k': 15962, '3,700': 15963, '330': 15964, '45-year': 15965, '5.6': 15966, '6.8': 15967, '60k': 15968, '660': 15969, '7.2': 15970, '7.4': 15971, '71st': 15972, '@manjultoons': 15973, '@ndtv': 15974, 'aai': 15975, 'aane': 15976, 'aapka.store': 15977, 'achieves': 15978, 'acquisitions': 15979, 'adhar': 15980, 'aeroplane': 15981, 'affordability': 15982, 'agendas': 15983, 'aggregators': 15984, 'ahmednagar': 15985, 'akin': 15986, 'alot': 15987, 'alpha': 15988, 'altogether': 15989, 'amish': 15990, 'analyze': 15991, 'anecdotes': 15992, 'angela': 15993, 'anika': 15994, 'anjana': 15995, 'annapurna': 15996, 'anshu': 15997, 'anup': 15998, 'apologised': 15999, 'applauds': 16000, 'aptitude': 16001, 'aravind': 16002, 'aryans': 16003, 'ashrams': 16004, 'assange': 16005, 'astronauts': 16006, 'auctioned': 16007, 'audiences': 16008, 'autocracy': 16009, 'avni': 16010, 'awardees': 16011, 'awe': 16012, 'ay': 16013, 'b2b': 16014, 'babasaheb': 16015, 'babita': 16016, 'bacha': 16017, 'bade': 16018, 'bagan': 16019, 'balasaheb': 16020, 'bannon': 16021, 'banter': 16022, 'bastards': 16023, 'batchmate': 16024, 'battered': 16025, 'battled': 16026, 'bazar': 16027, 'beed': 16028, 'beers': 16029, 'befikre': 16030, 'bel': 16031, 'bh': 16032, 'bhide': 16033, 'bhogle': 16034, 'bidar': 16035, 'birthplace': 16036, 'bk': 16037, 'blah': 16038, 'bleeds': 16039, 'blocker': 16040, 'bohot': 16041, 'bombings': 16042, 'bothered': 16043, 'bout': 16044, 'breakingnews': 16045, 'bribing': 16046, 'broadcaster': 16047, 'bruce': 16048, 'bure': 16049, 'buster': 16050, 'butcher': 16051, 'butchered': 16052, 'cage': 16053, 'capsule': 16054, 'caricature': 16055, 'carolina': 16056, 'cartosat': 16057, 'casually': 16058, 'cbd': 16059, 'chaat': 16060, 'chaliye': 16061, 'chambers': 16062, 'chandrayan': 16063, 'chapters': 16064, 'chardham': 16065, 'checkmate': 16066, 'chillar': 16067, 'chin': 16068, 'cod': 16069, 'combating': 16070, 'commemorating': 16071, 'compelling': 16072, 'compiling': 16073, 'compromising': 16074, 'confessed': 16075, 'consignment': 16076, 'consulted': 16077, 'continuously': 16078, 'contributor': 16079, 'convey': 16080, 'coronation': 16081, 'cosmetics': 16082, 'cosplay': 16083, 'couch': 16084, 'creasing': 16085, 'cronyism': 16086, 'crushes': 16087, 'culinary': 16088, 'cyanide': 16089, 'ddca': 16090, 'decay': 16091, 'decor': 16092, 'deepening': 16093, 'deepest': 16094, 'demat': 16095, 'demolishes': 16096, 'demonetise': 16097, 'demonization': 16098, 'density': 16099, 'deo': 16100, 'dependence': 16101, 'derailed': 16102, 'deserving': 16103, 'destitute': 16104, 'detailing': 16105, 'devgan': 16106, 'devotion': 16107, 'dhanush': 16108, 'dhinakaran': 16109, 'dials': 16110, 'dictate': 16111, 'digits': 16112, 'dilution': 16113, 'dinakaran': 16114, 'directing': 16115, 'dishonesty': 16116, 'disinfectant': 16117, 'disinvestment': 16118, 'disposable': 16119, 'disqualify': 16120, 'divan': 16121, 'divider': 16122, 'divisions': 16123, 'doctored': 16124, 'dossier': 16125, 'drafting': 16126, 'dubs': 16127, 'dusshera': 16128, 'dyer': 16129, 'dyfi': 16130, 'earbuds': 16131, 'edu': 16132, 'effigies': 16133, 'emergence': 16134, 'emotion': 16135, 'enabling': 16136, 'enclosure': 16137, 'enlighten': 16138, 'enlightened': 16139, 'enormous': 16140, 'eradicate': 16141, 'ernakulam': 16142, 'eros': 16143, 'erstwhile': 16144, 'escalates': 16145, 'establishing': 16146, 'estranged': 16147, 'ethos': 16148, 'etihad': 16149, 'evangelist': 16150, 'evolving': 16151, 'exclude': 16152, 'exec': 16153, 'expectation': 16154, 'expedite': 16155, 'extensive': 16156, 'extravagant': 16157, 'eyewitnesses': 16158, 'f-16s': 16159, 'factordaily': 16160, 'faesal': 16161, 'fanatics': 16162, 'farooqui': 16163, 'fart': 16164, 'fbi': 16165, 'feathers': 16166, 'fellas': 16167, 'ferrying': 16168, 'fiance': 16169, 'fidget': 16170, 'fiery': 16171, 'finalists': 16172, 'flavour': 16173, 'foam': 16174, 'foodgrain': 16175, 'foray': 16176, 'forehead': 16177, 'frontend': 16178, 'fucks': 16179, 'fueling': 16180, 'fuelling': 16181, 'fuming': 16182, 'functionary': 16183, 'gallantry': 16184, 'galore': 16185, 'gandu': 16186, 'garb': 16187, 'garner': 16188, 'gaushala': 16189, 'gayle': 16190, 'genes': 16191, 'georgia': 16192, 'gigafiber': 16193, 'giri': 16194, 'girlfriends': 16195, 'gloomy': 16196, 'glorified': 16197, 'golmaal': 16198, 'googling': 16199, 'goregaon': 16200, 'govinda': 16201, 'grams': 16202, 'graphs': 16203, 'grassroots': 16204, 'gravy': 16205, 'grievances': 16206, 'grooms': 16207, 'gulab': 16208, 'gulshan': 16209, 'gymnastics': 16210, 'hafeez': 16211, 'halala': 16212, 'handing': 16213, 'hardliners': 16214, 'hare': 16215, 'harming': 16216, 'harrassment': 16217, 'harsimrat': 16218, 'hashimpura': 16219, 'hatao': 16220, 'haunting': 16221, 'hauz': 16222, 'hawk': 16223, 'hdr': 16224, 'heaps': 16225, 'hearted': 16226, 'heater': 16227, 'hemraj': 16228, 'hiranandani': 16229, 'hitachi': 16230, 'hitchens': 16231, 'hod': 16232, 'hotter': 16233, 'https': 16234, 'hughes': 16235, 'humanities': 16236, 'hungama': 16237, 'hunted': 16238, 'hunts': 16239, 'identical': 16240, 'idukki': 16241, 'iin': 16242, 'iiser': 16243, 'immigrate': 16244, 'inaugural': 16245, 'inculcate': 16246, 'indeco': 16247, 'independently': 16248, \"india's18\": 16249, 'india.com': 16250, 'india[np': 16251, 'indiandailylive': 16252, 'indiatoday': 16253, 'indifference': 16254, 'inexpensive': 16255, 'inferior': 16256, 'infoservices': 16257, 'infy': 16258, 'inland': 16259, 'inld': 16260, 'inmate': 16261, 'innovators': 16262, 'interacting': 16263, 'interiors': 16264, 'internet.org': 16265, 'interrogation': 16266, 'intra': 16267, 'introvert': 16268, 'inventiva': 16269, 'irnss': 16270, 'jafri': 16271, 'jagannath': 16272, 'jamun': 16273, 'janpath': 16274, 'jauhar': 16275, 'jmm': 16276, 'jockey': 16277, 'jon': 16278, 'jsw': 16279, 'judwaa': 16280, 'jul': 16281, 'jumbo': 16282, 'kajol': 16283, 'karaoke': 16284, 'karnad': 16285, 'kehte': 16286, 'khel': 16287, 'khobragade': 16288, 'khoon': 16289, 'kirana': 16290, 'kirron': 16291, 'kisi': 16292, 'kkr': 16293, 'kohinoor': 16294, 'kshatriya': 16295, 'kt': 16296, 'ktm': 16297, 'kunj': 16298, 'kv': 16299, 'lassi': 16300, 'leftists': 16301, 'legalized': 16302, 'leisure': 16303, 'lends': 16304, 'lewd': 16305, 'lewis': 16306, 'listeners': 16307, 'lonavala': 16308, 'lsd': 16309, 'lurch': 16310, 'lurking': 16311, 'madam': 16312, 'magenta': 16313, 'majeed': 16314, 'mandarin': 16315, 'manekshaw': 16316, 'manesar': 16317, 'manga': 16318, 'margins': 16319, 'marin': 16320, 'marines': 16321, 'mario': 16322, 'marking': 16323, 'matheran': 16324, 'maturity': 16325, 'mckinsey': 16326, 'meddle': 16327, 'medicos': 16328, 'mediocre': 16329, 'melt': 16330, 'messiah': 16331, 'methodology': 16332, 'mexican': 16333, 'midway': 16334, 'minar': 16335, 'misbehave': 16336, 'misbehaviour': 16337, 'mitchell': 16338, 'miui': 16339, 'moderated': 16340, 'mole': 16341, 'morocco': 16342, 'motive': 16343, 'mountbatten': 16344, 'mourn': 16345, 'muffler': 16346, 'murdabad': 16347, 'murga': 16348, 'mwc': 16349, 'nagma': 16350, 'nahargarh': 16351, 'nalin': 16352, 'namah': 16353, 'narsingh': 16354, 'nationalistic': 16355, 'nato': 16356, 'nay': 16357, 'ndrf': 16358, 'necessarily': 16359, 'neil': 16360, 'nets': 16361, 'nitesh': 16362, 'nithari': 16363, 'noam': 16364, 'nonstop': 16365, 'nova': 16366, 'np]this': 16367, 'oasis': 16368, 'obstacles': 16369, 'occasions': 16370, 'oecd': 16371, 'omegle': 16372, 'omelette': 16373, 'onlookers': 16374, 'operandi': 16375, 'optical': 16376, 'osmania': 16377, 'overheard': 16378, 'overtaken': 16379, 'overtime': 16380, 'owing': 16381, 'panchami': 16382, 'pandemics': 16383, 'panther': 16384, 'paranoia': 16385, 'pathology': 16386, 'patriarchal': 16387, 'peacekeepers': 16388, 'peddler': 16389, 'pehchan': 16390, 'pehle': 16391, 'pehredaar': 16392, 'pendant': 16393, 'penetration': 16394, 'petals': 16395, 'phantom': 16396, 'pickles': 16397, 'pioneering': 16398, 'pissing': 16399, 'pits': 16400, 'platinum': 16401, 'polar': 16402, 'polarise': 16403, 'poorna': 16404, 'posed': 16405, 'postmortem': 16406, 'practiced': 16407, 'prada': 16408, 'pradeep': 16409, 'prawns': 16410, 'pretend': 16411, 'pretentious': 16412, 'prevailing': 16413, 'priceless': 16414, 'prints': 16415, 'procure': 16416, 'prodigy': 16417, 'pumped': 16418, 'pumpkin': 16419, 'purple': 16420, 'qualifying': 16421, 'quantico': 16422, 'raag': 16423, 'ramakrishna': 16424, 'randias': 16425, 'rappers': 16426, 'ravishankar': 16427, 'rcr': 16428, 'readying': 16429, 'reagan': 16430, 'realising': 16431, 'rebirth': 16432, 'reconstruction': 16433, 'reeling': 16434, 'regains': 16435, 'regulators': 16436, 'reinstates': 16437, 'repealed': 16438, 'researched': 16439, 'resembles': 16440, 'resentment': 16441, 'responsibilities': 16442, 'resulting': 16443, 'revered': 16444, 'revert': 16445, 'revoke': 16446, 'riches': 16447, 'riddle': 16448, 'ripping': 16449, 'ripples': 16450, 'rishta': 16451, 'rohtang': 16452, 'roller': 16453, 'roped': 16454, 'royalty': 16455, 'rpf': 16456, 'rs.500': 16457, 'rushes': 16458, 'sabyasachi': 16459, 'samiti': 16460, 'samjhauta': 16461, 'sangrur': 16462, 'saran': 16463, 'saravana': 16464, 'satyendar': 16465, 'saveourprivacy': 16466, 'savior': 16467, 'scooty': 16468, 'scourge': 16469, 'seelampur': 16470, 'seers': 16471, 'selecting': 16472, 'semifinal': 16473, 'sennheiser': 16474, 'sensors': 16475, 'serviced': 16476, 'serviceman': 16477, 'shabana': 16478, 'shakhas': 16479, 'shamelessly': 16480, 'shanghai': 16481, 'sharmaji': 16482, 'shaved': 16483, 'shaves': 16484, 'sheetal': 16485, 'shooters': 16486, 'showcases': 16487, 'showdown': 16488, 'shuttler': 16489, 'sibling': 16490, 'siding': 16491, 'signatures': 16492, 'sinister': 16493, 'skyline': 16494, 'slaughterhouse': 16495, 'sleeper': 16496, 'sleepless': 16497, 'sleeve': 16498, 'slim': 16499, 'smartwatch': 16500, 'sniper': 16501, 'soc': 16502, 'soch': 16503, 'solapur': 16504, 'soothing': 16505, 'sounding': 16506, 'spectator': 16507, 'spewing': 16508, 'spinning': 16509, 'splitsvilla': 16510, 'splitting': 16511, 'squash': 16512, 'srilanka': 16513, 'starve': 16514, 'stink': 16515, 'stipend': 16516, 'strangled': 16517, 'strays': 16518, 'stripping': 16519, 'stronghold': 16520, 'stumped': 16521, 'stupas': 16522, 'su-30mki': 16523, 'suite': 16524, 'suman': 16525, 'summed': 16526, 'superhit': 16527, 'superseries': 16528, 'surnames': 16529, 'swapping': 16530, 'swarup': 16531, 'swathi': 16532, 'sway': 16533, 'syrian': 16534, 'syrup': 16535, 'tara': 16536, 'tasks': 16537, 'taxable': 16538, 'taxiforsure': 16539, 'telco': 16540, 'tele': 16541, 'teltumbde': 16542, 'termites': 16543, 'terrific': 16544, 'thirty': 16545, 'thou': 16546, 'thrill': 16547, 'thrilling': 16548, 'thunderstorm': 16549, 'tim': 16550, 'timeless': 16551, 'titanic': 16552, 'titli': 16553, 'tore': 16554, 'torturing': 16555, 'township': 16556, 'trades': 16557, 'treks': 16558, 'ttv': 16559, 'tun': 16560, 'turtle': 16561, 'tussauds': 16562, 'tyres': 16563, 'u.s.-india': 16564, 'u17': 16565, 'ubuntu': 16566, 'uh': 16567, 'ulfa': 16568, 'unborn': 16569, 'uncanny': 16570, 'uncharted': 16571, 'underpaid': 16572, 'unreliable': 16573, 'unsold': 16574, 'unstoppable': 16575, 'unwell': 16576, 'updation': 16577, 'uphold': 16578, 'urbanisation': 16579, 'urmila': 16580, 'utilize': 16581, 'vague': 16582, 'vastudekho': 16583, 'vegas': 16584, 'vegetarianism': 16585, 'venugopal': 16586, 'vibe': 16587, 'vigilant': 16588, 'wahi': 16589, 'wakes': 16590, 'warangal': 16591, 'washes': 16592, 'wastes': 16593, 'watchman': 16594, 'wax': 16595, 'weakened': 16596, 'webinar': 16597, 'whilst': 16598, 'whining': 16599, 'widen': 16600, 'withdrew': 16601, 'worn': 16602, 'worshipped': 16603, 'worthless': 16604, 'wud': 16605, 'xperia': 16606, 'xpress': 16607, 'xvideos': 16608, 'yemen': 16609, 'yureka': 16610, 'zakaria': 16611, 'zara': 16612, 'zok': 16613, 'अंतिम': 16614, 'आए': 16615, 'आने': 16616, 'कैसा': 16617, 'खुद': 16618, 'जनता': 16619, 'जानकारी': 16620, 'जानते': 16621, 'जानिये': 16622, 'देख': 16623, 'नरेंद्र': 16624, 'नोट': 16625, 'परिवार': 16626, 'पानी': 16627, 'पेंशन': 16628, 'प्यार': 16629, 'फतेहपुर': 16630, 'बजट': 16631, 'बन': 16632, 'बड़ा': 16633, 'भगवान': 16634, 'मंत्र': 16635, 'महीने': 16636, 'वायरल': 16637, 'सकती': 16638, 'सरकारी': 16639, 'हिन्दी': 16640, 'होती': 16641, '₹200': 16642, '♥': 16643, '😔': 16644, '😤': 16645, '😲': 16646, '.........': 16647, '1.75': 16648, '12.5': 16649, '121': 16650, '123': 16651, '162': 16652, '177': 16653, '1930s': 16654, '1957': 16655, '1990s': 16656, '1bhk': 16657, '1bn': 16658, '20000': 16659, '2018-': 16660, '2019-': 16661, '2028': 16662, '208': 16663, '225': 16664, '23,000': 16665, '265': 16666, '290': 16667, '3,600': 16668, '3.1': 16669, '3.4': 16670, '3.7': 16671, '300,000': 16672, '309': 16673, '35th': 16674, '4a': 16675, '5k': 16676, '5s': 16677, '5x': 16678, '7.6': 16679, '7.9': 16680, '90-year': 16681, '9pm': 16682, ':|': 16683, '@bjp4india': 16684, 'a7': 16685, 'aapke': 16686, 'aashiqui': 16687, 'abandoning': 16688, 'aborted': 16689, 'accountancy': 16690, 'acne': 16691, 'activation': 16692, 'adi': 16693, 'adverts': 16694, 'afghans': 16695, 'agm': 16696, 'agnihotri': 16697, 'airfares': 16698, 'alabama': 16699, 'alexander': 16700, 'altered': 16701, 'aluminum': 16702, 'amending': 16703, 'amol': 16704, 'anganwadi': 16705, 'angeles': 16706, 'angural': 16707, 'anita': 16708, 'anthony': 16709, 'anticipatory': 16710, 'apmc': 16711, 'appalling': 16712, 'apples': 16713, 'appropriation': 16714, 'argentina': 16715, 'armour': 16716, 'arrow': 16717, 'aruna': 16718, 'asiatic': 16719, 'aspiration': 16720, 'assertion': 16721, 'assessing': 16722, 'asthma': 16723, 'audible': 16724, 'aura': 16725, 'avenues': 16726, 'b.com': 16727, 'backbone': 16728, 'backdrop': 16729, 'bahujan': 16730, 'bajwa': 16731, 'banging': 16732, 'barefoot': 16733, 'basin': 16734, 'beam': 16735, 'belated': 16736, 'berklee': 16737, 'betterment': 16738, 'beverage': 16739, 'bff': 16740, 'bhadana': 16741, 'bhagvad': 16742, 'bhaji': 16743, 'bhangarh': 16744, 'bhartiya': 16745, 'bibi': 16746, 'bijapur': 16747, 'bind': 16748, 'bindi': 16749, 'biotechnology': 16750, 'biriyani': 16751, 'bisht': 16752, 'blasphemous': 16753, 'blink': 16754, 'boiling': 16755, 'bolo': 16756, 'booed': 16757, 'booms': 16758, 'borewell': 16759, 'borrowed': 16760, 'bovine': 16761, 'boyfriends': 16762, 'bpcl': 16763, 'brainwashing': 16764, 'breaker': 16765, 'brightest': 16766, 'brits': 16767, 'bsy': 16768, 'bt': 16769, 'buffs': 16770, 'bum': 16771, 'burman': 16772, 'cadbury': 16773, 'calgary': 16774, 'cambodia': 16775, 'camels': 16776, 'cameraman': 16777, 'cans': 16778, 'capitalists': 16779, 'cared': 16780, 'caribbean': 16781, 'caring': 16782, 'cartel': 16783, 'cartosat-2': 16784, 'cashbacks': 16785, 'cashing': 16786, 'castration': 16787, 'catalogue': 16788, 'cg': 16789, 'chahal': 16790, 'champs': 16791, 'channa': 16792, 'chashmah': 16793, 'chefs': 16794, 'chewing': 16795, 'chikmagalur': 16796, 'chile': 16797, 'chills': 16798, 'chinchwad': 16799, 'choti': 16800, 'chutiyapa': 16801, 'clarified': 16802, 'climbers': 16803, 'cloudy': 16804, 'clues': 16805, 'cluster': 16806, 'clusters': 16807, 'clutches': 16808, 'cmo': 16809, 'coastline': 16810, 'cock': 16811, 'codegenie': 16812, 'coldest': 16813, 'colgate': 16814, 'collage': 16815, 'complicit': 16816, 'compliment': 16817, 'concentrate': 16818, 'concessions': 16819, 'consolidated': 16820, 'consti': 16821, 'constitute': 16822, 'contemplating': 16823, 'contraceptives': 16824, 'corporators': 16825, 'cosmic': 16826, 'counseling': 16827, 'countless': 16828, 'courageous': 16829, 'cricketing': 16830, 'crow': 16831, 'cso': 16832, 'cues': 16833, 'curbed': 16834, 'cuttack': 16835, 'damning': 16836, 'deadpool': 16837, 'debts': 16838, 'debunk': 16839, 'decently': 16840, 'decongest': 16841, 'defaults': 16842, 'defensive': 16843, 'deficiency': 16844, 'deforestation': 16845, 'degradation': 16846, 'dehli': 16847, 'deletion': 16848, 'delighted': 16849, 'delusional': 16850, 'dense': 16851, 'derby': 16852, 'detractors': 16853, 'detroit': 16854, 'digi': 16855, 'diluted': 16856, 'disappoint': 16857, 'discharge': 16858, 'disclaimer': 16859, 'disconnect': 16860, 'disconnected': 16861, 'discrepancies': 16862, 'disk': 16863, 'disowned': 16864, 'disposed': 16865, 'disregard': 16866, 'dissertation': 16867, 'dissolve': 16868, 'distortions': 16869, 'distressed': 16870, 'ditching': 16871, 'divorces': 16872, 'dosanjh': 16873, 'downgrades': 16874, 'downs': 16875, 'downtown': 16876, 'downturn': 16877, 'downvoted': 16878, 'dramatically': 16879, 'drums': 16880, 'duet': 16881, 'dumbest': 16882, 'dun': 16883, 'dvd': 16884, 'dzire': 16885, 'eam': 16886, 'elopes': 16887, 'empowers': 16888, 'enclave': 16889, 'encourages': 16890, 'enroute': 16891, 'environmentalists': 16892, 'eps': 16893, 'erosion': 16894, 'erroneous': 16895, 'essel': 16896, 'ethanol': 16897, 'evangelical': 16898, 'exceeding': 16899, 'exceeds': 16900, 'excitel': 16901, 'explode': 16902, 'exploding': 16903, 'eyebrows': 16904, 'fabulous': 16905, 'factbox': 16906, 'factchecker': 16907, 'factual': 16908, 'falsehoods': 16909, 'fap': 16910, 'fared': 16911, 'fcc': 16912, 'felling': 16913, 'fema': 16914, 'finalised': 16915, 'fisherman': 16916, 'fishes': 16917, 'fixation': 16918, 'flaunts': 16919, 'flawless': 16920, 'flexible': 16921, 'flora': 16922, 'flouted': 16923, 'fml': 16924, 'fo': 16925, 'foe': 16926, 'forceful': 16927, 'forgetting': 16928, 'fraternity': 16929, 'freezing': 16930, 'frightening': 16931, 'frog': 16932, 'futuristic': 16933, 'g4': 16934, 'ga': 16935, 'gaan': 16936, 'gaga': 16937, 'gail': 16938, 'gaja': 16939, 'gals': 16940, 'garland': 16941, 'gaur': 16942, 'gemstones': 16943, 'generals': 16944, 'genre': 16945, 'getaways': 16946, 'ghandi': 16947, 'ghazal': 16948, 'ghoshal': 16949, 'glow': 16950, 'goans': 16951, 'gomutra': 16952, 'goon': 16953, 'govern': 16954, 'grasslands': 16955, 'gratia': 16956, 'grocer': 16957, 'gt;&gt': 16958, 'guessing': 16959, 'guidebooks': 16960, 'gutted': 16961, 'gyaan': 16962, 'handedly': 16963, 'handicrafts': 16964, 'handover': 16965, 'haram': 16966, 'hardline': 16967, 'harivansh': 16968, 'haryanvi': 16969, 'hash': 16970, 'hawker': 16971, 'headmaster': 16972, 'hedge': 16973, 'heer': 16974, 'heera': 16975, 'herat': 16976, 'hercules': 16977, 'herd': 16978, 'heroic': 16979, 'highlighted': 16980, 'hina': 16981, 'hmd': 16982, 'hsc': 16983, 'hubs': 16984, 'humane': 16985, 'hydro': 16986, 'hydropower': 16987, 'hypocritical': 16988, 'iamsatyajeet': 16989, 'ico': 16990, 'ie': 16991, 'illegitimate': 16992, 'illuminati': 16993, 'illustrator': 16994, 'imagery': 16995, 'imitation': 16996, 'immensely': 16997, 'immortal': 16998, 'implants': 16999, 'implies': 17000, 'impotent': 17001, 'imtiaz': 17002, 'ina': 17003, 'inactive': 17004, 'incendiary': 17005, 'inception': 17006, 'incumbency': 17007, 'indelible': 17008, 'indictment': 17009, 'indigenously': 17010, 'induced': 17011, 'inefficient': 17012, 'influences': 17013, 'informing': 17014, 'infuriating': 17015, 'infusing': 17016, 'injection': 17017, 'injunction': 17018, 'insurgents': 17019, 'intake': 17020, 'interacts': 17021, 'interstate': 17022, 'intriguing': 17023, 'intrusion': 17024, 'invade': 17025, 'involve': 17026, 'ir': 17027, 'iraqi': 17028, 'irregular': 17029, 'ishant': 17030, 'islami': 17031, 'jaganmohan': 17032, 'jasleen': 17033, 'javelin': 17034, 'jeevan': 17035, 'jerseys': 17036, 'jew': 17037, 'jhajharia': 17038, 'jihadists': 17039, 'jogi': 17040, 'joints': 17041, 'jorhat': 17042, 'journals': 17043, 'julie': 17044, 'jutti': 17045, 'kaabil': 17046, 'kaala': 17047, 'kairana': 17048, 'kalyani': 17049, 'kamasutra': 17050, 'karthik': 17051, 'katra': 17052, 'khandu': 17053, 'khaps': 17054, 'khurana': 17055, 'kickass': 17056, 'kilometers': 17057, 'knocks': 17058, 'kotla': 17059, 'krishnamurti': 17060, 'krugman': 17061, 'ktr': 17062, 'kurnool': 17063, 'kurti': 17064, 'kvs': 17065, 'kyu': 17066, 'kyunki': 17067, 'lagta': 17068, 'lanes': 17069, 'las': 17070, 'layman': 17071, 'leonardo': 17072, 'leprosy': 17073, 'leyland': 17074, 'liberties': 17075, 'lid': 17076, 'lining': 17077, 'locomotives': 17078, 'lokesh': 17079, 'lokniti': 17080, 'lop': 17081, 'lucrative': 17082, 'lyrical': 17083, 'm.p.': 17084, 'mahapanchayat': 17085, 'maharashtrian': 17086, 'mahavir': 17087, 'maliwal': 17088, 'manipulating': 17089, 'manpower': 17090, 'mapped': 17091, 'marc': 17092, 'marlena': 17093, 'masculinity': 17094, 'mcleodganj': 17095, 'meddling': 17096, 'mediclaim': 17097, 'mehr': 17098, 'melinda': 17099, 'mend': 17100, 'meow': 17101, 'merce': 17102, 'messy': 17103, 'methi': 17104, 'mika': 17105, 'mildlyinteresting': 17106, 'milia': 17107, 'millennium': 17108, 'mis': 17109, 'miserably': 17110, 'misery': 17111, 'mizo': 17112, 'mobilise': 17113, 'moderator': 17114, 'modules': 17115, 'modus': 17116, 'mohabbat': 17117, 'mongers': 17118, 'monsters': 17119, 'moots': 17120, 'morally': 17121, 'moron': 17122, 'morons': 17123, 'motives': 17124, 'motwane': 17125, 'muhammed': 17126, 'mukerji': 17127, 'mystical': 17128, 'natives': 17129, 'navaratri': 17130, 'naxalism': 17131, 'ncap': 17132, 'nearing': 17133, 'negotiating': 17134, 'network18': 17135, 'newer': 17136, 'nexon': 17137, 'nino': 17138, 'nishant': 17139, 'novelist': 17140, 'np]a': 17141, 'np]need': 17142, 'nusrat': 17143, 'nvidia': 17144, 'nye': 17145, \"o'brien\": 17146, 'oblivion': 17147, 'obscenity': 17148, 'okhla': 17149, 'onlinerti': 17150, 'onslaught': 17151, 'onus': 17152, 'oof': 17153, 'ookla': 17154, 'operas': 17155, 'operatives': 17156, 'ordinances': 17157, 'orphanages': 17158, 'oust': 17159, 'outburst': 17160, 'overcharging': 17161, 'overcrowded': 17162, 'overlooking': 17163, 'overpriced': 17164, 'padmanabhaswamy': 17165, 'pageant': 17166, 'pained': 17167, 'pakora': 17168, 'palghar': 17169, 'pamphlets': 17170, 'panasonic': 17171, 'papad': 17172, 'parel': 17173, 'part-2': 17174, 'pasand': 17175, 'pasta': 17176, 'pattnaik': 17177, 'payout': 17178, 'pearls': 17179, 'pellets': 17180, 'peripheral': 17181, 'pest': 17182, 'philips': 17183, 'phoenix': 17184, 'pib': 17185, 'pipes': 17186, 'plateau': 17187, 'playlists': 17188, 'plazas': 17189, 'pokhriyal': 17190, 'polarization': 17191, 'pollachi': 17192, 'porting': 17193, 'portraying': 17194, 'postpone': 17195, 'powering': 17196, 'ppc': 17197, 'pracharak': 17198, 'pragmatic': 17199, 'preaching': 17200, 'preservation': 17201, 'privatise': 17202, 'privatization': 17203, 'prix': 17204, 'projections': 17205, 'proliferation': 17206, 'prompted': 17207, 'pronounced': 17208, 'prosper': 17209, 'protector': 17210, 'protectors': 17211, 'proudly': 17212, 'provoked': 17213, 'psychedelic': 17214, 'pu': 17215, 'pujo': 17216, 'punches': 17217, 'punishing': 17218, 'pyre': 17219, 'quack': 17220, 'qutub': 17221, 'rabi': 17222, 'rabid': 17223, 'rabies': 17224, 'racer': 17225, 'radicalised': 17226, 'rainwater': 17227, 'rake': 17228, 'ramps': 17229, 'ramya': 17230, 'ranganathan': 17231, 'ranger': 17232, 'rann': 17233, 'rays': 17234, 'realization': 17235, 'recordings': 17236, 'redundant': 17237, 'rehearsal': 17238, 'reinstate': 17239, 'reliability': 17240, 'relies': 17241, 'relocating': 17242, 'relying': 17243, 'renaissance': 17244, 'renews': 17245, 'resolving': 17246, 'retro': 17247, 'reversal': 17248, 'revocation': 17249, 'rhyme': 17250, 'rigorous': 17251, 'risen': 17252, 'rishabh': 17253, 'roasts': 17254, 'robber': 17255, 'robs': 17256, 'rs.10': 17257, 'rs1000': 17258, 'rub': 17259, 'rushing': 17260, 'ruthless': 17261, 'saar': 17262, 'saffronisation': 17263, 'sage': 17264, 'salad': 17265, 'sallu': 17266, 'salon': 17267, 'sampath': 17268, 'sangma': 17269, 'sanu': 17270, 'scandalous': 17271, 'scans': 17272, 'scares': 17273, 'schoolboy': 17274, 'schooled': 17275, 'scientifically': 17276, 'scoop': 17277, 'scorpio': 17278, 'screams': 17279, 'screenshots': 17280, 'sebastian': 17281, 'secretaries': 17282, 'seeding': 17283, 'sensitivity': 17284, 'shaadi.com': 17285, 'shagun': 17286, 'shane': 17287, 'shashank': 17288, 'shehzad': 17289, 'shelves': 17290, 'shenaz': 17291, 'shikara': 17292, 'shores': 17293, 'sickening': 17294, 'signboards': 17295, 'simplicity': 17296, 'sindhis': 17297, 'skirmish': 17298, 'slurs': 17299, 'snatching': 17300, 'sng': 17301, 'snooker': 17302, 'societal': 17303, 'societykarma': 17304, 'soren': 17305, 'specify': 17306, 'spikes': 17307, 'sreenivasan': 17308, 'ssp': 17309, 'stairs': 17310, 'standstill': 17311, 'starlink': 17312, 'starterpack': 17313, 'stash': 17314, 'statewise': 17315, 'stellar': 17316, 'sterlite': 17317, 'sticking': 17318, 'stoke': 17319, 'strangely': 17320, 'stricter': 17321, 'subash': 17322, 'sudan': 17323, 'sule': 17324, 'sumit': 17325, 'sunshine': 17326, 'superbike': 17327, 'superheroes': 17328, 'supplement': 17329, 'suppression': 17330, 'supremacy': 17331, 'surpassed': 17332, 'syl': 17333, 'symbolic': 17334, 'symbolism': 17335, 'syndicate': 17336, 't3': 17337, 'tackled': 17338, 'takeaway': 17339, 'talents': 17340, 'taming': 17341, 'tan': 17342, 'tandoori': 17343, 'tat': 17344, 'taylor': 17345, 'tenants': 17346, 'thakurta': 17347, 'themes': 17348, 'thermocol': 17349, 'thrust': 17350, 'thumb': 17351, 'timed': 17352, 'tipped': 17353, 'tissue': 17354, 'toes': 17355, 'tonne': 17356, 'topping': 17357, 'tor': 17358, 'tortoise': 17359, 'traffickers': 17360, 'tragedies': 17361, 'trainees': 17362, 'transporters': 17363, 'travancore': 17364, 'treaties': 17365, 'trickle': 17366, 'trilateral': 17367, 'trojan': 17368, 'trousers': 17369, 'tshirt': 17370, 'tuitions': 17371, 'tumblr': 17372, 'turbine': 17373, 'tyre': 17374, 'ubi': 17375, 'ujala': 17376, 'unani': 17377, 'unarmed': 17378, 'undeclared': 17379, 'unending': 17380, 'unisex': 17381, 'unlocking': 17382, 'unmasked': 17383, 'unsolved': 17384, 'untraceable': 17385, 'upgrading': 17386, 'ussd': 17387, 'ussr': 17388, 'uv': 17389, 'vaidya': 17390, 'validate': 17391, 'vape': 17392, 'veda': 17393, 'verifying': 17394, 'vernacular': 17395, 'veto': 17396, 'vibrator': 17397, 'vid': 17398, 'viralbake': 17399, 'virtue': 17400, 'vishwanathan': 17401, 'vogue': 17402, 'vultures': 17403, 'vvpats': 17404, 'vw': 17405, 'wa': 17406, 'wagonr': 17407, 'wankhede': 17408, 'warmth': 17409, 'webcast': 17410, 'westinghouse': 17411, 'whitewash': 17412, 'whitewashing': 17413, 'wick': 17414, 'wielding': 17415, 'wishlist': 17416, 'witches': 17417, 'womb': 17418, 'wooing': 17419, 'workplaces': 17420, 'worsened': 17421, 'wth': 17422, 'yagna': 17423, 'yatris': 17424, 'yourselves': 17425, 'zerodha': 17426, 'zip': 17427, '͜ʖ': 17428, 'अधिकारी': 17429, 'आई': 17430, 'आखिर': 17431, 'एवं': 17432, 'कम': 17433, 'करोड़': 17434, 'कश्मीर': 17435, 'कारण': 17436, 'खिलाफ': 17437, 'खुलासा': 17438, 'चार': 17439, 'जाते': 17440, 'देखिये': 17441, 'देने': 17442, 'द्वारा': 17443, 'धर्म': 17444, 'पति': 17445, 'पास': 17446, 'बाप': 17447, 'बीच': 17448, 'बैंक': 17449, 'मई': 17450, 'मामला': 17451, 'मेरे': 17452, 'यादव': 17453, 'रंग': 17454, 'रिजल्ट': 17455, 'लालू': 17456, 'लेकिन': 17457, 'लड़की': 17458, 'विद्यालय': 17459, 'शानदार': 17460, 'शाह': 17461, 'समर्थन': 17462, 'हेतु': 17463, '₹20': 17464, '✓': 17465, '✨': 17466, '🇵': 17467, '👆': 17468, '💥': 17469, '1.6lpm': 17470, '1.76': 17471, '10-yr': 17472, '10x': 17473, '11-month': 17474, '12,500': 17475, '138': 17476, '152': 17477, '154': 17478, '1700': 17479, '18-yr': 17480, '1939': 17481, '1941': 17482, '1963': 17483, '1964': 17484, '1b': 17485, '24-hour': 17486, '244': 17487, '25000': 17488, '2mbps': 17489, '32,000': 17490, '4-yr': 17491, '4.9': 17492, '42nd': 17493, '48,000': 17494, '498a': 17495, '6,500': 17496, '6-month': 17497, '6.9': 17498, '60s': 17499, '70s': 17500, 'a9': 17501, 'aadarsh': 17502, 'aage': 17503, 'aata': 17504, 'abetting': 17505, 'abnormal': 17506, 'abruptly': 17507, 'abysmal': 17508, 'accelerate': 17509, 'accesses': 17510, 'accession': 17511, 'accommodate': 17512, 'accompanying': 17513, 'accurately': 17514, 'achievers': 17515, 'acknowledged': 17516, 'acquiring': 17517, 'activating': 17518, 'adhir': 17519, 'adieu': 17520, 'adjusted': 17521, 'advertisers': 17522, 'aerospace': 17523, 'affluent': 17524, 'afloat': 17525, 'aggregate': 17526, 'agreeing': 17527, 'ahir': 17528, 'ahluwalia': 17529, 'akademi': 17530, 'albeit': 17531, 'alerted': 17532, 'alias': 17533, 'als': 17534, 'altercation': 17535, 'ameerpet': 17536, 'amused': 17537, 'anchoring': 17538, 'anglo': 17539, 'anh': 17540, 'anticipated': 17541, 'antique': 17542, 'architects': 17543, 'arithmetic': 17544, 'armies': 17545, 'arnold': 17546, 'arogya': 17547, 'articulate': 17548, 'ashoke': 17549, 'asli': 17550, 'assumed': 17551, 'astronomical': 17552, 'atlas': 17553, 'augmented': 17554, 'aujla': 17555, 'austerity': 17556, 'autism': 17557, 'awakening': 17558, 'baalak': 17559, 'babulal': 17560, 'babumoshai': 17561, 'babur': 17562, 'bacchan': 17563, 'badi': 17564, 'badrinath': 17565, 'baghpat': 17566, 'bajpai': 17567, 'bajpe': 17568, 'bam': 17569, 'bandhu': 17570, 'baramati': 17571, 'basant': 17572, 'basanti': 17573, 'basement': 17574, 'bassi': 17575, 'bastard': 17576, 'baton': 17577, 'batsmen': 17578, 'battalion': 17579, 'beards': 17580, 'belgaum': 17581, 'betwa': 17582, 'bhagya': 17583, 'bhupendra': 17584, 'bihu': 17585, 'bijli': 17586, 'billboard': 17587, 'bina': 17588, 'binding': 17589, 'bitten': 17590, 'bla': 17591, 'blackbuck': 17592, 'blair': 17593, 'blasting': 17594, 'bloc': 17595, 'blr': 17596, 'boggling': 17597, 'bole': 17598, 'bookadsnow': 17599, 'bootcamp': 17600, 'bore': 17601, 'borrowing': 17602, 'boston': 17603, 'bows': 17604, 'boysbite.com': 17605, 'breathless': 17606, 'bri': 17607, 'brigadier': 17608, 'britannia': 17609, 'bundled': 17610, 'bunk': 17611, 'buzzer': 17612, 'cadet': 17613, 'caged': 17614, 'calorie': 17615, 'calories': 17616, 'canara': 17617, 'cannibalism': 17618, 'cantonment': 17619, 'capex': 17620, 'carcasses': 17621, 'casinos': 17622, 'catastrophic': 17623, 'cents': 17624, 'chale': 17625, 'chana': 17626, 'chappell': 17627, 'chatting': 17628, 'cheek': 17629, 'chembur': 17630, 'chen': 17631, 'chenab': 17632, 'chick': 17633, 'childfree': 17634, 'chillies': 17635, 'chits': 17636, 'chole': 17637, 'chomsky': 17638, 'cii': 17639, 'cipla': 17640, 'citizenshipamendmentact': 17641, 'clans': 17642, 'cleanse': 17643, 'cleartax': 17644, 'cloudtail': 17645, 'coder': 17646, 'coffin': 17647, 'colossal': 17648, 'commuter': 17649, 'competent': 17650, 'comprehend': 17651, 'compulsive': 17652, 'condolence': 17653, 'conducive': 17654, 'conflicting': 17655, 'conquering': 17656, 'conspiring': 17657, 'consultations': 17658, 'contaminated': 17659, 'contractual': 17660, 'contributors': 17661, 'convener': 17662, 'convent': 17663, 'coo': 17664, 'cookies': 17665, 'coordination': 17666, 'corrected': 17667, 'corrective': 17668, 'costume': 17669, 'covaco': 17670, 'crane': 17671, 'crawl': 17672, 'crematorium': 17673, 'cripple': 17674, 'cristiano': 17675, 'crooks': 17676, 'cursed': 17677, 'cuss': 17678, 'cuz': 17679, 'cyclists': 17680, 'd2h': 17681, 'dairies': 17682, 'dandiya': 17683, 'daniels': 17684, 'deconstructing': 17685, 'decreased': 17686, 'deductions': 17687, 'deen': 17688, 'defaulted': 17689, 'defects': 17690, 'defenders': 17691, 'deferred': 17692, 'delhites': 17693, 'delicacies': 17694, 'demonstrate': 17695, 'demonstrations': 17696, 'denounces': 17697, 'deteriorating': 17698, 'dhanbad': 17699, 'dharamsala': 17700, 'dharmic': 17701, 'dheeraj': 17702, 'dhume': 17703, 'diarrhoea': 17704, 'diljit': 17705, 'dilwale': 17706, 'dinosaur': 17707, 'dioxide': 17708, 'directives': 17709, 'disagrees': 17710, 'disappoints': 17711, 'disciplinary': 17712, 'disobedience': 17713, 'disparity': 17714, 'disrespectful': 17715, 'dist': 17716, 'distract': 17717, 'distraction': 17718, 'distributors': 17719, 'documenting': 17720, 'doggos': 17721, 'doniger': 17722, 'doomsday': 17723, 'doublespeak': 17724, 'downloader': 17725, 'downward': 17726, 'dragons': 17727, 'dramas': 17728, 'ducati': 17729, 'duflo': 17730, 'dupe': 17731, 'eater': 17732, 'ecological': 17733, 'editorials': 17734, 'effectiveness': 17735, 'electing': 17736, 'electorate': 17737, 'electrocuted': 17738, 'electromagnetic': 17739, 'elects': 17740, 'elegant': 17741, 'ellora': 17742, 'embarks': 17743, 'embedded': 17744, 'embraced': 17745, 'emerald': 17746, 'emis': 17747, 'employable': 17748, 'endorsed': 17749, 'enhancing': 17750, 'enthusiasm': 17751, 'enthusiastic': 17752, 'epicentre': 17753, 'epitome': 17754, 'equates': 17755, 'erupted': 17756, 'esha': 17757, 'eshwarappa': 17758, 'esp': 17759, 'establishments': 17760, 'esteem': 17761, 'esther': 17762, 'ethereum': 17763, 'ethiopia': 17764, 'evident': 17765, 'evolve': 17766, 'exercising': 17767, 'expires': 17768, 'explicit': 17769, 'exported': 17770, 'f16': 17771, 'faceoff': 17772, 'fallacy': 17773, 'falsehood': 17774, 'farrago': 17775, 'favouring': 17776, 'feku': 17777, 'fernandez': 17778, 'ferrari': 17779, 'festivities': 17780, 'feudal': 17781, 'fin': 17782, 'firewall': 17783, 'flashes': 17784, 'flaunt': 17785, 'fleecing': 17786, 'flex': 17787, 'flings': 17788, 'flirt': 17789, 'flourish': 17790, 'folded': 17791, 'footing': 17792, 'forty': 17793, 'fraction': 17794, 'fractured': 17795, 'frank': 17796, 'freestyle': 17797, 'frogs': 17798, 'funda': 17799, 'fundamentally': 17800, 'funnier': 17801, 'gabbar': 17802, 'gala': 17803, 'gargi': 17804, 'garments': 17805, 'garnered': 17806, 'gathers': 17807, 'gauhar': 17808, 'gazette': 17809, 'gel': 17810, 'genomics': 17811, 'ghmc': 17812, 'gigantic': 17813, 'gionee': 17814, 'gjm': 17815, 'glaring': 17816, 'goalkeeper': 17817, 'gokhale': 17818, 'goonda': 17819, 'gordon': 17820, 'gpu': 17821, 'gracious': 17822, 'grapples': 17823, 'groping': 17824, 'gtx': 17825, 'guarantees': 17826, 'guise': 17827, 'gujjar': 17828, 'gujju': 17829, 'gulati': 17830, 'gum': 17831, 'gutka': 17832, 'haldiram': 17833, 'halfway': 17834, 'hamara': 17835, 'hamari': 17836, 'handwara': 17837, 'handwritten': 17838, 'hangouts': 17839, 'harrowing': 17840, 'hartal': 17841, 'haze': 17842, 'hcs': 17843, 'heightened': 17844, 'helipad': 17845, 'henderson': 17846, 'henna': 17847, 'hijacking': 17848, 'hijra': 17849, 'hippie': 17850, 'hmmmm': 17851, 'hmt': 17852, 'holmes': 17853, 'homepage': 17854, 'honk': 17855, 'honored': 17856, 'hooliganism': 17857, 'hostilities': 17858, 'hostility': 17859, 'howitzer': 17860, 'http://www.corrugationplant.com/': 17861, 'huddle': 17862, 'hugh': 17863, 'huh': 17864, 'hulk': 17865, 'hurling': 17866, 'hustle': 17867, 'hypocrites': 17868, 'iceberg': 17869, 'ifs': 17870, 'ifsc': 17871, 'iitb': 17872, 'illiteracy': 17873, 'illnesses': 17874, 'illustrations': 17875, 'imperialism': 17876, 'imps': 17877, 'inaccurate': 17878, 'incapable': 17879, 'incense': 17880, 'incest': 17881, 'incompetence': 17882, 'inconvenient': 17883, 'indianmoney': 17884, 'inducing': 17885, 'industrialists': 17886, 'indvspak': 17887, 'ineffective': 17888, 'inferiority': 17889, 'infinite': 17890, 'inflicted': 17891, 'ing': 17892, 'inherently': 17893, 'injecting': 17894, 'innocents': 17895, 'insert': 17896, 'integrates': 17897, 'intellect': 17898, 'intercepted': 17899, 'intermediate': 17900, 'invoice': 17901, 'ion': 17902, 'ira': 17903, 'ironically': 17904, 'irritated': 17905, 'ish': 17906, 'ismail': 17907, 'issf': 17908, 'ites': 17909, 'jackfruit': 17910, 'jaggery': 17911, 'jaiswal': 17912, 'jamnagar': 17913, 'jamsetji': 17914, 'jatin': 17915, 'javascript': 17916, 'jawahar': 17917, 'jayenge': 17918, 'jones': 17919, 'journalistic': 17920, 'jrd': 17921, 'kahan': 17922, 'kalvari': 17923, 'kanatal': 17924, 'kanchipuram': 17925, 'karnal': 17926, 'karol': 17927, 'kartik': 17928, 'karuna': 17929, 'kaushal': 17930, 'kay': 17931, 'keeper': 17932, 'kek': 17933, 'kem': 17934, 'keran': 17935, 'ketan': 17936, 'khamenei': 17937, 'kilometres': 17938, 'kirit': 17939, 'kitna': 17940, 'koramangala': 17941, 'kovalam': 17942, 'krantikari': 17943, 'ksrtc': 17944, 'kundan': 17945, 'kung': 17946, 'l1': 17947, 'labelling': 17948, 'landfall': 17949, 'lauded': 17950, 'lawlessness': 17951, 'legalize': 17952, 'legalizing': 17953, 'lender': 17954, 'liberate': 17955, 'licensed': 17956, 'lined': 17957, 'liners': 17958, 'lithium': 17959, 'livestream': 17960, 'lobbies': 17961, 'logan': 17962, 'lolguard': 17963, 'loudspeaker': 17964, 'lpm': 17965, 'ltcg': 17966, 'lyric': 17967, 'lyricist': 17968, 'm.tech': 17969, 'm2': 17970, 'macau': 17971, 'madarsa': 17972, 'madrassas': 17973, 'maestro': 17974, 'mahant': 17975, 'mahim': 17976, 'mainpuri': 17977, 'malaika': 17978, 'mandated': 17979, 'mangalam': 17980, 'mangolpuri': 17981, 'manjrekar': 17982, 'manned': 17983, 'mannkibaat': 17984, 'manpreet': 17985, 'mantan': 17986, 'marginal': 17987, 'marginally': 17988, 'marie': 17989, 'massively': 17990, 'mates': 17991, 'mattis': 17992, 'maujpur': 17993, 'mayors': 17994, 'median': 17995, 'meds': 17996, 'meghwal': 17997, 'mei': 17998, 'melody': 17999, 'memorials': 18000, 'mesmerizing': 18001, 'meteorological': 18002, 'metrics': 18003, 'michelle': 18004, 'migrated': 18005, 'minimalist': 18006, 'misa': 18007, 'misadventure': 18008, 'misbehaves': 18009, 'misogynist': 18010, 'misogynistic': 18011, 'mitti': 18012, 'mma': 18013, 'modelling': 18014, 'modernity': 18015, 'modest': 18016, 'mohini': 18017, 'moneycontrol': 18018, 'mongolia': 18019, 'morya': 18020, 'mukund': 18021, 'mull': 18022, 'mumkin': 18023, 'munna': 18024, 'murti': 18025, 'museums': 18026, 'musically': 18027, 'mysteriously': 18028, 'nabha': 18029, 'nadia': 18030, 'nai': 18031, 'nanded': 18032, 'nandi': 18033, 'nandini': 18034, 'narrates': 18035, 'navel': 18036, 'navin': 18037, 'nazar': 18038, 'needful': 18039, 'nepalese': 18040, 'nest': 18041, 'nestle': 18042, 'newegg': 18043, 'newsance': 18044, 'nightclub': 18045, 'ninth': 18046, 'np][r': 18047, 'nppa': 18048, 'nr': 18049, 'nu': 18050, 'observer': 18051, 'odf': 18052, 'oic': 18053, 'okuhara': 18054, 'openings': 18055, 'operated': 18056, 'organises': 18057, 'orphans': 18058, 'oru': 18059, 'outbreaks': 18060, 'outdoors': 18061, 'outing': 18062, 'oval': 18063, 'ovation': 18064, 'overlook': 18065, 'ozone': 18066, 'p.m.': 18067, 'p.s': 18068, 'p]why': 18069, 'painter': 18070, 'panaji': 18071, 'panchatantra': 18072, 'pans': 18073, 'paralysed': 18074, 'parkash': 18075, 'partisan': 18076, 'partying': 18077, 'patani': 18078, 'patole': 18079, 'pencilashan': 18080, 'penniless': 18081, 'persist': 18082, 'personalised': 18083, 'pharmacies': 18084, 'phenomena': 18085, 'philosophical': 18086, 'physicians': 18087, 'pitfalls': 18088, 'planner': 18089, 'playstation': 18090, 'pleading': 18091, 'pledged': 18092, 'podium': 18093, 'poignant': 18094, 'poles': 18095, 'politely': 18096, 'pooling': 18097, 'pops': 18098, 'positivity': 18099, 'possessions': 18100, 'posthumously': 18101, 'postings': 18102, 'powai': 18103, 'pran': 18104, 'pratibha': 18105, 'precaution': 18106, 'prelims': 18107, 'presentations': 18108, 'processions': 18109, 'prohibits': 18110, 'prolific': 18111, 'pronunciation': 18112, 'prospect': 18113, 'protagonist': 18114, 'protocols': 18115, 'provoke': 18116, 'proxies': 18117, 'publications': 18118, 'pulp': 18119, 'pulsar': 18120, 'pumping': 18121, 'pundits': 18122, 'puranas': 18123, 'pursued': 18124, 'purulia': 18125, 'qualifies': 18126, 'quashed': 18127, 'queens': 18128, 'quirky': 18129, 'quizzed': 18130, 'r.k.': 18131, 'raavan': 18132, 'radars': 18133, 'radioactive': 18134, 'rahat': 18135, 'rajguru': 18136, 'rallison': 18137, 'ramji': 18138, 'razdan': 18139, 'realistically': 18140, 'rebukes': 18141, 'recite': 18142, 'redbus': 18143, 'reeks': 18144, 'refinery': 18145, 'refreshing': 18146, 'refunded': 18147, 'refute': 18148, 'reigns': 18149, 'rein': 18150, 'reins': 18151, 'reinvent': 18152, 'reliant': 18153, 'reminders': 18154, 'remonetisation': 18155, 'rendered': 18156, 'repairs': 18157, 'replying': 18158, 'reportage': 18159, 'reposting': 18160, 'repression': 18161, 'republican': 18162, 'resilient': 18163, 'rests': 18164, 'retracts': 18165, 'reuse': 18166, 'reviewer': 18167, 'ridicule': 18168, 'rita': 18169, 'ritesh': 18170, 'roaring': 18171, 'robbing': 18172, 'rocking': 18173, 'rosneft': 18174, 'rotis': 18175, 'royals': 18176, 'rs100': 18177, 'rs500': 18178, 'rtgs': 18179, 'saddest': 18180, 'sadguru': 18181, 'sages': 18182, 'sahab': 18183, 'sailor': 18184, 'samaritan': 18185, 'sanand': 18186, 'sanitisers': 18187, 'sanyal': 18188, 'saubhagya': 18189, 'scalp': 18190, 'scarred': 18191, 'schoolchildren': 18192, 'schoolkids': 18193, 'scolded': 18194, 'scrambles': 18195, 'screwing': 18196, 'secretive': 18197, 'segregation': 18198, 'separating': 18199, 'servicemen': 18200, 'setbacks': 18201, 'seventh': 18202, 'shahnawaz': 18203, 'shaken': 18204, 'shakespeare': 18205, 'shareholders': 18206, 'sharezy': 18207, 'shawl': 18208, 'shiksha': 18209, 'shootings': 18210, 'shortlisted': 18211, 'shrunk': 18212, 'shuttle': 18213, 'sickular': 18214, 'siemens': 18215, 'simmering': 18216, 'simon': 18217, 'simulation': 18218, 'sindoor': 18219, 'skewed': 18220, 'skirt': 18221, 'skoda': 18222, 'slate': 18223, 'sliding': 18224, 'slipper': 18225, 'slipping': 18226, 'slumdog': 18227, 'smartest': 18228, 'smses': 18229, 'soaked': 18230, 'solanki': 18231, 'sonepat': 18232, 'sonowal': 18233, 'soo': 18234, 'soundcloud': 18235, 'sow': 18236, 'sowing': 18237, 'spectators': 18238, 'spiked': 18239, 'spiral': 18240, 'squirrel': 18241, 'sreesanth': 18242, 'srinivas': 18243, 'srirangam': 18244, 'startling': 18245, 'stationery': 18246, 'steer': 18247, 'sterilization': 18248, 'storing': 18249, 'stormy': 18250, 'strategically': 18251, 'strides': 18252, 'stuffs': 18253, 'stumps': 18254, 'stunted': 18255, 'stupidest': 18256, 'subbarao': 18257, 'suburb': 18258, 'successes': 18259, 'succumb': 18260, 'sucking': 18261, 'suitcase': 18262, 'suited': 18263, 'sunder': 18264, 'suo': 18265, 'surfaced': 18266, 'surgeons': 18267, 'surging': 18268, 'surrogate': 18269, 'suspense': 18270, 'sustainability': 18271, 'swachch': 18272, 'swallowed': 18273, 'symbiosis': 18274, 't.n.': 18275, 'tasha': 18276, 'taxreturnwala': 18277, 'tease': 18278, 'technoidhub': 18279, 'tedxgateway': 18280, 'tees': 18281, 'telecommunications': 18282, 'temp': 18283, 'terminates': 18284, 'terribly': 18285, 'testify': 18286, 'thanked': 18287, 'tighten': 18288, 'tightened': 18289, 'timer': 18290, 'titan': 18291, 'tldr': 18292, 'toddlers': 18293, 'tractors': 18294, 'translations': 18295, 'treasury': 18296, 'trehan': 18297, 'trinidad': 18298, 'tughlaq': 18299, 'tumhara': 18300, 'tumour': 18301, 'tutorials': 18302, 'twisting': 18303, 'twists': 18304, 'u[p': 18305, 'uan': 18306, 'uapa': 18307, 'udta': 18308, 'unabated': 18309, 'unattractive': 18310, 'unchecked': 18311, 'undertrials': 18312, 'undone': 18313, 'unfolded': 18314, 'unheard': 18315, 'unhygienic': 18316, 'uninstall': 18317, 'unitech': 18318, 'unnecessarily': 18319, 'unrelated': 18320, 'unskilled': 18321, 'unveiling': 18322, 'upanishads': 18323, 'upay': 18324, 'upbeat': 18325, 'uproot': 18326, 'ustad': 18327, 'vacates': 18328, 'vada': 18329, 'vandalises': 18330, 'vandana': 18331, 'vaping': 18332, 'varadarajan': 18333, 'varkala': 18334, 'vayu': 18335, 'viagra': 18336, 'viceroy': 18337, 'victimhood': 18338, 'vidhi': 18339, 'vidyasagar': 18340, 'vimeo': 18341, 'vinayaka': 18342, 'vista': 18343, 'vodka': 18344, 'volcano': 18345, 'vulnerabilities': 18346, 'waged': 18347, 'wagers': 18348, 'washroom': 18349, 'wat': 18350, 'watchmen': 18351, 'waterway': 18352, 'westerner': 18353, 'wimbledon': 18354, 'wordrays': 18355, 'worms': 18356, 'worrisome': 18357, 'wreck': 18358, 'x4': 18359, 'yakub': 18360, 'yields': 18361, 'yorker': 18362, 'yusuf': 18363, 'z+': 18364, 'zaheer': 18365, 'zameen': 18366, 'zeal': 18367, 'zen': 18368, 'zimbabwe': 18369, 'zodiac': 18370, 'अप्रैल': 18371, 'आ': 18372, 'आगे': 18373, 'आरोप': 18374, 'इतिहास': 18375, 'ए': 18376, 'ऐसा': 18377, 'क': 18378, 'कपिल': 18379, 'कब': 18380, 'करता': 18381, 'करेंगे': 18382, 'कर्मचारियों': 18383, 'खान': 18384, 'गुजरात': 18385, 'घोषित': 18386, 'जेल': 18387, 'टाइम': 18388, 'तरीका': 18389, 'तरीके': 18390, 'दूर': 18391, 'निर्देश': 18392, 'पत्र': 18393, 'पाने': 18394, 'पार्टी': 18395, 'पूजा': 18396, 'प्रधानमंत्री': 18397, 'बस': 18398, 'बाहर': 18399, 'बेटी': 18400, 'भीम': 18401, 'मां': 18402, 'मार्च': 18403, 'मिले': 18404, 'राज': 18405, 'लड़की': 18406, 'लिये': 18407, 'वह': 18408, 'विडियो': 18409, 'वोट': 18410, 'शर्मा': 18411, 'हार': 18412, 'ও': 18413, '₹10': 18414, '✔': 18415, '🅱': 18416, '🏽': 18417, '💖': 18418, '😢': 18419, '0.1': 18420, '000': 18421, '1,00,000': 18422, '1,600': 18423, '100-year': 18424, '100cr': 18425, '100mbps': 18426, '1099': 18427, '118': 18428, '1340': 18429, '137': 18430, '15-yr': 18431, '151': 18432, '17,000': 18433, '184': 18434, '188': 18435, '1920': 18436, '1940s': 18437, '195': 18438, '1959': 18439, '1979': 18440, '1985': 18441, '201': 18442, '2049': 18443, '216': 18444, '2400': 18445, '249': 18446, '27-year': 18447, '270': 18448, '28,000': 18449, '280': 18450, '3-day': 18451, '3.8': 18452, '30000': 18453, '30s': 18454, '3456': 18455, '35-year': 18456, '3600': 18457, '375': 18458, '38,000': 18459, '3bhk': 18460, '4-month': 18461, '4.0': 18462, '4.2': 18463, '4.6': 18464, '40th': 18465, '6.2': 18466, '65,000': 18467, '6k': 18468, '720': 18469, '7:30': 18470, '80c': 18471, '850': 18472, '9,999': 18473, \":')\": 18474, '@thekiranbedi': 18475, '@uidai': 18476, 'a3': 18477, 'aakash': 18478, 'aamby': 18479, 'aaye': 18480, 'abandons': 18481, 'abduct': 18482, 'abish': 18483, 'abul': 18484, 'abyss': 18485, 'accreditation': 18486, 'aditynath': 18487, 'adjust': 18488, 'admiration': 18489, 'adventurous': 18490, 'afroz': 18491, 'aggregator': 18492, 'aggressively': 18493, 'agitations': 18494, 'agr': 18495, 'ailments': 18496, 'airindia': 18497, 'airlifted': 18498, 'airs': 18499, 'ajanta': 18500, 'ajinkya': 18501, 'alibaug': 18502, 'alleppey': 18503, 'allo': 18504, 'amnesia': 18505, 'amounting': 18506, 'amplify': 18507, 'amrapali': 18508, 'amulya': 18509, 'andrew': 18510, 'angels': 18511, 'antiaadhar': 18512, 'antilia': 18513, 'anxieties': 18514, 'apartheid': 18515, 'appealing': 18516, 'appreciates': 18517, 'approvals': 18518, 'appsc': 18519, 'architectural': 18520, 'armymen': 18521, 'arrears': 18522, 'arthritis': 18523, 'artisans': 18524, 'artiste': 18525, 'asat': 18526, 'ask]what': 18527, 'aspirational': 18528, 'atheistic': 18529, 'atlantic': 18530, 'attach': 18531, 'attributed': 18532, 'audacity': 18533, 'audiobooks': 18534, 'audition': 18535, 'automakers': 18536, 'autorickshaws': 18537, 'avg': 18538, 'ayub': 18539, 'bachpane': 18540, 'badals': 18541, 'bae': 18542, 'baiting': 18543, 'bajirao': 18544, 'bakra': 18545, 'baleno': 18546, 'balle': 18547, 'bandar': 18548, 'bandipora': 18549, 'bandookbaaz': 18550, 'bangalore-': 18551, 'banjara': 18552, 'bantai': 18553, 'baraat': 18554, 'bariatric': 18555, 'bark': 18556, 'bds': 18557, 'beatles': 18558, 'behavioural': 18559, 'behead': 18560, 'beheads': 18561, 'belongings': 18562, 'benegal': 18563, 'bent': 18564, 'berry': 18565, 'betray': 18566, 'betrays': 18567, 'bhaiyya': 18568, 'bharatnet': 18569, 'bharatqr': 18570, 'bhilwara': 18571, 'bhimrao': 18572, 'bhoomi': 18573, 'bhoot': 18574, 'bhumi': 18575, 'bhuvneshwar': 18576, 'bidders': 18577, 'billboards': 18578, 'bima': 18579, 'bimal': 18580, 'bing': 18581, 'birthdays': 18582, 'bj': 18583, 'blades': 18584, 'bliss': 18585, 'boils': 18586, 'bokil': 18587, 'bombers': 18588, 'boo': 18589, 'bookies': 18590, 'boomers': 18591, 'boredom': 18592, 'braille': 18593, 'brainchild': 18594, 'brainstorm': 18595, 'brake': 18596, 'breaching': 18597, 'brett': 18598, 'brews': 18599, 'brezza': 18600, 'briefs': 18601, 'brilliance': 18602, 'brilliantly': 18603, 'brisbane': 18604, 'broader': 18605, 'brothel': 18606, 'brute': 18607, 'buds': 18608, 'buffett': 18609, 'bulldozed': 18610, 'bumpy': 18611, 'bundelkhand': 18612, 'butterfly': 18613, 'buttons': 18614, 'bystanders': 18615, 'cagr': 18616, 'calamity': 18617, 'callers': 18618, 'callousness': 18619, 'cameron': 18620, 'capsizes': 18621, 'captaincy': 18622, 'captivity': 18623, 'cardboard': 18624, 'cartoonists': 18625, 'cashew': 18626, 'casino': 18627, 'ceases': 18628, 'cervical': 18629, 'chaap': 18630, 'chadar': 18631, 'chahte': 18632, 'chala': 18633, 'chander': 18634, 'chandrapur': 18635, 'chapati': 18636, 'chaplin': 18637, 'chariot': 18638, 'charter': 18639, 'cheetah': 18640, 'cheez': 18641, 'chevrolet': 18642, 'chicks': 18643, 'chidiya': 18644, 'chinkara': 18645, 'cho': 18646, 'chowkidars': 18647, 'chumar': 18648, 'circumcision': 18649, 'city-': 18650, 'cognizance': 18651, 'comfortably': 18652, 'communicable': 18653, 'compact': 18654, 'comparision': 18655, 'conceived': 18656, 'concession': 18657, 'conclusions': 18658, 'conditioned': 18659, 'confers': 18660, 'consideration': 18661, 'consistent': 18662, 'contingent': 18663, 'contraception': 18664, 'contraceptive': 18665, 'contradict': 18666, 'coolers': 18667, 'coordinated': 18668, 'cord': 18669, 'corpses': 18670, 'correspondence': 18671, 'costumes': 18672, 'countryside': 18673, 'courting': 18674, 'cowardice': 18675, 'coworker': 18676, 'creepiest': 18677, 'creeping': 18678, 'criminalise': 18679, 'crossroads': 18680, 'crossword': 18681, 'crowdsourced': 18682, 'crowdsourcing': 18683, 'crystal': 18684, 'css': 18685, 'cto': 18686, 'curated': 18687, 'curing': 18688, 'curtail': 18689, 'curtailed': 18690, 'cyclonic': 18691, 'dalhousie': 18692, 'dalrymple': 18693, 'dard': 18694, 'darker': 18695, 'darth': 18696, 'databases': 18697, 'datsun': 18698, 'dattu': 18699, 'deadlier': 18700, 'deed': 18701, 'deepawali': 18702, 'defaced': 18703, 'definitive': 18704, 'deities': 18705, 'deluge': 18706, 'democratically': 18707, 'demography': 18708, 'dents': 18709, 'deploying': 18710, 'des': 18711, 'descended': 18712, 'destabilise': 18713, 'destructive': 18714, 'detergent': 18715, 'dey': 18716, 'dhule': 18717, 'diapers': 18718, 'dicaprio': 18719, 'dimple': 18720, 'dipika': 18721, 'disappears': 18722, 'disc': 18723, 'discarded': 18724, 'discoveries': 18725, 'dislikes': 18726, 'dispense': 18727, 'displeasure': 18728, 'disrupting': 18729, 'dissolves': 18730, 'distortion': 18731, 'disturbance': 18732, 'dives': 18733, 'docu': 18734, 'documentation': 18735, 'dont': 18736, 'dove': 18737, 'drafts': 18738, 'drainage': 18739, 'draupadi': 18740, 'dream11': 18741, 'drying': 18742, 'dst': 18743, 'dug': 18744, 'dujana': 18745, 'dunk': 18746, 'dupes': 18747, 'durable': 18748, 'duterte': 18749, 'dynasts': 18750, 'dystopian': 18751, 'dũng': 18752, 'e.': 18753, 'eagle': 18754, 'earrings': 18755, 'earthy': 18756, 'eased': 18757, 'efficacy': 18758, 'efficiently': 18759, 'eighth': 18760, 'eiu': 18761, 'ejects': 18762, 'electrician': 18763, 'elementary': 18764, 'elevator': 18765, 'elitism': 18766, 'elope': 18767, 'elvis': 18768, 'embarrasses': 18769, 'emigrated': 18770, 'eminem': 18771, 'empires': 18772, 'employ': 18773, 'enactment': 18774, 'endings': 18775, 'endorsement': 18776, 'engages': 18777, 'enhances': 18778, 'enlightenment': 18779, 'equations': 18780, 'equip': 18781, 'er': 18782, 'errant': 18783, 'escaping': 18784, 'eunuch': 18785, 'evs': 18786, 'exaggerating': 18787, 'excludes': 18788, 'exhaust': 18789, 'exiting': 18790, 'expire': 18791, 'explored': 18792, 'extorting': 18793, 'f*ck': 18794, 'fab': 18795, 'facilitating': 18796, 'fakes': 18797, 'fali': 18798, 'faring': 18799, 'fascists': 18800, 'fatehpur': 18801, 'faux': 18802, 'feather': 18803, 'feminine': 18804, 'fertiliser': 18805, 'firangi': 18806, 'fist': 18807, 'flocking': 18808, 'flogging': 18809, 'forthcoming': 18810, 'fosun': 18811, 'fritters': 18812, 'fudged': 18813, 'fundraising': 18814, 'futile': 18815, 'g.': 18816, 'gaganyaan': 18817, 'gagged': 18818, 'gainer': 18819, 'gardening': 18820, 'garib': 18821, 'gasoline': 18822, 'gated': 18823, 'gaurakshaks': 18824, 'gaushalas': 18825, 'generates': 18826, 'geographical': 18827, 'gi': 18828, 'giga': 18829, 'gland': 18830, 'glare': 18831, 'glorifies': 18832, 'goddesses': 18833, 'golconda': 18834, 'governmental': 18835, 'granddaughter': 18836, 'grandmaster': 18837, 'granny': 18838, 'graphical': 18839, 'gratuity': 18840, 'grossly': 18841, 'groundbreaking': 18842, 'gunfire': 18843, 'gurdwaras': 18844, 'gurpreet': 18845, 'gurumurthy': 18846, 'gutta': 18847, 'gwadar': 18848, 'hairs': 18849, 'ham': 18850, 'hamlet': 18851, 'handful': 18852, 'handmade': 18853, 'hangover': 18854, 'haren': 18855, 'harmed': 18856, 'harness': 18857, 'hawaii': 18858, 'hawkers': 18859, 'hazards': 18860, 'headwinds': 18861, 'heartfelt': 18862, 'heavenly': 18863, 'hectic': 18864, 'heel': 18865, 'helo': 18866, 'herbs': 18867, 'heres': 18868, 'hindalco': 18869, 'hizb': 18870, 'homai': 18871, 'homicide': 18872, 'hon': 18873, 'hood': 18874, 'hookah': 18875, 'hoped': 18876, 'hra': 18877, 'hse': 18878, 'hui': 18879, 'humanism': 18880, 'hurricane': 18881, 'hypothetically': 18882, \"i'm\": 18883, 'idle': 18884, 'ignite': 18885, 'ilaiah': 18886, 'ilyasi': 18887, 'imgoingtohellforthis': 18888, 'impasse': 18889, 'impeccable': 18890, 'impersonating': 18891, 'improper': 18892, 'inadvertently': 18893, 'inclined': 18894, 'incredibleindia': 18895, 'incursions': 18896, 'indianness': 18897, 'indiatv': 18898, 'indication': 18899, 'induct': 18900, 'inducts': 18901, 'infiltrate': 18902, 'inflated': 18903, 'infront': 18904, 'infusion': 18905, 'inhumane': 18906, 'inroads': 18907, 'insensitivity': 18908, 'insertion': 18909, 'inshorts': 18910, 'insightful': 18911, 'insisted': 18912, 'insistence': 18913, 'insisting': 18914, 'inspect': 18915, 'instruction': 18916, 'interconnect': 18917, 'interestingasfuck': 18918, 'interfering': 18919, 'ipcc': 18920, 'ipr': 18921, 'iskcon': 18922, 'ism': 18923, 'jahangir': 18924, 'jaitely': 18925, 'jalsa': 18926, 'jan.': 18927, 'janardhana': 18928, 'jantacurfew': 18929, 'jawani': 18930, 'jayamedia': 18931, 'jayaraman': 18932, 'jaye': 18933, 'jds': 18934, 'jewar': 18935, 'jitters': 18936, 'jj': 18937, 'johri': 18938, 'juhi': 18939, 'juniors': 18940, 'kalinga': 18941, 'kalla': 18942, 'kalpana': 18943, 'kamla': 18944, 'kanchan': 18945, 'kanda': 18946, 'kannadiga': 18947, 'kannanthanam': 18948, 'kara': 18949, 'karim': 18950, 'kaskar': 18951, 'kazakhstan': 18952, 'kb': 18953, 'kelly': 18954, 'keyword': 18955, 'kgp': 18956, 'khatre': 18957, 'khawaja': 18958, 'khushwant': 18959, 'kishtwar': 18960, 'kitchens': 18961, 'knell': 18962, 'koreans': 18963, 'kotler': 18964, 'krrish': 18965, 'ks': 18966, 'kuhad': 18967, 'kurian': 18968, 'kvb': 18969, 'laboratories': 18970, 'laced': 18971, 'lagarde': 18972, 'lage': 18973, 'lala': 18974, 'lall': 18975, 'lathis': 18976, 'launchpad': 18977, 'launder': 18978, 'leagues': 18979, 'leased': 18980, 'lehenga': 18981, 'liars': 18982, 'lifelong': 18983, 'lingaa': 18984, 'lionel': 18985, 'loathing': 18986, 'locating': 18987, 'lockers': 18988, 'lostyafound': 18989, 'loudest': 18990, 'lumia': 18991, 'm&amp;m': 18992, 'm.j.': 18993, 'maadhaar': 18994, 'madhurima': 18995, 'mag': 18996, 'mahalaya': 18997, 'mahima': 18998, 'mahinda': 18999, 'mahotsav': 19000, 'majid': 19001, 'majuli': 19002, 'makeshift': 19003, 'malfunction': 19004, 'mandala': 19005, 'manifestos': 19006, 'manikarnika': 19007, 'manisha': 19008, 'manja': 19009, 'manthan': 19010, 'manuscript': 19011, 'marathahalli': 19012, 'marg': 19013, 'marginalised': 19014, 'marginalized': 19015, 'marketed': 19016, 'marketers': 19017, 'masquerading': 19018, 'masterclass': 19019, 'masturbate': 19020, 'mavic': 19021, 'mayweather': 19022, 'mdh': 19023, 'mdmk': 19024, 'mdr': 19025, 'meanings': 19026, 'measured': 19027, 'mechanic': 19028, 'med': 19029, 'meena': 19030, 'memoir': 19031, 'mens': 19032, 'menstruating': 19033, 'mentioning': 19034, 'meru': 19035, 'mesh': 19036, 'mgr': 19037, 'mhrd': 19038, 'mi4': 19039, 'mice': 19040, 'microfinance': 19041, 'microphones': 19042, 'mics': 19043, 'mila': 19044, 'milking': 19045, 'minster': 19046, 'mir': 19047, 'mirwaiz': 19048, 'misunderstood': 19049, 'mmrda': 19050, 'modernise': 19051, 'modernization': 19052, 'mohapatra': 19053, 'moin': 19054, 'moneycontrol.com': 19055, 'mongoose': 19056, 'montage': 19057, 'moocs': 19058, 'moonlight': 19059, 'mop': 19060, 'moshe': 19061, 'motto': 19062, 'mouni': 19063, 'mu': 19064, 'muni': 19065, 'municipalities': 19066, 'murat': 19067, 'muscat': 19068, 'mutra': 19069, 'naan': 19070, 'nabard': 19071, 'nah': 19072, 'naina': 19073, 'naive': 19074, 'namami': 19075, 'namesake': 19076, 'nancy': 19077, 'nandy': 19078, 'naved': 19079, 'nclt': 19080, 'needles': 19081, 'neighboring': 19082, 'nestaway': 19083, 'nihal': 19084, 'nims': 19085, 'nits': 19086, 'nodal': 19087, 'nomadic': 19088, 'notebook': 19089, 'notify': 19090, 'nov.': 19091, 'nrc+caa': 19092, 'nscn': 19093, 'nubra': 19094, 'nutritional': 19095, 'nutritious': 19096, 'oaks': 19097, 'obese': 19098, 'obsolete': 19099, 'obstacle': 19100, 'obtained': 19101, 'occupational': 19102, 'oceans': 19103, 'orator': 19104, 'organizing': 19105, 'orphaned': 19106, 'outlines': 19107, 'outpost': 19108, 'outs': 19109, 'overdrive': 19110, 'overlooked': 19111, 'overs': 19112, 'overwhelmed': 19113, 'ox': 19114, 'p.s.': 19115, 'p]arty': 19116, 'p]oll': 19117, 'p]radesh': 19118, 'pachtaoge': 19119, 'pahalgam': 19120, 'pampore': 19121, 'paranjoy': 19122, 'parasite': 19123, 'pardon': 19124, 'pariah': 19125, 'parliamentarian': 19126, 'parupalli': 19127, 'pas': 19128, 'pati': 19129, 'patlu': 19130, 'patron': 19131, 'paving': 19132, 'payback': 19133, 'payday': 19134, 'paywall': 19135, 'peddlers': 19136, 'peeinghuman': 19137, 'pence': 19138, 'perverts': 19139, 'philosopher': 19140, 'physician': 19141, 'picnic': 19142, 'pillars': 19143, 'pimpri': 19144, 'pinni': 19145, 'pious': 19146, 'pipavav': 19147, 'pistols': 19148, 'pity': 19149, 'pivot': 19150, 'pl': 19151, 'placards': 19152, 'plantations': 19153, 'playground': 19154, 'pleasantly': 19155, 'poha': 19156, 'politicise': 19157, 'populace': 19158, 'popup': 19159, 'porsche': 19160, 'positives': 19161, 'potshots': 19162, 'pound': 19163, 'powell': 19164, 'powerless': 19165, 'ppap': 19166, 'prabhakar': 19167, 'prabhat': 19168, 'pranav': 19169, 'preaches': 19170, 'precedence': 19171, 'preferences': 19172, 'prescribe': 19173, 'pressured': 19174, 'prick': 19175, 'principals': 19176, 'printers': 19177, 'proctor': 19178, 'progressing': 19179, 'propelled': 19180, 'protestor': 19181, 'provocation': 19182, 'psychiatric': 19183, 'psychiatrists': 19184, 'pup': 19185, 'purity': 19186, 'pushpa': 19187, 'qs': 19188, 'qualifier': 19189, 'queuing': 19190, 'quraishi': 19191, 'raat': 19192, 'rabbi': 19193, 'racists': 19194, 'ragpickers': 19195, 'rags': 19196, 'rails': 19197, 'rained': 19198, 'rajawat': 19199, 'randeep': 19200, 'rangeela': 19201, 'ranges': 19202, 'ranjha': 19203, 'rarest': 19204, 'rash': 19205, 'rautela': 19206, 'ravaged': 19207, 'raze': 19208, 'razor': 19209, 'recognises': 19210, 'redevelopment': 19211, 'reels': 19212, 'rehab': 19213, 'reincarnation': 19214, 'relaunch': 19215, 'remakes': 19216, 'remembrance': 19217, 'rep': 19218, 'repealing': 19219, 'repository': 19220, 'residency': 19221, 'residing': 19222, 'retained': 19223, 'rethinking': 19224, 'retweet': 19225, 'reusable': 19226, 'reversed': 19227, 'reversing': 19228, 'revolutionaries': 19229, 'rhythm': 19230, 'ricky': 19231, 'riddled': 19232, 'ridiculously': 19233, 'riteish': 19234, 'ritu': 19235, 'rly': 19236, 'roadways': 19237, 'rog': 19238, 'roko': 19239, 'rom': 19240, 'rome': 19241, 'romila': 19242, 'rona': 19243, 'ropeway': 19244, 'rosy': 19245, 'rotomac': 19246, 'rs5,000': 19247, 'rum': 19248, 's20': 19249, 'sagarmala': 19250, 'salil': 19251, 'salty': 19252, 'salvo': 19253, 'samachar': 19254, 'samjhiye': 19255, 'sanam': 19256, 'sandhya': 19257, 'sanitizers': 19258, 'sanju': 19259, 'sarang': 19260, 'sargunaraj': 19261, 'sarva': 19262, 'sauna': 19263, 'savetheinternet': 19264, 'saviours': 19265, 'scenery': 19266, 'scorching': 19267, 'scribes': 19268, 'scrolling': 19269, 'scuba': 19270, 'sculptures': 19271, 'sd': 19272, 'seafood': 19273, 'sean': 19274, 'seas': 19275, 'secs': 19276, 'sedan': 19277, 'seditious': 19278, 'selectively': 19279, 'selfless': 19280, 'separatism': 19281, 'serena': 19282, 'servitude': 19283, 'sethu': 19284, 'settlements': 19285, 'sever': 19286, 'severity': 19287, 'sf': 19288, 'sfw': 19289, 'shakeel': 19290, 'shaky': 19291, 'shankersinh': 19292, 'shantaram': 19293, 'sharda': 19294, 'shikha': 19295, 'shittiest': 19296, 'shortest': 19297, 'shrines': 19298, 'shriram': 19299, 'shudh': 19300, 'shuru': 19301, 'sidelined': 19302, 'sidelines': 19303, 'silencing': 19304, 'similarity': 19305, 'sirisena': 19306, 'siva': 19307, 'sizes': 19308, 'skilling': 19309, 'skipper': 19310, 'skulls': 19311, 'sloganeering': 19312, 'sluggish': 19313, 'smuggle': 19314, 'smuggler': 19315, 'snapdeal.com': 19316, 'somalia': 19317, 'spectacles': 19318, 'spews': 19319, 'spinners': 19320, 'sprayed': 19321, 'springs': 19322, 'squeeze': 19323, 'staging': 19324, 'stainless': 19325, 'stakeholders': 19326, 'stambh': 19327, 'staunch': 19328, 'steepest': 19329, 'stereotypical': 19330, 'stirring': 19331, 'stocking': 19332, 'stooge': 19333, 'storey': 19334, 'strap': 19335, 'subscriptions': 19336, 'succeeded': 19337, 'sujatha': 19338, 'sukhoi-30': 19339, 'sup': 19340, 'supercomputer': 19341, 'superiority': 19342, 'supermarket': 19343, 'supermoon': 19344, 'superstitions': 19345, 'supportive': 19346, 'suppressing': 19347, 'suraksha': 19348, 'suri': 19349, 'surjit': 19350, 'surrounded': 19351, 'suspicions': 19352, 'sutra': 19353, 'swades': 19354, 'swell': 19355, 'sye': 19356, 'symphony': 19357, 'systemic': 19358, 'tada': 19359, 'tadvi': 19360, 'tai': 19361, 'takeoff': 19362, 'tamilrockers': 19363, 'tantra': 19364, 'tarar': 19365, 'teachings': 19366, 'tehri': 19367, 'telecoms': 19368, 'tendency': 19369, 'terminator': 19370, 'texting': 19371, 'thalapathy': 19372, 'thoda': 19373, 'threshold': 19374, 'thrills': 19375, 'throng': 19376, 'thwarts': 19377, 'tit': 19378, 'tl;dr': 19379, 'tommorow': 19380, 'towels': 19381, 'towing': 19382, 'traditionally': 19383, 'travelogue': 19384, 'trekked': 19385, 'trekkers': 19386, 'trendy': 19387, 'trupti': 19388, 'trustee': 19389, 'ttd': 19390, 'tumko': 19391, 'tumor': 19392, 'tutors': 19393, 'typically': 19394, 'ubereats': 19395, 'udacity': 19396, 'udf': 19397, 'udyog': 19398, 'ufc': 19399, 'unanimous': 19400, 'underestimated': 19401, 'undermines': 19402, 'undertaking': 19403, 'undivided': 19404, 'unerase': 19405, 'unfinished': 19406, 'unfolding': 19407, 'uniquely': 19408, 'unjust': 19409, 'unkil': 19410, 'unleashes': 19411, 'unprepared': 19412, 'unravel': 19413, 'unreasonable': 19414, 'unwilling': 19415, 'upma': 19416, 'upwards': 19417, 'urgency': 19418, 'urinate': 19419, 'urination': 19420, 'utilization': 19421, 'vacations': 19422, 'vader': 19423, 'valmiki': 19424, 'vandalized': 19425, 'vandalizing': 19426, 'vanity': 19427, 'vary': 19428, 'vcs': 19429, 'veerappa': 19430, 'vending': 19431, 'versatile': 19432, 'victorian': 19433, 'victorious': 19434, 'videography': 19435, 'vidyalayas': 19436, 'vii': 19437, 'virendra': 19438, 'vivekanand': 19439, 'vora': 19440, 'voyage': 19441, 'vrs': 19442, 'vyarawalla': 19443, 'vyom': 19444, 'w.': 19445, 'w/o': 19446, 'waiters': 19447, 'waiving': 19448, 'wallahs': 19449, 'watchers': 19450, 'weaving': 19451, 'webpages': 19452, 'wfh': 19453, 'whatsoever': 19454, 'whitening': 19455, 'witchcraft': 19456, 'withstand': 19457, 'worldcup': 19458, 'worsening': 19459, 'wreckage': 19460, 'ww': 19461, 'y1': 19462, 'yash': 19463, 'yashoda': 19464, 'yercaud': 19465, 'zakiur': 19466, 'zoho': 19467, 'अचूक': 19468, 'आदमी': 19469, 'आधार': 19470, 'आम': 19471, 'इंटरनेट': 19472, 'इतना': 19473, 'इसे': 19474, 'उच्च': 19475, 'कई': 19476, 'कितना': 19477, 'जमकर': 19478, 'जल्द': 19479, 'जाएंगे': 19480, 'तरह': 19481, 'देखकर': 19482, 'फिल्म': 19483, 'बदल': 19484, 'बनने': 19485, 'बनाया': 19486, 'बोर्ड': 19487, 'भर': 19488, 'भाई': 19489, 'मेरी': 19490, 'राशि': 19491, 'लिया': 19492, 'वजह': 19493, 'वर्ष': 19494, 'विशेष': 19495, 'शिव': 19496, 'शुभेच्छा': 19497, 'श्रीदेवी': 19498, 'सिर्फ': 19499, 'सुप्रीम': 19500, 'सेवा': 19501, 'हनुमान': 19502, 'రెండు': 19503, '🏆': 19504, '👑': 19505, '💪': 19506, '🔴': 19507, '😄': 19508, '😋': 19509, '😐': 19510, '🚀': 19511, '..........': 19512, '/india': 19513, '0.4': 19514, '100s': 19515, '113': 19516, '12-yr': 19517, '124': 19518, '12k': 19519, '143': 19520, '158': 19521, '16000': 19522, '163': 19523, '171': 19524, '19,000': 19525, '1918': 19526, '1936': 19527, '1944': 19528, '1982': 19529, '1cr': 19530, '2,700': 19531, '2-day': 19532, '2047': 19533, '24,000': 19534, '256': 19535, '261': 19536, '29-year': 19537, '32-year': 19538, '340': 19539, '3500': 19540, '4608': 19541, '5,000-year': 19542, '5,500': 19543, '5.3': 19544, '5.4': 19545, '50-year': 19546, '500rs': 19547, '54,000': 19548, '6000x4000': 19549, '640': 19550, '787': 19551, '8.4': 19552, '8.65': 19553, '8.8': 19554, '820': 19555, '835': 19556, '9.5': 19557, \":'(\": 19558, '@arunjaitley': 19559, '@delhipolice': 19560, '@incindia': 19561, '@redditindia': 19562, '@satishacharya': 19563, '[np': 19564, 'a.m.': 19565, 'a4': 19566, 'aankh': 19567, 'aao': 19568, 'abbasi': 19569, 'abode': 19570, 'accrue': 19571, 'accuser': 19572, 'aced': 19573, 'achilles': 19574, 'acrylic': 19575, 'adamant': 19576, 'adapt': 19577, 'adapted': 19578, 'adjoining': 19579, 'administrators': 19580, 'admired': 19581, 'adulterated': 19582, 'advisers': 19583, 'advocacy': 19584, 'affidavits': 19585, 'afterwards': 19586, 'aging': 19587, 'agitators': 19588, 'ahmadabad': 19589, 'aiba': 19590, 'ailment': 19591, 'airfield': 19592, 'airlift': 19593, 'akalis': 19594, 'alex': 19595, 'algebra': 19596, 'aligned': 19597, 'alignment': 19598, 'allegiance': 19599, 'allopathy': 19600, 'allot': 19601, 'alloted': 19602, 'alphonso': 19603, 'altbalaji': 19604, 'aluminium': 19605, 'alzheimer': 19606, 'amaravathi': 19607, 'amber': 19608, 'ammo': 19609, 'amravati': 19610, 'amsterdam': 19611, 'anarchist': 19612, 'andh': 19613, 'andy': 19614, 'antarctica': 19615, 'anupama': 19616, 'anvil': 19617, 'applaud': 19618, 'apprentice': 19619, 'aqua': 19620, 'arch': 19621, 'arguably': 19622, 'armyman': 19623, 'arnia': 19624, 'aroon': 19625, 'article370': 19626, 'artifacts': 19627, 'artistic': 19628, 'arvinder': 19629, 'ascent': 19630, 'assessed': 19631, 'assistants': 19632, 'associations': 19633, 'asteroid': 19634, 'attari': 19635, 'attributes': 19636, 'auditions': 19637, 'australians': 19638, 'authored': 19639, 'authoritarianism': 19640, 'avert': 19641, 'avid': 19642, 'ayesha': 19643, 'b.ed': 19644, 'baad': 19645, 'baal': 19646, 'babuji': 19647, 'baffles': 19648, 'baffling': 19649, 'bahuguna': 19650, 'baisakhi': 19651, 'baking': 19652, 'bakrid': 19653, 'banayenge': 19654, 'bandipur': 19655, 'bangaluru': 19656, 'bangle': 19657, 'banyan': 19658, 'baptist': 19659, 'barfi': 19660, 'bargaining': 19661, 'barren': 19662, 'barter': 19663, 'bathrooms': 19664, 'batla': 19665, 'baxter': 19666, 'bean': 19667, 'beforehand': 19668, 'beginnings': 19669, 'behen': 19670, 'behold': 19671, 'belgian': 19672, 'benches': 19673, 'bermuda': 19674, 'beside': 19675, 'beverages': 19676, 'bezwada': 19677, 'bhagwa': 19678, 'bhutanese': 19679, 'biharis': 19680, 'bik': 19681, 'biocon': 19682, 'biplab': 19683, 'bipolar': 19684, 'bkc': 19685, 'blackouts': 19686, 'blaring': 19687, 'bln': 19688, 'blooming': 19689, 'boast': 19690, 'bolta': 19691, 'booklets': 19692, 'boosted': 19693, 'borderline': 19694, 'borrows': 19695, 'bottlenecks': 19696, 'bouquet': 19697, 'boutique': 19698, 'brad': 19699, 'brag': 19700, 'brahmanical': 19701, 'brahminical': 19702, 'brainwash': 19703, 'braveheart': 19704, 'brian': 19705, 'bridging': 19706, 'bru': 19707, 'bubbles': 19708, 'bulbul': 19709, 'burari': 19710, 'burgers': 19711, 'busiest': 19712, 'buyout': 19713, 'c-130j': 19714, 'cabins': 19715, 'cait': 19716, 'campaigned': 19717, 'candlelight': 19718, 'canyon': 19719, 'carcass': 19720, 'carrot': 19721, 'carving': 19722, 'cfa': 19723, 'chaar': 19724, 'chaddi': 19725, 'chaitra': 19726, 'chambal': 19727, 'champ': 19728, 'chappal': 19729, 'charitable': 19730, 'chatur': 19731, 'chaubey': 19732, 'checkup': 19733, 'cheerful': 19734, 'cheesy': 19735, 'chennaiyin': 19736, 'chodi': 19737, 'choir': 19738, 'chord': 19739, 'christchurch': 19740, 'chuck': 19741, 'chuckle': 19742, 'chumbak': 19743, 'churchgate': 19744, 'churning': 19745, 'circulates': 19746, 'cite': 19747, 'citi': 19748, 'clamps': 19749, 'clarifications': 19750, 'climbed': 19751, 'climber': 19752, 'clutter': 19753, 'cognitive': 19754, 'coinsecure': 19755, 'collaborated': 19756, 'colombia': 19757, 'colonization': 19758, 'columnists': 19759, 'columns': 19760, 'coma': 19761, 'commence': 19762, 'commences': 19763, 'commented': 19764, 'complexion': 19765, 'complexity': 19766, 'composed': 19767, 'concealed': 19768, 'concerts': 19769, 'configuration': 19770, 'confronted': 19771, 'confuses': 19772, 'congregation': 19773, 'conquest': 19774, 'consequence': 19775, 'conspiracies': 19776, 'contender': 19777, 'convertible': 19778, 'cooperatives': 19779, 'coped': 19780, 'corpse': 19781, 'correlation': 19782, 'coughing': 19783, 'counsellor': 19784, 'county': 19785, 'cpcb': 19786, 'crass': 19787, 'crm': 19788, 'crochet': 19789, 'crook': 19790, 'crumbles': 19791, 'ctc': 19792, 'customized': 19793, 'cvo': 19794, 'cyberspace': 19795, 'cyclist': 19796, 'd6': 19797, 'd810a': 19798, 'dadra': 19799, 'daisy': 19800, 'dakshineswar': 19801, 'damodardas': 19802, 'danda': 19803, 'daredevils': 19804, 'darling': 19805, 'dasara': 19806, 'dashami': 19807, 'dat': 19808, 'datar': 19809, 'dawoodi': 19810, 'daya': 19811, 'dayanidhi': 19812, 'dearth': 19813, 'deceit': 19814, 'decode': 19815, 'defect': 19816, 'deficient': 19817, 'defuse': 19818, 'delegate': 19819, 'delhi-': 19820, 'demolishing': 19821, 'demonstrating': 19822, 'den': 19823, 'dented': 19824, 'deodorant': 19825, 'departing': 19826, 'departs': 19827, 'depending': 19828, 'depict': 19829, 'depleting': 19830, 'depths': 19831, 'derivatives': 19832, 'dermatologist': 19833, 'desalination': 19834, 'descend': 19835, 'desecration': 19836, 'deserts': 19837, 'dessert': 19838, 'developmental': 19839, 'dhillon': 19840, 'dhoka': 19841, 'dhupia': 19842, 'dietary': 19843, 'dikhta': 19844, 'dim': 19845, 'dino': 19846, 'dinosaurs': 19847, 'diron': 19848, 'disciple': 19849, 'disgraceful': 19850, 'dishonest': 19851, 'disposes': 19852, 'disquiet': 19853, 'dissolution': 19854, 'dissolved': 19855, 'dividends': 19856, 'djokovic': 19857, 'dodgy': 19858, 'dombivli': 19859, 'domicile': 19860, 'domination': 19861, 'dominic': 19862, 'dormant': 19863, 'doshi': 19864, 'downplays': 19865, 'downside': 19866, 'drawings': 19867, 'dread': 19868, 'dried': 19869, 'drinkers': 19870, 'dropouts': 19871, 'drubbing': 19872, 'durbar': 19873, 'durex': 19874, 'duronto': 19875, 'e.g.': 19876, 'ea': 19877, 'earners': 19878, 'earthen': 19879, 'earthquakes': 19880, 'ecosport': 19881, 'eden': 19882, 'eh': 19883, 'eli': 19884, 'eliminated': 19885, 'elites': 19886, 'elitist': 19887, 'eloped': 19888, 'emigrating': 19889, 'employing': 19890, 'engulfs': 19891, 'enigma': 19892, 'environmentalist': 19893, 'eos': 19894, 'epl': 19895, 'equating': 19896, 'escalated': 19897, 'escobar': 19898, 'ethereal': 19899, 'evangelists': 19900, 'evergreen': 19901, 'evoke': 19902, 'evokes': 19903, 'exceleducationinstitute': 19904, 'exhales': 19905, 'exhibit': 19906, 'extradite': 19907, 'f3': 19908, 'faction': 19909, 'facto': 19910, 'faded': 19911, 'fadia': 19912, 'faisal': 19913, 'famines': 19914, 'fanboys': 19915, 'fao': 19916, 'farcical': 19917, 'fathima': 19918, 'faults': 19919, 'favouritism': 19920, 'fayaz': 19921, 'feeble': 19922, 'felicitated': 19923, 'fertile': 19924, 'fetched': 19925, 'fih': 19926, 'firefighters': 19927, 'fixtures': 19928, 'flagging': 19929, 'flashback': 19930, 'flaunting': 19931, 'flipped': 19932, 'flowchart': 19933, 'focussed': 19934, 'forcible': 19935, 'fore': 19936, 'forefront': 19937, 'foretold': 19938, 'forgiveness': 19939, 'formulating': 19940, 'fps': 19941, 'fpsc': 19942, 'fragrant': 19943, 'freeing': 19944, 'futures': 19945, 'fy15': 19946, 'ganapati': 19947, 'gandhigiri': 19948, 'gange': 19949, 'gangetic': 19950, 'garhwal': 19951, 'garuda': 19952, 'gauhati': 19953, 'geniuses': 19954, 'genocidal': 19955, 'georgge': 19956, 'ges': 19957, 'ghanta': 19958, 'glamorous': 19959, 'glimpses': 19960, 'glut': 19961, 'goibibo': 19962, 'gonda': 19963, 'googly': 19964, 'goondaism': 19965, 'gradual': 19966, 'graduating': 19967, 'grammy': 19968, 'grapes': 19969, 'grasp': 19970, 'gspc': 19971, 'gstin': 19972, 'guesses': 19973, 'guiding': 19974, 'gujjars': 19975, 'gulbarga': 19976, 'gutter': 19977, 'gymnast': 19978, 'haan': 19979, 'haath': 19980, 'halve': 19981, 'hammers': 19982, 'handler': 19983, 'handlers': 19984, 'hansraj': 19985, 'haque': 19986, 'hardeep': 19987, 'harmanpreet': 19988, 'hater': 19989, 'hay': 19990, 'hdi': 19991, 'heartless': 19992, 'heroines': 19993, 'hilariously': 19994, 'himanshi': 19995, 'hinduphobic': 19996, 'holika': 19997, 'hooligans': 19998, 'hotdealindia': 19999, 'hote': 20000, 'housewife': 20001, 'hpl': 20002, 'hubli': 20003, 'huda': 20004, 'hugo': 20005, 'humanoid': 20006, 'hummer': 20007, 'humsafar': 20008, 'hush': 20009, 'i20': 20010, 'iam': 20011, 'iamai': 20012, 'iceland': 20013, 'icra': 20014, 'idc': 20015, 'ilaiyaraaja': 20016, 'illogical': 20017, 'illustrious': 20018, 'ilp': 20019, 'imagining': 20020, 'imbalance': 20021, 'imitate': 20022, 'immolation': 20023, 'impulse': 20024, 'inappropriately': 20025, 'incharge': 20026, 'incheon': 20027, 'incubator': 20028, 'incumbent': 20029, 'indefensible': 20030, 'indianfootball': 20031, 'indicts': 20032, 'indiranagar': 20033, 'indiscriminate': 20034, 'infested': 20035, 'inflict': 20036, 'infotech': 20037, 'ingenious': 20038, 'inglorious': 20039, 'inherent': 20040, 'injects': 20041, 'innerwear': 20042, 'innovate': 20043, 'insanity': 20044, 'insect': 20045, 'insufficient': 20046, 'insurgent': 20047, 'intensified': 20048, 'interns': 20049, 'interpret': 20050, 'intervals': 20051, 'intervened': 20052, 'intl': 20053, 'inventor': 20054, 'invents': 20055, 'investigator': 20056, 'invoking': 20057, 'inward': 20058, 'ishwar': 20059, 'issuance': 20060, 'jaadu': 20061, 'jackpot': 20062, 'jagmohan': 20063, 'jaihind': 20064, 'jaspal': 20065, 'jatayu': 20066, 'jayakumar': 20067, 'jaypee': 20068, 'je': 20069, 'jiddu': 20070, 'jihadist': 20071, 'jinder': 20072, 'jitu': 20073, 'jlf': 20074, 'joblessness': 20075, 'jog': 20076, 'joyful': 20077, 'junta': 20078, 'jupiter': 20079, 'jwala': 20080, 'kaali': 20081, 'kabbadi': 20082, 'kadhi': 20083, 'kahaani': 20084, 'kama': 20085, 'kanan': 20086, 'kancha': 20087, 'kanchi': 20088, 'karate': 20089, 'karbonn': 20090, 'karega': 20091, 'karrm': 20092, 'kartbites': 20093, 'kasaragod': 20094, 'katara': 20095, 'katy': 20096, 'kaveri': 20097, 'kayaking': 20098, 'kebabs': 20099, 'kenneth': 20100, 'khabar': 20101, 'khaki': 20102, 'khalsa': 20103, 'khana': 20104, 'khatam': 20105, 'khetigaadi': 20106, 'khud': 20107, 'kidnaps': 20108, 'kilometre': 20109, 'kingdoms': 20110, 'kiosks': 20111, 'kishan': 20112, 'kitten': 20113, 'kkk': 20114, 'knights': 20115, 'korma': 20116, 'kpmg': 20117, 'kps': 20118, 'kubrick': 20119, 'kumbhalgarh': 20120, 'kundli': 20121, 'kundu': 20122, 'kurkure': 20123, 'kurtas': 20124, 'kush': 20125, 'kushal': 20126, 'ladoo': 20127, 'lambasts': 20128, 'lara': 20129, 'ldf': 20130, 'levied': 20131, 'levies': 20132, 'liberia': 20133, 'lightening': 20134, 'lineup': 20135, 'listings': 20136, 'lizards': 20137, 'llp': 20138, 'lodging': 20139, 'logjam': 20140, 'logon': 20141, 'lous': 20142, 'lurker': 20143, 'maal': 20144, 'macaulay': 20145, 'macro': 20146, 'madani': 20147, 'madrid': 20148, 'maharajas': 20149, 'majoritarianism': 20150, 'malaise': 20151, 'malana': 20152, 'malaviya': 20153, 'malayalis': 20154, 'malcolm': 20155, 'manav': 20156, 'mangalsutra': 20157, 'mangrove': 20158, 'manhole': 20159, 'mannequin': 20160, 'manners': 20161, 'mantralaya': 20162, 'manuscripts': 20163, 'marrow': 20164, 'martian': 20165, 'masroor': 20166, 'masse': 20167, 'mastani': 20168, 'masturbated': 20169, 'matchbox': 20170, 'mathematical': 20171, 'mathrubootham': 20172, 'matondkar': 20173, 'maymay': 20174, 'mediatek': 20175, 'meditating': 20176, 'mehendi': 20177, 'memorandum': 20178, 'messing': 20179, 'mgnregs': 20180, 'mi-17': 20181, 'michigan': 20182, 'milestones': 20183, 'mimics': 20184, 'mired': 20185, 'misinterpreted': 20186, 'mistook': 20187, 'mixer': 20188, 'mki': 20189, 'mkiii': 20190, 'mlcs': 20191, 'mohfw': 20192, 'monologue': 20193, 'morbi': 20194, 'morris': 20195, 'mossad': 20196, 'motabhai': 20197, 'moti': 20198, 'motivating': 20199, 'motocorp': 20200, 'motorists': 20201, 'mous': 20202, 'msd': 20203, 'muddy': 20204, 'muhurat': 20205, 'mukerjea': 20206, 'muscles': 20207, 'mussolini': 20208, 'mx': 20209, 'myjio': 20210, 'nabs': 20211, 'nagin': 20212, 'nam': 20213, 'namaaz': 20214, 'nanaji': 20215, 'nandita': 20216, 'narrated': 20217, 'nasheed': 20218, 'nast': 20219, 'nationally': 20220, 'naukri.com': 20221, 'nava': 20222, 'neglecting': 20223, 'nehra': 20224, 'nerul': 20225, 'nestlé': 20226, 'nifty50': 20227, 'nilesh': 20228, 'nirvana': 20229, 'nishank': 20230, 'nominates': 20231, 'nowshera': 20232, 'np]is': 20233, 'np]which': 20234, 'nta': 20235, 'nucleya': 20236, 'nudes': 20237, 'nuskhe.in': 20238, 'nusli': 20239, 'nut': 20240, 'oats': 20241, 'objectification': 20242, 'objectives': 20243, 'obligation': 20244, 'occupancy': 20245, 'occurs': 20246, 'offbeat': 20247, 'offing': 20248, 'oils': 20249, 'oldschoolcool': 20250, 'olympian': 20251, 'oneself': 20252, 'opaque': 20253, 'opindia': 20254, 'oreo': 20255, 'organisational': 20256, 'orientation': 20257, 'ought': 20258, 'outflow': 20259, 'outpace': 20260, 'outperform': 20261, 'outstation': 20262, 'overly': 20263, 'overreach': 20264, 'override': 20265, 'overrun': 20266, 'oversight': 20267, 'overturns': 20268, 'owl': 20269, 'p]olls': 20270, 'p]rotest': 20271, 'paanch': 20272, 'paedophile': 20273, 'painfully': 20274, 'pains': 20275, 'palak': 20276, 'pandita': 20277, 'panicking': 20278, 'parlour': 20279, 'partnered': 20280, 'partnering': 20281, 'parvathy': 20282, 'passbook': 20283, 'patan': 20284, 'patented': 20285, 'patiya': 20286, 'patriarch': 20287, 'patrolling': 20288, 'paves': 20289, 'payoffs': 20290, 'pcb': 20291, 'pcm': 20292, 'pedophile': 20293, 'penalized': 20294, 'penises': 20295, 'perish': 20296, 'perpetual': 20297, 'perry': 20298, 'persuade': 20299, 'perverted': 20300, 'pewds': 20301, 'pfizer': 20302, 'pgurus': 20303, 'phalke': 20304, 'pharmaceuticals': 20305, 'phds': 20306, 'phoolka': 20307, 'physique': 20308, 'pickers': 20309, 'piped': 20310, 'pitt': 20311, 'pkmkb': 20312, 'plated': 20313, 'plausible': 20314, 'pleaded': 20315, 'plenary': 20316, 'plum': 20317, 'pluralism': 20318, 'politicising': 20319, 'pooram': 20320, 'poppy': 20321, 'popularly': 20322, 'portrays': 20323, 'posco': 20324, 'posture': 20325, 'potus': 20326, 'pov': 20327, 'pox': 20328, 'practise': 20329, 'prahlad': 20330, 'prays': 20331, 'precision': 20332, 'preferable': 20333, 'pres': 20334, 'prescribes': 20335, 'presser': 20336, 'pressures': 20337, 'prized': 20338, 'proceeding': 20339, 'processors': 20340, 'progressed': 20341, 'prohibiting': 20342, 'promoter': 20343, 'proportional': 20344, 'protectionist': 20345, 'provinces': 20346, 'pti_news': 20347, 'puerto': 20348, 'pulao': 20349, 'punk': 20350, 'purportedly': 20351, 'puzzles': 20352, 'qnet': 20353, 'qurbani': 20354, 'r]what': 20355, 'raa': 20356, 'rachna': 20357, 'radians': 20358, 'radicals': 20359, 'raheel': 20360, 'raigad': 20361, 'raji': 20362, 'rajoura': 20363, 'rajyasabha': 20364, 'ramana': 20365, 'ramgopal': 20366, 'ranaghat': 20367, 'ratnam': 20368, 'raya': 20369, 'rdd': 20370, 'realignment': 20371, 'realtime': 20372, 'rebuilding': 20373, 'receipts': 20374, 'receiver': 20375, 'reconversion': 20376, 'recreated': 20377, 'recreational': 20378, 'recurring': 20379, 'redemption': 20380, 'redesign': 20381, 'refiners': 20382, 'reflecting': 20383, 'reformed': 20384, 'reforming': 20385, 'refresh': 20386, 'regar': 20387, 'regulating': 20388, 'reich': 20389, 'reinvented': 20390, 'rejoin': 20391, 'rejoinder': 20392, 'relativity': 20393, 'relaxes': 20394, 'relay': 20395, 'relocate': 20396, 'reminding': 20397, 'remixes': 20398, 'rentals': 20399, 'reorganisation': 20400, 'researching': 20401, 'reservoirs': 20402, 'reshammiya': 20403, 'resorted': 20404, 'restrain': 20405, 'resurgence': 20406, 'resurrection': 20407, 'retards': 20408, 'retiring': 20409, 'retweets': 20410, 'revolver': 20411, 'ripple': 20412, 'rm': 20413, 'roar': 20414, 'rofl': 20415, 'ronish': 20416, 'roopkund': 20417, 'rs1': 20418, 'rs10': 20419, 'rtis': 20420, 'rtos': 20421, 'ruchir': 20422, 'rumble': 20423, 'rummy': 20424, 's6': 20425, 's7': 20426, 'saad': 20427, 'saag': 20428, 'saamana': 20429, 'saamna': 20430, 'saathi': 20431, 'sabbatical': 20432, 'sahil': 20433, 'sainik': 20434, 'sainiks': 20435, 'sajjad': 20436, 'sambad': 20437, 'samir': 20438, 'sanjeevani': 20439, 'sank': 20440, 'sar': 20441, 'sarahah': 20442, 'sas': 20443, 'satisfactory': 20444, 'satsang': 20445, 'saurashtra': 20446, 'saver': 20447, 'scamsters': 20448, 'scar': 20449, 'scariest': 20450, 'scattered': 20451, 'schizophrenia': 20452, 'scolds': 20453, 'seeded': 20454, 'sem': 20455, 'semifinals': 20456, 'seminary': 20457, 'septic': 20458, 'sequoia': 20459, 'sevak': 20460, 'sewing': 20461, 'shabnam': 20462, 'shahjahanpur': 20463, 'shakha': 20464, 'shaktiman': 20465, 'shallow': 20466, 'shankh': 20467, 'sharezy.in': 20468, 'sharks': 20469, 'sheinspiresus': 20470, 'shenanigans': 20471, 'sherawat': 20472, 'shias': 20473, 'shifuji': 20474, 'shikoh': 20475, 'shivsena': 20476, 'shivshankar': 20477, 'shloka': 20478, 'shrikant': 20479, 'sid': 20480, 'siddhivinayak': 20481, 'simpler': 20482, 'simpsons': 20483, 'sitcom': 20484, 'sizzling': 20485, 'skincare': 20486, 'skullcap': 20487, 'slack': 20488, 'slayer': 20489, 'sleepy': 20490, 'slideshow': 20491, 'slots': 20492, 'smashing': 20493, 'sme': 20494, 'smear': 20495, 'smita': 20496, 'snatchers': 20497, 'snatches': 20498, 'soared': 20499, 'solicitor': 20500, 'solves': 20501, 'sonal': 20502, 'songwriter': 20503, 'sooner': 20504, 'soulful': 20505, 'soundtracks': 20506, 'spartan': 20507, 'speciality': 20508, 'spectranet': 20509, 'speculations': 20510, 'sperm': 20511, 'sphere': 20512, 'spinach': 20513, 'spins': 20514, 'spoils': 20515, 'sportsperson': 20516, 'spotting': 20517, 'spurned': 20518, 'spurred': 20519, 'srinivasa': 20520, 'srivats': 20521, 'stagnant': 20522, 'stain': 20523, 'stalk': 20524, 'stalkers': 20525, 'statewide': 20526, 'statistician': 20527, 'stenographer': 20528, 'steroids': 20529, 'stewart': 20530, 'stf': 20531, 'stiff': 20532, 'stinging': 20533, 'stoking': 20534, 'stree': 20535, 'strings': 20536, 'structured': 20537, 'stumbles': 20538, 'stumbling': 20539, 'su': 20540, 'submerged': 20541, 'subodh': 20542, 'succeeds': 20543, 'sucked': 20544, 'suhaib': 20545, 'suisse': 20546, 'sunglasses': 20547, 'superintendent': 20548, 'supremacists': 20549, 'suraj': 20550, 'surfer': 20551, 'surged': 20552, 'surrounds': 20553, 'sushmita': 20554, 'swachhata': 20555, 'sweeper': 20556, 'synonymous': 20557, 't.': 20558, 'tabu': 20559, 'tackles': 20560, 'taint': 20561, 'taisi': 20562, 'takht': 20563, 'talktime': 20564, 'tam': 20565, 'tammineni': 20566, 'tandem': 20567, 'tango': 20568, 'tantric': 20569, 'tathagata': 20570, 'tempo': 20571, 'terminus': 20572, 'th[r]ead': 20573, 'thefts': 20574, 'themediacat': 20575, 'thenews.com.pk': 20576, 'thickens': 20577, 'thirsty': 20578, 'thorium': 20579, 'tighter': 20580, 'timers': 20581, 'titans': 20582, 'tolstoy': 20583, 'tonsured': 20584, 'toon': 20585, 'toothbrush': 20586, 'toothless': 20587, 'topical': 20588, 'topsia': 20589, 'tortures': 20590, 'tournaments': 20591, 'towed': 20592, 'trackers': 20593, 'traction': 20594, 'trainers': 20595, 'transplants': 20596, 'traumatic': 20597, 'treasurywala': 20598, 'trim': 20599, 'triumphs': 20600, 'trusting': 20601, 'tseries': 20602, 'tshirts': 20603, 'turnbull': 20604, 'tytler': 20605, 'u.p': 20606, 'udham': 20607, 'um': 20608, 'umesh': 20609, 'ummer': 20610, 'underbelly': 20611, 'underlines': 20612, 'undertaken': 20613, 'undo': 20614, 'unfairly': 20615, 'unfazed': 20616, 'unfriendly': 20617, 'uniting': 20618, 'unkils': 20619, 'unprotected': 20620, 'unprovoked': 20621, 'unsecured': 20622, 'unsolicited': 20623, 'unusually': 20624, 'uplift': 20625, 'uscirf': 20626, 'usher': 20627, 'v2.0': 20628, 'vaccinated': 20629, 'varnika': 20630, 'varsha': 20631, 'vedam': 20632, 'venkatesh': 20633, 'vg': 20634, 'vibhushan': 20635, 'vicinity': 20636, 'vids': 20637, 'vikrant': 20638, 'vindicated': 20639, 'vipul': 20640, 'virar': 20641, 'vlogger': 20642, 'voda': 20643, 'voltage': 20644, 'vpns': 20645, 'vrinda': 20646, 'vvips': 20647, 'vvs': 20648, 'waale': 20649, 'wade': 20650, 'wager': 20651, 'waist': 20652, 'wang': 20653, 'wangchuk': 20654, 'warms': 20655, 'waterproof': 20656, 'watershed': 20657, 'waved': 20658, 'weathering': 20659, 'wellbeing': 20660, 'wendy': 20661, 'wildfire': 20662, 'witcher': 20663, 'wombs': 20664, 'wraps': 20665, 'wrecked': 20666, 'writ': 20667, 'wrongful': 20668, 'ws': 20669, 'xinhua': 20670, 'xmas': 20671, \"ya'll\": 20672, 'yadavs': 20673, 'yagya': 20674, 'yelling': 20675, 'yesudas': 20676, 'yoy': 20677, 'yuvi': 20678, 'zaidi': 20679, 'zoketym': 20680, 'zooms': 20681, 'zubair': 20682, '|hindi|': 20683, '||memory': 20684, '±': 20685, 'à': 20686, 'в': 20687, 'سے': 20688, 'کو': 20689, 'अखिलेश': 20690, 'अधिक': 20691, 'आपकी': 20692, 'आयोग': 20693, 'आरक्षण': 20694, 'ऐसी': 20695, 'ओर': 20696, 'करके': 20697, 'कार्ड': 20698, 'किए': 20699, 'कितने': 20700, 'किन्नर': 20701, 'किस': 20702, 'खास': 20703, 'खेल': 20704, 'गीत': 20705, 'चल': 20706, 'जाति': 20707, 'ज्यादा': 20708, 'ताकत': 20709, 'तीन': 20710, 'दिए': 20711, 'दिल': 20712, 'देखा': 20713, 'पटेल': 20714, 'परेशान': 20715, 'पहला': 20716, 'पहली': 20717, 'फ्री': 20718, 'बयान': 20719, 'भूलकर': 20720, 'मतदान': 20721, 'महिलाओं': 20722, 'माँ': 20723, 'मिली': 20724, 'मुझे': 20725, 'मुस्लिम': 20726, 'मोबाइल': 20727, 'रहेगा': 20728, 'रुपये': 20729, 'रोक': 20730, 'लेने': 20731, 'विभाग': 20732, 'विश्व': 20733, 'शो': 20734, 'सप्ताह': 20735, 'समाचार': 20736, 'सा': 20737, 'सेना': 20738, 'स्वास्थ्य': 20739, 'हूँ': 20740, 'हूं': 20741, 'होते': 20742, 'తెలివైన': 20743, 'రైమ్స్': 20744, '₹3': 20745, '₹5': 20746, '⚡': 20747, '✅': 20748, '🙌': 20749, '🤓': 20750, '-1': 20751, '-19': 20752, '1,700': 20753, '1,900': 20754, '1/3rd': 20755, '10.or': 20756, '100-day': 20757, '1400': 20758, '14000': 20759, '142': 20760, '150,000': 20761, '153': 20762, '155': 20763, '166': 20764, '185': 20765, '1901': 20766, '1930': 20767, '1933': 20768, '1960s': 20769, '2.42': 20770, '2027': 20771, '232': 20772, '245': 20773, '250,000': 20774, '255': 20775, '28-year': 20776, '2:30': 20777, '30sec': 20778, '310': 20779, '320': 20780, '321': 20781, '32nd': 20782, '349': 20783, '36,000': 20784, '37,000': 20785, '394': 20786, '40000': 20787, '404': 20788, '5-yr': 20789, '5.0': 20790, '5.2': 20791, '50th': 20792, '540': 20793, '600,000': 20794, '62-year': 20795, '69000': 20796, '7-point': 20797, '7.8': 20798, '8)': 20799, '9-month': 20800, '9.1': 20801, '@ani_news': 20802, '@arvindtm': 20803, '@barackobama': 20804, '@indiatoday': 20805, '@nsitharaman': 20806, '@officeofrg': 20807, '@republic': 20808, '@sardesairajdeep': 20809, '@smritiirani': 20810, '\\\\m/': 20811, 'a50': 20812, 'aamaadmiparty': 20813, 'aapki': 20814, 'aazadi': 20815, 'abattoirs': 20816, 'abc': 20817, 'abducts': 20818, 'abhimanyu': 20819, 'abide': 20820, 'absurdity': 20821, 'accorded': 20822, 'acronym': 20823, 'adaar': 20824, 'adapting': 20825, 'adblock': 20826, 'adblocker': 20827, 'adha': 20828, 'adhering': 20829, 'advocating': 20830, 'advt': 20831, 'afcat': 20832, 'affiliates': 20833, 'affirmative': 20834, 'aftab': 20835, 'agartala': 20836, 'aghori': 20837, 'agitated': 20838, 'agro': 20839, 'aiding': 20840, 'aikido': 20841, 'airbase': 20842, 'aircrafts': 20843, 'airfare': 20844, 'akal': 20845, 'akamai': 20846, 'akhnoor': 20847, 'akshaya': 20848, 'allahu': 20849, 'allu': 20850, 'altcoins': 20851, 'amaa': 20852, 'amateurs': 20853, 'amc': 20854, 'amputee': 20855, 'amrit': 20856, 'anecdote': 20857, 'annihilation': 20858, 'annoy': 20859, 'ant': 20860, 'antibody': 20861, 'antidote': 20862, 'anubhav': 20863, 'anwar': 20864, 'anyways': 20865, 'ape': 20866, 'apes': 20867, 'apologized': 20868, 'approving': 20869, 'araku': 20870, 'aramco': 20871, 'archaeologist': 20872, 'arches': 20873, 'arises': 20874, 'armaan': 20875, 'arsenic': 20876, 'arthur': 20877, 'aryabhatta': 20878, 'asal': 20879, 'aseemanand': 20880, 'ashore': 20881, 'askhistorians': 20882, 'assembling': 20883, 'assumes': 20884, 'astounding': 20885, 'atom': 20886, 'attractiveness': 20887, 'audacious': 20888, 'auditorium': 20889, 'auditors': 20890, 'audrey': 20891, 'aug.': 20892, 'autumn': 20893, 'avenged': 20894, 'averse': 20895, 'axes': 20896, 'ayega': 20897, 'azharuddin': 20898, 'b.sc': 20899, 'baaghi': 20900, 'baaja': 20901, 'babar': 20902, 'babe': 20903, 'backgrounds': 20904, 'bajpayee': 20905, 'bakr': 20906, 'balakrishna': 20907, 'balding': 20908, 'bale': 20909, 'ballots': 20910, 'banarjee': 20911, 'banaye': 20912, 'bande': 20913, 'banta': 20914, 'barbers': 20915, 'bares': 20916, 'barged': 20917, 'barks': 20918, 'barra': 20919, 'baseball': 20920, 'bathe': 20921, 'bathtub': 20922, 'batter': 20923, 'bbd': 20924, 'bday': 20925, 'bdsm': 20926, 'beads': 20927, 'bees': 20928, 'begum': 20929, 'bella': 20930, 'benefiting': 20931, 'bhaag': 20932, 'bharath': 20933, 'bhasha': 20934, 'bhawani': 20935, 'bhayandar': 20936, 'bhupesh': 20937, 'bhupinder': 20938, 'bhuvan': 20939, 'bidhuri': 20940, 'biggies': 20941, 'bikinis': 20942, 'billed': 20943, 'billiards': 20944, 'bipasha': 20945, 'biren': 20946, 'birender': 20947, 'bison': 20948, 'bitsat': 20949, 'bl': 20950, 'blaster': 20951, 'blitzkrieg': 20952, 'blurred': 20953, 'bodh': 20954, 'bolder': 20955, 'bolts': 20956, 'booker': 20957, 'booty': 20958, 'bopanna': 20959, 'bothering': 20960, 'bothers': 20961, 'bounds': 20962, 'bourse': 20963, 'bowed': 20964, 'bowled': 20965, 'bowlers': 20966, 'boxers': 20967, 'brags': 20968, 'breather': 20969, 'brew': 20970, 'brigading': 20971, 'brighten': 20972, 'brushes': 20973, 'brutalised': 20974, 'budge': 20975, 'buffet': 20976, 'bumps': 20977, 'bundle': 20978, 'bunker': 20979, 'burgeoning': 20980, 'burglars': 20981, 'buzzing': 20982, 'bystander': 20983, 'c40': 20984, 'cakewalk': 20985, 'camouflage': 20986, 'canals': 20987, 'cannibal': 20988, 'capture+': 20989, 'cardinal': 20990, 'carrom': 20991, 'cataract': 20992, 'categorized': 20993, 'catholics': 20994, 'cb': 20995, 'cbc': 20996, 'cdr': 20997, 'celebratory': 20998, 'celluloid': 20999, 'cements': 21000, 'cert': 21001, 'chad': 21002, 'chadda': 21003, 'chainsmokers': 21004, 'chaitanya': 21005, 'chakka': 21006, 'chalegi': 21007, 'chandrayaan-1': 21008, 'chandu': 21009, 'characteristic': 21010, 'characteristics': 21011, 'charan': 21012, 'chargesheeted': 21013, 'charismatic': 21014, 'cheeky': 21015, 'chester': 21016, 'chetak': 21017, 'cheteshwar': 21018, 'childbirth': 21019, 'chipko': 21020, 'choudhury': 21021, 'chupke': 21022, 'circulate': 21023, 'clamp': 21024, 'climax': 21025, 'clipped': 21026, 'clones': 21027, 'coats': 21028, 'cocaine': 21029, 'comet': 21030, 'commanders': 21031, 'commandments': 21032, 'commentators': 21033, 'commoners': 21034, 'commutes': 21035, 'composite': 21036, 'compulsion': 21037, 'conclusive': 21038, 'condone': 21039, 'condé': 21040, 'confer': 21041, 'confuse': 21042, 'considerations': 21043, 'constraints': 21044, 'contamination': 21045, 'contenders': 21046, 'contention': 21047, 'contradictory': 21048, 'coolpad': 21049, 'cools': 21050, 'cooperating': 21051, 'copywriting': 21052, 'costed': 21053, 'covfefe': 21054, 'cpt': 21055, 'crafts': 21056, 'crater': 21057, 'creeps': 21058, 'criminalises': 21059, 'criterion': 21060, 'crooked': 21061, 'crossover': 21062, 'crowdfund': 21063, 'crs': 21064, 'cryogenic': 21065, 'cryptos': 21066, 'cuisines': 21067, 'culpable': 21068, 'cumulative': 21069, 'cusp': 21070, 'cybercrime': 21071, \"d'silva\": 21072, 'dakshina': 21073, 'dallas': 21074, 'dashcam': 21075, 'dashed': 21076, 'dawkins': 21077, 'dawn.com': 21078, 'dearly': 21079, 'debarred': 21080, 'debited': 21081, 'decentralised': 21082, 'deciphering': 21083, 'decorate': 21084, 'deewana': 21085, 'defaulting': 21086, 'defected': 21087, 'degrading': 21088, 'delhipolls': 21089, 'delhivery': 21090, 'delink': 21091, 'demeaning': 21092, 'demographics': 21093, 'deras': 21094, 'despicable': 21095, 'desserts': 21096, 'deterrent': 21097, 'dh': 21098, 'dhamaal': 21099, 'dhanushkodi': 21100, 'dhavan': 21101, 'dhoolmitti': 21102, 'dhruva': 21103, 'dia': 21104, 'diagram': 21105, 'dice': 21106, 'dictatorial': 21107, 'digestion': 21108, 'diggi': 21109, 'diluting': 21110, 'dina': 21111, 'dine': 21112, 'dipp': 21113, 'dipped': 21114, 'disconnection': 21115, 'discrepancy': 21116, 'discretion': 21117, 'disliked': 21118, 'dismantling': 21119, 'dismayed': 21120, 'disown': 21121, 'dispensed': 21122, 'dissenting': 21123, 'distorting': 21124, 'distributor': 21125, 'distrust': 21126, 'diversified': 21127, 'divulge': 21128, 'dl': 21129, 'dodged': 21130, 'dodges': 21131, 'doga': 21132, 'doge': 21133, 'doha': 21134, 'dome': 21135, 'donateyoursweat': 21136, 'don’ts': 21137, 'dosti': 21138, 'doubted': 21139, 'doubting': 21140, 'drank': 21141, 'dreadful': 21142, 'dredging': 21143, 'drilling': 21144, 'droughts': 21145, 'drs': 21146, 'dsc': 21147, 'dubstep': 21148, 'duel': 21149, 'dunzo': 21150, 'dushman': 21151, 'dwarf': 21152, 'dwivedi': 21153, 'dynamos': 21154, 'eclipses': 21155, 'ecology': 21156, 'edges': 21157, 'eduvogue': 21158, 'effected': 21159, 'electrify': 21160, 'electrifying': 21161, 'element': 21162, 'emailed': 21163, 'embark': 21164, 'embraer': 21165, 'emperors': 21166, 'emphasis': 21167, 'endanger': 21168, 'endure': 21169, 'engraved': 21170, 'enjoyable': 21171, 'ensues': 21172, 'eradicating': 21173, 'erect': 21174, 'esi': 21175, 'etfs': 21176, 'ethnically': 21177, 'ettech': 21178, 'evading': 21179, 'evaluate': 21180, 'evidences': 21181, 'evils': 21182, 'ex-': 21183, 'execs': 21184, 'executing': 21185, 'exemplary': 21186, 'exhaustive': 21187, 'exiled': 21188, 'expel': 21189, 'explanations': 21190, 'f**king': 21191, 'f.': 21192, 'f7': 21193, 'faber': 21194, 'fabrics': 21195, 'fade': 21196, 'faithful': 21197, 'fallacies': 21198, 'falters': 21199, 'fanning': 21200, 'fanny': 21201, 'farting': 21202, 'favors': 21203, 'fci': 21204, 'feedbacks': 21205, 'felicitates': 21206, 'felled': 21207, 'femina': 21208, 'fenning': 21209, 'ferguson': 21210, 'ffs': 21211, 'fiba': 21212, 'fidayeen': 21213, 'fied': 21214, 'filipino': 21215, 'fingerstyle': 21216, 'fisheries': 21217, 'fiverr': 21218, 'floated': 21219, 'flyovers': 21220, 'foetuses': 21221, 'foment': 21222, 'foodies': 21223, 'foothold': 21224, 'forays': 21225, 'forbid': 21226, 'forecasting': 21227, 'forego': 21228, 'foremost': 21229, 'forsaken': 21230, 'forts': 21231, 'fortunate': 21232, 'fountains': 21233, 'francois': 21234, 'freddie': 21235, 'freezer': 21236, 'fringes': 21237, 'frontrunner': 21238, 'fsi': 21239, 'fuckers': 21240, 'fudge': 21241, 'fulfilling': 21242, 'funk': 21243, 'furnished': 21244, 'gajja': 21245, 'gangotri': 21246, 'gauahar': 21247, 'genie': 21248, 'gg': 21249, 'ghazi': 21250, 'ginger': 21251, 'glorify': 21252, 'godfather': 21253, 'godown': 21254, 'golgappa': 21255, 'goofs': 21256, 'goose': 21257, 'gore': 21258, 'gori': 21259, 'gospel': 21260, 'governer': 21261, 'govtjobforms': 21262, 'gpa': 21263, 'grabbed': 21264, 'granite': 21265, 'greeks': 21266, 'greenhouse': 21267, 'greens': 21268, 'grewal': 21269, 'grinder': 21270, 'grinding': 21271, 'gropes': 21272, 'grp': 21273, 'gruelling': 21274, 'gruesome': 21275, 'gsi': 21276, 'gsm': 21277, 'gujrati': 21278, 'gunfight': 21279, 'gurdas': 21280, 'gurpurab': 21281, 'gut': 21282, 'gya': 21283, 'hagel': 21284, 'halo': 21285, 'halp': 21286, 'halved': 21287, 'hamas': 21288, 'hamilton': 21289, 'handicapped': 21290, 'handicraft': 21291, 'hantavirus': 21292, 'haq': 21293, 'haqqani': 21294, 'hara': 21295, 'hardliner': 21296, 'hardworking': 21297, 'harsher': 21298, 'harvesters': 21299, 'haste': 21300, 'headless': 21301, 'heckling': 21302, 'hein': 21303, 'heir': 21304, 'helsinki': 21305, 'hereby': 21306, 'hingis': 21307, 'hiphop': 21308, 'hirani': 21309, 'historically': 21310, 'historyporn': 21311, 'hoard': 21312, 'hoisted': 21313, 'hola': 21314, 'hollyshit': 21315, 'homebuyers': 21316, 'hona': 21317, 'hookup': 21318, 'hornbill': 21319, 'horribly': 21320, 'hostesses': 21321, 'hotbed': 21322, 'hotline': 21323, 'howitzers': 21324, 'hpv': 21325, 'htls': 21326, 'html': 21327, 'hukum': 21328, 'humbled': 21329, 'humbly': 21330, 'humorous': 21331, 'hungarian': 21332, 'huts': 21333, 'hv': 21334, 'hydrocarbon': 21335, 'hydrogen': 21336, 'icm': 21337, 'ik': 21338, 'ilo': 21339, 'immature': 21340, 'imp': 21341, 'impartial': 21342, 'implant': 21343, 'implicated': 21344, 'impoverished': 21345, 'incessant': 21346, 'incidence': 21347, 'incorrectly': 21348, 'incubators': 21349, 'indebted': 21350, 'independents': 21351, 'india[old': 21352, 'indianpeoplequora': 21353, 'indianrailways': 21354, 'influencing': 21355, 'informers': 21356, 'injuring': 21357, 'inquire': 21358, 'insaan': 21359, 'insas': 21360, 'inscription': 21361, 'inspectors': 21362, 'intellectually': 21363, 'intend': 21364, 'intentional': 21365, 'interacted': 21366, 'interval': 21367, 'intricate': 21368, 'intruder': 21369, 'intrusive': 21370, 'invoked': 21371, 'ipv6': 21372, 'irresistible': 21373, 'j&k': 21374, 'jaaferi': 21375, 'jaana': 21376, 'jadoo': 21377, 'jaffrabad': 21378, 'jagjit': 21379, 'jailing': 21380, 'jainism': 21381, 'jalebi': 21382, 'jalota': 21383, 'jameel': 21384, 'janam': 21385, 'jasmine': 21386, 'jeetega': 21387, 'jeetendra': 21388, 'jinx': 21389, 'jiotv': 21390, 'jjp': 21391, 'jklf': 21392, 'jn': 21393, 'jodi': 21394, 'jogging': 21395, 'jol': 21396, 'jose': 21397, 'joshimath': 21398, 'josé': 21399, 'journeys': 21400, 'joyville': 21401, 'jug': 21402, 'juices': 21403, 'junagadh': 21404, 'junked': 21405, 'juster': 21406, 'k5': 21407, 'k6': 21408, 'kagaz': 21409, 'kailasa': 21410, 'kalanick': 21411, 'kalaripayattu': 21412, 'kalash': 21413, 'kalgudi': 21414, 'kamakhya': 21415, 'kangujam': 21416, 'kankalamma': 21417, 'kanwariyas': 21418, 'kanye': 21419, 'karwar': 21420, 'kathak': 21421, 'kathakali': 21422, 'katheria': 21423, 'katiyabaaz': 21424, 'kaza': 21425, 'keerai': 21426, 'kehna': 21427, 'ketchup': 21428, 'keto': 21429, 'kgb': 21430, 'khaira': 21431, 'khali': 21432, 'khalistanis': 21433, 'khasi': 21434, 'khirki': 21435, 'khoj': 21436, 'kickstart': 21437, 'kidnappers': 21438, 'kilo': 21439, 'kipling': 21440, 'kohima': 21441, 'konark': 21442, 'kuala': 21443, 'kukreja': 21444, 'kulfi': 21445, 'kundali': 21446, 'kurien': 21447, 'labeled': 21448, 'labrador': 21449, 'lace': 21450, 'lacked': 21451, 'lactose': 21452, 'laddoo': 21453, 'laddoos': 21454, 'ladke': 21455, 'lakhimpur': 21456, 'lakme': 21457, 'landless': 21458, 'landscapes': 21459, 'lankans': 21460, 'lateral': 21461, 'laud': 21462, 'laughable': 21463, 'laundered': 21464, 'lawless': 21465, 'laxmikant': 21466, 'leanings': 21467, 'learners': 21468, 'leases': 21469, 'ledger': 21470, 'leeco': 21471, 'leggings': 21472, 'legitimacy': 21473, 'lena': 21474, 'letterman': 21475, 'liberated': 21476, 'licking': 21477, 'lighthouse': 21478, 'lightroom': 21479, 'linear': 21480, 'listens': 21481, 'litchi': 21482, 'literal': 21483, 'localities': 21484, 'loco': 21485, 'loudly': 21486, 'loyalist': 21487, 'ltr': 21488, 'luckiest': 21489, 'lufthansa': 21490, 'luis': 21491, 'lulz': 21492, 'lumpur': 21493, 'lures': 21494, 'lurkers': 21495, 'lynches': 21496, 'm.s.': 21497, 'macroeconomic': 21498, 'madhubani': 21499, 'madhyapradesh': 21500, 'mahaan': 21501, 'mahad': 21502, 'mahadevan': 21503, 'mahakal': 21504, 'maj': 21505, 'majors': 21506, 'mala': 21507, 'malgudi': 21508, 'maligned': 21509, 'mallesh': 21510, 'mandela': 21511, 'manforce': 21512, 'manhandling': 21513, 'manipulate': 21514, 'manipulative': 21515, 'manju': 21516, 'manufactures': 21517, 'manusmriti': 21518, 'manvendra': 21519, 'mard': 21520, 'marshall': 21521, 'martina': 21522, 'marxists': 21523, 'masking': 21524, 'massages': 21525, 'masterchef': 21526, 'masturbates': 21527, 'mathematicians': 21528, 'mathews': 21529, 'matt': 21530, 'maxepe': 21531, 'mayoral': 21532, 'mayur': 21533, 'mcafee': 21534, 'mechanisms': 21535, 'meh': 21536, 'mentoo': 21537, 'merging': 21538, 'metalheads': 21539, 'metallica': 21540, 'mh370': 21541, 'miami': 21542, 'microbiology': 21543, 'mig-29': 21544, 'migrations': 21545, 'miley': 21546, 'mindblowing': 21547, 'minerva': 21548, 'misbehaved': 21549, 'misconception': 21550, 'misinterpreting': 21551, 'misreports': 21552, 'mistress': 21553, 'mitro': 21554, 'mixes': 21555, 'mixing': 21556, 'mobbed': 21557, 'modeling': 21558, 'modi-': 21559, 'modi`s': 21560, 'modification': 21561, 'modifies': 21562, 'mohamed': 21563, 'mohsin': 21564, 'momma': 21565, 'mona': 21566, 'monika': 21567, 'monorail': 21568, 'motera': 21569, 'mothership': 21570, 'motilal': 21571, 'motorable': 21572, 'mould': 21573, 'ms.': 21574, 'multiplexes': 21575, 'multipurpose': 21576, 'mundra': 21577, 'munjal': 21578, 'musalman': 21579, 'mutilates': 21580, 'muzzafarnagar': 21581, 'mysql': 21582, 'naa': 21583, 'nagraj': 21584, 'nambi': 21585, 'nankana': 21586, 'nap': 21587, 'narada': 21588, 'narela': 21589, 'navsari': 21590, 'nbfcs': 21591, 'neat': 21592, 'necklaces': 21593, 'neeti': 21594, 'negi': 21595, 'negotiable': 21596, 'nellie': 21597, 'neoliberal': 21598, 'nep': 21599, 'nerds': 21600, 'newlywed': 21601, 'newsroom': 21602, 'nfl': 21603, 'nicholas': 21604, 'nickname': 21605, 'nilgiris': 21606, 'nintendo': 21607, 'normalise': 21608, 'normalises': 21609, 'ns': 21610, 'nso': 21611, 'nubia': 21612, 'oak': 21613, 'oblivious': 21614, 'obnoxious': 21615, 'observers': 21616, 'obstruction': 21617, 'occasionally': 21618, 'onsite': 21619, 'oommen': 21620, 'op6': 21621, 'operates': 21622, 'opportunist': 21623, 'optic': 21624, 'opting': 21625, 'oranges': 21626, 'ordnance': 21627, 'ore': 21628, 'otps': 21629, 'outlier': 21630, 'outnumber': 21631, 'overstated': 21632, 'overstaying': 21633, 'p]eople': 21634, 'p]india': 21635, 'paas': 21636, 'palanisamy': 21637, 'pale': 21638, 'palika': 21639, 'palolem': 21640, 'palwal': 21641, 'pancholi': 21642, 'pandavas': 21643, 'pandith': 21644, 'panjab': 21645, 'panna': 21646, 'panvel': 21647, 'papdi': 21648, 'papon': 21649, 'paradigm': 21650, 'parag': 21651, 'paragliding': 21652, 'paralympic': 21653, 'parganas': 21654, 'pari': 21655, 'parity': 21656, 'participates': 21657, 'partymen': 21658, 'parvez': 21659, 'pataudi': 21660, 'paved': 21661, 'pda': 21662, 'peacekeeping': 21663, 'pedestrians': 21664, 'peering': 21665, 'pehli': 21666, 'perceive': 21667, 'perfected': 21668, 'persists': 21669, 'petersburg': 21670, 'petitioning': 21671, 'ph': 21672, 'phagwara': 21673, 'pharrell': 21674, 'phil': 21675, 'phool': 21676, 'pia': 21677, 'pilgrimages': 21678, 'pilibhit': 21679, 'pillow': 21680, 'pinky': 21681, 'pioneers': 21682, 'plagued': 21683, 'plains': 21684, 'planets': 21685, 'plank': 21686, 'plasma': 21687, 'plastics': 21688, 'playwright': 21689, 'plumbing': 21690, 'plunder': 21691, 'plzz': 21692, 'pmay': 21693, 'pmcares': 21694, 'poachers': 21695, 'poisons': 21696, 'polarising': 21697, 'policewoman': 21698, 'pollutants': 21699, 'ponnappa': 21700, 'poori': 21701, 'popping': 21702, 'porbandar': 21703, 'pornstar': 21704, 'portions': 21705, 'pottery': 21706, 'potty': 21707, 'pows': 21708, 'praja': 21709, 'pranay': 21710, 'pratyusha': 21711, 'pravasi': 21712, 'precise': 21713, 'pregnancies': 21714, 'prehistoric': 21715, 'prema': 21716, 'premeditated': 21717, 'prequel': 21718, 'privatised': 21719, 'probables': 21720, 'proceeds': 21721, 'professions': 21722, 'progression': 21723, 'proprietorship': 21724, 'prudent': 21725, 'psyche': 21726, 'psychologists': 21727, 'puc': 21728, 'puller': 21729, 'pullout': 21730, 'punya': 21731, 'puram': 21732, 'purie': 21733, 'qazi': 21734, 'qila': 21735, 'quarrel': 21736, 'quash': 21737, 'quashing': 21738, 'quell': 21739, 'quintessential': 21740, 'quorans': 21741, 'ra': 21742, 'radicalization': 21743, 'rafting': 21744, 'raho': 21745, 'raita': 21746, 'rajsamand': 21747, 'rakhine': 21748, 'raking': 21749, 'rallying': 21750, 'ramachandran': 21751, 'ramanan': 21752, 'ramgarh': 21753, 'ramsay': 21754, 'ranbaxy': 21755, 'randhawa': 21756, 'ranging': 21757, 'rangoon': 21758, 'rapped': 21759, 'ratify': 21760, 'rationality': 21761, 'rava': 21762, 'raveena': 21763, 'ravichandran': 21764, 'raymond': 21765, 'rayudu': 21766, 'reboot': 21767, 'recalled': 21768, 'recalling': 21769, 'recharged': 21770, 'reckoning': 21771, 'rectify': 21772, 'rectum': 21773, 'recuses': 21774, 'rediff': 21775, 'redress': 21776, 'reef': 21777, 'refined': 21778, 'regain': 21779, 'regimes': 21780, 'registrar': 21781, 'relook': 21782, 'remnants': 21783, 'rendering': 21784, 'repaired': 21785, 'reparations': 21786, 'repatriation': 21787, 'repoll': 21788, 'repolling': 21789, 'reseller': 21790, 'resemble': 21791, 'resilience': 21792, 'resolute': 21793, 'resonate': 21794, 'resounding': 21795, 'respondents': 21796, 'restricting': 21797, 'resumption': 21798, 'retort': 21799, 'retracted': 21800, 'reunites': 21801, 'revolving': 21802, 'riaz': 21803, 'righteous': 21804, 'rigid': 21805, 'ritiriwaz': 21806, 'rizvi': 21807, 'rjio': 21808, 'robes': 21809, 'romeos': 21810, 'roshni': 21811, 'ross': 21812, 'routers': 21813, 'routinely': 21814, 'rs.1': 21815, 'rs.200': 21816, 'rues': 21817, 'russians': 21818, 'rustom': 21819, 'rw': 21820, 'saala': 21821, 'sabir': 21822, 'sabzar': 21823, 'safeguards': 21824, 'saff': 21825, 'saffronise': 21826, 'saikia': 21827, 'saleem': 21828, 'salons': 21829, 'salvation': 21830, 'samajh': 21831, 'sambhar': 21832, 'sammelan': 21833, 'samrat': 21834, 'sanctuaries': 21835, 'santhosh': 21836, 'sarangi': 21837, 'satara': 21838, 'satyameva': 21839, 'savdhaan': 21840, 'scaling': 21841, 'scamster': 21842, 'scanned': 21843, 'scarves': 21844, 'schedules': 21845, 'scorer': 21846, 'scotch': 21847, 'scrambled': 21848, 'screws': 21849, 'seasoned': 21850, 'seater': 21851, 'segregated': 21852, 'sensationalism': 21853, 'sept.': 21854, 'serbia': 21855, 'servicing': 21856, 'sewa': 21857, 'sexpert': 21858, 'sezs': 21859, 'shaheenbagh': 21860, 'shantanu': 21861, 'shatters': 21862, 'shawls': 21863, 'sheikhs': 21864, 'shelar': 21865, 'shergill': 21866, 'shipyard': 21867, 'sho': 21868, 'shortcomings': 21869, 'showcased': 21870, 'shuddh': 21871, 'shuffle': 21872, 'shutters': 21873, 'sia': 21874, 'sideline': 21875, 'signboard': 21876, 'silences': 21877, 'sims': 21878, 'skyscrapers': 21879, 'slippery': 21880, 'smartly': 21881, 'smo': 21882, 'smokes': 21883, 'snail': 21884, 'soaps': 21885, 'sober': 21886, 'sohail': 21887, 'solang': 21888, 'sonipat': 21889, 'sortie': 21890, 'sows': 21891, 'spandana': 21892, 'spares': 21893, 'sparking': 21894, 'sparkle': 21895, 'sparrows': 21896, 'specialty': 21897, 'speedtest': 21898, 'splendid': 21899, 'spontaneous': 21900, 'spoon': 21901, 'spurious': 21902, 'sree': 21903, 'srikrishna': 21904, 'srimad': 21905, 'srishti': 21906, 'stacked': 21907, 'stained': 21908, 'stalemate': 21909, 'steadily': 21910, 'steering': 21911, 'stepwell': 21912, 'stifle': 21913, 'stitches': 21914, 'stockpiles': 21915, 'storytellers': 21916, 'strains': 21917, 'strangles': 21918, 'streamline': 21919, 'strengthened': 21920, 'stressful': 21921, 'stubborn': 21922, 'subah': 21923, 'subordinate': 21924, 'subtly': 21925, 'successive': 21926, 'sudarsan': 21927, 'sudheer': 21928, 'suffocating': 21929, 'sunderbans': 21930, 'sunitha': 21931, 'sunjuwan': 21932, 'superbug': 21933, 'superstitious': 21934, 'surender': 21935, 'surinder': 21936, 'swallow': 21937, 'swan': 21938, 'swiftly': 21939, 'swimmer': 21940, 'swiped': 21941, 'sympathiser': 21942, 'sympathizer': 21943, 'tabrez': 21944, 'tagline': 21945, 'tailspin': 21946, 'tamilian': 21947, 'tangled': 21948, 'tanveer': 21949, 'tarah': 21950, 'tasted': 21951, 'taunt': 21952, 'teasers': 21953, 'technicians': 21954, 'tehseen': 21955, 'telengana': 21956, 'teleservices': 21957, 'terminally': 21958, 'terroristan': 21959, 'terry': 21960, 'testimonies': 21961, 'tezpur': 21962, 'thaali': 21963, 'thain': 21964, 'thakurs': 21965, 'thatcher': 21966, 'theek': 21967, 'thewire': 21968, 'thinktank': 21969, 'thr': 21970, 'thrives': 21971, 'thy': 21972, 'ti': 21973, 'tick': 21974, 'tifr': 21975, 'tilt': 21976, 'timetable': 21977, 'tin': 21978, 'tombs': 21979, 'tonic': 21980, 'toshiba': 21981, 'tr': 21982, 'traits': 21983, 'travenjo': 21984, 'trillions': 21985, 'trilogy': 21986, 'trinity': 21987, 'troublesome': 21988, 'truschke': 21989, 'tsering': 21990, 'tsrtc': 21991, 'tumbbad': 21992, 'tumble': 21993, 'tumbles': 21994, 'tutoring': 21995, 'tweeter': 21996, 'twilight': 21997, 'u.s.-china': 21998, 'uav': 21999, 'udaan': 22000, 'udayakumar': 22001, 'ulhasnagar': 22002, 'umm': 22003, 'unbearable': 22004, 'uncommon': 22005, 'unconfirmed': 22006, 'uncovering': 22007, 'undersea': 22008, 'undoing': 22009, 'unease': 22010, 'unholy': 22011, 'unilaterally': 22012, 'unleashing': 22013, 'unmoved': 22014, 'uno': 22015, 'unspent': 22016, 'unsustainable': 22017, 'unto': 22018, 'unwarranted': 22019, 'upheld': 22020, 'uphill': 22021, 'uska': 22022, 'utilities': 22023, 'uttarpradesh': 22024, 'uzma': 22025, 'vandals': 22026, 'velvet': 22027, 'vennu': 22028, 'verb': 22029, 'verdicts': 22030, 'verizon': 22031, 'vests': 22032, 'vibrating': 22033, 'vigyan': 22034, 'villa': 22035, 'vincent': 22036, 'violin': 22037, 'violinist': 22038, 'vipassana': 22039, 'vishvas': 22040, 'visibly': 22041, 'visva': 22042, 'vlogging': 22043, 'vohra': 22044, 'voiced': 22045, 'voicing': 22046, 'vtu': 22047, 'vyas': 22048, 'waiter': 22049, 'wal': 22050, 'wales': 22051, 'waley': 22052, 'waning': 22053, 'warmest': 22054, 'warring': 22055, 'watchlist': 22056, 'wearables': 22057, 'weightlifting': 22058, 'wherein': 22059, 'whooping': 22060, 'wigs': 22061, 'winding': 22062, 'wit': 22063, 'withholding': 22064, \"won't\": 22065, 'worm': 22066, 'worshiping': 22067, 'worships': 22068, 'wr': 22069, 'wreak': 22070, 'wrecking': 22071, 'wrist': 22072, 'wynk': 22073, 'x2': 22074, 'xat': 22075, 'xinjiang': 22076, 'xposted': 22077, 'yc': 22078, 'yudh': 22079, 'zari': 22080, 'zebra': 22081, 'zilla': 22082, 'zipdial': 22083, 'zp': 22084, 'zte': 22085, 'اور': 22086, 'ایک': 22087, 'अच्छा': 22088, 'अध्यापक': 22089, 'अमित': 22090, 'इस्तीफा': 22091, 'कथा': 22092, 'कमाए': 22093, 'कमाने': 22094, 'कराने': 22095, 'कविता': 22096, 'गाँधी': 22097, 'गाना': 22098, 'गुस्सा': 22099, 'गोली': 22100, 'चालीसा': 22101, 'जनवरी': 22102, 'जन्म': 22103, 'जल्दी': 22104, 'जवान': 22105, 'जाएगा': 22106, 'जिओ': 22107, 'जैसा': 22108, 'डाउनलोड': 22109, 'डाला': 22110, 'नंबर': 22111, 'नवरात्रि': 22112, 'नींद': 22113, 'नीचे': 22114, 'नोटबंदी': 22115, 'पत्नी': 22116, 'पाक': 22117, 'प्रशिक्षण': 22118, 'फायदे': 22119, 'फोटो': 22120, 'बनाम': 22121, 'बाहुबली': 22122, 'बैठक': 22123, 'बैठे': 22124, 'बड़ी': 22125, 'बड़े': 22126, 'महान': 22127, 'मार': 22128, 'मिल': 22129, 'मिलेगी': 22130, 'मुंबई': 22131, 'मुख्यमंत्री': 22132, 'यात्रा': 22133, 'योग': 22134, 'राहत': 22135, 'रुपए': 22136, 'रूप': 22137, 'रोचक': 22138, 'लक्ष्मी': 22139, 'विकास': 22140, 'विराट': 22141, 'विरोध': 22142, 'संसद': 22143, 'सपना': 22144, 'सफर': 22145, 'सहायक': 22146, 'सारे': 22147, 'सी': 22148, 'सुना': 22149, 'सुबह': 22150, 'हमारा': 22151, 'हैरान': 22152, 'होना': 22153, 'থেকে': 22154, 'కంకాలమ్మ': 22155, 'కాళ్ళ': 22156, 'కోతి': 22157, 'గజ్జ': 22158, 'గాడిద': 22159, '₹2': 22160, '₹2,000': 22161, '₹5000': 22162, '☺': 22163, '🏽\\u200d': 22164, '💣': 22165, '😛': 22166, '🚨': 22167, '0.2': 22168, '1.5k': 22169, '10,500': 22170, '10-month': 22171, '10-point': 22172, '10/10': 22173, '11,100': 22174, '11-yr': 22175, '11.5': 22176, '1199': 22177, '13000': 22178, '133': 22179, '14-day': 22180, '148': 22181, '15-day': 22182, '156': 22183, '16-yr': 22184, '164': 22185, '168': 22186, '182': 22187, '187': 22188, '1897': 22189, '19-yr': 22190, '1913': 22191, '1919': 22192, '192': 22193, '1920s': 22194, '1927': 22195, '1932': 22196, '1934': 22197, '1935': 22198, '1937': 22199, '1968': 22200, '1billion': 22201, '1l': 22202, '2.28': 22203, '2.50': 22204, '2.9': 22205, '2/3': 22206, '2000rs': 22207, '2017/18': 22208, '206': 22209, '207': 22210, '215': 22211, '22-yr': 22212, '235': 22213, '26,000': 22214, '264': 22215, '279': 22216, '2x': 22217, '3-yr': 22218, '3.74': 22219, '303': 22220, '307': 22221, '3120': 22222, '33,000': 22223, '33-year': 22224, '34,000': 22225, '35k': 22226, '3b': 22227, '4-day': 22228, '4.1': 22229, '4000x3000': 22230, '41,000': 22231, '4160': 22232, '41st': 22233, '4500': 22234, '4x': 22235, '5-day': 22236, '5-month': 22237, '5-trillion': 22238, '5.1': 22239, '51,000': 22240, '516': 22241, '5184': 22242, '52-year': 22243, '549': 22244, '577': 22245, '5:30': 22246, '5a': 22247, '5l': 22248, '60-year': 22249, '60th': 22250, '63rd': 22251, '68500': 22252, '69th': 22253, '7,500': 22254, '7.7': 22255, '714': 22256, '730': 22257, '780': 22258, '7rcr': 22259, '8-month': 22260, '85,000': 22261, '87th': 22262, '89,000': 22263, '8k': 22264, '8x': 22265, '9-yr': 22266, '90,000': 22267, '91,000': 22268, '9i': 22269, ':-(': 22270, '@adviceadda': 22271, '@amitshahoffice': 22272, '@headlinestoday': 22273, '@indianexpress': 22274, '@rahulgandhi': 22275, '@timesnow': 22276, 'a.r.rahman': 22277, 'a5': 22278, 'a6000': 22279, 'a[r]e': 22280, 'aaron': 22281, 'aatish': 22282, 'aayush': 22283, 'abbreviations': 22284, 'abstract': 22285, 'academicians': 22286, 'acca': 22287, 'accel': 22288, 'accessibility': 22289, 'accomplish': 22290, 'accumulated': 22291, 'additionally': 22292, 'adjourns': 22293, 'adrenaline': 22294, 'adulteration': 22295, 'adversely': 22296, 'affirms': 22297, 'afforestation': 22298, 'ahemdabad': 22299, 'ahmadiyya': 22300, 'aibroast': 22301, 'airbags': 22302, 'ajith': 22303, 'akhara': 22304, 'ala': 22305, 'aladdin': 22306, 'alexa.com': 22307, 'alienation': 22308, 'alleviate': 22309, 'alp': 22310, 'alvi': 22311, 'ameer': 22312, 'amicus': 22313, 'amitav': 22314, 'amitshah': 22315, 'amphibious': 22316, 'amrish': 22317, 'amy': 22318, 'analyses': 22319, 'ancestor': 22320, 'andhadhun': 22321, 'andromeda': 22322, 'anguish': 22323, 'animosity': 22324, 'anirban': 22325, 'anish': 22326, 'anniversaries': 22327, 'annular': 22328, 'anomaly': 22329, 'anon': 22330, 'anthems': 22331, 'ants': 22332, 'aol': 22333, 'appealed': 22334, 'appeasing': 22335, 'apprehension': 22336, 'aquaguard': 22337, 'arati': 22338, 'arbaaz': 22339, 'arbitrarily': 22340, 'archaeology': 22341, 'archived': 22342, 'ardent': 22343, 'arising': 22344, 'arpita': 22345, 'arshad': 22346, 'artefacts': 22347, 'ascertain': 22348, 'ashtami': 22349, 'assassinate': 22350, 'asses': 22351, 'assisted': 22352, 'assumption': 22353, 'assumptions': 22354, 'astana': 22355, 'astro': 22356, 'ath': 22357, 'ather': 22358, 'athletic': 22359, 'atithi': 22360, 'attachment': 22361, 'attrition': 22362, 'audiophiles': 22363, 'aussies': 22364, 'austin': 22365, 'authenticate': 22366, 'availed': 22367, 'avatars': 22368, 'awarding': 22369, 'ayurved': 22370, 'azure': 22371, 'babbu': 22372, 'backfoot': 22373, 'backtracks': 22374, 'backwardness': 22375, 'badshah': 22376, 'baghdadi': 22377, 'baghel': 22378, 'bahraich': 22379, 'bakarmax': 22380, 'balconies': 22381, 'balika': 22382, 'balochi': 22383, 'bamboozled': 22384, 'banaya': 22385, 'banda': 22386, 'baner': 22387, 'bangaloreans': 22388, 'bannerjee': 22389, 'banquets': 22390, 'barabanki': 22391, 'barak': 22392, 'barbie': 22393, 'barbs': 22394, 'bard': 22395, 'baywatch': 22396, 'bce': 22397, 'bcom': 22398, 'bearer': 22399, 'beasts': 22400, 'beauties': 22401, 'bekal': 22402, 'beleaguered': 22403, 'believable': 22404, 'bellary': 22405, 'benares': 22406, 'beniwal': 22407, 'bestselling': 22408, 'betraying': 22409, 'bhadohi': 22410, 'bhaichung': 22411, 'bhaiyo': 22412, 'bharuch': 22413, 'bhatti': 22414, 'bhavana': 22415, 'bhendi': 22416, 'bhilai': 22417, 'bhosale': 22418, 'bhubaneshwar': 22419, 'bidi': 22420, 'bilaspur': 22421, 'biotech': 22422, 'bismillah': 22423, 'bitches': 22424, 'blacklisting': 22425, 'blacklists': 22426, 'blacks': 22427, 'blindness': 22428, 'blossom': 22429, 'blu': 22430, 'blur': 22431, 'blurring': 22432, 'boardroom': 22433, 'bode': 22434, 'bodybuilder': 22435, 'bogey': 22436, 'boiler': 22437, 'boldest': 22438, 'bom': 22439, 'boney': 22440, 'bonnet': 22441, 'bootleg': 22442, 'bordering': 22443, 'bounces': 22444, 'bowls': 22445, 'brandishes': 22446, 'brazenly': 22447, 'breads': 22448, 'breeze': 22449, 'brie': 22450, 'brisk': 22451, 'broacha': 22452, 'broadcasts': 22453, 'broadly': 22454, 'broccoli': 22455, 'broking': 22456, 'brooklyn': 22457, 'bruised': 22458, 'bs6': 22459, 'bud': 22460, 'buldhana': 22461, 'buri': 22462, 'buries': 22463, 'burnout': 22464, 'bursts': 22465, 'cabbies': 22466, 'calculating': 22467, 'calvin': 22468, 'cams': 22469, 'canadians': 22470, 'cancellations': 22471, 'cane': 22472, 'cannons': 22473, 'cannot': 22474, 'capping': 22475, 'capsules': 22476, 'carbide': 22477, 'cardamom': 22478, 'carol': 22479, 'carols': 22480, 'cartridges': 22481, 'cathedral': 22482, 'cautionary': 22483, 'ccea': 22484, 'ceased': 22485, 'celestial': 22486, 'cemetery': 22487, 'centered': 22488, 'centrist': 22489, 'cerebral': 22490, 'ceremonies': 22491, 'certainty': 22492, 'certify': 22493, 'ch': 22494, 'cha': 22495, 'chaiwallah': 22496, 'chakravarty': 22497, 'chalta': 22498, 'chandrakant': 22499, 'chanu': 22500, 'charms': 22501, 'charted': 22502, 'chashma': 22503, 'chatbot': 22504, 'chathurthi': 22505, 'chatroom': 22506, 'chattarpur': 22507, 'chaudhry': 22508, 'cheaply': 22509, 'checkpost': 22510, 'chettri': 22511, 'chinmayi': 22512, 'chipset': 22513, 'chirag': 22514, 'chirping': 22515, 'chitrakoot': 22516, 'chittor': 22517, 'cholas': 22518, 'chores': 22519, 'chote': 22520, 'chotu': 22521, 'chsl': 22522, 'ciao': 22523, 'cis': 22524, 'clamour': 22525, 'clapped': 22526, 'clearer': 22527, 'clipping': 22528, 'clown': 22529, 'clsa': 22530, 'cnc': 22531, 'coffins': 22532, 'cohen': 22533, 'colder': 22534, 'collaborative': 22535, 'collide': 22536, 'colonized': 22537, 'combinations': 22538, 'cometh': 22539, 'commendable': 22540, 'commuting': 22541, 'complicate': 22542, 'concedes': 22543, 'conditioners': 22544, 'condoles': 22545, 'conferences': 22546, 'confinement': 22547, 'congested': 22548, 'congressi': 22549, 'conor': 22550, 'consenting': 22551, 'conservatism': 22552, 'conspirators': 22553, 'conspired': 22554, 'constables': 22555, 'constitutionally': 22556, 'consumerism': 22557, 'contagious': 22558, 'continents': 22559, 'contingency': 22560, 'convenor': 22561, 'convergence': 22562, 'cookware': 22563, 'coordinator': 22564, 'copycat': 22565, 'coriolis': 22566, 'corrections': 22567, 'corrects': 22568, 'corresponding': 22569, 'corrupted': 22570, 'cortana': 22571, 'cosmopolitan': 22572, 'cosy': 22573, 'coursera': 22574, 'cowards': 22575, 'cpim': 22576, 'cradle': 22577, 'cranes': 22578, 'crappydesign': 22579, 'craving': 22580, 'cred': 22581, 'credai': 22582, 'crescent': 22583, 'criminality': 22584, 'cringefest': 22585, 'cropped': 22586, 'cucks': 22587, 'cults': 22588, 'cunning': 22589, 'curtain': 22590, 'curved': 22591, 'curves': 22592, 'cushion': 22593, 'customised': 22594, 'cutlet': 22595, 'cyberattack': 22596, 'cyberpunk': 22597, 'cyclones': 22598, 'dacoit': 22599, 'dacoity': 22600, 'dafuq': 22601, 'dagger': 22602, 'dahan': 22603, 'dailies': 22604, 'dandruff': 22605, 'darbhanga': 22606, 'darknet': 22607, 'daryaganj': 22608, 'dataset': 22609, 'dawa': 22610, 'dawki': 22611, 'dbt': 22612, 'dea': 22613, 'decency': 22614, 'deceptive': 22615, 'decommissioned': 22616, 'decriminalised': 22617, 'dedication': 22618, 'deduct': 22619, 'deducting': 22620, 'def': 22621, 'deficiencies': 22622, 'defunct': 22623, 'defused': 22624, 'degraded': 22625, 'delhiite': 22626, 'delightful': 22627, 'demean': 22628, 'democrats': 22629, 'demonisation': 22630, 'demonise': 22631, 'denge': 22632, 'denominations': 22633, 'dentists': 22634, 'depleted': 22635, 'desam': 22636, 'descendant': 22637, 'desertification': 22638, 'deshpande': 22639, 'desires': 22640, 'despise': 22641, 'details-': 22642, 'detaining': 22643, 'detrimental': 22644, 'devinder': 22645, 'devo': 22646, 'devoted': 22647, 'dewas': 22648, 'dgmo': 22649, 'dhirubhai': 22650, 'dhola': 22651, 'dholera': 22652, 'diagnose': 22653, 'digitize': 22654, 'dimensions': 22655, 'dims': 22656, 'disadvantaged': 22657, 'discard': 22658, 'disclosures': 22659, 'disgruntled': 22660, 'disgust': 22661, 'disillusioned': 22662, 'disinformation': 22663, 'dismantled': 22664, 'disparities': 22665, 'dispel': 22666, 'dispenses': 22667, 'dissuade': 22668, 'documentry': 22669, 'doka': 22670, 'dolphin': 22671, 'dominican': 22672, 'don’t': 22673, 'dosha': 22674, 'dota2': 22675, 'downey': 22676, 'downhill': 22677, 'downvotes': 22678, 'dps': 22679, 'draped': 22680, 'dravidians': 22681, 'drift': 22682, 'dubsmash': 22683, 'dud': 22684, 'dunes': 22685, 'dunga': 22686, 'dungeons': 22687, 'dunno': 22688, 'dynast': 22689, 'easterners': 22690, 'economictimes': 22691, 'edged': 22692, 'edgy': 22693, 'eerily': 22694, 'eg': 22695, 'eggless': 22696, 'eighty': 22697, 'ekadashi': 22698, 'ellen': 22699, 'eloquent': 22700, 'embargo': 22701, 'emblem': 22702, 'emigration': 22703, 'employs': 22704, 'emptive': 22705, 'ems': 22706, 'enacted': 22707, 'encroached': 22708, 'endemic': 22709, 'energyworld': 22710, 'engagements': 22711, 'engulfed': 22712, 'enhancement': 22713, 'enna': 22714, 'enrol': 22715, 'enshrined': 22716, 'envelope': 22717, 'erased': 22718, 'err': 22719, 'eruption': 22720, 'escorted': 22721, 'esic': 22722, 'esl': 22723, 'espn': 22724, 'establishes': 22725, 'estates': 22726, 'estimation': 22727, 'etikoppaka': 22728, 'eunuchs': 22729, 'eur': 22730, 'evan': 22731, 'excelinstitute': 22732, 'exceptions': 22733, 'excreta': 22734, 'exhausted': 22735, 'exhausting': 22736, 'exorbitant': 22737, 'expedited': 22738, 'explorer': 22739, 'exponential': 22740, 'expressways': 22741, 'extensions': 22742, 'extensively': 22743, 'f11': 22744, 'factcheck': 22745, 'fahad': 22746, 'fainted': 22747, 'fanboy': 22748, 'farrukhabad': 22749, 'fasal': 22750, 'fascination': 22751, 'fatality': 22752, 'fateful': 22753, 'fatwas': 22754, 'favourites': 22755, 'fearful': 22756, 'ferozepur': 22757, 'fests': 22758, 'fetches': 22759, 'fgfa': 22760, 'fifteen': 22761, 'fig': 22762, 'figuring': 22763, 'fiis': 22764, 'fills': 22765, 'filmi': 22766, 'finalist': 22767, 'finalize': 22768, 'financed': 22769, 'financier': 22770, 'finch': 22771, 'firepower': 22772, 'fk': 22773, 'flashlight': 22774, 'flavours': 22775, 'flout': 22776, 'flung': 22777, 'folklore': 22778, 'footfall': 22779, 'footpaths': 22780, 'formats': 22781, 'formerly': 22782, 'formulated': 22783, 'fortress': 22784, 'foundations': 22785, 'fpi': 22786, 'fpis': 22787, 'fracas': 22788, 'fracture': 22789, 'fragmented': 22790, 'frankfurt': 22791, 'fraudulently': 22792, 'fret': 22793, 'friction': 22794, 'friendships': 22795, 'frivolous': 22796, 'frowns': 22797, 'frugal': 22798, 'fta': 22799, 'fudging': 22800, 'fueled': 22801, 'fume': 22802, 'furnishing': 22803, 'gachibowli': 22804, 'gaffes': 22805, 'gags': 22806, 'galaxies': 22807, 'ganda': 22808, 'ganderbal': 22809, 'gandikota': 22810, 'ganeshotsav': 22811, 'garam': 22812, 'garewal': 22813, 'gauge': 22814, 'gaumata': 22815, 'gavel': 22816, 'gcam': 22817, 'geared': 22818, 'gelatin': 22819, 'genders': 22820, 'geologists': 22821, 'gic': 22822, 'gilded': 22823, 'gillette': 22824, 'gist': 22825, 'gitanjali': 22826, 'globes': 22827, 'glove': 22828, 'gmo': 22829, 'gondia': 22830, 'gopalan': 22831, 'goqii': 22832, 'gora': 22833, 'gored': 22834, 'gorkha': 22835, 'gourmet': 22836, \"gov't\": 22837, 'grieving': 22838, 'grillot': 22839, 'gripped': 22840, 'gs': 22841, 'gsat-19': 22842, 'guarded': 22843, 'guitarist': 22844, 'gulabi': 22845, 'gumbad': 22846, 'guna': 22847, 'gurbaksh': 22848, 'gurjar': 22849, 'gurudwaras': 22850, 'gussa': 22851, 'guterres': 22852, 'gynecologist': 22853, 'gypsy': 22854, 'h.': 22855, 'haat': 22856, 'hajj': 22857, 'halli': 22858, 'halting': 22859, 'handbook': 22860, 'hapless': 22861, 'harasser': 22862, 'hariharan': 22863, 'harmless': 22864, 'harmonium': 22865, 'harrasment': 22866, 'harvests': 22867, 'hashim': 22868, 'hastily': 22869, 'hatchback': 22870, 'hatchet': 22871, 'havells': 22872, 'havelock': 22873, 'hawkish': 22874, 'hazrat': 22875, 'header': 22876, 'headmistress': 22877, 'heap': 22878, 'hearty': 22879, 'heckle': 22880, 'heckles': 22881, 'heisenberg': 22882, 'heli': 22883, 'hera': 22884, 'hesitant': 22885, 'hinjewadi': 22886, 'hipster': 22887, 'hiroshima': 22888, 'histories': 22889, 'hjs': 22890, 'hoezaay': 22891, 'hogi': 22892, 'holiest': 22893, 'homophobia': 22894, 'honchos': 22895, 'honors': 22896, 'hormones': 22897, 'hornet': 22898, 'hornetpost': 22899, 'horticulture': 22900, 'hosp': 22901, 'hostages': 22902, 'hrtc': 22903, 'huf': 22904, 'hugged': 22905, 'hukmdev': 22906, 'humare': 22907, 'hurun': 22908, 'iata': 22909, 'ies': 22910, 'ignites': 22911, 'iift': 22912, 'illegality': 22913, 'illiberal': 22914, 'ills': 22915, 'imei': 22916, 'imitates': 22917, 'immigrated': 22918, 'immunisation': 22919, 'impeached': 22920, 'imperfect': 22921, 'implements': 22922, 'inauspicious': 22923, 'incarnation': 22924, 'incl': 22925, 'incorporate': 22926, 'increment': 22927, 'incumbents': 22928, 'indane': 22929, 'inder': 22930, 'indi': 22931, 'india/': 22932, 'indiabulls': 22933, 'indiatimes': 22934, 'indicated': 22935, 'indifferent': 22936, 'indiscipline': 22937, 'individually': 22938, 'indulges': 22939, 'inefficiency': 22940, 'infratech': 22941, 'inida': 22942, 'injected': 22943, 'innuendo': 22944, 'inquilab': 22945, 'inquisition': 22946, 'insecticide': 22947, 'installations': 22948, 'instigate': 22949, 'instructed': 22950, 'instructor': 22951, 'insurers': 22952, 'intelligentsia': 22953, 'intends': 22954, 'intercept': 22955, 'intercepts': 22956, 'interlinking': 22957, 'interning': 22958, 'interpreter': 22959, 'interviewer': 22960, 'intimacy': 22961, 'intimidated': 22962, 'invading': 22963, 'invasions': 22964, 'invitations': 22965, 'irf': 22966, 'irk': 22967, 'irnss-1h': 22968, 'iske': 22969, 'isolating': 22970, 'iuc': 22971, 'ivory': 22972, 'iyengar': 22973, 'jaa': 22974, 'jaaved': 22975, 'jaaye': 22976, 'jadugoda': 22977, 'jagadish': 22978, 'jagdeep': 22979, 'jalgaon': 22980, 'jalib': 22981, 'jamyang': 22982, 'jane': 22983, 'jarawa': 22984, 'jawa': 22985, 'jawab': 22986, 'jawed': 22987, 'jibes': 22988, 'jibhi': 22989, 'jilted': 22990, 'jingoistic': 22991, 'jis': 22992, 'jittery': 22993, 'jnanpith': 22994, 'jolts': 22995, 'josy': 22996, 'judgements': 22997, 'jugad': 22998, 'juicy': 22999, 'julian': 23000, 'juul': 23001, 'juyal': 23002, 'k8': 23003, 'kaal': 23004, 'kaisi': 23005, 'kaizala': 23006, 'kalal': 23007, 'kalank': 23008, 'kaleshwaram': 23009, 'kalimpong': 23010, 'kalra': 23011, 'kam': 23012, 'kambli': 23013, 'kangra': 23014, 'karen': 23015, 'karke': 23016, 'karu': 23017, 'kat': 23018, 'kedar': 23019, 'keepers': 23020, 'keezhadi': 23021, 'kejariwal': 23022, 'kela': 23023, 'kempegowda': 23024, 'kenny': 23025, 'keralite': 23026, 'keynote': 23027, 'khandala': 23028, 'kharghar': 23029, 'kheer': 23030, 'kheri': 23031, 'khiladi': 23032, 'khudai': 23033, 'kilos': 23034, 'kinnaur': 23035, 'kiosk': 23036, 'kishanganga': 23037, 'kissinger': 23038, 'kites': 23039, 'kitts': 23040, 'kjo': 23041, 'knocking': 23042, 'kodi': 23043, 'kolams': 23044, 'kolkata-': 23045, 'kollywood': 23046, 'krish': 23047, 'krishi': 23048, 'kriti': 23049, 'kuchibhotla': 23050, 'kumbakonam': 23051, 'kundra': 23052, 'kurdish': 23053, 'kushwaha': 23054, 'kyoto': 23055, 'laal': 23056, 'laborers': 23057, 'lajpat': 23058, 'lament': 23059, 'laments': 23060, 'lan': 23061, 'larson': 23062, 'latrine': 23063, 'laudable': 23064, 'launchpads': 23065, 'laxminarayan': 23066, 'leasing': 23067, 'lemons': 23068, 'lengths': 23069, 'lent': 23070, 'lgbts': 23071, 'libya': 23072, 'lifters': 23073, 'ligo': 23074, 'lima': 23075, 'limca': 23076, 'limelight': 23077, 'limitations': 23078, 'liner': 23079, 'lisa': 23080, 'litmus': 23081, 'liv': 23082, 'liveleak': 23083, 'livid': 23084, 'lloyd': 23085, 'localisation': 23086, 'locator': 23087, 'logging': 23088, 'lombard': 23089, 'longing': 23090, 'loos': 23091, 'lords': 23092, 'lordship': 23093, 'lorry': 23094, 'lpa': 23095, 'lpu': 23096, 'ltte': 23097, 'ludo': 23098, 'lunatic': 23099, 'luther': 23100, 'lychee': 23101, 'm.p': 23102, 'maaf': 23103, 'maafi': 23104, 'madarchod': 23105, 'magnus': 23106, 'mahi': 23107, 'mahine': 23108, 'maini': 23109, 'mainland': 23110, 'malayalee': 23111, 'malfunctioning': 23112, 'maligning': 23113, 'mallus': 23114, 'malpractice': 23115, 'malpractices': 23116, 'mammootty': 23117, 'mandhana': 23118, 'manhattan': 23119, 'manifold': 23120, 'manila': 23121, 'mansingh': 23122, 'mappila': 23123, 'marched': 23124, 'mardaani': 23125, 'mare': 23126, 'masakali': 23127, 'mastodon': 23128, 'matchmaking': 23129, 'mathrubhumi': 23130, 'mating': 23131, 'matram': 23132, 'matunga': 23133, 'mauled': 23134, 'maulvi': 23135, 'mausoleum': 23136, 'maut': 23137, 'may.': 23138, 'measurement': 23139, 'mediapersons': 23140, 'mehrishi': 23141, 'mehrotra': 23142, 'memento': 23143, 'memon': 23144, 'merits': 23145, 'metre': 23146, 'mewar': 23147, 'mh17': 23148, 'mhz': 23149, 'miandad': 23150, 'microscope': 23151, 'milad': 23152, 'militaryporn': 23153, 'militia': 23154, 'millenials': 23155, 'millennia': 23156, 'minaj': 23157, 'miranda': 23158, 'mishaps': 23159, 'missive': 23160, 'misunderstanding': 23161, 'mobilisation': 23162, 'modal': 23163, 'modelled': 23164, 'modernising': 23165, 'modi&amp;#039;s': 23166, 'molecular': 23167, 'momo': 23168, 'monica': 23169, 'moo': 23170, 'moong': 23171, 'morarji': 23172, 'motherhood': 23173, 'moviegoers': 23174, 'mphil': 23175, 'mtb': 23176, 'mug': 23177, 'muggulu': 23178, 'mughalsarai': 23179, 'mujra': 23180, 'mukteshwar': 23181, 'munich': 23182, 'munnani': 23183, 'murica': 23184, 'murmurs': 23185, 'musings': 23186, 'mutation': 23187, 'naat': 23188, 'nadal': 23189, 'nadeem': 23190, 'naezy': 23191, 'nageshwar': 23192, 'nala': 23193, 'nalapad': 23194, 'nallamala': 23195, 'namgyal': 23196, 'namkeen': 23197, 'nandyal': 23198, 'napkin': 23199, 'narain': 23200, 'narcissistic': 23201, 'narender': 23202, 'narrating': 23203, 'nasik': 23204, 'nationalized': 23205, 'naughty': 23206, 'nav': 23207, 'navbharat': 23208, 'navigate': 23209, 'naysayers': 23210, 'nbc': 23211, 'nbfc': 23212, 'ncdex': 23213, 'ndfb': 23214, 'ndmc': 23215, 'ndtvgirlasks': 23216, 'neelam': 23217, 'negotiation': 23218, 'negotiator': 23219, 'neighborhoods': 23220, 'nemesis': 23221, 'nid': 23222, 'nift': 23223, 'nikal': 23224, 'nikam': 23225, 'nil': 23226, 'nilgai': 23227, 'nimhans': 23228, 'nineteen': 23229, 'nira': 23230, 'nix': 23231, 'nixon': 23232, 'nlu': 23233, 'noice': 23234, 'noises': 23235, 'non-': 23236, 'nonsensical': 23237, 'noorani': 23238, 'nope': 23239, 'norinder': 23240, 'norwegian': 23241, 'nos': 23242, 'notions': 23243, 'notwithstanding': 23244, 'np][rant': 23245, 'np]can': 23246, 'nre': 23247, 'nsc': 23248, 'nuanced': 23249, 'nudge': 23250, 'numb': 23251, 'numbering': 23252, 'nxt': 23253, 'obligations': 23254, 'obstructing': 23255, 'occupants': 23256, 'occupies': 23257, 'occupying': 23258, 'oddly': 23259, 'offenses': 23260, 'offical': 23261, 'offsets': 23262, 'ohh': 23263, 'okayed': 23264, 'olacabs': 23265, 'ombudsman': 23266, 'omega': 23267, 'omkara': 23268, 'omprakash': 23269, 'oneindia': 23270, 'ons': 23271, 'ootl': 23272, 'opioid': 23273, 'orchestra': 23274, 'orgy': 23275, 'originate': 23276, 'orthodontist': 23277, 'orthopedic': 23278, 'osmo': 23279, 'ostracised': 23280, 'oswald': 23281, 'ouch': 23282, 'outsource': 23283, 'overload': 23284, 'overtook': 23285, 'overwatch': 23286, 'overweight': 23287, 'overworked': 23288, 'p.m': 23289, 'p.v.': 23290, 'p]oliticians': 23291, 'p]what': 23292, 'paaji': 23293, 'paar': 23294, 'pablo': 23295, 'paced': 23296, 'pacer': 23297, 'pacify': 23298, 'paharganj': 23299, 'painkillers': 23300, 'palestinians': 23301, 'pali': 23302, 'pallavi': 23303, 'pallikal': 23304, 'parades': 23305, 'paradoxical': 23306, 'pardesi': 23307, 'parl': 23308, 'participatory': 23309, 'particulate': 23310, 'parvaaz': 23311, 'passe': 23312, 'pat': 23313, 'patronage': 23314, 'patrons': 23315, 'payload': 23316, 'peacekeeper': 23317, 'peahen': 23318, 'peddled': 23319, 'peeth': 23320, 'pegs': 23321, 'pema': 23322, 'penalise': 23323, 'penned': 23324, 'pepperfry': 23325, 'perfection': 23326, 'perpetrator': 23327, 'persona': 23328, 'personalized': 23329, 'pessimistic': 23330, 'peters': 23331, 'pgt': 23332, 'philosophers': 23333, 'photocopy': 23334, 'phulpur': 23335, 'pillion': 23336, 'pinterest': 23337, 'pip': 23338, 'pir': 23339, 'piramal': 23340, 'plaint': 23341, 'plaster': 23342, 'playful': 23343, 'pliss': 23344, 'plough': 23345, 'plugs': 23346, 'plunged': 23347, 'plywood': 23348, 'pnr': 23349, 'poes': 23350, 'pogo': 23351, 'pokes': 23352, 'policymakers': 23353, 'politicos': 23354, 'polytechnic': 23355, 'pomegranate': 23356, 'ponting': 23357, 'poojan': 23358, 'pools': 23359, 'pooping': 23360, 'ported': 23361, 'porus': 23362, 'positioning': 23363, 'possess': 23364, 'ppa': 23365, 'ppes': 23366, 'practo': 23367, 'praneeth': 23368, 'prasadam': 23369, 'preet': 23370, 'prejudices': 23371, 'prelude': 23372, 'presenter': 23373, 'preserved': 23374, 'primetime': 23375, 'pritzker': 23376, 'prodyut': 23377, 'prom': 23378, 'promptly': 23379, 'propagate': 23380, 'propagating': 23381, 'propel': 23382, 'prophets': 23383, 'proportions': 23384, 'proptiger': 23385, 'proximity': 23386, 'psb': 23387, 'psychopaths': 23388, 'pullela': 23389, 'punctuality': 23390, 'punit': 23391, 'punitive': 23392, 'purview': 23393, 'px': 23394, 'pythons': 23395, 'quacks': 23396, 'r]andia': 23397, 'r]equest': 23398, 'raebareli': 23399, 'ragi': 23400, 'raiding': 23401, 'raigarh': 23402, 'rainforest': 23403, 'rajnikant': 23404, 'rakh': 23405, 'ramanathan': 23406, 'ramkumar': 23407, 'rammed': 23408, 'ramming': 23409, 'rangarajan': 23410, 'rant][np': 23411, 'ranvir': 23412, 'raspberryeves': 23413, 'ratifies': 23414, 'rationing': 23415, 'rattle': 23416, 'rbs': 23417, 'readied': 23418, 'readily': 23419, 'reaffirm': 23420, 'reaffirms': 23421, 'realizing': 23422, 'reaping': 23423, 'rebate': 23424, 'recharging': 23425, 'recommending': 23426, 'recourse': 23427, 'recreation': 23428, 'redevelop': 23429, 'rediff.com': 23430, 'rediscover': 23431, 'reflective': 23432, 'reformers': 23433, 'regarded': 23434, 'rehana': 23435, 'reintroduced': 23436, 'rejections': 23437, 'remanded': 23438, 'reminiscent': 23439, 'remit': 23440, 'replay': 23441, 'reprint': 23442, 'reputable': 23443, 'rescuers': 23444, 'reside': 23445, 'resists': 23446, 'respectable': 23447, 'restrained': 23448, 'resurgent': 23449, 'resurrected': 23450, 'retention': 23451, 'retract': 23452, 'retreats': 23453, 'retrospective': 23454, 'revamps': 23455, 'reviewers': 23456, 'revolutionizing': 23457, 'rewritten': 23458, 'rha': 23459, 'richter': 23460, 'rico': 23461, 'ridicules': 23462, 'ridley': 23463, 'rife': 23464, 'rightlog.in': 23465, 'riverfront': 23466, 'roasting': 23467, 'roja': 23468, 'ronald': 23469, 'ronaldinho': 23470, 'roop': 23471, 'rooting': 23472, 'rosogolla': 23473, 'rotting': 23474, 'rounder': 23475, 'rpsc': 23476, 'rs.100': 23477, 'rsvp': 23478, 'rtc': 23479, 'ruptured': 23480, 'rust': 23481, 'rwa': 23482, 'saadat': 23483, 'sabhas': 23484, 'sabotaged': 23485, 'sabudana': 23486, 'saddening': 23487, 'sadhna': 23488, 'sadistic': 23489, 'sadiya': 23490, 'safeguarding': 23491, 'saha': 23492, 'sailing': 23493, 'sails': 23494, 'salesforce': 23495, 'saluting': 23496, 'samay': 23497, 'sambhal': 23498, 'sanctum': 23499, 'sandals': 23500, 'sapne': 23501, 'saral': 23502, 'saraswat': 23503, 'sare': 23504, 'sarojini': 23505, 'sathya': 23506, 'satna': 23507, 'satpathy': 23508, 'saturn': 23509, 'saurav': 23510, 'savers': 23511, 'scaled': 23512, 'scanning': 23513, 'scant': 23514, 'scarce': 23515, 'scaring': 23516, 'scenarios': 23517, 'sceptical': 23518, 'scripting': 23519, 'sdg': 23520, 'secularists': 23521, 'seizing': 23522, 'selectors': 23523, 'senators': 23524, 'sengupta': 23525, 'seniority': 23526, 'senseless': 23527, 'senses': 23528, 'sentimental': 23529, 'seperate': 23530, 'serious]what': 23531, 'services-': 23532, 'sesame': 23533, 'sevaks': 23534, 'seventy': 23535, 'sha': 23536, 'shaan': 23537, 'shabir': 23538, 'shadi': 23539, 'shailaja': 23540, 'shaktipunj': 23541, 'shakuni': 23542, 'shapes': 23543, 'sharbat': 23544, 'shareholding': 23545, 'sharpest': 23546, 'shattering': 23547, 'shekhawat': 23548, 'sherin': 23549, 'shivinder': 23550, 'shivling': 23551, 'shlok': 23552, 'shopify': 23553, 'shortcut': 23554, 'shortlist': 23555, 'shortlists': 23556, 'shove': 23557, 'shoving': 23558, 'showcause': 23559, 'shrimp': 23560, 'shunned': 23561, 'shutter': 23562, 'siddha': 23563, 'siddique': 23564, 'sidebar': 23565, 'sighted': 23566, 'sightings': 23567, 'signage': 23568, 'signalling': 23569, 'signup': 23570, 'sikandar': 23571, 'silks': 23572, 'singur': 23573, 'sion': 23574, 'sircar': 23575, 'ska': 23576, 'skeptic': 23577, 'skiing': 23578, 'skins': 23579, 'skirmishes': 23580, 'skit': 23581, 'slangs': 23582, 'sly': 23583, 'smack': 23584, 'smartron': 23585, 'smelly': 23586, 'snan': 23587, 'snapseed': 23588, 'snapshots': 23589, 'snatcher': 23590, 'sniff': 23591, 'sobo': 23592, 'sodomy': 23593, 'sofa': 23594, 'soften': 23595, 'softer': 23596, 'somethings': 23597, 'sooo': 23598, 'sooryavansham': 23599, 'sorabh': 23600, 'spate': 23601, 'specials': 23602, 'spied': 23603, 'spinal': 23604, 'spits': 23605, 'sponsorship': 23606, 'sportspersons': 23607, 'sprinkle': 23608, 'sprinter': 23609, 'srei': 23610, 'ssl': 23611, 'stamping': 23612, 'stapled': 23613, 'stardom': 23614, 'starry': 23615, 'stature': 23616, 'stereotyping': 23617, 'steven': 23618, 'stillborn': 23619, 'stills': 23620, 'stitched': 23621, 'stockholm': 23622, 'strained': 23623, 'stripe': 23624, 'striving': 23625, 'stub': 23626, 'studded': 23627, 'stunting': 23628, 'sudip': 23629, 'suhag': 23630, 'suing': 23631, 'summarize': 23632, 'summoning': 23633, 'sunflower': 23634, 'sunita': 23635, 'sunlight': 23636, 'sunsets': 23637, 'supari': 23638, 'supplementary': 23639, 'supremo': 23640, 'surpassing': 23641, 'sustains': 23642, 'sutlej': 23643, 'sutta': 23644, 'swachhta': 23645, 'swallowing': 23646, 'swallows': 23647, 'swamiji': 23648, 'swaminarayan': 23649, 'swamy39': 23650, 'swanky': 23651, 'swayam': 23652, 'swayamsevaks': 23653, 'sweetest': 23654, 'swelling': 23655, 'swells': 23656, 'swinging': 23657, 'swipes': 23658, 'sycophant': 23659, 'symbolises': 23660, 'symptom': 23661, 'synergy': 23662, 'synthetic': 23663, 'tabligh': 23664, 'tadka': 23665, 'tagged': 23666, 'tagging': 23667, 'takedown': 23668, 'taleb': 23669, 'tanjore': 23670, 'tanzania': 23671, 'tapan': 23672, 'tar': 23673, 'tarak': 23674, 'targetted': 23675, 'tarnishing': 23676, 'tasting': 23677, 'tatasky': 23678, 'taunted': 23679, 'teases': 23680, 'technica': 23681, 'teej': 23682, 'tegginamath': 23683, 'tejaswi': 23684, 'tejo': 23685, 'tel': 23686, 'telemarketers': 23687, 'telephony': 23688, 'tenor': 23689, 'tentative': 23690, 'terminate': 23691, 'testament': 23692, 'thaler': 23693, 'thee': 23694, 'therapeutic': 23695, 'therapists': 23696, 'thereby': 23697, 'thorough': 23698, 'thoroughly': 23699, 'thrived': 23700, 'thumbnail': 23701, 'tikona': 23702, 'tile': 23703, 'tinfoil': 23704, 'tirade': 23705, 'tirelessly': 23706, 'tirupathi': 23707, 'tis': 23708, 'tmo': 23709, 'tomt': 23710, 'tooth': 23711, 'topless': 23712, 'topples': 23713, 'torches': 23714, 'torrenting': 23715, 'tortoises': 23716, 'totalling': 23717, 'tourdefarm': 23718, 'touted': 23719, 'towel': 23720, 'townhall': 23721, 'tp': 23722, 'tram': 23723, 'trance': 23724, 'transformative': 23725, 'transforms': 23726, 'transported': 23727, 'travis': 23728, 'trident': 23729, 'triggering': 23730, 'trimmer': 23731, 'trims': 23732, 'tripod': 23733, 'triumphed': 23734, 'trn': 23735, 'troop': 23736, 'trophies': 23737, 'trumped': 23738, 'trunk': 23739, 'tuned': 23740, 'turbulent': 23741, 'turks': 23742, 'tuticorin': 23743, 'tweaked': 23744, 'tyrion': 23745, 'ubs': 23746, 'uddin': 23747, 'ufos': 23748, 'unaffordable': 23749, 'unattended': 23750, 'uncertainties': 23751, 'under-17': 23752, 'underweight': 23753, 'underwent': 23754, 'undisputed': 23755, 'unequivocally': 23756, 'uneven': 23757, 'unfurled': 23758, 'unjustified': 23759, 'unko': 23760, 'unprofessional': 23761, 'unpublished': 23762, 'unqualified': 23763, 'unregulated': 23764, 'unresponsive': 23765, 'unsuccessful': 23766, 'unturned': 23767, 'unviable': 23768, 'unwritten': 23769, 'upar': 23770, 'upendra': 23771, 'upholding': 23772, 'upliftingnews': 23773, 'upscale': 23774, 'uran': 23775, 'urea': 23776, 'usable': 23777, 'usernames': 23778, 'usko': 23779, 'uttarayan': 23780, 'v15': 23781, 'v7': 23782, 'vadavali': 23783, 'vadnagar': 23784, 'vaishnav': 23785, 'valet': 23786, 'valour': 23787, 'vancouver': 23788, 'vandalize': 23789, 'vani': 23790, 'vanishes': 23791, 'vans': 23792, 'varied': 23793, 'vasectomy': 23794, 'vashi': 23795, 'vasu': 23796, 'vav': 23797, 'vedio': 23798, 'veerashaiva': 23799, 'vein': 23800, 'veins': 23801, 'venomous': 23802, 'venting': 23803, 'verse': 23804, 'vest': 23805, 'victor': 23806, 'vie': 23807, 'viii': 23808, 'vikaas': 23809, 'villupuram': 23810, 'vinci': 23811, 'vineet': 23812, 'virushka': 23813, 'vishakapatnam': 23814, 'vishakhapatnam': 23815, 'vishwamitri': 23816, 'visions': 23817, 'visualize': 23818, 'viva': 23819, 'vocals': 23820, 'volunteered': 23821, 'voodoo': 23822, 'w.r.t': 23823, 'wadhawan': 23824, 'waqt': 23825, 'warehouses': 23826, 'wassenaar': 23827, 'watan': 23828, 'watermark': 23829, 'webpage': 23830, 'wept': 23831, 'wetlands': 23832, 'whammy': 23833, 'whats': 23834, 'whisper': 23835, 'whistling': 23836, 'wildest': 23837, 'wildly': 23838, 'willingness': 23839, 'windshield': 23840, 'wiping': 23841, 'wires': 23842, 'wiz': 23843, 'wizard': 23844, 'woah': 23845, 'woahdude': 23846, 'woods': 23847, 'workshops': 23848, 'worthwhile': 23849, 'wrenching': 23850, 'wrongs': 23851, 'wut': 23852, 'wwf': 23853, 'xp': 23854, \"y'all\": 23855, 'yaaro': 23856, 'yaha': 23857, 'yell': 23858, 'y’': 23859, 'zaki': 23860, 'zakia': 23861, 'zameer': 23862, 'zayed': 23863, 'zee5': 23864, 'zirakpur': 23865, 'zoya': 23866, '©': 23867, 'и': 23868, 'अंग्रेजी': 23869, 'अमीर': 23870, 'असली': 23871, 'आतंकी': 23872, 'आता': 23873, 'आपने': 23874, 'आयकर': 23875, 'उनकी': 23876, 'उसके': 23877, 'ऐलान': 23878, 'कन्हैया': 23879, 'कपूर': 23880, 'करती': 23881, 'कहा-': 23882, 'कहीं': 23883, 'कानून': 23884, 'किसान': 23885, 'कीमत': 23886, 'केजरीवाल': 23887, 'केशव': 23888, 'केस': 23889, 'कोरोना': 23890, 'खड़ा': 23891, 'खत्म': 23892, 'गणतंत्र': 23893, 'गणेश': 23894, 'गयी': 23895, 'गुरु': 23896, 'चीज': 23897, 'चुनौती': 23898, 'जगह': 23899, 'जनपद': 23900, 'जल': 23901, 'जाए': 23902, 'जाता': 23903, 'जायेंगे': 23904, 'जून': 23905, 'झटका': 23906, 'टीम': 23907, 'डर': 23908, 'तथ्य': 23909, 'तलाक': 23910, 'तैयारी': 23911, 'देना': 23912, 'देव': 23913, 'धमकी': 23914, 'धमाकेदार': 23915, 'ध्यान': 23916, 'नुकसान': 23917, 'नौकरी': 23918, 'पद': 23919, 'परीक्षण': 23920, 'पहुंचे': 23921, 'पार्थ': 23922, 'पुरानी': 23923, 'पूरे': 23924, 'पैसा': 23925, 'पोल': 23926, 'प्रदर्शन': 23927, 'प्रवेश': 23928, 'प्राइम': 23929, 'प्राप्ति': 23930, 'फांसी': 23931, 'फोन': 23932, 'बताया': 23933, 'बदला': 23934, 'बनाना': 23935, 'बनेगा': 23936, 'बेटे': 23937, 'बोला': 23938, 'भारी': 23939, 'भेजा': 23940, 'मजाक': 23941, 'मध्य': 23942, 'मारने': 23943, 'मिनट': 23944, 'मिलेगा': 23945, 'मीडिया': 23946, 'यहां': 23947, 'याद': 23948, 'राजनीति': 23949, 'राजस्थान': 23950, 'रानी': 23951, 'राशिफल': 23952, 'रिलायंस': 23953, 'रेप': 23954, 'लो': 23955, 'लोकसभा': 23956, 'लोन': 23957, 'विदेश': 23958, 'विधि': 23959, 'शामिल': 23960, 'संवाद': 23961, 'सत्र': 23962, 'सफल': 23963, 'समझ': 23964, 'समाज': 23965, 'सरल': 23966, 'सुख': 23967, 'सूचना': 23968, 'सेक्स': 23969, 'हत्या': 23970, 'हमेशा': 23971, 'हिंदू': 23972, 'हे': 23973, 'আবার': 23974, 'এই': 23975, 'এক': 23976, 'করে': 23977, 'কে': 23978, 'না': 23979, 'தமிழ்': 23980, '€': 23981, '₹1,000': 23982, '₹10,000': 23983, '₹50': 23984, '♫': 23985, '✌': 23986, '직캠': 23987, '🇦': 23988, '🎉': 23989, '💯': 23990, '🕉': 23991, '😒': 23992, '😞': 23993, '😨': 23994, '😩': 23995, '🥂': 23996, '+1': 23997, '.............': 23998, '.in': 23999, '/[r]/india': 24000, '0.7': 24001, '1.16': 24002, '1.45': 24003, '1.77': 24004, '10.5': 24005, '109th': 24006, '10:30': 24007, '127': 24008, '13-month': 24009, '1300': 24010, '134': 24011, '161': 24012, '167': 24013, '17-yr': 24014, '173': 24015, '178': 24016, '183': 24017, '1880': 24018, '189': 24019, '1890': 24020, '1893': 24021, '1895': 24022, '18:9': 24023, '1917': 24024, '1921': 24025, '1923': 24026, '1926': 24027, '1928': 24028, '194': 24029, '1953': 24030, '1gbps': 24031, '1mbps': 24032, '2,100': 24033, '2,600': 24034, '2,900': 24035, '2-': 24036, '2-child': 24037, '2.7': 24038, '2.75': 24039, '2017-': 24040, '202': 24041, '2023)-6wresearch': 24042, '213': 24043, '224': 24044, '234': 24045, '259': 24046, '260': 24047, '2700': 24048, '299': 24049, '3.09': 24050, '3.37': 24051, '3.9': 24052, '3/4': 24053, '31,000': 24054, '328': 24055, '331': 24056, '356': 24057, '360p': 24058, '369': 24059, '3a': 24060, '400,000': 24061, '401': 24062, '449': 24063, '44th': 24064, '457': 24065, '4608x3456': 24066, '470': 24067, '48-hour': 24068, '48mp': 24069, '5-judge': 24070, '500-crore': 24071, '50p': 24072, '512': 24073, '550': 24074, '5500': 24075, '55k': 24076, '576': 24077, '59-minute': 24078, '5cr': 24079, '6,999': 24080, '61,000': 24081, '627': 24082, '67,000': 24083, '675': 24084, '680': 24085, '6x': 24086, '700,000': 24087, '70k': 24088, '71-year': 24089, '718': 24090, '74,000': 24091, '75000': 24092, '770': 24093, '777': 24094, '7s': 24095, '8,500': 24096, '83,000': 24097, '8:00': 24098, '9.4': 24099, '92,000': 24100, '9811': 24101, '9994287060': 24102, ':o': 24103, '@httweets': 24104, '@shashitharoor': 24105, '@timesofindia': 24106, '@whitehouse': 24107, 'aadmis': 24108, 'aapne': 24109, 'aashiq': 24110, 'abb': 24111, 'abound': 24112, 'absentee': 24113, 'acceleration': 24114, 'accents': 24115, 'accessory': 24116, 'accidently': 24117, 'accordance': 24118, 'accuflow': 24119, 'accuracy': 24120, 'achchhe': 24121, 'achiever': 24122, 'acknowledging': 24123, 'actis': 24124, 'adag': 24125, 'adalaj': 24126, 'aden': 24127, 'adhm': 24128, 'adil': 24129, 'administrations': 24130, 'admiring': 24131, 'adventurism': 24132, 'advisable': 24133, 'advisories': 24134, 'aeroplanes': 24135, 'aes': 24136, 'affirmation': 24137, 'afflicted': 24138, 'afterthought': 24139, 'ageing': 24140, 'ahimsa': 24141, 'ails': 24142, 'airborne': 24143, 'airpods': 24144, 'aita': 24145, 'ak49': 24146, 'akmal': 24147, 'akola': 24148, 'alab': 24149, 'alcoholics': 24150, 'alienated': 24151, 'allays': 24152, 'allen': 24153, 'allocate': 24154, 'almond': 24155, 'almora': 24156, 'altar': 24157, 'alts': 24158, 'alvida': 24159, 'amanat': 24160, 'ambiguity': 24161, 'amin': 24162, 'amjyot': 24163, 'amok': 24164, 'amreli': 24165, 'amrinder': 24166, 'amrut': 24167, 'anaemic': 24168, 'analog': 24169, 'anandabazar': 24170, 'anantapur': 24171, 'ananthkumar': 24172, 'anarkali': 24173, 'andrabi': 24174, 'angamaly': 24175, 'angelina': 24176, 'animesh': 24177, 'anirudh': 24178, 'anjum': 24179, 'anjuna': 24180, 'ankur': 24181, 'ans': 24182, 'anti-': 24183, 'antilla': 24184, 'antonio': 24185, 'apathetic': 24186, 'apg': 24187, 'apnea': 24188, 'apologists': 24189, 'appellate': 24190, 'apprehended': 24191, 'appropriated': 24192, 'aquaman': 24193, 'aquatic': 24194, 'aravalli': 24195, 'archaeologists': 24196, 'archana': 24197, 'areeb': 24198, 'armoured': 24199, 'arranging': 24200, 'arthakranti': 24201, 'arthashastra': 24202, 'arwind': 24203, 'asad': 24204, 'aser': 24205, 'asim': 24206, 'asiya': 24207, 'ask][serious': 24208, 'askindia]is': 24209, 'askindia]why': 24210, 'aspire': 24211, 'assassins': 24212, 'assent': 24213, 'assertiveness': 24214, 'assign': 24215, 'assuring': 24216, 'astronomer': 24217, 'ata': 24218, 'atlanta': 24219, 'atmospheric': 24220, 'atp': 24221, 'attaining': 24222, 'auckland': 24223, 'aurobindo': 24224, 'auschwitz': 24225, 'aushadhi': 24226, 'av': 24227, 'aval': 24228, 'avoidance': 24229, 'awaken': 24230, 'awash': 24231, 'awry': 24232, 'aww': 24233, 'ayatollah': 24234, \"b'luru\": 24235, 'b.r.': 24236, 'baapu': 24237, 'bababudangiri': 24238, 'babes': 24239, 'baccha': 24240, 'bacche': 24241, 'bachan': 24242, 'bache': 24243, 'bachpan': 24244, 'backers': 24245, 'backlogs': 24246, 'backpacker': 24247, 'badhai': 24248, 'badla': 24249, 'baduria': 24250, 'bagging': 24251, 'baig': 24252, 'baitha': 24253, 'bakri': 24254, 'balances': 24255, 'balm': 24256, 'baluchistan': 24257, 'barking': 24258, 'barry': 24259, 'basins': 24260, 'batao': 24261, 'bbb-': 24262, 'bbps': 24263, 'bead': 24264, 'befriended': 24265, 'behaved': 24266, 'believers': 24267, 'belur': 24268, 'benaras': 24269, 'benchmarks': 24270, 'bending': 24271, 'bendre': 24272, 'bennington': 24273, 'bestow': 24274, 'bestowed': 24275, 'betel': 24276, 'bfs': 24277, 'bhandara': 24278, 'bharatmala': 24279, 'bhavnagar': 24280, 'bhutia': 24281, 'bidder': 24282, 'bigo': 24283, 'bigwigs': 24284, 'biju': 24285, 'binance': 24286, 'biographical': 24287, 'biologist': 24288, 'bir': 24289, 'biwi': 24290, 'blackhole': 24291, 'blackstone': 24292, 'blazing': 24293, 'bled': 24294, 'blender': 24295, 'blending': 24296, 'blinding': 24297, 'bling': 24298, 'blooded': 24299, 'bloodiest': 24300, 'bloodshed': 24301, 'bloopers': 24302, 'bluedart': 24303, 'blunt': 24304, 'bmi': 24305, 'bombarded': 24306, 'bonding': 24307, 'boner': 24308, 'booted': 24309, 'booti': 24310, 'bootstrapped': 24311, 'botanical': 24312, 'bounced': 24313, 'bouncer': 24314, 'bouncing': 24315, 'bovines': 24316, 'bragging': 24317, 'brahm': 24318, 'brahmans': 24319, 'braved': 24320, 'braves': 24321, 'brijesh': 24322, 'broadsword': 24323, 'bromance': 24324, 'brutalities': 24325, 'bs4': 24326, 'btm': 24327, 'buckle': 24328, 'bugle': 24329, 'bulge': 24330, 'burdened': 24331, 'burglary': 24332, 'burr': 24333, 'burying': 24334, 'bustard': 24335, 'busters': 24336, 'c37': 24337, 'caa+nrc': 24338, 'cadets': 24339, 'cafeteria': 24340, 'calculus': 24341, 'calendars': 24342, 'calender': 24343, 'calming': 24344, 'calmly': 24345, \"can't\": 24346, 'candies': 24347, 'captains': 24348, 'carandbike': 24349, 'caregiving': 24350, 'caretakers': 24351, 'cariappa': 24352, 'carl': 24353, 'carter': 24354, 'casteless': 24355, 'catchers': 24356, 'categorisation': 24357, 'cater': 24358, 'cauldron': 24359, 'cbse.nic.in': 24360, 'cbt': 24361, 'cdc': 24362, 'ce': 24363, 'celebtv': 24364, 'cena': 24365, 'centralised': 24366, 'cereals': 24367, 'ces': 24368, 'cesspool': 24369, 'cgi': 24370, 'chahta': 24371, 'chaiyya': 24372, 'chalk': 24373, 'challengers': 24374, 'chameleon': 24375, 'championing': 24376, 'chandan': 24377, 'chappals': 24378, 'charu': 24379, 'checkmated': 24380, 'cheeks': 24381, 'cheerleaders': 24382, 'chelsea': 24383, 'chernobyl': 24384, 'cherrapunjee': 24385, 'chests': 24386, 'childish': 24387, 'chilly': 24388, 'china&amp;#039;s': 24389, 'chinamma': 24390, 'chinatown': 24391, 'chitradurga': 24392, 'chittoor': 24393, 'chola': 24394, 'cholera': 24395, 'choreography': 24396, 'chutzpah': 24397, 'cinematographer': 24398, 'civilised': 24399, 'claps': 24400, 'clashed': 24401, 'clasico': 24402, 'classism': 24403, 'clauses': 24404, 'cleanindia': 24405, 'clerical': 24406, 'clings': 24407, 'closeness': 24408, 'cloths': 24409, 'cloudflare': 24410, 'cma': 24411, 'cnr': 24412, 'coaster': 24413, 'coat': 24414, 'cockpit': 24415, 'coded': 24416, 'coercion': 24417, 'cofounder': 24418, 'coherent': 24419, 'collaborating': 24420, 'collapsing': 24421, 'colluded': 24422, 'colouring': 24423, 'colourised': 24424, 'combining': 24425, 'comm': 24426, 'commemoration': 24427, 'commentator': 24428, 'commercialized': 24429, 'commercially': 24430, 'committal': 24431, 'communalise': 24432, 'comp': 24433, 'compassionate': 24434, 'compel': 24435, 'competence': 24436, 'complicity': 24437, 'complimented': 24438, 'complying': 24439, 'compressed': 24440, 'comprising': 24441, 'conan': 24442, 'conceal': 24443, 'conceive': 24444, 'conception': 24445, 'concluding': 24446, 'condemnable': 24447, 'confessing': 24448, 'confidentiality': 24449, 'confirming': 24450, 'congi': 24451, 'congo': 24452, 'congratulated': 24453, 'connector': 24454, 'conned': 24455, 'consists': 24456, 'consortium': 24457, 'constantine': 24458, 'consulates': 24459, 'consultancies': 24460, 'contacting': 24461, 'contests': 24462, 'continental': 24463, 'continuity': 24464, 'contracted': 24465, 'contraction': 24466, 'contradiction': 24467, 'contrasting': 24468, 'conventions': 24469, 'conveyed': 24470, 'coolies': 24471, 'copenhagen': 24472, 'copter': 24473, 'coral': 24474, 'corbyn': 24475, 'coronary': 24476, 'correspondent': 24477, 'cosmology': 24478, 'cosmos': 24479, 'cottage': 24480, 'couchsurfing': 24481, 'counterterrorism': 24482, 'counties': 24483, 'coverup': 24484, 'coveted': 24485, 'cowardly': 24486, 'cpap': 24487, 'crab': 24488, 'credit-': 24489, 'creek': 24490, 'crematoriums': 24491, 'crews': 24492, 'crib': 24493, 'cringey': 24494, 'cringiest': 24495, 'criticisms': 24496, 'crocodiles': 24497, 'crows': 24498, 'csat': 24499, 'csmt': 24500, 'cub': 24501, 'curiae': 24502, 'cursing': 24503, 'custodians': 24504, 'customize': 24505, 'cuteness': 24506, 'cynical': 24507, 'czech': 24508, 'dabi': 24509, 'dacoits': 24510, 'dadasaheb': 24511, 'daikin': 24512, 'dalali': 24513, 'dalbir': 24514, 'dalmiya': 24515, 'dalveer': 24516, 'dalvi': 24517, 'damodar': 24518, 'daru': 24519, 'dattatreya': 24520, 'dayashankar': 24521, 'ddt': 24522, 'deception': 24523, 'decimated': 24524, 'decisively': 24525, 'decorating': 24526, 'decoupling': 24527, 'decreasing': 24528, 'decries': 24529, 'decriminalising': 24530, 'decriminalize': 24531, 'deficits': 24532, 'definite': 24533, 'dekhe': 24534, 'delhi|': 24535, 'delicacy': 24536, 'delusions': 24537, 'denim': 24538, 'denounce': 24539, 'deoria': 24540, 'dependency': 24541, 'dependents': 24542, 'deplorable': 24543, 'deplores': 24544, 'deserter': 24545, 'desishowerthought': 24546, 'desktops': 24547, 'detainees': 24548, 'detectives': 24549, 'devalue': 24550, 'devarakonda': 24551, 'devise': 24552, 'dhaaga': 24553, 'dhankar': 24554, 'dhar': 24555, 'dharwad': 24556, 'dheere': 24557, 'dholpur': 24558, 'diabetic': 24559, 'dialect': 24560, 'dibakar': 24561, 'dicks': 24562, 'dictators': 24563, 'dictionaries': 24564, 'diego': 24565, 'diets': 24566, 'differs': 24567, 'digger': 24568, 'digit.in': 24569, 'dildo': 24570, 'diligence': 24571, 'dilutes': 24572, 'dimag': 24573, 'diminishing': 24574, 'dinajpur': 24575, 'dir': 24576, 'disagreement': 24577, 'disallows': 24578, 'disciples': 24579, 'discom': 24580, 'discontinues': 24581, 'discreet': 24582, 'discriminates': 24583, 'discriminating': 24584, 'disengagement': 24585, 'dishtv': 24586, 'dismantle': 24587, 'dismissing': 24588, 'disparaging': 24589, 'dispatch': 24590, 'dissing': 24591, 'distracted': 24592, 'distractions': 24593, 'distributions': 24594, 'divestment': 24595, 'django': 24596, 'djb': 24597, 'dkravi': 24598, 'dob': 24599, 'dodging': 24600, 'dogging': 24601, 'dole': 24602, 'dono': 24603, 'doodh': 24604, 'doon': 24605, 'doormat': 24606, 'doppelganger': 24607, 'dopt': 24608, 'douchebag': 24609, 'dough': 24610, 'douse': 24611, 'dow': 24612, 'downvoting': 24613, 'drafted': 24614, 'drake': 24615, 'dravida': 24616, 'dreamed': 24617, 'dreamliner': 24618, 'drenched': 24619, 'drifting': 24620, 'dronacharya': 24621, 'droves': 24622, 'dublin': 24623, 'duct': 24624, 'dudhsagar': 24625, 'dulhaniya': 24626, 'duryodhana': 24627, 'dusk': 24628, 'duster': 24629, 'dusty': 24630, 'dyeing': 24631, 'dynamite': 24632, 'déjà': 24633, 'ebay.in': 24634, 'edappadi': 24635, 'edc': 24636, 'edelweiss': 24637, 'ee': 24638, 'eiffel': 24639, 'ejaculation': 24640, 'ekbote': 24641, 'elevate': 24642, 'elgar': 24643, 'elimination': 24644, 'embroidered': 24645, 'eminence': 24646, 'emmy': 24647, 'employability': 24648, 'encrypted': 24649, 'endures': 24650, 'enlightening': 24651, 'enquire': 24652, 'ensemble': 24653, 'ent': 24654, 'entitlement': 24655, 'entrap': 24656, 'envelopes': 24657, 'environmentally': 24658, 'epics': 24659, 'equifax': 24660, 'eradicated': 24661, 'erects': 24662, 'eroded': 24663, 'etah': 24664, 'eth': 24665, 'ether': 24666, 'ethernet': 24667, 'ethically': 24668, 'eurasia': 24669, 'eureka': 24670, 'evaporation': 24671, 'evolutionary': 24672, 'excavations': 24673, 'exceptionally': 24674, 'exhibiting': 24675, 'exp': 24676, 'explicitly': 24677, 'explosions': 24678, 'exquisite': 24679, 'extort': 24680, 'extracted': 24681, 'extracts': 24682, 'extramarital': 24683, 'eyeball': 24684, 'eyeballs': 24685, 'eyesight': 24686, 'f-35': 24687, 'faasos': 24688, 'fables': 24689, 'facade': 24690, 'faceapp': 24691, 'facilitated': 24692, 'factually': 24693, 'fades': 24694, 'faints': 24695, 'falaknuma': 24696, 'fatca': 24697, 'fathom': 24698, 'fatigue': 24699, 'favoritism': 24700, 'felicitate': 24701, 'fencing': 24702, 'feng': 24703, 'fide': 24704, 'fii': 24705, 'fillip': 24706, 'filosnews': 24707, 'filthiest': 24708, 'finalises': 24709, 'firebrand': 24710, 'firestick': 24711, 'first-': 24712, 'firstbiz': 24713, 'fizzles': 24714, 'flanged': 24715, 'flashed': 24716, 'flashpoint': 24717, 'flattened': 24718, 'flick': 24719, 'floodplain': 24720, 'floodplains': 24721, 'flopped': 24722, 'floral': 24723, 'flt': 24724, 'flutter': 24725, 'fmf': 24726, 'fmr': 24727, 'fob': 24728, 'foes': 24729, 'foggy': 24730, 'foresight': 24731, 'forgiven': 24732, 'formulations': 24733, 'fourteen': 24734, 'fp': 24735, 'fractures': 24736, 'francophonie': 24737, 'franklin': 24738, 'freebie': 24739, 'friedman': 24740, 'frigates': 24741, 'frisking': 24742, 'fro': 24743, 'frooti': 24744, 'froth': 24745, 'frustrations': 24746, 'fuji': 24747, 'fujifilm': 24748, 'fulfils': 24749, 'functionality': 24750, 'funerals': 24751, 'funnel': 24752, 'furlough': 24753, 'fwd': 24754, 'fy21': 24755, 'g6': 24756, 'g7': 24757, 'gabriel': 24758, 'gagneja': 24759, 'gainers': 24760, 'gajapathi': 24761, 'galileo': 24762, 'galti': 24763, 'gamed': 24764, 'gameplan': 24765, 'gangajal': 24766, 'garbh': 24767, 'garmin': 24768, 'garud': 24769, 'gasping': 24770, 'gateways': 24771, 'gautama': 24772, 'gautami': 24773, 'geekbench': 24774, 'genome': 24775, 'genres': 24776, 'geological': 24777, 'ges2017': 24778, 'ghati': 24779, 'ghazwa': 24780, 'gigawatt': 24781, 'glassdoor': 24782, 'globalisation': 24783, 'glued': 24784, 'gn': 24785, 'gobackmodi': 24786, 'godaddy': 24787, 'godzilla': 24788, 'goin': 24789, 'golfer': 24790, 'goliath': 24791, 'gomes': 24792, 'gopalakrishnan': 24793, 'gorakhnath': 24794, 'gory': 24795, 'goto': 24796, 'gouged': 24797, 'gowariker': 24798, 'gr': 24799, 'grader': 24800, 'gray': 24801, 'grazing': 24802, 'gstindia': 24803, 'gtb': 24804, 'guarding': 24805, 'gucci': 24806, 'guessed': 24807, 'guevara': 24808, 'guideline': 24809, 'guinea': 24810, 'gujral': 24811, 'gunshot': 24812, 'gurung': 24813, 'gynecomastia': 24814, 'h&amp;m': 24815, 'haas': 24816, 'habeas': 24817, 'habitats': 24818, 'hadoop': 24819, 'hahaha': 24820, 'hahahaha': 24821, 'hairloss': 24822, 'hairstyles': 24823, 'haisha': 24824, 'hamleys': 24825, 'hampering': 24826, 'handcuffs': 24827, 'handicap': 24828, 'hansa': 24829, 'hansika': 24830, 'hapur': 24831, 'haqeeqat': 24832, 'haramzada': 24833, 'harari': 24834, 'hardest': 24835, 'hardships': 24836, 'haris': 24837, 'harjit': 24838, 'harms': 24839, 'harpic': 24840, 'hasty': 24841, 'hath': 24842, 'hathras': 24843, 'hav': 24844, 'havan': 24845, 'hayden': 24846, 'hazaribagh': 24847, 'hcq': 24848, 'hdd': 24849, 'hdmi': 24850, 'headhunters': 24851, 'heals': 24852, 'heartbroken': 24853, 'heavyweight': 24854, 'hee': 24855, 'heels': 24856, 'heliport': 24857, 'hellhole': 24858, 'helper': 24859, 'helplines': 24860, 'hem': 24861, 'hepatitis': 24862, 'heptulla': 24863, 'heptullah': 24864, 'heralds': 24865, 'heroics': 24866, 'heroism': 24867, 'heron': 24868, 'hesitation': 24869, 'hexa': 24870, 'hierarchies': 24871, 'hilly': 24872, 'himanshu': 24873, 'hinduo': 24874, 'hinting': 24875, 'hitchhiking': 24876, 'hiv+': 24877, 'hk': 24878, 'hl': 24879, 'hnis': 24880, 'hoarder': 24881, 'hoaxes': 24882, 'honeytrap': 24883, 'hooghly': 24884, 'hopelessness': 24885, 'hopkins': 24886, 'horrified': 24887, 'hospitalized': 24888, 'hosur': 24889, 'http': 24890, 'hubballi': 24891, 'hudco': 24892, 'hugely': 24893, 'hukumdev': 24894, 'huma': 24895, 'humara': 24896, 'humid': 24897, 'humiliates': 24898, 'hungary': 24899, 'hurricanes': 24900, 'hydel': 24901, 'hyderabadis': 24902, 'hydroelectric': 24903, 'hymn': 24904, 'hyperlapse': 24905, 'hypersonic': 24906, 'hypothesis': 24907, 'ibn7': 24908, 'idealism': 24909, 'idhar': 24910, 'idiocy': 24911, 'idlis': 24912, 'idly': 24913, 'ieds': 24914, 'ifpri': 24915, 'ignited': 24916, 'igp': 24917, 'iitm': 24918, 'ilayaraja': 24919, 'illegals': 24920, 'immersive': 24921, 'impede': 24922, 'imperative': 24923, 'implication': 24924, 'imprisoned': 24925, 'inc42': 24926, 'inching': 24927, 'incindia': 24928, 'incited': 24929, 'incites': 24930, 'incorporated': 24931, 'incremental': 24932, 'incubation': 24933, 'incur': 24934, 'indiaagainstcaa': 24935, 'indiana': 24936, 'indianfood': 24937, 'indiangaming': 24938, 'indiatimes.com': 24939, 'indications': 24940, 'indoctrination': 24941, 'indori': 24942, 'inducting': 24943, 'indulged': 24944, 'inept': 24945, 'inevitably': 24946, 'infibeam': 24947, 'infidelity': 24948, 'influencer': 24949, 'infowave': 24950, 'infuse': 24951, 'inhaling': 24952, 'inherit': 24953, 'initiating': 24954, 'injure': 24955, 'insecurities': 24956, 'insidious': 24957, 'insignia': 24958, 'insomnia': 24959, 'instamojo': 24960, 'interactions': 24961, 'intercast': 24962, 'intercity': 24963, 'interestingly': 24964, 'interrupted': 24965, 'interventions': 24966, 'introverts': 24967, 'intruders': 24968, 'invoicing': 24969, 'ipads': 24970, 'ipos': 24971, 'irate': 24972, 'irdai': 24973, 'ironical': 24974, 'ironies': 24975, 'irrelevance': 24976, 'isil': 24977, 'islamism': 24978, 'ispr': 24979, 'isse': 24980, 'iti': 24981, 'ito': 24982, 'jaari': 24983, 'jackman': 24984, 'jadav': 24985, 'jaffna': 24986, 'jafrabad': 24987, 'jagmeet': 24988, 'jalao': 24989, 'jalpaiguri': 24990, 'jason': 24991, 'jawaan': 24992, 'jayapur': 24993, 'jealousy': 24994, 'jesuit': 24995, 'jhunjhunu': 24996, 'jiah': 24997, 'jiomusic': 24998, 'jlr': 24999, 'jmi': 25000, 'jolie': 25001, 'joshua': 25002, 'joyride': 25003, 'jpc': 25004, 'ju': 25005, 'jumlas': 25006, 'jungles': 25007, 'justifying': 25008, 'juveniles': 25009, 'kabab': 25010, 'kader': 25011, 'kadi': 25012, 'kahaniya': 25013, 'kailaasa': 25014, 'kaju': 25015, 'kalburgi': 25016, 'kale': 25017, 'kalpakkam': 25018, 'kamath': 25019, 'kandla': 25020, 'kane': 25021, 'kannauj': 25022, 'kanth': 25023, 'karishma': 25024, 'karta': 25025, 'karun': 25026, 'karyakarta': 25027, 'kas': 25028, 'kasam': 25029, 'kasargod': 25030, 'kausalya': 25031, 'kausani': 25032, 'kavanaugh': 25033, 'kavi': 25034, 'kaya': 25035, 'kc': 25036, 'keeda': 25037, 'kehlata': 25038, 'kennedy': 25039, 'kesar': 25040, 'keywords': 25041, 'kha': 25042, 'khabib': 25043, 'khairatabad': 25044, 'khoya': 25045, 'kickboxing': 25046, 'kinnar': 25047, 'kis': 25048, 'kissoflove': 25049, 'koda': 25050, 'kodai': 25051, 'koh': 25052, 'kolar': 25053, 'kremlin': 25054, 'kumaon': 25055, 'kumbha': 25056, 'kumkum': 25057, 'kunwari': 25058, 'kvpy': 25059, 'kwh': 25060, 'kyon': 25061, 'kỳ': 25062, 'labeling': 25063, 'ladhak': 25064, 'lagataaru': 25065, 'lahaul': 25066, 'lallantop': 25067, 'lance': 25068, 'landmarks': 25069, 'landmine': 25070, 'landslides': 25071, 'languishing': 25072, 'lao': 25073, 'larsen': 25074, 'lashing': 25075, 'lathicharged': 25076, 'latte': 25077, 'laureus': 25078, 'lawful': 25079, 'lawns': 25080, 'lawrence': 25081, 'lawsuits': 25082, 'leans': 25083, 'leapfrog': 25084, 'leaps': 25085, 'lebanese': 25086, 'lebanon': 25087, 'leds': 25088, 'legged': 25089, 'legitimately': 25090, 'levying': 25091, 'libtards': 25092, 'lightest': 25093, 'limbs': 25094, 'lincoln': 25095, 'ling': 25096, 'lingers': 25097, 'linkin': 25098, 'litigant': 25099, 'litterbugs': 25100, 'lkg': 25101, 'lockup': 25102, 'locus': 25103, 'looses': 25104, 'lootera': 25105, 'lota': 25106, 'loverboy.in': 25107, 'lt;a': 25108, 'lul': 25109, 'lunches': 25110, 'lush': 25111, 'luv': 25112, 'm30': 25113, 'maare': 25114, 'maduro': 25115, 'magician': 25116, 'magicians': 25117, 'maglev': 25118, 'magnet': 25119, 'mahadevapura': 25120, 'mahalanobis': 25121, 'maharashtrians': 25122, 'maharshtra': 25123, 'mahasweta': 25124, 'mainbhichowkidar': 25125, 'maize': 25126, 'majlis': 25127, 'majnu': 25128, 'mamallapuram': 25129, 'managerial': 25130, 'maneuver': 25131, 'manglik': 25132, 'manhunt': 25133, 'manikya': 25134, 'manorama': 25135, 'mansion': 25136, 'maqbara': 25137, 'marchforourlives': 25138, 'marcos': 25139, 'margaret': 25140, 'marketplaces': 25141, 'marred': 25142, 'marseilles': 25143, 'mash': 25144, 'matka': 25145, 'matthew': 25146, 'mau': 25147, 'maxim': 25148, 'mbt': 25149, 'mc^2': 25150, 'mcgowan': 25151, 'mclaren': 25152, 'mclr': 25153, 'mcmahon': 25154, 'measles': 25155, 'mechanics': 25156, 'medallists': 25157, 'medias': 25158, 'medley': 25159, 'meetups': 25160, 'meiyappan': 25161, 'melika': 25162, 'menaka': 25163, 'merch': 25164, 'messaged': 25165, 'metaphor': 25166, 'methane': 25167, 'methanol': 25168, 'metric': 25169, 'mettle': 25170, 'mib': 25171, 'migraine': 25172, 'milegi': 25173, 'militaries': 25174, 'milkha': 25175, 'mindless': 25176, 'miner': 25177, 'minting': 25178, 'mirabai': 25179, 'misc': 25180, 'misdeeds': 25181, 'mishandled': 25182, 'misheard': 25183, 'misreading': 25184, 'misreporting': 25185, 'misrepresentation': 25186, 'mistaking': 25187, 'mistrust': 25188, 'mithai': 25189, 'mitigate': 25190, 'mixture': 25191, 'miyan': 25192, 'mkt': 25193, 'moab': 25194, 'moat': 25195, 'mobilization': 25196, 'modded': 25197, 'mohanan': 25198, 'monde': 25199, 'monero': 25200, 'monogrammed': 25201, 'montek': 25202, 'moonwalking': 25203, 'morals': 25204, 'morgue': 25205, 'mori': 25206, 'motihari': 25207, 'motivates': 25208, 'mouka': 25209, 'mover': 25210, 'mp4': 25211, 'mubarakan': 25212, 'muddled': 25213, 'mudikaka': 25214, 'mukhyamantri': 25215, 'mules': 25216, 'multani': 25217, 'multimedia': 25218, 'multinational': 25219, 'multiplayer': 25220, 'murkier': 25221, 'murty': 25222, 'mushaira': 25223, 'mussorie': 25224, 'mustafabad': 25225, 'mutually': 25226, 'mylab': 25227, 'myopic': 25228, 'nadar': 25229, 'nagaur': 25230, 'nageswara': 25231, 'nal': 25232, 'namak': 25233, 'naomi': 25234, 'nargis': 25235, 'narkasur': 25236, 'narrate': 25237, 'narrows': 25238, 'narsimha': 25239, 'nasdaq': 25240, 'nasim': 25241, 'nat': 25242, 'natak': 25243, 'nationalisation': 25244, 'nationhood': 25245, 'navodaya': 25246, 'nawabs': 25247, 'naxalbari': 25248, 'nazir': 25249, 'nazism': 25250, 'ncb': 25251, 'ncd': 25252, 'ndfb(s': 25253, 'ndia': 25254, 'neduvasal': 25255, 'neel': 25256, 'neighbourly': 25257, 'nero': 25258, 'nescafe': 25259, 'networth': 25260, 'newlyweds': 25261, 'newsalert': 25262, 'newsfeed': 25263, 'newsletter': 25264, 'newyork': 25265, 'nfc': 25266, 'nic': 25267, 'nicely': 25268, 'nightmarish': 25269, 'niharika': 25270, 'ninan': 25271, 'ninda': 25272, 'nirf': 25273, 'nisar': 25274, 'nisha': 25275, 'nishikant': 25276, 'nitrogen': 25277, 'nityanand': 25278, 'nixes': 25279, 'nj': 25280, 'nm': 25281, 'nom': 25282, 'nominees': 25283, 'nonprofit': 25284, 'noteban': 25285, 'nottheonion': 25286, 'nozomi': 25287, 'np][serious': 25288, 'np]people': 25289, 'npf': 25290, 'nripendra': 25291, 'nsit': 25292, 'nudges': 25293, 'nutella': 25294, 'nvsp': 25295, \"o'neill\": 25296, 'obeying': 25297, 'objectified': 25298, 'objectively': 25299, 'occult': 25300, 'ofcourse': 25301, 'offloaded': 25302, 'offmychest': 25303, 'ohio': 25304, 'olympians': 25305, 'ominous': 25306, 'omit': 25307, 'onset': 25308, 'oo': 25309, 'oopar': 25310, 'oopsie': 25311, 'opensignal': 25312, 'opinionated': 25313, 'opp': 25314, 'oppressors': 25315, 'optics': 25316, 'optimize': 25317, 'orbiting': 25318, 'orbits': 25319, 'organizers': 25320, 'orthopaedic': 25321, 'osaka': 25322, 'oshiwara': 25323, 'ousting': 25324, 'outlaw': 25325, 'outposts': 25326, 'overboard': 25327, 'overbridge': 25328, 'overcharge': 25329, 'overcharged': 25330, 'overhauling': 25331, 'overloaded': 25332, 'overshadows': 25333, 'oversubscribed': 25334, 'overthinking': 25335, 'overtures': 25336, 'oxide': 25337, 'p]arliament': 25338, 'p]gurus': 25339, 'p]lease': 25340, 'p]rotests': 25341, 'p]the': 25342, 'paanwala': 25343, 'pachmarhi': 25344, 'padmanabhan': 25345, 'pagal': 25346, 'pageants': 25347, 'paheli': 25348, 'pahwa': 25349, 'pakis': 25350, 'palaces': 25351, 'palekar': 25352, 'palliative': 25353, 'palmistry': 25354, 'pals': 25355, 'palsy': 25356, 'pande': 25357, 'pandora': 25358, 'paperwhite': 25359, 'paracetamol': 25360, 'parachute': 25361, 'parakram': 25362, 'paralyzed': 25363, 'parameshwara': 25364, 'parantha': 25365, 'parcels': 25366, 'parsekar': 25367, 'particle': 25368, 'partitioned': 25369, 'partnerships': 25370, 'parv': 25371, 'pashtuns': 25372, 'passers': 25373, 'pastebin': 25374, 'pasted': 25375, 'patels': 25376, 'pathway': 25377, 'pathways': 25378, 'patni': 25379, 'patti': 25380, 'paulo': 25381, 'pavement': 25382, 'pawankalyan': 25383, 'payoneer': 25384, 'payu': 25385, 'pb': 25386, 'peasant': 25387, 'peasants': 25388, 'pedal': 25389, 'peddle': 25390, 'peeche': 25391, 'pelling': 25392, 'pelosi': 25393, 'penalises': 25394, 'penetrated': 25395, 'percentages': 25396, 'permissible': 25397, 'personnels': 25398, 'peru': 25399, 'perverse': 25400, 'pgdm': 25401, 'pgi': 25402, 'pgs': 25403, 'pharmacist': 25404, 'phase-1': 25405, 'phenomenal': 25406, 'pheri': 25407, 'phillauri': 25408, 'philosophies': 25409, 'phimosis': 25410, 'photographic': 25411, 'photoshops': 25412, 'phullari': 25413, 'physicist': 25414, 'pickpockets': 25415, 'picture-': 25416, 'piers': 25417, 'piggy': 25418, 'piketty': 25419, 'pillows': 25420, 'pios': 25421, 'pitaji': 25422, 'pitbull': 25423, 'pitching': 25424, 'plagiarized': 25425, 'playback': 25426, 'pleasures': 25427, 'plying': 25428, 'pmegp': 25429, 'pmla': 25430, 'pmnrf': 25431, 'poacher': 25432, 'pods': 25433, 'poi': 25434, 'polarizing': 25435, 'politicisation': 25436, 'politickle': 25437, 'polled': 25438, 'possessed': 25439, 'postage': 25440, 'posterity': 25441, 'powerpoint': 25442, 'pp': 25443, 'prachanda': 25444, 'practised': 25445, 'pramukh': 25446, 'pratik': 25447, 'prawn': 25448, 'prayed': 25449, 'preceded': 25450, 'predictable': 25451, 'preeti': 25452, 'prepping': 25453, 'presently': 25454, 'presiding': 25455, 'presumed': 25456, 'pretense': 25457, 'prioritise': 25458, 'pristine': 25459, 'privatising': 25460, 'privatize': 25461, 'proactive': 25462, 'procedural': 25463, 'procured': 25464, 'professionally': 25465, 'prohibit': 25466, 'prohibitory': 25467, 'prophetic': 25468, 'props': 25469, 'propulsion': 25470, 'prosthetic': 25471, 'prosthetics': 25472, 'provisional': 25473, 'prowess': 25474, 'prs': 25475, 'ptsd': 25476, 'pujan': 25477, 'puniyani': 25478, 'puran': 25479, 'puraskar': 25480, 'purush': 25481, 'puzzled': 25482, 'pvc': 25483, 'pyjamas': 25484, 'pyramids': 25485, 'quench': 25486, 'quetta': 25487, 'quickest': 25488, 'quickr': 25489, 'quintal': 25490, 'quintdaily': 25491, 'quips': 25492, 'r.i.p.': 25493, 'r]andians': 25494, 'r]ant': 25495, 'raai': 25496, 'rab': 25497, 'rackets': 25498, 'rag': 25499, 'raghubar': 25500, 'ragini': 25501, 'rahulgandhi': 25502, 'raichur': 25503, 'rajagopal': 25504, 'rajaji': 25505, 'rajbhar': 25506, 'rajneesh': 25507, 'rajputana': 25508, 'ramakrishnan': 25509, 'ramleela': 25510, 'ramnagar': 25511, 'ransack': 25512, 'rapping': 25513, 'ras': 25514, 'rasam': 25515, 'rashifal': 25516, 'rashke': 25517, 'rashmi': 25518, 'rasi': 25519, 'rationalists': 25520, 'ratlam': 25521, 'ratle': 25522, 'ravikumar': 25523, 'reactive': 25524, 'realism': 25525, 'realtor': 25526, 'reasonably': 25527, 'rebuilt': 25528, 'recieving': 25529, 'recited': 25530, 'reciting': 25531, 'reclaims': 25532, 'reconstruct': 25533, 'redacted': 25534, 'redditers': 25535, 'redditgifts': 25536, 'redundancy': 25537, 'referee': 25538, 'refreshed': 25539, 'refrigerators': 25540, 'refuted': 25541, 'regd': 25542, 'regiments': 25543, 'regionalism': 25544, 'regression': 25545, 'regrowth': 25546, 'rehabilitate': 25547, 'reiki': 25548, 'reimburse': 25549, 'reinventing': 25550, 'rejuvenate': 25551, 'rekt': 25552, 'relics': 25553, 'relieving': 25554, 'remade': 25555, 'remaking': 25556, 'remarkably': 25557, 'rendezvous': 25558, 'renditions': 25559, 'renewing': 25560, 'renounced': 25561, 'repetitive': 25562, 'reposted': 25563, 'repressed': 25564, 'repressive': 25565, 'reproductive': 25566, 'republicans': 25567, 'rerun': 25568, 'reschedule': 25569, 'resettlement': 25570, 'reshape': 25571, 'resisted': 25572, 'resolves': 25573, 'responsibly': 25574, 'restarting': 25575, 'restive': 25576, 'retailing': 25577, 'reunification': 25578, 'revitalise': 25579, 'revolutionize': 25580, 'revolutionized': 25581, 'rewarding': 25582, 'rfid': 25583, 'rhapsody': 25584, 'rhodes': 25585, 'rica': 25586, 'richie': 25587, 'ridge': 25588, 'righttoprivacy': 25589, 'rigveda': 25590, 'rishis': 25591, 'ritabrata': 25592, 'rite': 25593, 'roadtrip': 25594, 'roams': 25595, 'rockstars': 25596, 'roix.in': 25597, 'rolex': 25598, 'rooftops': 25599, 'rote': 25600, 'routines': 25601, 'routing': 25602, 'royale': 25603, 'rpa': 25604, 'rs.2000': 25605, 'rs.50': 25606, 'rs.5000': 25607, 'rs1,000': 25608, 'rs10,000': 25609, 'rs50': 25610, 'rtr': 25611, 'ruchika': 25612, 'rudraksh': 25613, 'rudy': 25614, 'rugby': 25615, 'rumi': 25616, 'rumoured': 25617, 'ruskin': 25618, 'rv': 25619, 's5': 25620, 'saavdhan': 25621, 'sabrimala': 25622, 'sabzi': 25623, 'sachdeva': 25624, 'sacrificing': 25625, 'sacrosanct': 25626, 'sadan': 25627, 'sadhvis': 25628, 'safai': 25629, 'sagging': 25630, 'sahgal': 25631, 'saifullah': 25632, 'sait': 25633, 'sakta': 25634, 'sala': 25635, 'salami': 25636, 'samaa': 25637, 'samantha': 25638, 'samaritans': 25639, 'sampling': 25640, 'samurai': 25641, 'sandip': 25642, 'sands': 25643, 'santanu': 25644, 'sao': 25645, 'sapan': 25646, 'sarah': 25647, 'sarbananda': 25648, 'sarnath': 25649, 'sarson': 25650, 'saryu': 25651, 'satan': 25652, 'satanic': 25653, 'sathe': 25654, 'satirist': 25655, 'saudis': 25656, 'sausage': 25657, 'savagery': 25658, 'sawhney': 25659, 'sayings': 25660, 'scarlett': 25661, 'scent': 25662, 'scramjet': 25663, 'scuttle': 25664, 'se[r]ious': 25665, 'seabed': 25666, 'seaplanes': 25667, 'seatbelts': 25668, 'seating': 25669, 'sectoral': 25670, 'seduced': 25671, 'segments': 25672, 'semiconductor': 25673, 'sender': 25674, 'sensing': 25675, 'sensual': 25676, 'separates': 25677, 'sequences': 25678, 'sequencing': 25679, 'sermons': 25680, 'sexless': 25681, 'shack': 25682, 'shafi': 25683, 'shafqat': 25684, 'shahbaz': 25685, 'shailesh': 25686, 'shale': 25687, 'shamefully': 25688, 'shammi': 25689, 'shankhnaad': 25690, 'shapoorji': 25691, 'sharjah': 25692, 'shipyards': 25693, 'shits': 25694, 'shitshow': 25695, 'shivaroor': 25696, 'shivers': 25697, 'shockingly': 25698, 'shoutout': 25699, 'showoff': 25700, 'shrimati': 25701, 'shripad': 25702, 'shui': 25703, 'sickle': 25704, 'sidelining': 25705, 'sikar': 25706, 'sikku': 25707, 'silicone': 25708, 'simha': 25709, 'sinful': 25710, 'siphoning': 25711, 'sis': 25712, 'sitapur': 25713, 'sixty': 25714, 'sizzle': 25715, 'sizzles': 25716, 'skeptical': 25717, 'skyrocketing': 25718, 'sleeves': 25719, 'slicing': 25720, 'slickaccount': 25721, 'slope': 25722, 'slugfest': 25723, 'smokescreen': 25724, 'smoothly': 25725, 'sneaky': 25726, 'sneha': 25727, 'snippet': 25728, 'snowy': 25729, 'sob': 25730, 'socialize': 25731, 'sodomised': 25732, 'softens': 25733, 'softwares': 25734, 'soha': 25735, 'solace': 25736, 'solan': 25737, 'soleimani': 25738, 'soooo': 25739, 'soothe': 25740, 'soulmate': 25741, 'souring': 25742, 'spammer': 25743, 'specialised': 25744, 'spectre': 25745, 'spelled': 25746, 'spicer': 25747, 'spoiled': 25748, 'spoilsport': 25749, 'sponsoring': 25750, 'sportswomen': 25751, 'squeezed': 25752, 'srcc': 25753, 'sridhar': 25754, 'srikkanth': 25755, 'stabbing': 25756, 'stadiums': 25757, 'stadnik': 25758, 'stag': 25759, 'stalks': 25760, 'stalwart': 25761, 'stampedes': 25762, 'standi': 25763, 'starterpacks': 25764, 'startrails': 25765, 'static': 25766, 'staticgk4u': 25767, 'stationed': 25768, 'statute': 25769, 'stent': 25770, 'sterling': 25771, 'stickied': 25772, 'stinks': 25773, 'stinky': 25774, 'stitching': 25775, 'stoop': 25776, 'strangle': 25777, 'stretches': 25778, 'strive': 25779, 'strives': 25780, 'stun': 25781, 'subaltern': 25782, 'sublime': 25783, 'subsidized': 25784, 'substandard': 25785, 'succumbed': 25786, 'suchitra': 25787, 'sudhakar': 25788, 'sufferings': 25789, 'suffice': 25790, 'suffocation': 25791, 'sugars': 25792, 'sui': 25793, 'sukanya': 25794, 'sukh': 25795, 'sultanate': 25796, 'sumi': 25797, 'summaries': 25798, 'summarized': 25799, 'summing': 25800, 'sumon': 25801, 'superbar': 25802, 'superhuman': 25803, 'supervisor': 25804, 'suppandi': 25805, 'supper': 25806, 'surathkal': 25807, 'sureshbhai': 25808, 'surjewala': 25809, 'survekshan': 25810, 'surveyed': 25811, 'suzette': 25812, 'swagat': 25813, 'swarm': 25814, 'swarn': 25815, 'swaroop': 25816, 'swatch': 25817, 'swears': 25818, 'swindling': 25819, 'swings': 25820, 'sy': 25821, 'synagogue': 25822, 'syringe': 25823, 't2': 25824, 'taali': 25825, 'tableeghi': 25826, 'tacit': 25827, 'tack': 25828, 'tahilramani': 25829, 'taiwanese': 25830, 'talkies': 25831, 'tamanna': 25832, 'tamma': 25833, 'tangle': 25834, 'tanhaji': 25835, 'tankers': 25836, 'tanwar': 25837, 'taseer': 25838, 'tasked': 25839, 'tatkare': 25840, 'tbh': 25841, 'teased': 25842, 'tectonic': 25843, 'tehran': 25844, 'telegu': 25845, 'telgi': 25846, 'temperament': 25847, 'tempting': 25848, 'tends': 25849, 'testicles': 25850, 'tfw': 25851, 'theatrics': 25852, 'thedeshbhakt': 25853, 'thewire.in': 25854, 'thighs': 25855, 'thoughtless': 25856, 'throttle': 25857, 'thrower': 25858, 'thumbnails': 25859, 'thumps': 25860, 'ticketless': 25861, 'timblo': 25862, 'time-': 25863, 'tinderbox': 25864, 'tinkle': 25865, 'tinted': 25866, 'tiring': 25867, 'tk': 25868, 'toil': 25869, 'tolls': 25870, 'tongues': 25871, 'tossed': 25872, 'totalitarian': 25873, 'toubro': 25874, 'touristy': 25875, 'toxin': 25876, 'trampled': 25877, 'transformers': 25878, 'translates': 25879, 'translators': 25880, 'trapping': 25881, 'trashed': 25882, 'travesty': 25883, 'tray': 25884, 'trenches': 25885, 'trespassing': 25886, 'tribesmen': 25887, 'tricity': 25888, 'tripped': 25889, 'trippy': 25890, 'trisha': 25891, 'trishul': 25892, 'trivendra': 25893, 'troopers': 25894, 'trucker': 25895, 'trustable': 25896, 'trọc': 25897, 'tufail': 25898, 'tug': 25899, 'tungnath': 25900, 'turbans': 25901, 'turtuk': 25902, 'tv5': 25903, 'twitch': 25904, 'tycoons': 25905, 'typhoid': 25906, \"u'khand\": 25907, 'u1': 25908, 'ubermoto': 25909, 'ubiquitous': 25910, 'uco': 25911, 'uff': 25912, 'uglier': 25913, 'ugliness': 25914, 'uighur': 25915, 'ulema': 25916, 'umpire': 25917, 'unconditionally': 25918, 'undefeated': 25919, 'undelivered': 25920, 'undergraduates': 25921, 'underreported': 25922, 'undertook': 25923, 'unearthing': 25924, 'unemployable': 25925, 'unethically': 25926, 'unexplained': 25927, 'unfounded': 25928, 'unfurls': 25929, 'ungli': 25930, 'unilateral': 25931, 'unintended': 25932, 'unintentionally': 25933, 'uninterrupted': 25934, 'unknowingly': 25935, 'unmasking': 25936, 'unpacking': 25937, 'unpatriotic': 25938, 'unplanned': 25939, 'unpleasant': 25940, 'unrealistic': 25941, 'unreported': 25942, 'unseat': 25943, 'unspoken': 25944, 'unsuitable': 25945, 'untreated': 25946, 'unusable': 25947, 'unwittingly': 25948, 'unworkable': 25949, 'upbringing': 25950, 'upliftment': 25951, 'upmanyu': 25952, 'upped': 25953, 'uprooted': 25954, 'upsets': 25955, 'upsetting': 25956, 'upvoted': 25957, 'upward': 25958, 'urinal': 25959, 'urvasi': 25960, 'uss': 25961, 'uterus': 25962, 'utilise': 25963, 'uttara': 25964, 'uttarkashi': 25965, 'uzbek': 25966, 'v.s.': 25967, 'v30': 25968, 'v9': 25969, 'vagene': 25970, 'valmikis': 25971, 'valuables': 25972, 'valuations': 25973, 'vas': 25974, 'vasan': 25975, 'vector': 25976, 'veggie': 25977, 'vengeance': 25978, 'verbally': 25979, 'viability': 25980, 'vichaar': 25981, 'videsi': 25982, 'vidhana': 25983, 'vienna': 25984, 'vigour': 25985, 'vimal': 25986, 'vin': 25987, 'vinta': 25988, 'vinyl': 25989, 'violently': 25990, 'virbhadra': 25991, 'virginia': 25992, 'virulent': 25993, 'vishy': 25994, 'vistas': 25995, 'visualizing': 25996, 'vitamins': 25997, 'vitara': 25998, 'vloggers': 25999, 'vo': 26000, 'vol': 26001, 'volatile': 26002, 'vrat': 26003, 'wagle': 26004, 'wahin': 26005, 'walayar': 26006, 'walkout': 26007, 'walsh': 26008, 'wand': 26009, 'wanderer': 26010, 'warehousing': 26011, 'warp': 26012, 'warplane': 26013, 'warrier': 26014, 'washout': 26015, 'wasteful': 26016, 'watsa': 26017, 'wbo': 26018, 'weaponry': 26019, 'wearable': 26020, 'webomania': 26021, 'weighted': 26022, 'westminster': 26023, 'wheelchairs': 26024, 'whims': 26025, 'whites': 26026, 'wield': 26027, 'windies': 26028, 'woltman': 26029, 'wolverine': 26030, 'wolves': 26031, 'wonderfully': 26032, 'worldâ\\x80\\x99s': 26033, 'woven': 26034, 'wrongdoing': 26035, 'www': 26036, 'wylie': 26037, 'x1': 26038, 'xyz': 26039, \"y'day\": 26040, 'yagnik': 26041, 'yapsody': 26042, 'yavatmal': 26043, 'yazidis': 26044, 'yea': 26045, 'yelled': 26046, 'yep': 26047, 'yettinahole': 26048, 'yoda': 26049, 'yog': 26050, 'yogis': 26051, 'yono': 26052, 'youngster': 26053, 'yrf': 26054, 'yug': 26055, 'yunus': 26056, 'zack': 26057, 'zaid': 26058, 'zayn': 26059, 'zia': 26060, 'zinc': 26061, 'zizy.in': 26062, 'zonal': 26063, 'đội': 26064, 'śāstra': 26065, '؟': 26066, 'نے': 26067, 'پر': 26068, 'کیا': 26069, 'ہی': 26070, 'ہیں': 26071, 'अंक': 26072, 'अद्भुत': 26073, 'अभियान': 26074, 'अलग': 26075, 'असर': 26076, 'आजा': 26077, 'आजादी': 26078, 'आणि': 26079, 'आर्मी': 26080, 'आवेदन': 26081, 'उन्हें': 26082, 'उम्र': 26083, 'उस': 26084, 'कक्षा': 26085, 'कटऑफ': 26086, 'कमाई': 26087, 'कमाल': 26088, 'करारा': 26089, 'करो': 26090, 'कहते': 26091, 'कार्यक्रम': 26092, 'केवल': 26093, 'क्रिकेट': 26094, 'खाली': 26095, 'गरीब': 26096, 'गाय': 26097, 'गोरी': 26098, 'ग्रेड': 26099, 'घंटे': 26100, 'चयन': 26101, 'चैन': 26102, 'चौधरी': 26103, 'छुटकारा': 26104, 'ज': 26105, 'जाएगी': 26106, 'जाती': 26107, 'जाना': 26108, 'जायेगा': 26109, 'जुड़े': 26110, 'जोरदार': 26111, 'ज्ञान': 26112, 'झूठ': 26113, 'ठीक': 26114, 'ताकि': 26115, 'देंगे': 26116, 'नीति': 26117, 'नीतीश': 26118, 'न्यूज़': 26119, 'पद्मावती': 26120, 'परिषद': 26121, 'पीछे': 26122, 'प्रकाश': 26123, 'प्रतिशत': 26124, 'प्रमुख': 26125, 'प्राप्त': 26126, 'फैसला': 26127, 'बचने': 26128, 'बच्ची': 26129, 'बजे': 26130, 'बड़े': 26131, 'बनी': 26132, 'बेटा': 26133, 'बेस्ट': 26134, 'बेहतर': 26135, 'बोल': 26136, 'म': 26137, 'मन': 26138, 'महाराष्ट्र': 26139, 'माता': 26140, 'माध्यमिक': 26141, 'मामले': 26142, 'मैंने': 26143, 'यदि': 26144, 'रख': 26145, 'रहस्य': 26146, 'राज्य': 26147, 'रामायण': 26148, 'राष्ट्रीय': 26149, 'लगतारु': 26150, 'लगाई': 26151, 'लगी': 26152, 'लगे': 26153, 'लड़ाई': 26154, 'लोगो': 26155, 'वालो': 26156, 'वित्त': 26157, 'शक्ति': 26158, 'शहर': 26159, 'शासन': 26160, 'शुभ': 26161, 'शुभकामनाएं': 26162, 'संख्या': 26163, 'सकेंगे': 26164, 'सख्त': 26165, 'सजा': 26166, 'समान': 26167, 'सम्पूर्ण': 26168, 'सम्बन्ध': 26169, 'सलाम': 26170, 'सिंधिया': 26171, 'सीएम': 26172, 'सुनकर': 26173, 'सुने': 26174, 'सुरक्षा': 26175, 'स्टार': 26176, 'स्थान': 26177, 'स्पेशल': 26178, 'हमें': 26179, 'हवा': 26180, 'हाईकोर्ट': 26181, 'हिंसा': 26182, 'हिन्दू': 26183, '०१': 26184, 'বাংলা': 26185, 'সৈতে': 26186, 'ఈ': 26187, 'పాము': 26188, 'పిల్లులు': 26189, 'ముంగీస': 26190, '₹25,000': 26191, '₹30,000': 26192, '₹50,000': 26193, '♀': 26194, '♪': 26195, '️.': 26196, '\\ufeff': 26197, '￼': 26198, '�': 26199, '🎶': 26200, '💩': 26201, '💻': 26202, '📲': 26203, '😝': 26204, '🚩': 26205, '🥇': 26206, '+2': 26207, '-aadhaar': 26208, '-indian': 26209, '...........': 26210, '//economictimes.indiatimes.com': 26211, '0.3': 26212, '0.75': 26213, '1,000-year': 26214, '1-': 26215, '1-cr': 26216, '1-trillion': 26217, '1.04': 26218, '1.12': 26219, '1.24': 26220, '1.44': 26221, '1/3': 26222, '10-step': 26223, '10.3': 26224, '1000-crore': 26225, '1000rs': 26226, '1000s': 26227, '100k': 26228, '1024': 26229, '102nd': 26230, '103rd': 26231, '12-digit': 26232, '12000': 26233, '13-yr': 26234, '139': 26235, '14,999': 26236, '14-yr': 26237, '141': 26238, '16f': 26239, '16k': 26240, '1705': 26241, '179': 26242, '18.4': 26243, '1869': 26244, '1885': 26245, '1899': 26246, '18yr': 26247, '1908': 26248, '1912': 26249, '1920x1080': 26250, '193': 26251, '1956': 26252, '1958': 26253, '1973': 26254, '1c': 26255, '2,400': 26256, '2,800': 26257, '2.35': 26258, '2/3rd': 26259, '20-yr': 26260, '2016/17': 26261, '2019|': 26262, '2029': 26263, '203': 26264, '2035': 26265, '20l': 26266, '22k': 26267, '231': 26268, '23andme': 26269, '2500kms': 26270, '252': 26271, '26-week': 26272, '2600': 26273, '2800': 26274, '282': 26275, '288': 26276, '289': 26277, '2d': 26278, '2min': 26279, '3,200': 26280, '3,350': 26281, '3,800': 26282, '3.30': 26283, '3000-tonne': 26284, '304': 26285, '315': 26286, '324': 26287, '3264': 26288, '3456x4608': 26289, '372': 26290, '39th': 26291, '3ac': 26292, '3g/4': 26293, '4-star': 26294, '4000mah': 26295, '4000×3000': 26296, '41-year': 26297, '415': 26298, '42,000': 26299, '427': 26300, '4320x3240': 26301, '460': 26302, '5,999': 26303, '5.30': 26304, '5.75': 26305, '500,1000': 26306, '50000': 26307, '500th': 26308, '506': 26309, '509': 26310, '52nd': 26311, '5300': 26312, '535': 26313, '55,000': 26314, '56,000': 26315, '56-year': 26316, '58,000': 26317, '586': 26318, '58th': 26319, '59,000': 26320, '6-inch': 26321, '6.25': 26322, '61st': 26323, '625': 26324, '676': 26325, '69,000': 26326, '69-year': 26327, '699': 26328, '6p': 26329, '7-yr': 26330, '72,000': 26331, '75-year': 26332, '768': 26333, '7837310000': 26334, '79th': 26335, '7k': 26336, '7x': 26337, '8,999': 26338, '8.55': 26339, '80k': 26340, '830': 26341, '85-year': 26342, '855': 26343, '8:30': 26344, '9-judge': 26345, '9.2': 26346, '90k': 26347, '90th': 26348, '918': 26349, '96th': 26350, '9:30': 26351, '9gag': 26352, '9pm9min': 26353, ':-d': 26354, '@abeshinzo': 26355, '@drharshvardhan': 26356, '@isro': 26357, '@kamaalrkhan': 26358, '@manoharparrikar': 26359, '@mediacrooks': 26360, '@rs': 26361, '@superstarrajini': 26362, '@themetrorailguy': 26363, '@twitter': 26364, '@un': 26365, '^': 26366, 'a.r': 26367, 'a320neo': 26368, 'a8': 26369, 'aaa': 26370, 'aadhaarverdict': 26371, 'aagc': 26372, 'aamer': 26373, 'aana': 26374, 'aanand': 26375, 'aapbreakup': 26376, 'aaryan': 26377, 'aastha': 26378, 'aasu': 26379, 'aayenge': 26380, 'abdullah_omar': 26381, 'abdullahs': 26382, 'abijit': 26383, 'abolishment': 26384, 'absenteeism': 26385, 'absentia': 26386, 'abundant': 26387, 'abuzz': 26388, 'accelerating': 26389, 'accelerators': 26390, 'accompany': 26391, 'accusers': 26392, 'acha': 26393, 'achal': 26394, 'acquaintances': 26395, 'acquitting': 26396, 'actionable': 26397, 'activates': 26398, 'adams': 26399, 'adanis': 26400, 'adda': 26401, 'addictive': 26402, 'adelaide': 26403, 'adg': 26404, 'adgpi': 26405, 'adhikari': 26406, 'adios': 26407, 'adjacent': 26408, 'adjournment': 26409, 'adjudged': 26410, 'adjusting': 26411, 'adjustment': 26412, 'ado': 26413, 'adore': 26414, 'adrian': 26415, 'adrift': 26416, 'adulthood': 26417, 'adv': 26418, 'advancement': 26419, 'advent': 26420, 'advertiser': 26421, 'aeronautics': 26422, 'aesthetic': 26423, 'afar': 26424, 'afflict': 26425, 'afoot': 26426, 'afrazul': 26427, 'afrin': 26428, 'aft': 26429, 'again-': 26430, 'agitate': 26431, 'agitating': 26432, 'agnostic': 26433, 'agritech': 26434, 'aham': 26435, 'airman': 26436, 'aksai': 26437, 'akshara': 26438, 'albino': 26439, 'alcoholism': 26440, 'alexis': 26441, 'algorithmic': 26442, 'alienate': 26443, 'alif': 26444, 'allergies': 26445, 'allianz': 26446, 'allots': 26447, 'aloe': 26448, 'alstom': 26449, 'altaf': 26450, 'altnews': 26451, 'amanda': 26452, 'amassed': 26453, 'ambati': 26454, 'ambernath': 26455, 'ambience': 26456, 'amer': 26457, 'amjad': 26458, 'amoled': 26459, 'amritpal': 26460, 'amroha': 26461, 'amuse': 26462, 'amway': 26463, 'ananda': 26464, 'ancillaries': 26465, 'andra': 26466, 'andrey': 26467, 'anecdotal': 26468, 'anganwadis': 26469, 'angst': 26470, 'angular': 26471, 'ankiv': 26472, 'annamalai': 26473, 'annexation': 26474, 'antakshari': 26475, 'anticipate': 26476, 'anticipation': 26477, 'antifa': 26478, 'antinational': 26479, 'antiques': 26480, 'antitrust': 26481, 'antrix': 26482, 'anuj': 26483, 'anus': 26484, 'apac': 26485, 'apologetic': 26486, 'apologising': 26487, 'apologizing': 26488, 'appreciating': 26489, 'appropriately': 26490, 'apurvi': 26491, 'ara': 26492, 'aramex': 26493, 'araria': 26494, 'arcelormittal': 26495, 'archdiocese': 26496, 'archie': 26497, 'archive.org': 26498, 'arctic': 26499, 'ardh': 26500, 'arduino': 26501, 'arey': 26502, 'arhar': 26503, 'armchair': 26504, 'armor': 26505, 'array': 26506, 'arshi': 26507, 'artery': 26508, 'artworks': 26509, 'arunachalam': 26510, 'asanas': 26511, 'asbestos': 26512, 'ascends': 26513, 'ascetic': 26514, 'ashis': 26515, 'ashutosh83b': 26516, 'asics': 26517, 'asifa': 26518, 'ask]how': 26519, 'askindia]how': 26520, 'askindia]i': 26521, 'askrandia': 26522, 'asmr': 26523, 'aspires': 26524, 'assembles': 26525, 'assertive': 26526, 'assisting': 26527, 'assorted': 26528, 'asst': 26529, 'assurances': 26530, 'assyrian': 26531, 'aston': 26532, 'astonished': 26533, 'astronomers': 26534, 'atk': 26535, 'atrocious': 26536, 'attain': 26537, 'attained': 26538, 'attendance.gov.in': 26539, 'audis': 26540, 'auditing': 26541, 'audits': 26542, 'authorisation': 26543, 'autocad': 26544, 'autocar': 26545, 'autocomplete': 26546, 'automobiles': 26547, 'autowala': 26548, 'availing': 26549, 'avalanches': 26550, 'avani': 26551, 'avbp': 26552, 'avoidable': 26553, 'awesomeness': 26554, 'awestruck': 26555, 'awkwardness': 26556, 'azan': 26557, 'b1': 26558, 'baare': 26559, 'babudom': 26560, 'babylon': 26561, 'backend': 26562, 'backside': 26563, 'backstabbed': 26564, 'backstreet': 26565, 'bacon': 26566, 'badge': 26567, 'badhaai': 26568, 'badlapur': 26569, 'baghdad': 26570, 'bahawalpur': 26571, \"bahá'í\": 26572, 'baidu': 26573, 'baijayant': 26574, 'bailing': 26575, 'baisoya': 26576, 'bajao': 26577, 'baje': 26578, 'baker': 26579, 'balapur': 26580, 'ballad': 26581, 'balram': 26582, 'banao': 26583, 'banarasi': 26584, 'bandage': 26585, 'bandhs': 26586, 'bandi': 26587, 'bandicoot': 26588, 'bandit': 26589, 'bandyopadhyay': 26590, 'bangs': 26591, 'bani': 26592, 'banksy': 26593, 'bankura': 26594, 'banna': 26595, 'bantwal': 26596, 'baori': 26597, 'bapuji': 26598, 'barges': 26599, 'bari': 26600, 'barkati': 26601, 'barricade': 26602, 'barricades': 26603, 'barron': 26604, 'barun': 26605, 'bashed': 26606, 'bashers': 26607, 'bashir': 26608, 'bathukamma': 26609, 'bauxite': 26610, 'bbg': 26611, 'bcoz': 26612, 'bda': 26613, 'bearded': 26614, 'beckons': 26615, 'bedsheets': 26616, 'beedi': 26617, 'beefban': 26618, 'believer': 26619, 'bends': 26620, 'bengalore': 26621, 'bennett': 26622, 'bereaved': 26623, 'besharam': 26624, 'besties': 26625, 'bestseller': 26626, 'bete': 26627, 'beyonce': 26628, 'bezel': 26629, 'bhaang': 26630, 'bhag': 26631, 'bhagirathi': 26632, 'bhajpa': 26633, 'bhaker': 26634, 'bhambri': 26635, 'bhandup': 26636, 'bhanot': 26637, 'bhanwar': 26638, 'bhanwari': 26639, 'bharara': 26640, 'bharosa': 26641, 'bhatinda': 26642, 'bhatta': 26643, 'bhayander': 26644, 'bhejo': 26645, 'bhimsen': 26646, 'bhojpur': 26647, 'bhook': 26648, 'bhuj': 26649, 'bhujbal': 26650, 'bigil': 26651, 'biking': 26652, 'bilkul': 26653, 'binds': 26654, 'bingo': 26655, 'biodegradable': 26656, 'biogas': 26657, 'bipartisan': 26658, 'birdman': 26659, 'bis': 26660, 'bishkek': 26661, 'bismil': 26662, 'bitterness': 26663, 'bittorrent': 26664, 'bittu': 26665, 'bizman': 26666, 'bks': 26667, 'blackmails': 26668, 'blasted': 26669, 'blissful': 26670, 'bloated': 26671, 'blockades': 26672, 'bmws': 26673, 'bo': 26674, 'bodybuilders': 26675, 'boldly': 26676, 'bolsonaro': 26677, 'bombardier': 26678, 'bonfire': 26679, 'bonkers': 26680, 'bookstore': 26681, 'boosters': 26682, 'bootstrap': 26683, 'box8': 26684, 'boysbite': 26685, 'bq': 26686, 'bracket': 26687, 'brahman': 26688, 'brahmi': 26689, 'brahminism': 26690, 'brainware': 26691, 'brandished': 26692, 'branson': 26693, 'brats': 26694, 'bravely': 26695, 'bravest': 26696, 'breakout': 26697, 'breakups': 26698, 'brien': 26699, 'brigades': 26700, 'brin': 26701, 'broadcasted': 26702, 'brochure': 26703, 'brock': 26704, 'brodha': 26705, 'brokerage': 26706, 'brookfield': 26707, 'browsers': 26708, 'brt': 26709, 'bruh': 26710, 'brushed': 26711, 'brushing': 26712, 'brussels': 26713, 'bschool': 26714, 'budapest': 26715, 'buddhu': 26716, 'budgetary': 26717, 'budgeting': 26718, 'buff': 26719, 'bumble': 26720, 'bumped': 26721, 'bundi': 26722, 'bunks': 26723, 'burdens': 26724, 'burgled': 26725, 'burnol': 26726, 'buttis': 26727, 'buyucoin': 26728, 'by-': 26729, 'byculla': 26730, 'bygone': 26731, 'bypassed': 26732, 'bytedance': 26733, \"c'mon\": 26734, 'c.m.': 26735, 'c36': 26736, 'cacophony': 26737, 'calibrated': 26738, 'calibration': 26739, 'calligraphy': 26740, 'callous': 26741, 'cameo': 26742, 'campbell': 26743, 'canine': 26744, 'canned': 26745, 'cantt': 26746, 'capacities': 26747, 'cape': 26748, 'capes': 26749, 'capgemini': 26750, 'capitalize': 26751, 'capitalmind': 26752, 'carb': 26753, 'cardiologist': 26754, 'cardiovascular': 26755, 'careless': 26756, 'carlin': 26757, 'carmakers': 26758, 'carona': 26759, 'carrer': 26760, 'cartels': 26761, 'cartons': 26762, 'carvings': 26763, 'cashier': 26764, 'cassette': 26765, 'castrated': 26766, 'catalog': 26767, 'catalonia': 26768, 'caterpillar': 26769, 'catwalk': 26770, 'cautiously': 26771, 'cayman': 26772, 'ccs': 26773, 'cdsl': 26774, 'celibacy': 26775, 'celibate': 26776, 'cello': 26777, 'celsius': 26778, 'censure': 26779, 'censured': 26780, 'centralized': 26781, 'centurion': 26782, 'ceramic': 26783, 'certifies': 26784, 'chained': 26785, 'chairpersons': 26786, 'chak': 26787, 'challans': 26788, 'chamoli': 26789, 'champaran': 26790, 'chandela': 26791, 'chandrashekar': 26792, 'chandrashila': 26793, 'charcoal': 26794, 'charting': 26795, 'chatbots': 26796, 'chau': 26797, 'chaudhury': 26798, 'chauvinistic': 26799, 'cheatsheet': 26800, 'checkered': 26801, 'cheered': 26802, 'cheka': 26803, 'cherished': 26804, 'chettinad': 26805, 'chews': 26806, 'chhichhore': 26807, 'chides': 26808, 'childhoods': 26809, 'childless': 26810, 'chilled': 26811, 'chinareport': 26812, 'chinki': 26813, 'chitale': 26814, 'chokha': 26815, 'cholapuram': 26816, 'chowkidaar': 26817, 'christie': 26818, 'chunks': 26819, 'chup': 26820, 'chutiye': 26821, 'ciaz': 26822, 'cine': 26823, 'cinemagraph': 26824, 'cinematography': 26825, 'circuits': 26826, 'circumcised': 26827, 'citadel': 26828, 'citations': 26829, 'cjis': 26830, 'ck': 26831, 'cl': 26832, 'clamping': 26833, 'clark': 26834, 'classifies': 26835, 'claus': 26836, 'clerks': 26837, 'clinched': 26838, 'clinically': 26839, 'coated': 26840, 'cockroaches': 26841, 'collaborates': 26842, 'collaborators': 26843, 'collection-': 26844, 'collectorate': 26845, 'combines': 26846, 'comebacks': 26847, 'comedies': 26848, 'comey': 26849, 'comfy': 26850, 'comical': 26851, 'commanding': 26852, 'commemorative': 26853, 'commies': 26854, 'commitments': 26855, 'communalising': 26856, 'communally': 26857, 'communicator': 26858, 'commuted': 26859, 'comparative': 26860, 'competitions': 26861, 'complement': 26862, 'complements': 26863, 'compositions': 26864, 'compulsorily': 26865, 'concealing': 26866, 'conciliatory': 26867, 'conductors': 26868, 'confederation': 26869, 'confiscated': 26870, 'confiscation': 26871, 'confluence': 26872, 'congratulating': 26873, 'congresswoman': 26874, 'conjoined': 26875, 'conqueror': 26876, 'considerable': 26877, 'considerably': 26878, 'consisting': 26879, 'contd': 26880, 'contemplated': 26881, 'contentofinterest&amp;utm_medium': 26882, 'continuation': 26883, 'contradicting': 26884, 'contradictions': 26885, 'contrarian': 26886, 'convene': 26887, 'converse': 26888, 'converter': 26889, 'conveyor': 26890, 'conveys': 26891, 'cooper': 26892, 'coordinate': 26893, 'copyrighted': 26894, 'cordoned': 26895, 'coriander': 26896, 'cots': 26897, 'councils': 26898, 'counsellors': 26899, 'counterproductive': 26900, 'courted': 26901, 'courtship': 26902, 'cowboys': 26903, 'coworkers': 26904, 'cozy': 26905, 'craigslist': 26906, 'crave': 26907, 'crawling': 26908, 'crediting': 26909, 'creditors': 26910, 'creepier': 26911, 'creta': 26912, 'criminalisation': 26913, 'cripples': 26914, 'crisp': 26915, 'croma': 26916, 'cronies': 26917, 'crossings': 26918, 'crowning': 26919, 'crpc': 26920, 'crusaders': 26921, 'crux': 26922, 'csgo': 26923, 'ct17': 26924, 'ctet': 26925, 'cuba': 26926, 'cultivated': 26927, 'cultivating': 26928, 'cunts': 26929, 'curfews': 26930, 'cutlery': 26931, 'cutter': 26932, 'cyberabad': 26933, 'cybercity': 26934, 'cyclical': 26935, 'cynics': 26936, 'cyprus': 26937, 'd1': 26938, 'd5300': 26939, 'd7000': 26940, 'dabba': 26941, 'daca': 26942, 'dadi': 26943, 'daggubati': 26944, 'dahanu': 26945, 'dahisar': 26946, 'dalip': 26947, 'dalmia': 26948, 'damani': 26949, 'dame': 26950, 'damp': 26951, 'dampen': 26952, 'dandi': 26953, 'dankmemes': 26954, 'danve': 26955, 'daredevil': 26956, 'darwaza': 26957, 'dastardly': 26958, 'db': 26959, 'ddnewslive': 26960, 'dealbook': 26961, 'dealership': 26962, 'dearer': 26963, 'debatable': 26964, 'decaying': 26965, 'deceiving': 26966, 'decentralized': 26967, 'decimate': 26968, 'decipher': 26969, 'deco': 26970, 'decomposed': 26971, 'decorum': 26972, 'decriminalisation': 26973, 'decriminalise': 26974, 'decriminalization': 26975, 'dede': 26976, 'deepti': 26977, 'deewani': 26978, 'deewar': 26979, 'defamed': 26980, 'defranco': 26981, 'dehati': 26982, 'deja': 26983, 'delegates': 26984, 'delhielections': 26985, 'delta': 26986, 'deluxe': 26987, 'demarche': 26988, 'demchok': 26989, 'democrazy': 26990, 'demolitions': 26991, 'demonetizing': 26992, 'demonstrators': 26993, 'demoted': 26994, 'demystifying': 26995, 'dentistry': 26996, 'deodhar': 26997, 'deonar': 26998, 'depts': 26999, 'derives': 27000, 'deserting': 27001, 'deshi': 27002, 'designates': 27003, 'designating': 27004, 'desirable': 27005, 'desraj': 27006, 'detentions': 27007, 'determining': 27008, 'detest': 27009, 'detox': 27010, 'devas': 27011, 'devised': 27012, 'devote': 27013, 'devouring': 27014, 'devout': 27015, 'dhananjay': 27016, 'dharamkot': 27017, 'dharm': 27018, 'dhokha': 27019, 'dhokla': 27020, 'dialing': 27021, 'dialling': 27022, 'diana': 27023, 'diarrhea': 27024, 'dictating': 27025, 'diff': 27026, 'differential': 27027, 'digitalmarketing': 27028, 'dignified': 27029, 'diktats': 27030, 'dilemmas': 27031, 'dilon': 27032, 'dimension': 27033, 'dimensional': 27034, 'ding': 27035, 'disagreed': 27036, 'disallow': 27037, 'disallowed': 27038, 'disapproves': 27039, 'discards': 27040, 'discharges': 27041, 'discontinuation': 27042, 'disheartened': 27043, 'disheartening': 27044, 'disowns': 27045, 'dispensing': 27046, 'disperse': 27047, 'dissecting': 27048, 'dissenters': 27049, 'distinctive': 27050, 'distinguished': 27051, 'distracting': 27052, 'divergence': 27053, 'divorcing': 27054, 'diwakar': 27055, 'djs': 27056, 'dlc': 27057, 'dmart': 27058, 'dms': 27059, 'dnaindia.com': 27060, 'doable': 27061, 'docks': 27062, 'dogecoin': 27063, 'dogma': 27064, 'dogra': 27065, 'doings': 27066, 'doled': 27067, 'doles': 27068, 'dolls': 27069, 'dolly': 27070, 'dolphins': 27071, 'domestically': 27072, 'dominar': 27073, 'donaldtrump': 27074, 'donuts': 27075, 'doob': 27076, 'doodles': 27077, 'dooj': 27078, 'doonga': 27079, 'doorsteps': 27080, 'dorsey': 27081, 'dosas': 27082, 'dosh': 27083, 'dpr': 27084, 'dracula': 27085, 'dries': 27086, 'drip': 27087, 'dripping': 27088, 'drm': 27089, 'dt': 27090, 'dugga': 27091, 'dulhania': 27092, 'dull': 27093, 'dunkin': 27094, 'duplication': 27095, 'durables': 27096, 'durrani': 27097, 'duryodhan': 27098, 'dustbins': 27099, 'dvds': 27100, 'dweller': 27101, 'dylan': 27102, 'd’souza': 27103, 'e03': 27104, 'e3': 27105, 'earnest': 27106, 'ecards': 27107, 'ecg': 27108, 'ecic': 27109, 'econ': 27110, 'ecosystems': 27111, 'ecr': 27112, 'ecstasy': 27113, 'edtech': 27114, 'educators': 27115, 'edwina': 27116, 'edx': 27117, 'eesl': 27118, 'effortlessly': 27119, 'egalitarian': 27120, 'ehsan': 27121, 'eighteen': 27122, 'eject': 27123, 'elated': 27124, 'electrocution': 27125, 'electronically': 27126, 'elf': 27127, 'elixir': 27128, 'embarked': 27129, 'embers': 27130, 'embodies': 27131, 'embroidery': 27132, 'emergencies': 27133, 'emisat': 27134, 'emphasises': 27135, 'encouragement': 27136, 'enjoyment': 27137, 'enrolling': 27138, 'entha': 27139, 'ents': 27140, 'epca': 27141, 'epicenter': 27142, 'epub': 27143, 'eradication': 27144, 'eraser': 27145, 'erected': 27146, 'erection': 27147, 'ergonomic': 27148, 'erik': 27149, 'erode': 27150, 'erotica': 27151, 'escapade': 27152, 'esops': 27153, 'estimating': 27154, 'etiquettes': 27155, 'etymology': 27156, 'europeanunion': 27157, 'evacuating': 27158, 'evacuees': 27159, 'evangelism': 27160, 'evicting': 27161, 'evolvertech': 27162, 'excl': 27163, 'excursion': 27164, 'exes': 27165, 'exonerate': 27166, 'experimenting': 27167, 'expiring': 27168, 'expletives': 27169, 'explorers': 27170, 'exponentially': 27171, 'expunged': 27172, 'extorted': 27173, 'extras': 27174, 'extravaganza': 27175, 'extremes': 27176, 'extroverts': 27177, 'eyebrow': 27178, 'f*cked': 27179, 'f5': 27180, 'fa': 27181, 'fabhooks': 27182, 'fabindia': 27183, 'fabmatics': 27184, 'fabricating': 27185, 'fabrication': 27186, 'facism': 27187, 'factored': 27188, 'faeces': 27189, 'fakenews': 27190, 'fakingnews': 27191, 'fakir': 27192, 'fakirs': 27193, 'falahari': 27194, 'falter': 27195, 'faltering': 27196, 'fangs': 27197, 'farakka': 27198, 'farmland': 27199, 'fatally': 27200, 'favorable': 27201, 'fearsome': 27202, 'feb-2018': 27203, 'fellowkids': 27204, 'fellowships': 27205, 'fences': 27206, 'fenugreek': 27207, 'feroze': 27208, 'fertility-': 27209, 'fertilizer': 27210, 'fertilizers': 27211, 'fetishes': 27212, 'fevicol': 27213, 'fictitious': 27214, 'fiddle': 27215, 'fidelity': 27216, 'fielded': 27217, 'fiitjee': 27218, 'filtration': 27219, 'finalized': 27220, 'fingertip': 27221, 'fireflies': 27222, 'firsthand': 27223, 'fishers': 27224, 'fitoor': 27225, 'fitr': 27226, 'fixers': 27227, 'flamboyant': 27228, 'flares': 27229, 'flashing': 27230, 'flea': 27231, 'flexes': 27232, 'flexing': 27233, 'flickr': 27234, 'flicks': 27235, 'flier': 27236, 'flipping': 27237, 'floundering': 27238, 'flourishing': 27239, 'flush': 27240, 'focussing': 27241, 'followup': 27242, 'folly': 27243, 'foothills': 27244, 'forage': 27245, 'forensics': 27246, 'fork': 27247, 'formalities': 27248, 'formidable': 27249, 'formulation': 27250, 'fortnite': 27251, 'fortuner': 27252, 'fraudster': 27253, 'freaky': 27254, 'freida': 27255, 'frighten': 27256, 'frock': 27257, 'frontiers': 27258, 'fruitful': 27259, 'ftcash': 27260, 'fukrey': 27261, 'fulfillment': 27262, 'fullest': 27263, 'functionaries': 27264, 'fundamentalist': 27265, 'fuse': 27266, 'futurology': 27267, 'fx': 27268, 'fy14': 27269, 'g+': 27270, 'g.k.': 27271, 'g.o.d': 27272, 'gaali': 27273, 'gaand': 27274, 'gaddar': 27275, 'gaddaro': 27276, 'gaddaron': 27277, 'gal': 27278, 'galli': 27279, 'gamingbytes': 27280, 'gamma': 27281, 'gangadhar': 27282, 'gangaikonda': 27283, 'gangsta': 27284, 'gaon': 27285, 'gaping': 27286, 'garcia': 27287, 'gareeb': 27288, 'gaze': 27289, 'gazing': 27290, 'gbps': 27291, 'gearbest': 27292, 'geete': 27293, 'genealogy': 27294, 'geospatial': 27295, 'gharwapsi': 27296, 'ghazals': 27297, 'ghetto': 27298, 'ghoonghat': 27299, 'ghosal': 27300, 'gigawatts': 27301, 'gilchrist': 27302, 'ginni': 27303, 'girhotra': 27304, 'giridih': 27305, 'gis': 27306, 'giveaways': 27307, 'gladiator': 27308, 'glorification': 27309, 'glue': 27310, 'goggles': 27311, 'gogineni': 27312, 'goldmine': 27313, 'golgappas': 27314, 'goodies': 27315, 'goondas': 27316, 'goonj': 27317, 'gote': 27318, 'gotham': 27319, 'gov.': 27320, 'gown': 27321, 'gp': 27322, 'graders': 27323, 'grading': 27324, 'grammatical': 27325, 'grandchildren': 27326, 'grandmas': 27327, 'granth': 27328, 'graphite': 27329, 'gravest': 27330, 'greco': 27331, 'greenery': 27332, 'gregory': 27333, 'greta': 27334, 'grin': 27335, 'gripen': 27336, 'gripping': 27337, 'groundwork': 27338, 'growers': 27339, 'gsat-16': 27340, 'gsat-7a': 27341, 'guarantor': 27342, 'guerrilla': 27343, 'guiana': 27344, 'gujaratelection2017': 27345, 'gundas': 27346, 'gunday': 27347, 'gunshots': 27348, 'gurcharan': 27349, 'gurls': 27350, 'gurudongmar': 27351, 'guruswamy': 27352, 'gva': 27353, 'gvk': 27354, 'gypsies': 27355, 'h.p.': 27356, 'haifa': 27357, 'hailstorm': 27358, 'haldighati': 27359, 'hambantota': 27360, 'hampers': 27361, 'hamza': 27362, 'handbag': 27363, 'handouts': 27364, 'handshakes': 27365, 'handwriting': 27366, 'hangpan': 27367, 'hanks': 27368, 'happenings': 27369, 'harambe': 27370, 'harassers': 27371, 'harbouring': 27372, 'hardship': 27373, 'hardtalk': 27374, 'hariprasad': 27375, 'harishchandra': 27376, 'harminder': 27377, 'harrier': 27378, 'hartosh': 27379, 'hatch': 27380, 'hatched': 27381, 'hatrick': 27382, 'hawalaatmidnight': 27383, 'hazra': 27384, 'hazy': 27385, 'hbr': 27386, 'headlight': 27387, 'heathrow': 27388, 'hebbal': 27389, 'heena': 27390, 'heeraben': 27391, 'heil': 27392, 'heinrich': 27393, 'helen': 27394, 'helplessness': 27395, 'hen': 27396, 'hentai': 27397, 'herders': 27398, 'herds': 27399, 'hers': 27400, 'heterosexual': 27401, 'hibernation': 27402, 'hic': 27403, 'hideout': 27404, 'hideouts': 27405, 'hijras': 27406, 'hilarity': 27407, 'hillarious': 27408, 'hillstation': 27409, 'himmler': 27410, 'hinduise': 27411, 'hinduja': 27412, 'hinduon': 27413, 'hipsters': 27414, 'historymemes': 27415, 'hitch': 27416, 'hitech': 27417, 'hitman': 27418, 'hmo': 27419, 'hoarded': 27420, 'hoc': 27421, 'hoists': 27422, 'holier': 27423, 'holiness': 27424, 'holistic': 27425, 'hollowness': 27426, 'holly': 27427, 'holtzberg': 27428, 'homemaker': 27429, 'homeowners': 27430, 'hongkong': 27431, 'honouring': 27432, 'hoodwinking': 27433, 'hopefuls': 27434, 'horned': 27435, 'hornets': 27436, 'horrendous': 27437, 'hotness': 27438, 'houseboat': 27439, 'housekeeping': 27440, 'housework': 27441, 'hovers': 27442, 'hrw': 27443, 'hssc': 27444, 'hubris': 27445, 'huffington': 27446, 'humankind': 27447, 'hungrier': 27448, 'hunkar': 27449, 'hurray': 27450, 'hushed': 27451, 'hussaini': 27452, 'hyatt': 27453, 'hyderabad-': 27454, 'hyperbole': 27455, 'i-': 27456, 'i.': 27457, 'icar': 27458, 'icssr': 27459, 'ict': 27460, 'ideally': 27461, 'idiocracy': 27462, 'iea': 27463, 'igst': 27464, 'iima': 27465, 'il': 27466, 'ileana': 27467, 'illallah': 27468, 'img': 27469, 'immolated': 27470, 'immolates': 27471, 'impart': 27472, 'impediment': 27473, 'imploding': 27474, 'imply': 27475, 'importantly': 27476, 'importers': 27477, 'impostor': 27478, 'impractical': 27479, 'impregnated': 27480, 'impresses': 27481, 'impromptu': 27482, 'impure': 27483, 'inaccessible': 27484, 'inaugurating': 27485, 'inbuilt': 27486, 'incentivize': 27487, 'incoherent': 27488, 'incorporates': 27489, 'inda': 27490, 'inde': 27491, 'independance': 27492, 'inderjit': 27493, 'india?[np': 27494, 'india[p': 27495, 'indiafightscorona': 27496, 'indiamart': 27497, 'indiapost': 27498, 'indiasdaughter': 27499, 'indicoin': 27500, 'induce': 27501, 'indusind': 27502, 'indvpak': 27503, 'indvsaus': 27504, 'inedible': 27505, 'infact': 27506, 'infect': 27507, 'infecting': 27508, 'inferno': 27509, 'infestation': 27510, 'influenza': 27511, 'infrared': 27512, 'infused': 27513, 'initiation': 27514, 'inject': 27515, 'inkjet': 27516, 'inn': 27517, 'innova': 27518, 'innovator': 27519, 'inquiries': 27520, 'insanely': 27521, 'inshallah': 27522, 'inspecting': 27523, 'instability': 27524, 'instigated': 27525, 'instilling': 27526, 'instituted': 27527, 'insulated': 27528, 'insured': 27529, 'int': 27530, 'intellectualism': 27531, 'interconnected': 27532, 'interconnection': 27533, 'internationalise': 27534, 'internetisbeautiful': 27535, 'interpreters': 27536, 'interpreting': 27537, 'interrupception': 27538, 'interrupts': 27539, 'intezaar': 27540, 'intimation': 27541, 'intimidate': 27542, 'intresting': 27543, 'introductory': 27544, 'introverted': 27545, 'intrude': 27546, 'invades': 27547, 'ipod': 27548, 'ipsos': 27549, 'irda': 27550, 'irreparable': 27551, 'isbt': 27552, 'istanbul': 27553, 'iuml': 27554, 'ivr': 27555, 'izle': 27556, 'j&amp;j': 27557, 'jaani': 27558, 'jabs': 27559, 'jafar': 27560, 'jaffrey': 27561, 'jagadesh': 27562, 'jahaan': 27563, 'jaise': 27564, 'jaitly': 27565, 'jaldi': 27566, 'jamie': 27567, 'jamtara': 27568, 'janhit': 27569, 'jannat': 27570, 'jarnail': 27571, 'jatts': 27572, 'jaunpur': 27573, 'jayaram': 27574, 'jayati': 27575, 'jayprakash': 27576, 'jbl': 27577, 'jedi': 27578, 'jeeta': 27579, 'jehan': 27580, 'jehangir': 27581, 'jelly': 27582, 'jeremy': 27583, 'jhula': 27584, 'jhulan': 27585, 'jm': 27586, 'joel': 27587, 'joh': 27588, 'johor': 27589, 'joking': 27590, 'jordaar': 27591, 'joys': 27592, 'jpmorgan': 27593, 'judaism': 27594, 'juggling': 27595, 'julia': 27596, 'julio': 27597, 'junkies': 27598, 'jvs': 27599, 'k.r.': 27600, 'k4': 27601, 'kaaram': 27602, 'kabristan': 27603, 'kahi': 27604, 'kahin': 27605, 'kaifiyat': 27606, 'kakkoos': 27607, 'kakodkar': 27608, 'kaku': 27609, 'kalaari': 27610, 'kalanithi': 27611, 'kalapani': 27612, 'kalia': 27613, 'kalindi': 27614, 'kamaalrkhan': 27615, 'kamat': 27616, 'kammal': 27617, 'kammanahalli': 27618, 'kanahiya': 27619, 'kandahar': 27620, 'kandivali': 27621, 'kaneria': 27622, 'kang': 27623, 'kangna': 27624, 'kangri': 27625, 'kanha': 27626, 'kanishka': 27627, 'kanta': 27628, 'karakoram': 27629, 'karamchand': 27630, 'karandlaje': 27631, 'karanj': 27632, 'kardi': 27633, 'karimnagar': 27634, 'karnavati': 27635, 'karolina': 27636, 'kashinath': 27637, 'kashmiriyat': 27638, 'kataria': 27639, 'katti': 27640, 'kavitha': 27641, 'kawasaki': 27642, 'kbg': 27643, 'kbps': 27644, 'kebab': 27645, 'kee': 27646, 'kejriwal-': 27647, 'kendrick': 27648, 'kennel': 27649, 'kerr': 27650, 'keyone': 27651, 'khaana': 27652, 'khajuraho': 27653, 'khoob': 27654, 'khuda': 27655, 'khushi': 27656, 'khwaja': 27657, 'kiara': 27658, 'kiln': 27659, 'kilns': 27660, 'kimmel': 27661, 'kindergarten': 27662, 'kink': 27663, 'kirsten': 27664, 'kishanganj': 27665, 'kitchenupp': 27666, 'kitni': 27667, 'kiye': 27668, 'kneel': 27669, 'know-': 27670, 'koirala': 27671, 'kon': 27672, 'kosha': 27673, 'kosi': 27674, 'kottayam': 27675, 'kpcc': 27676, 'kr$na': 27677, 'kranti': 27678, 'kshmr': 27679, 'kudle': 27680, 'kun': 27681, 'kurdistan': 27682, 'kutti': 27683, 'kyi': 27684, 'l.': 27685, 'laakhon': 27686, 'laborer': 27687, 'lacquered': 27688, 'lajja': 27689, 'lajong': 27690, 'lakmé': 27691, 'lamar': 27692, 'lambastes': 27693, 'laminate': 27694, 'landowners': 27695, 'langer': 27696, 'langur': 27697, 'lanterns': 27698, 'latency': 27699, 'latif': 27700, 'latrines': 27701, 'laughingstock': 27702, 'lauki': 27703, 'launda': 27704, 'lawn': 27705, 'layered': 27706, 'layers': 27707, 'laziness': 27708, 'ldr': 27709, 'lea': 27710, 'leftwing': 27711, 'legaladvice': 27712, 'legalizes': 27713, 'legislatures': 27714, 'lego': 27715, 'lehman': 27716, 'lel': 27717, 'lene': 27718, 'lenge': 27719, 'leniency': 27720, 'lenient': 27721, 'leon': 27722, 'les': 27723, 'lesbians': 27724, 'letest': 27725, 'levelled': 27726, 'leveraging': 27727, 'lgbtq+': 27728, 'lhb': 27729, 'liberalisation': 27730, 'licypriya': 27731, 'lieu': 27732, 'lifemaker': 27733, 'lifeprotip': 27734, 'lifesaving': 27735, 'lifter': 27736, 'lilly': 27737, 'limiting': 27738, 'lin': 27739, 'lineage': 27740, 'lingering': 27741, 'lingual': 27742, 'linguistics': 27743, 'lioness': 27744, 'listentothis': 27745, 'litfest': 27746, 'littered': 27747, 'livable': 27748, 'liya': 27749, 'lobbied': 27750, 'localized': 27751, 'logistical': 27752, 'lokhandwala': 27753, 'lokur': 27754, 'londonmart': 27755, 'longtime': 27756, 'lopamudra': 27757, 'lou': 27758, 'lowdown': 27759, 'ltc': 27760, 'lucas': 27761, 'lucy': 27762, 'lungis': 27763, 'lurk': 27764, 'lynn': 27765, 'm.phil': 27766, 'm.s.dhoni': 27767, 'm10': 27768, 'm20': 27769, 'm4': 27770, 'm777': 27771, 'm8': 27772, 'maar': 27773, 'macbooks': 27774, 'machil': 27775, 'machismo': 27776, 'madhuram': 27777, 'magh': 27778, 'magzter': 27779, 'mahan': 27780, 'mahar': 27781, 'maharajah': 27782, 'maharshi': 27783, 'mahmoud': 27784, 'majhi': 27785, 'majidi': 27786, 'majumdar': 27787, 'majumder': 27788, 'makkal': 27789, 'malarial': 27790, 'mallakhamb': 27791, 'malta': 27792, 'malvinder': 27793, 'malwa': 27794, 'mandals': 27795, 'mandap': 27796, 'mandis': 27797, 'mandolin': 27798, 'mandya': 27799, 'mangat': 27800, 'manipulator': 27801, 'manjunath': 27802, 'mankad': 27803, 'manveer': 27804, 'maqbool': 27805, 'marathis': 27806, 'mariyappan': 27807, 'marketupdate.in': 27808, 'marvellous': 27809, 'masaan': 27810, 'matrilineal': 27811, 'mattresses': 27812, 'maulvis': 27813, 'maun': 27814, 'mawali': 27815, 'mazdoor': 27816, 'mcg': 27817, 'medico': 27818, 'medics': 27819, 'meditate': 27820, 'meditated': 27821, 'meetha': 27822, 'megacities': 27823, 'meghan': 27824, 'megyn': 27825, 'mehfil': 27826, 'mehra': 27827, 'mehrangarh': 27828, 'mehsana': 27829, 'meity': 27830, 'melas': 27831, 'melting': 27832, 'memberships': 27833, 'mentoring': 27834, 'mentors': 27835, 'mereya': 27836, 'mesmerising': 27837, 'mesta': 27838, 'meth': 27839, 'meticulous': 27840, 'mey': 27841, 'mht': 27842, 'mi4i': 27843, 'mian': 27844, 'michio': 27845, 'mifi': 27846, 'migratory': 27847, 'milaap': 27848, 'mildy': 27849, 'milega': 27850, 'milieu': 27851, 'milkyway': 27852, 'mimicking': 27853, 'mindsets': 27854, 'minecraft': 27855, 'minhaz': 27856, 'minimalistic': 27857, 'minimize': 27858, 'minions': 27859, 'ministe[r': 27860, 'minted': 27861, 'minuscule': 27862, 'miraculous': 27863, 'mirchandani': 27864, 'mirrorless': 27865, 'miscarriage': 27866, 'misconstrued': 27867, 'misreport': 27868, 'missionshakti': 27869, 'mistreated': 27870, 'misuses': 27871, 'mithi': 27872, 'mitne': 27873, 'mltr': 27874, 'modems': 27875, 'moderates': 27876, 'modifying': 27877, 'modiinisrael': 27878, 'mohanty': 27879, 'mommy': 27880, 'mon': 27881, 'monalisa': 27882, 'monetisation': 27883, 'moneylenders': 27884, 'monger': 27885, 'moonshine': 27886, 'moose': 27887, 'mooted': 27888, 'mortar': 27889, 'mortars': 27890, 'mortgage': 27891, 'moth': 27892, 'motherson': 27893, 'motifs': 27894, 'motorbikes': 27895, 'mousumir': 27896, 'mows': 27897, 'mplad': 27898, 'mplads': 27899, 'mrps': 27900, 'mturk': 27901, 'muck': 27902, 'muddle': 27903, 'mugged': 27904, 'mughlai': 27905, 'muh': 27906, 'muji': 27907, 'mukherji': 27908, 'mukhi': 27909, 'mulk': 27910, 'mulki': 27911, 'mullah': 27912, 'multiculturalism': 27913, 'multilateral': 27914, 'multilingual': 27915, 'munda': 27916, 'mundhe': 27917, 'munger': 27918, 'muraleedharan': 27919, 'murali': 27920, 'muruganantham': 27921, 'musalmaan': 27922, 'mustache': 27923, 'mutant': 27924, 'muzzled': 27925, 'muzzling': 27926, 'mvp': 27927, 'n-95': 27928, 'naagin': 27929, 'naari': 27930, 'naaz': 27931, 'nabeela': 27932, 'nagesh': 27933, 'nagpal': 27934, 'nahid': 27935, 'nalgonda': 27936, 'nalini': 27937, 'nalsar': 27938, 'nara': 27939, 'narcissism': 27940, 'nari': 27941, 'nasha': 27942, 'nasrin': 27943, 'nataraja': 27944, 'nauseating': 27945, 'nautanki': 27946, 'navika': 27947, 'nayantara': 27948, 'nct': 27949, 'necessities': 27950, 'needless': 27951, 'neela': 27952, 'neelkanth': 27953, 'neem': 27954, 'neer': 27955, 'negligent': 27956, 'neoliberalism': 27957, 'nerd': 27958, 'netbook': 27959, 'neuralyzer': 27960, 'neutralised': 27961, 'neutron': 27962, 'newcomers': 27963, 'newindia': 27964, 'ney': 27965, 'neymar': 27966, 'nh10': 27967, 'nickel': 27968, 'nicki': 27969, 'nightingale': 27970, 'nimbu': 27971, 'nirala': 27972, 'nirbhayainsulted': 27973, 'nirma': 27974, 'nirman': 27975, 'niticentral': 27976, 'nitk': 27977, 'nivedita': 27978, 'no.2': 27979, 'nofap': 27980, 'noir': 27981, 'nomads': 27982, 'nominating': 27983, 'normalising': 27984, 'northwest': 27985, 'notches': 27986, 'novak': 27987, 'nowgam': 27988, 'np]an': 27989, 'np]bengaluru': 27990, 'np]delhi': 27991, 'np]google': 27992, 'np]til': 27993, 'np]two': 27994, 'np]whatsapp': 27995, 'npt': 27996, 'numbered': 27997, 'numerals': 27998, 'numerology': 27999, 'nuremberg': 28000, 'nurture': 28001, 'nurtured': 28002, 'nurturing': 28003, 'nuskhe': 28004, 'nutritionist': 28005, 'nyaaya': 28006, 'o[p]inion': 28007, 'obedience': 28008, 'obey': 28009, 'obligatory': 28010, 'obsessing': 28011, 'oceania': 28012, 'odyssey': 28013, 'oily': 28014, 'okcupid': 28015, \"ol'\": 28016, 'oldie': 28017, 'oled': 28018, 'oli': 28019, 'omani': 28020, 'omission': 28021, 'omitted': 28022, 'ontario': 28023, 'onthisday': 28024, 'opd': 28025, 'opportunistic': 28026, 'oppressive': 28027, 'optimal': 28028, 'optimization': 28029, 'organizer': 28030, 'organizes': 28031, 'originating': 28032, 'ost': 28033, 'ostrich': 28034, 'otc': 28035, 'ottawa': 28036, 'ousts': 28037, 'outages': 28038, 'outsmarted': 28039, 'outwit': 28040, 'overhyped': 28041, 'overruled': 28042, 'overthrow': 28043, 'overtly': 28044, 'overturned': 28045, 'overuse': 28046, 'overwhelmingly': 28047, 'owed': 28048, 'oz': 28049, 'p]delhi': 28050, 'p]i': 28051, 'p]ower': 28052, 'p]rivacy': 28053, 'p]roject': 28054, 'p]unjab': 28055, 'packages|': 28056, 'packer': 28057, 'paediatrician': 28058, 'pakistans': 28059, 'palam': 28060, 'palampur': 28061, 'palan': 28062, 'palash': 28063, 'pallonji': 28064, 'pamban': 28065, 'panchi': 28066, 'pandals': 28067, 'pandher': 28068, 'panelists': 28069, 'panjim': 28070, 'panoramic': 28071, 'pantha': 28072, 'panties': 28073, 'panwar': 28074, 'paramedics': 28075, 'parameter': 28076, 'parasitic': 28077, 'paratroopers': 28078, 'parentage': 28079, 'parker': 28080, 'parrots': 28081, 'part-1': 28082, 'parted': 28083, 'particles': 28084, 'parveen': 28085, 'pasha': 28086, 'passé': 28087, 'pauses': 28088, 'pave': 28089, 'pawn': 28090, 'pawns': 28091, 'paya': 28092, 'payeng': 28093, 'pca': 28094, 'pcr': 28095, 'peaked': 28096, 'pearson': 28097, 'peas': 28098, 'pedestal': 28099, 'pedigree': 28100, 'pednekar': 28101, 'peg': 28102, 'pencils': 28103, 'pendulum': 28104, 'penetrating': 28105, 'pepe': 28106, 'perennial': 28107, 'perilous': 28108, 'periodic': 28109, 'perjury': 28110, 'perplexed': 28111, 'pesit': 28112, 'pessimism': 28113, 'pessimists': 28114, 'pesto': 28115, 'pete': 28116, 'petro': 28117, 'petronet': 28118, 'petta': 28119, 'pewdipie': 28120, 'phew': 28121, 'phi': 28122, 'philadelphia': 28123, 'phillip': 28124, 'phonemakers': 28125, 'photoshopbattles': 28126, 'physiotherapy': 28127, 'pictorial': 28128, 'piercing': 28129, 'pincode': 28130, 'pine': 28131, 'pinned': 28132, 'pirzada': 28133, 'pitta': 28134, 'pj': 28135, 'planing': 28136, 'plantation': 28137, 'plassey': 28138, 'platonic': 28139, 'plucked': 28140, 'plucking': 28141, 'plummet': 28142, 'plural': 28143, 'pm2.5': 28144, 'pmk': 28145, 'polarized': 28146, 'polavaram': 28147, 'policymaking': 28148, 'politeness': 28149, 'politicize': 28150, 'pollingwiz': 28151, 'ponder': 28152, 'ponds': 28153, 'poonia': 28154, 'populate': 28155, 'pornographic': 28156, 'porters': 28157, 'poser': 28158, 'positioned': 28159, 'positively': 28160, 'possesses': 28161, 'postgraduate': 28162, 'pow': 28163, 'powerpuff': 28164, 'prabha': 28165, 'practises': 28166, 'practitioner': 28167, 'pradhanmantri': 28168, 'pradip': 28169, 'prasun': 28170, 'pratham': 28171, 'preachers': 28172, 'precautionary': 28173, 'precisely': 28174, 'predominantly': 28175, 'prefix': 28176, 'premi': 28177, 'preposterous': 28178, 'preppers': 28179, 'prerogative': 28180, 'preschool': 28181, 'prescriptions': 28182, 'presidentkovind': 28183, 'pressurise': 28184, 'pressurised': 28185, 'prevalence': 28186, 'preventable': 28187, 'pricey': 28188, 'princely': 28189, 'privee': 28190, 'priyank': 28191, 'probation': 28192, 'proclaim': 28193, 'procter': 28194, 'produnova': 28195, 'profitability': 28196, 'profiting': 28197, 'profound': 28198, 'programmed': 28199, 'prominently': 28200, 'pronged': 28201, 'propbuying': 28202, 'prophecy': 28203, 'proto': 28204, 'provincial': 28205, 'pruning': 28206, 'pruthi': 28207, 'ps3': 28208, 'psychopath': 28209, 'publicise': 28210, 'pudukkottai': 28211, 'pulitzer': 28212, 'pullers': 28213, 'pulwamaattack': 28214, 'punctual': 28215, 'punctured': 28216, 'pundit': 28217, 'purported': 28218, 'purposely': 28219, 'puzzling': 28220, 'pycon': 28221, 'pygmy': 28222, 'qa': 28223, 'quadrilateral': 28224, 'quaint': 28225, 'quandary': 28226, 'quantitative': 28227, 'quid': 28228, 'quieter': 28229, 'quintals': 28230, 'quizzing': 28231, 'quotient': 28232, 'r17': 28233, 'r4r': 28234, 'r]eddit': 28235, 'raabta': 28236, 'racemo': 28237, 'rachel': 28238, 'radcliffe': 28239, 'radicalism': 28240, 'radius': 28241, 'raghavan': 28242, 'raghunath': 28243, 'ragpicker': 28244, 'rahenge': 28245, 'raiders': 28246, 'railtel': 28247, 'raincoat': 28248, 'rajeshwar': 28249, 'rajinder': 28250, 'rajmohan': 28251, 'rajnish': 28252, 'rakhis': 28253, 'ramaswamy': 28254, 'rameshwar': 28255, 'ramkrishna': 28256, 'ramping': 28257, 'rand': 28258, 'randy': 28259, 'rannaghar': 28260, 'rathi': 28261, 'ratios': 28262, 'ratri': 28263, 'raval': 28264, 'raveesh': 28265, 'ravidas': 28266, 'ravinder': 28267, 'rcs': 28268, 'rda': 28269, 'readings': 28270, 'readymade': 28271, 'realestate': 28272, 'realisation': 28273, 'realizes': 28274, 'realpolitik': 28275, 'reaper': 28276, 'reaps': 28277, 'rears': 28278, 'rebellious': 28279, 'rebuffs': 28280, 'rebuke': 28281, 'rebuked': 28282, 'recapitalization': 28283, 'recast': 28284, 'receding': 28285, 'recipe/': 28286, 'reciprocal': 28287, 'recitation': 28288, 'recognising': 28289, 'reconciliation': 28290, 'reddits': 28291, 'redesigned': 28292, 'redirect': 28293, 'redirected': 28294, 'rediscovery': 28295, 'redux': 28296, 'referrals': 28297, 'refining': 28298, 'refreshments': 28299, 'reg': 28300, 'regimen': 28301, 'regretted': 28302, 'rehna': 28303, 'reignites': 28304, 'reinforces': 28305, 'reinstatement': 28306, 'reintroduce': 28307, 'reiterated': 28308, 'reiview': 28309, 'rejigs': 28310, 'relaince': 28311, 'religiosity': 28312, 'religiously': 28313, 'relish': 28314, 'remand': 28315, 'remarried': 28316, 'remarry': 28317, 'remorse': 28318, 'remotest': 28319, 'rending': 28320, 'reno': 28321, 'renounce': 28322, 'renovate': 28323, 'rents': 28324, 'repent': 28325, 'reprise': 28326, 'reps': 28327, 'requiring': 28328, 'requisite': 28329, 'rescheduled': 28330, 'resent': 28331, 'residences': 28332, 'resourcesat-2a': 28333, 'restarts': 28334, 'rested': 28335, 'restraining': 28336, 'restrictive': 28337, 'restructure': 28338, 'resurface': 28339, 'resurfaces': 28340, 'retaining': 28341, 'retrospect': 28342, 'revellers': 28343, 'review-': 28344, 'revising': 28345, 'reworked': 28346, 'rhea': 28347, 'ri': 28348, 'ribbon': 28349, 'ribeiro': 28350, 'riddles': 28351, 'ridiculing': 28352, 'righttomeme': 28353, 'rightward': 28354, 'rile': 28355, 'rima': 28356, 'ringtones': 28357, 'ripley': 28358, 'ripoff': 28359, 'riveting': 28360, 'riya': 28361, 'roadblocks': 28362, 'roamed': 28363, 'roars': 28364, 'rodents': 28365, 'rogan': 28366, 'roku': 28367, 'roosevelt': 28368, 'rotation': 28369, 'rotimatic': 28370, 'roundup': 28371, 'roushan': 28372, 'routed': 28373, 'rowdy': 28374, 'rows': 28375, 'rozgar': 28376, 'rpg': 28377, 'rpi': 28378, 'rs2,000': 28379, 'rs60,000': 28380, 'rubbing': 28381, 'rubs': 28382, 'rue': 28383, 'ruffles': 28384, 'rugged': 28385, 'rukmini': 28386, 'ruthlessly': 28387, 's2': 28388, 's3': 28389, 'saare': 28390, 'saars': 28391, 'saathiya': 28392, 'saba': 28393, 'sabji': 28394, 'sachdev': 28395, 'sacrificial': 28396, 'sadaf': 28397, 'sadashiv': 28398, 'sadiq': 28399, 'sahayak': 28400, 'sahu': 28401, 'saifai': 28402, 'salma': 28403, 'samadhi': 28404, 'samajhiye': 28405, 'samriddhi': 28406, 'samvat': 28407, 'sanal': 28408, 'sandakphu': 28409, 'sandalwood': 28410, 'sandesara': 28411, 'sandra': 28412, 'sankalp': 28413, 'sanon': 28414, 'santro': 28415, 'sanyo': 28416, 'sapling': 28417, 'saras': 28418, 'sardana': 28419, 'saregama': 28420, 'saridon': 28421, 'sarjapur': 28422, 'sars': 28423, 'sarvepalli': 28424, 'satinder': 28425, 'saturdays': 28426, 'satyanarayan': 28427, 'saynotowar': 28428, 'sbp': 28429, 'scandinavia': 28430, 'scarf': 28431, 'scavenger': 28432, 'schoolbags': 28433, 'schoolmate': 28434, 'schoolteacher': 28435, 'schumer': 28436, 'schwarzenegger': 28437, 'scoops': 28438, 'scorers': 28439, 'scout': 28440, 'screenings': 28441, 'screwdriver': 28442, 'scummy': 28443, 'scuttled': 28444, 'sdm': 28445, 'sdmc': 28446, 'sdpi': 28447, 'sealdah': 28448, 'seamless': 28449, 'seaport': 28450, 'seatbelt': 28451, 'sects': 28452, 'seedhe': 28453, 'segregate': 28454, 'sehore': 28455, 'seikh': 28456, 'selections': 28457, 'sensibility': 28458, 'sepoy': 28459, 'sergey': 28460, 'serious]i': 28461, 'serum': 28462, 'seshan': 28463, 'sev': 28464, 'severs': 28465, 'sexologist': 28466, 'sgpc': 28467, 'shab': 28468, 'shackles': 28469, 'shake2safety': 28470, 'shakil': 28471, 'shalimar': 28472, 'shambu': 28473, 'shamitabh': 28474, 'shamli': 28475, 'shanghvi': 28476, 'sharpening': 28477, 'sharpshooter': 28478, 'shatter': 28479, 'shayne': 28480, 'shayri': 28481, 'sheela': 28482, 'sheeple': 28483, 'shehzada': 28484, 'shelve': 28485, 'shepherds': 28486, 'sheroes': 28487, 'sherwani': 28488, 'shetkari': 28489, 'shielded': 28490, 'shilpi': 28491, 'shin': 28492, 'shinchan': 28493, 'shinkai': 28494, 'shiromani': 28495, 'shitposting': 28496, 'shivpuri': 28497, 'shopper': 28498, 'shortcuts': 28499, 'shotgun': 28500, 'showstopper': 28501, 'shrinivas': 28502, 'shrug': 28503, 'shubha': 28504, 'shubhangi': 28505, 'shuja': 28506, 'shunning': 28507, 'shuns': 28508, 'sickness': 28509, 'siddhu': 28510, 'siddis': 28511, 'simar': 28512, 'simplest': 28513, 'simplistic': 28514, 'simpson': 28515, 'simulated': 28516, 'simulator': 28517, 'sincerely': 28518, 'sinh': 28519, 'sinhgad': 28520, 'sipping': 28521, 'sips': 28522, 'siraj': 28523, 'sirji': 28524, 'sitara': 28525, 'sk': 28526, 'skate': 28527, 'skinning': 28528, 'skyrocket': 28529, 'skyrockets': 28530, 'skywalk': 28531, 'slated': 28532, 'slaying': 28533, 'sleaze': 28534, 'sleazy': 28535, 'sleeveless': 28536, 'slingshots': 28537, 'smartness': 28538, 'smite': 28539, 'smokeless': 28540, 'smpp': 28541, 'smug': 28542, 'sn': 28543, 'sneaks': 28544, 'snobbery': 28545, 'snoo': 28546, 'sock': 28547, 'socket': 28548, 'sockets': 28549, 'sone': 28550, 'sonmarg': 28551, 'sooraj': 28552, 'soros': 28553, 'sorrow': 28554, 'sorties': 28555, 'soudha': 28556, 'southwest': 28557, 'sown': 28558, 'soybean': 28559, 'soz': 28560, 'spaceflight': 28561, 'spaceship': 28562, 'sparing': 28563, 'sparrow': 28564, 'speakforme': 28565, 'spec': 28566, 'spectacularly': 28567, 'specter': 28568, 'spender': 28569, 'spiegel': 28570, 'spilled': 28571, 'spirited': 28572, 'spiritually': 28573, 'spooked': 28574, 'spooks': 28575, 'sportshour247': 28576, 'sportsmen': 28577, 'spotlights': 28578, 'sprinkling': 28579, 'sprint': 28580, 'sprout': 28581, 'sprouts': 28582, 'spurns': 28583, 'spyder': 28584, 'squadrons': 28585, 'squared': 28586, 'squat': 28587, 'squatters': 28588, 'stagnation': 28589, 'stakeholder': 28590, 'stamina': 28591, 'standpoint': 28592, 'starred': 28593, 'stashing': 28594, 'statueofunity': 28595, 'stayhome': 28596, 'stds': 28597, 'steamed': 28598, 'stems': 28599, 'stipends': 28600, 'stockpile': 28601, 'stok': 28602, 'stoked': 28603, 'stoops': 28604, 'stp': 28605, 'strangest': 28606, 'strata': 28607, 'strayed': 28608, 'streamable.com': 28609, 'streamed': 28610, 'strengths': 28611, 'striped': 28612, 'strokes': 28613, 'struggled': 28614, 'stump': 28615, 'stunningly': 28616, 'stylus': 28617, 'subdued': 28618, 'subliminal': 28619, 'subsequently': 28620, 'subservient': 28621, 'substances': 28622, 'subvert': 28623, 'sudheendra': 28624, 'sujoy': 28625, 'sukhpal': 28626, 'sukumar': 28627, 'sulabh': 28628, 'sulemani': 28629, 'sulking': 28630, 'sullia': 28631, 'sumeet': 28632, 'summarises': 28633, 'suna': 28634, 'sundance': 28635, 'supercar': 28636, 'supercomputing': 28637, 'superconductivity': 28638, 'supermarkets': 28639, 'supernova': 28640, 'superpowers': 28641, 'supremecourt': 28642, 'surgically': 28643, 'suspiciously': 28644, 'sustaining': 28645, 'suu': 28646, 'swabhimani': 28647, 'swaps': 28648, 'swartz': 28649, 'swayed': 28650, 'sweetened': 28651, 'sweltering': 28652, 'swims': 28653, 'swindled': 28654, 'swiping': 28655, 'sycophancy': 28656, 't.m.': 28657, 't.v': 28658, 't20s': 28659, 'tableaux': 28660, 'tad': 28661, 'tailed': 28662, 'taker': 28663, 'tal': 28664, 'talak': 28665, 'talgo': 28666, 'talibani': 28667, 'tamaasha': 28668, 'tamo': 28669, 'tangible': 28670, 'tanked': 28671, 'tantrums': 28672, 'taran': 28673, 'targetting': 28674, 'tashkent': 28675, 'tatters': 28676, 'tc': 28677, 'tcp': 28678, 'teaming': 28679, 'technologically': 28680, 'tedxbangalore': 28681, 'teenaged': 28682, 'teja': 28683, 'telecasted': 28684, 'telecommunication': 28685, 'telemedicine': 28686, 'televised': 28687, 'telly': 28688, 'tempers': 28689, 'temptations': 28690, 'tenacity': 28691, 'tendencies': 28692, 'tenet': 28693, 'tenets': 28694, 'terminology': 28695, 'terrain': 28696, 'terrorising': 28697, 'terrorize': 28698, 'testimonial': 28699, 'tethered': 28700, 'text&amp;utm_campaign': 28701, 'thackerays': 28702, 'thaikkudam': 28703, 'thaipusam': 28704, 'thana': 28705, 'thanjavur': 28706, 'the_donald': 28707, 'thehindu': 28708, 'theorist': 28709, 'thereof': 28710, 'theseus': 28711, 'thier': 28712, 'thinnest': 28713, 'thirteen': 28714, 'thomson': 28715, 'thoothukudi': 28716, 'thoughtful': 28717, 'threesome': 28718, 'thrilled': 28719, 'thugged': 28720, 'thuggery': 28721, 'thump': 28722, 'thunderbird': 28723, 'thwarted': 28724, 'thwarting': 28725, 'thx': 28726, 'tiago': 28727, 'tides': 28728, 'tier-1': 28729, 'tier-3': 28730, 'tightly': 28731, 'til-': 28732, 'tilting': 28733, 'timelines': 28734, 'timepass': 28735, 'tinsukia': 28736, 'tirath': 28737, 'tireless': 28738, 'tirupur': 28739, 'titanium': 28740, 'tizzy': 28741, 'toastmasters': 28742, 'tod': 28743, 'toddy': 28744, 'togetherness': 28745, 'tommy': 28746, 'tones': 28747, 'toolkit': 28748, 'top-10': 28749, 'topmost': 28750, 'tork': 28751, 'toughens': 28752, 'toxins': 28753, 'tpp': 28754, 'trailing': 28755, 'tral': 28756, 'transact': 28757, 'transcription': 28758, 'transcripts': 28759, 'transitioned': 28760, 'trappier': 28761, 'trashing': 28762, 'trashtag': 28763, 'trashy': 28764, 'traumatised': 28765, 'travails': 28766, 'trb': 28767, 'treachery': 28768, 'tremendously': 28769, 'tributary': 28770, 'trimming': 28771, 'triphala': 28772, 'tripled': 28773, 'tripling': 28774, 'triveni': 28775, 'trove': 28776, 'troy': 28777, 'trumpet': 28778, 'truthful': 28779, 'tulu': 28780, 'tumhari': 28781, 'tumkur': 28782, 'tunisia': 28783, 'turbo': 28784, 'twenties': 28785, 'twenty20': 28786, 'tyler': 28787, 'typed': 28788, 'typography': 28789, 'tyrants': 28790, 'u-17s': 28791, 'u.s.-based': 28792, 'u2': 28793, 'uavs': 28794, 'uberpool': 28795, 'udayan': 28796, 'udc': 28797, 'ugandan': 28798, 'ujjwal': 28799, 'ukhrul': 28800, 'ukrainian': 28801, 'ullu': 28802, 'ulta': 28803, 'umang': 28804, 'umbrellas': 28805, 'unaffected': 28806, 'unaided': 28807, 'unbanked': 28808, 'unbeaten': 28809, 'unbelievably': 28810, 'unblocked': 28811, 'unblocks': 28812, 'unbridled': 28813, 'unchained': 28814, 'uncontrolled': 28815, 'undeniable': 28816, 'underdog': 28817, 'undertrial': 28818, 'undesirable': 28819, 'undeterred': 28820, 'undies': 28821, 'undp': 28822, 'unencrypted': 28823, 'unfavorable': 28824, 'unfold': 28825, 'unfurl': 28826, 'unification': 28827, 'uniformity': 28828, 'unifying': 28829, 'unimaginable': 28830, 'unloved': 28831, 'unlucky': 28832, 'unmatched': 28833, 'unny': 28834, 'unparliamentary': 28835, 'unproductive': 28836, 'unrealtimes': 28837, 'unregistered': 28838, 'unsettling': 28839, 'unsubscribing': 28840, 'untenable': 28841, 'untill': 28842, 'untimely': 28843, 'untrue': 28844, 'unvarnished': 28845, 'unwelcome': 28846, 'uppcl': 28847, 'upskilling': 28848, 'upsurge': 28849, 'uptu': 28850, 'upvoting': 28851, 'upwork': 28852, 'urls': 28853, 'usfda': 28854, 'ushering': 28855, 'usurped': 28856, 'utopia': 28857, 'v.k.': 28858, 'v.unbeatable': 28859, 'v5': 28860, 'va': 28861, 'vaani': 28862, 'vaccinations': 28863, 'vairamuthu': 28864, 'vaishali': 28865, 'vallabhai': 28866, 'valsad': 28867, 'vanar': 28868, 'variable': 28869, 'variations': 28870, 'vascular': 28871, 'vatika': 28872, 'vaults': 28873, 'vegana': 28874, 'vends': 28875, 'vengsarkar': 28876, 'venkat': 28877, 'ventilation': 28878, 'venu': 28879, 'verghese': 28880, 'veterinarian': 28881, 'vets': 28882, 'vexed': 28883, 'vexillology': 28884, 'vibration': 28885, 'victimised': 28886, 'viewer': 28887, 'vikaspuri': 28888, 'vilified': 28889, 'villian': 28890, 'virtues': 28891, 'viru': 28892, 'vishesh': 28893, 'vistadent': 28894, 'visvanathan': 28895, 'vitiligo': 28896, 'vittal': 28897, 'vivid': 28898, 'vocational': 28899, 'volatility': 28900, 'vowifi': 28901, 'vsm': 28902, 'vuitton': 28903, 'vulture': 28904, 'wada': 28905, 'wadi': 28906, 'walas': 28907, 'walia': 28908, 'walkthrough': 28909, 'wan': 28910, 'wapas': 28911, 'wapo': 28912, 'waqas': 28913, 'warmer': 28914, 'warna': 28915, 'warpath': 28916, 'washrooms': 28917, 'watercolor': 28918, 'waterfront': 28919, 'waterlogging': 28920, 'waterman': 28921, 'wayne': 28922, 'weave': 28923, 'weber': 28924, 'wed': 28925, 'weekdays': 28926, 'weeps': 28927, 'welspun': 28928, 'wes': 28929, 'westbengal': 28930, 'westlife': 28931, 'wg': 28932, 'whataboutery': 28933, 'whataboutism': 28934, 'whereabouts': 28935, 'whim': 28936, 'whisked': 28937, 'whitefield': 28938, 'whitehouse': 28939, 'whitelist': 28940, 'whoa': 28941, 'wholesaler': 28942, 'wicked': 28943, 'widened': 28944, 'widowed': 28945, 'williamson': 28946, 'willingly': 28947, 'wiper': 28948, 'wisden': 28949, 'withheld': 28950, 'wockhardt': 28951, 'wonderland': 28952, 'wondrous': 28953, 'workaround': 28954, 'worshiped': 28955, 'wrapper': 28956, 'wright': 28957, 'wrongdoings': 28958, 'ww3': 28959, 'xander': 28960, 'xerox': 28961, 'xiomi': 28962, 'xt': 28963, 'xuv300': 28964, 'y.o': 28965, 'yaaron': 28966, 'yacht': 28967, 'yakshagana': 28968, 'yam': 28969, 'yamini': 28970, 'yearning': 28971, 'yeddy': 28972, 'yi': 28973, 'yoghurt': 28974, 'yoyo': 28975, 'ypu': 28976, 'yuvan': 28977, 'yuwa': 28978, 'z1': 28979, 'zainab': 28980, 'zeroes': 28981, 'zionist': 28982, 'ziro': 28983, 'zoos': 28984, 'zoroastrian': 28985, '|the': 28986, 'на': 28987, 'آپ': 28988, 'بھارت': 28989, 'بھی': 28990, 'لیے': 28991, 'کیوں': 28992, 'ہے': 28993, 'अंसारी': 28994, 'अधिकार': 28995, 'अनुसूचित': 28996, 'अनोखा': 28997, 'अन्य': 28998, 'अपील': 28999, 'अमेरिका': 29000, 'आदित्यनाथ': 29001, 'आये': 29002, 'आरोपी': 29003, 'आर्थिक': 29004, 'आवंटन': 29005, 'आवाज़': 29006, 'इसमें': 29007, 'इसलिए': 29008, 'इस्तेमाल': 29009, 'उतार': 29010, 'उन': 29011, 'उसे': 29012, 'एलटी': 29013, 'ऐतिहासिक': 29014, 'ओवैसी': 29015, 'करेगी': 29016, 'कर्मचारी': 29017, 'कहना': 29018, 'कानपुर': 29019, 'कार्य': 29020, 'कार्रवाई': 29021, 'कितनी': 29022, 'किसानों': 29023, 'किस्मत': 29024, 'कैसी': 29025, 'क्लिक': 29026, 'खतरनाक': 29027, 'खबर-:-': 29028, 'खुल': 29029, 'खूबसूरत': 29030, 'घटना': 29031, 'चमत्कारी': 29032, 'चलेगा': 29033, 'चाहता': 29034, 'चिंता': 29035, 'चीजें': 29036, 'चौकीदार': 29037, 'छुट्टी': 29038, 'छोटी': 29039, 'जज': 29040, 'जन्मदिन': 29041, 'जहाँ': 29042, 'जांच': 29043, 'जाओगे': 29044, 'जानकर': 29045, 'जामिया': 29046, 'जिला': 29047, 'जिस': 29048, 'जिसे': 29049, 'जीत': 29050, 'जुड़ी': 29051, 'ज्योतिरादित्य': 29052, 'टॉप': 29053, 'ड्यूटी': 29054, 'तरफ': 29055, 'तस्वीर': 29056, 'तुम': 29057, 'द': 29058, 'दक्षिण': 29059, 'दर्द': 29060, 'दर्शन': 29061, 'दल': 29062, 'दहाड़': 29063, 'दिनों': 29064, 'दिशा': 29065, 'देगी': 29066, 'देते': 29067, 'दौरान': 29068, 'नवरात्री': 29069, 'नागरिकता': 29070, 'निधन': 29071, 'नियुक्त': 29072, 'निशाना': 29073, 'नेताओं': 29074, 'न्यूज़': 29075, 'पंजाब': 29076, 'पाए': 29077, 'पाएं': 29078, 'पाएंगे': 29079, 'पूर्ण': 29080, 'पूर्व': 29081, 'प्रधान': 29082, 'फाइनल': 29083, 'फायदा': 29084, 'फेल': 29085, 'बचा': 29086, 'बढ़ा': 29087, 'बदलने': 29088, 'बधाई': 29089, 'बम': 29090, 'बरसेगा': 29091, 'बर्बाद': 29092, 'बीएसए': 29093, 'भुगतान': 29094, 'भोपाल': 29095, 'भ्रष्टाचार': 29096, 'मकर': 29097, 'मजेदार': 29098, 'मत': 29099, 'मनाया': 29100, 'महत्वपूर्ण': 29101, 'महा': 29102, 'महात्मा': 29103, 'महाभारत': 29104, 'महामंत्री': 29105, 'मांग': 29106, 'मालामाल': 29107, 'मालिक': 29108, 'माह': 29109, 'मिलने': 29110, 'मुक्ति': 29111, 'मुखर्जी': 29112, 'मुलायम': 29113, 'मुसलमान': 29114, 'मोर्चा': 29115, 'युद्ध': 29116, 'युवक': 29117, 'रखा': 29118, 'रद्द': 29119, 'रवीश': 29120, 'रहते': 29121, 'रहीम': 29122, 'रहेंगे': 29123, 'रावण': 29124, 'रिटर्न': 29125, 'रिपोर्ट': 29126, 'रेखा': 29127, 'रेलवे': 29128, 'रोटी': 29129, 'लखनऊ': 29130, 'लगा': 29131, 'लगातार': 29132, 'लड़': 29133, 'लाल': 29134, 'लिस्ट': 29135, 'ली': 29136, 'लोक': 29137, 'वाक्य': 29138, 'वायरस': 29139, 'विधायक': 29140, 'विरोधी': 29141, 'व्यक्ति': 29142, 'शनि': 29143, 'शरीर': 29144, 'शहीद': 29145, 'शाम': 29146, 'शायद': 29147, 'शायरी': 29148, 'शिक्षामित्रों': 29149, 'शीतल': 29150, 'शुरुआत': 29151, 'संक्रांति': 29152, 'संदेश': 29153, 'संशोधन': 29154, 'संस्कार': 29155, 'सफलता': 29156, 'सभा': 29157, 'सलमान': 29158, 'सात': 29159, 'सीटें': 29160, 'सोच': 29161, 'सोनिया': 29162, 'सोने': 29163, 'स्वामी': 29164, 'हमला': 29165, 'हमले': 29166, 'हीरो': 29167, 'এর': 29168, 'কী': 29169, 'বন্ধ': 29170, 'বিজেপি': 29171, '\\u200b': 29172, '‒': 29173, '₹20,000': 29174, '☠': 29175, '☢': 29176, '⚠': 29177, '🇨': 29178, '🇪': 29179, '🌈': 29180, '🌟': 29181, '🌷': 29182, '🏼': 29183, '💗': 29184, '💦': 29185, '😏': 29186, '😕': 29187, '😷': 29188, '🤞': 29189, '🤢': 29190, '\\U0001f929': 29191, '\\U0001f970': 29192, '\\U0001f976': 29193, '\\U0001f992': 29194, '\"-': 29195, \"''\": 29196, \"'cause\": 29197, '):': 29198, '-a': 29199, '-arunabh': 29200, '-dhanaulti': 29201, '............': 29202, '._.': 29203, '.edu': 29204, '.net': 29205, '.̷': 29206, '/\\\\': 29207, '/r/': 29208, '0.25': 29209, '05/01/2018': 29210, '080': 29211, '1,064': 29212, '1,350': 29213, '1,80,000': 29214, '1,999': 29215, '1-year': 29216, '1.0': 29217, '1.02': 29218, '1.03': 29219, '1.07': 29220, '1.08': 29221, '1.26': 29222, '1.28': 29223, '1.35': 29224, '1.39': 29225, '1.43': 29226, '1.87': 29227, '10,999': 29228, '10-billion': 29229, '10-lakh': 29230, '10.1': 29231, '10.30': 29232, '10.7': 29233, '10.8': 29234, '100000': 29235, '100rs': 29236, '100x': 29237, '102-year': 29238, '1060': 29239, '10bn': 29240, '11,300': 29241, '11,500': 29242, '11.30': 29243, '11.6': 29244, '11000': 29245, '11k': 29246, '12-hour': 29247, '1250': 29248, '126,68,71,700': 29249, '12738': 29250, '1299': 29251, '12:00': 29252, '12वीं': 29253, '13-digit': 29254, '13.2': 29255, '13:00': 29256, '13bn': 29257, '14-month': 29258, '14.2': 29259, '140th': 29260, '1540': 29261, '16-digit': 29262, '16mp': 29263, '172': 29264, '1757': 29265, '176': 29266, '17k': 29267, '1839': 29268, '1850': 29269, '186': 29270, '1861': 29271, '1868': 29272, '18:59]-': 29273, '1907': 29274, '1909': 29275, '191': 29276, '1911': 29277, '1922': 29278, '1929': 29279, '1938': 29280, '19yo': 29281, '1:30': 29282, '1h': 29283, '1lakh': 29284, '2,300': 29285, '2-wheeler': 29286, '2.30': 29287, '2.37': 29288, '2.38': 29289, '2.49': 29290, '2.55': 29291, '2.91': 29292, '2/5': 29293, '200k': 29294, '2010s': 29295, '2019||': 29296, '2020-': 29297, '2020s': 29298, '2020|': 29299, '204': 29300, '2077': 29301, '209': 29302, '20f': 29303, '21-yr': 29304, '21/03/2015': 29305, '217': 29306, '218': 29307, '219': 29308, '221': 29309, '223': 29310, '2250': 29311, '227': 29312, '228': 29313, '233': 29314, '242': 29315, '2448': 29316, '246': 29317, '24×7': 29318, '2592': 29319, '26/03/2015': 29320, '269': 29321, '26f': 29322, '26k': 29323, '27-billion': 29324, '27.59': 29325, '271': 29326, '28/06/2014': 29327, '285': 29328, '29,000': 29329, '295': 29330, '2k19': 29331, '3-lakh': 29332, '3.15': 29333, '3.18': 29334, '3.3': 29335, '3/5': 29336, '3000x4000': 29337, '300k': 29338, '302': 29339, '3022x4030': 29340, '306': 29341, '311': 29342, '318': 29343, '32,999': 29344, '322': 29345, '325': 29346, '329.19': 29347, '34-year': 29348, '346': 29349, '34th': 29350, '36-year': 29351, '36.5': 29352, '360-degree': 29353, '371': 29354, '38-year': 29355, '3840': 29356, '39-year': 29357, '3g': 29358, '3l': 29359, '3x': 29360, '4,600': 29361, '40-year': 29362, '411': 29363, '414': 29364, '43,000': 29365, '430': 29366, '442': 29367, '445': 29368, '45-minute': 29369, '45k': 29370, '46,000': 29371, '4608×3456': 29372, '464': 29373, '47s': 29374, '47th': 29375, '480p': 29376, '49th': 29377, '4:30': 29378, '4g.': 29379, '4mbps': 29380, '4x400': 29381, '5-fold': 29382, '50-day': 29383, '5000mah': 29384, '500cr': 29385, '500k': 29386, '50mbps': 29387, '51st': 29388, '52-week': 29389, '53,000': 29390, '530': 29391, '53rd': 29392, '554': 29393, '57-year': 29394, '581': 29395, '590': 29396, '599': 29397, '5999': 29398, '5rs': 29399, '5t.': 29400, '5|': 29401, '6,000cr': 29402, '6,400': 29403, '6.4': 29404, '60d.': 29405, '60fps': 29406, '620': 29407, '636': 29408, '65,250': 29409, '66-a': 29410, '687': 29411, '7-month': 29412, '70-yr': 29413, '700d': 29414, '72-year': 29415, '724': 29416, '728': 29417, '73rd': 29418, '744': 29419, '747': 29420, '75-yr': 29421, '76-year': 29422, '7875': 29423, '799': 29424, '7d': 29425, '7pm': 29426, '8-yr': 29427, '8.0': 29428, '8.2': 29429, '8.6': 29430, '800,000': 29431, '800-year': 29432, '80d': 29433, '822': 29434, '84,000': 29435, '84-year': 29436, '84th': 29437, '85th': 29438, '8700cr': 29439, '875': 29440, '89(1': 29441, '9,600': 29442, '916': 29443, '92-year': 29444, '921': 29445, '957': 29446, '960': 29447, '970': 29448, '98-year': 29449, '99.9': 29450, '990': 29451, '9915537976': 29452, '9999': 29453, ':-p': 29454, ';-)': 29455, '@abdullah_omar': 29456, '@abpnewstv': 29457, '@amazonin': 29458, '@ashutosh83b': 29459, '@bollywoodgandu': 29460, '@cnnnews18': 29461, '@deepikapadukone': 29462, '@finminindia': 29463, '@ibnlive': 29464, '@imvkohli': 29465, '@pti_news': 29466, '@puja': 29467, '@rashtrapatibhvn': 29468, '@the_hindu': 29469, '@twitterindia': 29470, 'a.d': 29471, 'a.i': 29472, 'a51': 29473, 'aafreen': 29474, 'aag': 29475, 'aankhon': 29476, 'aar': 29477, 'aasan': 29478, 'aati': 29479, 'aave': 29480, 'abattoir': 29481, 'abbey': 29482, 'abdomen': 29483, 'abetment': 29484, 'abg': 29485, 'abhaneri': 29486, 'abhilash': 29487, 'abhyas': 29488, 'abiding': 29489, 'abolishes': 29490, 'abour': 29491, 'abrahamic': 29492, 'abram': 29493, 'abrogate': 29494, 'abstains': 29495, 'abundance': 29496, 'abuser': 29497, 'abusers': 29498, 'academically': 29499, 'accomodation': 29500, 'accredited': 29501, 'aces': 29502, 'achankovil': 29503, 'achhedin': 29504, 'adaption': 29505, 'additions': 29506, 'additive': 29507, 'addon': 29508, 'adhere': 29509, 'adjustments': 29510, 'administer': 29511, 'admirers': 29512, 'adolescent': 29513, 'adoor': 29514, 'adopters': 29515, 'adsl': 29516, 'advertises': 29517, 'advising': 29518, 'affiliations': 29519, 'affluence': 29520, 'affront': 29521, 'afp': 29522, 'afterall': 29523, 'agains': 29524, 'agni-5': 29525, 'agnivesh': 29526, 'agp': 29527, 'ahh': 29528, 'ahmadi': 29529, 'ahmadis': 29530, 'ahuja': 29531, 'aibea': 29532, 'ailet': 29533, 'aipmt': 29534, 'airbag': 29535, 'airhostess': 29536, 'airliner': 29537, 'airwaves': 29538, 'aiudf': 29539, 'aj': 29540, 'ajai': 29541, 'ajio': 29542, 'akaashvaani': 29543, 'akhir': 29544, 'akshaye': 29545, 'alamgir': 29546, 'alarmingly': 29547, 'alchemy': 29548, 'alertness': 29549, 'alexandria': 29550, 'alfaa': 29551, 'alfonso': 29552, 'algo': 29553, 'alibi': 29554, 'align': 29555, 'aligning': 29556, 'aljazeera': 29557, 'allergic': 29558, 'alley': 29559, 'allocating': 29560, 'allopathic': 29561, 'alluring': 29562, 'alms': 29563, 'alphabets': 29564, 'alps': 29565, 'alu': 29566, 'alva': 29567, 'amal': 29568, 'amavasya': 29569, 'ambareesh': 29570, 'ambe': 29571, 'ambient': 29572, 'ampere': 29573, 'ample': 29574, 'amrapurkar': 29575, 'amt': 29576, 'amv': 29577, 'anaesthesia': 29578, 'analysed': 29579, 'analyzed': 29580, 'anas': 29581, 'andre': 29582, 'andreas': 29583, 'androids': 29584, 'anek': 29585, 'angioplasty': 29586, 'angles': 29587, 'angrezi': 29588, 'angrier': 29589, 'anguished': 29590, 'anitha': 29591, 'anju': 29592, 'ankhon': 29593, 'ankita': 29594, 'anmol': 29595, 'annan': 29596, 'annas': 29597, 'annexe': 29598, 'annexure': 29599, 'annoucement': 29600, 'annul': 29601, 'annuls': 29602, 'ansar': 29603, 'antalya': 29604, 'antarctic': 29605, 'anthrax': 29606, 'antibacterial': 29607, 'antibodies': 29608, 'antigua': 29609, 'antrixcorporation': 29610, 'anveshi': 29611, 'anya': 29612, 'anyday': 29613, 'aoc': 29614, 'apko': 29615, 'aplenty': 29616, 'apocalyptic': 29617, 'appa': 29618, 'apparels': 29619, 'appearances': 29620, 'applauding': 29621, 'apprise': 29622, 'appstore': 29623, 'aptly': 29624, 'aquarium': 29625, 'arabians': 29626, 'aradhana': 29627, 'arambol': 29628, 'archipelago': 29629, 'archival': 29630, 'arid': 29631, 'arjit': 29632, 'ark': 29633, 'arming': 29634, 'armored': 29635, 'armpits': 29636, 'armstrong': 29637, 'arsonists': 29638, 'arthouse': 29639, 'articleship': 29640, 'articulated': 29641, 'artificially': 29642, 'arunima': 29643, 'arushi': 29644, 'aryabhata': 29645, 'as]randians': 29646, 'as]what': 29647, 'ascertaining': 29648, 'ascetics': 29649, 'ashiq': 29650, 'askindia][np': 29651, 'askindia]need': 29652, 'asrani': 29653, 'asrar': 29654, 'assasination': 29655, 'assi': 29656, 'assigning': 29657, 'assignments': 29658, 'assimilate': 29659, 'ast': 29660, 'asta': 29661, 'astray': 29662, 'astrological': 29663, 'asymptomatic': 29664, 'atc': 29665, 'atletico': 29666, 'atone': 29667, 'attaching': 29668, 'attestation': 29669, 'atwal': 29670, 'au': 29671, 'auctioning': 29672, 'aung': 29673, 'auntie': 29674, 'auroville': 29675, 'austria': 29676, 'austrian': 29677, 'authoritarians': 29678, 'autocratic': 29679, 'autofill': 29680, 'autograph': 29681, 'avenges': 29682, 'aversion': 29683, 'averts': 29684, 'avishkar': 29685, 'aviv': 29686, 'awara': 29687, 'awasthi': 29688, 'aways': 29689, 'awes': 29690, 'ayudha': 29691, 'azadpur': 29692, 'azeem': 29693, 'azerbaijan': 29694, 'azizul': 29695, \"b'lore\": 29696, 'b12': 29697, 'b3infoarena': 29698, 'baatein': 29699, 'baazigar': 29700, 'babur-3': 29701, 'bachchans': 29702, 'bacho': 29703, 'backer': 29704, 'backpacks': 29705, 'backroom': 29706, 'backstage': 29707, 'badan': 29708, 'badh': 29709, 'baga': 29710, 'bailed': 29711, 'bails': 29712, 'baingan': 29713, 'baiter': 29714, 'baith': 29715, 'bajrangdal': 29716, 'bake': 29717, 'bakers': 29718, 'bakshy': 29719, 'balachander': 29720, 'balasore': 29721, 'balks': 29722, 'balleilakka': 29723, 'ballet': 29724, 'bamboos': 29725, 'bandish': 29726, 'bandits': 29727, 'bangalorean': 29728, 'banished': 29729, 'banu': 29730, 'baps': 29731, 'bara': 29732, 'barahoti': 29733, 'barbaad': 29734, 'barclays': 29735, 'barcode': 29736, 'bardhan': 29737, 'barmy': 29738, 'barq': 29739, 'barton': 29740, 'bashes': 29741, 'baspa': 29742, 'basti': 29743, 'batches': 29744, 'batik': 29745, 'batliwala': 29746, 'battalions': 29747, 'batted': 29748, 'batters': 29749, 'battleforgujarat': 29750, 'bayan': 29751, 'bayer': 29752, 'baying': 29753, 'bbctrending': 29754, 'bbm': 29755, 'bch': 29756, 'beatings': 29757, 'bebo': 29758, 'bedbugs': 29759, 'bedding': 29760, 'bedrooms': 29761, 'beebom': 29762, 'beech': 29763, 'beela': 29764, 'beep': 29765, 'beeped': 29766, 'behaves': 29767, 'behenji': 29768, 'behno': 29769, 'bekaar': 29770, 'bela': 29771, 'belarus': 29772, 'belligerent': 29773, 'benazir': 29774, 'benefitted': 29775, 'benefitting': 29776, 'bengalureans': 29777, 'beni': 29778, 'benign': 29779, 'berates': 29780, 'bereft': 29781, 'berkley': 29782, 'berojgari': 29783, 'besan': 29784, 'besieged': 29785, 'bestiality': 29786, 'bestsellers': 29787, 'bg': 29788, 'bhadralok': 29789, 'bhagora': 29790, 'bhagyanagar': 29791, 'bhakth': 29792, 'bhan': 29793, 'bharata': 29794, 'bharatanatyam': 29795, 'bharatnatyam': 29796, 'bharo': 29797, 'bhati': 29798, 'bhatnagar': 29799, 'bhature': 29800, 'bhava': 29801, 'bhavish': 29802, 'bhavye': 29803, 'bheja': 29804, 'bhenchod': 29805, 'bhindranwale': 29806, 'bhiwadi': 29807, 'bhosari': 29808, 'bhow': 29809, 'bhowmick': 29810, 'bhyrappa': 29811, 'bickering': 29812, 'bilal': 29813, 'bilaterally': 29814, 'billa': 29815, 'billdesk': 29816, 'bindis': 29817, 'bindu': 29818, 'biopics': 29819, 'biplob': 29820, 'bira': 29821, 'birmingham': 29822, 'birsa': 29823, 'bishops': 29824, 'bisleri': 29825, 'biswajit': 29826, 'biswal': 29827, 'bitbay': 29828, 'bitching': 29829, 'bixby': 29830, 'bjp+': 29831, 'blackboard': 29832, 'blacked': 29833, 'blackening': 29834, 'bladerunner': 29835, 'bland': 29836, 'blanks': 29837, 'blinking': 29838, 'blistering': 29839, 'bloatware': 29840, 'bloke': 29841, 'blooper': 29842, 'bluestar': 29843, 'bluewhale': 29844, 'bluray': 29845, 'blushes': 29846, 'bluster': 29847, 'bm': 29848, 'bmm': 29849, 'bodes': 29850, 'bogies': 29851, 'bohemia': 29852, 'bohemian': 29853, 'boiled': 29854, 'bola': 29855, 'bolsters': 29856, 'bolya': 29857, 'bonuses': 29858, 'bookie': 29859, 'bookkeeping': 29860, 'bookmybai': 29861, 'borivali': 29862, 'borosil': 29863, 'botany': 29864, 'botnet': 29865, 'bottling': 29866, 'boulder': 29867, 'bourdain': 29868, 'brackets': 29869, 'brahmagupta': 29870, 'brahmastra': 29871, 'brainstorming': 29872, 'brandequity': 29873, 'brandishing': 29874, 'brat': 29875, 'braver': 29876, 'braving': 29877, 'breakers': 29878, 'breaths': 29879, 'bred': 29880, 'brethren': 29881, 'briefcase': 29882, 'briefed': 29883, 'briefings': 29884, 'brightness': 29885, 'brinda': 29886, 'brinjal': 29887, 'brio': 29888, 'briton': 29889, 'broadcasters': 29890, 'broaden': 29891, 'brokered': 29892, 'brookings': 29893, 'brooms': 29894, 'bros.': 29895, 'bruises': 29896, 'bruno': 29897, 'bruyat': 29898, 'bryan': 29899, 'bsdk': 29900, 'bstc': 29901, 'btechs': 29902, 'bts': 29903, 'budget2018': 29904, 'budhia': 29905, 'buffer': 29906, 'bugged': 29907, 'bugging': 29908, 'bugyal': 29909, 'bulletin': 29910, 'bulletins': 29911, 'bulleya': 29912, 'bundles': 29913, 'bunty': 29914, 'burka': 29915, 'burmese': 29916, 'burner': 29917, 'burqas': 29918, 'bushes': 29919, 'businesswomen': 29920, 'bustling': 29921, 'butterflies': 29922, 'butts': 29923, 'buxar': 29924, 'bvraam': 29925, 'bw': 29926, 'byn': 29927, 'bypasses': 29928, 'c-17': 29929, 'c1': 29930, 'c23': 29931, 'c9': 29932, 'caa-': 29933, 'caa_nrc': 29934, 'caa_nrc_protest': 29935, 'cache': 29936, 'cadila': 29937, 'caesar': 29938, 'caesarean': 29939, 'caffeine': 29940, 'cages': 29941, 'calamities': 29942, 'calangute': 29943, 'calcium': 29944, 'caliber': 29945, 'calibre': 29946, 'campsite': 29947, 'canacona': 29948, 'canada+': 29949, 'candidacy': 29950, 'canister': 29951, 'cannon': 29952, 'capf': 29953, 'captioning': 29954, 'cardholders': 29955, 'caretaker': 29956, 'carney': 29957, 'carrefour': 29958, 'cashes': 29959, 'casino.com': 29960, 'castro': 29961, 'catalyst': 29962, 'catch-22': 29963, 'catcher': 29964, 'caters': 29965, 'cautioned': 29966, 'cavalcade': 29967, 'caveat': 29968, 'caveats': 29969, 'cbec': 29970, 'cbn': 29971, 'celerio': 29972, 'censures': 29973, 'centos': 29974, 'centrism': 29975, 'centrists': 29976, 'cereal': 29977, 'ceremonial': 29978, 'cersei': 29979, 'cgpa': 29980, 'chaalbaaz': 29981, 'chaayos': 29982, 'chabad': 29983, 'chacko': 29984, 'chaddis': 29985, 'chadti': 29986, 'chahar': 29987, 'chakrabarty': 29988, 'chakralu': 29989, 'chakravarthy': 29990, 'chalakudy': 29991, 'challaned': 29992, 'chalte': 29993, 'chalu': 29994, 'chaman': 29995, 'chamchas': 29996, 'chandamama': 29997, 'chandigarh-': 29998, 'chandini': 29999, 'chandrayaan-3': 30000, 'chandrodaya': 30001, 'chang': 30002, 'chapaak': 30003, 'chapatis': 30004, 'chappa': 30005, 'characterless': 30006, 'charanjit': 30007, 'chargesheets': 30008, 'charisma': 30009, 'charmed': 30010, 'charmer': 30011, 'chasers': 30012, 'chaste': 30013, 'chatter': 30014, 'chattopadhyay': 30015, 'chaturdashi': 30016, 'chauvinist': 30017, 'checkbox': 30018, 'checkers': 30019, 'cheerleader': 30020, 'cheetahs': 30021, 'cheetos': 30022, 'chenoy': 30023, 'cherish': 30024, 'chested': 30025, 'chhabra': 30026, 'chhagan': 30027, 'chhatisgarh': 30028, 'chhavi': 30029, 'chhoti': 30030, 'chickpea': 30031, 'chidambarams': 30032, 'chime': 30033, 'ching': 30034, 'chipping': 30035, 'chisels': 30036, 'chod': 30037, 'choicest': 30038, 'choli': 30039, 'chopta': 30040, 'chords': 30041, 'chori': 30042, 'choubey': 30043, 'chowdary': 30044, 'chowpatty': 30045, 'chromium': 30046, 'chronicling': 30047, 'chudail': 30048, 'churan': 30049, 'churu': 30050, 'chut': 30051, 'chutia': 30052, 'chutki': 30053, 'cicero': 30054, 'cigs': 30055, 'cil': 30056, 'cinemax': 30057, 'citizenshipact': 30058, 'civ': 30059, 'cjar': 30060, 'clandestine': 30061, 'clarifying': 30062, 'clarivate': 30063, 'clarke': 30064, 'clashing': 30065, 'classist': 30066, 'clergy': 30067, 'cleverly': 30068, 'clichéd': 30069, 'clichés': 30070, 'clinching': 30071, 'cling': 30072, 'clogged': 30073, 'cloned': 30074, 'cloning': 30075, 'clouded': 30076, 'cnnnews18': 30077, 'coalfields': 30078, 'coals': 30079, 'cobras': 30080, 'coc': 30081, 'cocktails': 30082, 'coelho': 30083, 'coerced': 30084, 'cognisance': 30085, 'coil': 30086, 'coincide': 30087, 'coincidences': 30088, 'colbert': 30089, 'colin': 30090, 'collides': 30091, 'colliding': 30092, 'colostrum': 30093, 'combative': 30094, 'combovers': 30095, 'comcast': 30096, 'comedic': 30097, 'comedk': 30098, 'comforting': 30099, 'comforts': 30100, 'comission': 30101, 'comma': 30102, 'commandoes': 30103, 'commenter': 30104, 'commie': 30105, 'commision': 30106, 'commoner': 30107, 'commons': 30108, 'commotion': 30109, 'communalizing': 30110, 'communicating': 30111, 'companions': 30112, 'company-': 30113, 'compartments': 30114, 'compatibility': 30115, 'compatriots': 30116, 'compensated': 30117, 'compensating': 30118, 'compile': 30119, 'complacent': 30120, 'complexities': 30121, 'complicates': 30122, 'compliments': 30123, 'compressor': 30124, 'comprises': 30125, 'concentrated': 30126, 'concentrating': 30127, 'concerted': 30128, 'concur': 30129, 'condensed': 30130, 'confessional': 30131, 'configure': 30132, 'confiscate': 30133, 'conglomerate': 30134, 'conjuring': 30135, 'conman': 30136, 'conmen': 30137, 'connivance': 30138, 'conrad': 30139, 'consistency': 30140, 'consolidates': 30141, 'conspirator': 30142, 'constructions': 30143, 'construed': 30144, 'consultative': 30145, 'consutation': 30146, 'containers': 30147, 'contours': 30148, 'contracting': 30149, 'convection': 30150, 'convictions': 30151, 'convo': 30152, 'convoluted': 30153, 'cookie': 30154, 'coop': 30155, 'copypasta': 30156, 'copywriter': 30157, 'cornelia': 30158, 'cornering': 30159, 'coronaviruspandemic': 30160, 'corporal': 30161, 'correcting': 30162, 'correctness': 30163, 'correspondents': 30164, 'cosby': 30165, 'cot': 30166, 'countered': 30167, 'counterfeiting': 30168, 'counterview': 30169, 'coupe': 30170, 'couplet': 30171, 'couplets': 30172, 'couriered': 30173, 'courtrooms': 30174, 'cov-2': 30175, 'cowboy': 30176, 'cpc': 30177, 'cppst': 30178, 'cprl': 30179, 'craig': 30180, 'cramped': 30181, 'craters': 30182, 'crawford': 30183, 'crawls': 30184, 'crept': 30185, 'cribbing': 30186, 'criminalised': 30187, 'criminalized': 30188, 'criminalizing': 30189, 'cringed': 30190, 'criticizers': 30191, 'croatia': 30192, 'crockery': 30193, 'croozi': 30194, 'crowdfunded': 30195, 'crowdfunds': 30196, 'crowdsource': 30197, 'crr': 30198, 'cruises': 30199, 'crunchy': 30200, 'cryptojacking': 30201, 'csi': 30202, 'ctrl': 30203, 'cts': 30204, 'cuckold': 30205, 'cuddalore': 30206, 'culling': 30207, 'culmination': 30208, 'cultivate': 30209, 'cumbersome': 30210, 'cupboard': 30211, 'curative': 30212, 'currents': 30213, 'curries': 30214, 'curtailing': 30215, 'cushy': 30216, 'cvv': 30217, 'cwc19': 30218, 'cwe': 30219, 'cyberhub': 30220, 'cyberstalker': 30221, 'cycled': 30222, 'có': 30223, 'd750': 30224, 'daaru': 30225, 'dabbing': 30226, 'dabhol': 30227, 'dac': 30228, 'dacunha': 30229, 'dadagiri': 30230, 'daiichi': 30231, 'dakota': 30232, 'dali': 30233, 'dalwai': 30234, 'damaad': 30235, 'danced': 30236, 'dandeli': 30237, 'dant': 30238, 'darn': 30239, 'dart': 30240, 'daruvala': 30241, 'dastan': 30242, 'datawind': 30243, 'dav': 30244, 'davanagere': 30245, 'day-': 30246, 'dayalu': 30247, 'dazzling': 30248, 'ddr4': 30249, 'deactivation': 30250, 'deadlocked': 30251, 'deafening': 30252, 'dearest': 30253, 'debian': 30254, 'debilitating': 30255, 'debutant': 30256, 'deceitful': 30257, 'decelerated': 30258, 'deck': 30259, 'declassify': 30260, 'decolonising': 30261, 'decomposing': 30262, 'decorations': 30263, 'decorators': 30264, 'decree': 30265, 'decrypt': 30266, 'dedicating': 30267, 'deeds': 30268, 'deem': 30269, 'deepfakes': 30270, 'deewane': 30271, 'defacing': 30272, 'defender': 30273, 'defensediaries': 30274, 'deferring': 30275, 'defexpo': 30276, 'deflation': 30277, 'deflect': 30278, 'defrauded': 30279, 'defrauding': 30280, 'degrade': 30281, 'dei': 30282, 'dekhi': 30283, 'delhiriots': 30284, 'delhiviolence': 30285, 'delicate': 30286, 'delights': 30287, 'deliverance': 30288, 'dementia': 30289, 'democrat': 30290, 'demonestisation': 30291, 'demonetisationsuccess': 30292, 'demonetize': 30293, 'denotified': 30294, 'departed': 30295, 'departmental': 30296, 'dependant': 30297, 'deports': 30298, 'depose': 30299, 'depositor': 30300, 'depp': 30301, 'deprivation': 30302, 'depriving': 30303, 'deptt': 30304, 'derailing': 30305, 'deranged': 30306, 'deregistered': 30307, 'derive': 30308, 'descending': 30309, 'desecrated': 30310, 'deshdrohi': 30311, 'desicringe': 30312, 'designations': 30313, 'desirability': 30314, 'despised': 30315, 'despots': 30316, 'destined': 30317, 'detel': 30318, 'deteriorated': 30319, 'deteriorates': 30320, 'devaluation': 30321, 'devang': 30322, 'devarasetty': 30323, 'devastate': 30324, 'deven': 30325, 'devender': 30326, 'deviation': 30327, 'devils': 30328, 'devises': 30329, 'devoid': 30330, 'devpt': 30331, 'devroop': 30332, 'devvarman': 30333, 'dewan': 30334, 'deworming': 30335, 'df': 30336, 'dhaliwal': 30337, 'dhanawade': 30338, 'dhanda': 30339, 'dhaniya': 30340, 'dhari': 30341, 'dharmadhikari': 30342, 'dharnas': 30343, 'dhingra': 30344, 'dhir': 30345, 'dhiraj': 30346, 'dhobi': 30347, 'dhupguri': 30348, 'dialects': 30349, 'dibang': 30350, 'dickhead': 30351, 'dietitian': 30352, 'digestive': 30353, 'diggers': 30354, 'diggy': 30355, 'digitalization': 30356, 'digitise': 30357, 'digitised': 30358, 'digitized': 30359, 'digitizing': 30360, 'dilapidated': 30361, 'dilshan': 30362, 'diminished': 30363, 'directionless': 30364, 'dirtier': 30365, 'disadvantage': 30366, 'disbands': 30367, 'disbursal': 30368, 'discarding': 30369, 'disciplined': 30370, 'disciplines': 30371, 'discomfort': 30372, 'disconnects': 30373, 'discounting': 30374, 'discreetly': 30375, 'disfigured': 30376, 'dished': 30377, 'dishwasher': 30378, 'disinfect': 30379, 'disinfectants': 30380, 'disintegration': 30381, 'dismembered': 30382, 'displaybuzz': 30383, 'disquieting': 30384, 'disrobing': 30385, 'dissatisfied': 30386, 'dissect': 30387, 'dissection': 30388, 'dissented': 30389, 'dissident': 30390, 'dissidents': 30391, 'distasteful': 30392, 'distinctly': 30393, 'distinguish': 30394, 'distort': 30395, 'distorts': 30396, 'distracts': 30397, 'disturbs': 30398, 'dithers': 30399, 'diversify': 30400, 'divested': 30401, 'divisiveness': 30402, 'divorcee': 30403, 'dlink': 30404, 'dlt': 30405, 'dmt': 30406, 'dobara': 30407, 'doe': 30408, 'doldrums': 30409, 'dom': 30410, 'dong': 30411, 'dooars': 30412, 'doosra': 30413, 'doreswamy': 30414, 'dosage': 30415, 'dosed': 30416, 'doses': 30417, 'dossa': 30418, 'dotted': 30419, 'douche': 30420, 'doused': 30421, 'downgraded': 30422, 'downpour': 30423, 'downright': 30424, 'downsize': 30425, 'downtrodden': 30426, 'doxxed': 30427, 'drawbacks': 30428, 'dreamers': 30429, 'dreamhack': 30430, 'dreamt': 30431, 'dresswellbro': 30432, 'drivel': 30433, 'dropbox': 30434, 'dropshipping': 30435, 'drèze': 30436, 'dtdc': 30437, 'dubmash': 30438, 'ducking': 30439, 'dudh': 30440, 'dukaan': 30441, 'dulat': 30442, 'dumber': 30443, 'dumpyard': 30444, 'dunya': 30445, 'duolingo': 30446, 'duplicity': 30447, 'durgapuja': 30448, 'durgapur': 30449, 'durgesh': 30450, 'dus': 30451, 'dussera': 30452, 'dwayne': 30453, 'dye': 30454, 'dynamo': 30455, 'dysfunction': 30456, 'dyslexia': 30457, 'dyslexic': 30458, 'dystopic': 30459, 'e02': 30460, 'e4': 30461, 'eagerly': 30462, 'eamcet': 30463, 'earthporn': 30464, 'ebay.com': 30465, 'ebiz': 30466, 'eclipsed': 30467, 'ecom': 30468, 'ecstatic': 30469, 'ecuador': 30470, 'edutech': 30471, 'eerie': 30472, 'effitrac': 30473, 'effortless': 30474, 'efi': 30475, 'eggplant': 30476, 'egov': 30477, 'elections2014': 30478, 'electives': 30479, 'electricals': 30480, 'electrocute': 30481, 'electron': 30482, 'elephanta': 30483, 'elgin': 30484, 'elss': 30485, 'eludes': 30486, 'emami': 30487, 'eman': 30488, 'emancipation': 30489, 'embarassed': 30490, 'embezzlement': 30491, 'embossing': 30492, 'emit': 30493, 'emma': 30494, 'emojis': 30495, 'emphasised': 30496, 'emphasize': 30497, 'emptiest': 30498, 'emulating': 30499, 'emulator': 30500, 'emv': 30501, 'enclaves': 30502, 'endlessly': 30503, 'endowment': 30504, 'energetic': 30505, 'enlarged': 30506, 'eno': 30507, 'enquiries': 30508, 'enriched': 30509, 'enrichment': 30510, 'enrolments': 30511, 'enslaved': 30512, 'ensuing': 30513, 'enthralls': 30514, 'entitlements': 30515, 'entourage': 30516, 'entrances': 30517, 'entrants': 30518, 'entrapped': 30519, 'entreprenuer': 30520, 'entropay': 30521, 'envisioned': 30522, 'enzymes': 30523, 'eom': 30524, 'epaper': 30525, 'epc': 30526, 'epidemics': 30527, 'equitable': 30528, 'erases': 30529, 'erections': 30530, 'errand': 30531, 'erratic': 30532, 'es': 30533, 'escalator': 30534, 'escalators': 30535, 'esque': 30536, 'est': 30537, 'estonia': 30538, 'etawah': 30539, 'etf': 30540, 'ethnicities': 30541, 'ethnocentrism': 30542, 'etv': 30543, 'europa': 30544, 'eurovision': 30545, 'evaded': 30546, 'evades': 30547, 'eventful': 30548, 'eventual': 30549, 'evicts': 30550, 'evidently': 30551, 'examinees': 30552, 'examiner': 30553, 'exasperating': 30554, 'excessively': 30555, 'exhale': 30556, 'exhibits': 30557, 'exhilarating': 30558, 'exitpolls': 30559, 'exmuslim': 30560, 'exorcist': 30561, 'experiential': 30562, 'experimented': 30563, 'exploitative': 30564, 'exploits': 30565, 'exposition': 30566, 'exterior': 30567, 'extratorrent': 30568, 'exuberance': 30569, 'eyeglasses': 30570, 'eyewash': 30571, 'f&amp;o': 30572, 'f-21': 30573, 'f16s': 30574, 'f4': 30575, 'faceless': 30576, 'facilitation': 30577, 'facist': 30578, 'failings': 30579, 'fairs': 30580, 'fairytale': 30581, 'falguni': 30582, 'fam': 30583, 'fardeen': 30584, 'farmhouse': 30585, 'farook': 30586, 'farsi': 30587, 'farther': 30588, 'farzi': 30589, 'fascinated': 30590, 'fastrack': 30591, 'fatherless': 30592, 'fatigues': 30593, 'favoring': 30594, 'favorites': 30595, 'fazal': 30596, 'fdr': 30597, 'feasting': 30598, 'feburary': 30599, 'feisty': 30600, 'fenko': 30601, 'fergusson': 30602, 'ferment': 30603, 'fermentation': 30604, 'ferries': 30605, 'fertilisers': 30606, 'fiancé': 30607, 'fiancée': 30608, 'fiberal': 30609, 'fication': 30610, 'fickle': 30611, 'fiddling': 30612, 'fieo': 30613, 'figuratively': 30614, 'filmic': 30615, 'finacle': 30616, 'financialtimes': 30617, 'fingerprinting': 30618, 'finite': 30619, 'finmeccanica': 30620, 'finnish': 30621, 'fipb': 30622, 'firang': 30623, 'firc': 30624, 'fireplace': 30625, 'fireplaces': 30626, 'firestorm': 30627, 'firework': 30628, 'firmware': 30629, 'firoz': 30630, 'first[p]ost': 30631, 'fitbit': 30632, 'fittest': 30633, 'fixer': 30634, 'fixture': 30635, 'fizz': 30636, 'fl': 30637, 'flared': 30638, 'flashy': 30639, 'flask': 30640, 'flatten': 30641, 'flattening': 30642, 'flavor': 30643, 'flawlessly': 30644, 'fleece': 30645, 'flexibility': 30646, 'flipkart.com': 30647, 'flips': 30648, 'flirts': 30649, 'flirty': 30650, 'flogged': 30651, 'floodgates': 30652, 'fluctuations': 30653, 'fluently': 30654, 'flunk': 30655, 'fluoride': 30656, 'flushed': 30657, 'flux': 30658, 'flynx': 30659, 'flysolo.in': 30660, 'fms': 30661, 'fo[r': 30662, 'folder': 30663, 'folding': 30664, 'follies': 30665, 'fonts': 30666, 'foodie': 30667, 'footballers': 30668, 'foreshadow': 30669, 'forges': 30670, 'forgiving': 30671, 'forgo': 30672, 'formalisation': 30673, 'formulas': 30674, 'formulate': 30675, 'fostering': 30676, 'fosters': 30677, 'fowl': 30678, 'foxtail': 30679, 'fptp': 30680, 'fragments': 30681, 'franchises': 30682, 'freaks': 30683, 'freeway': 30684, 'frenemies': 30685, 'freshmenu': 30686, 'friendzone': 30687, 'friendzoned': 30688, 'frightened': 30689, 'fron': 30690, 'fs': 30691, 'fsdr': 30692, 'fud': 30693, 'fugitives': 30694, 'fuhrer': 30695, 'fumbles': 30696, 'fungus': 30697, 'funy': 30698, 'futility': 30699, 'futsal': 30700, 'fyup': 30701, 'g2': 30702, 'gaadi': 30703, 'gadbad': 30704, 'gadgil': 30705, 'gagging': 30706, 'gaitonde': 30707, 'gale': 30708, 'gamechanger': 30709, 'gangaur': 30710, 'ganged': 30711, 'gangnam': 30712, 'gangrapes': 30713, 'gangraping': 30714, 'gangwar': 30715, 'gardeners': 30716, 'garibi': 30717, 'garlanding': 30718, 'garlands': 30719, 'garners': 30720, 'garo': 30721, 'gatecrash': 30722, 'gauravzone': 30723, 'gautier': 30724, 'gayoom': 30725, 'geeky': 30726, 'geetika': 30727, 'gemalto': 30728, 'gemini': 30729, 'genda': 30730, 'generational': 30731, 'generics': 30732, 'generously': 30733, 'genitalia': 30734, 'genomic': 30735, 'gentlemanboners': 30736, 'geometry': 30737, 'germ': 30738, 'gerua': 30739, 'getup': 30740, 'gham': 30741, 'ghanti': 30742, 'ghatak': 30743, 'ghurde': 30744, 'gigafibre': 30745, 'giggling': 30746, 'gimme': 30747, 'gladiators': 30748, 'glamour': 30749, 'glide': 30750, 'glittery': 30751, 'gluten': 30752, 'gmr': 30753, 'gms': 30754, 'gmt': 30755, 'gnu': 30756, 'gobi': 30757, 'godson': 30758, 'godwin': 30759, 'goecha': 30760, 'gokulam': 30761, 'gomez': 30762, 'goms': 30763, 'gonyle': 30764, 'goodluck': 30765, 'goodnews': 30766, 'goofed': 30767, 'goondagardi': 30768, 'gosf': 30769, 'gossips': 30770, 'gouge': 30771, 'gov’t': 30772, 'gp3': 30773, 'graded': 30774, 'grandkids': 30775, 'grandnephew': 30776, 'grapevine': 30777, 'grapple': 30778, 'grata': 30779, 'graveyards': 30780, 'gravitas': 30781, 'gravitation': 30782, 'greece': 30783, 'greenfield': 30784, 'greening': 30785, 'greg': 30786, 'grids': 30787, 'grind': 30788, 'grinders': 30789, 'gripe': 30790, 'grope': 30791, 'grosser': 30792, 'grounding': 30793, 'grouping': 30794, 'gsk': 30795, 'gstr': 30796, 'gujiya': 30797, 'gujurat': 30798, 'gulaal': 30799, 'gullyboy': 30800, 'gumla': 30801, 'gunbattle': 30802, 'gunj': 30803, 'gunneswaran': 30804, 'gunning': 30805, 'guptas': 30806, 'gurkha': 30807, 'gurudev': 30808, 'guruprasad': 30809, 'gurupurab': 30810, 'guruvayoor': 30811, 'guyana': 30812, 'guyz': 30813, 'guzzling': 30814, 'gvot': 30815, 'gvt': 30816, 'h$': 30817, 'h-4': 30818, 'haar': 30819, 'habitual': 30820, 'hague': 30821, 'haiku': 30822, 'hailstorms': 30823, 'haircuts': 30824, 'hairfall': 30825, 'hajmola': 30826, 'haldi': 30827, 'haldia': 30828, 'hamburg': 30829, 'hams': 30830, 'handa': 30831, 'handkerchief': 30832, 'handpump': 30833, 'handyman': 30834, 'hangman': 30835, 'hanumantha': 30836, 'hao': 30837, 'happybdaypmmodi': 30838, 'happywomensday': 30839, 'harappans': 30840, 'harayana': 30841, 'hardened': 30842, 'harmandir': 30843, 'harnish': 30844, 'harpercollins': 30845, 'harrison': 30846, 'harshad': 30847, 'haseena': 30848, 'hasin': 30849, 'hasten': 30850, 'hastings': 30851, 'hatsun': 30852, 'hattori': 30853, 'haves': 30854, 'havildar': 30855, 'hawks': 30856, 'haywire': 30857, 'hazari': 30858, 'hazel': 30859, 'hb': 30860, 'headbands': 30861, 'headquarter': 30862, 'headscarf': 30863, 'healer': 30864, 'healthiest': 30865, 'heartbreaks': 30866, 'heath': 30867, 'heatwave': 30868, 'heatwaves': 30869, 'heft': 30870, 'helio': 30871, 'helios': 30872, 'helpers': 30873, 'hemp': 30874, 'hermit': 30875, 'hibiscus': 30876, 'hijabs': 30877, 'hilal': 30878, 'hilltop': 30879, 'himachali': 30880, 'hinders': 30881, 'hindon': 30882, 'hindoo': 30883, 'hinduvta': 30884, 'hinges': 30885, 'hinterland': 30886, 'hinterlands': 30887, 'hirakud': 30888, 'hiranagar': 30889, 'histo[r]y': 30890, 'hitches': 30891, 'hmmmmm': 30892, 'hn': 30893, 'hog': 30894, 'hoichoi': 30895, 'holdouts': 30896, 'holidaying': 30897, 'homelessness': 30898, 'homeopath': 30899, 'honeytrapped': 30900, 'honge': 30901, 'hoodie': 30902, 'hoodies': 30903, 'hoopla': 30904, 'hooq': 30905, 'hoots': 30906, 'hora': 30907, 'horizons': 30908, 'horizontal': 30909, 'horlicks': 30910, 'hotelier': 30911, 'hoteliers': 30912, 'hounding': 30913, 'houseboats': 30914, 'hover': 30915, 'hovering': 30916, 'howdymodi': 30917, 'hpu': 30918, 'href=\"https://sf': 30919, 'hrishikesh': 30920, 'hritik': 30921, 'https://www.msrajconstruction.com/': 30922, 'hud': 30923, 'hugplomacy': 30924, 'humari': 30925, 'humayun': 30926, 'humein': 30927, 'humiliate': 30928, 'humko': 30929, 'humma': 30930, 'hundi': 30931, 'huntsman': 30932, 'hve': 30933, 'hw': 30934, 'hx60v': 30935, 'hyderbad': 30936, 'hydroponic': 30937, 'hymns': 30938, 'hyperlocal': 30939, 'hysis': 30940, 'i&amp;amp;b': 30941, 'ibc': 30942, 'ibobi': 30943, 'ic': 30944, 'icf': 30945, 'ideologically': 30946, 'idm': 30947, 'ie100': 30948, 'ifos': 30949, 'igia': 30950, 'igims': 30951, 'iic': 30952, 'iimc': 30953, 'ilaha': 30954, 'illumination': 30955, 'illustrate': 30956, 'imams': 30957, 'imbalanced': 30958, 'imessage': 30959, 'imho': 30960, 'imitating': 30961, 'immerse': 30962, 'immigrating': 30963, 'imparting': 30964, 'impassioned': 30965, 'imperils': 30966, 'impersonation': 30967, 'implicate': 30968, 'implicating': 30969, 'implying': 30970, 'impotency': 30971, 'impregnating': 30972, 'imprint': 30973, 'inaugurations': 30974, 'inbreeding': 30975, 'incase': 30976, 'incentivise': 30977, 'incidences': 30978, 'inclination': 30979, 'inclusiveness': 30980, 'inclusivity': 30981, 'incognito': 30982, 'incorporating': 30983, 'incriminating': 30984, 'indentured': 30985, 'indiaball': 30986, 'indiadecideson18th': 30987, 'indiadiscussion': 30988, 'indiahikes': 30989, 'indiancelebs': 30990, 'indianexpress': 30991, 'indians-': 30992, 'indiawithpakistan': 30993, 'india|': 30994, 'indica': 30995, 'indicating': 30996, 'indiegogo': 30997, 'indipop': 30998, 'indispensable': 30999, 'individualism': 31000, 'indrajit': 31001, 'indvaus': 31002, 'inexperienced': 31003, 'inexplicable': 31004, 'infiltrator': 31005, 'infocus': 31006, 'informatics': 31007, 'informational': 31008, 'informer': 31009, 'infringing': 31010, 'inhabitants': 31011, 'inhabited': 31012, 'injurious': 31013, 'insaf': 31014, 'inserts': 31015, 'insha': 31016, 'inspects': 31017, 'inspirationquotes': 31018, 'inspiron': 31019, 'instill': 31020, 'insurer': 31021, 'integrating': 31022, 'interfered': 31023, 'internally': 31024, 'interplanetary': 31025, 'interpreted': 31026, 'interrupt': 31027, 'intersection': 31028, 'intersex': 31029, 'intervening': 31030, 'intimidating': 31031, 'intrigued': 31032, 'int’l': 31033, 'inundated': 31034, 'invalidation': 31035, 'invanted': 31036, 'invasive': 31037, 'invitees': 31038, 'invulnerability': 31039, 'iocl': 31040, 'iphonex': 31041, 'ippb': 31042, 'iptv': 31043, 'irving': 31044, 'ishan': 31045, 'ishita': 31046, 'ismart': 31047, \"isn't\": 31048, 'iso100': 31049, 'ita': 31050, 'itch': 31051, 'iy2017': 31052, 'jaago': 31053, 'jaanta': 31054, 'jacked': 31055, 'jag': 31056, 'jagat': 31057, 'jagjivan': 31058, 'jaipur|kurtis': 31059, 'jair': 31060, 'jaisi': 31061, 'jaitlie': 31062, 'jaiye': 31063, 'jalan': 31064, 'jale': 31065, 'jalebis': 31066, 'jalti': 31067, 'jan-2017': 31068, 'janiye': 31069, 'jante': 31070, 'jar': 31071, 'jargon': 31072, 'jars': 31073, 'jarwal': 31074, 'jashn': 31075, 'jasraj': 31076, 'jata': 31077, 'jatinder': 31078, 'jattu': 31079, 'javier': 31080, 'jayanagar': 31081, 'jayegi': 31082, 'jayeshbhai': 31083, 'jeddah': 31084, 'jeene': 31085, 'jehad': 31086, 'jenner': 31087, 'jerryrigeverything': 31088, 'jf-17': 31089, 'jhanjar': 31090, 'jholawala': 31091, 'jhoot': 31092, 'jilani': 31093, 'jingles': 31094, 'jinhe': 31095, 'jipmer': 31096, 'jitender': 31097, 'jln': 31098, 'jnutapes': 31099, 'jnuterrorattack': 31100, 'jnv': 31101, 'joaquin': 31102, 'jockeys': 31103, 'joey': 31104, 'jonathan': 31105, 'jonty': 31106, 'joomla': 31107, 'joti': 31108, 'jubilant': 31109, 'jubilation': 31110, 'jugnauth': 31111, 'jumper': 31112, 'jundal': 31113, 'junglee': 31114, 'jusreign': 31115, 'justifiable': 31116, 'juxtaposition': 31117, 'jvm': 31118, 'jyada': 31119, 'jyotsna': 31120, 'k10': 31121, 'k30': 31122, 'k9': 31123, 'kaa': 31124, 'kaate': 31125, 'kachori': 31126, 'kahar': 31127, 'kaho': 31128, 'kaikeyi': 31129, 'kajjikayalu': 31130, 'kakar': 31131, 'kakinada': 31132, 'kalamkari': 31133, 'kalari': 31134, 'kalashnikov': 31135, 'kaliya': 31136, 'kalka': 31137, 'kalpa': 31138, 'kalwa': 31139, 'kamalnath': 31140, 'kamar': 31141, 'kamaye': 31142, 'kampf': 31143, 'kanchanjunga': 31144, 'kangla': 31145, 'kanitkar': 31146, 'kanoon': 31147, 'kanpoora': 31148, 'kansa': 31149, 'kanshi': 31150, 'kanya': 31151, 'kapadia': 31152, 'karad': 31153, 'karam': 31154, 'karawal': 31155, 'kardo': 31156, 'kareem': 31157, 'karnatak': 31158, 'karoge': 31159, 'karona': 31160, 'karvy': 31161, 'karwan': 31162, 'kasara': 31163, 'kasauli': 31164, 'kasautii': 31165, 'kashmere': 31166, 'kashmira': 31167, 'kasturirangan': 31168, 'kata': 31169, 'katappa': 31170, 'kateel': 31171, 'kathi': 31172, 'kattapa': 31173, 'kaushambi': 31174, 'kautilya': 31175, 'kavin': 31176, 'kawardha': 31177, 'kayak': 31178, 'keech': 31179, 'keeladi': 31180, 'keeling': 31181, 'keema': 31182, 'kehti': 31183, 'kejrival': 31184, 'kent': 31185, 'kerla': 31186, 'kernel': 31187, 'kesavan': 31188, 'kettle': 31189, 'khada': 31190, 'khade': 31191, 'khaled': 31192, 'khambhat': 31193, 'khandaani': 31194, 'khanderi': 31195, 'khandwa': 31196, 'khane': 31197, 'khaqan': 31198, 'khera': 31199, 'khesari': 31200, 'kholi': 31201, 'khorana': 31202, 'khudiram': 31203, 'khunti': 31204, 'không': 31205, 'kickbacks': 31206, 'kickstarts': 31207, 'kidnapper': 31208, 'kidneys': 31209, 'kilogram': 31210, 'kilograms': 31211, 'kilometer': 31212, 'kinder': 31213, 'kinetic': 31214, 'kingsman': 31215, 'kinjal': 31216, 'kiradu': 31217, 'kirtish': 31218, 'kisaan': 31219, 'kismat': 31220, 'kitchen-': 31221, 'kitne': 31222, 'kitts&amp;nevis': 31223, 'kiwi': 31224, 'kiwis': 31225, 'knead': 31226, 'knit': 31227, 'knots': 31228, 'kodagu': 31229, 'kodak': 31230, 'kodiaq': 31231, 'kofi': 31232, 'kola': 31233, 'kolaveri': 31234, 'kolhapuri': 31235, 'konkani': 31236, 'kool': 31237, 'kremer': 31238, 'krkji': 31239, 'kro': 31240, 'kts': 31241, 'kuchh': 31242, 'kundalini': 31243, 'kunder': 31244, 'kunte': 31245, 'kuriakose': 31246, 'kursi': 31247, 'kushinagar': 31248, 'kutta': 31249, 'kutty': 31250, 'kuv100': 31251, 'kvic': 31252, 'lads': 31253, 'lagao': 31254, 'laggard': 31255, 'lakshya': 31256, 'lalbaugcha': 31257, 'lalji': 31258, 'lalwani': 31259, 'lamhe': 31260, 'landfills': 31261, 'laning': 31262, 'lannister': 31263, 'lannisters': 31264, 'laravel': 31265, 'lashed': 31266, 'lath': 31267, 'lauding': 31268, 'launchers': 31269, 'lax': 31270, 'laxity': 31271, 'layover': 31272, 'leaflets': 31273, 'leakages': 31274, 'leaned': 31275, 'leapfrogging': 31276, 'learnings': 31277, 'lecturing': 31278, 'leena': 31279, 'leftover': 31280, 'legalisation': 31281, 'lei': 31282, 'leipzig': 31283, 'lengthy': 31284, 'lennon': 31285, 'leona': 31286, 'lesbianism': 31287, 'lesnar': 31288, 'lethargic': 31289, 'letv': 31290, 'levi': 31291, 'lgbtqia': 31292, 'lhasa': 31293, 'liabilities': 31294, 'liaison': 31295, 'liaquat': 31296, 'libel': 31297, 'libtard': 31298, 'licks': 31299, 'life-': 31300, 'lifecycle': 31301, 'lig': 31302, 'lightbulb': 31303, 'lighters': 31304, 'lightweight': 31305, 'lijiye': 31306, 'likewise': 31307, 'lingo': 31308, 'linus': 31309, 'lipsticks': 31310, 'list:[educational': 31311, 'list:[entertainment': 31312, 'listerine': 31313, 'listicle': 31314, 'litecoin': 31315, 'liters': 31316, 'liveability': 31317, 'liveable': 31318, 'liveleak.com': 31319, 'liyaquat': 31320, 'ln': 31321, 'loc.': 31322, 'lofty': 31323, 'logically': 31324, 'lohia': 31325, 'loksabhaelections2019': 31326, 'loktak': 31327, 'lonar': 31328, 'lonavla': 31329, 'longi': 31330, 'longread': 31331, 'lore': 31332, 'loshali': 31333, 'lotr': 31334, 'lotteries': 31335, 'lousy': 31336, 'lucid': 31337, 'lucifer': 31338, 'luckily': 31339, 'ludicrous': 31340, 'luka': 31341, 'lukewarm': 31342, 'luncheon': 31343, 'lund': 31344, 'lunga': 31345, 'lurks': 31346, 'luthra': 31347, 'lutyen': 31348, 'lynchistan': 31349, 'm&amp;a': 31350, 'm.a': 31351, 'm.k.': 31352, 'm3': 31353, 'm30s': 31354, 'm40': 31355, 'm7': 31356, 'm[p': 31357, 'm[p]s': 31358, 'maange': 31359, 'maango': 31360, 'mach': 31361, 'macha': 31362, 'machetes': 31363, 'machiavelli': 31364, 'machli': 31365, 'machu': 31366, 'madara': 31367, 'madarsas': 31368, 'madgaon': 31369, 'madhusudan': 31370, 'magarpatta': 31371, 'maghi': 31372, 'magicpin': 31373, 'magistrates': 31374, 'maguva': 31375, 'mahabharatha': 31376, 'mahadalit': 31377, 'mahadeva': 31378, 'mahadik': 31379, 'mahakaal': 31380, 'mahakaushal': 31381, 'mahalaxmi': 31382, 'mahamana': 31383, 'mahanagar': 31384, 'maharani': 31385, 'maharishi': 31386, 'mahashivaratri': 31387, 'mahatama': 31388, 'mahatmas': 31389, 'mahayagya': 31390, 'maiam': 31391, 'maimaitiali': 31392, 'maitree': 31393, 'makara': 31394, 'makdee': 31395, 'makhani': 31396, 'makki': 31397, 'makoto': 31398, 'malavika': 31399, 'malfunctions': 31400, 'malinga': 31401, 'malishka': 31402, 'malkova': 31403, 'mam': 31404, 'mamaji': 31405, 'manak': 31406, 'mandates': 31407, 'mandvi': 31408, 'manhandle': 31409, 'manifest': 31410, 'manjha': 31411, 'manna': 31412, 'mannat': 31413, 'manoeuvre': 31414, 'manoos': 31415, 'manoranjan': 31416, 'mansa': 31417, 'mantle': 31418, \"mar'17\": 31419, 'maradona': 31420, 'marathons': 31421, 'marble': 31422, 'marchers': 31423, 'mardani': 31424, 'mariam': 31425, 'marilyn': 31426, 'marker': 31427, 'marketable': 31428, 'markle': 31429, 'marksheets': 31430, 'marooned': 31431, 'marvelous': 31432, 'marvels': 31433, 'marwari': 31434, 'marzi': 31435, 'masand': 31436, 'mashable': 31437, 'mashed': 31438, 'masjids': 31439, 'masterpieces': 31440, 'matang': 31441, 'matchsticks': 31442, 'matra': 31443, 'maul': 31444, 'maula': 31445, 'maza': 31446, 'mbs': 31447, 'mcaer': 31448, 'mcgm': 31449, 'mcq': 31450, 'mechanised': 31451, 'mechatronics': 31452, 'mediaone': 31453, 'medic': 31454, 'medina': 31455, 'megastructure': 31456, 'meghna': 31457, 'mehboob': 31458, 'mehrauli': 31459, 'meitei': 31460, 'meizu': 31461, 'membrane': 31462, 'memers': 31463, 'memoirs': 31464, 'menial': 31465, 'menswear': 31466, 'mentos': 31467, 'merges': 31468, 'mermaid': 31469, 'meryl': 31470, 'messes': 31471, 'messier': 31472, 'metalhead': 31473, 'metallic': 31474, 'metamorphosis': 31475, 'meteorite': 31476, 'meti': 31477, 'metrino': 31478, 'metropolis': 31479, 'mewani': 31480, 'mexicans': 31481, 'mfg': 31482, 'mfn': 31483, 'mgm': 31484, 'mgp': 31485, 'mgtow': 31486, 'microchip': 31487, 'mig-29ks': 31488, 'mili': 31489, 'milkshake': 31490, 'milkway': 31491, 'millers': 31492, 'milli': 31493, 'milton': 31494, 'mimic': 31495, 'mindful': 31496, 'mindtree': 31497, 'mined': 31498, 'mintoo': 31499, 'mints': 31500, 'miseries': 31501, 'misguiding': 31502, 'misinformed': 31503, 'mismanaged': 31504, 'misreported': 31505, 'misrepresented': 31506, 'missouri': 31507, 'mist': 31508, 'misty': 31509, 'mitali': 31510, 'mithila': 31511, 'mitros': 31512, 'mlg': 31513, 'modafinil': 31514, 'modesty': 31515, 'modiatmadison': 31516, 'modifications': 31517, 'moef': 31518, 'moga': 31519, 'moisturizer': 31520, 'moksha': 31521, 'monarchy': 31522, 'mondaymotivation': 31523, 'monetago': 31524, 'monetise': 31525, 'monetize': 31526, 'mongodb': 31527, 'mongolian': 31528, 'moninder': 31529, 'monolithic': 31530, 'monotonous': 31531, 'monroe': 31532, 'moonshot': 31533, 'moore': 31534, 'moosewala': 31535, 'mops': 31536, 'moralistic': 31537, 'morani': 31538, 'morena': 31539, 'mormugao': 31540, 'morparia': 31541, 'morphs': 31542, 'mosaic': 31543, 'mosquitos': 31544, 'motions': 31545, 'motivationalquotes': 31546, 'motogp': 31547, 'motorcyclists': 31548, 'motorman': 31549, 'moudgil': 31550, 'mountaineer': 31551, 'mouthwash': 31552, 'mouthwatering': 31553, 'mowed': 31554, 'mowgli': 31555, 'mozambique': 31556, 'mppsc': 31557, 'mpv': 31558, 'mqm': 31559, 'mra': 31560, 'mrityu': 31561, 'msf': 31562, 'msi': 31563, 'msnbc': 31564, 'msu': 31565, 'mtcr': 31566, 'mugdha': 31567, 'mugshots': 31568, 'mujh': 31569, 'mujhko': 31570, 'mujibur': 31571, 'muktinath': 31572, 'mulford': 31573, 'mullaperiyar': 31574, 'multibillion': 31575, 'multidrug': 31576, 'multiplier': 31577, 'multivitamin': 31578, 'mulund': 31579, 'mumbai-': 31580, 'mumtaz': 31581, 'munawwar': 31582, 'muri': 31583, 'murray': 31584, 'musalmano': 31585, 'muse': 31586, 'mushrooming': 31587, 'muthoot': 31588, 'mutilate': 31589, 'mutts': 31590, 'muzzle': 31591, 'mv': 31592, 'mygov.nic.in': 31593, 'n.korea': 31594, 'naaptol': 31595, 'nach': 31596, 'nache': 31597, 'nacho': 31598, 'naeem': 31599, 'nagaon': 31600, 'nagaraj': 31601, 'nagarjuna': 31602, 'nagendra': 31603, 'nailing': 31604, 'naka': 31605, 'nalasopara': 31606, 'nambiar': 31607, 'nameplate': 31608, 'nandamuri': 31609, 'nandigram': 31610, 'nani': 31611, 'nanny': 31612, 'napak': 31613, 'napoleon': 31614, 'naps': 31615, 'narang': 31616, 'narasimhan': 31617, 'naravane': 31618, 'narayanasamy': 31619, 'narcissist': 31620, 'narinder': 31621, 'narration': 31622, 'nas': 31623, 'naseer': 31624, 'nasser': 31625, 'nassim': 31626, 'nationalised': 31627, 'naveed': 31628, 'navmi': 31629, 'navnirman': 31630, 'nawada': 31631, 'nayan': 31632, 'naye': 31633, 'nayi': 31634, 'nazm': 31635, 'nbcc': 31636, 'nbsa': 31637, 'ncaer': 31638, 'ncm': 31639, 'ndma': 31640, 'needle': 31641, 'neerja': 31642, 'neeru': 31643, 'negatively': 31644, 'neglects': 31645, 'neighbourhoods': 31646, 'nellore': 31647, 'nemo': 31648, 'neonatal': 31649, 'nepalis': 31650, 'nerves': 31651, 'netball': 31652, 'neutralise': 31653, 'neverforget': 31654, 'nevergiveup': 31655, 'nevertheless': 31656, 'newark': 31657, 'newdelhi': 31658, 'news-': 31659, 'news24': 31660, 'newsblare': 31661, 'newsletters': 31662, 'newsline': 31663, 'newsrooms': 31664, 'newwz': 31665, 'newzealand': 31666, 'nex': 31667, 'nextra': 31668, 'nfdc': 31669, 'ng': 31670, 'nh1': 31671, 'nhm': 31672, 'nhs': 31673, 'nibhana': 31674, 'nicknamed': 31675, 'nightie': 31676, 'nikola': 31677, 'nillu': 31678, 'nilofar': 31679, 'nimati': 31680, 'nimo': 31681, 'nip': 31682, 'niser': 31683, 'nithya': 31684, 'nivas': 31685, 'nizamabad': 31686, 'niño': 31687, 'njp': 31688, 'nk': 31689, 'nn': 31690, 'nobita': 31691, 'nofn': 31692, 'noobs': 31693, 'noodle': 31694, 'nootropics': 31695, 'normalised': 31696, 'normie': 31697, 'nosedived': 31698, 'nosy': 31699, 'now-': 31700, 'np]amazon': 31701, 'np]anyone': 31702, 'np]are': 31703, 'np]best': 31704, 'np]do': 31705, 'np]for': 31706, 'np]from': 31707, 'np]govt': 31708, 'np]guys': 31709, 'np]happy': 31710, 'np]has': 31711, 'np]hey': 31712, 'np]looking': 31713, 'np]so': 31714, 'np]to': 31715, 'np]watch': 31716, 'np]when': 31717, 'np]xiaomi': 31718, 'nro': 31719, 'ntro': 31720, 'nuff': 31721, 'nujs': 31722, 'nusa': 31723, 'nyoooz': 31724, 'o_o': 31725, 'obamacare': 31726, 'obedient': 31727, 'objectivity': 31728, 'oblige': 31729, 'obsessive': 31730, 'occassion': 31731, 'occurrence': 31732, 'occurring': 31733, 'ocd': 31734, 'ocis': 31735, 'octroi': 31736, 'odour': 31737, 'oem': 31738, 'office|vastu': 31739, 'offloading': 31740, 'old][np': 31741, 'old]the': 31742, 'oldindia': 31743, 'omgwikinews': 31744, 'omung': 31745, 'oncologist': 31746, 'oncoming': 31747, 'oneplus5': 31748, 'oneplus6': 31749, 'onlyonflipkart': 31750, 'onshore': 31751, 'onward': 31752, 'openforge': 31753, 'opensource': 31754, 'opinion-': 31755, 'oppress': 31756, 'oppressed': 31757, 'oprah': 31758, 'oratory': 31759, 'orchids': 31760, 'orderly': 31761, 'orgs': 31762, 'ornaments': 31763, 'osd': 31764, 'osmosis': 31765, 'ostracized': 31766, 'outbursts': 31767, 'outcast': 31768, 'outcasts': 31769, 'outclass': 31770, 'outdoes': 31771, 'outlawed': 31772, 'outlookindia.com': 31773, 'outnumbered': 31774, 'outpaced': 31775, 'outpaces': 31776, 'outraging': 31777, 'outro': 31778, 'outshine': 31779, 'outstrip': 31780, 'outward': 31781, 'overcoat': 31782, 'overcrowding': 31783, 'overdose': 31784, 'overflowing': 31785, 'overflows': 31786, 'overhang': 31787, 'overhead': 31788, 'overjoyed': 31789, 'overlapping': 31790, 'overloading': 31791, 'overpricing': 31792, 'overreacting': 31793, 'overspeeding': 31794, 'overtones': 31795, 'owais': 31796, 'o’brien': 31797, 'p.c': 31798, 'p2': 31799, 'p30': 31800, 'p][r': 31801, 'p]after': 31802, 'p]ak': 31803, 'p]atel': 31804, 'p]bjp': 31805, 'p]how': 31806, 'p]indian': 31807, 'p]modi': 31808, 'p]ost': 31809, 'p]ress': 31810, 'p]roblem': 31811, 'paap': 31812, 'pacl': 31813, 'padgaonkar': 31814, 'padyatra': 31815, 'pagoda': 31816, 'pahadi': 31817, 'painters': 31818, 'pairing': 31819, 'pakhtoons': 31820, 'pakistan-': 31821, 'pakistanâ\\x80\\x99s': 31822, 'pakode': 31823, 'paksitan': 31824, 'pakstandswithkejriwal': 31825, 'palitana': 31826, 'pamela': 31827, 'pampered': 31828, 'panacea': 31829, 'pancake': 31830, 'panchayati': 31831, 'panchgani': 31832, 'pandas': 31833, 'panday': 31834, 'paneerselvam': 31835, 'panelist': 31836, 'pangs': 31837, 'panicked': 31838, 'panned': 31839, 'panth': 31840, 'pantry': 31841, 'paperback': 31842, 'paperbag': 31843, 'paradoxes': 31844, 'paragraph': 31845, 'parakh': 31846, 'paramour': 31847, 'paras': 31848, 'parasailing': 31849, 'parashar': 31850, 'parliment': 31851, 'parth': 31852, 'parthiv': 31853, 'pashmina': 31854, 'passouts': 31855, 'pastoral': 31856, 'patakha': 31857, 'patches': 31858, 'paternity': 31859, 'pathological': 31860, 'patreon': 31861, 'patrick': 31862, 'patrols': 31863, 'pats': 31864, 'paver': 31865, 'pavitr': 31866, 'payable': 31867, 'payo': 31868, 'payoff': 31869, 'pci': 31870, 'pcmasterraceindia': 31871, 'pcmc': 31872, 'pdfs': 31873, 'peacefuls': 31874, 'peb': 31875, 'peep': 31876, 'peepal': 31877, 'peeve': 31878, 'pega': 31879, 'pehla': 31880, 'pejawar': 31881, 'pelts': 31882, 'penchant': 31883, 'pendse': 31884, 'penguins': 31885, 'peninsula': 31886, 'pensioner': 31887, 'penta': 31888, 'pep': 31889, 'perceives': 31890, 'percussion': 31891, 'peres': 31892, 'periphery': 31893, 'perished': 31894, 'permitting': 31895, 'persistence': 31896, 'persue': 31897, 'perth': 31898, 'pervasive': 31899, 'peshwa': 31900, 'pesky': 31901, 'peugeot': 31902, 'pfrda': 31903, 'phat': 31904, 'philanthropic': 31905, 'philanthropist': 31906, 'phony': 31907, 'photocopies': 31908, 'photogenic': 31909, 'photographing': 31910, 'phullu': 31911, 'physicists': 31912, 'physio': 31913, 'physiotherapist': 31914, 'piaggio': 31915, 'picchu': 31916, 'pidi': 31917, 'pillsbury': 31918, 'piloted': 31919, 'pimp': 31920, 'pimples': 31921, 'pinaka': 31922, 'pind': 31923, 'pindi': 31924, 'pings': 31925, 'pininfarina': 31926, 'pinki': 31927, 'pioneered': 31928, 'pipelines': 31929, 'piping': 31930, 'pisses': 31931, 'pitamaas': 31932, 'pitra': 31933, 'pivotal': 31934, 'placebo': 31935, 'plagiarises': 31936, 'plaguing': 31937, 'planetary': 31938, 'platter': 31939, 'plax': 31940, 'playgrounds': 31941, 'plead': 31942, 'pleases': 31943, 'plebiscite': 31944, 'plotter': 31945, 'plumber': 31946, 'plummets': 31947, 'plundered': 31948, 'plunging': 31949, 'plurality': 31950, 'pluto': 31951, 'pmeac': 31952, 'pmjdy': 31953, 'pmoindia': 31954, 'pmp': 31955, 'pnbscam': 31956, 'pocof1': 31957, 'podcaster': 31958, 'pointsman': 31959, 'pok.': 31960, 'pol': 31961, 'poli': 31962, 'polices': 31963, 'policewomen': 31964, 'polis': 31965, 'polished': 31966, 'politicsnews': 31967, 'pollard': 31968, 'pollen': 31969, 'pollsters': 31970, 'pollutant': 31971, 'poly': 31972, 'polythene': 31973, 'pomfret': 31974, 'pootharekulu': 31975, 'popln': 31976, 'popsicle': 31977, 'poriyal': 31978, 'pornhub.net': 31979, 'pornstars': 31980, 'post-': 31981, 'posthumous': 31982, 'postman': 31983, 'potent': 31984, 'pouch': 31985, 'powerdrift': 31986, 'powerfully': 31987, 'ppas': 31988, 'pranking': 31989, 'prashad': 31990, 'pratishtha': 31991, 'preached': 31992, 'predecessor': 31993, 'prejudiced': 31994, 'premarital': 31995, 'premise': 31996, 'premiums': 31997, 'preps': 31998, 'presidentmukherjee': 31999, 'presley': 32000, 'pressurising': 32001, 'presume': 32002, 'pretends': 32003, 'primevideo': 32004, 'primitive': 32005, 'princes': 32006, 'prinker': 32007, 'prioritised': 32008, 'prioritize': 32009, 'prism': 32010, 'priti': 32011, 'proclaims': 32012, 'proclivity': 32013, 'procreate': 32014, 'productively': 32015, 'proficient': 32016, 'prog': 32017, 'projecting': 32018, 'prolong': 32019, 'prominence': 32020, 'promiscuous': 32021, 'promulgated': 32022, 'pronounces': 32023, 'pronouncing': 32024, 'prop': 32025, 'propagandaposters': 32026, 'propagandist': 32027, 'propagandists': 32028, 'propagated': 32029, 'propping': 32030, 'prosecuting': 32031, 'proverb': 32032, 'proverbs': 32033, 'pruned': 32034, 'psc': 32035, 'psych': 32036, 'psychosis': 32037, 'ptac': 32038, 'ptm': 32039, 'pujas': 32040, 'pulwana': 32041, 'punked': 32042, 'puny': 32043, 'pupils': 32044, 'pups': 32045, 'purged': 32046, 'purified': 32047, 'purifies': 32048, 'purushottam': 32049, 'pushover': 32050, 'puttappa': 32051, 'puttur': 32052, 'pwned': 32053, 'pyjama': 32054, 'pyongyang': 32055, 'pyramidal': 32056, 'qayamat': 32057, 'qoq': 32058, 'quakes': 32059, 'quantities': 32060, 'quarentine': 32061, 'que': 32062, 'queered': 32063, 'quickbooks': 32064, 'quickie': 32065, 'quila': 32066, 'quotes/': 32067, 'quách': 32068, 'r.i.p': 32069, 'r/': 32070, 'r1': 32071, 'r15': 32072, 'r][np': 32073, 'r]i': 32074, 'r]india': 32075, 'r]why': 32076, 'raashi': 32077, 'raaz': 32078, 'rabbits': 32079, 'radicalising': 32080, 'radicalized': 32081, 'radicalizing': 32082, 'radioactivity': 32083, 'raf': 32084, 'rafales': 32085, 'raft': 32086, 'ragas': 32087, 'raghubir': 32088, 'raheem': 32089, 'rahein': 32090, 'railgun': 32091, 'railrestro': 32092, 'railroads': 32093, 'raincoats': 32094, 'raiser': 32095, 'rajagopalachari': 32096, 'rajaram': 32097, 'rajkhowa': 32098, 'rajpal': 32099, 'rakhigarhi': 32100, 'rallied': 32101, 'ramar': 32102, 'ramazan': 32103, 'ramifications': 32104, 'ramoji': 32105, 'ramu': 32106, 'ranade': 32107, 'ranadheeran': 32108, 'ranatunga': 32109, 'ranjeet': 32110, 'ransacked': 32111, 'rapepublicday': 32112, 'rapport': 32113, 'rascalas': 32114, 'rasgulla': 32115, 'rastogi': 32116, 'rastra': 32117, 'ratification': 32118, 'raul': 32119, 'razr': 32120, 'rca': 32121, 'rdio': 32122, 'rdx': 32123, 'reactionary': 32124, 'reactivated': 32125, 'readership': 32126, 'readout': 32127, 'realm': 32128, 'realtors': 32129, 'reapply': 32130, 'reassessment': 32131, 'reassurance': 32132, 'rebooting': 32133, 'rebounds': 32134, 'rebranded': 32135, 'recapture': 32136, 'reccomendations': 32137, 'receptionist': 32138, 'recieve': 32139, 'reclamation': 32140, 'recognizes': 32141, 'reconnect': 32142, 'reconvert': 32143, 'recorder': 32144, 'recounting': 32145, 'recoveries': 32146, 'recreating': 32147, 'rectangular': 32148, 'redirecting': 32149, 'reelection': 32150, 'referenced': 32151, 'reflected': 32152, 'reformation': 32153, 'reformist': 32154, 'refraining': 32155, 'refueling': 32156, 'refunding': 32157, 'rega': 32158, 'regained': 32159, 'regressed': 32160, 'regularise': 32161, 'rehan': 32162, 'reigning': 32163, 'reimbursement': 32164, 'reimbursements': 32165, 'reined': 32166, 'reissue': 32167, 'rejuvenation': 32168, 'relates': 32169, 'relic': 32170, 'relive': 32171, 'relocated': 32172, 'remitting': 32173, 'remuneration': 32174, 'renu': 32175, 'reopened': 32176, 'reorganization': 32177, 'repellant': 32178, 'replays': 32179, 'replicated': 32180, 'reprimanded': 32181, 'reprimands': 32182, 'reptiles': 32183, 'requiem': 32184, 'rescheduling': 32185, 'resell': 32186, 'reselling': 32187, 'reserving': 32188, 'reshaping': 32189, 'resides': 32190, 'resonates': 32191, 'respectful': 32192, 'resurrect': 32193, 'resurrects': 32194, 'retelling': 32195, 'retest': 32196, 'retorts': 32197, 'reunited': 32198, 'reuniting': 32199, 'reverence': 32200, 'revisions': 32201, 'revisits': 32202, 'rewatching': 32203, 'rework': 32204, 'reworking': 32205, 'rewrites': 32206, 'rewrote': 32207, 'reza': 32208, 'ria': 32209, 'richly': 32210, 'richmond': 32211, 'richness': 32212, 'ridership': 32213, 'rifleman': 32214, 'rightful': 32215, 'rigs': 32216, 'riled': 32217, 'rim': 32218, 'ringside': 32219, 'rinkiya': 32220, 'rinku': 32221, 'rioter': 32222, 'riser': 32223, 'riskier': 32224, 'riverbed': 32225, 'rivlin': 32226, 'riyadh': 32227, 'rml': 32228, 'ro+uv': 32229, 'robberies': 32230, 'robe': 32231, 'robo': 32232, 'rockers': 32233, 'rogers': 32234, 'rohtas': 32235, 'roiled': 32236, 'roleplay': 32237, 'rollbackgstonhighedu': 32238, 'rollin': 32239, 'roma': 32240, 'romet': 32241, 'ronit': 32242, 'ronnie': 32243, 'rooh': 32244, 'rourkela': 32245, 'royally': 32246, 'roza': 32247, 'rp': 32248, 'rs.2': 32249, 'rs.25': 32250, 'rsn': 32251, 'rubik': 32252, 'rubika': 32253, 'ruia': 32254, 'ruinous': 32255, 'rukhmabai': 32256, 'rulings': 32257, 'rundown': 32258, 'rung': 32259, 'rupa': 32260, 'rupin': 32261, 'rut': 32262, 'rwanda': 32263, 'rx': 32264, 's.m.': 32265, 's10e': 32266, 's4': 32267, 'saaf': 32268, 'saari': 32269, 'sabina': 32270, 'sabko': 32271, 'sabotaging': 32272, 'sabri': 32273, 'sac': 32274, 'sachet': 32275, 'sadak': 32276, 'sadar': 32277, 'safran': 32278, 'sagan': 32279, 'sahdev': 32280, 'saifuddin': 32281, 'saiyan': 32282, 'sakti': 32283, 'salafi': 32284, 'salah': 32285, 'salient': 32286, 'salinity': 32287, 'saloon': 32288, 'salsa': 32289, 'saltuj': 32290, 'samacharbot': 32291, 'samhati': 32292, 'samuel': 32293, 'samvaad': 32294, 'samvidhaan': 32295, 'sandberg': 32296, 'sanitisation': 32297, 'sanitise': 32298, 'sanitizing': 32299, 'sanity': 32300, 'sanskaar': 32301, 'sanskriti': 32302, 'santacruz': 32303, 'santiago': 32304, 'sanyasi': 32305, 'sapio': 32306, 'saraswathi': 32307, 'sardarji': 32308, 'sashastra': 32309, 'sashi': 32310, 'sata': 32311, 'sathyabama': 32312, 'satpuli': 32313, 'saturated': 32314, 'satypal': 32315, 'saud': 32316, 'sausages': 32317, 'sava': 32318, 'savages': 32319, 'savarna': 32320, 'savdhan': 32321, 'say-': 32322, 'sb': 32323, 'scalable': 32324, 'scam-': 32325, 'scanners': 32326, 'scarier': 32327, 'scg': 32328, 'scheduling': 32329, 'schizophrenic': 32330, 'scholarly': 32331, 'schrodinger': 32332, 'scl': 32333, 'scooppoop': 32334, 'scoreboard': 32335, 'scorpion': 32336, 'scot': 32337, 'screamed': 32338, 'screenplay': 32339, 'scribble': 32340, 'scribbled': 32341, 'scriptwriter': 32342, 'scuttling': 32343, 'sealink': 32344, 'seated': 32345, 'secondhand': 32346, 'sed': 32347, 'sedentary': 32348, 'seduce': 32349, 'seedless': 32350, 'seismic': 32351, 'sekhar': 32352, 'seldom': 32353, 'seltos': 32354, 'selvi': 32355, 'semesters': 32356, 'seminars': 32357, 'sensationalist': 32358, 'sensitisation': 32359, 'sergeant': 32360, 'serious]how': 32361, 'sermon': 32362, 'setia': 32363, 'setter': 32364, 'sewak': 32365, 'sewerage': 32366, 'sewri': 32367, 'sey': 32368, 'shahane': 32369, 'shakya': 32370, 'shalabh': 32371, 'shambhulal': 32372, 'shampoos': 32373, 'shanta': 32374, 'shanties': 32375, 'shaq': 32376, 'shareholder': 32377, 'shareit': 32378, 'shariah': 32379, 'sharon': 32380, 'sharpen': 32381, 'sharpens': 32382, 'sharper': 32383, 'sharukh': 32384, 'shashtri': 32385, 'shawn': 32386, 'shazam': 32387, 'sheeted': 32388, 'shehar': 32389, 'shein': 32390, 'shekar': 32391, 'shelf': 32392, 'sheltering': 32393, 'shera': 32394, 'sheryl': 32395, 'sheth': 32396, 'shirley': 32397, 'shish': 32398, 'shitstorm': 32399, 'shivangi': 32400, 'shivir': 32401, 'shivkumar': 32402, 'shoestring': 32403, 'shoo': 32404, 'shopaholics': 32405, 'shopped': 32406, 'short-': 32407, 'shorten': 32408, 'shortens': 32409, \"should'nt\": 32410, 'shoved': 32411, 'showering': 32412, 'showman': 32413, 'shrank': 32414, 'shravan': 32415, 'shreds': 32416, 'shrimaan': 32417, 'shriya': 32418, 'shrouded': 32419, 'shyama': 32420, 'sic': 32421, 'sidda': 32422, 'siddipet': 32423, 'sidin': 32424, 'sierra': 32425, 'signatories': 32426, 'similarly': 32427, 'simmers': 32428, 'simplifying': 32429, 'singh`s': 32430, 'singhji': 32431, 'sirens': 32432, 'sisodiya': 32433, 'sivakasi': 32434, 'skateboard': 32435, 'skateboarders': 32436, 'skater': 32437, 'skeptics': 32438, 'skillset': 32439, 'skimming': 32440, 'skullcaps': 32441, 'skyrocketed': 32442, 'skyscraper': 32443, 'slackers': 32444, 'slandering': 32445, 'slapp': 32446, 'slays': 32447, 'slcm': 32448, 'sledge': 32449, 'slippage': 32450, 'slomo': 32451, 'slopes': 32452, 'sloppy': 32453, 'slumgods': 32454, 'smackdown': 32455, 'smacked': 32456, 'smacks': 32457, 'smallpox': 32458, 'smarak': 32459, 'smarting': 32460, 'smelling': 32461, 'smiled': 32462, 'smoked': 32463, 'smokin': 32464, 'snakebite': 32465, 'sneaker': 32466, 'sniffs': 32467, 'snoozing': 32468, 'snowball': 32469, 'snowman': 32470, 'soan': 32471, 'soares': 32472, 'socialdistancing': 32473, 'sociology': 32474, 'sodomising': 32475, 'sodomized': 32476, 'sojourn': 32477, 'sol': 32478, 'solih': 32479, 'solitude': 32480, 'solstice': 32481, 'soma': 32482, 'somali': 32483, 'somdev': 32484, 'sonamarg': 32485, 'song|': 32486, 'sonic': 32487, 'sophia': 32488, 'sorabji': 32489, 'sordid': 32490, 'sorghum': 32491, 'sorta': 32492, 'sorting': 32493, 'soulkiks': 32494, 'souvenirs': 32495, 'soya': 32496, 'spacey': 32497, 'spacious': 32498, 'spanning': 32499, 'spas': 32500, 'spawned': 32501, 'spearheaded': 32502, 'specialist+': 32503, 'specified': 32504, 'spectra': 32505, 'speculating': 32506, 'speedpost': 32507, 'spendings': 32508, 'spielberg': 32509, 'spiraling': 32510, 'spiritualism': 32511, 'splash': 32512, 'splashing': 32513, 'spoilt': 32514, 'spoofing': 32515, 'spraying': 32516, 'sprays': 32517, 'sprints': 32518, 'spycam': 32519, 'squabble': 32520, 'srini': 32521, 'srisailam': 32522, 'srs': 32523, 'ssbn': 32524, 'ssc.nic.in': 32525, 'ssn': 32526, 'staffing': 32527, 'staffs': 32528, 'stagnate': 32529, 'stallman': 32530, 'stambha': 32531, 'stanchart': 32532, 'standalone': 32533, 'starters': 32534, 'starves': 32535, 'statisticians': 32536, 'staysafe': 32537, 'steel-': 32538, 'steemit': 32539, 'steers': 32540, 'stefan': 32541, 'steno': 32542, 'stepdaughter': 32543, 'stepfather': 32544, 'stepsetgo': 32545, 'sterilised': 32546, 'stethoscope': 32547, 'stinking': 32548, 'stitch': 32549, 'stoners': 32550, 'stonewalling': 32551, 'stonks': 32552, 'stooping': 32553, 'storypick': 32554, 'storyteller': 32555, 'storytime': 32556, 'storyville': 32557, 'stove': 32558, 'straightforward': 32559, 'strands': 32560, 'strawberry': 32561, 'streaks': 32562, 'streamer': 32563, 'streamers': 32564, 'streep': 32565, 'streetview': 32566, 'streisand': 32567, 'stressing': 32568, 'stretcher': 32569, 'strictest': 32570, 'striker': 32571, 'strikingly': 32572, 'stroll': 32573, 'strongmen': 32574, 'strongroom': 32575, 'stuart': 32576, 'studious': 32577, 'stumble': 32578, 'stunner': 32579, 'stupendous': 32580, 'stupidly': 32581, 'stylist': 32582, 'subba': 32583, 'subbulakshmi': 32584, 'subcontinental': 32585, 'subjecting': 32586, 'subjective': 32587, 'subnationalism': 32588, 'subordinates': 32589, 'subrahmanyam': 32590, 'subrahmanyan': 32591, 'subramanyam': 32592, 'subset': 32593, 'subsidiaries': 32594, 'subsidise': 32595, 'substantiate': 32596, 'subtler': 32597, 'subversion': 32598, 'subverted': 32599, 'succesfully': 32600, 'sudershan': 32601, 'sudhakaran': 32602, 'sufferers': 32603, 'suitors': 32604, 'sujana': 32605, 'sultana': 32606, 'sultanpur': 32607, 'sundry': 32608, 'suneja': 32609, 'sunidhi': 32610, 'sunjwan': 32611, 'sunk': 32612, 'suno': 32613, 'sunscreen': 32614, 'supapowa': 32615, 'suparn': 32616, 'surety': 32617, 'surfers': 32618, 'suriname': 32619, 'surrendering': 32620, 'survivable': 32621, 'suspecting': 32622, 'sussanne': 32623, 'sutak': 32624, 'suyash': 32625, 'sw': 32626, 'swagger': 32627, 'swapped': 32628, 'swarajyamag': 32629, 'swat': 32630, 'swatantra': 32631, 'swetha': 32632, 'swiftkey': 32633, 'swimsuit': 32634, 'syama': 32635, 'sycophants': 32636, 'syllabi': 32637, 'symantec': 32638, 'sympathisers': 32639, 'symptomatic': 32640, 'syncing': 32641, 'syncs': 32642, 'synopsis': 32643, 'syro': 32644, 't.v.': 32645, 'taare': 32646, 'tabloid': 32647, 'tadoba': 32648, 'tailored': 32649, 'tajikistan': 32650, 'takia': 32651, 'taluk': 32652, 'tamannah': 32653, 'tanaji': 32654, 'tandoor': 32655, 'tanishk': 32656, 'tantrum': 32657, 'tanu': 32658, 'tanzanian': 32659, 'tapchief': 32660, 'tapism': 32661, 'targaryen': 32662, 'tarika': 32663, 'tarikh': 32664, 'tarini': 32665, 'tasmac': 32666, 'tatacliq': 32667, 'tatra': 32668, 'tau': 32669, 'taunting': 32670, 'tca': 32671, 'tchjk': 32672, 'tdsat': 32673, 'teak': 32674, 'teal': 32675, 'tearful': 32676, 'teary': 32677, 'techhark': 32678, 'technologists': 32679, 'teddy': 32680, 'teetotalers': 32681, 'teewe': 32682, 'telecasting': 32683, 'teleprompter': 32684, 'teller': 32685, 'tem': 32686, 'templeton': 32687, 'tenancy': 32688, 'tendering': 32689, 'tenki': 32690, 'tentabs': 32691, 'tenterhooks': 32692, 'termite': 32693, 'terrorise': 32694, 'tester': 32695, 'testers': 32696, 'testified': 32697, 'texture': 32698, 'thakker': 32699, 'thalassaemia': 32700, 'thankyou': 32701, 'thappad': 32702, 'thathappened': 32703, 'thaw': 32704, 'thefacteye': 32705, 'theplacardguy': 32706, 'thik': 32707, 'thiruvanathapuram': 32708, 'this_day_in_psychology': 32709, 'thn': 32710, 'thorn': 32711, 'thrillers': 32712, 'throttled': 32713, 'throttles': 32714, 'ths': 32715, 'thunders': 32716, 'tic': 32717, 'ticked': 32718, 'tikki': 32719, 'tikrit': 32720, 'timesofindia': 32721, 'timur': 32722, 'tinnitus': 32723, 'tipple': 32724, 'tipplers': 32725, 'tire': 32726, 'tiruchi': 32727, 'tiruchirappalli': 32728, 'tirunelveli': 32729, 'tiruvallur': 32730, 'tisca': 32731, 'tizen': 32732, 'tj': 32733, 'tlc': 32734, 'tmprss2': 32735, 'tnie': 32736, 'tnpsc': 32737, 'toad': 32738, 'tobago': 32739, 'toda': 32740, 'toils': 32741, 'tokenism': 32742, 'tomo': 32743, 'tomy': 32744, 'tonk': 32745, 'topology': 32746, 'toppling': 32747, 'topyups': 32748, 'torching': 32749, 'torpedo': 32750, 'toshi': 32751, 'toting': 32752, 'touché': 32753, 'touristic': 32754, 'tovino': 32755, 'tow': 32756, 'toymaker': 32757, 'trampling': 32758, 'transactional': 32759, 'transcend': 32760, 'transformational': 32761, 'transformer': 32762, 'transgression': 32763, 'transgressions': 32764, 'transitional': 32765, 'translation-': 32766, 'transmit': 32767, 'transplantation': 32768, 'treadmill': 32769, 'treasurer': 32770, 'triad': 32771, 'triangular': 32772, 'tribunals': 32773, 'trimmed': 32774, 'trinamul': 32775, 'trishuls': 32776, 'trooper': 32777, 'trop': 32778, 'troupe': 32779, 'trps': 32780, 'trustees': 32781, 'tsomgo': 32782, 'tsp': 32783, 'ttp': 32784, 'tubes': 32785, 'tuhin': 32786, 'tukaram': 32787, 'tuli': 32788, 'tumse': 32789, 'tunday': 32790, 'tuplejump': 32791, 'tur': 32792, 'turakhia': 32793, 'turner': 32794, 'twelve': 32795, 'twentieth': 32796, 'twilio': 32797, 'twister': 32798, 'twitter-': 32799, 'tx': 32800, 'ty': 32801, 'typhoon': 32802, 'typos': 32803, 'u-20': 32804, 'u.r.': 32805, 'u20': 32806, 'u23': 32807, 'ua': 32808, 'ucil': 32809, 'udhampur': 32810, 'uganda': 32811, 'ugh': 32812, 'ulcer': 32813, 'uld': 32814, 'ultraman': 32815, 'umashankar': 32816, 'umer': 32817, 'unadkat': 32818, 'unadulterated': 32819, 'unbeatable': 32820, 'unbox': 32821, 'unbreathable': 32822, 'unbroken': 32823, 'unchahar': 32824, 'unclean': 32825, 'uncompleted': 32826, 'uncontrollable': 32827, 'uncover': 32828, 'underdeveloped': 32829, 'underdogs': 32830, 'underestimating': 32831, 'undergone': 32832, 'undernourished': 32833, 'underpass': 32834, 'underscore': 32835, 'understated': 32836, 'undertone': 32837, 'undress': 32838, 'unelected': 32839, 'unexpectedly': 32840, 'unflattering': 32841, 'unfolds': 32842, 'unforgivable': 32843, 'ungrateful': 32844, 'unhone': 32845, 'unify': 32846, 'uninitiated': 32847, 'unintentional': 32848, 'uniqueness': 32849, 'unironically': 32850, 'unison': 32851, 'unki': 32852, 'unlink': 32853, 'unnamed': 32854, 'unofficially': 32855, 'unpredictable': 32856, 'unpunished': 32857, 'unravelling': 32858, 'unreachable': 32859, 'unrelenting': 32860, 'unrestricted': 32861, 'unseasonal': 32862, 'unshackle': 32863, 'unsound': 32864, 'unspeakable': 32865, 'unsubstantiated': 32866, 'unsuspecting': 32867, 'untapped': 32868, 'unwed': 32869, 'unwto': 32870, 'uoh': 32871, 'upend': 32872, 'upgradation': 32873, 'upsssc': 32874, 'upvc': 32875, 'urbanclap': 32876, 'urijit': 32877, 'usages': 32878, 'uscis': 32879, 'usman': 32880, 'utilisation': 32881, 'utorrent': 32882, 'uttered': 32883, 'uyghur': 32884, 'uzbekistan': 32885, 'u’khand': 32886, 'v11': 32887, 'v19': 32888, 'vaayu': 32889, 'vadakayil': 32890, 'vadiyalu': 32891, 'vaginas': 32892, 'vaishnava': 32893, 'vaishnodevi': 32894, 'vampire': 32895, 'vanilla': 32896, 'vanzara': 32897, 'vapasi': 32898, 'vapsi': 32899, 'varadkar': 32900, 'varansi': 32901, 'varghese': 32902, 'variables': 32903, 'varman': 32904, 'varna': 32905, 'vasava': 32906, 'vase': 32907, 'vashisht': 32908, 'vashishtha': 32909, 'vastu-': 32910, 'vatal': 32911, 'vaughan': 32912, 'vdo': 32913, 'vedanti': 32914, 'veerappan': 32915, 'veers': 32916, 'vega': 32917, 'vegrecipe.in': 32918, 'vehicular': 32919, 'venezuelan': 32920, 'vengers': 32921, 'venkateswara': 32922, 'venn': 32923, 'vents': 32924, 'vera': 32925, 'verifiable': 32926, 'verna': 32927, 'vetiver': 32928, 'vetoed': 32929, 'vfm': 32930, 'vibgyor': 32931, 'vibrations': 32932, 'vicco': 32933, 'vicks': 32934, 'videograph': 32935, 'videsh': 32936, 'vidhayak': 32937, 'vidhu': 32938, 'vidit': 32939, 'vignettes': 32940, 'vijai': 32941, 'vijaynagar': 32942, 'vikramjit': 32943, 'vilify': 32944, 'villiers': 32945, 'viola': 32946, 'visaranai': 32947, 'vishva': 32948, 'vistadome': 32949, 'vita': 32950, 'vitriol': 32951, 'vive': 32952, 'vividh': 32953, 'vizhinjam': 32954, 'vlc': 32955, 'vlsi': 32956, 'vm': 32957, 'vmr': 32958, 'vocally': 32959, 'voctronica': 32960, 'volcanic': 32961, 'voltas': 32962, 'vomit': 32963, 'vomiting': 32964, 'vooc': 32965, 'voot': 32966, 'voyager': 32967, 'vps': 32968, 'vrooms': 32969, 'vsnl': 32970, 'vying': 32971, 'và': 32972, 'về': 32973, 'w.e.f': 32974, 'wadkar': 32975, 'waglenikhil': 32976, 'wagons': 32977, 'wahh': 32978, 'wajah': 32979, 'wallah': 32980, 'walled': 32981, 'wandering': 32982, 'wanderlust': 32983, 'wanton': 32984, 'waqar': 32985, 'wardha': 32986, 'ware': 32987, 'warzone': 32988, 'waseem': 32989, 'wastewater': 32990, 'watchdogs': 32991, 'watermelon': 32992, 'watson': 32993, 'waziristan': 32994, 'wazirx': 32995, 'wcgw': 32996, 'weakens': 32997, 'weary': 32998, 'webcomic': 32999, 'wedge': 33000, 'wedlock': 33001, 'wee': 33002, 'weeds': 33003, 'weep': 33004, 'weeping': 33005, 'weibo': 33006, 'weirdo': 33007, 'welp': 33008, 'westernization': 33009, 'westernized': 33010, 'westworld': 33011, 'wettest': 33012, 'whack': 33013, 'whatapp': 33014, 'whisker': 33015, 'whispers': 33016, 'whistleblowers': 33017, 'whiteboard': 33018, 'whiter': 33019, 'wholly': 33020, 'whore': 33021, 'widget': 33022, 'wields': 33023, 'wills': 33024, 'willy': 33025, 'winfrey': 33026, 'winged': 33027, 'wipeout': 33028, 'wiring': 33029, 'wisconsin': 33030, 'wishers': 33031, 'wits': 33032, 'woe': 33033, 'wohi': 33034, 'womensday': 33035, 'woocommerce': 33036, 'worded': 33037, 'workable': 33038, 'workaholic': 33039, 'worldcup2019': 33040, 'worldview': 33041, 'wrecks': 33042, 'wrestle': 33043, 'wrytin': 33044, 'wtd2017': 33045, 'www.businesskahani.com': 33046, 'www.msrajconstruction.com': 33047, 'x.': 33048, 'x1600': 33049, 'x20': 33050, 'ximb': 33051, 'xiv': 33052, 'xlri': 33053, 'xpose': 33054, 'xprize': 33055, 'xx': 33056, 'yah': 33057, 'yahan': 33058, 'yahi': 33059, 'yamraj': 33060, 'yards': 33061, 'yariyaan': 33062, 'yashodhara': 33063, 'yawn': 33064, 'yeezy': 33065, 'yells': 33066, 'yesbank': 33067, 'yesterdays': 33068, 'yesteryear': 33069, 'yielding': 33070, 'yogesh': 33071, 'yogiji': 33072, 'yogita': 33073, 'yogurt': 33074, 'yourstory': 33075, 'youtu.be': 33076, 'yuan': 33077, 'yuki': 33078, 'yup': 33079, 'yuval': 33080, 'zahran': 33081, 'zakirkhanquotes': 33082, 'zardari': 33083, 'zealots': 33084, 'zeenat': 33085, 'zenphone': 33086, 'zila': 33087, 'zionism': 33088, 'zoketyme': 33089, 'zong': 33090, 'zoological': 33091, 'zor': 33092, 'zostel': 33093, 'zulpikar': 33094, 'zyada': 33095, '|#asneverb4': 33096, '¯\\\\_(ツ)_/¯': 33097, 'تو': 33098, 'خان': 33099, 'رقص': 33100, 'نہیں': 33101, 'پاکستان': 33102, 'کر': 33103, 'کرنے': 33104, 'کچھ': 33105, 'अंबानी': 33106, 'अक्षय': 33107, 'अच्छी': 33108, 'अध्यक्ष': 33109, 'अनमोल': 33110, 'अनुसार': 33111, 'अन्यथा': 33112, 'अफसर': 33113, 'अभ्यर्थी': 33114, 'अयोध्या': 33115, 'अर्जुन': 33116, 'अर्थ': 33117, 'आग': 33118, 'आठ': 33119, 'आतंकवाद': 33120, 'आते': 33121, 'आधिकारिक': 33122, 'आलू': 33123, 'आश्रम': 33124, 'इंटरव्यू': 33125, 'इंडियन': 33126, 'इनकी': 33127, 'इलाज': 33128, 'इसके': 33129, 'इससे': 33130, 'ईवीएम': 33131, 'उड़ाया': 33132, 'एक्ट्रेस': 33133, 'एक्सप्रेस': 33134, 'एयरपोर्ट': 33135, 'ऐ': 33136, 'ऑफर': 33137, 'कंपनी': 33138, 'कदम': 33139, 'कन्या': 33140, 'कप': 33141, 'कमा': 33142, 'कमाएं': 33143, 'कमी': 33144, 'कमेंट': 33145, 'करीब': 33146, 'करेंi': 33147, 'करेगा': 33148, 'करोड़पति': 33149, 'करोड़': 33150, 'कर्म': 33151, 'कर्मियों': 33152, 'कहां': 33153, 'कार': 33154, 'केंद्रीय': 33155, 'केदारनाथ': 33156, 'केरल': 33157, 'कैद': 33158, 'कैबिनेट': 33159, 'कॉलेज': 33160, 'कोर्स': 33161, 'कोहली': 33162, 'क्योंकि': 33163, 'खड़े': 33164, 'खाने': 33165, 'खुश': 33166, 'गंगा': 33167, 'गये': 33168, 'गर्मी': 33169, 'गलतियां': 33170, 'गुप्त': 33171, 'गोरा': 33172, 'ग्रहण': 33173, 'घरेलु': 33174, 'घोषणा': 33175, 'चर्चा': 33176, 'चलना': 33177, 'चला': 33178, 'चाहती': 33179, 'चेहरे': 33180, 'चैनल': 33181, 'चोटी': 33182, 'चोर': 33183, 'छोटा': 33184, 'जगत': 33185, 'जरूरी': 33186, 'ज़ोमैटो': 33187, 'जानने': 33188, 'जापान': 33189, 'जाये': 33190, 'जिंदगी': 33191, 'जिनके': 33192, 'जिम्मेदार': 33193, 'जियो': 33194, 'जिले': 33195, 'जिसने': 33196, 'जुलाई': 33197, 'जैसे': 33198, 'टैक्स': 33199, 'ट्रंप': 33200, 'ट्विटर': 33201, 'डरे': 33202, 'डांस': 33203, 'डाटा': 33204, 'डे': 33205, 'तथा': 33206, 'तय': 33207, 'तस्वीरें': 33208, 'तहत': 33209, 'तिरंगा': 33210, 'तुम्हारी': 33211, 'तुरंत': 33212, 'तोहफा': 33213, 'थीं': 33214, 'दम': 33215, 'दमदार': 33216, 'दवा': 33217, 'दस': 33218, 'दाखिल': 33219, 'दिखाया': 33220, 'दिमाग': 33221, 'दिवाली': 33222, 'देखिए': 33223, 'देखी': 33224, 'देशों': 33225, 'दोनों': 33226, 'धमाका': 33227, 'धरती': 33228, 'धारा': 33229, 'नंगा': 33230, 'नमक': 33231, 'निकले': 33232, 'निजी': 33233, 'निदेशक': 33234, 'निर्णय': 33235, 'निर्वाचन': 33236, 'नोटिस': 33237, 'नौ': 33238, 'न्याय': 33239, 'प': 33240, 'पत्थर': 33241, 'पदों': 33242, 'पप्पू': 33243, 'परिणाम': 33244, 'पहचान': 33245, 'पहुंची': 33246, 'पाओगे': 33247, 'पात्रा': 33248, 'पिटाई': 33249, 'पुराने': 33250, 'पैदा': 33251, 'प्रक्रिया': 33252, 'प्रति': 33253, 'प्रमाण': 33254, 'प्रसाद': 33255, 'प्रारूप': 33256, 'प्रियंका': 33257, 'प्रेम': 33258, 'प्लान': 33259, 'प्लास्टिक': 33260, 'पड़े': 33261, 'पड़ेगा': 33262, 'फरमान': 33263, 'फर्जी': 33264, 'फुल': 33265, 'फॉर्म': 33266, 'बजरंग': 33267, 'बनाते': 33268, 'बनेंगे': 33269, 'बम्पर': 33270, 'बलात्कार': 33271, 'बहस': 33272, 'बाल': 33273, 'बीटीसी': 33274, 'बीमा': 33275, 'बेहद': 33276, 'बोली': 33277, 'बोले-': 33278, 'भरे': 33279, 'भाग': 33280, 'भाभी': 33281, 'भावुक': 33282, 'भाषा': 33283, 'भीड़': 33284, 'भूल': 33285, 'मंगलवार': 33286, 'मजबूत': 33287, 'मजा': 33288, 'मतलब': 33289, 'मदद': 33290, 'मन्त्र': 33291, 'मन्दि': 33292, 'महाशिवरात्रि': 33293, 'महिलाएं': 33294, 'मांगी': 33295, 'मात्र': 33296, 'माध्यम': 33297, 'मान': 33298, 'मानदेय': 33299, 'मानव': 33300, 'मारे': 33301, 'मार्कशीट': 33302, 'मास': 33303, 'मुख्य': 33304, 'मूर्ति': 33305, 'मेट्रो': 33306, 'मेल': 33307, 'मौके': 33308, 'यात्री': 33309, 'यूनिवर्सिटी': 33310, 'रक्षा': 33311, 'रखें': 33312, 'रत्न': 33313, 'रमन': 33314, 'रहना': 33315, 'रहेगी': 33316, 'राजा': 33317, 'राय': 33318, 'राष्ट्र': 33319, 'रिफंड': 33320, 'रिश्ता': 33321, 'रूपये': 33322, 'रोज': 33323, 'लगता': 33324, 'लगाए': 33325, 'लव': 33326, 'लाइन': 33327, 'लाइव': 33328, 'लागू': 33329, 'लिंक': 33330, 'लिख': 33331, 'लिखा': 33332, 'लिखी': 33333, 'लें': 33334, 'लेना': 33335, 'लैपटॉप': 33336, 'लोटपोट': 33337, 'वरना': 33338, 'वा': 33339, 'विचार': 33340, 'विज्ञापन': 33341, 'विपक्ष': 33342, 'विवाद': 33343, 'शब्दों': 33344, 'शिकार': 33345, 'शिवसेना': 33346, 'शीर्ष': 33347, 'शेयर': 33348, 'संपर्क': 33349, 'संबित': 33350, 'संस्कृति': 33351, 'सचिव': 33352, 'सबका': 33353, 'सब्सक्राइब': 33354, 'समृद्धि': 33355, 'समेत': 33356, 'सम्मान': 33357, 'सर': 33358, 'सहयोग': 33359, 'सही': 33360, 'साझा': 33361, 'साधा': 33362, 'सामान्य': 33363, 'सिविल': 33364, 'सीखें': 33365, 'सुंदर': 33366, 'सुन': 33367, 'सुनिए': 33368, 'सुपरहिट': 33369, 'सूची': 33370, 'सैनिक': 33371, 'सो': 33372, 'सोते': 33373, 'सोशल': 33374, 'सौ': 33375, 'स्मार्टफोन': 33376, 'स्वराज': 33377, 'स्वागत': 33378, 'स्वादिष्ट': 33379, 'हँसते': 33380, 'हंगामा': 33381, 'हजारों': 33382, 'हरियाणा': 33383, 'हवाई': 33384, 'हाँ': 33385, 'हाई': 33386, 'हादसा': 33387, 'हामिद': 33388, 'हाल': 33389, 'हालत': 33390, 'है|': 33391, 'हों': 33392, 'होश': 33393, 'ॐ': 33394, 'ख़त्म': 33395, '२०१९': 33396, 'আপনার': 33397, 'আমার': 33398, 'করতে': 33399, 'করবেন': 33400, 'করা': 33401, 'করেছে': 33402, 'গান': 33403, 'জন': 33404, 'টাকা': 33405, 'টি': 33406, 'দেখুন': 33407, 'দেখে': 33408, 'দেহ': 33409, 'নিন': 33410, 'নির্বাচনে': 33411, 'নিয়ে': 33412, 'ভাবে': 33413, 'ভিডিও': 33414, 'রাজ্য': 33415, 'হবে': 33416, '১': 33417, '২০২০': 33418, '৩': 33419, 'అదిగో': 33420, 'ఎలుక': 33421, 'కథలు': 33422, 'కాకి': 33423, 'కొంగలు': 33424, 'జున్ను': 33425, 'తాబేలు': 33426, 'పిల్లి': 33427, 'పులి': 33428, 'శుభాకాంక్షలు': 33429, 'ಠ_ಠ': 33430, '‘s': 33431, '\\u202c': 33432, '\\u2063': 33433, '₹11': 33434, '₹15': 33435, '₹150': 33436, '₹30': 33437, '₹300': 33438, '₹32,999': 33439, '₹6': 33440, '₹8': 33441, '₹999': 33442, '│': 33443, '●': 33444, '⬇': 33445, '【': 33446, '🇺': 33447, '🌸': 33448, '🌹': 33449, '🎤': 33450, '🎨': 33451, '🎵': 33452, '🐢': 33453, '👊': 33454, '👨': 33455, '💐': 33456, '💙': 33457, '💜': 33458, '💟': 33459, '📸': 33460, '🕳': 33461, '😌': 33462, '😴': 33463, '🛑': 33464, '🤘': 33465, '\\U0001f92f': 33466, '\\U0001f97a': 33467, \"'coz\": 33468, '--&gt': 33469, '-20': 33470, '-2018': 33471, '-latest': 33472, '-part': 33473, '-valvoline': 33474, '.@narendramodi': 33475, '.i': 33476, '.what': 33477, '/-': 33478, '0.05': 33479, '0.8': 33480, '0.9': 33481, '01st': 33482, '02/08/2014': 33483, '02/12/2016': 33484, '03/11/2017': 33485, '03/12/2014': 33486, '04/07/2014': 33487, '04/10/2014': 33488, '04pm': 33489, '05/03/2015': 33490, '06/02/2015': 33491, '06/03/2015': 33492, '07/03/2015': 33493, '07/04/2020': 33494, '07/08/16': 33495, '08/03/2015': 33496, '09/03/2015': 33497, '095': 33498, '0:45': 33499, '1,000-crore': 33500, '1,120': 33501, '1,199': 33502, '1,24,000': 33503, '1,260': 33504, '1,360': 33505, '1,399': 33506, '1,50,000': 33507, '1-billion': 33508, '1.13': 33509, '1.17': 33510, '1.19': 33511, '1.20': 33512, '1.31': 33513, '1.32': 33514, '1.40': 33515, '1.42': 33516, '1.50': 33517, '1.52': 33518, '1.54': 33519, '1.60': 33520, '1.71': 33521, '1.72': 33522, '1.78': 33523, '1.82': 33524, '1.85': 33525, '1.93': 33526, '10,000-crore': 33527, '10,300': 33528, '10,800': 33529, '10-dec': 33530, '10.2': 33531, '10.4': 33532, '10.6': 33533, '10/07/2014': 33534, '100-ft': 33535, '100-metre': 33536, '1000/500': 33537, '1000₹': 33538, '101-year': 33539, '1058': 33540, '1068': 33541, '107-year': 33542, '108th': 33543, '10e': 33544, '10l': 33545, '10rs': 33546, '10yearchallenge': 33547, '10×4': 33548, '10वीं': 33549, '11,400': 33550, '11,999': 33551, '11.8': 33552, '11/06/2014': 33553, '111th': 33554, '11:55': 33555, '12,600': 33556, '12-nov-2016': 33557, '12.4': 33558, '12.9': 33559, '12/03/2015': 33560, '122nd': 33561, '125,000': 33562, '125th': 33563, '128-year': 33564, '1280x720': 33565, '12:30': 33566, '13,860': 33567, '13,999': 33568, '13-inch': 33569, '13.5': 33570, '13.6': 33571, '13/06/2014': 33572, '13/12/2014': 33573, '1320': 33574, '1334': 33575, '136th': 33576, '13k': 33577, '13mp': 33578, '14.8': 33579, '14/03/2015': 33580, '1434': 33581, '143rd': 33582, '1440x1800': 33583, '1448': 33584, '1450': 33585, '14k': 33586, '15-': 33587, '15-hour': 33588, '15/09/2017': 33589, '150-year': 33590, '150cc': 33591, '1536': 33592, '1536x2048': 33593, '158th': 33594, '159': 33595, '16.5': 33596, '16/02/2015': 33597, '17.5': 33598, '1738': 33599, '174': 33600, '18-hour': 33601, '18-month': 33602, '18/04/2014': 33603, '1818': 33604, '1820': 33605, '1843': 33606, '1860': 33607, '1876': 33608, '1896': 33609, '18k': 33610, '19,990': 33611, '19.4': 33612, '19.5': 33613, '19/03/2015': 33614, '19/11/2014': 33615, '19000': 33616, '1903': 33617, '1915': 33618, '1916': 33619, '1924': 33620, '1925': 33621, '198': 33622, '1gb': 33623, '1rs': 33624, '1star': 33625, '1|': 33626, '2,19,000': 33627, '2,200': 33628, '2,226': 33629, '2,50,000': 33630, '2,500-km': 33631, '2.18': 33632, '2.64': 33633, '2.67': 33634, '2.86': 33635, '2.87': 33636, '2.89': 33637, '2.99': 33638, '2/2': 33639, '20-minute': 33640, '20/02/2015': 33641, '20/03/2015': 33642, '200-year': 33643, '2000-rupee': 33644, '2000/-': 33645, '200rs': 33646, '200th': 33647, '2019/20': 33648, '2024)-6wresearch': 33649, '2031': 33650, '205': 33651, '2073': 33652, '2074': 33653, '21/02/2015': 33654, '21/06/2014': 33655, '212': 33656, '214': 33657, '22.5': 33658, '22.aug.2014': 33659, '22/03/2015': 33660, '222': 33661, '2340': 33662, '24000': 33663, '240p': 33664, '241': 33665, '24mp': 33666, '25.5': 33667, '25/03/2015': 33668, '250-million': 33669, '254': 33670, '258': 33671, '26.4': 33672, '26/02/2015': 33673, '266': 33674, '27/10/2017': 33675, '27cr': 33676, '28,900': 33677, '28.7cr': 33678, '28/04/2014': 33679, '28/3/2014': 33680, '28f': 33681, '29.3cr': 33682, '29.7': 33683, '2900': 33684, '292': 33685, '2920': 33686, '293': 33687, '298': 33688, '2:00': 33689, '2bn': 33690, '2cr': 33691, '2rsppl': 33692, '2xl': 33693, '2|': 33694, '3,310': 33695, '3,999': 33696, '3-fold': 33697, '3-language': 33698, '3-storey': 33699, '3.25': 33700, '3.75': 33701, '3.77': 33702, '3.85': 33703, '3/4th': 33704, '30,659': 33705, '30-day': 33706, '30-dec': 33707, '30-yr': 33708, '300rs': 33709, '301': 33710, '30cr': 33711, '30ml': 33712, '31-jan-1948': 33713, '31-year': 33714, '32-yr': 33715, '3200': 33716, '327': 33717, '330million': 33718, '333': 33719, '336': 33720, '338': 33721, '339': 33722, '342': 33723, '344': 33724, '345': 33725, '348': 33726, '35000': 33727, '351': 33728, '352': 33729, '353': 33730, '359': 33731, '363': 33732, '3700': 33733, '382': 33734, '384': 33735, '39,999': 33736, '398': 33737, '3996×2996': 33738, '3c': 33739, '3i': 33740, '4.30': 33741, '400-year': 33742, '401k': 33743, '403': 33744, '405': 33745, '408': 33746, '409': 33747, '41216114': 33748, '41520': 33749, '42-year': 33750, '4200': 33751, '421': 33752, '425': 33753, '428': 33754, '429': 33755, '431': 33756, '435': 33757, '43rd': 33758, '44,000': 33759, '441': 33760, '443': 33761, '448': 33762, '4500/-': 33763, '453': 33764, '46th': 33765, '47,000': 33766, '478': 33767, '479': 33768, '49,000': 33769, '497': 33770, '498': 33771, '499/500': 33772, '4billion': 33773, '4cr': 33774, '4g/3': 33775, '4wd': 33776, '5,100': 33777, '5,700': 33778, '5,800': 33779, '5-inch': 33780, '5-point': 33781, '5.9': 33782, '50-yr': 33783, '50.5': 33784, '500-cr': 33785, '500/1,000': 33786, '500₹': 33787, '50252': 33788, '503': 33789, '504': 33790, '52,000': 33791, '52.7': 33792, '520': 33793, '525': 33794, '526': 33795, '529': 33796, '537': 33797, '54-year': 33798, '540cr': 33799, '543': 33800, '547': 33801, '55-year': 33802, '55-yr': 33803, '550th': 33804, '56,700': 33805, '560': 33806, '568': 33807, '57,000': 33808, '578': 33809, '58-year': 33810, '58.4': 33811, '5:00': 33812, '5d': 33813, '5g': 33814, '5pm': 33815, '5z': 33816, \"6'2\": 33817, '6,300': 33818, '6-hour': 33819, '6-yr': 33820, '6.0': 33821, '6.30': 33822, '6.84': 33823, '60-day': 33824, '614,872': 33825, '6143': 33826, '617': 33827, '618': 33828, '62-yr': 33829, '629': 33830, '62nd': 33831, '630': 33832, '637': 33833, '6400': 33834, '64000': 33835, '647': 33836, '648': 33837, '649': 33838, '64th': 33839, '6500': 33840, '66,000': 33841, '6600': 33842, '663': 33843, '665': 33844, '66a.': 33845, '67-year': 33846, '68,500': 33847, '68-year': 33848, '6a': 33849, '6am': 33850, '6l': 33851, '6pm': 33852, '7-day': 33853, '7-eleven': 33854, '7-judge': 33855, '7.0': 33856, '7.25': 33857, '7.30': 33858, '70000': 33859, '7000cr': 33860, '71,941': 33861, '710': 33862, '750d': 33863, '7700': 33864, '7757': 33865, '778': 33866, '784': 33867, '786': 33868, '792': 33869, '8.7': 33870, '8003125852': 33871, '803': 33872, '80:20': 33873, '81,000': 33874, '81-year': 33875, '814': 33876, '824': 33877, '827': 33878, '82nd': 33879, '840': 33880, '845': 33881, '857': 33882, '85k': 33883, '860': 33884, '877': 33885, '880': 33886, '88th': 33887, '8999': 33888, '8d': 33889, '9,500': 33890, '9,806': 33891, '9-an': 33892, '9-minute': 33893, '9-to-5': 33894, '9.0': 33895, '9.15': 33896, '9.3': 33897, '9.9': 33898, '900,000': 33899, '90000': 33900, '9001': 33901, '911': 33902, '92168': 33903, '93.5': 33904, '940': 33905, '96-year': 33906, '963': 33907, '97,000': 33908, '980': 33909, '9814083014': 33910, '9872411677': 33911, '99-year': 33912, '991': 33913, '9986444806': 33914, '99:1': 33915, '9:00': 33916, ':3': 33917, ';_;': 33918, '@aajtak': 33919, '@aashishkhetan': 33920, '@algebra': 33921, '@altnews': 33922, '@arvindsubraman': 33923, '@bcci': 33924, '@bdutt': 33925, '@bjp4karnataka': 33926, '@chandrarsrikant': 33927, '@ddnational': 33928, '@economictimes': 33929, '@indiahistorypic': 33930, '@indiannavy': 33931, '@mmdvv': 33932, '@nandannilekani': 33933, '@newssting1': 33934, '@potus': 33935, '@prakashjavdekar': 33936, '@rahulkanwal': 33937, '@ranaayyub': 33938, '@realdonaldtrump': 33939, '@reuterstv': 33940, '@sambitswaraj': 33941, '@shamiwitness': 33942, '@siddaramaiah': 33943, '@sifydotcom': 33944, '@statedeptspox': 33945, '@theeconomist': 33946, '@yadavakhilesh': 33947, 'a**holes': 33948, 'a+': 33949, 'a.g.': 33950, 'a.m': 33951, 'a18': 33952, 'a30': 33953, 'a6400': 33954, 'aaand': 33955, 'aabasoft': 33956, 'aadhaarleaks': 33957, 'aagaya': 33958, 'aakar': 33959, 'aandhi': 33960, 'aapas': 33961, 'aaps': 33962, 'aarambh': 33963, 'aasra': 33964, 'aau': 33965, 'aayi': 33966, 'abacus': 33967, 'abandonment': 33968, 'abap': 33969, 'abates': 33970, 'abba': 33971, 'abbotsford': 33972, 'abbottabad': 33973, 'abcdesis': 33974, 'abcds': 33975, 'abducting': 33976, 'abductors': 33977, 'abdulla': 33978, 'abetted': 33979, 'abhimanu': 33980, 'abhisar': 33981, 'abilities': 33982, 'aborts': 33983, 'abpnewstv': 33984, 'abrupt': 33985, 'absolves': 33986, 'absorb': 33987, 'abstain': 33988, 'abut': 33989, 'academy-': 33990, 'accelerated': 33991, 'accelerates': 33992, 'accommodated': 33993, 'accomplishments': 33994, 'accordingly': 33995, 'accosted': 33996, 'accustomed': 33997, 'acharyulu': 33998, 'achcha': 33999, 'achin': 34000, 'acidity': 34001, 'acing': 34002, 'acknowledgement': 34003, 'acronyms': 34004, 'actionaid': 34005, 'acupuncture': 34006, 'adaalo': 34007, 'adaptability': 34008, 'adapters': 34009, 'adarshliberal': 34010, 'adblockers': 34011, 'adc': 34012, 'addhar': 34013, 'addictions': 34014, 'adele': 34015, 'adept': 34016, 'adequately': 34017, 'adhik': 34018, 'adhikar': 34019, 'adilabad': 34020, 'adityanaths': 34021, 'adiyogi': 34022, 'adjournments': 34023, 'adjusts': 34024, 'adman': 34025, 'admirer': 34026, 'admires': 34027, 'admk': 34028, 'admob': 34029, 'adolescence': 34030, 'adolescents': 34031, 'adored': 34032, 'adorn': 34033, 'adrenal': 34034, 'adulation': 34035, 'advancing': 34036, 'adverb': 34037, 'adversary': 34038, 'adwords': 34039, 'aeps': 34040, 'aerobatics': 34041, 'aerocity': 34042, 'aesthetically': 34043, 'aesthetics': 34044, 'afdb': 34045, 'afi': 34046, 'afreen': 34047, 'afsana': 34048, 'afshan': 34049, 'afterlife': 34050, 'aftermovie': 34051, 'afza': 34052, 'agarbatti': 34053, 'agate': 34054, 'agatha': 34055, 'aggravates': 34056, 'aggrieved': 34057, 'agile': 34058, 'agitates': 34059, 'agle': 34060, 'agli': 34061, 'agnst': 34062, 'agrahara': 34063, 'agriculturally': 34064, 'ahamed': 34065, 'ahem': 34066, 'ahemadabad': 34067, 'ahmer': 34068, 'aibknockout': 34069, 'aiboc': 34070, 'aigiri': 34071, 'aiib': 34072, 'aik': 34073, 'aind': 34074, 'aires': 34075, 'airlifts': 34076, 'airoli': 34077, 'airplanes': 34078, 'airpocalypse': 34079, 'airtime': 34080, 'aishbagh': 34081, 'ajaz': 34082, 'ajeet': 34083, 'aji': 34084, 'ajitpawar': 34085, 'ajl': 34086, 'ak-47s': 34087, 'ak-49': 34088, 'ak47': 34089, 'akhila': 34090, 'akira': 34091, 'akistan': 34092, 'akram': 34093, 'aksa': 34094, 'akshat': 34095, 'akula': 34096, 'alaknanda': 34097, 'alan': 34098, 'alarmed': 34099, 'alarms': 34100, 'alcatel': 34101, 'alert-': 34102, 'alerting': 34103, 'algerian': 34104, 'alh': 34105, 'alibag': 34106, 'alienating': 34107, 'alight': 34108, 'alipore': 34109, 'alla': 34110, 'allahbad': 34111, 'allama': 34112, 'allay': 34113, 'allepey': 34114, 'alleviating': 34115, 'alloy': 34116, 'alloys': 34117, 'allphones': 34118, 'allure': 34119, 'allying': 34120, 'alma': 34121, 'almighty': 34122, 'aloft': 34123, 'aloud': 34124, 'alpine': 34125, 'altering': 34126, 'alters': 34127, 'alum': 34128, 'aluva': 34129, 'alyssa': 34130, 'amalgamation': 34131, 'amaresh': 34132, 'amazon[np': 34133, 'ambari': 34134, 'ambivalent': 34135, 'amboli': 34136, 'amcat': 34137, 'amdavad': 34138, 'americas': 34139, 'amex': 34140, 'amg': 34141, 'amicably': 34142, 'amirite': 34143, 'amisha': 34144, 'amitbhai': 34145, 'amith': 34146, 'ammal': 34147, 'ammendment': 34148, 'amp;christian': 34149, 'amplifier': 34150, 'amra': 34151, 'amraam': 34152, 'amreeka': 34153, 'amritraj': 34154, 'amte': 34155, 'amur': 34156, 'ana': 34157, 'anaconda': 34158, 'anaj': 34159, 'analogue': 34160, 'analytical': 34161, 'analyzing': 34162, 'anandan': 34163, 'anandi': 34164, 'anarchists': 34165, 'andamanese': 34166, 'andha': 34167, 'andhrapradesh': 34168, 'andhras': 34169, 'angad': 34170, 'angkor': 34171, 'anglians': 34172, 'anglicized': 34173, 'angrez': 34174, 'animations': 34175, 'aniruddha': 34176, 'anjan': 34177, 'ankle': 34178, 'ankola': 34179, 'annoys': 34180, 'anoint': 34181, 'anshula': 34182, 'answerable': 34183, 'antebellum': 34184, 'antenna': 34185, 'anthropologists': 34186, 'anthropology': 34187, 'anticaaprotests': 34188, 'anticipating': 34189, 'antimicrobial': 34190, 'antiquated': 34191, 'antisocial': 34192, 'antoinette': 34193, 'anuradha': 34194, 'apco': 34195, 'apostate': 34196, 'apostille': 34197, 'apostle': 34198, 'app-': 34199, 'appalled': 34200, 'appraisals': 34201, 'apprehends': 34202, 'appropriates': 34203, 'appropriating': 34204, 'approver': 34205, 'aprilia': 34206, 'aptronix': 34207, 'apurva': 34208, 'aqis': 34209, 'aranya': 34210, 'aravali': 34211, 'arbitrage': 34212, 'argentine': 34213, 'argon': 34214, 'aria': 34215, 'aries': 34216, 'armageddon': 34217, 'armar': 34218, 'armenian': 34219, 'arnav': 34220, 'arnob': 34221, 'aroma': 34222, 'aromatic': 34223, 'arranges': 34224, 'arre': 34225, 'arsonist': 34226, 'artisan': 34227, 'artistically': 34228, 'arup': 34229, 'arxiv': 34230, 'asbe': 34231, 'ascend': 34232, 'asf': 34233, 'ashokamitran': 34234, 'asiad': 34235, 'asiangames2014': 34236, 'asima': 34237, 'asit': 34238, 'ask][np': 34239, 'ask]are': 34240, 'ask]is': 34241, 'askaib': 34242, 'askindia][help': 34243, 'askindia]are': 34244, 'askindia]career': 34245, 'askindia]r': 34246, 'aslan': 34247, 'asmita': 34248, 'assa': 34249, 'assad': 34250, 'assaulter': 34251, 'assemblyelections': 34252, 'assert': 34253, 'assessees': 34254, 'assistive': 34255, 'associating': 34256, 'assuage': 34257, 'assualted': 34258, 'astha': 34259, 'astoundingly': 34260, 'astrologist': 34261, 'astu': 34262, 'asura': 34263, 'aswekeepsearching': 34264, 'atharva': 34265, 'athavale': 34266, 'athens': 34267, 'athwal': 34268, 'atre': 34269, 'attributing': 34270, 'audiobook': 34271, 'audited': 34272, \"aug'19\": 34273, 'aulakh': 34274, 'aunts': 34275, 'ausvind': 34276, 'authoritative': 34277, 'authorization': 34278, 'autodesk': 34279, 'automaker': 34280, 'automate': 34281, 'autotune': 34282, 'autowallahs': 34283, 'avenging': 34284, 'avijit': 34285, 'avionics': 34286, 'avtar': 34287, 'aw': 34288, 'awacs': 34289, 'awkwarddev': 34290, 'ayn': 34291, 'ayonika': 34292, 'ayres': 34293, 'aysha': 34294, 'ayyadurai': 34295, 'az': 34296, 'azma': 34297, 'b&amp;d': 34298, 'b&amp;w': 34299, \"b'desh\": 34300, 'b*tch': 34301, 'b2': 34302, 'b5': 34303, 'baa2': 34304, 'baadal': 34305, 'baaki': 34306, 'baani': 34307, 'baarish': 34308, 'babydoll': 34309, 'bach': 34310, 'bachi': 34311, 'backchodi': 34312, 'backdated': 34313, 'backpacked': 34314, 'backpackers': 34315, 'backseat': 34316, 'backtrack': 34317, 'backyards': 34318, 'bactrian': 34319, 'badam': 34320, 'badbu': 34321, 'badle': 34322, 'baffle': 34323, 'bagchi': 34324, 'bahumat': 34325, 'bains': 34326, 'baised': 34327, 'baithak': 34328, 'baithenge': 34329, 'baja': 34330, 'bakhts': 34331, 'bakwaas': 34332, 'balamuralikrishna': 34333, 'balangir': 34334, 'baldev': 34335, 'baldness': 34336, 'balvir': 34337, 'banane': 34338, 'banarsi': 34339, 'banaun': 34340, 'bancroft': 34341, 'bandcamp': 34342, 'bandersnatch': 34343, 'banerji': 34344, 'banga': 34345, 'bangaru': 34346, 'bania': 34347, 'banihal': 34348, 'banish': 34349, 'bannerghatta': 34350, 'bansuri': 34351, 'banswara': 34352, 'bante': 34353, 'baoli': 34354, 'bappu': 34355, 'bapsa': 34356, 'barbarians': 34357, 'barbarism': 34358, 'barbarity': 34359, 'barbecue': 34360, 'barbershop': 34361, 'bargarh': 34362, 'barn': 34363, 'barracuda': 34364, 'barrak': 34365, 'barrister': 34366, 'barsana': 34367, 'baruah': 34368, 'basa': 34369, 'basanta': 34370, 'basel': 34371, 'basheer': 34372, 'basks': 34373, 'bastions': 34374, 'batalvi': 34375, 'battering': 34376, 'battu': 34377, 'bazaaru': 34378, 'bbl': 34379, 'bbq': 34380, 'bci': 34381, 'bcz': 34382, 'bdc': 34383, 'bdutt': 34384, 'beams': 34385, 'bearings': 34386, 'beatboxing': 34387, 'beck': 34388, 'becoz': 34389, 'bedded': 34390, 'bedsheet': 34391, 'beefed': 34392, 'beefs': 34393, 'beehive': 34394, 'beeline': 34395, 'beeps': 34396, 'begets': 34397, 'beghum': 34398, 'behan': 34399, 'behance.net': 34400, 'behano': 34401, 'behar': 34402, 'behari': 34403, 'behl': 34404, 'belagere': 34405, 'belie': 34406, 'belies': 34407, 'bembem': 34408, 'bencho': 34409, 'benckiser': 34410, 'benelli': 34411, 'benevolent': 34412, 'bengluru': 34413, 'benny': 34414, 'bentley': 34415, 'bespoke': 34416, 'bestest': 34417, 'betaal': 34418, 'bewildering': 34419, 'beyblade': 34420, 'beyoung': 34421, 'bezmenov': 34422, 'bhabhis': 34423, 'bhabi': 34424, 'bhadauria': 34425, 'bhadra': 34426, 'bhadrakumar': 34427, 'bhadwa': 34428, 'bhagao': 34429, 'bhagnani': 34430, 'bhagoda': 34431, 'bhaiyas': 34432, 'bhaiyon': 34433, 'bhanushali': 34434, 'bhar': 34435, 'bhara': 34436, 'bhari': 34437, 'bharsingi': 34438, 'bhasin': 34439, 'bhatija': 34440, 'bhatts': 34441, 'bhavans': 34442, 'bhave': 34443, 'bhavnani': 34444, 'bhavya': 34445, 'bhil': 34446, 'bhind': 34447, 'bhindi': 34448, 'bhisht': 34449, 'bhiwani': 34450, 'bhog': 34451, 'bhogi': 34452, 'bhola': 34453, 'bhool': 34454, 'bhowmik': 34455, 'bhula': 34456, 'bhumika': 34457, 'bhupathi': 34458, 'bhusan': 34459, 'biblical': 34460, 'bier': 34461, 'bigdata': 34462, 'biggboss': 34463, 'bilas': 34464, 'bill,2019': 34465, 'billpayment': 34466, 'billy': 34467, 'bimar': 34468, 'bingage': 34469, 'bins': 34470, 'biographer': 34471, 'biographies': 34472, 'biomedical': 34473, 'bipap': 34474, 'birbal': 34475, 'birding': 34476, 'birthing': 34477, 'biruni': 34478, 'bishan': 34479, 'bishnoi': 34480, 'bissell': 34481, 'biswajeet': 34482, 'bitta': 34483, 'bizzare': 34484, 'bjp-': 34485, 'blabbering': 34486, 'blackbucks': 34487, 'blazes': 34488, 'bleeped': 34489, 'blended': 34490, 'blindfold': 34491, 'blinkered': 34492, 'blinks': 34493, 'blip': 34494, 'blizzard': 34495, 'blockage': 34496, 'blocknarendramodi': 34497, 'bloggertrack': 34498, 'bloodless': 34499, 'blooms': 34500, 'blowjob': 34501, 'bludgeoned': 34502, 'bluntly': 34503, 'boarded': 34504, 'boasting': 34505, 'boating': 34506, 'bogibeel': 34507, 'bohras': 34508, 'boko': 34509, 'boldness': 34510, 'bolly': 34511, 'bollywoodrealism': 34512, 'bolne': 34513, 'boman': 34514, 'bondage': 34515, 'boneless': 34516, 'boners': 34517, 'bong': 34518, 'bongo': 34519, 'bono': 34520, 'boob': 34521, 'booing': 34522, 'bookmark': 34523, 'bookseller': 34524, 'bookshop': 34525, 'boomerang': 34526, 'border:-तो': 34527, 'borewells': 34528, 'borrower': 34529, 'borwankar': 34530, 'bosnia': 34531, 'botad': 34532, 'botanist': 34533, 'botox': 34534, 'boulevard': 34535, 'bowie': 34536, 'boxoffice': 34537, 'boycottchina': 34538, 'boycottsurfexcel': 34539, 'bpsc': 34540, 'brady': 34541, 'brahmanism': 34542, 'brahmasmi': 34543, 'brained': 34544, 'brainy': 34545, 'braking': 34546, 'brandbrahma.com': 34547, 'brar': 34548, 'bras': 34549, 'bravado': 34550, 'bravia': 34551, 'breadth': 34552, 'breadtube': 34553, 'breakaway': 34554, 'breakneck': 34555, 'breastfeed': 34556, 'breathes': 34557, 'breitbart': 34558, 'brewery': 34559, 'bridegroom': 34560, 'bridgestone': 34561, 'brightly': 34562, 'brihanmumbai': 34563, 'bristle': 34564, 'brit': 34565, 'britons': 34566, 'briyani': 34567, 'brook': 34568, 'brownie': 34569, 'bruising': 34570, 'brunch': 34571, 'brut': 34572, 'brutus': 34573, 'bua': 34574, 'budget2017': 34575, 'budgeted': 34576, 'budweiser': 34577, 'buenos': 34578, 'buffoon': 34579, 'buffoons': 34580, 'bugti': 34581, 'buisness': 34582, 'bulandshahar': 34583, 'bulandshahrviolence': 34584, 'bulldozer': 34585, 'bun': 34586, 'bund': 34587, 'bunder': 34588, 'bunnies': 34589, 'buns': 34590, 'bura': 34591, 'burdening': 34592, 'burglar': 34593, 'burke': 34594, 'burrp': 34595, 'busking': 34596, 'busses': 34597, 'butchers': 34598, 'butler': 34599, 'butterball': 34600, 'buttgieg': 34601, 'buyouts': 34602, 'buzznews': 34603, 'byproduct': 34604, 'bytes': 34605, 'bạn': 34606, 'b’day': 34607, 'c-130': 34608, 'c.a.a': 34609, 'c.m': 34610, 'c26': 34611, 'c3': 34612, 'c38': 34613, 'c43': 34614, 'c45': 34615, 'caaprotest': 34616, 'cab+nrc': 34617, 'cabal': 34618, 'cabbage': 34619, 'cabinets': 34620, 'cabling': 34621, 'cairn': 34622, 'calculates': 34623, 'calmed': 34624, 'calvinball': 34625, 'cameramen': 34626, 'camped': 34627, 'camus': 34628, 'canalys': 34629, 'canary': 34630, 'cancerous': 34631, 'cancers': 34632, 'candolim': 34633, 'caninecaravan': 34634, 'canines': 34635, 'caning': 34636, 'cannibalistic': 34637, 'cannibals': 34638, 'canonization': 34639, 'canvass': 34640, 'caper': 34641, 'capitalise': 34642, 'capitation': 34643, 'captors': 34644, 'carbine': 34645, 'carbohydrate': 34646, 'card/': 34647, 'carding': 34648, 'carelessness': 34649, 'carlo': 34650, 'carlos': 34651, 'carlton': 34652, 'carmaker': 34653, 'carpenter': 34654, 'carpets': 34655, 'carton': 34656, 'cartosat-3': 34657, 'carve': 34658, 'cashify': 34659, 'cashmere': 34660, 'casio': 34661, 'cassettes': 34662, 'castigated': 34663, 'castism': 34664, 'catchphrases': 34665, 'caterer': 34666, 'catfish': 34667, 'causal': 34668, 'causation': 34669, 'cauverycalling': 34670, 'cavalrymen': 34671, 'cbre': 34672, 'ccb': 34673, 'ccc': 34674, 'cce': 34675, 'ccnp': 34676, 'ccp': 34677, 'cdac': 34678, 'cdma': 34679, 'cede': 34680, 'ceilings': 34681, 'celkon': 34682, 'celpip': 34683, 'cemented': 34684, 'centred': 34685, 'cesses': 34686, 'ch*t*ya': 34687, 'chaahti': 34688, 'chaahunga': 34689, 'chahe': 34690, 'chaina': 34691, 'chaired': 34692, 'chairmen': 34693, 'chakki': 34694, 'chakmas': 34695, 'chakravala': 34696, 'chalks': 34697, 'challakere': 34698, 'chamba': 34699, 'chamling': 34700, 'champagne': 34701, 'championed': 34702, 'chamundi': 34703, 'chanchal': 34704, 'chanchlani': 34705, 'chandani': 34706, 'chandhok': 34707, 'chandragupta': 34708, 'changers': 34709, 'changu': 34710, 'channi': 34711, 'chapathi': 34712, 'chapora': 34713, 'chaprama': 34714, 'chaps': 34715, 'charas': 34716, 'charba': 34717, 'charbi': 34718, 'chargeback': 34719, 'chargers': 34720, 'charlatan': 34721, 'charliehebdo': 34722, 'charlotte': 34723, 'charlottesville': 34724, 'charmers': 34725, 'charulata': 34726, 'chashme': 34727, 'chastity': 34728, 'chatrapati': 34729, 'chatrath': 34730, 'chatwal': 34731, 'chaudhari': 34732, 'chauthi': 34733, 'chawl': 34734, 'cheater': 34735, 'checkpoint': 34736, 'cheif': 34737, 'chellaney': 34738, 'chem': 34739, 'chemotherapy': 34740, 'cheraman': 34741, 'chessboard': 34742, 'cheti': 34743, 'chetna': 34744, 'chew': 34745, 'chewable': 34746, 'chhat': 34747, 'chickened': 34748, 'chickpeas': 34749, 'chidamabaram': 34750, 'chidambram': 34751, 'chidu': 34752, 'chikalthana': 34753, 'chikki': 34754, 'children-': 34755, 'childrens': 34756, 'chilean': 34757, 'chinappa': 34758, 'chinglensana': 34759, 'chini': 34760, 'chink': 34761, 'chinks': 34762, 'chintan': 34763, 'chintu': 34764, 'chipmunk': 34765, 'chipsets': 34766, 'chitkul': 34767, 'chitresh': 34768, 'chittagong': 34769, 'chloroquine': 34770, 'choco': 34771, 'chodu': 34772, 'chohan': 34773, 'choker': 34774, 'chooral': 34775, 'choppy': 34776, 'chopsuey': 34777, 'choropleth': 34778, 'chotta': 34779, 'chow': 34780, 'chowkidarchorhai': 34781, 'chowmein': 34782, 'chowmohalla': 34783, 'chroma': 34784, 'chronicler': 34785, 'chubby': 34786, 'chudai': 34787, 'chudiyan': 34788, 'chugs': 34789, 'chunauti': 34790, 'chunky': 34791, 'chuppi': 34792, 'chura': 34793, 'chutiyaap': 34794, 'chutiyas': 34795, 'chyawanprash': 34796, 'cidco': 34797, 'cig': 34798, 'cinemagoers': 34799, 'cinematograph': 34800, 'cinepolis': 34801, 'cio': 34802, 'circumference': 34803, 'citigroup': 34804, 'citizenry': 34805, 'citrus': 34806, 'citu': 34807, 'civics': 34808, 'civicus': 34809, 'civilizations': 34810, 'ckmkb': 34811, 'clanging': 34812, 'clapton': 34813, 'clarion': 34814, 'classify': 34815, 'cleansed': 34816, 'cleartrip': 34817, 'cleopatra': 34818, 'cleveland': 34819, 'cliched': 34820, 'cliches': 34821, 'clive': 34822, 'cloak': 34823, 'clocked': 34824, 'clockwork': 34825, 'clowns': 34826, 'clutch': 34827, 'cma(icmai': 34828, 'cmc': 34829, 'cmy': 34830, 'cnx': 34831, 'coachings': 34832, 'coaching|cat': 34833, 'coalmine': 34834, 'coas': 34835, 'coating': 34836, 'cobbler': 34837, 'codevita': 34838, 'coevolve': 34839, 'coexistence': 34840, 'cognizable': 34841, 'cohesion': 34842, 'coinciding': 34843, 'coindelta': 34844, 'coinhive': 34845, 'coinmoneynetwork': 34846, 'colachel': 34847, 'coli': 34848, 'collab': 34849, 'collages': 34850, 'collars': 34851, 'colloquially': 34852, 'cologne': 34853, 'colonials': 34854, 'colonise': 34855, 'colonising': 34856, 'colorblind': 34857, 'coloring': 34858, 'colossus': 34859, 'columbus': 34860, 'comatose': 34861, 'combinator': 34862, 'comex': 34863, 'comio': 34864, 'commandant': 34865, 'commanded': 34866, 'commencement': 34867, 'commend': 34868, 'commenters': 34869, 'commentor': 34870, 'commercialisation': 34871, 'communalised': 34872, 'complacency': 34873, 'complexes': 34874, 'complexioned': 34875, 'compliation': 34876, 'complication': 34877, 'complications': 34878, 'complied': 34879, 'complimentary': 34880, 'composers': 34881, 'compounds': 34882, 'comprehension': 34883, 'comprehensively': 34884, 'compression': 34885, 'compromises': 34886, 'compulsions': 34887, 'computerphile': 34888, 'conceded': 34889, 'conceding': 34890, 'concocted': 34891, 'concurrence': 34892, 'condescending': 34893, 'condos': 34894, 'conduit': 34895, 'confectionery': 34896, 'confidant': 34897, 'confine': 34898, 'conflicted': 34899, 'conform': 34900, 'confrontations': 34901, 'confronting': 34902, 'conglomerates': 34903, 'congratulation': 34904, 'congratulatory': 34905, 'congregations': 34906, 'conquests': 34907, 'consciously': 34908, 'conservancy': 34909, 'consist': 34910, 'consoling': 34911, 'conspire': 34912, 'conspires': 34913, 'constituting': 34914, 'constrained': 34915, 'contagion': 34916, 'contaminate': 34917, 'contaminating': 34918, 'contemplates': 34919, 'contemporaries': 34920, 'contemptuous': 34921, 'contend': 34922, 'contravention': 34923, 'converge': 34924, 'converged': 34925, 'conversing': 34926, 'conveying': 34927, 'convinces': 34928, 'cookbook': 34929, 'coolie': 34930, 'coonoor': 34931, 'copters': 34932, 'copyrights': 34933, 'cordial': 34934, 'corolla': 34935, 'coronavirus-': 34936, 'coronaviruslockdown': 34937, 'corrupting': 34938, 'corrupts': 34939, 'cosmetology': 34940, 'councilor': 34941, 'counselor': 34942, 'counterbalance': 34943, 'counterpoint': 34944, 'coupled': 34945, 'court-': 34946, 'covertly': 34947, 'cover|': 34948, 'covid-': 34949, 'covid19india.org': 34950, 'covid2019': 34951, 'covidiots': 34952, 'cowdung': 34953, 'cowshed': 34954, 'cpr': 34955, 'cr+': 34956, 'crackling': 34957, 'craftsmanship': 34958, 'crate': 34959, 'crates': 34960, 'crayon': 34961, 'creations': 34962, 'creatives': 34963, 'credibly': 34964, 'creditor': 34965, 'cremating': 34966, 'crematoria': 34967, 'cretive': 34968, 'cricbuzz': 34969, 'cricinfo': 34970, 'critiques': 34971, 'cronavirus': 34972, 'croons': 34973, 'crowns': 34974, 'crri': 34975, 'crt': 34976, 'cruelest': 34977, 'cruelties': 34978, 'crumble': 34979, 'crusading': 34980, 'crust': 34981, 'crybaby': 34982, 'cryptic': 34983, 'crz': 34984, 'ctf': 34985, 'cubbon': 34986, 'cubic': 34987, 'cucumber': 34988, 'cuff': 34989, 'cuffe': 34990, 'cultured': 34991, 'cumbum': 34992, 'cunt': 34993, 'cuomo': 34994, 'curly': 34995, 'cus': 34996, 'cusecs': 34997, 'custodian': 34998, 'customary': 34999, 'cutbacks': 35000, 'cvs': 35001, 'cwc2019': 35002, 'cyanogenmod': 35003, 'cyberattacks': 35004, 'cybertruck': 35005, 'cyclewerks': 35006, 'cyclops': 35007, 'cynicism': 35008, 'cyril': 35009, 'công': 35010, 'd*ck': 35011, 'd.k.': 35012, 'd3100': 35013, 'd5100': 35014, 'daalunga': 35015, 'daan': 35016, 'dabang': 35017, 'dabbawala': 35018, 'dabolim': 35019, 'dadis': 35020, 'daenerys': 35021, 'daesh': 35022, 'daft': 35023, 'dahej': 35024, 'dailyhunt': 35025, 'dak': 35026, 'dakhave': 35027, 'dakshinpuri': 35028, 'dalian': 35029, 'dallapalli': 35030, 'damaadgate': 35031, 'damini': 35032, 'damnit': 35033, 'damon': 35034, 'dande': 35035, 'dang': 35036, 'dani': 35037, 'danielle': 35038, 'danny': 35039, 'darpa': 35040, 'dasari': 35041, 'dashes': 35042, 'dasna': 35043, 'data.gov.in': 35044, 'datasets': 35045, 'dataviz': 35046, 'day[np': 35047, 'dayara': 35048, 'daytime': 35049, 'daytrading': 35050, 'dayuum': 35051, 'ddr': 35052, 'ddu': 35053, 'deadmau5': 35054, 'deans': 35055, 'deathbed': 35056, 'debashis': 35057, 'debenture': 35058, 'deblasio': 35059, 'dec-2017': 35060, 'decamp': 35061, 'deceive': 35062, 'deceived': 35063, 'decelerating': 35064, 'deceleration': 35065, 'deceptively': 35066, 'decked': 35067, 'decolonizing': 35068, 'decorpot': 35069, 'decreases': 35070, 'ded': 35071, 'deeg': 35072, 'deepened': 35073, 'deepinder': 35074, 'deepveerkishaadi': 35075, 'deface': 35076, 'defaces': 35077, 'defaultors': 35078, 'defcon': 35079, 'deferment': 35080, 'defiled': 35081, 'defination': 35082, 'definitions': 35083, 'deflected': 35084, 'degenerate': 35085, 'deggit': 35086, 'degi': 35087, 'deh': 35088, 'dehradun-': 35089, 'dehydration': 35090, 'dejected': 35091, 'deke': 35092, 'dekhiye': 35093, 'dekhna': 35094, 'dekhne': 35095, 'deletefacebook': 35096, 'delhi[np': 35097, 'delhivotes': 35098, 'deliberations': 35099, 'delinking': 35100, 'deliverymen': 35101, 'delusion': 35102, 'delving': 35103, 'dem': 35104, 'demeans': 35105, 'demerits': 35106, 'demonic': 35107, 'demonizing': 35108, 'demoralising': 35109, 'demowins': 35110, 'demystified': 35111, 'denali': 35112, 'denizens': 35113, 'deodorants': 35114, 'departures': 35115, 'dependable': 35116, 'depletion': 35117, 'deplore': 35118, 'depopulate': 35119, 'deportations': 35120, 'deporting': 35121, 'depository': 35122, 'depot': 35123, 'depraved': 35124, 'depreciation': 35125, 'depresses': 35126, 'depressive': 35127, 'deputies': 35128, 'deregistration': 35129, 'deriding': 35130, 'desc': 35131, 'descriptions': 35132, 'desecrate': 35133, 'desertion': 35134, 'deshbhakti': 35135, 'designation': 35136, 'desilting': 35137, 'desist': 35138, 'desitorrents': 35139, 'desks': 35140, 'destabilize': 35141, 'deta': 35142, 'detainee': 35143, 'detectors': 35144, 'deterioration': 35145, 'determines': 35146, 'deterrence': 35147, 'detests': 35148, 'dethrones': 35149, 'deti': 35150, 'detonations': 35151, 'detonators': 35152, 'devanoora': 35153, 'devaprayag': 35154, 'devapriya': 35155, 'devastation': 35156, 'devasthanams': 35157, 'devaswom': 35158, 'development-': 35159, 'devi)jai': 35160, 'deviates': 35161, 'devi||memory': 35162, 'dew': 35163, 'dhanani': 35164, 'dhangar': 35165, 'dharampal': 35166, 'dharamvira': 35167, 'dharmapuri': 35168, 'dhaula': 35169, 'dhl': 35170, 'dhongi': 35171, 'dhoolpet': 35172, 'dhoot': 35173, 'dhoties': 35174, 'dhowan': 35175, 'dhs': 35176, 'dhula': 35177, 'dhumal': 35178, 'dhun': 35179, 'diabetics': 35180, 'diageo': 35181, 'diagnostics': 35182, 'dibrugarh': 35183, 'dickwella': 35184, 'dictionary.com': 35185, 'didar': 35186, 'didn’t': 35187, 'dieting': 35188, 'digambar': 35189, 'digidhan': 35190, 'digiflip': 35191, 'digitalindia': 35192, 'dikhane': 35193, 'dikhayenge': 35194, 'diksha': 35195, 'diligent': 35196, 'dilliwaalon': 35197, 'dime': 35198, 'diminishes': 35199, 'dimon': 35200, 'diners': 35201, 'dinkar': 35202, 'dinkoism': 35203, 'dinners': 35204, 'dipping': 35205, 'directi': 35206, 'directory': 35207, 'disabling': 35208, 'disappointments': 35209, 'disapprove': 35210, 'disapproved': 35211, 'disarray': 35212, 'disband': 35213, 'discern': 35214, 'disconnecting': 35215, 'discontents': 35216, 'discouraged': 35217, 'discourses': 35218, 'discredited': 35219, 'discus': 35220, 'disengage': 35221, 'disgraced': 35222, 'dishwashers': 35223, 'disinfection': 35224, 'disingenuous': 35225, 'dislodge': 35226, 'dismay': 35227, 'dismaying': 35228, 'disobedient': 35229, 'dispatches': 35230, 'dispels': 35231, 'displacement': 35232, 'displeased': 35233, 'disproportionately': 35234, 'dispute-': 35235, 'disrepute': 35236, 'dissapointed': 35237, 'dissatisfaction': 35238, 'disseminating': 35239, 'dissonance': 35240, 'distanced': 35241, 'distilled': 35242, 'distressing': 35243, 'dists': 35244, 'distt': 35245, 'div': 35246, 'diversifying': 35247, 'divinity': 35248, 'divyang': 35249, 'divyanka': 35250, 'diwana': 35251, 'di||memory': 35252, 'djpunjab2019': 35253, 'dnt': 35254, 'dockyard': 35255, 'doctorates': 35256, 'doer': 35257, \"doesn't\": 35258, 'doesnâ\\x80\\x99t': 35259, 'dogmatic': 35260, 'doin': 35261, 'dolan': 35262, 'doland': 35263, 'dombivali': 35264, 'domesticate': 35265, \"don'\\x80\\x99t\": 35266, 'donglong': 35267, 'dongri': 35268, 'doo': 35269, 'doodling': 35270, 'doorknob': 35271, 'doorway': 35272, 'dornier': 35273, 'dot.': 35274, 'douchiest': 35275, 'dovish': 35276, 'downgrading': 35277, 'downing': 35278, 'downsizing': 35279, 'draftsman': 35280, 'drape': 35281, 'draper': 35282, 'draping': 35283, 'drawer': 35284, 'dreamer': 35285, 'drinkable': 35286, 'drizzle': 35287, 'drool': 35288, 'drugging': 35289, 'drugmaker': 35290, 'drumbeat': 35291, 'drummer': 35292, 'drumming': 35293, 'drumstick': 35294, 'drunkards': 35295, 'dsssb': 35296, 'dtaa': 35297, 'duality': 35298, 'duggal': 35299, 'duh': 35300, 'duhai': 35301, 'dui': 35302, 'dukh': 35303, 'duleep': 35304, 'dumka': 35305, 'dupatta': 35306, 'duper': 35307, 'duplicated': 35308, 'durand': 35309, 'durg': 35310, 'durgasoft': 35311, 'dvdrip': 35312, 'dw.de': 35313, 'dwarfs': 35314, 'dwelling': 35315, 'dwindle': 35316, 'd’cruz': 35317, 'e-': 35318, 'e.g': 35319, 'e01': 35320, 'eac': 35321, 'earful': 35322, 'earmarked': 35323, 'earpods': 35324, 'earthers': 35325, 'earths': 35326, 'easwar': 35327, 'eavesdropping': 35328, 'eca': 35329, 'echoing': 35330, 'ecil': 35331, 'ecocide': 35332, 'edamaruku': 35333, 'edgbaston': 35334, 'edging': 35335, 'edibles': 35336, 'edifice': 35337, 'edison': 35338, 'edp': 35339, 'educates': 35340, 'edulji': 35341, 'edwin': 35342, 'effing': 35343, 'effluents': 35344, 'eflu': 35345, 'egos': 35346, 'egyptians': 35347, 'ei': 35348, 'eicher': 35349, 'eidgah': 35350, 'ein': 35351, 'ejaz': 35352, 'elaichi': 35353, 'elctions': 35354, 'electioncommission': 35355, 'elections2019': 35356, 'electro': 35357, 'electrophoresis': 35358, 'elgaar': 35359, 'eli5-': 35360, 'elim5': 35361, 'eliminating': 35362, 'elise': 35363, 'ella': 35364, 'ello': 35365, 'elopement': 35366, 'elsa': 35367, 'elst': 35368, 'elton': 35369, 'eluga': 35370, 'emancipated': 35371, 'embassies': 35372, 'emblematic': 35373, 'emboldens': 35374, 'embossed': 35375, 'emirati': 35376, 'emoticon': 35377, 'emoticons': 35378, 'emu': 35379, 'enabler': 35380, 'enacts': 35381, 'enchanted': 35382, 'enchanting': 35383, 'enclosed': 35384, 'encore': 35385, 'encountering': 35386, 'encroachers': 35387, 'encroaching': 35388, 'encroachments': 35389, 'endeavour': 35390, 'energies': 35391, 'enforceable': 35392, 'enforcers': 35393, 'enforces': 35394, 'engrossed': 35395, 'enhancer': 35396, 'enlargement': 35397, 'enmeshed': 35398, 'enrols': 35399, 'enron': 35400, 'enslave': 35401, 'ensue': 35402, 'ensued': 35403, 'entail': 35404, 'entertainers': 35405, 'enthiran': 35406, 'enthralled': 35407, 'enticing': 35408, 'entirety': 35409, 'entitles': 35410, 'entrant': 35411, 'entrapment': 35412, 'envia': 35413, 'ep.3': 35414, 'ep01': 35415, 'ep1': 35416, 'epidemiologist': 35417, 'epified': 35418, 'epiphany': 35419, 'epitaph': 35420, 'equivalence': 35421, 'erasing': 35422, 'erectile': 35423, 'erecting': 35424, 'erm': 35425, 'erodes': 35426, 'esa': 35427, 'escapades': 35428, 'escorting': 35429, 'escrow': 35430, 'ese': 35431, 'esim': 35432, 'esperanto': 35433, 'esport': 35434, 'espresso': 35435, 'esse': 35436, 'estimator': 35437, 'etched': 35438, 'eternity': 35439, 'ethiopian': 35440, 'etsy': 35441, 'eulogise': 35442, 'eurofighter': 35443, 'evacuates': 35444, 'evangelicals': 35445, 'evans': 35446, 'evenings': 35447, 'everthing': 35448, 'evolves': 35449, 'exacerbate': 35450, 'exaggerate': 35451, 'exalted': 35452, 'exceeded': 35453, 'excelled': 35454, 'excellency': 35455, 'excelsior': 35456, 'exceptionalism': 35457, 'excercise': 35458, 'excesses': 35459, 'exclusivity': 35460, 'executes': 35461, 'exempting': 35462, 'exercised': 35463, 'exert': 35464, 'exerting': 35465, 'exhorts': 35466, 'exiles': 35467, 'exmuslims': 35468, 'exonerated': 35469, 'exorcism': 35470, 'exorcists': 35471, 'expansions': 35472, 'experiment-': 35473, 'expertx': 35474, 'explainlikeiamfive': 35475, 'explainlikeimfive': 35476, 'exterminate': 35477, 'extinguisher': 35478, 'extortionists': 35479, 'extraneous': 35480, 'extraordinarily': 35481, 'f2': 35482, 'f9': 35483, 'fable': 35484, 'fabricate': 35485, 'facets': 35486, 'facewash': 35487, 'factionalism': 35488, 'faculties': 35489, 'fags': 35490, 'fahmida': 35491, 'failtel': 35492, 'fairer': 35493, 'faisu': 35494, 'fakehistoryporn': 35495, 'fakhri': 35496, 'falcons': 35497, 'faleiro': 35498, 'falkland': 35499, 'fallah': 35500, 'faltu': 35501, 'fanatical': 35502, 'fanbase': 35503, 'fanfare': 35504, 'fanfest': 35505, 'fangirl': 35506, 'fantastically': 35507, 'fapping': 35508, 'farak': 35509, 'fargo': 35510, 'faria': 35511, 'faridkot': 35512, 'farmed': 35513, 'farmlands': 35514, 'farokh': 35515, 'farted': 35516, 'farthest': 35517, 'farts': 35518, 'fashionista': 35519, 'fastags': 35520, 'fasten': 35521, 'fasteners': 35522, 'fatehveer': 35523, 'fates': 35524, 'fati': 35525, 'fayyaz': 35526, 'fca': 35527, 'fcw': 35528, 'fds': 35529, 'featherlite': 35530, 'feces': 35531, 'feeder': 35532, 'feelers': 35533, 'felice': 35534, 'felicitation': 35535, 'felix': 35536, 'fella': 35537, 'fend': 35538, 'fends': 35539, 'ferlity': 35540, 'ferns': 35541, 'ferocious': 35542, 'ferozpur': 35543, 'festivity': 35544, 'fetus': 35545, 'fgm': 35546, 'fibrenet': 35547, 'fibs': 35548, 'fico': 35549, 'fidel': 35550, 'figo': 35551, 'filipinos': 35552, 'filmyhit': 35553, 'filtered': 35554, 'finalising': 35555, 'financials': 35556, 'finisher': 35557, 'firefight': 35558, 'firestar': 35559, 'firings': 35560, 'fitment': 35561, 'fittings': 35562, 'fizzle': 35563, 'fizzy': 35564, 'flairing': 35565, 'flamingo': 35566, 'flanked': 35567, 'flashlights': 35568, 'flatmate': 35569, 'flavors': 35570, 'fleeting': 35571, 'flipkarts': 35572, 'flippant': 35573, 'floodlighting': 35574, 'florence': 35575, 'florist': 35576, 'flowed': 35577, 'flub': 35578, 'fluctuation': 35579, 'fluid': 35580, 'flunked': 35581, 'flurry': 35582, 'flysaifia.com': 35583, 'fmsa': 35584, 'fogg': 35585, 'folding@home': 35586, 'foliage': 35587, 'folic': 35588, 'fomo': 35589, 'fondly': 35590, 'foodgrains': 35591, 'foolproof': 35592, 'footballing': 35593, 'footstep': 35594, 'for-': 35595, 'foregone': 35596, 'foreground': 35597, 'forerunner': 35598, 'foreseeable': 35599, 'fortified': 35600, 'foss': 35601, 'fossils': 35602, 'founds': 35603, 'fountainhead': 35604, 'foxed': 35605, 'fpv': 35606, 'fractal': 35607, 'fragrance': 35608, 'fragrances': 35609, 'frands': 35610, 'frantic': 35611, 'françois': 35612, 'frayed': 35613, 'frazer': 35614, 'freakin': 35615, 'freakonomics': 35616, 'frenzied': 35617, 'frequencies': 35618, 'freshman': 35619, 'freshness': 35620, 'frets': 35621, 'fridays': 35622, 'friendless': 35623, 'frigate': 35624, 'fright': 35625, 'frisbee': 35626, 'frontal': 35627, 'frosty': 35628, 'frothing': 35629, 'frowned': 35630, 'fudges': 35631, 'fulia': 35632, 'fumigation': 35633, 'fundraisers': 35634, 'furor': 35635, 'fused': 35636, \"fy'17\": 35637, 'fy2018': 35638, 'févént': 35639, 'g-7': 35640, 'gaalis': 35641, 'gaana.com': 35642, 'gaane': 35643, 'gadakari': 35644, 'gaddafi': 35645, 'gadha': 35646, 'gadhimai': 35647, 'gadkaris': 35648, 'gais': 35649, 'galat': 35650, 'gallardo': 35651, 'galleries': 35652, 'gam': 35653, 'gambles': 35654, 'gameboy': 35655, 'gamedev': 35656, 'ganapataye': 35657, 'ganatantra': 35658, 'gand': 35659, 'gandhi`s': 35660, 'gandhijayanti': 35661, 'gandi': 35662, 'ganesan': 35663, 'gangaram': 35664, 'ganging': 35665, 'gani': 35666, 'ganjam': 35667, 'ganpataye': 35668, 'gappe': 35669, 'garbas': 35670, 'gareebo': 35671, 'garima': 35672, 'garlanded': 35673, 'garmi': 35674, 'garrix': 35675, 'gartner': 35676, 'gary': 35677, 'gaslighting': 35678, 'gatekeeper': 35679, 'gathbandhan': 35680, 'gatimaan': 35681, 'gaumutr': 35682, 'gauraksha': 35683, 'gaurakshak': 35684, 'gauseva': 35685, 'gav': 35686, 'gavit': 35687, 'gawar': 35688, 'gayee': 35689, 'gaylaxy': 35690, 'gboard': 35691, 'gbp': 35692, 'gbs': 35693, 'gec': 35694, 'geetanjali': 35695, 'geetha': 35696, 'geller': 35697, 'geminid': 35698, 'gemstone': 35699, 'genderqueer': 35700, 'generalization': 35701, 'generalizing': 35702, 'generators': 35703, 'genocidewatch.com': 35704, 'genpact': 35705, 'gents': 35706, 'geologist': 35707, 'gervais': 35708, 'gfs': 35709, 'ghadar': 35710, 'ghani': 35711, 'gharial': 35712, 'ghatge': 35713, 'gherao': 35714, 'ghoda': 35715, 'ghonto': 35716, 'ghori': 35717, 'ghoshanapatra': 35718, 'gib': 35719, 'gidla': 35720, 'gigolos': 35721, 'gigs': 35722, 'gil': 35723, 'gilani': 35724, 'gilli': 35725, 'girgaon': 35726, 'girgaum': 35727, 'girija': 35728, 'givingback': 35729, 'glibsquick.com': 35730, 'glimmer': 35731, 'glittering': 35732, 'gnight': 35733, 'gnla': 35734, 'goalkeepers': 35735, 'goalless': 35736, 'gobble': 35737, 'gobhi': 35738, 'godess': 35739, 'godless': 35740, 'godmessage': 35741, 'godsend': 35742, 'godwoman': 35743, 'goer': 35744, 'gohil': 35745, 'gokul': 35746, 'gokulnath': 35747, 'gol': 35748, 'gola': 35749, 'goldsikka': 35750, 'golgappe': 35751, 'golkonda': 35752, 'gomata': 35753, 'gomathi': 35754, 'gomselmash': 35755, 'gonsalves': 35756, 'goo': 35757, 'googlepluse': 35758, 'googles': 35759, 'goondagiri': 35760, 'gop': 35761, 'gopala': 35762, 'gopis': 35763, 'gorilla': 35764, 'gosht': 35765, 'gosling': 35766, 'gostartupindia': 35767, 'goswamy': 35768, 'gouging': 35769, 'govandi': 35770, 'govindacharya': 35771, 'gowns': 35772, 'gpay': 35773, 'gpl': 35774, 'gq': 35775, 'gracefully': 35776, 'grafitti': 35777, 'graham': 35778, 'grail': 35779, 'grama': 35780, 'grande': 35781, 'grandeur': 35782, 'grandmothers': 35783, 'grape': 35784, 'grassroot': 35785, 'greencard': 35786, 'greenest': 35787, 'greenland': 35788, 'gref': 35789, 'greying': 35790, 'grindr': 35791, 'grit': 35792, 'grouse': 35793, 'gsat-11': 35794, 'gsat-18': 35795, 'gslvmkiii': 35796, 'gsp': 35797, 'gto': 35798, 'gtpl': 35799, 'gtre': 35800, 'guahar': 35801, 'guesthouses': 35802, 'guevari': 35803, 'gufa': 35804, 'guftagoo': 35805, 'guhar': 35806, 'guitarists': 35807, 'guize': 35808, 'gujarat-': 35809, 'gujrathi': 35810, 'gulal': 35811, 'gulbarg': 35812, 'gullies': 35813, 'gundotra': 35814, 'gunjal': 35815, 'gupte': 35816, 'gur': 35817, 'gurmeher': 35818, 'gurunath': 35819, 'guthka': 35820, 'gvl': 35821, 'gynecology': 35822, 'h.raja': 35823, 'h4': 35824, 'habitable': 35825, 'hackable': 35826, 'hadapsar': 35827, 'haemorrhage': 35828, 'hah': 35829, 'hahah': 35830, 'hahahahaha': 35831, 'haidar': 35832, 'haidry': 35833, 'haier': 35834, 'hairstyle': 35835, 'hairy': 35836, 'hajipur': 35837, 'haldane': 35838, 'haldwani': 35839, 'haleem': 35840, 'halftime': 35841, 'halol': 35842, 'hamesha': 35843, 'hamirpur': 35844, 'hammered': 35845, 'hampta': 35846, 'hamsa': 35847, 'handedness': 35848, 'handiwork': 35849, 'handlooms': 35850, 'handpicked': 35851, 'handwashing': 35852, 'hangama': 35853, 'hanumanthappa': 35854, 'haphazard': 35855, 'happynewyear': 35856, 'haraam': 35857, 'haraamkhor': 35858, 'harappa': 35859, 'harbor': 35860, 'hardens': 35861, 'hardwork': 35862, 'hardy': 35863, 'harlequin': 35864, 'harman': 35865, 'harmonious': 35866, 'harnessing': 35867, 'harshita': 35868, 'harshly': 35869, 'harshveer': 35870, 'hart': 35871, 'hartals': 35872, 'haryanvis': 35873, 'haseen': 35874, 'hasgeek': 35875, 'hasini': 35876, 'hasnain': 35877, 'hassles': 35878, 'hastakshep': 35879, 'hastinapur': 35880, 'hatha': 35881, 'hathi': 35882, 'hawaizaada': 35883, 'hawkins': 35884, 'hazaaron': 35885, 'hazaribag': 35886, 'hazratganj': 35887, 'hcm': 35888, 'headcount': 35889, 'headshot': 35890, 'headway': 35891, 'healed': 35892, 'healthtech': 35893, 'heartedly': 35894, 'hearthstone': 35895, 'heartiest': 35896, 'heathen': 35897, 'heavyweights': 35898, 'hedges': 35899, 'heeled': 35900, 'heere': 35901, 'helipads': 35902, 'helium': 35903, 'hellish': 35904, 'helming': 35905, 'help]any': 35906, 'help]how': 35907, 'henceforth': 35908, 'henley': 35909, 'herbalife': 35910, \"here're\": 35911, 'heros': 35912, 'hexagon': 35913, 'hiccups': 35914, 'hichki': 35915, 'hidayatullah': 35916, 'hiddleston': 35917, 'highschool': 35918, 'hijacks': 35919, 'hikers': 35920, 'hila': 35921, 'hilsa': 35922, 'himayath': 35923, 'himeesh': 35924, 'himmat': 35925, 'hin': 35926, 'hindan': 35927, 'hindsight': 35928, 'hindujas': 35929, 'hindutvavadi': 35930, 'hindutvavadis': 35931, 'hingonia': 35932, 'hippies': 35933, 'hira': 35934, 'hitechcentral': 35935, 'hitesh': 35936, 'hitjob': 35937, 'hmmmmmm': 35938, 'hmu': 35939, 'hny': 35940, 'hoa': 35941, 'hobart': 35942, 'hobbes': 35943, 'hobbyist': 35944, 'holed': 35945, 'hologram': 35946, 'holographic': 35947, 'hololens': 35948, 'home-': 35949, 'homepod': 35950, 'homesick': 35951, 'homie': 35952, 'homigo': 35953, 'homo': 35954, 'honeymooning': 35955, 'honeymoons': 35956, 'honeywell': 35957, 'honorarium': 35958, 'honoring': 35959, 'hony': 35960, 'hoogly': 35961, 'hooking': 35962, 'hookups': 35963, 'hormonal': 35964, 'hormone': 35965, 'horsemen': 35966, 'hoshiarpur': 35967, 'hospice': 35968, 'hospita': 35969, 'hospitalisation': 35970, 'hotheads': 35971, 'hots': 35972, 'hounds': 35973, 'hour|couple': 35974, 'housemaid': 35975, 'hsien': 35976, 'http://blog.examin.co.in': 35977, 'http://reut.rs/2yzlq9z': 35978, 'https://bit.ly/2ovbxnp': 35979, 'https://goo.gl/zcdn7e': 35980, 'https://www.shopusa.com/': 35981, 'https://www.skytorrents.in': 35982, 'https://www.thebetterindia.com/118788/parle-g-story-mumbai-chauhan-glucose-biscuit-swadeshi-movement-india/': 35983, 'hubble': 35984, 'hullabaloo': 35985, 'humaare': 35986, 'hume': 35987, 'humidity': 35988, 'humorously': 35989, 'humpty': 35990, 'hunk': 35991, 'husbandry': 35992, 'hussein': 35993, 'huxley': 35994, 'hy': 35995, 'hydrabadi': 35996, 'hydrated': 35997, 'hydrocarbons': 35998, 'hygienic': 35999, 'hypercity': 36000, 'hypertension': 36001, 'hypes': 36002, 'hyping': 36003, 'hysterical': 36004, 'hänel': 36005, 'hồng': 36006, 'ia': 36007, 'iaaf': 36008, 'iac': 36009, 'iamverysmart': 36010, 'iball': 36011, 'ibps.in': 36012, 'ibrahimpur': 36013, 'ibs': 36014, 'ic-814': 36015, 'icbm': 36016, 'ich': 36017, 'iconography': 36018, 'icrisat': 36019, 'idealistic': 36020, 'identifier': 36021, 'ideologues': 36022, 'idioms': 36023, 'idolatry': 36024, 'idolizing': 36025, 'idrl': 36026, 'iec': 36027, 'ieee': 36028, 'ifc': 36029, 'igloos': 36030, 'igt': 36031, 'igw': 36032, 'iifm': 36033, 'iimt': 36034, 'iisers': 36035, 'iitkgp': 36036, 'ijaz': 36037, 'il&amp;amp;fs': 36038, 'ileague': 36039, 'ilk': 36040, 'illiberalism': 36041, 'illuminate': 36042, 'illuminates': 36043, 'illusions': 36044, 'ilyas': 36045, 'imagines': 36046, 'imambara': 36047, 'imbalances': 36048, 'imbroglio': 36049, 'imc': 36050, 'imgur.com': 36051, 'immolate': 36052, 'immunized': 36053, 'impatience': 36054, 'impeach': 36055, 'impedance': 36056, 'impeding': 36057, 'imperatives': 36058, 'implantfiles': 36059, 'implementations': 36060, 'implied': 36061, 'implode': 36062, 'implodes': 36063, 'implore': 36064, 'imposter': 36065, 'impounded': 36066, 'imprints': 36067, 'imprison': 36068, 'impropriety': 36069, 'impulsive': 36070, 'in-': 36071, 'inadequacies': 36072, 'inadequacy': 36073, 'inbev': 36074, 'inbound': 36075, 'incels': 36076, 'incentivising': 36077, 'incestuous': 36078, 'inciteful': 36079, 'incometax': 36080, 'inconsiderate': 36081, 'inconsistencies': 36082, 'inconsistent': 36083, 'inconvenienced': 36084, 'incorporation': 36085, 'incorruptible': 36086, 'increments': 36087, 'incurred': 36088, 'incurring': 36089, 'incurs': 36090, 'indebtedness': 36091, 'independant': 36092, 'independenceday': 36093, 'indexes': 36094, 'indexia': 36095, 'india&amp;#039;s': 36096, 'india@70': 36097, 'indiaagainstcaa_nrc': 36098, 'indian-': 36099, 'indiandefense': 36100, 'indianengineers': 36101, 'indiangirlsontinder': 36102, 'indianized': 36103, 'indianleft': 36104, 'indiaslaughter': 36105, 'indiasslaughter': 36106, 'indicative': 36107, 'indigestion': 36108, 'indirapuram': 36109, 'indiscriminately': 36110, 'indo-': 36111, 'indoctrinated': 36112, 'indomitable': 36113, 'indpendence': 36114, 'indradhanush': 36115, 'industrialization': 36116, 'inexplicably': 36117, 'infallible': 36118, 'infantile': 36119, 'infatuated': 36120, 'infiltrating': 36121, 'inflamed': 36122, 'inflexion': 36123, 'infotachus': 36124, 'infotainment': 36125, 'infrastructural': 36126, 'infringe': 36127, 'infuriates': 36128, 'infuses': 36129, 'ingress': 36130, 'inhales': 36131, 'inhe': 36132, 'inherits': 36133, 'inimitable': 36134, 'initials': 36135, 'inko': 36136, 'inoperative': 36137, 'inorganic': 36138, 'inquiring': 36139, 'insaaf': 36140, 'insaniyat': 36141, 'insat-3dr': 36142, 'insemination': 36143, 'inserting': 36144, 'insia': 36145, 'instal': 36146, 'installment': 36147, 'instaoffice': 36148, 'instinct': 36149, 'instincts': 36150, 'instructs': 36151, 'instrumentation': 36152, 'insurances': 36153, 'insure': 36154, 'insurmountable': 36155, 'insv': 36156, 'intelligently': 36157, 'intelligible': 36158, 'interception': 36159, 'intercontinental': 36160, 'intermediaries': 36161, 'internshala': 36162, 'interprets': 36163, 'interrogate': 36164, 'interrogated': 36165, 'intertwined': 36166, 'interviewers': 36167, 'interwebz': 36168, 'intestine': 36169, 'intestines': 36170, 'intiative': 36171, 'intoxicated': 36172, 'intrepid': 36173, 'intrigue': 36174, 'invalidated': 36175, 'invantad': 36176, 'inventors': 36177, 'inverse': 36178, 'inverted': 36179, 'investelite': 36180, 'invit': 36181, 'invitee': 36182, 'involuntary': 36183, 'iota': 36184, 'ipft': 36185, 'iphone6': 36186, 'iphone7': 36187, 'iptl': 36188, 'iqs': 36189, 'irb': 36190, 'ireda': 36191, 'irnss-1b': 36192, 'ironman': 36193, 'irrationality': 36194, 'irrefutable': 36195, 'irregularity': 36196, 'irreversible': 36197, 'irreversibly': 36198, 'ishaan': 36199, 'ishtiyaque': 36200, 'ishwari': 36201, 'isko': 36202, 'isma': 36203, 'istandwithdeepikapadukone': 36204, 'it-': 36205, 'itanagar': 36206, 'itat': 36207, 'itching': 36208, 'itir': 36209, 'itni': 36210, 'itt': 36211, 'ittefaq': 36212, 'iucn': 36213, 'ivan': 36214, 'ivm': 36215, 'ivrs': 36216, 'iwtl': 36217, 'iyers': 36218, 'izzat': 36219, 'j.p.': 36220, 'j.s.': 36221, 'jaante': 36222, 'jaat': 36223, 'jaate': 36224, 'jaayein': 36225, 'jaba': 36226, 'jacking': 36227, 'jackky': 36228, 'jada': 36229, 'jadejas': 36230, 'jaenge': 36231, 'jaipur|kurti': 36232, 'jaitapur': 36233, 'jakhar': 36234, 'jalaluddin': 36235, 'jalaun': 36236, 'jalianwala': 36237, 'jalukbari': 36238, 'jamaica': 36239, 'jamboree': 36240, 'jamdar': 36241, 'jamega': 36242, 'jamiaprotest': 36243, 'jammed': 36244, 'jammers': 36245, 'jamming': 36246, 'jammuandkashmir': 36247, 'jamshed': 36248, 'janakpuri': 36249, 'janani': 36250, 'janasena': 36251, 'janeu': 36252, 'jani': 36253, 'janwaar': 36254, 'jaoge': 36255, 'jarawas': 36256, 'jashoda': 36257, 'jasim': 36258, 'jaskirat': 36259, 'jasodaben': 36260, 'jass': 36261, 'jassi': 36262, 'jasti': 36263, 'jawano': 36264, 'jawhar': 36265, 'jaws': 36266, 'jaxa': 36267, 'jayarajan': 36268, 'jayaverdict': 36269, 'jaydev': 36270, 'jayendra': 36271, 'jazzy': 36272, 'jc': 36273, 'jcbkikhudayi': 36274, 'jeena': 36275, 'jeeps': 36276, 'jeera': 36277, 'jeers': 36278, 'jeevaraj': 36279, 'jeez': 36280, 'jeffrey': 36281, 'jehadi': 36282, 'jehanabad': 36283, 'jenny': 36284, 'jeopardizes': 36285, 'jerks': 36286, 'jest': 36287, 'jetty': 36288, 'jeweler': 36289, 'jewelers': 36290, 'jhaadu': 36291, 'jhabua': 36292, 'jhajjar': 36293, 'jhalak': 36294, 'jhappi': 36295, 'jharkand': 36296, 'jhatka': 36297, 'jhaveri': 36298, 'jhelum': 36299, 'jhoom': 36300, 'jhooth': 36301, 'jhuggi': 36302, 'jigarthanda': 36303, 'jihadism': 36304, 'jijaji': 36305, 'jimikki': 36306, 'jindabad': 36307, 'jinse': 36308, 'jiocinema': 36309, 'jiofibre': 36310, 'jiogigafiber': 36311, 'jisha': 36312, 'jishnu': 36313, 'jiska': 36314, 'jism': 36315, 'jisse': 36316, 'jitni': 36317, 'jivan': 36318, 'jiyo': 36319, 'jlf2017': 36320, 'jnuviolence': 36321, 'jodha': 36322, 'joes': 36323, 'jofra': 36324, 'jogendra': 36325, 'jogini': 36326, 'johannesburg': 36327, 'johns': 36328, 'johny': 36329, 'jolted': 36330, 'jor': 36331, 'jos': 36332, 'jothimani': 36333, 'joyita': 36334, 'jst': 36335, 'jt': 36336, 'jubin': 36337, 'judgemental': 36338, 'jugglers': 36339, 'jugular': 36340, 'juiciest': 36341, 'jumpers': 36342, 'junagarh': 36343, 'junctions': 36344, 'junkie': 36345, 'jyani': 36346, 'jyothi': 36347, 'k.k.': 36348, 'k.m.': 36349, 'k2': 36350, 'kaakateeya': 36351, 'kaan': 36352, 'kaaran': 36353, 'kaatru': 36354, 'kababi': 36355, 'kababs': 36356, 'kaber': 36357, 'kabil': 36358, 'kabira': 36359, 'kaby': 36360, 'kad': 36361, 'kadak': 36362, 'kadapa': 36363, 'kahaan': 36364, 'kahenge': 36365, 'kai': 36366, 'kaimur': 36367, 'kaios': 36368, 'kaisa': 36369, 'kaizen': 36370, 'kakori': 36371, 'kalaas': 36372, 'kalbe': 36373, 'kalga': 36374, 'kaliyug': 36375, 'kalladka': 36376, 'kalvi': 36377, 'kalyanam': 36378, 'kami': 36379, 'kamikaze': 36380, 'kamorta': 36381, 'kancheepuram': 36382, 'kanchendzonga': 36383, 'kand': 36384, 'kaneez': 36385, 'kangaal': 36386, 'kankaria': 36387, 'kanshiram': 36388, 'kanti': 36389, 'kanu': 36390, 'kapda': 36391, 'kapu': 36392, 'karamcharis': 36393, 'karapusa': 36394, 'karauli': 36395, 'karein': 36396, 'karnatakapolitics': 36397, 'kart': 36398, 'karthick': 36399, 'kartikeyatanna': 36400, 'karunesh': 36401, 'karvachauth': 36402, 'karyakartas': 36403, 'kash': 36404, 'kashish': 36405, 'kashmirfloods': 36406, 'kasmir': 36407, 'kasni': 36408, 'kasparov': 36409, 'kaspersky': 36410, 'kasturba': 36411, 'kasturi': 36412, 'katherine': 36413, 'katni': 36414, 'kaum': 36415, 'kauravas': 36416, 'kawariyas': 36417, 'kbr': 36418, 'keane': 36419, 'keanu': 36420, 'keith': 36421, 'kej': 36422, 'kejridiwas': 36423, 'kejriwalfirse': 36424, 'kejriwaltoani': 36425, 'kejrwal': 36426, 'kelkar': 36427, 'kemmangundi': 36428, 'kendras': 36429, 'keral': 36430, 'kerala-': 36431, 'keralam': 36432, 'kerala|': 36433, 'kerbal': 36434, 'kerjiwal': 36435, 'keshavan': 36436, 'ketamine': 36437, 'ketkar': 36438, 'kewal': 36439, 'keyboards': 36440, 'khaas': 36441, 'khaat': 36442, 'khaate': 36443, 'khaddar': 36444, 'khadim': 36445, 'khaidi': 36446, 'khairathabad': 36447, 'khakhi': 36448, 'khaleda': 36449, 'khalibali': 36450, 'khammam': 36451, 'khandelwal': 36452, 'khandwala': 36453, 'khao': 36454, 'kharab': 36455, 'kharbanda': 36456, 'khardung': 36457, 'khare': 36458, 'khatri': 36459, 'khatron': 36460, 'khau': 36461, 'khaunga': 36462, 'khaye': 36463, 'khelomcx': 36464, 'khetarpal': 36465, 'khichadi': 36466, 'khnam': 36467, 'khoobsurat': 36468, 'khorasan': 36469, 'khosla': 36470, 'khub': 36471, 'khubsurat': 36472, 'khulna': 36473, 'khumukcham': 36474, 'khushbir': 36475, 'khushbu': 36476, 'khánh': 36477, 'kidhar': 36478, 'kiku': 36479, 'kiltan': 36480, 'kingmaker': 36481, 'kingsley': 36482, 'kingston': 36483, 'kinner': 36484, 'kins': 36485, 'kiranbedi': 36486, 'kirik': 36487, 'kisko': 36488, 'kisne': 36489, 'kitchenware': 36490, 'kithaganahalli': 36491, 'kitkat': 36492, 'kittens': 36493, 'klein': 36494, 'kmc': 36495, 'kmp': 36496, 'km²': 36497, 'knitting': 36498, 'knob': 36499, 'knowingly': 36500, 'kobbari': 36501, 'kocchar': 36502, 'kochadaiiyaan': 36503, 'kodanad': 36504, 'kofta': 36505, 'kolaras': 36506, 'kolhi': 36507, 'kolis': 36508, 'komics': 36509, 'kona': 36510, 'konkona': 36511, 'kooli': 36512, 'koottu': 36513, 'koppal': 36514, 'koraput': 36515, 'korona': 36516, 'kosh': 36517, 'koshyari': 36518, 'kotadiya': 36519, 'kothur': 36520, 'kotkhai': 36521, 'kotli': 36522, 'kotwal': 36523, 'kourou': 36524, 'kovid': 36525, 'kovvada': 36526, 'kriket': 36527, 'kross': 36528, 'krs': 36529, 'ksa': 36530, 'ksp': 36531, 'ksu': 36532, 'kubota': 36533, 'kucoin': 36534, 'kulbhusan': 36535, 'kulbushan': 36536, 'kuldip': 36537, 'kumara': 36538, 'kumarakom': 36539, 'kumbhakarna': 36540, 'kunan': 36541, 'kundapura': 36542, 'kungfu': 36543, 'kuppali': 36544, 'kuppam': 36545, 'kurds': 36546, 'kurt': 36547, 'kuruvi': 36548, 'kusa': 36549, 'kutchi': 36550, 'kuttichevuru': 36551, 'kwid': 36552, 'kyarr': 36553, 'kyonki': 36554, 'l.k.': 36555, 'laage': 36556, 'lab126': 36557, 'lachung': 36558, 'lacklustre': 36559, 'lactating': 36560, 'lada': 36561, 'ladoos': 36562, 'lagega': 36563, 'lagelu': 36564, 'laggards': 36565, 'lagti': 36566, 'lair': 36567, 'lakhan': 36568, 'lalita': 36569, 'lam': 36570, 'lamayuru': 36571, 'lambadas': 36572, 'lambast': 36573, 'landlines': 36574, 'landowner': 36575, 'landscaping': 36576, 'langkawi': 36577, 'langurs': 36578, 'lansdowne': 36579, 'laos': 36580, 'lapped': 36581, 'largesse': 36582, 'lars': 36583, 'lascivious': 36584, 'lasers': 36585, 'lashkari': 36586, 'lat': 36587, 'latex': 36588, 'latino': 36589, 'latvia': 36590, 'lau': 36591, 'lauren': 36592, 'laxminaryan': 36593, 'laya': 36594, 'layi': 36595, 'lazarus': 36596, 'lb': 36597, 'lch': 36598, 'ldc': 36599, 'ldl': 36600, 'leafy': 36601, 'leaky': 36602, 'leaner': 36603, 'leash': 36604, 'lecturers': 36605, 'leftattacksjnu': 36606, 'leftovers': 36607, 'legacies': 36608, 'legaladviceindia': 36609, 'legitimises': 36610, 'lehengas': 36611, 'leli': 36612, 'lelo': 36613, 'lemoa': 36614, 'lenevo': 36615, 'lepers': 36616, 'levelling': 36617, 'leverages': 36618, 'lex': 36619, 'lexus': 36620, 'lfw': 36621, 'lgbt+': 36622, 'lgbtqia+': 36623, 'lgbtqs': 36624, \"li'l\": 36625, 'liberally': 36626, 'liberating': 36627, 'libertarians': 36628, 'libra': 36629, 'lickers': 36630, 'lieutenants': 36631, 'liezietsu': 36632, 'lifer': 36633, 'lifespaces': 36634, 'lifespan': 36635, 'lifestyles': 36636, 'liftoff': 36637, \"light'-philippines\": 36638, 'lighten': 36639, 'lighthearted': 36640, 'likelihood': 36641, 'lilavati': 36642, 'limaye': 36643, 'lindenthal': 36644, 'lindt': 36645, 'lineman': 36646, 'linga': 36647, 'linger': 36648, 'linkages': 36649, 'lionheart': 36650, 'lionhearted': 36651, 'lisbon': 36652, 'list:[technology': 36653, 'listener': 36654, 'litigants': 36655, 'litti': 36656, 'liu': 36657, 'lme': 36658, 'loathe': 36659, 'lobbyist': 36660, 'loca': 36661, 'local+std': 36662, 'localization': 36663, 'location-': 36664, 'locha': 36665, 'lockdown-': 36666, 'lockdowns': 36667, 'lockdown|': 36668, 'locky': 36669, 'locust': 36670, 'loes': 36671, 'lofi': 36672, 'logistic': 36673, 'lohani': 36674, 'lokendra': 36675, 'lokmanya': 36676, 'lollywood': 36677, 'loners': 36678, 'lookup': 36679, 'loong': 36680, 'loosens': 36681, 'lordships': 36682, 'lothal': 36683, 'lotte': 36684, 'lovebirds': 36685, 'lovemaking': 36686, 'loveratri': 36687, 'lowly': 36688, 'loyola': 36689, 'lp': 36690, 'lt;10k': 36691, 'ltrs': 36692, 'lucia': 36693, 'lucideus': 36694, 'ludhaina': 36695, 'luke': 36696, 'lull': 36697, 'lulu': 36698, 'lumbini': 36699, 'lunched': 36700, 'lupita': 36701, 'lutheran': 36702, 'luxuries': 36703, 'lvl': 36704, 'lwt': 36705, 'ly': 36706, 'lynda': 36707, 'lyon': 36708, 'làm': 36709, 'm)aadhaar': 36710, 'm-777': 36711, 'm.a.': 36712, 'm.des': 36713, 'm.m.': 36714, 'm29': 36715, 'm2r': 36716, 'm50x': 36717, \"ma'am\": 36718, 'maadhar': 36719, 'maalish': 36720, 'maane': 36721, 'maatibaani': 36722, 'mab': 36723, 'macabre': 36724, 'macaques': 36725, 'machining': 36726, 'macleodganj': 36727, 'macroeconomics': 36728, 'macros': 36729, 'macwan': 36730, 'madaan': 36731, 'madagascar': 36732, 'madh': 36733, 'madhushala': 36734, 'madi': 36735, 'madikeri': 36736, 'madiwala': 36737, 'madrasi': 36738, 'magar': 36739, 'maggots': 36740, 'magically': 36741, 'magicbricks': 36742, 'magnets': 36743, 'magzine': 36744, 'mahabali': 36745, 'mahadalits': 36746, 'mahanadi': 36747, 'maharashta': 36748, 'maharashtrianbeats': 36749, 'mahashay': 36750, 'mahavira': 36751, 'mahavishnu': 36752, 'mahmud': 36753, 'mahoba': 36754, 'mahout': 36755, 'mahul': 36756, 'mailing': 36757, 'mainstreaming': 36758, 'mainu': 36759, 'maisel': 36760, 'maja': 36761, 'majboot': 36762, 'majedar': 36763, 'majesty': 36764, 'majorly': 36765, 'makaan': 36766, 'makajgiri': 36767, 'makhni': 36768, 'makkah': 36769, 'maladies': 36770, 'malar': 36771, 'malaraya': 36772, 'malaysians': 36773, 'maldivian': 36774, 'maleeha': 36775, 'malfeasance': 36776, 'malhar': 36777, 'malkangiri': 36778, 'mallaya': 36779, 'mallik': 36780, 'mallyas': 36781, 'malpe': 36782, 'mami': 36783, 'mamiyar': 36784, 'manas': 36785, 'mandating': 36786, 'mandatorily': 36787, 'mandur': 36788, 'mangalwadi': 36789, 'manhandles': 36790, 'maniacs': 36791, 'manikchand': 36792, 'manipalcafe.com': 36793, 'manipulators': 36794, 'manishankar': 36795, 'manishankaraiyar': 36796, 'manj': 36797, 'manjultoons': 36798, 'manly': 36799, 'mannered': 36800, 'manning': 36801, 'mano': 36802, 'manocha': 36803, 'mansions': 36804, 'mansoor': 36805, 'manta': 36806, 'mantris': 36807, 'manyavar': 36808, 'manzoor': 36809, 'maoism': 36810, 'mapmygenome': 36811, 'mar/2019': 36812, 'marak': 36813, 'marandi': 36814, 'marans': 36815, 'marbles': 36816, 'marichjhapi': 36817, 'marimuthu': 36818, 'maritial': 36819, 'marius': 36820, 'mariwala': 36821, 'marketer': 36822, 'marna': 36823, 'marne': 36824, 'maroon': 36825, 'marraige': 36826, 'marrakesh': 36827, 'marriageable': 36828, 'marrige': 36829, 'marriott': 36830, 'marsh': 36831, 'martand': 36832, 'martins': 36833, 'marumagal': 36834, 'marvelstudios': 36835, 'marwa': 36836, 'marwaris': 36837, 'marxism': 36838, 'marya': 36839, 'masaba': 36840, 'masayoshi': 36841, 'mascarenhas': 36842, 'mashelkar': 36843, 'masoom': 36844, 'massachusetts': 36845, 'masseuse': 36846, 'mastering': 36847, 'masterminds': 36848, 'masterplan': 36849, 'matanga': 36850, 'matar': 36851, 'matchboxes': 36852, 'matebook': 36853, 'mater': 36854, 'mather': 36855, 'mathur': 36856, 'mati': 36857, 'mattu': 36858, 'mauls': 36859, 'mauni': 36860, 'mausam': 36861, 'maviya': 36862, 'maxi': 36863, 'maxwell': 36864, 'mayapuri': 36865, 'mayaram': 36866, 'maybach': 36867, 'mayday': 36868, 'mayer': 36869, 'mayonnaise': 36870, 'mbp': 36871, 'mcaloo': 36872, 'mcat': 36873, 'mccartney': 36874, 'mcdowell': 36875, 'mclaughlin': 36876, 'mcleondganj': 36877, 'mcommerce': 36878, 'mcqs': 36879, 'mcu': 36880, 'mcxcenter.com': 36881, 'me_irl': 36882, 'meaindia': 36883, 'measly': 36884, 'mech': 36885, 'medatdoorstep': 36886, 'mediators': 36887, 'media|': 36888, 'meditates': 36889, 'medlife': 36890, 'meek': 36891, 'meerutgangrape': 36892, 'megawatts': 36893, 'mehdipatnam': 36894, 'mehengai': 36895, 'meil': 36896, 'melted': 36897, 'mememandir': 36898, 'memorabilia': 36899, 'memorize': 36900, 'men-': 36901, 'menus': 36902, 'meps': 36903, 'mercenaries': 36904, 'meridian': 36905, 'merin': 36906, 'meritocracy': 36907, 'meritorious': 36908, 'mesopotamia': 36909, 'metaphysical': 36910, 'meteoric': 36911, 'metering': 36912, 'meticulously': 36913, 'metooindia': 36914, 'metrorail': 36915, 'mfrs': 36916, 'mial': 36917, 'michelin': 36918, 'mickey': 36919, 'micra': 36920, 'microbiologist': 36921, 'microcosm': 36922, 'microloan': 36923, 'microwaves': 36924, 'midas': 36925, 'middleclass': 36926, 'midea': 36927, 'midriff': 36928, 'midterm': 36929, 'midwest': 36930, 'miff': 36931, 'mig-35': 36932, 'migs': 36933, 'mildlyinfuriating': 36934, 'militarily': 36935, 'milkman': 36936, 'millenium': 36937, 'miller': 36938, 'milne': 36939, 'milo': 36940, 'mimo': 36941, 'minal': 36942, 'minarets': 36943, 'mindfulness': 36944, 'minegate': 36945, 'minesweepers': 36946, 'mingle': 36947, 'mingling': 36948, 'minimise': 36949, 'minimizing': 36950, 'minion': 36951, 'minis': 36952, 'miniscule': 36953, 'minorityism': 36954, 'minsiter': 36955, 'minuses': 36956, 'mirch': 36957, 'mirv': 36958, 'mirzya': 36959, 'misadventures': 36960, 'misandry': 36961, 'misappropriation': 36962, 'miscalculated': 36963, 'miscalculation': 36964, 'misconceived': 36965, 'misdirected': 36966, 'misfires': 36967, 'misjudged': 36968, 'misleads': 36969, 'misnomer': 36970, 'misquoted': 36971, 'misquotes': 36972, 'misquoting': 36973, 'misread': 36974, 'misrepresents': 36975, 'missiondelhi': 36976, 'misspelled': 36977, 'mister': 36978, 'misunderstand': 36979, 'mitha': 36980, 'mixtape': 36981, 'miya': 36982, 'mk1': 36983, 'mkbhd': 36984, 'mmbtu': 36985, 'mmr': 36986, 'mmrc': 36987, 'mmrcl': 36988, 'mnm': 36989, 'mobilised': 36990, 'mobilising': 36991, 'mobocracy': 36992, 'modak': 36993, 'modeled': 36994, \"modi'\\x80\\x99s\": 36995, 'modijee': 36996, 'modilie': 36997, 'modish': 36998, 'modu': 36999, 'modular': 37000, 'mody': 37001, 'moghul': 37002, 'mohabbatein': 37003, 'mohak': 37004, 'mohra': 37005, 'moi': 37006, 'mojari': 37007, 'mold': 37008, 'molding': 37009, 'molecules': 37010, 'moles': 37011, 'molestations': 37012, 'molyneux': 37013, 'mombatti': 37014, 'momentous': 37015, 'momina': 37016, 'monaco': 37017, 'monal': 37018, 'monbiot': 37019, 'mondays': 37020, 'monetarily': 37021, 'moneylife': 37022, 'mongoloid': 37023, 'monkhood': 37024, 'monologues': 37025, 'monotheistic': 37026, 'monstrous': 37027, 'montana': 37028, 'monti': 37029, 'monu': 37030, 'moods': 37031, 'moolchand': 37032, 'moonga': 37033, 'moped': 37034, 'moralising': 37035, 'moreover': 37036, 'moro': 37037, 'morphine': 37038, 'morphing': 37039, 'moss': 37040, 'motherboards': 37041, 'motherfucker': 37042, 'motherfuckers': 37043, 'motherfucking': 37044, 'motn': 37045, 'motorcade': 37046, 'motorcyclist': 37047, 'motorised': 37048, 'motwani': 37049, 'moulded': 37050, 'mounds': 37051, 'mountaineering': 37052, 'mourned': 37053, 'mourners': 37054, 'mouthpieces': 37055, 'movember': 37056, 'mowing': 37057, 'mozart': 37058, 'mpc': 37059, 'mph': 37060, 'mpl': 37061, 'mpsc': 37062, 'mrf': 37063, 'mridula': 37064, 'msk': 37065, 'mswipe': 37066, 'muay': 37067, 'muddies': 37068, 'mueller': 37069, 'mufaddal': 37070, 'mufasa': 37071, 'muffled': 37072, 'muftis': 37073, 'mujhse': 37074, 'mulla': 37075, 'mullahs': 37076, 'multan': 37077, 'multibagger': 37078, 'multicoloured': 37079, 'multicultural': 37080, 'multinationals': 37081, 'mums': 37082, 'mun': 37083, 'munaf': 37084, 'mundada': 37085, 'mundan': 37086, 'mungantiwar': 37087, 'mungaoli': 37088, 'munnabhai': 37089, 'muntra': 37090, 'muqabala': 37091, 'murgi': 37092, 'muriyal': 37093, 'murmur': 37094, 'murudeshwar': 37095, 'musahar': 37096, 'musi': 37097, 'musik': 37098, 'musing': 37099, 'mustehsan': 37100, 'mutalik': 37101, 'mutants': 37102, 'muzumdar': 37103, 'myairtel': 37104, 'mycleanindia': 37105, 'mythic': 37106, 'mythri': 37107, 'naal': 37108, 'naam\\\\in': 37109, 'naata': 37110, 'nabbing': 37111, 'nachos': 37112, 'nada': 37113, 'nagal': 37114, 'nageswar': 37115, 'nagi': 37116, 'nahta': 37117, 'nain': 37118, 'naipaul': 37119, 'nakshatra': 37120, 'namaha': 37121, 'namastey': 37122, 'namboodiripad': 37123, 'namely': 37124, 'namita': 37125, 'namotv': 37126, 'nandakumar': 37127, 'nandana': 37128, 'nangal': 37129, 'nanjundaswamy': 37130, 'naorem': 37131, 'napping': 37132, 'narak': 37133, 'narco': 37134, 'narednra': 37135, 'narottam': 37136, 'narrowed': 37137, 'narrowing': 37138, 'naruto': 37139, 'nasiruddin': 37140, 'natal': 37141, 'natalists': 37142, 'natgeo': 37143, 'natgrid': 37144, 'nationalities': 37145, 'naturalised': 37146, 'naturalized': 37147, 'naugam': 37148, 'naukari': 37149, 'naushera': 37150, 'navigating': 37151, 'navigational': 37152, 'navlakha': 37153, 'navratra': 37154, 'navroz': 37155, 'navya': 37156, 'nayanthara': 37157, 'nayeem': 37158, 'nayyar': 37159, 'nazara': 37160, 'nazrul': 37161, 'nc[p': 37162, 'ncdrc': 37163, 'ncl': 37164, 'ncov': 37165, 'ncpcr': 37166, 'nebulizer': 37167, 'nec': 37168, 'nee': 37169, 'needhi': 37170, 'needlessly': 37171, 'neeli': 37172, 'neepco': 37173, 'neethi': 37174, 'neetu': 37175, 'negatives': 37176, 'negligible': 37177, 'negotiated': 37178, 'neiphiu': 37179, 'nemade': 37180, 'nene': 37181, 'nenu': 37182, 'neon': 37183, 'nervousness': 37184, 'nescafé': 37185, 'netneutrality': 37186, 'netra': 37187, 'neurological': 37188, 'neuroscience': 37189, 'neuroscientist': 37190, 'neutralized': 37191, 'nevada': 37192, 'neverending': 37193, 'neville': 37194, 'newfound': 37195, 'newsnight': 37196, 'newsweek': 37197, 'newsworthy': 37198, 'nexa': 37199, 'nfs': 37200, 'nh-24': 37201, 'nh-8': 37202, 'niagara': 37203, 'niantic': 37204, 'nibble': 37205, 'nicer': 37206, 'niceties': 37207, 'nickelodeon': 37208, 'nicole': 37209, 'nicotine': 37210, 'nidahas': 37211, 'nigh': 37212, 'nightcall': 37213, 'nighties': 37214, 'nighttime': 37215, 'nihalchand': 37216, 'nihang': 37217, 'nihangs': 37218, 'nihlani': 37219, 'niira': 37220, 'nikalo': 37221, 'nikita': 37222, 'nikkhil': 37223, 'nikle': 37224, 'nilayam': 37225, 'nilgiri': 37226, 'nimbooda': 37227, 'nimitz': 37228, 'nimrat': 37229, 'nina': 37230, 'ning': 37231, 'nio': 37232, 'nipah': 37233, 'nipun': 37234, 'nirbhayacase': 37235, 'niro': 37236, 'niroula': 37237, 'nisham': 37238, 'nitin_rivaldo': 37239, 'nityananda': 37240, 'niwas': 37241, 'nixed': 37242, 'nizamia': 37243, 'njac': 37244, 'nlc': 37245, 'nlp': 37246, 'nmims': 37247, 'no.5': 37248, 'nobroker': 37249, 'nocorruption.in': 37250, 'node': 37251, 'nodis': 37252, 'nograj': 37253, 'nogstonhighedu': 37254, 'nokku': 37255, 'nomad': 37256, 'nonagenarian': 37257, 'nongriat': 37258, 'noone': 37259, 'noorie': 37260, 'nora': 37261, 'nordic': 37262, 'normalisation': 37263, 'nosleep': 37264, 'note8': 37265, 'notional': 37266, 'notre': 37267, 'nov-2016': 37268, 'novartis': 37269, 'novice': 37270, 'nowhatta': 37271, 'np][ask': 37272, 'np][askindia': 37273, 'np][help': 37274, 'np][x': 37275, 'np]any': 37276, 'np]dear': 37277, 'np]did': 37278, 'np]flipkart': 37279, 'np]funny': 37280, 'np]in': 37281, 'np]indians': 37282, 'np]isro': 37283, 'np]just': 37284, 'np]modi': 37285, 'np]new': 37286, 'np]psa': 37287, 'np]stop': 37288, 'np]suggest': 37289, 'np]there': 37290, 'np]these': 37291, 'np]who': 37292, 'npp': 37293, 'nric': 37294, 'nrs': 37295, 'nsab': 37296, 'nsfw][np': 37297, 'nsut': 37298, 'nsw': 37299, 'ntse': 37300, 'ntt': 37301, 'nuances': 37302, 'nucleus': 37303, 'nuked': 37304, 'nukkad': 37305, 'null': 37306, 'nutrient': 37307, 'nutrients': 37308, 'nutritionists': 37309, 'nutters': 37310, 'nutty': 37311, 'nyas': 37312, \"o'dwyer\": 37313, 'o.': 37314, 'obamas': 37315, 'obit': 37316, 'objectifying': 37317, 'obscurity': 37318, 'obsess': 37319, 'obstetrician': 37320, 'obtains': 37321, 'oc][np': 37322, 'ocasio': 37323, 'occasional': 37324, 'octa': 37325, 'oculus': 37326, 'od': 37327, 'oddeven': 37328, 'odoo': 37329, 'odor': 37330, 'offends': 37331, 'offer-': 37332, 'offshoot': 37333, 'oggy': 37334, 'ogilvy': 37335, 'ogle': 37336, 'oilfields': 37337, 'ointment': 37338, 'ojas': 37339, 'okey': 37340, 'oks': 37341, 'old-': 37342, 'old]india': 37343, 'old]why': 37344, 'oldschool': 37345, 'oltmans': 37346, 'olympus': 37347, 'oma': 37348, 'omcs': 37349, 'omidyar': 37350, 'omits': 37351, 'omlp2p': 37352, 'omni': 37353, 'omnipresent': 37354, 'omr': 37355, 'onedrive': 37356, 'oneness': 37357, 'oneplus3': 37358, 'onyx': 37359, 'oonchi': 37360, 'opds': 37361, 'oped': 37362, 'openness': 37363, 'opportunism': 37364, 'opportunists': 37365, 'opposers': 37366, 'oppositions': 37367, 'optimum': 37368, 'orchards': 37369, 'orchha': 37370, 'oregon': 37371, 'organizational': 37372, 'orgasm': 37373, 'orginals': 37374, 'orient': 37375, 'originality': 37376, 'ornament': 37377, 'ortel': 37378, 'ortho': 37379, 'orton': 37380, 'osmanabad': 37381, 'ostriches': 37382, 'oswal': 37383, 'ota': 37384, 'otg': 37385, 'otts': 37386, 'ou': 37387, 'outdo': 37388, 'outed': 37389, 'outgunned': 37390, 'outlawing': 37391, 'outlaws': 37392, 'outlined': 37393, 'outlived': 37394, 'outperforming': 37395, 'outperforms': 37396, 'outrace': 37397, 'outsells': 37398, 'outsmart': 37399, 'outweigh': 37400, 'overarching': 37401, 'overbearing': 37402, 'overdraft': 37403, 'overdraw': 37404, 'overflow': 37405, 'overground': 37406, 'overhauled': 37407, 'overhearing': 37408, 'overlaid': 37409, 'overpaying': 37410, 'overproduction': 37411, 'overreact': 37412, 'overrules': 37413, 'overshadowed': 37414, 'overstayed': 37415, 'overstretched': 37416, 'overt': 37417, 'overthrown': 37418, 'oxidized': 37419, 'oxytocin': 37420, 'oxyveda.com': 37421, 'oyster': 37422, 'p&amp;g': 37423, 'p.a': 37424, 'p.c.': 37425, 'p.chidambaram': 37426, 'p.sainath': 37427, 'p1': 37428, 'p5': 37429, 'p][old': 37430, 'p]admaavat': 37431, 'p]an': 37432, 'p]anel': 37433, 'p]awar': 37434, 'p]etrol': 37435, 'p]for': 37436, 'p]in': 37437, 'p]mumbai': 37438, 'p]olicy': 37439, 'p]rime': 37440, 'p]romises': 37441, 'p]we': 37442, 'pade': 37443, 'padmaavati': 37444, 'padmanabha': 37445, 'pahad': 37446, 'pahari': 37447, 'paida': 37448, 'painless': 37449, 'pairs': 37450, 'pajeet': 37451, 'paji': 37452, 'pakaude': 37453, 'pakista': 37454, 'pakka': 37455, 'pakoras': 37456, 'paksha': 37457, 'pala': 37458, 'palem': 37459, 'pallu': 37460, 'palpable': 37461, 'paltry': 37462, 'panaya': 37463, 'pancakes': 37464, 'pancard': 37465, 'panchgavya': 37466, 'pancreatic': 37467, 'pander': 37468, 'pandering': 37469, 'panditji': 37470, 'panelled': 37471, 'panes': 37472, 'panghal': 37473, 'panicker': 37474, 'panics': 37475, 'panipuri': 37476, 'panjabi': 37477, 'pankhuri': 37478, 'pannalal': 37479, 'panun': 37480, 'pao': 37481, 'paparazzi': 37482, 'papaya': 37483, 'papertrail': 37484, 'pappa': 37485, 'paramahansa': 37486, 'parameswaran': 37487, 'parasites': 37488, 'parent(s': 37489, 'pares': 37490, 'pargat': 37491, 'parikrama': 37492, 'parkar': 37493, 'parkour': 37494, 'parlor': 37495, 'parodied': 37496, 'part1': 37497, 'part2': 37498, 'participle': 37499, 'partitioning': 37500, 'paruppu': 37501, 'parvatha': 37502, 'passages': 37503, 'passionately': 37504, 'pastors': 37505, 'pasture': 37506, 'patake': 37507, 'patang': 37508, 'patching': 37509, 'patchy': 37510, 'paternal': 37511, 'pathanamthitta': 37512, 'pathé': 37513, 'patiently': 37514, 'patri': 37515, 'patricia': 37516, 'patronising': 37517, 'pattas': 37518, 'patthar': 37519, 'patton': 37520, 'pattu': 37521, 'pavagada': 37522, 'pavan': 37523, 'paw': 37524, 'pawna': 37525, 'payouts': 37526, 'paytmmall': 37527, 'payyanur': 37528, 'pbi': 37529, 'pcc': 37530, 'pcmr': 37531, 'pcos': 37532, 'pebble': 37533, 'pec': 37534, 'pectin': 37535, 'peda': 37536, 'pediredla': 37537, 'peekematchala': 37538, 'peeking': 37539, 'peel': 37540, 'peele': 37541, 'pehredar': 37542, 'pele': 37543, 'penalize': 37544, 'penance': 37545, 'pendency': 37546, 'pendrive': 37547, 'penetrate': 37548, 'pepperoni': 37549, 'pereira': 37550, 'perera': 37551, 'perfumer': 37552, 'perfumers': 37553, 'periodically': 37554, 'perpetrated': 37555, 'perpetually': 37556, 'perpetuate': 37557, 'perpetuates': 37558, 'perseverance,0-optimism': 37559, 'persians': 37560, 'personalfinance': 37561, 'personified': 37562, 'persuaded': 37563, 'perturbed': 37564, 'perv': 37565, 'pervy': 37566, 'pes': 37567, 'pesa': 37568, 'peson': 37569, 'pests': 37570, 'petcoke': 37571, 'peterson': 37572, 'petrochemicals': 37573, 'petronas': 37574, 'pettiness': 37575, 'petting': 37576, 'pewdiepiesubmissions': 37577, 'ph.d.': 37578, 'pharmacists': 37579, 'phelps': 37580, 'phethai': 37581, 'philae': 37582, 'philipp': 37583, 'philippe': 37584, 'phill': 37585, 'phon': 37586, 'phoren': 37587, 'photocopied': 37588, 'phuket': 37589, 'phy': 37590, 'piche': 37591, 'pickaxe': 37592, 'picker': 37593, 'pickpocket': 37594, 'picky': 37595, 'picturing': 37596, 'pied': 37597, 'pierced': 37598, 'piero': 37599, 'pierre': 37600, 'piet': 37601, 'pietersen': 37602, 'piling': 37603, 'pinless': 37604, 'pinnacle': 37605, 'pinpoint': 37606, 'pint': 37607, 'piper': 37608, 'pipped': 37609, 'pirating': 37610, 'pisface': 37611, 'pitcher': 37612, 'pitha': 37613, 'pithoragarh': 37614, 'pitiable': 37615, 'pitru': 37616, 'pitted': 37617, 'pitting': 37618, 'pix': 37619, 'pixels': 37620, 'pjs': 37621, 'placate': 37622, 'placify': 37623, 'plagiarised': 37624, 'plagiarist': 37625, 'plagiarizing': 37626, 'plagues': 37627, 'planetarium': 37628, 'planks': 37629, 'plaque': 37630, 'platform-': 37631, 'playoffs': 37632, 'plc': 37633, 'pledging': 37634, 'plogging': 37635, 'plugging': 37636, 'plugin': 37637, 'plugins': 37638, 'pluralist': 37639, 'pmco': 37640, 'pmt': 37641, 'pn': 37642, 'pnc': 37643, 'png': 37644, 'poa': 37645, 'pocha': 37646, 'pocophone': 37647, 'pogroms': 37648, 'pokestops': 37649, 'poking': 37650, 'politicized': 37651, 'politicizing': 37652, 'politicslast': 37653, 'politoon': 37654, 'pollandball': 37655, 'polyester': 37656, 'polyglot': 37657, 'polygraph': 37658, 'polymer': 37659, 'pondichéry': 37660, 'pondy': 37661, 'pong': 37662, 'ponmudi': 37663, 'poornima': 37664, 'poors': 37665, 'poorva': 37666, 'poovi': 37667, 'populists': 37668, 'porki': 37669, 'porno': 37670, 'porous': 37671, 'postgrad': 37672, 'postmen': 37673, 'postponing': 37674, 'posturing': 37675, 'potassium': 37676, 'potshot': 37677, 'potted': 37678, 'pourakarmikas': 37679, 'powar': 37680, 'powerbank': 37681, 'powerlooms': 37682, 'powershot': 37683, 'prabhudeva': 37684, 'prachar': 37685, 'pradyot': 37686, 'prafulla': 37687, 'pragyan': 37688, 'prahar': 37689, 'prajnesh': 37690, 'pranayam': 37691, 'pranayama': 37692, 'pranesh': 37693, 'prankster': 37694, 'prasadhak': 37695, 'prasanna': 37696, 'pratapgarhi': 37697, 'pratt': 37698, 'pratyush': 37699, 'pravind': 37700, 'prc': 37701, 'precedes': 37702, 'precursor': 37703, 'predecessors': 37704, 'predicament': 37705, 'preempt': 37706, 'preemptive': 37707, 'preety': 37708, 'preferring': 37709, 'premam': 37710, 'prematurely': 37711, 'prenuptial': 37712, 'preparatory': 37713, 'preponed': 37714, 'prescribing': 37715, 'preseason': 37716, 'presedential': 37717, 'pressler': 37718, 'pressurize': 37719, 'presumably': 37720, 'presumptions': 37721, 'pretended': 37722, 'prevailed': 37723, 'preying': 37724, 'printable': 37725, 'prioritizing': 37726, 'privatizing': 37727, 'privy': 37728, 'priyadarshini': 37729, 'priye': 37730, 'procrastinate': 37731, 'procrastination': 37732, 'procss': 37733, 'procures': 37734, 'profanity': 37735, 'professionalism': 37736, 'profiled': 37737, 'profoundis': 37738, 'progeny': 37739, 'programmable': 37740, 'project-': 37741, 'projector': 37742, 'propels': 37743, 'proponent': 37744, 'proprietary': 37745, 'propriety': 37746, 'prostrate': 37747, 'protip': 37748, 'provisioning': 37749, 'prowl': 37750, 'prude': 37751, 'prudence': 37752, 'prudential': 37753, 'psecular': 37754, 'psk': 37755, 'psp': 37756, 'psychic': 37757, 'ptr': 37758, 'pubic': 37759, 'pudding': 37760, 'puff': 37761, 'puffs': 37762, 'pug': 37763, 'pujya': 37764, 'pulicat': 37765, 'pulimurugan': 37766, 'pulla': 37767, 'puma': 37768, 'punchline': 37769, 'punctuation': 37770, 'punctures': 37771, 'pune-': 37772, 'punjaap': 37773, 'puns': 37774, 'punsari': 37775, 'pupil': 37776, 'puppets': 37777, 'puratchi': 37778, 'purest': 37779, 'puris': 37780, 'purohits': 37781, 'purses': 37782, 'pursues': 37783, 'purti': 37784, 'purvi': 37785, 'pusarla': 37786, 'pushpak': 37787, 'pushy': 37788, 'putt': 37789, 'putter': 37790, 'puttu': 37791, 'pyare': 37792, 'pyres': 37793, 'pythagoras': 37794, 'q.': 37795, 'qadri': 37796, 'qatal': 37797, 'qatari': 37798, 'qatil': 37799, 'qf': 37800, 'qgyh2': 37801, 'qled': 37802, 'qos': 37803, 'quadri': 37804, 'quadruple': 37805, 'qualitative': 37806, 'quarantines': 37807, 'quasi': 37808, 'queers': 37809, 'ques': 37810, 'quidditch': 37811, 'quietest': 37812, 'quilts': 37813, 'quintessentially': 37814, 'quixote': 37815, 'quixotic': 37816, 'quizzes': 37817, 'r*ndi': 37818, 'r.d.': 37819, 'r.r.': 37820, 'r\\\\india': 37821, 'r]ahul': 37822, 'r]can': 37823, 'r]do': 37824, 'r]ediquette': 37825, 'r]how': 37826, 'r]is': 37827, 'r]this': 37828, 'r]til': 37829, 'raahul': 37830, 'raaj': 37831, 'raani': 37832, 'rabinder': 37833, 'rabindra': 37834, 'rac': 37835, 'rack': 37836, 'racketeers': 37837, 'radeon': 37838, 'radhabinod': 37839, 'radhakishan': 37840, 'radhanagar': 37841, 'radically': 37842, 'radiology': 37843, 'radisson': 37844, 'rafaledeal': 37845, 'ragged': 37846, 'raghavji': 37847, 'raghuvanshi': 37848, 'raguram': 37849, 'rahoon': 37850, 'rajashtan': 37851, 'rajendran': 37852, 'rajkamal': 37853, 'rajneeshpuram': 37854, 'rajura': 37855, 'rajyotsava': 37856, 'rakshith': 37857, 'ramallah': 37858, 'ramanaidu': 37859, 'ramanathaswamy': 37860, 'ramanavami': 37861, 'ramanunni': 37862, 'ramasamy': 37863, 'ramaswami': 37864, 'ramayanam': 37865, 'rambhakt': 37866, 'rambo': 37867, 'rameshwaram': 37868, 'ramrahimverdict': 37869, 'randhir': 37870, 'randomized': 37871, 'randstad': 37872, 'ranga': 37873, 'ranil': 37874, 'ranjith': 37875, 'rankers': 37876, 'ransacks': 37877, 'rarer': 37878, 'rarity': 37879, 'rasa': 37880, 'rasheed': 37881, 'rashi': 37882, 'rashly': 37883, 'ratchets': 37884, 'ravage': 37885, 'ravishing': 37886, 'ravjiani': 37887, 'rdds': 37888, 're[p]ublic': 37889, 'rea': 37890, 'reachable': 37891, 'reactjs': 37892, 'reams': 37893, 'reaped': 37894, 'reappear': 37895, 'reassessing': 37896, 'reassignment': 37897, 'reassure': 37898, 'reassuring': 37899, 'rebrand': 37900, 'rebranding': 37901, 'rebuff': 37902, 'rebuts': 37903, 'rec': 37904, \"rec'd\": 37905, 'recapitalise': 37906, 'reccomend': 37907, 'receded': 37908, 'rechargeable': 37909, 'recipe.(x': 37910, 'reciprocate': 37911, 'recital': 37912, 'reckitt': 37913, 'reckon': 37914, 'reclaimed': 37915, 'reclusive': 37916, 'recoiled': 37917, 'recollect': 37918, 'reconcile': 37919, 'recounted': 37920, 'recreates': 37921, 'rectal': 37922, 'rectification': 37923, 'recursive': 37924, 'recusal': 37925, 'recycles': 37926, 'reddit.com': 37927, 'redditpoll.com': 37928, 'redditt': 37929, 'rediculous': 37930, 'redimi': 37931, 'redink': 37932, 'rediquette': 37933, 'redirects': 37934, 'rediscovered': 37935, 'reditt': 37936, 'redness': 37937, 'redo': 37938, 'redrawing': 37939, 'reductions': 37940, 'reed': 37941, 'reelecting': 37942, 'reema': 37943, 'reena': 37944, 'reeves': 37945, 'ref': 37946, 'refill': 37947, 'refinance': 37948, 'refiner': 37949, 'refineries': 37950, 'refrains': 37951, 'refuelling': 37952, 'refurbishing': 37953, 'reggae': 37954, 'regress': 37955, 'regularisation': 37956, 'regulars': 37957, 'rehabilitated': 37958, 'rehabilitating': 37959, 'rehearsals': 37960, 'reimagined': 37961, 'reimagines': 37962, 'reimbursed': 37963, 'reinforcing': 37964, 'reinhard': 37965, 'reinvention': 37966, 'reinvents': 37967, 'reissued': 37968, 'reissuing': 37969, 'reita': 37970, 'rejoins': 37971, 'relapsed': 37972, 'relegated': 37973, 'relents': 37974, 'reliably': 37975, 'relied': 37976, 'religiousness': 37977, 'relishes': 37978, 'reluctance': 37979, 'rematch': 37980, 'reminiscing': 37981, 'renedy': 37982, 'renegade': 37983, 'renn': 37984, 'renovating': 37985, 'rentomojo': 37986, 'renunciation': 37987, 'reopening': 37988, 'repacking': 37989, 'repaid': 37990, 'repaying': 37991, 'repayments': 37992, 'repeater': 37993, 'repellent': 37994, 'reprisals': 37995, 'reproduce': 37996, 'reproduction': 37997, 'reptile': 37998, 'reptilian': 37999, 'republicday': 38000, 'republicindia.in': 38001, 'reputations': 38002, 'repute': 38003, 'requisites': 38004, 'reschedules': 38005, 'resembling': 38006, 'resets': 38007, 'reshaped': 38008, 'reshma': 38009, 'resize': 38010, 'reskill': 38011, 'resonant': 38012, 'respectfully': 38013, 'responsibletravel': 38014, 'resting': 38015, 'restructured': 38016, 'restuarant': 38017, 'resumed': 38018, 'resuming': 38019, 'retainer': 38020, 'retakes': 38021, 'retaliated': 38022, 'retaliating': 38023, 'reticent': 38024, 'retina': 38025, 'retribution': 38026, 'retrograde': 38027, 'rev': 38028, 'reva': 38029, 'revaluation': 38030, 'revamping': 38031, 'revelry': 38032, 'revere': 38033, 'reverification': 38034, 'reviled': 38035, 'revisor': 38036, 'revolting': 38037, 'revolutionise': 38038, 'revolutionised': 38039, 'revolves': 38040, 'revs': 38041, 'rewa': 38042, 'rhce': 38043, 'rhe': 38044, 'rhel': 38045, 'rhetorical': 38046, 'rhetorics': 38047, 'rhythms': 38048, 'ricin': 38049, 'rickshawala': 38050, 'riddance': 38051, 'rigour': 38052, 'rikshaw': 38053, 'riles': 38054, 'rindian': 38055, 'rioted': 38056, 'ripening': 38057, 'riposte': 38058, 'risat-2br1': 38059, 'risc': 38060, 'riskiest': 38061, 'ritchie': 38062, 'ritualism': 38063, 'rivalries': 38064, 'river-': 38065, 'rlv': 38066, 'rlys': 38067, 'rmai': 38068, 'roberto': 38069, 'roelant': 38070, 'roi': 38071, 'rola': 38072, 'roland': 38073, 'rolf': 38074, 'rollercoaster': 38075, 'rollsroy': 38076, 'romancing': 38077, 'romania': 38078, 'rookie': 38079, 'roosi': 38080, 'rosefinch': 38081, 'rotary': 38082, 'rotating': 38083, 'rotavirus': 38084, 'roth': 38085, 'rothschild': 38086, 'rouhani': 38087, 'rousing': 38088, 'rovers': 38089, 'rowing': 38090, 'rowling': 38091, 'royalties': 38092, 'roz': 38093, 'rozana': 38094, 'rps': 38095, 'rrc': 38096, 'rrcat': 38097, 'rs.0': 38098, 'rs.199': 38099, 'rs.300': 38100, 'rs.400': 38101, 'rs.499': 38102, 'rs150': 38103, 'rs200': 38104, 'rs2000': 38105, 'rs3': 38106, 'rs3,000': 38107, 'rs4.5': 38108, 'rs5': 38109, 'rs700': 38110, 'rs99': 38111, 'rsl': 38112, 'rtd': 38113, 'rts': 38114, 'rubaru': 38115, 'rudimentary': 38116, 'rudra': 38117, 'rudraksha': 38118, 'rudraprayag': 38119, 'rudyard': 38120, 'ruffle': 38121, 'rumored': 38122, 'runnr': 38123, 'rupaye': 38124, 'ruralindia': 38125, 'russel': 38126, 'rustic': 38127, 'ryzen': 38128, 's-': 38129, 's.p.': 38130, 's01e01': 38131, 's07e06': 38132, 's2do.in': 38133, 's[p]eech': 38134, 'saabs': 38135, 'saale': 38136, 'saalo': 38137, 'saalumarada': 38138, 'sabbir': 38139, 'sabke': 38140, 'sabo': 38141, 'sachar': 38142, 'sachcha': 38143, 'sadabahr': 38144, 'sadbhavna': 38145, 'sadhya': 38146, 'sadia': 38147, 'safaigiri': 38148, 'safar': 38149, 'safaris': 38150, 'safdar': 38151, 'safesexindia': 38152, 'safetynets': 38153, 'sagarikaghose': 38154, 'sahayaks': 38155, 'sahiba': 38156, 'sahibabad': 38157, 'sahibs': 38158, 'sahni': 38159, 'sahyadri': 38160, 'sahyakada': 38161, 'saic': 38162, 'saiee': 38163, 'saikat': 38164, 'saira': 38165, 'sairat': 38166, 'sajith': 38167, 'sajjanar': 38168, 'sajna': 38169, 'sakal': 38170, 'sakht': 38171, 'saksham': 38172, 'salafism': 38173, 'salar': 38174, 'saline': 38175, 'saliva': 38176, 'salvage': 38177, 'samaan': 38178, 'samar': 38179, 'sambalpur': 38180, 'sameer': 38181, 'samhita': 38182, 'samit': 38183, 'samman': 38184, 'samna': 38185, 'sampark': 38186, 'sampat': 38187, 'sampled': 38188, 'samsara': 38189, 'samsonite': 38190, 'samvad': 38191, 'samvidhan': 38192, 'sanatana': 38193, 'sanchar': 38194, 'sandaas': 38195, 'sandal': 38196, 'sandbox': 38197, 'sandeshkhali': 38198, 'sangama': 38199, 'sangeeta': 38200, 'sangharsh': 38201, 'sangla': 38202, 'sangliana': 38203, 'sangram': 38204, 'sanitarypanels': 38205, 'sanitised': 38206, 'sanitiser': 38207, 'sanitize': 38208, 'sanjivani': 38209, 'sankaracharya': 38210, 'sankat': 38211, 'sannyasi': 38212, 'sanskars': 38213, 'sants': 38214, 'sanyas': 38215, 'sanyasin': 38216, 'sapiosexual': 38217, 'sapno': 38218, 'saraf': 38219, 'sarai': 38220, 'sarcastically': 38221, 'sardarpura': 38222, 'sarfaraz': 38223, 'sariska': 38224, 'saritha': 38225, 'sarla': 38226, 'sarna': 38227, 'sarod': 38228, 'saroj': 38229, 'sarokar': 38230, 'saroo': 38231, 'sarvjeet': 38232, 'sassy': 38233, 'sasti': 38234, 'sastri': 38235, 'sasural': 38236, 'sathasivam': 38237, 'satpal': 38238, 'saturdaymotivation': 38239, 'satyanarayana': 38240, 'saugandh': 38241, 'saveaarey': 38242, 'savour': 38243, 'sayed': 38244, 'sazi': 38245, 'scantily': 38246, 'scc': 38247, 'scepticism': 38248, 'schoolers': 38249, 'schoolmates': 38250, 'schrödinger': 38251, 'scifi': 38252, 'scions': 38253, 'scissor': 38254, 'sclerosis': 38255, 'scooby': 38256, 'scorned': 38257, 'scots': 38258, 'scouting': 38259, 'scrambling': 38260, 'scraped': 38261, 'scratched': 38262, 'scratching': 38263, 'screengrab': 38264, 'screwvala': 38265, 'scripture': 38266, 'scrub': 38267, 'scrubs': 38268, 'scrutinised': 38269, 'scrutinize': 38270, 'scuffles': 38271, 'sds': 38272, 'sdxc': 38273, 'seagulls': 38274, 'searchable': 38275, 'searing': 38276, \"sec'bad\": 38277, 'secede': 38278, 'secluded': 38279, 'sectarianism': 38280, 'section377': 38281, 'sedated': 38282, 'segmentation': 38283, 'sehrawat': 38284, 'seige': 38285, 'sekhri': 38286, 'selector': 38287, 'selena': 38288, 'self.india': 38289, 'selloff': 38290, 'semiconductors': 38291, 'sensationalising': 38292, 'sensationalized': 38293, 'sensibilities': 38294, 'senthil': 38295, 'sentinels': 38296, 'seovisa': 38297, 'seovisa.com': 38298, 'serbian': 38299, 'serenading': 38300, 'serenity': 38301, 'series-': 38302, 'series|clat': 38303, 'serious][np': 38304, 'serious]consulting': 38305, 'serious]my': 38306, 'service-': 38307, 'sesa': 38308, 'sethusamudram': 38309, 'settlers': 38310, 'sevika': 38311, 'sew': 38312, 'sexting': 38313, 'sextortion': 38314, 'sextoy': 38315, 'sfarmsindia': 38316, 'sfio': 38317, 'sgnp': 38318, 'shabha': 38319, 'shackled': 38320, 'shadowy': 38321, 'shahenshah': 38322, 'shahs': 38323, 'shailendra': 38324, 'shakalaka': 38325, 'shakib': 38326, 'shakira': 38327, 'shakshi': 38328, 'shakthi': 38329, 'shaktisinh': 38330, 'shambhu': 38331, 'shamelessness': 38332, 'shameontimesnow': 38333, 'shamshabad': 38334, 'shan': 38335, 'shankara': 38336, 'shankarsinh': 38337, 'shanmuganathan': 38338, 'shanthinagar': 38339, 'shantiniketan': 38340, 'shar': 38341, 'sharab': 38342, 'sharan': 38343, 'shareef': 38344, 'sharpened': 38345, 'shaver': 38346, 'shay': 38347, 'shayar': 38348, 'shayaris': 38349, 'sheeps': 38350, 'shefali': 38351, 'sheher': 38352, 'sheltered': 38353, 'shepherd': 38354, 'sherlyn': 38355, 'sherni': 38356, 'shettar': 38357, 'shikwa': 38358, 'shiladitya': 38359, 'shill': 38360, 'shills': 38361, 'shimmering': 38362, 'shingnapur': 38363, 'shinkansen': 38364, 'shippers': 38365, 'shireen': 38366, 'shirin': 38367, 'shirish': 38368, 'shisha': 38369, 'shitfest': 38370, 'shitters': 38371, 'shivajinagar': 38372, 'shivakumara': 38373, 'shivani': 38374, 'shivering': 38375, 'shivrajsingh': 38376, 'shixian': 38377, 'shlokas': 38378, 'shockproof': 38379, 'shoojit': 38380, 'shoplifting': 38381, 'shor': 38382, 'shorey': 38383, 'shortened': 38384, 'shovel': 38385, 'showered': 38386, 'showerthought]if': 38387, 'showrooms': 38388, 'shredded': 38389, 'shrestha': 38390, 'shrewd': 38391, 'shreyas': 38392, 'shridevi': 38393, 'shrill': 38394, 'shringla': 38395, 'shrivastav': 38396, 'shrivastava': 38397, 'shubham': 38398, 'shubhra': 38399, \"shudn't\": 38400, 'shukra': 38401, 'shurhozelie': 38402, 'shyamala': 38403, 'shyamapada': 38404, 'shying': 38405, 'siberian': 38406, 'siddhanta': 38407, 'siddhi': 38408, 'siddi': 38409, 'siddu': 38410, 'sidestepping': 38411, 'sidewalk': 38412, 'sigil': 38413, 'sikdar': 38414, 'silchar': 38415, 'silencers': 38416, 'silky': 38417, 'silliest': 38418, 'silliness': 38419, 'simbhaoli': 38420, 'simeon': 38421, 'simla': 38422, 'simliar': 38423, 'simpl': 38424, 'simplification': 38425, 'simulate': 38426, 'singaporean': 38427, 'singhbhum': 38428, 'singled': 38429, 'singular': 38430, 'sinhagad': 38431, 'sinners': 38432, 'siphon': 38433, 'sippy': 38434, 'sirius': 38435, 'sitamarhi': 38436, 'sittings': 38437, 'sivagangai': 38438, 'sivaji': 38439, 'siwan': 38440, 'sixteen': 38441, 'siya': 38442, 'sjw': 38443, 'skateboarding': 38444, 'skating': 38445, 'sketchy': 38446, 'skewers': 38447, 'skid': 38448, 'skyload': 38449, 'skymet': 38450, 'slant': 38451, 'slapgate': 38452, 'slashdot': 38453, 'slashing': 38454, 'slavoj': 38455, 'slider': 38456, 'slighted': 38457, 'slinging': 38458, 'slo': 38459, 'sls': 38460, 'sludge': 38461, 'slumber': 38462, 'slumped': 38463, 'smeared': 38464, 'smears': 38465, 'smfh': 38466, 'smiley': 38467, 'smoggy': 38468, 'smss': 38469, 'snags': 38470, 'snails': 38471, 'snapping': 38472, 'sneaking': 38473, 'sneezing': 38474, 'snek': 38475, 'snesarev': 38476, 'sniffing': 38477, 'snorkeling': 38478, 'snuffed': 38479, 'snyder': 38480, 'soak': 38481, 'sobering': 38482, 'sobhraj': 38483, 'sochi': 38484, 'socialists': 38485, 'socializing': 38486, 'socials': 38487, 'socialtrade': 38488, 'sociopath': 38489, 'socrates': 38490, 'sodexo': 38491, 'softex': 38492, 'softly': 38493, 'sohan': 38494, 'sohna': 38495, 'solicitation': 38496, 'solidtrust': 38497, 'solitary': 38498, 'solution-': 38499, 'sombre': 38500, 'someome': 38501, 'sonagachi': 38502, 'sonar': 38503, 'sonepur': 38504, 'song-': 38505, 'sonmarg(kashmir)||memory': 38506, 'sooooo': 38507, 'sooryavanshi': 38508, 'sorcery': 38509, 'soumik': 38510, 'soundararajan': 38511, 'soura': 38512, 'source-': 38513, 'sourceforge': 38514, 'soured': 38515, 'southasianhistory': 38516, 'southindia': 38517, 'sowed': 38518, 'soy': 38519, 'sparse': 38520, 'spawning': 38521, 'speach': 38522, 'speakout': 38523, 'spearhead': 38524, 'specialdelivery': 38525, 'specialities': 38526, 'specialized': 38527, 'specilaists': 38528, 'specimen': 38529, 'speculate': 38530, 'speculative': 38531, 'spelt': 38532, 'spencer': 38533, 'spheres': 38534, 'sphinx': 38535, 'spilling': 38536, 'spindle': 38537, 'spinster': 38538, 'spirals': 38539, 'spl': 38540, 'splashed': 38541, 'splendor': 38542, 'splurges': 38543, 'splurging': 38544, 'spokespeople': 38545, 'spoliers': 38546, 'spongebob': 38547, 'spoofs': 38548, 'spoons': 38549, 'sporadic': 38550, 'sportsman': 38551, 'spotless': 38552, 'spreader': 38553, 'spurring': 38554, 'squatting': 38555, 'squeezes': 38556, 'squib': 38557, 'sra': 38558, 'sreejith': 38559, 'srihari': 38560, 'srilankan': 38561, 'sriracha': 38562, 'sriram': 38563, 'srmeee': 38564, 'srt.phone': 38565, 'sscscam': 38566, 'ssg': 38567, 'stabilisation': 38568, 'stabilize': 38569, 'stabilizer': 38570, 'stacks': 38571, 'stagflation': 38572, 'staircase': 38573, 'stale': 38574, 'stalwarts': 38575, 'stamped': 38576, 'standardised': 38577, 'standardization': 38578, 'standwithjnu': 38579, 'stansted': 38580, 'stanton': 38581, 'staple': 38582, 'starfleet': 38583, 'stargazers': 38584, 'stargazing': 38585, 'startrail': 38586, 'startupindia': 38587, 'starwars': 38588, 'stat': 38589, 'stationary': 38590, 'statistically': 38591, 'statuette': 38592, 'status||': 38593, 'steak': 38594, 'steaming': 38595, 'steeper': 38596, 'stein': 38597, 'stereo': 38598, 'sterilizing': 38599, 'stifled': 38600, 'stifles': 38601, 'stifling': 38602, 'stimulating': 38603, 'stirred': 38604, 'stockpiling': 38605, 'stonewalls': 38606, 'stooges': 38607, 'stophindiimposition': 38608, 'stopover': 38609, 'storks': 38610, 'story-': 38611, 'stotra': 38612, 'stotram': 38613, 'straits': 38614, 'strand': 38615, 'strangling': 38616, 'strava': 38617, 'strawberries': 38618, 'straws': 38619, 'streamlining': 38620, 'streetlights': 38621, 'streetwear': 38622, 'strewn': 38623, 'strikers': 38624, 'strolling': 38625, 'strongrooms': 38626, 'structuring': 38627, 'students/': 38628, 'stuffing': 38629, 'stultify': 38630, 'stupa': 38631, 'stupor': 38632, 'stuti': 38633, 'stv': 38634, 'styling': 38635, 'suarez': 38636, 'suave': 38637, 'subcribe': 38638, 'subhan': 38639, 'subir': 38640, 'submerges': 38641, 'subram': 38642, 'subramanya': 38643, 'subred': 38644, 'subroto': 38645, 'subsidising': 38646, 'subsidize': 38647, 'substantive': 38648, 'substation': 38649, 'substituted': 38650, 'substitution': 38651, 'subtraction': 38652, 'subversive': 38653, 'succeeding': 38654, 'sudeep': 38655, 'sudhar': 38656, 'sufficiently': 38657, 'suffix': 38658, 'suffocate': 38659, 'sufism': 38660, 'sufiya': 38661, 'sugata': 38662, 'suhana': 38663, 'suhasini': 38664, 'suis': 38665, 'sukhoi-30mki': 38666, 'suleimani': 38667, 'suleman': 38668, 'sullying': 38669, 'sulphate': 38670, 'sultans': 38671, 'sumangala': 38672, 'sumita': 38673, 'summits': 38674, 'sumo': 38675, 'sunaina': 38676, 'sundaythoughts': 38677, 'suniel': 38678, 'super[p]ower': 38679, 'superbikes': 38680, 'supercars': 38681, 'superfan': 38682, 'superficial': 38683, 'superficially': 38684, 'superhits': 38685, 'supernet': 38686, 'supersedes': 38687, 'supersuit': 38688, 'supertech': 38689, 'supervision': 38690, 'surabhi': 38691, 'surakshit': 38692, 'surendran': 38693, 'surka': 38694, 'suroor': 38695, 'surpanakha': 38696, 'surround': 38697, 'surveen': 38698, 'surveyor': 38699, 'susceptible': 38700, 'suspensions': 38701, 'susruta': 38702, 'sustainabletourism': 38703, 'sustainably': 38704, 'suvarna': 38705, 'suvidha': 38706, 'suzlon': 38707, 'swachhbharat': 38708, 'swadesi': 38709, 'swamis': 38710, 'swank': 38711, 'swanson': 38712, 'swarms': 38713, 'swarna': 38714, 'swasthya': 38715, 'swastik': 38716, 'swathe': 38717, 'swaying': 38718, 'sweater': 38719, 'sweaters': 38720, 'sweats': 38721, 'sweatshirts': 38722, 'swedes': 38723, 'sweeter': 38724, 'sweety': 38725, 'sweta': 38726, 'swindle': 38727, 'swindles': 38728, 'swirl': 38729, 'swore': 38730, 'swot': 38731, 'syedna': 38732, 'symposium': 38733, 'szechuan': 38734, 't&amp;c': 38735, 't-20': 38736, 't-90': 38737, 'taakat': 38738, 'taal': 38739, 'taar': 38740, 'tac': 38741, 'taco': 38742, 'taekwondo': 38743, 'taha': 38744, 'tahil': 38745, 'taiko': 38746, 'tailer': 38747, 'tails': 38748, 'tajmahal': 38749, 'takeout': 38750, 'takeshi': 38751, 'takhtani': 38752, 'takla': 38753, 'talcum': 38754, 'talkpoint': 38755, 'talkshow': 38756, 'talpade': 38757, 'talukas': 38758, 'talwandi': 38759, 'talwara': 38760, 'tamang': 38761, 'tambrahm': 38762, 'tamhane': 38763, 'tamilans': 38764, 'tamilisai': 38765, 'tampa': 38766, 'tana': 38767, 'tandel': 38768, 'tangasseri': 38769, 'tania': 38770, 'tanna': 38771, 'tanneries': 38772, 'tannishtha': 38773, 'tanvi': 38774, 'tanzeem': 38775, 'tapi': 38776, 'tapsee': 38777, 'taraf': 38778, 'tarang': 38779, 'tarantino': 38780, 'tareeka': 38781, 'tareekh': 38782, 'tarn': 38783, 'tarnish': 38784, 'taro': 38785, 'tarrifs': 38786, 'tass': 38787, 'tassel': 38788, 'tasteless': 38789, 'tastiest': 38790, 'tathagatasatpathy': 38791, 'tattipost': 38792, 'tauba': 38793, 'tavlin': 38794, 'tawde': 38795, 'tawhidi': 38796, 'taxila': 38797, 'tayyiba': 38798, 'tazia': 38799, 'tazos': 38800, 'tcexitpoll': 38801, 'td': 38802, 'td3': 38803, 'tdk': 38804, 'tdr': 38805, 'teabox': 38806, 'teachersday': 38807, 'teacup': 38808, 'teargas': 38809, 'teas': 38810, 'techm': 38811, 'techsable': 38812, 'techsolutions': 38813, 'telecallers': 38814, 'telecasts': 38815, 'telephonic': 38816, 'televisions': 38817, 'telugus': 38818, 'temasek': 38819, 'templated': 38820, 'templates': 38821, 'tenda': 38822, 'tendered': 38823, 'tendersure': 38824, 'tenkasi': 38825, 'tensed': 38826, 'tentacles': 38827, 'terrorized': 38828, 'tessy': 38829, 'testosterone': 38830, 'textual': 38831, 'tfr': 38832, 'tgt': 38833, 'thaalam': 38834, 'thak': 38835, 'thakar': 38836, 'thakral': 38837, 'thakrey': 38838, 'thakurganj': 38839, 'thala': 38840, 'thalaiva': 38841, 'thalaivar': 38842, 'thalaivi': 38843, 'thalis': 38844, 'thanda': 38845, 'thangavelu': 38846, 'thanku': 38847, 'thc': 38848, 'thedhakkan': 38849, 'theil': 38850, 'theindiangirls.com': 38851, 'thekkady': 38852, 'theocratic': 38853, 'theological': 38854, 'theology': 38855, 'theorem': 38856, 'theoretical': 38857, 'thequadcambros': 38858, 'theunkillnetwork': 38859, \"they're\": 38860, 'thiem': 38861, 'thimmakka': 38862, 'thingy': 38863, 'thinkpad': 38864, 'thinly': 38865, 'thinq': 38866, 'thorns': 38867, 'thread-': 38868, 'throught': 38869, 'throwaways': 38870, 'thumakda': 38871, 'thumba': 38872, 'thums': 38873, 'thunberg': 38874, 'thyssenkrupp': 38875, 'tickling': 38876, 'tidbit': 38877, 'tier-2': 38878, 'tiffins': 38879, 'tigor': 38880, 'tikamgarh': 38881, 'tilla': 38882, 'tilted': 38883, 'timber': 38884, 'timelapses': 38885, 'timezone': 38886, 'timothy': 38887, 'tinkering': 38888, 'tippu': 38889, 'tir': 38890, 'tires': 38891, 'tirkey': 38892, 'tiruchirapalli': 38893, 'tiruvannamalai': 38894, 'tissues': 38895, 'tl': 38896, 'tl;drs': 38897, 'tmt': 38898, 'today-': 38899, 'toffees': 38900, 'toggle': 38901, 'toiba': 38902, 'tokers': 38903, 'tomorrowland': 38904, 'tonbo': 38905, 'tonga': 38906, 'toofan': 38907, 'toonhole': 38908, 'top-100': 38909, 'top10': 38910, 'tora': 38911, 'tormentor': 38912, 'tornado': 38913, 'torpedoes': 38914, 'torque': 38915, 'torrential': 38916, 'torrentz2': 38917, 'tosses': 38918, 'tossing': 38919, 'totka': 38920, 'touche': 38921, 'toxicity': 38922, 'tpb': 38923, 'traceability': 38924, 'traceable': 38925, 'trademarks': 38926, 'trafficker': 38927, 'trainings': 38928, 'tran': 38929, 'transacted': 38930, 'transcends': 38931, 'transgenic': 38932, 'transitory': 38933, 'transplanted': 38934, 'transsexual': 38935, 'tratak': 38936, 'traumatized': 38937, 'travelenjoyrespect': 38938, 'treads': 38939, 'treasured': 38940, 'treble': 38941, 'treebo': 38942, 'trended': 38943, 'trespass': 38944, 'trespassers': 38945, 'tribulations': 38946, 'trickshot': 38947, 'trigonometric': 38948, 'tring': 38949, 'tripletalaq': 38950, 'tritiya': 38951, 'tropes': 38952, 'truckloads': 38953, 'truest': 38954, 'trum[p': 38955, 'trunks': 38956, 'tsa': 38957, 'tsi': 38958, 'tsr': 38959, 'tt': 38960, 'tte': 38961, 'tub': 38962, 'tucker': 38963, 'tumhare': 38964, 'tumi': 38965, 'tumne': 38966, 'tunnels': 38967, 'tupperware': 38968, 'turd': 38969, 'turkic': 38970, 'turkmenistan': 38971, 'turncoats': 38972, 'turntables': 38973, 'tusker': 38974, 'twain': 38975, 'tweaking': 38976, 'twerking': 38977, 'twitteratis': 38978, 'typewriting': 38979, 'tyrant': 38980, 'tyson': 38981, 'u-16': 38982, 'u.s.-built': 38983, 'u.s.-indian': 38984, 'u11': 38985, 'ubergo': 38986, 'ubisoft': 38987, 'ucs': 38988, 'ude': 38989, 'udipi': 38990, 'udumalpet': 38991, 'udwadia': 38992, 'ugandans': 38993, 'ugliest': 38994, 'ujjawala': 38995, 'ulama': 38996, 'ulsoor': 38997, 'ultras': 38998, 'umbilical': 38999, 'umeed': 39000, 'umiam': 39001, 'umrao': 39002, 'unacademy': 39003, 'unaccountable': 39004, 'unavoidable': 39005, 'unbecoming': 39006, 'uncaged': 39007, 'uncalled': 39008, 'unconvinced': 39009, 'uncool': 39010, 'uncrowned': 39011, 'undated': 39012, 'undecided': 39013, 'underappreciated': 39014, 'undercutting': 39015, 'undergarments': 39016, 'underline': 39017, 'underneath': 39018, 'underpasses': 39019, 'underreporting': 39020, 'understaffed': 39021, 'understandable': 39022, 'undertakes': 39023, 'underwhelming': 39024, 'undocumented': 39025, 'undoubtedly': 39026, 'unduly': 39027, 'unfamiliar': 39028, 'unfettered': 39029, 'unfollow': 39030, 'unfriend': 39031, 'unfurnished': 39032, 'unhelpful': 39033, 'unicode': 39034, 'unifier': 39035, 'unimpressed': 39036, 'unindian': 39037, 'uninformed': 39038, 'uninhabitable': 39039, 'uninstalling': 39040, 'unis': 39041, 'unity-': 39042, 'unka': 39043, 'unkept': 39044, 'unknowns': 39045, 'unmissable': 39046, 'unmotivated': 39047, 'unna': 39048, 'unnati': 39049, 'unnikrishnan': 39050, 'unorganised': 39051, 'unorganized': 39052, 'unorthodox': 39053, 'unpack': 39054, 'unparalleled': 39055, 'unreason': 39056, 'unreasonably': 39057, 'unrecognised': 39058, 'unrepresented': 39059, 'unreturned': 39060, 'unsavoury': 39061, 'unscathed': 39062, 'unscripted': 39063, 'unsee': 39064, 'unsettle': 39065, 'unsub': 39066, 'untamperable': 39067, 'untested': 39068, 'unthinkable': 39069, 'untrustworthy': 39070, 'unutilised': 39071, 'unwillingness': 39072, 'up-': 39073, 'upa-2': 39074, 'upends': 39075, 'upes': 39076, 'upkar': 39077, 'upkeep': 39078, 'uppada': 39079, 'upsc.gov.in': 39080, 'upstart': 39081, 'uptick': 39082, 'upturn': 39083, 'urbane': 39084, 'urinated': 39085, 'urinates': 39086, 'urs': 39087, 'urself': 39088, 'urus': 39089, 'usaid': 39090, 'uski': 39091, 'usps': 39092, 'utensil': 39093, 'utilised': 39094, 'utilising': 39095, 'utopian': 39096, 'uttarkhand': 39097, 'uttering': 39098, 'uttrayan': 39099, 'v1.3': 39100, 'v3.0': 39101, 'vaada': 39102, 'vaanam': 39103, 'vacated': 39104, 'vacating': 39105, 'vacationing': 39106, 'vaccinating': 39107, 'vadakkan': 39108, 'vadapav': 39109, 'vadhu': 39110, 'vadukut': 39111, 'vagator': 39112, 'vaikunthapurramuloo': 39113, 'vajra': 39114, 'vala': 39115, 'valiant': 39116, 'validated': 39117, 'validates': 39118, 'vallabh': 39119, 'valleys': 39120, 'valparai': 39121, 'valpoi': 39122, 'valuing': 39123, 'valves': 39124, 'vanaik': 39125, 'vanasthalipuram': 39126, 'vangelis': 39127, 'vanguard': 39128, 'vantage': 39129, 'varansai': 39130, 'variance': 39131, 'varshney': 39132, 'varthur': 39133, 'varuna': 39134, 'vastly': 39135, 'vasuki': 39136, 'vaswani': 39137, 'vauxhall': 39138, 'vb7': 39139, 'vchatao': 39140, 'vck': 39141, 'vd': 39142, 'vedha': 39143, 'vedika': 39144, 'veganism': 39145, 'vegetation': 39146, 'veils': 39147, 'veiw': 39148, 'velingkar': 39149, 'veliyidai': 39150, 'velocity': 39151, 'vembu': 39152, 'vempati': 39153, 'ven': 39154, 'veneration': 39155, 'vengeful': 39156, 'venkatappa': 39157, 'venki': 39158, 'venky': 39159, 'venturing': 39160, 'verbs': 39161, 'versed': 39162, 'vertically': 39163, 'vexing': 39164, 'vfs': 39165, 'vga': 39166, 'vh1': 39167, 'via@mundane.madness_comic': 39168, 'viacom18': 39169, 'viaggio': 39170, 'vibrantgujarat2017': 39171, 'vibrators': 39172, 'vic': 39173, 'vichare': 39174, 'victimisation': 39175, 'video-': 39176, 'videographed': 39177, 'videographer': 39178, 'videographing': 39179, 'video|': 39180, 'vidhansabha': 39181, 'vidisha': 39182, 'vidyalayas(jnv': 39183, 'vigor': 39184, 'vijayadasami': 39185, 'vijayakanth': 39186, 'viking': 39187, 'vikings': 39188, 'vilasrao': 39189, 'villas': 39190, 'ville': 39191, 'viman': 39192, 'vindaloo': 39193, 'vindication': 39194, 'vinegar': 39195, 'violator': 39196, 'violet': 39197, 'vipin': 39198, 'vira': 39199, 'virology': 39200, 'vishu': 39201, 'vishwakarma': 39202, 'visualised': 39203, 'visualized': 39204, 'visualizes': 39205, 'vitality': 39206, 'viteee': 39207, 'vivofit': 39208, 'viz': 39209, 'vizianagaram': 39210, 'vjti': 39211, 'vmware': 39212, 'voicemail': 39213, 'voilating': 39214, 'voilence': 39215, 'voilent': 39216, 'vol.2': 39217, 'volcanoes': 39218, 'voltaire': 39219, 'von': 39220, 'voteshare': 39221, 'vouch': 39222, 'vowing': 39223, 'vpa': 39224, 'vt': 39225, 'vu2fu': 39226, 'vu2lk': 39227, 'vulgarity': 39228, 'vvipracism': 39229, 'vxi': 39230, 'vyasa': 39231, 'waat': 39232, 'wadala': 39233, 'wades': 39234, 'wags': 39235, 'wahan': 39236, 'wahhabi': 39237, 'waikar': 39238, 'waitlist': 39239, 'wakefit': 39240, 'wakeup': 39241, 'walker': 39242, 'walkers': 39243, 'walo': 39244, 'walter': 39245, 'wanakkam': 39246, 'wandered': 39247, 'wane': 39248, 'wanes': 39249, 'wap': 39250, 'war-': 39251, 'warcraft': 39252, 'wargames': 39253, 'warhead': 39254, 'warina': 39255, 'warranted': 39256, 'warranties': 39257, 'warsi': 39258, 'washim': 39259, 'wasteland': 39260, 'waswani': 39261, 'watcher': 39262, 'watchpeopledie': 39263, 'waterbodies': 39264, 'watermelons': 39265, 'waterson': 39266, 'watsapp': 39267, 'watts': 39268, 'wayback': 39269, 'wcd': 39270, 'wd': 39271, 'wdyt': 39272, \"we'll\": 39273, 'weaknesses': 39274, 'wealthier': 39275, 'weaning': 39276, 'weaponizing': 39277, 'webb': 39278, 'webcam': 39279, 'webqoof': 39280, 'webs': 39281, 'websites/': 39282, 'webtoon': 39283, 'weebs': 39284, 'weinsteins': 39285, 'weirdly': 39286, 'welding': 39287, 'wellington': 39288, 'wether': 39289, 'weus': 39290, 'wework': 39291, 'wgc': 39292, 'whaaat': 39293, 'whar': 39294, 'whatnot': 39295, 'whatweknow': 39296, 'whiff': 39297, 'whimsical': 39298, 'whine': 39299, 'whipped': 39300, 'whips': 39301, 'whirlpool': 39302, 'whiskers': 39303, 'whisperer': 39304, 'whitener': 39305, 'whitewashed': 39306, 'whiz': 39307, 'whn': 39308, 'wholesalers': 39309, 'whoring': 39310, 'wid': 39311, 'widest': 39312, 'wierd': 39313, 'wig': 39314, 'wildcraft': 39315, 'wilde': 39316, 'wildfires': 39317, 'will.i.am': 39318, 'willful': 39319, 'windmill': 39320, 'winking': 39321, 'winnings': 39322, 'wireline': 39323, 'wistron': 39324, 'witchhunt': 39325, 'withdrawl': 39326, 'withing': 39327, 'woefully': 39328, 'woken': 39329, 'wold': 39330, 'won`t': 39331, 'wonobo': 39332, 'wooed': 39333, 'woohoo': 39334, 'wooplr': 39335, 'workday': 39336, 'workflow': 39337, 'workkey': 39338, 'workload': 39339, 'workspace': 39340, 'world`s': 39341, 'worldanimalday': 39342, 'worshiper': 39343, 'wrangling': 39344, 'wreaking': 39345, 'wreaks': 39346, 'wresting': 39347, 'wronged': 39348, 'wtc': 39349, 'wtfnews': 39350, 'wushu': 39351, 'wv': 39352, 'xdxdxd': 39353, 'xenon': 39354, 'xenophobia': 39355, 'xenophobic': 39356, 'xiamen': 39357, 'xxxxx': 39358, 'y2': 39359, 'y9': 39360, 'yaari': 39361, 'yadagiri': 39362, 'yahudi': 39363, 'yahya': 39364, 'yajna': 39365, 'yama': 39366, 'yamla': 39367, 'yan': 39368, 'yaqoob': 39369, 'yarn': 39370, 'yashowardhan': 39371, 'yasmin': 39372, 'yasukuni': 39373, 'yazidi': 39374, 'yehi': 39375, 'yen': 39376, 'yielded': 39377, 'yoddha': 39378, 'yodhas': 39379, 'yogic': 39380, 'yogini': 39381, 'yogpeeth': 39382, 'yograj': 39383, 'yogrishiramdev': 39384, 'yolo': 39385, 'yonex': 39386, 'yore': 39387, 'yorkers': 39388, 'yosemite': 39389, 'you[r': 39390, 'youngistaan': 39391, 'yousafzay': 39392, 'youshouldknow': 39393, 'yum': 39394, 'yun': 39395, 'yung': 39396, 'yuppies': 39397, 'yuraj': 39398, 'yuri': 39399, 'yv': 39400, 'zaara': 39401, 'zabardast': 39402, 'zahid': 39403, 'zahoor': 39404, 'zarrar': 39405, 'zdi': 39406, 'zdnet': 39407, 'zedong': 39408, 'zeliang': 39409, 'zeppelin': 39410, 'zindagii': 39411, 'zing': 39412, 'zippo': 39413, 'ziva': 39414, 'zivame': 39415, 'zoji': 39416, 'zojila': 39417, 'zolo': 39418, 'zoomed': 39419, 'zooming': 39420, 'zoroastrians': 39421, 'zs': 39422, 'zubi': 39423, 'zurich': 39424, 'zxi': 39425, 'zydus': 39426, '|new': 39427, '|top': 39428, '~50': 39429, '¿': 39430, 'мир': 39431, 'не': 39432, 'путешествий': 39433, 'развлечения': 39434, 'связи': 39435, '،': 39436, 'اعلان': 39437, 'انکشاف': 39438, 'بعد': 39439, 'بچوں': 39440, 'بڑا': 39441, 'جانتے': 39442, 'دنیا': 39443, 'دیا': 39444, 'زندگی': 39445, 'ضمانت': 39446, 'عمران': 39447, 'قتل': 39448, 'موت': 39449, 'و': 39450, '۔': 39451, 'अंत': 39452, 'अंतर्राष्ट्रीय': 39453, 'अक्टूबर': 39454, 'अगले': 39455, 'अजहर': 39456, 'अधिकारियों': 39457, 'अधिनियम': 39458, 'अध्ययनरत': 39459, 'अनसुनी': 39460, 'अनुष्का': 39461, 'अनेक': 39462, 'अनोखी': 39463, 'अभिनंदन': 39464, 'अभिनन्दन': 39465, 'अभिनेत्री': 39466, 'अभ्यर्थियों': 39467, 'अमर': 39468, 'अरुणाचल': 39469, 'अवमानना': 39470, 'अहमद': 39471, 'आइए': 39472, 'आइये': 39473, 'आईं': 39474, 'आएंगे': 39475, 'आएगा': 39476, 'आजाद': 39477, 'आर्टिकल': 39478, 'आशा': 39479, 'आहे': 39480, 'इंतजार': 39481, 'इतनी': 39482, 'इनफार्मेशन': 39483, 'इन्टरनेट': 39484, 'इन्सान': 39485, 'इविवि': 39486, 'इसका': 39487, 'इसी': 39488, 'इस्लाम': 39489, 'ई': 39490, 'उ0प्र0': 39491, 'उन्होंने': 39492, 'उम्मीद': 39493, 'ऊपर': 39494, 'ऋषि': 39495, 'एक्टर्स': 39496, 'एग्जाम': 39497, 'एम': 39498, 'एसटीएफ': 39499, 'ऐप': 39500, 'ऑफ': 39501, 'औ': 39502, 'औऱ': 39503, 'कट': 39504, 'कटौती': 39505, 'कमल': 39506, 'करवा': 39507, 'करा': 39508, 'कराए': 39509, 'करेंगी': 39510, 'कलम': 39511, 'कवर': 39512, 'कवि': 39513, 'कह': 39514, 'कहलाता': 39515, 'कहाँ': 39516, 'कांड': 39517, 'कार्यकर्ताओं': 39518, 'काशी': 39519, 'किसने': 39520, 'कृष्ण': 39521, 'केन्द्रों': 39522, 'कैमरे': 39523, 'कॉमेडी': 39524, 'कोजागिरी': 39525, 'कोड': 39526, 'क्रिकेटर': 39527, 'क्रेडिट': 39528, 'क्\\u200dयों': 39529, 'खबरें': 39530, 'खरीदे': 39531, 'ख़ुद': 39532, 'खा': 39533, 'खाना': 39534, 'खुलेंगे': 39535, 'खुलेआम': 39536, 'खुशखबरी': 39537, 'खोल': 39538, 'खोली': 39539, 'गणगौर': 39540, 'गणपती': 39541, 'गन्दी': 39542, 'गलती': 39543, 'गहरे': 39544, 'गाड़ी': 39545, 'गिरफ्तार': 39546, 'गुंडों': 39547, 'गुना': 39548, 'गृह': 39549, 'गैर': 39550, 'गोरखपुर': 39551, 'ग्राहकों': 39552, 'ग्रुप': 39553, 'ग्लोबल': 39554, 'गड़बड़': 39555, 'गड़बड़ी': 39556, 'घड़ी': 39557, 'घायल': 39558, 'घुसपैठ': 39559, 'घोटाले': 39560, 'चमकी': 39561, 'चलते': 39562, 'चलेंगे': 39563, 'चाय': 39564, 'चालू': 39565, 'चुकी': 39566, 'चुनावी': 39567, 'चेतावनी': 39568, 'चोपड़ा': 39569, 'चौक': 39570, 'छात्रा': 39571, 'छात्रों': 39572, 'छूटे': 39573, 'छोड': 39574, 'छोड़': 39575, 'जनपदवार': 39576, 'जबरदस्त': 39577, 'जबाब': 39578, 'जमा': 39579, 'जम्मू': 39580, 'जयंती': 39581, 'जरुरी': 39582, 'जरूरत': 39583, 'जला': 39584, 'जहां': 39585, 'जादुई': 39586, 'जानवर': 39587, 'जायेगे': 39588, 'जिन्होंने': 39589, 'जिलों': 39590, 'जीता': 39591, 'जीती': 39592, 'जीरो': 39593, 'जैसी': 39594, 'टक्कर': 39595, 'टिकट': 39596, 'टिप्स': 39597, 'टेक्नोलॉजी': 39598, 'टेस्ट': 39599, 'ट्रिपल': 39600, 'ट्रेन': 39601, 'ट्रेनिंग': 39602, 'ट्रैफिक': 39603, 'ठगी': 39604, 'डरता': 39605, 'डाल': 39606, 'डीएलएड': 39607, 'डील': 39608, 'डेरा': 39609, 'डॉक्टर': 39610, 'तब': 39611, 'तबादला': 39612, 'तलब': 39613, 'तलाक़': 39614, 'तानाशाह': 39615, 'तापसी': 39616, 'तिथि': 39617, 'तुमको': 39618, 'तुलसी': 39619, 'तेल': 39620, 'त्राटक': 39621, 'दंग': 39622, 'दलित': 39623, 'दाल': 39624, 'दि': 39625, 'दिक्कत': 39626, 'दिखती': 39627, 'दिखा': 39628, 'दिखाई': 39629, 'दिखे': 39630, 'दिसम्बर': 39631, 'दुकान': 39632, 'दुल्हन': 39633, 'दूंगा': 39634, 'दूध': 39635, 'दूसरा': 39636, 'दूसरी': 39637, 'दूसरे': 39638, 'दें': 39639, 'देकर': 39640, 'देखते': 39641, 'देखने': 39642, 'देता': 39643, 'देशी': 39644, 'दौलत': 39645, 'दौड़ा': 39646, 'नजर': 39647, 'नफरत': 39648, 'नमः': 39649, 'नये': 39650, 'नवनियुक्त': 39651, 'नाश': 39652, 'निकल': 39653, 'निकला': 39654, 'निकाय': 39655, 'नियंत्रक': 39656, 'नियुक्ति': 39657, 'निलंबित': 39658, 'निश्चिती': 39659, 'नुस्खा': 39660, 'नुस्खे': 39661, 'नुस्खें': 39662, 'नोटों': 39663, 'नौकर': 39664, 'न्यूनतम': 39665, 'पकड़': 39666, 'पक्की': 39667, 'पड़ेगा': 39668, 'पढाई': 39669, 'पत्थरबाजी': 39670, 'पत्रकार': 39671, 'पल': 39672, 'पहुंचा': 39673, 'पा': 39674, 'पाकिस्तानी': 39675, 'पान': 39676, 'पायलट': 39677, 'पार': 39678, 'पीएचडी': 39679, 'पीटा': 39680, 'पीठासीन': 39681, 'पीना': 39682, 'पुरूष': 39683, 'पुरे': 39684, 'पुष्टि': 39685, 'पेटीएम': 39686, 'पेपर': 39687, 'पैसों': 39688, 'पौर्णिमेच्या': 39689, 'प्रकार': 39690, 'प्रयागराज': 39691, 'प्रसिद्ध': 39692, 'प्रेस': 39693, 'पढ़ने': 39694, 'फंसी': 39695, 'फरवरी': 39696, 'फिट': 39697, 'फिल्में': 39698, 'फीचर': 39699, 'फीसदी': 39700, 'फैसले': 39701, 'बंगाल': 39702, 'बचत': 39703, 'बचाओ': 39704, 'बच्चा': 39705, 'बठ्ंडा': 39706, 'बढ़ी': 39707, 'बताई': 39708, 'बदलाव': 39709, 'बनती': 39710, 'बनते': 39711, 'बनना': 39712, 'बनाई': 39713, 'बलात्कारी': 39714, 'बहन': 39715, 'बहाली': 39716, 'बाइक': 39717, 'बातों': 39718, 'बिजली': 39719, 'बी': 39720, 'बीते': 39721, 'बीमारी': 39722, 'बुक': 39723, 'बुखार': 39724, 'बुरा': 39725, 'बुलाई': 39726, 'बूंद': 39727, 'बेकार': 39728, 'बेचैन': 39729, 'बेदी': 39730, 'बोलते': 39731, 'ब्रांड': 39732, 'ब्लास्ट': 39733, 'ब्लू': 39734, 'ब्लॉक': 39735, 'बढ़ाने': 39736, 'बढ़ी': 39737, 'भगत': 39738, 'भविष्य': 39739, 'भागवत': 39740, 'भाग्य': 39741, 'भारतीयों': 39742, 'भीषण': 39743, 'भूतिया': 39744, 'भड़के': 39745, 'मकान': 39746, 'मध्यप्रदेश': 39747, 'मना': 39748, 'मनोरंजन': 39749, 'ममता': 39750, 'मर': 39751, 'मराठी': 39752, 'मसूद': 39753, 'मस्जिद': 39754, 'महंगा': 39755, 'मांस': 39756, 'माना': 39757, 'मान्यता': 39758, 'मारवाड़ी': 39759, 'मारी': 39760, 'मार्ग': 39761, 'मिलता': 39762, 'मिलिए': 39763, 'मुक्त': 39764, 'मुद्रा': 39765, 'मुसीबत': 39766, 'मूलमंत्र': 39767, 'मूल्य': 39768, 'मूल्यांकन': 39769, 'मृत्यु': 39770, 'मेकअप': 39771, 'मैदान': 39772, 'मॉडल': 39773, 'मोदीजी': 39774, 'मौका': 39775, 'य': 39776, 'यज्ञ': 39777, 'यशवंत': 39778, 'यहाँ': 39779, 'युग': 39780, 'युगपुरुष': 39781, 'यू': 39782, 'यौन': 39783, 'रखे': 39784, 'रणनीति': 39785, 'रन': 39786, 'रविवार': 39787, 'रविश': 39788, 'रहता': 39789, 'रहस्यमयी': 39790, 'रहीं': 39791, 'रहें': 39792, 'राखी': 39793, 'राजकीय': 39794, 'राजनाथ': 39795, 'राजनीतिक': 39796, 'रामबाण': 39797, 'राष्ट्रपति': 39798, 'रास्ते': 39799, 'रिलीज': 39800, 'रिश्ते': 39801, 'रेट': 39802, 'रेड': 39803, 'रेसिपी': 39804, 'रैली': 39805, 'रो': 39806, 'रोकने': 39807, 'रोजगार': 39808, 'रोड': 39809, 'रोमियो': 39810, 'लगाकर': 39811, 'लगाते': 39812, 'लगाने': 39813, 'लाखो': 39814, 'लाने': 39815, 'लीक': 39816, 'लीजिए': 39817, 'लू': 39818, 'लोकतंत्र': 39819, 'लड़ाई': 39820, 'वक्त': 39821, 'वणी': 39822, 'वहां': 39823, 'वापसी': 39824, 'वाराणसी': 39825, 'वालों': 39826, 'विकल्प': 39827, 'विज्ञप्ति': 39828, 'विज्ञान': 39829, 'विभिन्न': 39830, 'विरुद्ध': 39831, 'वेबसाईट': 39832, 'वैज्ञानिक': 39833, 'वैसा': 39834, 'वोटर': 39835, 'शक': 39836, 'शत': 39837, 'शतक': 39838, 'शब्द': 39839, 'शमी': 39840, 'शर्मसार': 39841, 'शशि': 39842, 'शासनादेश': 39843, 'शिकायत': 39844, 'शिक्षामित्र': 39845, 'शूटिंग': 39846, 'श्राप': 39847, 'संकेत': 39848, 'संग': 39849, 'संघ': 39850, 'संजय': 39851, 'संत': 39852, 'संपत्ति': 39853, 'संविधान': 39854, 'सचिन': 39855, 'सत्ता': 39856, 'सत्यापन': 39857, 'सनी': 39858, 'सपा': 39859, 'सबको': 39860, 'समझे': 39861, 'समस्त': 39862, 'समस्या': 39863, 'समुद्र': 39864, 'सम्मानित': 39865, 'सरदार': 39866, 'सर्जिकल': 39867, 'सवर्णों': 39868, 'सह': 39869, 'सहारनपुर': 39870, 'साईं': 39871, 'सामना': 39872, 'सारी': 39873, 'सावधान': 39874, 'सिद्ध': 39875, 'सिम': 39876, 'सियासी': 39877, 'सीधे': 39878, 'सीमा': 39879, 'सुपरस्टार': 39880, 'सुरक्षित': 39881, 'सुषमा': 39882, 'सूर्य': 39883, 'सेल्फी': 39884, 'स्टार्स': 39885, 'स्टूडेंट्स': 39886, 'स्टेज': 39887, 'स्टेटस': 39888, 'स्ट्राइक': 39889, 'स्तर': 39890, 'स्पीड': 39891, 'स्वच्छ': 39892, 'सड़क': 39893, 'ह': 39894, 'हंसी': 39895, 'हटाने': 39896, 'हमारी': 39897, 'हाईस्कूल': 39898, 'हिंदुस्तान': 39899, 'हिल': 39900, 'हिस्सा': 39901, 'हु': 39902, 'हैप्पी': 39903, 'ख़ास': 39904, 'फ़ायदा': 39905, 'फ़ोन': 39906, '२०१६': 39907, '४': 39908, 'অনেক': 39909, 'আজকের': 39910, 'আপনি': 39911, 'আলুৰ': 39912, 'এনেদৰে': 39913, 'করলেন': 39914, 'করুন': 39915, 'কলকাতায়': 39916, 'কিছু': 39917, 'জঙ্গি': 39918, 'ঝড়': 39919, 'ডিজে': 39920, 'তা': 39921, 'দিন': 39922, 'নগ্ন': 39923, 'নিয়ে': 39924, 'পথ': 39925, 'পর্ব': 39926, 'পাকিস্তানি': 39927, 'পিটিকা': 39928, 'প্রথম': 39929, 'প্রধানমন্ত্রী': 39930, 'ফের': 39931, 'বনায়': 39932, 'বাংলাদেশ': 39933, 'বাস': 39934, 'বিক্ষোভ': 39935, 'বিভিন্ন': 39936, 'বেশি': 39937, 'ভারতীয়': 39938, 'মধ্যে': 39939, 'মানুষ': 39940, 'যাবার': 39941, 'যুবক': 39942, 'যে': 39943, 'সব': 39944, 'সময়': 39945, 'সুবিধা': 39946, 'হচ্ছেন': 39947, 'হলে': 39948, 'হয়ে': 39949, '২১': 39950, '৪': 39951, 'ৰন্ধা': 39952, 'காப்பாற்ற': 39953, 'பத்திரம்': 39954, 'பந்தயப்': 39955, 'பாகம்': 39956, 'பொருள்': 39957, 'வயது': 39958, 'விலை': 39959, 'ఎద్దులు': 39960, 'నాలుగు': 39961, 'సింహం': 39962, 'දේව': 39963, '\\u200f@kamaalrkhan': 39964, '\\u202aindian': 39965, '‹': 39966, '₹13': 39967, '₹199': 39968, '₹2,500': 39969, '₹25': 39970, '₹250': 39971, '₹400': 39972, '₹4000': 39973, '₹499': 39974, '₹5,000': 39975, '₹54,000': 39976, '₹70k': 39977, '₹99': 39978, '▶': 39979, '☮': 39980, '♡': 39981, '✈': 39982, '✊': 39983, '】': 39984, '🇲': 39985, '🇸': 39986, '🌺': 39987, '🍋': 39988, '🎥': 39989, '🎻': 39990, '🏵': 39991, '🐄': 39992, '🐍': 39993, '🐒': 39994, '🐮': 39995, '👈': 39996, '💕': 39997, '💰': 39998, '📰': 39999, '😈': 40000, '😑': 40001, '😓': 40002, '😥': 40003, '😫': 40004, '😬': 40005, '🙃': 40006, '🙆': 40007, '🙋': 40008, '🚂': 40009, '🤐': 40010, '\\U0001f928': 40011, '\\U0001f92a': 40012, '\\U0001f973': 40013})\n"
          ],
          "name": "stdout"
        }
      ]
    },
    {
      "cell_type": "code",
      "metadata": {
        "id": "VOK8Uw9q1t2h",
        "colab_type": "code",
        "colab": {}
      },
      "source": [
        "labels = len(LABEL.vocab)"
      ],
      "execution_count": 0,
      "outputs": []
    },
    {
      "cell_type": "code",
      "metadata": {
        "id": "Geq2D4utXZxx",
        "colab_type": "code",
        "colab": {}
      },
      "source": [
        "device = torch.device('cuda' if torch.cuda.is_available() else 'cpu')  \n",
        "\n",
        "b_sz = 128\n",
        "\n",
        "train_loader, val_loader = data.BucketIterator.splits(\n",
        "    (train_data, valid_data),\n",
        "    batch_size = b_sz,\n",
        "    sort_key = lambda x: len(x.title),\n",
        "    sort_within_batch=True,\n",
        "    device = device)"
      ],
      "execution_count": 0,
      "outputs": []
    },
    {
      "cell_type": "code",
      "metadata": {
        "id": "1pW_DykZLkeS",
        "colab_type": "code",
        "colab": {}
      },
      "source": [
        "import torch.nn as nn\n",
        "\n",
        "class model(nn.Module):\n",
        "    def __init__(self, vocab_size, embedding_dim, hidden_dim, output_dim = 12, n_layers = 2, bidir = True, dropout = 0.2):\n",
        "        super().__init__()\n",
        "\n",
        "        self.embedding = nn.Embedding(vocab_size, embedding_dim)\n",
        "        \n",
        "        self.lstm = nn.LSTM(embedding_dim,\n",
        "                           hidden_dim,\n",
        "                           num_layers=n_layers,\n",
        "                           bidirectional=bidir,\n",
        "                           dropout=dropout,\n",
        "                           batch_first=True)\n",
        "        \n",
        "        self.dense = nn.Linear(hidden_dim * 2, output_dim)\n",
        "        self.softmax = nn.Softmax()\n",
        "        \n",
        "    def forward(self, text, text_lengths):\n",
        "        embedded = self.embedding(text)\n",
        "        packed_embedded = nn.utils.rnn.pack_padded_sequence(embedded, text_lengths, batch_first=True)\n",
        "        packed_output, (hidden, cell) = self.lstm(packed_embedded)\n",
        "        hidden = torch.cat((hidden[-2,:,:], hidden[-1,:,:]), dim = 1)\n",
        "        dense_outputs=self.dense(hidden)\n",
        "        outputs=self.softmax(dense_outputs)\n",
        "        \n",
        "        return outputs"
      ],
      "execution_count": 0,
      "outputs": []
    },
    {
      "cell_type": "code",
      "metadata": {
        "id": "u3KhmD8UZq-R",
        "colab_type": "code",
        "colab": {}
      },
      "source": [
        "vocab_size = len(TEXT.vocab)\n",
        "embedding_dim = 300\n",
        "num_hidden_nodes = 32\n",
        "num_output_nodes = labels\n",
        "dropout = 0.2\n",
        "\n",
        "model_ = model(vocab_size, embedding_dim, num_hidden_nodes, num_output_nodes, dropout = dropout)"
      ],
      "execution_count": 0,
      "outputs": []
    },
    {
      "cell_type": "code",
      "metadata": {
        "id": "BrE75GKdaSIj",
        "colab_type": "code",
        "outputId": "a730a5ee-1c2b-4188-fac4-dd86300ae72d",
        "colab": {
          "base_uri": "https://localhost:8080/",
          "height": 156
        }
      },
      "source": [
        "print(model_)\n",
        "\n",
        "def count_parameters(model):\n",
        "    return sum(p.numel() for p in model.parameters() if p.requires_grad)\n",
        "    \n",
        "print(f'The model has {count_parameters(model_):,} trainable parameters')\n",
        "\n",
        "pretrained_embeddings = TEXT.vocab.vectors\n",
        "model_.embedding.weight.data.copy_(pretrained_embeddings)\n",
        "\n",
        "print(pretrained_embeddings.shape)"
      ],
      "execution_count": 40,
      "outputs": [
        {
          "output_type": "stream",
          "text": [
            "model(\n",
            "  (embedding): Embedding(40014, 300)\n",
            "  (lstm): LSTM(300, 32, num_layers=2, batch_first=True, dropout=0.2, bidirectional=True)\n",
            "  (dense): Linear(in_features=64, out_features=24, bias=True)\n",
            "  (softmax): Softmax(dim=None)\n",
            ")\n",
            "The model has 12,116,352 trainable parameters\n",
            "torch.Size([40014, 300])\n"
          ],
          "name": "stdout"
        }
      ]
    },
    {
      "cell_type": "code",
      "metadata": {
        "id": "WDoyjjXRb8JL",
        "colab_type": "code",
        "colab": {}
      },
      "source": [
        "import torch.optim as optim\n",
        "\n",
        "optimizer = optim.Adam(model_.parameters(), lr = 0.001)\n",
        "criterion = nn.CrossEntropyLoss()\n",
        "\n",
        "def accuracy(preds, y):\n",
        "    counts = 0\n",
        "    for i in range(preds.shape[0]):\n",
        "      counts += (torch.max(preds[i], 0)[1] == y[i]).float()\n",
        "      \n",
        "    return counts/preds.shape[0]\n",
        "    \n",
        "model_ = model_.to(device)\n",
        "criterion = criterion.to(device)"
      ],
      "execution_count": 0,
      "outputs": []
    },
    {
      "cell_type": "code",
      "metadata": {
        "id": "b2nzdVgwcxMw",
        "colab_type": "code",
        "colab": {}
      },
      "source": [
        "def train(model, iterator, optimizer, criterion):\n",
        "    \n",
        "    epoch_loss = 0\n",
        "    epoch_acc = 0\n",
        "    \n",
        "    model.train()  \n",
        "    \n",
        "    for batch in iterator:\n",
        "        \n",
        "        optimizer.zero_grad()\n",
        "\n",
        "        text, text_lengths = batch.title\n",
        "        flair = batch.flair\n",
        "\n",
        "        text = text.to(device)\n",
        "        flair = flair.type(torch.LongTensor).to(device)\n",
        "\n",
        "        predictions = model(text, text_lengths).squeeze()\n",
        "\n",
        "        try:\n",
        "          loss = criterion(predictions, flair)\n",
        "          acc = accuracy(predictions, flair)\n",
        "        except:\n",
        "          continue\n",
        "\n",
        "        loss.backward()\n",
        "        \n",
        "        optimizer.step()\n",
        "        \n",
        "        epoch_loss += loss.item()  \n",
        "        epoch_acc += acc.item()\n",
        "\n",
        "    return epoch_loss / (len(iterator)-1), epoch_acc / (len(iterator)-1)"
      ],
      "execution_count": 0,
      "outputs": []
    },
    {
      "cell_type": "code",
      "metadata": {
        "id": "ulC4erbWc5z6",
        "colab_type": "code",
        "colab": {}
      },
      "source": [
        "def evaluate(model, iterator, criterion):\n",
        "    \n",
        "    epoch_loss = 0\n",
        "    epoch_acc = 0\n",
        "\n",
        "    model.eval()\n",
        "    \n",
        "    with torch.no_grad():\n",
        "    \n",
        "        for batch in iterator:\n",
        "        \n",
        "            text, text_lengths = batch.title\n",
        "            flair = batch.flair\n",
        "\n",
        "            text = text.to(device)\n",
        "            flair = flair.type(torch.LongTensor).to(device)\n",
        "            \n",
        "            predictions = model(text, text_lengths).squeeze()\n",
        "            \n",
        "            try:\n",
        "              loss = criterion(predictions, flair)\n",
        "              acc = accuracy(predictions, flair)\n",
        "            except:\n",
        "              continue\n",
        "            \n",
        "            epoch_loss += loss.item()\n",
        "            epoch_acc += acc.item()\n",
        "        \n",
        "    return epoch_loss / (len(iterator)-1), epoch_acc / (len(iterator)-1)"
      ],
      "execution_count": 0,
      "outputs": []
    },
    {
      "cell_type": "code",
      "metadata": {
        "id": "bewLLg8Oc94q",
        "colab_type": "code",
        "outputId": "8350a4b7-bfce-4307-998b-df11b6b28efe",
        "colab": {
          "base_uri": "https://localhost:8080/",
          "height": 729
        }
      },
      "source": [
        "N_EPOCHS = 20\n",
        "best_valid_loss = float('inf')\n",
        "\n",
        "for epoch in range(N_EPOCHS):\n",
        "     \n",
        "    train_loss, train_acc = train(model_, train_loader, optimizer, criterion)\n",
        "    \n",
        "    valid_loss, valid_acc = evaluate(model_, val_loader, criterion)\n",
        "    \n",
        "    if valid_loss < best_valid_loss:\n",
        "        best_valid_loss = valid_loss\n",
        "        torch.save(model_.state_dict(), 'saved_weights.pt')\n",
        "    \n",
        "    print(f'\\tTrain Loss: {train_loss:.3f} | Train Acc: {train_acc:.3f}')\n",
        "    print(f'\\t Val. Loss: {valid_loss:.3f} | Val. Acc: {valid_acc:.3f}')"
      ],
      "execution_count": 45,
      "outputs": [
        {
          "output_type": "stream",
          "text": [
            "/usr/local/lib/python3.6/dist-packages/ipykernel_launcher.py:25: UserWarning: Implicit dimension choice for softmax has been deprecated. Change the call to include dim=X as an argument.\n"
          ],
          "name": "stderr"
        },
        {
          "output_type": "stream",
          "text": [
            "\tTrain Loss: 2.599 | Train Acc: 0.650\n",
            "\t Val. Loss: 2.681 | Val. Acc: 0.569\n",
            "\tTrain Loss: 2.595 | Train Acc: 0.654\n",
            "\t Val. Loss: 2.679 | Val. Acc: 0.571\n",
            "\tTrain Loss: 2.589 | Train Acc: 0.659\n",
            "\t Val. Loss: 2.675 | Val. Acc: 0.575\n",
            "\tTrain Loss: 2.583 | Train Acc: 0.665\n",
            "\t Val. Loss: 2.671 | Val. Acc: 0.579\n",
            "\tTrain Loss: 2.578 | Train Acc: 0.670\n",
            "\t Val. Loss: 2.671 | Val. Acc: 0.579\n",
            "\tTrain Loss: 2.575 | Train Acc: 0.674\n",
            "\t Val. Loss: 2.669 | Val. Acc: 0.581\n",
            "\tTrain Loss: 2.571 | Train Acc: 0.678\n",
            "\t Val. Loss: 2.669 | Val. Acc: 0.581\n",
            "\tTrain Loss: 2.568 | Train Acc: 0.681\n",
            "\t Val. Loss: 2.668 | Val. Acc: 0.582\n",
            "\tTrain Loss: 2.565 | Train Acc: 0.684\n",
            "\t Val. Loss: 2.668 | Val. Acc: 0.582\n",
            "\tTrain Loss: 2.562 | Train Acc: 0.686\n",
            "\t Val. Loss: 2.667 | Val. Acc: 0.583\n",
            "\tTrain Loss: 2.560 | Train Acc: 0.688\n",
            "\t Val. Loss: 2.667 | Val. Acc: 0.584\n",
            "\tTrain Loss: 2.558 | Train Acc: 0.691\n",
            "\t Val. Loss: 2.666 | Val. Acc: 0.584\n",
            "\tTrain Loss: 2.556 | Train Acc: 0.693\n",
            "\t Val. Loss: 2.666 | Val. Acc: 0.584\n",
            "\tTrain Loss: 2.554 | Train Acc: 0.695\n",
            "\t Val. Loss: 2.665 | Val. Acc: 0.585\n",
            "\tTrain Loss: 2.552 | Train Acc: 0.697\n",
            "\t Val. Loss: 2.666 | Val. Acc: 0.584\n",
            "\tTrain Loss: 2.550 | Train Acc: 0.698\n",
            "\t Val. Loss: 2.666 | Val. Acc: 0.584\n",
            "\tTrain Loss: 2.549 | Train Acc: 0.700\n",
            "\t Val. Loss: 2.665 | Val. Acc: 0.585\n",
            "\tTrain Loss: 2.548 | Train Acc: 0.701\n",
            "\t Val. Loss: 2.665 | Val. Acc: 0.585\n",
            "\tTrain Loss: 2.545 | Train Acc: 0.703\n",
            "\t Val. Loss: 2.664 | Val. Acc: 0.586\n",
            "\tTrain Loss: 2.544 | Train Acc: 0.704\n",
            "\t Val. Loss: 2.664 | Val. Acc: 0.586\n"
          ],
          "name": "stdout"
        }
      ]
    },
    {
      "cell_type": "code",
      "metadata": {
        "id": "nDuW8qR8fSE1",
        "colab_type": "code",
        "colab": {}
      },
      "source": [
        "!nvidia-smi"
      ],
      "execution_count": 0,
      "outputs": []
    },
    {
      "cell_type": "code",
      "metadata": {
        "id": "Am4vACfRe70v",
        "colab_type": "code",
        "colab": {}
      },
      "source": [
        "for batch in train_loader:\n",
        "      optimizer.zero_grad()   \n",
        "      \n",
        "      text, text_lengths = batch.title   \n",
        "      \n",
        "      predictions = model_(text, text_lengths).squeeze()\n",
        "      loss = criterion(predictions, batch.flair.type(torch.LongTensor))\n",
        "      \n",
        "      loss.backward()"
      ],
      "execution_count": 0,
      "outputs": []
    },
    {
      "cell_type": "markdown",
      "metadata": {
        "id": "yG-_ya4c2-gp",
        "colab_type": "text"
      },
      "source": [
        "## Transformer Based Models\n"
      ]
    },
    {
      "cell_type": "code",
      "metadata": {
        "id": "-KbWDZPmFYqj",
        "colab_type": "code",
        "outputId": "dd2437df-b5f2-4c8a-d9e1-104138bb7383",
        "colab": {
          "base_uri": "https://localhost:8080/",
          "height": 1000
        }
      },
      "source": [
        "!pip install transformers\n",
        "!pip install seqeval\n",
        "!pip install scipy\n",
        "!pip install simpletransformers\n",
        "!pip install pytorch-nlp\n",
        "!pip install tensorboardx"
      ],
      "execution_count": 1,
      "outputs": [
        {
          "output_type": "stream",
          "text": [
            "Collecting transformers\n",
            "\u001b[?25l  Downloading https://files.pythonhosted.org/packages/a3/78/92cedda05552398352ed9784908b834ee32a0bd071a9b32de287327370b7/transformers-2.8.0-py3-none-any.whl (563kB)\n",
            "\r\u001b[K     |▋                               | 10kB 30.0MB/s eta 0:00:01\r\u001b[K     |█▏                              | 20kB 823kB/s eta 0:00:01\r\u001b[K     |█▊                              | 30kB 1.2MB/s eta 0:00:01\r\u001b[K     |██▎                             | 40kB 1.6MB/s eta 0:00:01\r\u001b[K     |███                             | 51kB 1.0MB/s eta 0:00:01\r\u001b[K     |███▌                            | 61kB 1.2MB/s eta 0:00:01\r\u001b[K     |████                            | 71kB 1.4MB/s eta 0:00:01\r\u001b[K     |████▋                           | 81kB 1.6MB/s eta 0:00:01\r\u001b[K     |█████▎                          | 92kB 1.2MB/s eta 0:00:01\r\u001b[K     |█████▉                          | 102kB 1.4MB/s eta 0:00:01\r\u001b[K     |██████▍                         | 112kB 1.4MB/s eta 0:00:01\r\u001b[K     |███████                         | 122kB 1.4MB/s eta 0:00:01\r\u001b[K     |███████▋                        | 133kB 1.4MB/s eta 0:00:01\r\u001b[K     |████████▏                       | 143kB 1.4MB/s eta 0:00:01\r\u001b[K     |████████▊                       | 153kB 1.4MB/s eta 0:00:01\r\u001b[K     |█████████▎                      | 163kB 1.4MB/s eta 0:00:01\r\u001b[K     |█████████▉                      | 174kB 1.4MB/s eta 0:00:01\r\u001b[K     |██████████▌                     | 184kB 1.4MB/s eta 0:00:01\r\u001b[K     |███████████                     | 194kB 1.4MB/s eta 0:00:01\r\u001b[K     |███████████▋                    | 204kB 1.4MB/s eta 0:00:01\r\u001b[K     |████████████▏                   | 215kB 1.4MB/s eta 0:00:01\r\u001b[K     |████████████▉                   | 225kB 1.4MB/s eta 0:00:01\r\u001b[K     |█████████████▍                  | 235kB 1.4MB/s eta 0:00:01\r\u001b[K     |██████████████                  | 245kB 1.4MB/s eta 0:00:01\r\u001b[K     |██████████████▌                 | 256kB 1.4MB/s eta 0:00:01\r\u001b[K     |███████████████▏                | 266kB 1.4MB/s eta 0:00:01\r\u001b[K     |███████████████▊                | 276kB 1.4MB/s eta 0:00:01\r\u001b[K     |████████████████▎               | 286kB 1.4MB/s eta 0:00:01\r\u001b[K     |████████████████▉               | 296kB 1.4MB/s eta 0:00:01\r\u001b[K     |█████████████████▍              | 307kB 1.4MB/s eta 0:00:01\r\u001b[K     |██████████████████              | 317kB 1.4MB/s eta 0:00:01\r\u001b[K     |██████████████████▋             | 327kB 1.4MB/s eta 0:00:01\r\u001b[K     |███████████████████▏            | 337kB 1.4MB/s eta 0:00:01\r\u001b[K     |███████████████████▊            | 348kB 1.4MB/s eta 0:00:01\r\u001b[K     |████████████████████▍           | 358kB 1.4MB/s eta 0:00:01\r\u001b[K     |█████████████████████           | 368kB 1.4MB/s eta 0:00:01\r\u001b[K     |█████████████████████▌          | 378kB 1.4MB/s eta 0:00:01\r\u001b[K     |██████████████████████          | 389kB 1.4MB/s eta 0:00:01\r\u001b[K     |██████████████████████▊         | 399kB 1.4MB/s eta 0:00:01\r\u001b[K     |███████████████████████▎        | 409kB 1.4MB/s eta 0:00:01\r\u001b[K     |███████████████████████▉        | 419kB 1.4MB/s eta 0:00:01\r\u001b[K     |████████████████████████▍       | 430kB 1.4MB/s eta 0:00:01\r\u001b[K     |█████████████████████████       | 440kB 1.4MB/s eta 0:00:01\r\u001b[K     |█████████████████████████▋      | 450kB 1.4MB/s eta 0:00:01\r\u001b[K     |██████████████████████████▏     | 460kB 1.4MB/s eta 0:00:01\r\u001b[K     |██████████████████████████▊     | 471kB 1.4MB/s eta 0:00:01\r\u001b[K     |███████████████████████████▎    | 481kB 1.4MB/s eta 0:00:01\r\u001b[K     |████████████████████████████    | 491kB 1.4MB/s eta 0:00:01\r\u001b[K     |████████████████████████████▌   | 501kB 1.4MB/s eta 0:00:01\r\u001b[K     |█████████████████████████████   | 512kB 1.4MB/s eta 0:00:01\r\u001b[K     |█████████████████████████████▋  | 522kB 1.4MB/s eta 0:00:01\r\u001b[K     |██████████████████████████████▎ | 532kB 1.4MB/s eta 0:00:01\r\u001b[K     |██████████████████████████████▉ | 542kB 1.4MB/s eta 0:00:01\r\u001b[K     |███████████████████████████████▍| 552kB 1.4MB/s eta 0:00:01\r\u001b[K     |████████████████████████████████| 563kB 1.4MB/s eta 0:00:01\r\u001b[K     |████████████████████████████████| 573kB 1.4MB/s \n",
            "\u001b[?25hRequirement already satisfied: tqdm>=4.27 in /usr/local/lib/python3.6/dist-packages (from transformers) (4.38.0)\n",
            "Requirement already satisfied: boto3 in /usr/local/lib/python3.6/dist-packages (from transformers) (1.12.39)\n",
            "Collecting sentencepiece\n",
            "\u001b[?25l  Downloading https://files.pythonhosted.org/packages/74/f4/2d5214cbf13d06e7cb2c20d84115ca25b53ea76fa1f0ade0e3c9749de214/sentencepiece-0.1.85-cp36-cp36m-manylinux1_x86_64.whl (1.0MB)\n",
            "\u001b[K     |████████████████████████████████| 1.0MB 64.0MB/s \n",
            "\u001b[?25hCollecting sacremoses\n",
            "\u001b[?25l  Downloading https://files.pythonhosted.org/packages/99/50/93509f906a40bffd7d175f97fd75ea328ad9bd91f48f59c4bd084c94a25e/sacremoses-0.0.41.tar.gz (883kB)\n",
            "\u001b[K     |████████████████████████████████| 890kB 60.9MB/s \n",
            "\u001b[?25hRequirement already satisfied: filelock in /usr/local/lib/python3.6/dist-packages (from transformers) (3.0.12)\n",
            "Requirement already satisfied: regex!=2019.12.17 in /usr/local/lib/python3.6/dist-packages (from transformers) (2019.12.20)\n",
            "Requirement already satisfied: dataclasses; python_version < \"3.7\" in /usr/local/lib/python3.6/dist-packages (from transformers) (0.7)\n",
            "Requirement already satisfied: requests in /usr/local/lib/python3.6/dist-packages (from transformers) (2.21.0)\n",
            "Requirement already satisfied: numpy in /usr/local/lib/python3.6/dist-packages (from transformers) (1.18.2)\n",
            "Collecting tokenizers==0.5.2\n",
            "\u001b[?25l  Downloading https://files.pythonhosted.org/packages/d1/3f/73c881ea4723e43c1e9acf317cf407fab3a278daab3a69c98dcac511c04f/tokenizers-0.5.2-cp36-cp36m-manylinux1_x86_64.whl (3.7MB)\n",
            "\u001b[K     |████████████████████████████████| 3.7MB 56.1MB/s \n",
            "\u001b[?25hRequirement already satisfied: s3transfer<0.4.0,>=0.3.0 in /usr/local/lib/python3.6/dist-packages (from boto3->transformers) (0.3.3)\n",
            "Requirement already satisfied: jmespath<1.0.0,>=0.7.1 in /usr/local/lib/python3.6/dist-packages (from boto3->transformers) (0.9.5)\n",
            "Requirement already satisfied: botocore<1.16.0,>=1.15.39 in /usr/local/lib/python3.6/dist-packages (from boto3->transformers) (1.15.39)\n",
            "Requirement already satisfied: six in /usr/local/lib/python3.6/dist-packages (from sacremoses->transformers) (1.12.0)\n",
            "Requirement already satisfied: click in /usr/local/lib/python3.6/dist-packages (from sacremoses->transformers) (7.1.1)\n",
            "Requirement already satisfied: joblib in /usr/local/lib/python3.6/dist-packages (from sacremoses->transformers) (0.14.1)\n",
            "Requirement already satisfied: certifi>=2017.4.17 in /usr/local/lib/python3.6/dist-packages (from requests->transformers) (2020.4.5.1)\n",
            "Requirement already satisfied: chardet<3.1.0,>=3.0.2 in /usr/local/lib/python3.6/dist-packages (from requests->transformers) (3.0.4)\n",
            "Requirement already satisfied: urllib3<1.25,>=1.21.1 in /usr/local/lib/python3.6/dist-packages (from requests->transformers) (1.24.3)\n",
            "Requirement already satisfied: idna<2.9,>=2.5 in /usr/local/lib/python3.6/dist-packages (from requests->transformers) (2.8)\n",
            "Requirement already satisfied: docutils<0.16,>=0.10 in /usr/local/lib/python3.6/dist-packages (from botocore<1.16.0,>=1.15.39->boto3->transformers) (0.15.2)\n",
            "Requirement already satisfied: python-dateutil<3.0.0,>=2.1 in /usr/local/lib/python3.6/dist-packages (from botocore<1.16.0,>=1.15.39->boto3->transformers) (2.8.1)\n",
            "Building wheels for collected packages: sacremoses\n",
            "  Building wheel for sacremoses (setup.py) ... \u001b[?25l\u001b[?25hdone\n",
            "  Created wheel for sacremoses: filename=sacremoses-0.0.41-cp36-none-any.whl size=893334 sha256=e1d5a6b48aecded4d3af2ab9d7523c3ed44cb0f5df2fc68df8c1e6c6a12959b3\n",
            "  Stored in directory: /root/.cache/pip/wheels/22/5a/d4/b020a81249de7dc63758a34222feaa668dbe8ebfe9170cc9b1\n",
            "Successfully built sacremoses\n",
            "Installing collected packages: sentencepiece, sacremoses, tokenizers, transformers\n",
            "Successfully installed sacremoses-0.0.41 sentencepiece-0.1.85 tokenizers-0.5.2 transformers-2.8.0\n",
            "Collecting seqeval\n",
            "  Downloading https://files.pythonhosted.org/packages/34/91/068aca8d60ce56dd9ba4506850e876aba5e66a6f2f29aa223224b50df0de/seqeval-0.0.12.tar.gz\n",
            "Requirement already satisfied: numpy>=1.14.0 in /usr/local/lib/python3.6/dist-packages (from seqeval) (1.18.2)\n",
            "Requirement already satisfied: Keras>=2.2.4 in /usr/local/lib/python3.6/dist-packages (from seqeval) (2.3.1)\n",
            "Requirement already satisfied: pyyaml in /usr/local/lib/python3.6/dist-packages (from Keras>=2.2.4->seqeval) (3.13)\n",
            "Requirement already satisfied: keras-applications>=1.0.6 in /usr/local/lib/python3.6/dist-packages (from Keras>=2.2.4->seqeval) (1.0.8)\n",
            "Requirement already satisfied: h5py in /usr/local/lib/python3.6/dist-packages (from Keras>=2.2.4->seqeval) (2.10.0)\n",
            "Requirement already satisfied: six>=1.9.0 in /usr/local/lib/python3.6/dist-packages (from Keras>=2.2.4->seqeval) (1.12.0)\n",
            "Requirement already satisfied: scipy>=0.14 in /usr/local/lib/python3.6/dist-packages (from Keras>=2.2.4->seqeval) (1.4.1)\n",
            "Requirement already satisfied: keras-preprocessing>=1.0.5 in /usr/local/lib/python3.6/dist-packages (from Keras>=2.2.4->seqeval) (1.1.0)\n",
            "Building wheels for collected packages: seqeval\n",
            "  Building wheel for seqeval (setup.py) ... \u001b[?25l\u001b[?25hdone\n",
            "  Created wheel for seqeval: filename=seqeval-0.0.12-cp36-none-any.whl size=7424 sha256=b8e27a54cd24049c83e6a158a335bc3bd05d15c031537824917991f8ee439820\n",
            "  Stored in directory: /root/.cache/pip/wheels/4f/32/0a/df3b340a82583566975377d65e724895b3fad101a3fb729f68\n",
            "Successfully built seqeval\n",
            "Installing collected packages: seqeval\n",
            "Successfully installed seqeval-0.0.12\n",
            "Requirement already satisfied: scipy in /usr/local/lib/python3.6/dist-packages (1.4.1)\n",
            "Requirement already satisfied: numpy>=1.13.3 in /usr/local/lib/python3.6/dist-packages (from scipy) (1.18.2)\n",
            "Collecting simpletransformers\n",
            "\u001b[?25l  Downloading https://files.pythonhosted.org/packages/a2/cd/184543483da9b6a5d23a6eb21ec2d0575716b12dcdfbdf2d87c6871bc31e/simpletransformers-0.24.8-py3-none-any.whl (151kB)\n",
            "\u001b[K     |████████████████████████████████| 153kB 1.4MB/s \n",
            "\u001b[?25hRequirement already satisfied: tokenizers in /usr/local/lib/python3.6/dist-packages (from simpletransformers) (0.5.2)\n",
            "Collecting tensorboardx\n",
            "\u001b[?25l  Downloading https://files.pythonhosted.org/packages/35/f1/5843425495765c8c2dd0784a851a93ef204d314fc87bcc2bbb9f662a3ad1/tensorboardX-2.0-py2.py3-none-any.whl (195kB)\n",
            "\u001b[K     |████████████████████████████████| 204kB 43.0MB/s \n",
            "\u001b[?25hRequirement already satisfied: seqeval in /usr/local/lib/python3.6/dist-packages (from simpletransformers) (0.0.12)\n",
            "Requirement already satisfied: requests in /usr/local/lib/python3.6/dist-packages (from simpletransformers) (2.21.0)\n",
            "Requirement already satisfied: numpy in /usr/local/lib/python3.6/dist-packages (from simpletransformers) (1.18.2)\n",
            "Requirement already satisfied: scikit-learn in /usr/local/lib/python3.6/dist-packages (from simpletransformers) (0.22.2.post1)\n",
            "Requirement already satisfied: transformers in /usr/local/lib/python3.6/dist-packages (from simpletransformers) (2.8.0)\n",
            "Requirement already satisfied: regex in /usr/local/lib/python3.6/dist-packages (from simpletransformers) (2019.12.20)\n",
            "Requirement already satisfied: pandas in /usr/local/lib/python3.6/dist-packages (from simpletransformers) (1.0.3)\n",
            "Requirement already satisfied: tqdm in /usr/local/lib/python3.6/dist-packages (from simpletransformers) (4.38.0)\n",
            "Requirement already satisfied: scipy in /usr/local/lib/python3.6/dist-packages (from simpletransformers) (1.4.1)\n",
            "Requirement already satisfied: six in /usr/local/lib/python3.6/dist-packages (from tensorboardx->simpletransformers) (1.12.0)\n",
            "Requirement already satisfied: protobuf>=3.8.0 in /usr/local/lib/python3.6/dist-packages (from tensorboardx->simpletransformers) (3.10.0)\n",
            "Requirement already satisfied: Keras>=2.2.4 in /usr/local/lib/python3.6/dist-packages (from seqeval->simpletransformers) (2.3.1)\n",
            "Requirement already satisfied: urllib3<1.25,>=1.21.1 in /usr/local/lib/python3.6/dist-packages (from requests->simpletransformers) (1.24.3)\n",
            "Requirement already satisfied: idna<2.9,>=2.5 in /usr/local/lib/python3.6/dist-packages (from requests->simpletransformers) (2.8)\n",
            "Requirement already satisfied: chardet<3.1.0,>=3.0.2 in /usr/local/lib/python3.6/dist-packages (from requests->simpletransformers) (3.0.4)\n",
            "Requirement already satisfied: certifi>=2017.4.17 in /usr/local/lib/python3.6/dist-packages (from requests->simpletransformers) (2020.4.5.1)\n",
            "Requirement already satisfied: joblib>=0.11 in /usr/local/lib/python3.6/dist-packages (from scikit-learn->simpletransformers) (0.14.1)\n",
            "Requirement already satisfied: filelock in /usr/local/lib/python3.6/dist-packages (from transformers->simpletransformers) (3.0.12)\n",
            "Requirement already satisfied: sacremoses in /usr/local/lib/python3.6/dist-packages (from transformers->simpletransformers) (0.0.41)\n",
            "Requirement already satisfied: sentencepiece in /usr/local/lib/python3.6/dist-packages (from transformers->simpletransformers) (0.1.85)\n",
            "Requirement already satisfied: dataclasses; python_version < \"3.7\" in /usr/local/lib/python3.6/dist-packages (from transformers->simpletransformers) (0.7)\n",
            "Requirement already satisfied: boto3 in /usr/local/lib/python3.6/dist-packages (from transformers->simpletransformers) (1.12.39)\n",
            "Requirement already satisfied: python-dateutil>=2.6.1 in /usr/local/lib/python3.6/dist-packages (from pandas->simpletransformers) (2.8.1)\n",
            "Requirement already satisfied: pytz>=2017.2 in /usr/local/lib/python3.6/dist-packages (from pandas->simpletransformers) (2018.9)\n",
            "Requirement already satisfied: setuptools in /usr/local/lib/python3.6/dist-packages (from protobuf>=3.8.0->tensorboardx->simpletransformers) (46.1.3)\n",
            "Requirement already satisfied: keras-preprocessing>=1.0.5 in /usr/local/lib/python3.6/dist-packages (from Keras>=2.2.4->seqeval->simpletransformers) (1.1.0)\n",
            "Requirement already satisfied: h5py in /usr/local/lib/python3.6/dist-packages (from Keras>=2.2.4->seqeval->simpletransformers) (2.10.0)\n",
            "Requirement already satisfied: pyyaml in /usr/local/lib/python3.6/dist-packages (from Keras>=2.2.4->seqeval->simpletransformers) (3.13)\n",
            "Requirement already satisfied: keras-applications>=1.0.6 in /usr/local/lib/python3.6/dist-packages (from Keras>=2.2.4->seqeval->simpletransformers) (1.0.8)\n",
            "Requirement already satisfied: click in /usr/local/lib/python3.6/dist-packages (from sacremoses->transformers->simpletransformers) (7.1.1)\n",
            "Requirement already satisfied: s3transfer<0.4.0,>=0.3.0 in /usr/local/lib/python3.6/dist-packages (from boto3->transformers->simpletransformers) (0.3.3)\n",
            "Requirement already satisfied: botocore<1.16.0,>=1.15.39 in /usr/local/lib/python3.6/dist-packages (from boto3->transformers->simpletransformers) (1.15.39)\n",
            "Requirement already satisfied: jmespath<1.0.0,>=0.7.1 in /usr/local/lib/python3.6/dist-packages (from boto3->transformers->simpletransformers) (0.9.5)\n",
            "Requirement already satisfied: docutils<0.16,>=0.10 in /usr/local/lib/python3.6/dist-packages (from botocore<1.16.0,>=1.15.39->boto3->transformers->simpletransformers) (0.15.2)\n",
            "Installing collected packages: tensorboardx, simpletransformers\n",
            "Successfully installed simpletransformers-0.24.8 tensorboardx-2.0\n",
            "Collecting pytorch-nlp\n",
            "\u001b[?25l  Downloading https://files.pythonhosted.org/packages/4f/51/f0ee1efb75f7cc2e3065c5da1363d6be2eec79691b2821594f3f2329528c/pytorch_nlp-0.5.0-py3-none-any.whl (90kB)\n",
            "\u001b[K     |████████████████████████████████| 92kB 1.2MB/s \n",
            "\u001b[?25hRequirement already satisfied: tqdm in /usr/local/lib/python3.6/dist-packages (from pytorch-nlp) (4.38.0)\n",
            "Requirement already satisfied: numpy in /usr/local/lib/python3.6/dist-packages (from pytorch-nlp) (1.18.2)\n",
            "Installing collected packages: pytorch-nlp\n",
            "Successfully installed pytorch-nlp-0.5.0\n",
            "Requirement already satisfied: tensorboardx in /usr/local/lib/python3.6/dist-packages (2.0)\n",
            "Requirement already satisfied: six in /usr/local/lib/python3.6/dist-packages (from tensorboardx) (1.12.0)\n",
            "Requirement already satisfied: numpy in /usr/local/lib/python3.6/dist-packages (from tensorboardx) (1.18.2)\n",
            "Requirement already satisfied: protobuf>=3.8.0 in /usr/local/lib/python3.6/dist-packages (from tensorboardx) (3.10.0)\n",
            "Requirement already satisfied: setuptools in /usr/local/lib/python3.6/dist-packages (from protobuf>=3.8.0->tensorboardx) (46.1.3)\n"
          ],
          "name": "stdout"
        }
      ]
    },
    {
      "cell_type": "code",
      "metadata": {
        "id": "hML7EmXPJEzn",
        "colab_type": "code",
        "colab": {}
      },
      "source": [
        "import torch\n",
        "import torchnlp\n",
        "from torchnlp.encoders import LabelEncoder\n",
        "from sklearn.model_selection import train_test_split\n",
        "from multiprocessing import cpu_count"
      ],
      "execution_count": 0,
      "outputs": []
    },
    {
      "cell_type": "code",
      "metadata": {
        "id": "uF74mxwRJs58",
        "colab_type": "code",
        "colab": {}
      },
      "source": [
        "df = pd.read_csv('./drive/My Drive/rMIDAS.csv')"
      ],
      "execution_count": 0,
      "outputs": []
    },
    {
      "cell_type": "code",
      "metadata": {
        "id": "8HUQhRkhf4EI",
        "colab_type": "code",
        "colab": {}
      },
      "source": [
        "encoder = LabelEncoder(df['link_flair_text'])"
      ],
      "execution_count": 0,
      "outputs": []
    },
    {
      "cell_type": "code",
      "metadata": {
        "id": "qV3xxoiVK8vH",
        "colab_type": "code",
        "colab": {}
      },
      "source": [
        "def func(x):\n",
        "  z = np.zeros(24, dtype = int)\n",
        "  z[x-1] = 1\n",
        "  return tuple(z)"
      ],
      "execution_count": 0,
      "outputs": []
    },
    {
      "cell_type": "code",
      "metadata": {
        "id": "bO1Z9z_TZ_Kv",
        "colab_type": "code",
        "colab": {}
      },
      "source": [
        "def prepare_data(df, flairs = 'link_flair_text', title = ['title'], drop = ['created_utc', 'id','link_flair_text','num_comments','selftext','title','url'], train = False):\n",
        "  df_s = df\n",
        "  df_s['text'] = ''\n",
        "  for tit in title:\n",
        "    df_s['text'] += df[tit]\n",
        "  df_s['labels'] = pd.Series(encoder.batch_encode(list(df[flairs]))).apply(func)\n",
        "  df_s = df_s.drop(drop, 'columns')\n",
        "  train_df, eval_df = train_test_split(df_s, test_size=0.2)\n",
        "  \n",
        "  if(train):\n",
        "    return train_df, eval_df\n",
        "  else:\n",
        "    return eval_df"
      ],
      "execution_count": 0,
      "outputs": []
    },
    {
      "cell_type": "code",
      "metadata": {
        "id": "aKXoLKdnaPte",
        "colab_type": "code",
        "colab": {}
      },
      "source": [
        "eval_df = prepare_data(df)"
      ],
      "execution_count": 0,
      "outputs": []
    },
    {
      "cell_type": "code",
      "metadata": {
        "id": "w2HWXrDdekMw",
        "colab_type": "code",
        "colab": {}
      },
      "source": [
        "train_df = pd.read_csv('drive/My Drive/rMIDASsupp.csv')"
      ],
      "execution_count": 0,
      "outputs": []
    },
    {
      "cell_type": "code",
      "metadata": {
        "id": "A7wCtz3MCvUo",
        "colab_type": "code",
        "colab": {
          "base_uri": "https://localhost:8080/",
          "height": 363
        },
        "outputId": "8f6e384a-74b0-4f6d-f912-2e1927a12c30"
      },
      "source": [
        "train_df.head(10)"
      ],
      "execution_count": 16,
      "outputs": [
        {
          "output_type": "execute_result",
          "data": {
            "text/html": [
              "<div>\n",
              "<style scoped>\n",
              "    .dataframe tbody tr th:only-of-type {\n",
              "        vertical-align: middle;\n",
              "    }\n",
              "\n",
              "    .dataframe tbody tr th {\n",
              "        vertical-align: top;\n",
              "    }\n",
              "\n",
              "    .dataframe thead th {\n",
              "        text-align: right;\n",
              "    }\n",
              "</style>\n",
              "<table border=\"1\" class=\"dataframe\">\n",
              "  <thead>\n",
              "    <tr style=\"text-align: right;\">\n",
              "      <th></th>\n",
              "      <th>text</th>\n",
              "      <th>labels</th>\n",
              "    </tr>\n",
              "  </thead>\n",
              "  <tbody>\n",
              "    <tr>\n",
              "      <th>0</th>\n",
              "      <td>Election Commission cancels notification for D...</td>\n",
              "      <td>(1, 0, 0, 0, 0, 0, 0, 0, 0, 0, 0, 0, 0, 0, 0, ...</td>\n",
              "    </tr>\n",
              "    <tr>\n",
              "      <th>1</th>\n",
              "      <td>BABAJI BHOOT</td>\n",
              "      <td>(0, 1, 0, 0, 0, 0, 0, 0, 0, 0, 0, 0, 0, 0, 0, ...</td>\n",
              "    </tr>\n",
              "    <tr>\n",
              "      <th>2</th>\n",
              "      <td>Incredible India</td>\n",
              "      <td>(0, 1, 0, 0, 0, 0, 0, 0, 0, 0, 0, 0, 0, 0, 0, ...</td>\n",
              "    </tr>\n",
              "    <tr>\n",
              "      <th>3</th>\n",
              "      <td>Indian Windows Scammer Prank - Ownage Pranks</td>\n",
              "      <td>(0, 1, 0, 0, 0, 0, 0, 0, 0, 0, 0, 0, 0, 0, 0, ...</td>\n",
              "    </tr>\n",
              "    <tr>\n",
              "      <th>4</th>\n",
              "      <td>40,000 cloth artisans in Ludhiana stare at job...</td>\n",
              "      <td>(0, 0, 0, 0, 0, 0, 0, 0, 0, 0, 0, 0, 1, 0, 0, ...</td>\n",
              "    </tr>\n",
              "    <tr>\n",
              "      <th>5</th>\n",
              "      <td>Politics Saar</td>\n",
              "      <td>(1, 0, 0, 0, 0, 0, 0, 0, 0, 0, 0, 0, 0, 0, 0, ...</td>\n",
              "    </tr>\n",
              "    <tr>\n",
              "      <th>6</th>\n",
              "      <td>An interview with a Taliban Trained Suicide Bo...</td>\n",
              "      <td>(0, 1, 0, 0, 0, 0, 0, 0, 0, 0, 0, 0, 0, 0, 0, ...</td>\n",
              "    </tr>\n",
              "    <tr>\n",
              "      <th>7</th>\n",
              "      <td>Chandrababu Naidu falls out of favour, undergo...</td>\n",
              "      <td>(1, 0, 0, 0, 0, 0, 0, 0, 0, 0, 0, 0, 0, 0, 0, ...</td>\n",
              "    </tr>\n",
              "    <tr>\n",
              "      <th>8</th>\n",
              "      <td>Kamaal R Khan objectifies women, Sonakshi Sinh...</td>\n",
              "      <td>(0, 1, 0, 0, 0, 0, 0, 0, 0, 0, 0, 0, 0, 0, 0, ...</td>\n",
              "    </tr>\n",
              "    <tr>\n",
              "      <th>9</th>\n",
              "      <td>Is this what image we have in this damn world</td>\n",
              "      <td>(0, 0, 0, 1, 0, 0, 0, 0, 0, 0, 0, 0, 0, 0, 0, ...</td>\n",
              "    </tr>\n",
              "  </tbody>\n",
              "</table>\n",
              "</div>"
            ],
            "text/plain": [
              "                                                text                                             labels\n",
              "0  Election Commission cancels notification for D...  (1, 0, 0, 0, 0, 0, 0, 0, 0, 0, 0, 0, 0, 0, 0, ...\n",
              "1                                       BABAJI BHOOT  (0, 1, 0, 0, 0, 0, 0, 0, 0, 0, 0, 0, 0, 0, 0, ...\n",
              "2                                   Incredible India  (0, 1, 0, 0, 0, 0, 0, 0, 0, 0, 0, 0, 0, 0, 0, ...\n",
              "3       Indian Windows Scammer Prank - Ownage Pranks  (0, 1, 0, 0, 0, 0, 0, 0, 0, 0, 0, 0, 0, 0, 0, ...\n",
              "4  40,000 cloth artisans in Ludhiana stare at job...  (0, 0, 0, 0, 0, 0, 0, 0, 0, 0, 0, 0, 1, 0, 0, ...\n",
              "5                                      Politics Saar  (1, 0, 0, 0, 0, 0, 0, 0, 0, 0, 0, 0, 0, 0, 0, ...\n",
              "6  An interview with a Taliban Trained Suicide Bo...  (0, 1, 0, 0, 0, 0, 0, 0, 0, 0, 0, 0, 0, 0, 0, ...\n",
              "7  Chandrababu Naidu falls out of favour, undergo...  (1, 0, 0, 0, 0, 0, 0, 0, 0, 0, 0, 0, 0, 0, 0, ...\n",
              "8  Kamaal R Khan objectifies women, Sonakshi Sinh...  (0, 1, 0, 0, 0, 0, 0, 0, 0, 0, 0, 0, 0, 0, 0, ...\n",
              "9      Is this what image we have in this damn world  (0, 0, 0, 1, 0, 0, 0, 0, 0, 0, 0, 0, 0, 0, 0, ..."
            ]
          },
          "metadata": {
            "tags": []
          },
          "execution_count": 16
        }
      ]
    },
    {
      "cell_type": "code",
      "metadata": {
        "id": "sYoQc7G2E1kI",
        "colab_type": "code",
        "outputId": "f26e6f00-f451-4ed8-9057-bf4b75137389",
        "colab": {
          "base_uri": "https://localhost:8080/",
          "height": 34
        }
      },
      "source": [
        "train_df.shape"
      ],
      "execution_count": 17,
      "outputs": [
        {
          "output_type": "execute_result",
          "data": {
            "text/plain": [
              "(334421, 2)"
            ]
          },
          "metadata": {
            "tags": []
          },
          "execution_count": 17
        }
      ]
    },
    {
      "cell_type": "code",
      "metadata": {
        "id": "tJGYAOT4lQXY",
        "colab_type": "code",
        "colab": {}
      },
      "source": [
        "def toTuple(x):\n",
        "  return tuple(map(int, x[1:-1].split(', ')))"
      ],
      "execution_count": 0,
      "outputs": []
    },
    {
      "cell_type": "code",
      "metadata": {
        "colab_type": "code",
        "id": "9Ko-TmQQmDxW",
        "colab": {}
      },
      "source": [
        "train_df_x = train_df\n",
        "train_df_x['labels'] = train_df['labels'].apply(toTuple)"
      ],
      "execution_count": 0,
      "outputs": []
    },
    {
      "cell_type": "code",
      "metadata": {
        "id": "w5FWi6mVGrau",
        "colab_type": "code",
        "colab": {}
      },
      "source": [
        "args = {\n",
        "    \"output_dir\": \"outputs/\",\n",
        "    \"cache_dir\": \"cache/\",\n",
        "    \"best_model_dir\": \"outputs/best_model/\",\n",
        "\n",
        "    \"fp16\": False,\n",
        "    \"fp16_opt_level\": \"O1\",\n",
        "    \"max_seq_length\": 128,\n",
        "    \"train_batch_size\": 128,\n",
        "    \"eval_batch_size\": 128,\n",
        "    \"gradient_accumulation_steps\": 1,\n",
        "    \"num_train_epochs\": 2,\n",
        "    \"weight_decay\": 0,\n",
        "    \"learning_rate\": 4e-5,\n",
        "    \"adam_epsilon\": 1e-8,\n",
        "    \"warmup_ratio\": 0.06,\n",
        "    \"warmup_steps\": 0,\n",
        "    \"max_grad_norm\": 1.0,\n",
        "    \"do_lower_case\": False,\n",
        "\n",
        "    \"logging_steps\": 50,\n",
        "    \"evaluate_during_training\": False,\n",
        "    \"evaluate_during_training_steps\": 2000,\n",
        "    \"evaluate_during_training_verbose\": False,\n",
        "    \"use_cached_eval_features\": False,\n",
        "    \"save_eval_checkpoints\": True,\n",
        "    \"no_cache\": False,\n",
        "    \"save_model_every_epoch\": True,\n",
        "    \"tensorboard_dir\": None,\n",
        "\n",
        "    \"overwrite_output_dir\": True,\n",
        "    \"reprocess_input_data\": True,\n",
        "\n",
        "    \"process_count\": cpu_count() - 2 if cpu_count() > 2 else 1,\n",
        "    \"n_gpu\": 1,\n",
        "    \"silent\": False,\n",
        "    \"use_multiprocessing\": True,\n",
        "\n",
        "    \"wandb_project\": None,\n",
        "    \"wandb_kwargs\": {},\n",
        "\n",
        "    \"use_early_stopping\": True,\n",
        "    \"early_stopping_patience\": 3,\n",
        "    \"early_stopping_delta\": 0,\n",
        "    \"early_stopping_metric\": \"eval_loss\",\n",
        "    \"early_stopping_metric_minimize\": True,\n",
        "\n",
        "    \"manual_seed\": None,\n",
        "    \"encoding\": None,\n",
        "    \"config\": {},\n",
        "}"
      ],
      "execution_count": 0,
      "outputs": []
    },
    {
      "cell_type": "code",
      "metadata": {
        "id": "I9X6x6qiixpe",
        "colab_type": "code",
        "colab": {}
      },
      "source": [
        "eval_df = eval_df.reset_index()\n",
        "eval_df = eval_df.drop('index', 'columns')"
      ],
      "execution_count": 0,
      "outputs": []
    },
    {
      "cell_type": "markdown",
      "metadata": {
        "id": "dbK3weK_hxva",
        "colab_type": "text"
      },
      "source": [
        "### DistilBERT"
      ]
    },
    {
      "cell_type": "code",
      "metadata": {
        "id": "6FGUkLt4FbOW",
        "colab_type": "code",
        "colab": {}
      },
      "source": [
        "from simpletransformers.classification import MultiLabelClassificationModel\n",
        "\n",
        "model = MultiLabelClassificationModel('distilbert', 'distilbert-base-uncased', num_labels=24, args = args)\n",
        "\n",
        "#['bert', 'xlnet', 'xlm', 'roberta', 'distilbert']"
      ],
      "execution_count": 0,
      "outputs": []
    },
    {
      "cell_type": "code",
      "metadata": {
        "id": "345ve59QGn_G",
        "colab_type": "code",
        "outputId": "0beeb494-f42d-409e-cceb-51db84c3466e",
        "colab": {
          "base_uri": "https://localhost:8080/",
          "height": 249,
          "referenced_widgets": [
            "79672808d5c545d196d79ce95c294b91",
            "0bb4f9d59b474e6384cca02dd278fb6f",
            "747506a045e44b2fb10fa633cba3f110",
            "18619cf913444c02af4cd82ae498df05",
            "86e52d6c7b4744ec993582080ae990b7",
            "a7c94bd9eadd4d13a09dbd861bdbcd5b",
            "f25a4614ac5c495c94d1cbf2d84d4cd7",
            "fcbcb927aa1649ec930a99647decc08c",
            "3b12a431adc74031b05c95f274e6cb05",
            "45800ca35e5c44cea80de5747ba68bd5",
            "8eb617af4e1d4a588e8a4866ae142057",
            "4f1e455219d04a74acb79a6817fbfa18",
            "a5f074fe9d0c425fa20a034f780743ee",
            "fc9694a4da614696aa21541980236037",
            "b4e770509eb643cf8a5a114d87a469a4",
            "25e6d4c3aad94fe59ba21f00b54cf581",
            "22376f03079242a4abbb97113422d785",
            "cb3c79335e5544feb57b4256be7d9e26",
            "195983c05d904d9ca926f14e4dbdbf03",
            "ca44d6ea497f4152a41f4c4058ab44e7",
            "8260e012715f4136b91cc733cc3de834",
            "fb07437372a246da855c407ae5b3c478",
            "0c06a4f5f8f44257a6708c85ef8b3df9",
            "e1d03ec33f3f4f829b38151685e4ad43",
            "93a4f1da56eb428ba663c6805b4a8b9a",
            "c3971618c1b7417eaceaedefd0356b9b",
            "71580b0d335c4c39bd7ebe2285373fd8",
            "ddce8fec7ae64cfe83dd711f7cdd1073",
            "bd0861580df4472989260c2bf26ccf66",
            "00356064ab414fd88d9c680ca8a7ad14",
            "130368a3edd7403e908798efd2522888",
            "1a8541ed56904522a63e8dddafff4f8d"
          ]
        }
      },
      "source": [
        "model.train_model(train_df, show_running_loss = True)"
      ],
      "execution_count": 46,
      "outputs": [
        {
          "output_type": "display_data",
          "data": {
            "application/vnd.jupyter.widget-view+json": {
              "model_id": "79672808d5c545d196d79ce95c294b91",
              "version_minor": 0,
              "version_major": 2
            },
            "text/plain": [
              "HBox(children=(IntProgress(value=0, max=334421), HTML(value='')))"
            ]
          },
          "metadata": {
            "tags": []
          }
        },
        {
          "output_type": "stream",
          "text": [
            "\n"
          ],
          "name": "stdout"
        },
        {
          "output_type": "display_data",
          "data": {
            "application/vnd.jupyter.widget-view+json": {
              "model_id": "3b12a431adc74031b05c95f274e6cb05",
              "version_minor": 0,
              "version_major": 2
            },
            "text/plain": [
              "HBox(children=(IntProgress(value=0, description='Epoch', max=2, style=ProgressStyle(description_width='initial…"
            ]
          },
          "metadata": {
            "tags": []
          }
        },
        {
          "output_type": "display_data",
          "data": {
            "application/vnd.jupyter.widget-view+json": {
              "model_id": "22376f03079242a4abbb97113422d785",
              "version_minor": 0,
              "version_major": 2
            },
            "text/plain": [
              "HBox(children=(IntProgress(value=0, description='Current iteration', max=2613, style=ProgressStyle(description…"
            ]
          },
          "metadata": {
            "tags": []
          }
        },
        {
          "output_type": "stream",
          "text": [
            "Running loss: 0.564763"
          ],
          "name": "stdout"
        },
        {
          "output_type": "stream",
          "text": [
            "/usr/local/lib/python3.6/dist-packages/torch/optim/lr_scheduler.py:224: UserWarning: To get the last learning rate computed by the scheduler, please use `get_last_lr()`.\n",
            "  warnings.warn(\"To get the last learning rate computed by the scheduler, \"\n"
          ],
          "name": "stderr"
        },
        {
          "output_type": "stream",
          "text": [
            "Running loss: 0.103480\n"
          ],
          "name": "stdout"
        },
        {
          "output_type": "display_data",
          "data": {
            "application/vnd.jupyter.widget-view+json": {
              "model_id": "93a4f1da56eb428ba663c6805b4a8b9a",
              "version_minor": 0,
              "version_major": 2
            },
            "text/plain": [
              "HBox(children=(IntProgress(value=0, description='Current iteration', max=2613, style=ProgressStyle(description…"
            ]
          },
          "metadata": {
            "tags": []
          }
        },
        {
          "output_type": "stream",
          "text": [
            "Running loss: 0.098357\n",
            "\n"
          ],
          "name": "stdout"
        }
      ]
    },
    {
      "cell_type": "code",
      "metadata": {
        "id": "shQThokBG7b4",
        "colab_type": "code",
        "colab": {
          "base_uri": "https://localhost:8080/",
          "height": 116,
          "referenced_widgets": [
            "da4f6fbbebd7428abee7a12c99988d8c",
            "3ac12121676a425ba3a66b0fe8b6ccf4",
            "0e8ea0bf7d0e4527a070b3cc27077a49",
            "6da003cafc9a4596a9af60eda6517593",
            "0530bceb9a6a43f989095207e0170dcb",
            "2f48f21a630e48328ade967789ed188c",
            "bc9a007fefcd4a0395a78904f75d53e6",
            "d0d767b297cf49bd8f22cb2693a8c980",
            "7c0f426dce19412f9a5ce47291b03eb1",
            "714cd59a42f44a14bd8f1381b28646a7",
            "7baf87f8780a4434b5634ebe527de048",
            "29e942d4bba641fea049ebbfe689698f",
            "63f1375c367b4afab1eeff45dbe2d80c",
            "9a87c20401a74b3b85b33eef62d7e03b",
            "6fbcd9ea65644208a4903362a48d7fd6",
            "971537a0aa0845839c70b2a2bdfac3a0"
          ]
        },
        "outputId": "f623a88a-8daf-4731-85d5-c5bd1d470106"
      },
      "source": [
        "result, model_outputs, wrong_predictions = model.eval_model(eval_df)"
      ],
      "execution_count": 47,
      "outputs": [
        {
          "output_type": "display_data",
          "data": {
            "application/vnd.jupyter.widget-view+json": {
              "model_id": "da4f6fbbebd7428abee7a12c99988d8c",
              "version_minor": 0,
              "version_major": 2
            },
            "text/plain": [
              "HBox(children=(IntProgress(value=0, max=89257), HTML(value='')))"
            ]
          },
          "metadata": {
            "tags": []
          }
        },
        {
          "output_type": "stream",
          "text": [
            "\n"
          ],
          "name": "stdout"
        },
        {
          "output_type": "display_data",
          "data": {
            "application/vnd.jupyter.widget-view+json": {
              "model_id": "7c0f426dce19412f9a5ce47291b03eb1",
              "version_minor": 0,
              "version_major": 2
            },
            "text/plain": [
              "HBox(children=(IntProgress(value=0, max=698), HTML(value='')))"
            ]
          },
          "metadata": {
            "tags": []
          }
        },
        {
          "output_type": "stream",
          "text": [
            "\n"
          ],
          "name": "stdout"
        }
      ]
    },
    {
      "cell_type": "code",
      "metadata": {
        "id": "fWyf1ipPtBdD",
        "colab_type": "code",
        "outputId": "72147e7a-e73b-4be3-8d66-03084f12a50e",
        "colab": {
          "base_uri": "https://localhost:8080/",
          "height": 34
        }
      },
      "source": [
        "print(result)"
      ],
      "execution_count": 50,
      "outputs": [
        {
          "output_type": "stream",
          "text": [
            "{'LRAP': 0.7272260123327972, 'eval_loss': 0.08534275728643453}\n"
          ],
          "name": "stdout"
        }
      ]
    },
    {
      "cell_type": "code",
      "metadata": {
        "id": "WFzGqehnz5aa",
        "colab_type": "code",
        "outputId": "864ea1e4-eda3-432f-d346-44f7befa521e",
        "colab": {
          "base_uri": "https://localhost:8080/",
          "height": 52
        }
      },
      "source": [
        "i = np.random.randint(eval_df.shape[0])\n",
        "print(encoder.decode(torch.tensor(model_outputs[i].argmax()+1)))\n",
        "print(eval_df['text'].values[i])"
      ],
      "execution_count": 58,
      "outputs": [
        {
          "output_type": "stream",
          "text": [
            "Business/Finance\n",
            "SoftBank to invest $1.4 billion in India's Paytm in bet on demand for mobile money\n"
          ],
          "name": "stdout"
        }
      ]
    },
    {
      "cell_type": "code",
      "metadata": {
        "id": "mW0b5hq3MY5o",
        "colab_type": "code",
        "colab": {}
      },
      "source": [
        "torch.save(model, './drive/My Drive/distilbert/model_dbert.json')"
      ],
      "execution_count": 0,
      "outputs": []
    },
    {
      "cell_type": "markdown",
      "metadata": {
        "id": "g9dFzzT1HEtf",
        "colab_type": "text"
      },
      "source": [
        "- result: The evaluation result in the form of a dict. By default, only the Label ranking average precision (LRAP) is reported for multilabel classification.\n",
        "\n",
        "- model_outputs: A list of model outputs for each item in the evaluation dataset. This is useful if you need probabilities for each class rather than a single prediction. Note that a sigmoid function has been applied to each output to squash the values between 0 and .\n",
        "\n",
        "- wrong_predictions: A list of InputFeature of each incorrect prediction. The text may be obtained from the InputFeature.text_a attribute. (The InputFeature class can be found in the utils.py file in the repo)"
      ]
    },
    {
      "cell_type": "code",
      "metadata": {
        "id": "iunYKlakGNdP",
        "colab_type": "code",
        "colab": {}
      },
      "source": [
        "%cp -r /content/outputs/checkpoint-5226-epoch-2 ./drive/My\\ Drive/distilbert/"
      ],
      "execution_count": 0,
      "outputs": []
    },
    {
      "cell_type": "markdown",
      "metadata": {
        "id": "GXWbOZ5gWblE",
        "colab_type": "text"
      },
      "source": [
        "### RoBERTA"
      ]
    },
    {
      "cell_type": "code",
      "metadata": {
        "colab_type": "code",
        "id": "oA0FB89zV0DG",
        "colab": {}
      },
      "source": [
        "from simpletransformers.classification import MultiLabelClassificationModel\n",
        "\n",
        "model = MultiLabelClassificationModel('roberta', 'distilroberta-base', num_labels=24, args = args)\n",
        "\n",
        "#['bert', 'xlnet', 'xlm', 'roberta', 'distilbert']"
      ],
      "execution_count": 0,
      "outputs": []
    },
    {
      "cell_type": "code",
      "metadata": {
        "colab_type": "code",
        "outputId": "0beeb494-f42d-409e-cceb-51db84c3466e",
        "id": "G59XYoVQKcf_",
        "colab": {
          "base_uri": "https://localhost:8080/",
          "height": 249,
          "referenced_widgets": [
            "79672808d5c545d196d79ce95c294b91",
            "0bb4f9d59b474e6384cca02dd278fb6f",
            "747506a045e44b2fb10fa633cba3f110",
            "18619cf913444c02af4cd82ae498df05",
            "86e52d6c7b4744ec993582080ae990b7",
            "a7c94bd9eadd4d13a09dbd861bdbcd5b",
            "f25a4614ac5c495c94d1cbf2d84d4cd7",
            "fcbcb927aa1649ec930a99647decc08c",
            "3b12a431adc74031b05c95f274e6cb05",
            "45800ca35e5c44cea80de5747ba68bd5",
            "8eb617af4e1d4a588e8a4866ae142057",
            "4f1e455219d04a74acb79a6817fbfa18",
            "a5f074fe9d0c425fa20a034f780743ee",
            "fc9694a4da614696aa21541980236037",
            "b4e770509eb643cf8a5a114d87a469a4",
            "25e6d4c3aad94fe59ba21f00b54cf581",
            "22376f03079242a4abbb97113422d785",
            "cb3c79335e5544feb57b4256be7d9e26",
            "195983c05d904d9ca926f14e4dbdbf03",
            "ca44d6ea497f4152a41f4c4058ab44e7",
            "8260e012715f4136b91cc733cc3de834",
            "fb07437372a246da855c407ae5b3c478",
            "0c06a4f5f8f44257a6708c85ef8b3df9",
            "e1d03ec33f3f4f829b38151685e4ad43",
            "93a4f1da56eb428ba663c6805b4a8b9a",
            "c3971618c1b7417eaceaedefd0356b9b",
            "71580b0d335c4c39bd7ebe2285373fd8",
            "ddce8fec7ae64cfe83dd711f7cdd1073",
            "bd0861580df4472989260c2bf26ccf66",
            "00356064ab414fd88d9c680ca8a7ad14",
            "130368a3edd7403e908798efd2522888",
            "1a8541ed56904522a63e8dddafff4f8d"
          ]
        }
      },
      "source": [
        "model.train_model(train_df, show_running_loss = True)"
      ],
      "execution_count": 0,
      "outputs": [
        {
          "output_type": "display_data",
          "data": {
            "application/vnd.jupyter.widget-view+json": {
              "model_id": "79672808d5c545d196d79ce95c294b91",
              "version_minor": 0,
              "version_major": 2
            },
            "text/plain": [
              "HBox(children=(IntProgress(value=0, max=334421), HTML(value='')))"
            ]
          },
          "metadata": {
            "tags": []
          }
        },
        {
          "output_type": "stream",
          "text": [
            "\n"
          ],
          "name": "stdout"
        },
        {
          "output_type": "display_data",
          "data": {
            "application/vnd.jupyter.widget-view+json": {
              "model_id": "3b12a431adc74031b05c95f274e6cb05",
              "version_minor": 0,
              "version_major": 2
            },
            "text/plain": [
              "HBox(children=(IntProgress(value=0, description='Epoch', max=2, style=ProgressStyle(description_width='initial…"
            ]
          },
          "metadata": {
            "tags": []
          }
        },
        {
          "output_type": "display_data",
          "data": {
            "application/vnd.jupyter.widget-view+json": {
              "model_id": "22376f03079242a4abbb97113422d785",
              "version_minor": 0,
              "version_major": 2
            },
            "text/plain": [
              "HBox(children=(IntProgress(value=0, description='Current iteration', max=2613, style=ProgressStyle(description…"
            ]
          },
          "metadata": {
            "tags": []
          }
        },
        {
          "output_type": "stream",
          "text": [
            "Running loss: 0.564763"
          ],
          "name": "stdout"
        },
        {
          "output_type": "stream",
          "text": [
            "/usr/local/lib/python3.6/dist-packages/torch/optim/lr_scheduler.py:224: UserWarning: To get the last learning rate computed by the scheduler, please use `get_last_lr()`.\n",
            "  warnings.warn(\"To get the last learning rate computed by the scheduler, \"\n"
          ],
          "name": "stderr"
        },
        {
          "output_type": "stream",
          "text": [
            "Running loss: 0.103480\n"
          ],
          "name": "stdout"
        },
        {
          "output_type": "display_data",
          "data": {
            "application/vnd.jupyter.widget-view+json": {
              "model_id": "93a4f1da56eb428ba663c6805b4a8b9a",
              "version_minor": 0,
              "version_major": 2
            },
            "text/plain": [
              "HBox(children=(IntProgress(value=0, description='Current iteration', max=2613, style=ProgressStyle(description…"
            ]
          },
          "metadata": {
            "tags": []
          }
        },
        {
          "output_type": "stream",
          "text": [
            "Running loss: 0.098357\n",
            "\n"
          ],
          "name": "stdout"
        }
      ]
    },
    {
      "cell_type": "code",
      "metadata": {
        "colab_type": "code",
        "outputId": "f87d6fef-ab88-45e2-a594-857593c51a80",
        "id": "6rUsdpYNV0ED",
        "colab": {
          "base_uri": "https://localhost:8080/",
          "height": 116,
          "referenced_widgets": [
            "4562135ea00f45e0baa8494898abbf68",
            "97f6435040044d3e8df5d5400a1f06da",
            "816d601cde4d4cfaaa6298f3a813a98d",
            "4aaca58384f5494891bbea82e6adf7aa",
            "b215b1455c8a43fdbc2f7e600e128848",
            "b93fa9481646415c83fd2e4920e3801b",
            "c7695f41f4584c819819b17eb5f13f2c",
            "0ff37e23639f41a39d2d4bb65223dbd2",
            "df7c4d2162fe41ff8b9b7547e8d4b109",
            "a7addc29313d47c5b1932031a37bce4c",
            "e1d9852362174b98834b74fe4eb983d4",
            "b98d4bb94d384dfa81e71f09f540b6c5",
            "7a1151e34dfb433588f7138e8856ec9b",
            "1b1474305f4844bc84a99658bdb06576",
            "64bbb877dc0a47069fab4cd61c1fe7ab",
            "a3a82b6e2d694719b1d5f04b36acfe43"
          ]
        }
      },
      "source": [
        "result, model_outputs, wrong_predictions = model.eval_model(eval_df)"
      ],
      "execution_count": 78,
      "outputs": [
        {
          "output_type": "display_data",
          "data": {
            "application/vnd.jupyter.widget-view+json": {
              "model_id": "4562135ea00f45e0baa8494898abbf68",
              "version_minor": 0,
              "version_major": 2
            },
            "text/plain": [
              "HBox(children=(IntProgress(value=0, max=89257), HTML(value='')))"
            ]
          },
          "metadata": {
            "tags": []
          }
        },
        {
          "output_type": "stream",
          "text": [
            "\n"
          ],
          "name": "stdout"
        },
        {
          "output_type": "display_data",
          "data": {
            "application/vnd.jupyter.widget-view+json": {
              "model_id": "df7c4d2162fe41ff8b9b7547e8d4b109",
              "version_minor": 0,
              "version_major": 2
            },
            "text/plain": [
              "HBox(children=(IntProgress(value=0, max=698), HTML(value='')))"
            ]
          },
          "metadata": {
            "tags": []
          }
        },
        {
          "output_type": "stream",
          "text": [
            "\n"
          ],
          "name": "stdout"
        }
      ]
    },
    {
      "cell_type": "code",
      "metadata": {
        "colab_type": "code",
        "outputId": "9606401f-0040-479f-940b-853b5561c902",
        "id": "rAOMvx6iV0EJ",
        "colab": {
          "base_uri": "https://localhost:8080/",
          "height": 34
        }
      },
      "source": [
        "print(result)"
      ],
      "execution_count": 79,
      "outputs": [
        {
          "output_type": "stream",
          "text": [
            "{'LRAP': 0.7800262406663525, 'eval_loss': 0.07405059098834466}\n"
          ],
          "name": "stdout"
        }
      ]
    },
    {
      "cell_type": "code",
      "metadata": {
        "colab_type": "code",
        "outputId": "138ab8c0-c4d6-4b41-a991-ef85355b3fdc",
        "id": "xhpPxvLFV0EP",
        "colab": {
          "base_uri": "https://localhost:8080/",
          "height": 52
        }
      },
      "source": [
        "i = np.random.randint(eval_df.shape[0])\n",
        "print(encoder.decode(torch.tensor(model_outputs[i].argmax()+1)))\n",
        "print(eval_df['text'].values[i])"
      ],
      "execution_count": 100,
      "outputs": [
        {
          "output_type": "stream",
          "text": [
            "Sports\n",
            "World C'ship Archery: Praveen Jadhav bags silver for India\n"
          ],
          "name": "stdout"
        }
      ]
    },
    {
      "cell_type": "code",
      "metadata": {
        "colab_type": "code",
        "id": "Fntam9wtV0EW",
        "colab": {}
      },
      "source": [
        "torch.save(model, './drive/My Drive/distilbert/model_robbert.pkl')"
      ],
      "execution_count": 0,
      "outputs": []
    },
    {
      "cell_type": "code",
      "metadata": {
        "id": "vJmGPbwnhZCp",
        "colab_type": "code",
        "colab": {}
      },
      "source": [
        "%cp -r /content/outputs/checkpoint-2613-epoch-1 ./drive/My\\ Drive/distilbert/"
      ],
      "execution_count": 0,
      "outputs": []
    },
    {
      "cell_type": "markdown",
      "metadata": {
        "id": "D7Nw8w4Ae1-5",
        "colab_type": "text"
      },
      "source": [
        "## ALBERT"
      ]
    },
    {
      "cell_type": "code",
      "metadata": {
        "colab_type": "code",
        "id": "2CsS9_OXe-lL",
        "colab": {}
      },
      "source": [
        "from simpletransformers.classification import MultiLabelClassificationModel\n",
        "\n",
        "model = MultiLabelClassificationModel('albert', 'albert-large-v1', num_labels=24, use_cuda=False ,args = args)\n",
        "\n",
        "#['bert', 'xlnet', 'xlm', 'roberta', 'distilbert']"
      ],
      "execution_count": 0,
      "outputs": []
    },
    {
      "cell_type": "code",
      "metadata": {
        "colab_type": "code",
        "outputId": "d98029a7-fd30-41c7-a451-38d016a85cd4",
        "id": "diFYV1Bxe-lk",
        "colab": {
          "base_uri": "https://localhost:8080/",
          "height": 130,
          "referenced_widgets": [
            "0de02a06ebc84690a0aeadeea6700143",
            "25e6ebb8ae3b472d9d5221b55348049b",
            "34b69791e6ea4a7a85731231f97f781a",
            "53d40bd90f0341f396e1f969d3a58a27",
            "26a76e6ce797437c9678fa09a203d02f",
            "0f920c4ca06046c38410d3282a6999aa",
            "8bc573966dfe46e190b9d3de8edff963",
            "640d2d7f473d47d0a045e4a6ed5b195d",
            "3d0979d98b494527b0e1d41ea03fa819",
            "44299da0b5fd4bb4a226c1a4c6e30c1a",
            "b74070b9d1ad4d2c98469d260dc21b2d",
            "31a1dbfecd164492a722d1edbba89f00",
            "3c0fa36555524ecd93228b2c6821d272",
            "fa4e638fb067479e988fb0d1e6811a5b",
            "b95d5b3d57a54faeb0fef34b8aeabe1e",
            "776df0f1eaed48438329524323652b2b",
            "85b846be86a946e69324b3b437fcede6",
            "906f2558e9e6446c84d520892990b594",
            "cdb5e6f352484262bb506e67db1b95b0",
            "d0b6bbf48f8a43899feec7ffe5210ce7",
            "6c5281579a6a4e5892d2c17bd96a1921",
            "98d99b76564f40058c211f8ab96ec80d",
            "9f9150ad73e843f08227d5eefd714550",
            "dd133d29bcf14fabbd5b34b24d7c6e3b"
          ]
        }
      },
      "source": [
        "model.train_model(train_df, show_running_loss = True)"
      ],
      "execution_count": 0,
      "outputs": [
        {
          "output_type": "display_data",
          "data": {
            "application/vnd.jupyter.widget-view+json": {
              "model_id": "0de02a06ebc84690a0aeadeea6700143",
              "version_minor": 0,
              "version_major": 2
            },
            "text/plain": [
              "HBox(children=(IntProgress(value=0, max=334421), HTML(value='')))"
            ]
          },
          "metadata": {
            "tags": []
          }
        },
        {
          "output_type": "stream",
          "text": [
            "\n"
          ],
          "name": "stdout"
        },
        {
          "output_type": "display_data",
          "data": {
            "application/vnd.jupyter.widget-view+json": {
              "model_id": "3d0979d98b494527b0e1d41ea03fa819",
              "version_minor": 0,
              "version_major": 2
            },
            "text/plain": [
              "HBox(children=(IntProgress(value=0, description='Epoch', max=2, style=ProgressStyle(description_width='initial…"
            ]
          },
          "metadata": {
            "tags": []
          }
        },
        {
          "output_type": "display_data",
          "data": {
            "application/vnd.jupyter.widget-view+json": {
              "model_id": "85b846be86a946e69324b3b437fcede6",
              "version_minor": 0,
              "version_major": 2
            },
            "text/plain": [
              "HBox(children=(IntProgress(value=0, description='Current iteration', max=2613, style=ProgressStyle(description…"
            ]
          },
          "metadata": {
            "tags": []
          }
        }
      ]
    },
    {
      "cell_type": "code",
      "metadata": {
        "colab_type": "code",
        "outputId": "f87d6fef-ab88-45e2-a594-857593c51a80",
        "id": "K2p_cj2de-lz",
        "colab": {
          "base_uri": "https://localhost:8080/",
          "height": 116,
          "referenced_widgets": [
            "4562135ea00f45e0baa8494898abbf68",
            "97f6435040044d3e8df5d5400a1f06da",
            "816d601cde4d4cfaaa6298f3a813a98d",
            "4aaca58384f5494891bbea82e6adf7aa",
            "b215b1455c8a43fdbc2f7e600e128848",
            "b93fa9481646415c83fd2e4920e3801b",
            "c7695f41f4584c819819b17eb5f13f2c",
            "0ff37e23639f41a39d2d4bb65223dbd2",
            "df7c4d2162fe41ff8b9b7547e8d4b109",
            "a7addc29313d47c5b1932031a37bce4c",
            "e1d9852362174b98834b74fe4eb983d4",
            "b98d4bb94d384dfa81e71f09f540b6c5",
            "7a1151e34dfb433588f7138e8856ec9b",
            "1b1474305f4844bc84a99658bdb06576",
            "64bbb877dc0a47069fab4cd61c1fe7ab",
            "a3a82b6e2d694719b1d5f04b36acfe43"
          ]
        }
      },
      "source": [
        "result, model_outputs, wrong_predictions = model.eval_model(eval_df)"
      ],
      "execution_count": 0,
      "outputs": [
        {
          "output_type": "display_data",
          "data": {
            "application/vnd.jupyter.widget-view+json": {
              "model_id": "4562135ea00f45e0baa8494898abbf68",
              "version_minor": 0,
              "version_major": 2
            },
            "text/plain": [
              "HBox(children=(IntProgress(value=0, max=89257), HTML(value='')))"
            ]
          },
          "metadata": {
            "tags": []
          }
        },
        {
          "output_type": "stream",
          "text": [
            "\n"
          ],
          "name": "stdout"
        },
        {
          "output_type": "display_data",
          "data": {
            "application/vnd.jupyter.widget-view+json": {
              "model_id": "df7c4d2162fe41ff8b9b7547e8d4b109",
              "version_minor": 0,
              "version_major": 2
            },
            "text/plain": [
              "HBox(children=(IntProgress(value=0, max=698), HTML(value='')))"
            ]
          },
          "metadata": {
            "tags": []
          }
        },
        {
          "output_type": "stream",
          "text": [
            "\n"
          ],
          "name": "stdout"
        }
      ]
    },
    {
      "cell_type": "code",
      "metadata": {
        "colab_type": "code",
        "outputId": "9606401f-0040-479f-940b-853b5561c902",
        "id": "3-x2ZFKje-l_",
        "colab": {
          "base_uri": "https://localhost:8080/",
          "height": 34
        }
      },
      "source": [
        "print(result)"
      ],
      "execution_count": 0,
      "outputs": [
        {
          "output_type": "stream",
          "text": [
            "{'LRAP': 0.7800262406663525, 'eval_loss': 0.07405059098834466}\n"
          ],
          "name": "stdout"
        }
      ]
    },
    {
      "cell_type": "code",
      "metadata": {
        "colab_type": "code",
        "outputId": "138ab8c0-c4d6-4b41-a991-ef85355b3fdc",
        "id": "650LsbZze-mL",
        "colab": {
          "base_uri": "https://localhost:8080/",
          "height": 52
        }
      },
      "source": [
        "i = np.random.randint(eval_df.shape[0])\n",
        "print(encoder.decode(torch.tensor(model_outputs[i].argmax()+1)))\n",
        "print(eval_df['text'].values[i])"
      ],
      "execution_count": 0,
      "outputs": [
        {
          "output_type": "stream",
          "text": [
            "Sports\n",
            "World C'ship Archery: Praveen Jadhav bags silver for India\n"
          ],
          "name": "stdout"
        }
      ]
    },
    {
      "cell_type": "code",
      "metadata": {
        "colab_type": "code",
        "id": "GbeU7Zvse-mU",
        "colab": {}
      },
      "source": [
        "torch.save(model, './drive/My Drive/distilbert/model_robbert.pkl')"
      ],
      "execution_count": 0,
      "outputs": []
    },
    {
      "cell_type": "code",
      "metadata": {
        "colab_type": "code",
        "id": "8PwLx4Dee-mc",
        "colab": {}
      },
      "source": [
        "%cp -r /content/outputs/checkpoint-2613-epoch-1 ./drive/My\\ Drive/distilbert/"
      ],
      "execution_count": 0,
      "outputs": []
    },
    {
      "cell_type": "markdown",
      "metadata": {
        "colab_type": "text",
        "id": "PFqZKD1Oe-mm"
      },
      "source": [
        "## ALBERT"
      ]
    }
  ]
}
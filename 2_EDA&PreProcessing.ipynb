{
  "nbformat": 4,
  "nbformat_minor": 0,
  "metadata": {
    "colab": {
      "name": "2_EDA&PreProcessing.ipynb",
      "provenance": [],
      "collapsed_sections": [],
      "mount_file_id": "1Ee_jw9_awzBUfF923tx5yfC6hsGIyvaL",
      "authorship_tag": "ABX9TyP32BPNZxd9mpvQhOSMh8eI",
      "include_colab_link": true
    },
    "kernelspec": {
      "name": "python3",
      "display_name": "Python 3"
    }
  },
  "cells": [
    {
      "cell_type": "markdown",
      "metadata": {
        "id": "view-in-github",
        "colab_type": "text"
      },
      "source": [
        "<a href=\"https://colab.research.google.com/github/RachitBansal/RedditFlairDetector/blob/master/2_EDA%26PreProcessing.ipynb\" target=\"_parent\"><img src=\"https://colab.research.google.com/assets/colab-badge.svg\" alt=\"Open In Colab\"/></a>"
      ]
    },
    {
      "cell_type": "markdown",
      "metadata": {
        "id": "_3USh6cVScAz",
        "colab_type": "text"
      },
      "source": [
        "# EDA and Pre-Processing"
      ]
    },
    {
      "cell_type": "markdown",
      "metadata": {
        "id": "p5I-i-gs6zX8",
        "colab_type": "text"
      },
      "source": [
        "In this notebook, we will analyse the data which we collected in the previous step by performing appropriate EDA Techniques and will proprocess the data accordingly. Lastly, the final processed data would be saved as a csv file to be used for modelling. \n",
        "\n",
        "."
      ]
    },
    {
      "cell_type": "code",
      "metadata": {
        "id": "dVdFmu_JEqFo",
        "colab_type": "code",
        "outputId": "f58a519f-215c-48c2-e8c1-b8be250be01a",
        "colab": {
          "base_uri": "https://localhost:8080/",
          "height": 72
        }
      },
      "source": [
        "import pandas as pd\n",
        "import numpy as np\n",
        "import matplotlib.pyplot as plt\n",
        "import seaborn as sns"
      ],
      "execution_count": 0,
      "outputs": [
        {
          "output_type": "stream",
          "text": [
            "/usr/local/lib/python3.6/dist-packages/statsmodels/tools/_testing.py:19: FutureWarning: pandas.util.testing is deprecated. Use the functions in the public API at pandas.testing instead.\n",
            "  import pandas.util.testing as tm\n"
          ],
          "name": "stderr"
        }
      ]
    },
    {
      "cell_type": "code",
      "metadata": {
        "id": "UkFq9A8tE_T7",
        "colab_type": "code",
        "outputId": "4be6a62a-ae39-452d-e112-670732aea0e1",
        "colab": {
          "base_uri": "https://localhost:8080/",
          "height": 54
        }
      },
      "source": [
        "from google.colab import drive\n",
        "drive.mount('drive')"
      ],
      "execution_count": 0,
      "outputs": [
        {
          "output_type": "stream",
          "text": [
            "Drive already mounted at drive; to attempt to forcibly remount, call drive.mount(\"drive\", force_remount=True).\n"
          ],
          "name": "stdout"
        }
      ]
    },
    {
      "cell_type": "markdown",
      "metadata": {
        "id": "CxHH2XBB7f5t",
        "colab_type": "text"
      },
      "source": [
        ".\n",
        "\n",
        "Reading the pre-final data file which is to be analysed and processed."
      ]
    },
    {
      "cell_type": "code",
      "metadata": {
        "id": "WGbs4KjTFMcO",
        "colab_type": "code",
        "outputId": "06fc160b-6fa3-413e-b455-e453c44935e9",
        "colab": {
          "base_uri": "https://localhost:8080/",
          "height": 72
        }
      },
      "source": [
        "df = pd.read_csv('./drive/My Drive/rMIDAS_final.csv')"
      ],
      "execution_count": 0,
      "outputs": [
        {
          "output_type": "stream",
          "text": [
            "/usr/local/lib/python3.6/dist-packages/IPython/core/interactiveshell.py:2718: DtypeWarning: Columns (0) have mixed types.Specify dtype option on import or set low_memory=False.\n",
            "  interactivity=interactivity, compiler=compiler, result=result)\n"
          ],
          "name": "stderr"
        }
      ]
    },
    {
      "cell_type": "code",
      "metadata": {
        "id": "kK2G1_LzFfc5",
        "colab_type": "code",
        "outputId": "69d0fe57-366f-48be-d2f5-2847e43cb221",
        "colab": {
          "base_uri": "https://localhost:8080/",
          "height": 887
        }
      },
      "source": [
        "df.head(10)"
      ],
      "execution_count": 0,
      "outputs": [
        {
          "output_type": "execute_result",
          "data": {
            "text/html": [
              "<div>\n",
              "<style scoped>\n",
              "    .dataframe tbody tr th:only-of-type {\n",
              "        vertical-align: middle;\n",
              "    }\n",
              "\n",
              "    .dataframe tbody tr th {\n",
              "        vertical-align: top;\n",
              "    }\n",
              "\n",
              "    .dataframe thead th {\n",
              "        text-align: right;\n",
              "    }\n",
              "</style>\n",
              "<table border=\"1\" class=\"dataframe\">\n",
              "  <thead>\n",
              "    <tr style=\"text-align: right;\">\n",
              "      <th></th>\n",
              "      <th>created_utc</th>\n",
              "      <th>id</th>\n",
              "      <th>link_flair_text</th>\n",
              "      <th>num_comments</th>\n",
              "      <th>selftext</th>\n",
              "      <th>title</th>\n",
              "      <th>url</th>\n",
              "    </tr>\n",
              "  </thead>\n",
              "  <tbody>\n",
              "    <tr>\n",
              "      <th>0</th>\n",
              "      <td>1554185977</td>\n",
              "      <td>b8fe48</td>\n",
              "      <td>NaN</td>\n",
              "      <td>2.0</td>\n",
              "      <td>NaN</td>\n",
              "      <td>Opinion | A theory about the sudden rise of Ni...</td>\n",
              "      <td>https://www.livemint.com/opinion/columns/opini...</td>\n",
              "    </tr>\n",
              "    <tr>\n",
              "      <th>1</th>\n",
              "      <td>1515991106</td>\n",
              "      <td>7qhc9y</td>\n",
              "      <td>NaN</td>\n",
              "      <td>0.0</td>\n",
              "      <td>[deleted]</td>\n",
              "      <td>PU Colleges in Mangalore.</td>\n",
              "      <td>https://www.reddit.com/r/india/comments/7qhc9y...</td>\n",
              "    </tr>\n",
              "    <tr>\n",
              "      <th>2</th>\n",
              "      <td>1558945602</td>\n",
              "      <td>btjiv5</td>\n",
              "      <td>Politics</td>\n",
              "      <td>3.0</td>\n",
              "      <td>NaN</td>\n",
              "      <td>Remembering Jawaharlal Nehru on his death anni...</td>\n",
              "      <td>https://i.redd.it/txph3eq1sp031.jpg</td>\n",
              "    </tr>\n",
              "    <tr>\n",
              "      <th>3</th>\n",
              "      <td>1501064512</td>\n",
              "      <td>6pn4gj</td>\n",
              "      <td>Non-Political</td>\n",
              "      <td>0.0</td>\n",
              "      <td>NaN</td>\n",
              "      <td>[FRESH VIDEO] Armaan Malik - 'Barfani' (Babumo...</td>\n",
              "      <td>https://www.youtube.com/watch?v=LzETSqumgCY</td>\n",
              "    </tr>\n",
              "    <tr>\n",
              "      <th>4</th>\n",
              "      <td>1517726535</td>\n",
              "      <td>7v59mr</td>\n",
              "      <td>NaN</td>\n",
              "      <td>0.0</td>\n",
              "      <td>NaN</td>\n",
              "      <td>7,000 super-rich Indians shifted overseas in 2...</td>\n",
              "      <td>http://zeenews.india.com/india/7000-super-rich...</td>\n",
              "    </tr>\n",
              "    <tr>\n",
              "      <th>5</th>\n",
              "      <td>1574087019</td>\n",
              "      <td>dy3t9k</td>\n",
              "      <td>Non-Political</td>\n",
              "      <td>2.0</td>\n",
              "      <td>Today I had an appointment for my kid's passpo...</td>\n",
              "      <td>Whims and fancies of officers at PSK [NP]</td>\n",
              "      <td>https://www.reddit.com/r/india/comments/dy3t9k...</td>\n",
              "    </tr>\n",
              "    <tr>\n",
              "      <th>6</th>\n",
              "      <td>1410478029</td>\n",
              "      <td>2g5gqn</td>\n",
              "      <td>Non-Political</td>\n",
              "      <td>1.0</td>\n",
              "      <td>NaN</td>\n",
              "      <td>Rann Utsav - A festival in the deserts of Kutc...</td>\n",
              "      <td>http://www.rannutsav.net/</td>\n",
              "    </tr>\n",
              "    <tr>\n",
              "      <th>7</th>\n",
              "      <td>1483609441</td>\n",
              "      <td>5m5j3f</td>\n",
              "      <td>Science/Technology</td>\n",
              "      <td>3.0</td>\n",
              "      <td>NaN</td>\n",
              "      <td>CCMB signs MoUs with four startups</td>\n",
              "      <td>http://economictimes.indiatimes.com/small-biz/...</td>\n",
              "    </tr>\n",
              "    <tr>\n",
              "      <th>8</th>\n",
              "      <td>1479750176</td>\n",
              "      <td>5e5caf</td>\n",
              "      <td>Politics</td>\n",
              "      <td>0.0</td>\n",
              "      <td>[deleted]</td>\n",
              "      <td>PM Modi didn't do his homework</td>\n",
              "      <td>http://www.forbes.com/sites/panosmourdoukoutas...</td>\n",
              "    </tr>\n",
              "    <tr>\n",
              "      <th>9</th>\n",
              "      <td>1492613889</td>\n",
              "      <td>66aplw</td>\n",
              "      <td>Politics</td>\n",
              "      <td>2.0</td>\n",
              "      <td>NaN</td>\n",
              "      <td>GST rules: One leg still stuck in old taxes</td>\n",
              "      <td>http://www.forbesindia.com/article/special/gst...</td>\n",
              "    </tr>\n",
              "  </tbody>\n",
              "</table>\n",
              "</div>"
            ],
            "text/plain": [
              "  created_utc  ...                                                url\n",
              "0  1554185977  ...  https://www.livemint.com/opinion/columns/opini...\n",
              "1  1515991106  ...  https://www.reddit.com/r/india/comments/7qhc9y...\n",
              "2  1558945602  ...                https://i.redd.it/txph3eq1sp031.jpg\n",
              "3  1501064512  ...        https://www.youtube.com/watch?v=LzETSqumgCY\n",
              "4  1517726535  ...  http://zeenews.india.com/india/7000-super-rich...\n",
              "5  1574087019  ...  https://www.reddit.com/r/india/comments/dy3t9k...\n",
              "6  1410478029  ...                          http://www.rannutsav.net/\n",
              "7  1483609441  ...  http://economictimes.indiatimes.com/small-biz/...\n",
              "8  1479750176  ...  http://www.forbes.com/sites/panosmourdoukoutas...\n",
              "9  1492613889  ...  http://www.forbesindia.com/article/special/gst...\n",
              "\n",
              "[10 rows x 7 columns]"
            ]
          },
          "metadata": {
            "tags": []
          },
          "execution_count": 34
        }
      ]
    },
    {
      "cell_type": "code",
      "metadata": {
        "id": "7JMxZMJ98MX4",
        "colab_type": "code",
        "outputId": "6137bd64-8b37-4131-aa4a-cd32ed99d6d1",
        "colab": {
          "base_uri": "https://localhost:8080/",
          "height": 34
        }
      },
      "source": [
        "df.shape"
      ],
      "execution_count": 0,
      "outputs": [
        {
          "output_type": "execute_result",
          "data": {
            "text/plain": [
              "(749973, 7)"
            ]
          },
          "metadata": {
            "tags": []
          },
          "execution_count": 35
        }
      ]
    },
    {
      "cell_type": "markdown",
      "metadata": {
        "id": "wwU7lutm8HNy",
        "colab_type": "text"
      },
      "source": [
        "We can see that we have close to .75M rows in our data\n",
        "\n",
        ".\n",
        "\n",
        "Analysing the number of Flairs in the entire data as well as the number of Data Points for each of them:"
      ]
    },
    {
      "cell_type": "code",
      "metadata": {
        "id": "eYc2Snp9FlW-",
        "colab_type": "code",
        "outputId": "36da77bb-b63f-4734-e099-50118d06b306",
        "colab": {
          "base_uri": "https://localhost:8080/",
          "height": 538
        }
      },
      "source": [
        "flairs_in_df = list( dict.fromkeys(list(df.loc[:, 'link_flair_text'].values)))\n",
        "print(len(flairs_in_df))\n",
        "for flair in flairs_in_df:\n",
        "  count = np.sum(df.loc[:, 'link_flair_text'].values == flair)\n",
        "  if(count>500):\n",
        "    print(flair, \"\\t\", count)"
      ],
      "execution_count": 0,
      "outputs": [
        {
          "output_type": "stream",
          "text": [
            "731\n",
            "Politics \t 129061\n",
            "Non-Political \t 204007\n",
            "Science/Technology \t 14010\n",
            "AskIndia \t 45811\n",
            "Policy/Economy \t 18642\n",
            "Coronavirus \t 7004\n",
            "Entertainment \t 4421\n",
            "Repost. \t 2307\n",
            "Sports \t 6217\n",
            "Stickied Topic. \t 799\n",
            "Policy \t 2306\n",
            "[R]eddiquette \t 10424\n",
            "Business/Finance \t 17436\n",
            "All CAPS. \t 1700\n",
            "Not in English. \t 4666\n",
            "Meta. \t 529\n",
            "Food \t 3395\n",
            "Demonetization \t 6457\n",
            "Scheduled \t 1754\n",
            "Repost; \t 1284\n",
            "Science &amp; Technology \t 1810\n",
            "Business &amp; Finance \t 892\n",
            "Policy &amp; Economy \t 2012\n",
            "Low-effort self-post. \t 1231\n",
            "Not about India. \t 2615\n",
            "Unverified Content. \t 930\n",
            "Photography \t 4331\n",
            "Not Original Title. \t 2117\n",
            "CAA-NRC \t 1070\n"
          ],
          "name": "stdout"
        }
      ]
    },
    {
      "cell_type": "markdown",
      "metadata": {
        "id": "DaSwxzBnSwYk",
        "colab_type": "text"
      },
      "source": [
        "## Handling redundant data"
      ]
    },
    {
      "cell_type": "markdown",
      "metadata": {
        "id": "iJvRXjUD8vJb",
        "colab_type": "text"
      },
      "source": [
        "From the above cell, it can be seen that there is a presence of some redundant Flairs in the data like 'Science &amp; Technology' <-> 'Science/Technology' and 'Business &amp; Finance' <-> 'Business/Finance'. These can be concatendated as done below:"
      ]
    },
    {
      "cell_type": "code",
      "metadata": {
        "id": "kOfTTTfHv1HM",
        "colab_type": "code",
        "colab": {}
      },
      "source": [
        "df['selftext'].replace('[deleted]', 'None', inplace=True)\n",
        "df['link_flair_text'].replace('Science &amp; Technology', 'Science/Technology', inplace=True)\n",
        "df['link_flair_text'].replace('Business &amp; Finance', 'Business/Finance', inplace=True)\n",
        "df['link_flair_text'].replace('CAA-NRC', 'Politics', inplace=True)\n",
        "df['link_flair_text'].replace('Demonetization', 'Policy/Economy', inplace=True)\n",
        "df['link_flair_text'].replace('Policy &amp; Economy', 'Policy/Economy', inplace=True)"
      ],
      "execution_count": 0,
      "outputs": []
    },
    {
      "cell_type": "markdown",
      "metadata": {
        "id": "LyKtN23x9pYR",
        "colab_type": "text"
      },
      "source": [
        "."
      ]
    },
    {
      "cell_type": "code",
      "metadata": {
        "id": "jptCgYK0Fg8M",
        "colab_type": "code",
        "outputId": "7a517be3-c64a-46c7-c3f6-79592fdc70ec",
        "colab": {
          "base_uri": "https://localhost:8080/",
          "height": 260
        }
      },
      "source": [
        "df.info()"
      ],
      "execution_count": 0,
      "outputs": [
        {
          "output_type": "stream",
          "text": [
            "<class 'pandas.core.frame.DataFrame'>\n",
            "RangeIndex: 749973 entries, 0 to 749972\n",
            "Data columns (total 7 columns):\n",
            " #   Column           Non-Null Count   Dtype  \n",
            "---  ------           --------------   -----  \n",
            " 0   created_utc      749970 non-null  object \n",
            " 1   id               749956 non-null  object \n",
            " 2   link_flair_text  509337 non-null  object \n",
            " 3   num_comments     749931 non-null  float64\n",
            " 4   selftext         208140 non-null  object \n",
            " 5   title            696974 non-null  object \n",
            " 6   url              696975 non-null  object \n",
            "dtypes: float64(1), object(6)\n",
            "memory usage: 40.1+ MB\n"
          ],
          "name": "stdout"
        }
      ]
    },
    {
      "cell_type": "markdown",
      "metadata": {
        "id": "5jt15HtLS3c0",
        "colab_type": "text"
      },
      "source": [
        "## Handling 'NaN's"
      ]
    },
    {
      "cell_type": "markdown",
      "metadata": {
        "id": "HND9uqoz9uxr",
        "colab_type": "text"
      },
      "source": [
        "It can be observed that close to .24M rows have our label (i.e. link_flair_text) as 'NaN' and around 0.05M rows have our main input (i.e. title) as 'NaN'. These rows can't be included in our data and are removed in the step below:"
      ]
    },
    {
      "cell_type": "code",
      "metadata": {
        "id": "SxJQTw4mblEX",
        "colab_type": "code",
        "outputId": "28236124-759b-4fcf-c3c4-064be8d62f09",
        "colab": {
          "base_uri": "https://localhost:8080/",
          "height": 34
        }
      },
      "source": [
        "df = df.dropna('index', subset = ['title', 'link_flair_text'])\n",
        "df['num_comments'] = df['num_comments'].astype(int)\n",
        "df = df.reset_index()\n",
        "df = df.drop('index', 'columns')\n",
        "print(df.shape)"
      ],
      "execution_count": 0,
      "outputs": [
        {
          "output_type": "stream",
          "text": [
            "(456357, 7)\n"
          ],
          "name": "stdout"
        }
      ]
    },
    {
      "cell_type": "code",
      "metadata": {
        "id": "ClK2gR51w1HM",
        "colab_type": "code",
        "outputId": "dd03bace-426a-4dcd-b33b-7e246377588a",
        "colab": {
          "base_uri": "https://localhost:8080/",
          "height": 451
        }
      },
      "source": [
        "flairs_to_keep = []\n",
        "flairs_in_df = list( dict.fromkeys(list(df.loc[:, 'link_flair_text'].values)))\n",
        "print(len(flairs_in_df))\n",
        "for flair in flairs_in_df:\n",
        "  count = np.sum(df.loc[:, 'link_flair_text'].values == flair)\n",
        "  if(count>500):\n",
        "    print(flair, \"\\t\", count)\n",
        "    flairs_to_keep.append(flair)"
      ],
      "execution_count": 0,
      "outputs": [
        {
          "output_type": "stream",
          "text": [
            "700\n",
            "Politics \t 130123\n",
            "Non-Political \t 151061\n",
            "Science/Technology \t 15820\n",
            "AskIndia \t 45811\n",
            "Policy/Economy \t 27111\n",
            "Coronavirus \t 7004\n",
            "Entertainment \t 4421\n",
            "Repost. \t 2307\n",
            "Sports \t 6217\n",
            "Stickied Topic. \t 799\n",
            "Policy \t 2306\n",
            "[R]eddiquette \t 10424\n",
            "Business/Finance \t 18328\n",
            "All CAPS. \t 1699\n",
            "Not in English. \t 4666\n",
            "Meta. \t 529\n",
            "Food \t 3395\n",
            "Scheduled \t 1754\n",
            "Repost; \t 1284\n",
            "Low-effort self-post. \t 1231\n",
            "Not about India. \t 2615\n",
            "Unverified Content. \t 930\n",
            "Photography \t 4331\n",
            "Not Original Title. \t 2117\n"
          ],
          "name": "stdout"
        }
      ]
    },
    {
      "cell_type": "markdown",
      "metadata": {
        "id": "ehR07ZY3-sLS",
        "colab_type": "text"
      },
      "source": [
        "After performing the preprocessing steps so far, we are left with .45M rows and 700 Flairs in the data.\n",
        "\n",
        ".\n",
        "\n",
        "Out of these 700, only those Flairs are to be kept in the final data which have at lest 500 values and that is done by removing the others:"
      ]
    },
    {
      "cell_type": "code",
      "metadata": {
        "id": "RZoGxrrwVQD7",
        "colab_type": "code",
        "outputId": "156d5207-af4b-47de-8465-48f403a46cc0",
        "colab": {
          "base_uri": "https://localhost:8080/",
          "height": 312
        }
      },
      "source": [
        "for i in range(df.shape[0]):\n",
        "  if(i%10000 == 0):\n",
        "    print(i)\n",
        "  if(df.loc[i, 'link_flair_text'] not in flairs_to_keep):\n",
        "    df = df.drop(i, 'index')\n",
        "    continue"
      ],
      "execution_count": 0,
      "outputs": [
        {
          "output_type": "stream",
          "text": [
            "290000\n",
            "300000\n",
            "310000\n",
            "320000\n",
            "330000\n",
            "340000\n",
            "350000\n",
            "360000\n",
            "370000\n",
            "380000\n",
            "390000\n",
            "400000\n",
            "410000\n",
            "420000\n",
            "430000\n",
            "440000\n",
            "450000\n"
          ],
          "name": "stdout"
        }
      ]
    },
    {
      "cell_type": "code",
      "metadata": {
        "id": "027mwhsTWoF5",
        "colab_type": "code",
        "outputId": "90060670-5863-4e7f-afd5-669d35a4802d",
        "colab": {
          "base_uri": "https://localhost:8080/",
          "height": 34
        }
      },
      "source": [
        "df.reset_index(inplace=True)\n",
        "df.drop('index', 'columns', inplace = True)\n",
        "print(df.shape)"
      ],
      "execution_count": 0,
      "outputs": [
        {
          "output_type": "stream",
          "text": [
            "(446283, 7)\n"
          ],
          "name": "stdout"
        }
      ]
    },
    {
      "cell_type": "code",
      "metadata": {
        "id": "O_6Nt75C5wAr",
        "colab_type": "code",
        "outputId": "420eef56-afef-4123-c2fb-f69da591b895",
        "colab": {
          "base_uri": "https://localhost:8080/",
          "height": 206
        }
      },
      "source": [
        "df.head()"
      ],
      "execution_count": 0,
      "outputs": [
        {
          "output_type": "execute_result",
          "data": {
            "text/html": [
              "<div>\n",
              "<style scoped>\n",
              "    .dataframe tbody tr th:only-of-type {\n",
              "        vertical-align: middle;\n",
              "    }\n",
              "\n",
              "    .dataframe tbody tr th {\n",
              "        vertical-align: top;\n",
              "    }\n",
              "\n",
              "    .dataframe thead th {\n",
              "        text-align: right;\n",
              "    }\n",
              "</style>\n",
              "<table border=\"1\" class=\"dataframe\">\n",
              "  <thead>\n",
              "    <tr style=\"text-align: right;\">\n",
              "      <th></th>\n",
              "      <th>created_utc</th>\n",
              "      <th>id</th>\n",
              "      <th>link_flair_text</th>\n",
              "      <th>num_comments</th>\n",
              "      <th>selftext</th>\n",
              "      <th>title</th>\n",
              "      <th>url</th>\n",
              "    </tr>\n",
              "  </thead>\n",
              "  <tbody>\n",
              "    <tr>\n",
              "      <th>0</th>\n",
              "      <td>1558945602</td>\n",
              "      <td>btjiv5</td>\n",
              "      <td>Politics</td>\n",
              "      <td>3</td>\n",
              "      <td>NaN</td>\n",
              "      <td>Remembering Jawaharlal Nehru on his death anni...</td>\n",
              "      <td>https://i.redd.it/txph3eq1sp031.jpg</td>\n",
              "    </tr>\n",
              "    <tr>\n",
              "      <th>1</th>\n",
              "      <td>1501064512</td>\n",
              "      <td>6pn4gj</td>\n",
              "      <td>Non-Political</td>\n",
              "      <td>0</td>\n",
              "      <td>NaN</td>\n",
              "      <td>[FRESH VIDEO] Armaan Malik - 'Barfani' (Babumo...</td>\n",
              "      <td>https://www.youtube.com/watch?v=LzETSqumgCY</td>\n",
              "    </tr>\n",
              "    <tr>\n",
              "      <th>2</th>\n",
              "      <td>1574087019</td>\n",
              "      <td>dy3t9k</td>\n",
              "      <td>Non-Political</td>\n",
              "      <td>2</td>\n",
              "      <td>Today I had an appointment for my kid's passpo...</td>\n",
              "      <td>Whims and fancies of officers at PSK [NP]</td>\n",
              "      <td>https://www.reddit.com/r/india/comments/dy3t9k...</td>\n",
              "    </tr>\n",
              "    <tr>\n",
              "      <th>3</th>\n",
              "      <td>1410478029</td>\n",
              "      <td>2g5gqn</td>\n",
              "      <td>Non-Political</td>\n",
              "      <td>1</td>\n",
              "      <td>NaN</td>\n",
              "      <td>Rann Utsav - A festival in the deserts of Kutc...</td>\n",
              "      <td>http://www.rannutsav.net/</td>\n",
              "    </tr>\n",
              "    <tr>\n",
              "      <th>4</th>\n",
              "      <td>1483609441</td>\n",
              "      <td>5m5j3f</td>\n",
              "      <td>Science/Technology</td>\n",
              "      <td>3</td>\n",
              "      <td>NaN</td>\n",
              "      <td>CCMB signs MoUs with four startups</td>\n",
              "      <td>http://economictimes.indiatimes.com/small-biz/...</td>\n",
              "    </tr>\n",
              "  </tbody>\n",
              "</table>\n",
              "</div>"
            ],
            "text/plain": [
              "  created_utc  ...                                                url\n",
              "0  1558945602  ...                https://i.redd.it/txph3eq1sp031.jpg\n",
              "1  1501064512  ...        https://www.youtube.com/watch?v=LzETSqumgCY\n",
              "2  1574087019  ...  https://www.reddit.com/r/india/comments/dy3t9k...\n",
              "3  1410478029  ...                          http://www.rannutsav.net/\n",
              "4  1483609441  ...  http://economictimes.indiatimes.com/small-biz/...\n",
              "\n",
              "[5 rows x 7 columns]"
            ]
          },
          "metadata": {
            "tags": []
          },
          "execution_count": 65
        }
      ]
    },
    {
      "cell_type": "markdown",
      "metadata": {
        "id": "_ViwU-JIAJd1",
        "colab_type": "text"
      },
      "source": [
        ".\n",
        "\n",
        "The figure belolw shows the 'NaN' Values in the entire data in the form of a heatmap, it can be observed that only the 'selftext' column (which represents the description of a reddit post) has NaN values. These are replaced by a placeholder 'None'."
      ]
    },
    {
      "cell_type": "code",
      "metadata": {
        "id": "78JCRjGAHeiN",
        "colab_type": "code",
        "outputId": "ec399a48-3d58-4917-e6fe-8a02deebcdd4",
        "colab": {
          "base_uri": "https://localhost:8080/",
          "height": 352
        }
      },
      "source": [
        "sns.heatmap(df.isnull(),cbar=False,yticklabels=False,cmap = 'viridis')"
      ],
      "execution_count": 0,
      "outputs": [
        {
          "output_type": "execute_result",
          "data": {
            "text/plain": [
              "<matplotlib.axes._subplots.AxesSubplot at 0x7ff0b26ff438>"
            ]
          },
          "metadata": {
            "tags": []
          },
          "execution_count": 48
        },
        {
          "output_type": "display_data",
          "data": {
            "image/png": "[encoded data removed]",
            "text/plain": [
              "<Figure size 432x288 with 1 Axes>"
            ]
          },
          "metadata": {
            "tags": [],
            "needs_background": "light"
          }
        }
      ]
    },
    {
      "cell_type": "code",
      "metadata": {
        "id": "rWDb-g1Y5-m6",
        "colab_type": "code",
        "colab": {}
      },
      "source": [
        "df.fillna('None', inplace = True)"
      ],
      "execution_count": 0,
      "outputs": []
    },
    {
      "cell_type": "markdown",
      "metadata": {
        "id": "TQcOSfUt_nLu",
        "colab_type": "text"
      },
      "source": [
        "The figure below shows the amount of data available corresponding to each Flair"
      ]
    },
    {
      "cell_type": "code",
      "metadata": {
        "id": "FzGFwgW5ztY9",
        "colab_type": "code",
        "outputId": "46476a29-f4f6-41ce-e798-fbf57763a118",
        "colab": {
          "base_uri": "https://localhost:8080/",
          "height": 553
        }
      },
      "source": [
        "flairs_count = {\n",
        "    'flair': [],\n",
        "    'count': []\n",
        "}\n",
        "\n",
        "for flair in flairs_to_keep:\n",
        "  count = np.sum(df.loc[:, 'link_flair_text'].values == flair)\n",
        "  flairs_count['flair'].append(flair)\n",
        "  flairs_count['count'].append(count)\n",
        "\n",
        "pd.DataFrame(flairs_count) \\\n",
        "    .round(decimals=2) \\\n",
        "    .sort_values('count', ascending=False) \\\n",
        "    .style.bar(color=['grey', 'red'], align='zero')"
      ],
      "execution_count": 0,
      "outputs": [
        {
          "output_type": "execute_result",
          "data": {
            "text/html": [
              "<style  type=\"text/css\" >\n",
              "    #T_f07f0350_7d69_11ea_8edf_0242ac1c0002row0_col1 {\n",
              "            width:  10em;\n",
              "             height:  80%;\n",
              "            background:  linear-gradient(90deg, transparent 50.0%, red 50.0%, red 100.0%, transparent 100.0%);\n",
              "        }    #T_f07f0350_7d69_11ea_8edf_0242ac1c0002row1_col1 {\n",
              "            width:  10em;\n",
              "             height:  80%;\n",
              "            background:  linear-gradient(90deg, transparent 50.0%, red 50.0%, red 93.1%, transparent 93.1%);\n",
              "        }    #T_f07f0350_7d69_11ea_8edf_0242ac1c0002row2_col1 {\n",
              "            width:  10em;\n",
              "             height:  80%;\n",
              "            background:  linear-gradient(90deg, transparent 50.0%, red 50.0%, red 65.2%, transparent 65.2%);\n",
              "        }    #T_f07f0350_7d69_11ea_8edf_0242ac1c0002row3_col1 {\n",
              "            width:  10em;\n",
              "             height:  80%;\n",
              "            background:  linear-gradient(90deg, transparent 50.0%, red 50.0%, red 59.0%, transparent 59.0%);\n",
              "        }    #T_f07f0350_7d69_11ea_8edf_0242ac1c0002row4_col1 {\n",
              "            width:  10em;\n",
              "             height:  80%;\n",
              "            background:  linear-gradient(90deg, transparent 50.0%, red 50.0%, red 56.1%, transparent 56.1%);\n",
              "        }    #T_f07f0350_7d69_11ea_8edf_0242ac1c0002row5_col1 {\n",
              "            width:  10em;\n",
              "             height:  80%;\n",
              "            background:  linear-gradient(90deg, transparent 50.0%, red 50.0%, red 55.2%, transparent 55.2%);\n",
              "        }    #T_f07f0350_7d69_11ea_8edf_0242ac1c0002row6_col1 {\n",
              "            width:  10em;\n",
              "             height:  80%;\n",
              "            background:  linear-gradient(90deg, transparent 50.0%, red 50.0%, red 53.5%, transparent 53.5%);\n",
              "        }    #T_f07f0350_7d69_11ea_8edf_0242ac1c0002row7_col1 {\n",
              "            width:  10em;\n",
              "             height:  80%;\n",
              "            background:  linear-gradient(90deg, transparent 50.0%, red 50.0%, red 52.3%, transparent 52.3%);\n",
              "        }    #T_f07f0350_7d69_11ea_8edf_0242ac1c0002row8_col1 {\n",
              "            width:  10em;\n",
              "             height:  80%;\n",
              "            background:  linear-gradient(90deg, transparent 50.0%, red 50.0%, red 52.1%, transparent 52.1%);\n",
              "        }    #T_f07f0350_7d69_11ea_8edf_0242ac1c0002row9_col1 {\n",
              "            width:  10em;\n",
              "             height:  80%;\n",
              "            background:  linear-gradient(90deg, transparent 50.0%, red 50.0%, red 51.5%, transparent 51.5%);\n",
              "        }    #T_f07f0350_7d69_11ea_8edf_0242ac1c0002row10_col1 {\n",
              "            width:  10em;\n",
              "             height:  80%;\n",
              "            background:  linear-gradient(90deg, transparent 50.0%, red 50.0%, red 51.5%, transparent 51.5%);\n",
              "        }    #T_f07f0350_7d69_11ea_8edf_0242ac1c0002row11_col1 {\n",
              "            width:  10em;\n",
              "             height:  80%;\n",
              "            background:  linear-gradient(90deg, transparent 50.0%, red 50.0%, red 51.4%, transparent 51.4%);\n",
              "        }    #T_f07f0350_7d69_11ea_8edf_0242ac1c0002row12_col1 {\n",
              "            width:  10em;\n",
              "             height:  80%;\n",
              "            background:  linear-gradient(90deg, transparent 50.0%, red 50.0%, red 51.1%, transparent 51.1%);\n",
              "        }    #T_f07f0350_7d69_11ea_8edf_0242ac1c0002row13_col1 {\n",
              "            width:  10em;\n",
              "             height:  80%;\n",
              "            background:  linear-gradient(90deg, transparent 50.0%, red 50.0%, red 50.9%, transparent 50.9%);\n",
              "        }    #T_f07f0350_7d69_11ea_8edf_0242ac1c0002row14_col1 {\n",
              "            width:  10em;\n",
              "             height:  80%;\n",
              "            background:  linear-gradient(90deg, transparent 50.0%, red 50.0%, red 50.8%, transparent 50.8%);\n",
              "        }    #T_f07f0350_7d69_11ea_8edf_0242ac1c0002row15_col1 {\n",
              "            width:  10em;\n",
              "             height:  80%;\n",
              "            background:  linear-gradient(90deg, transparent 50.0%, red 50.0%, red 50.8%, transparent 50.8%);\n",
              "        }    #T_f07f0350_7d69_11ea_8edf_0242ac1c0002row16_col1 {\n",
              "            width:  10em;\n",
              "             height:  80%;\n",
              "            background:  linear-gradient(90deg, transparent 50.0%, red 50.0%, red 50.7%, transparent 50.7%);\n",
              "        }    #T_f07f0350_7d69_11ea_8edf_0242ac1c0002row17_col1 {\n",
              "            width:  10em;\n",
              "             height:  80%;\n",
              "            background:  linear-gradient(90deg, transparent 50.0%, red 50.0%, red 50.6%, transparent 50.6%);\n",
              "        }    #T_f07f0350_7d69_11ea_8edf_0242ac1c0002row18_col1 {\n",
              "            width:  10em;\n",
              "             height:  80%;\n",
              "            background:  linear-gradient(90deg, transparent 50.0%, red 50.0%, red 50.6%, transparent 50.6%);\n",
              "        }    #T_f07f0350_7d69_11ea_8edf_0242ac1c0002row19_col1 {\n",
              "            width:  10em;\n",
              "             height:  80%;\n",
              "            background:  linear-gradient(90deg, transparent 50.0%, red 50.0%, red 50.4%, transparent 50.4%);\n",
              "        }    #T_f07f0350_7d69_11ea_8edf_0242ac1c0002row20_col1 {\n",
              "            width:  10em;\n",
              "             height:  80%;\n",
              "            background:  linear-gradient(90deg, transparent 50.0%, red 50.0%, red 50.4%, transparent 50.4%);\n",
              "        }    #T_f07f0350_7d69_11ea_8edf_0242ac1c0002row21_col1 {\n",
              "            width:  10em;\n",
              "             height:  80%;\n",
              "            background:  linear-gradient(90deg, transparent 50.0%, red 50.0%, red 50.3%, transparent 50.3%);\n",
              "        }    #T_f07f0350_7d69_11ea_8edf_0242ac1c0002row22_col1 {\n",
              "            width:  10em;\n",
              "             height:  80%;\n",
              "            background:  linear-gradient(90deg, transparent 50.0%, red 50.0%, red 50.3%, transparent 50.3%);\n",
              "        }    #T_f07f0350_7d69_11ea_8edf_0242ac1c0002row23_col1 {\n",
              "            width:  10em;\n",
              "             height:  80%;\n",
              "            background:  linear-gradient(90deg, transparent 50.0%, red 50.0%, red 50.2%, transparent 50.2%);\n",
              "        }</style><table id=\"T_f07f0350_7d69_11ea_8edf_0242ac1c0002\" ><thead>    <tr>        <th class=\"blank level0\" ></th>        <th class=\"col_heading level0 col0\" >flair</th>        <th class=\"col_heading level0 col1\" >count</th>    </tr></thead><tbody>\n",
              "                <tr>\n",
              "                        <th id=\"T_f07f0350_7d69_11ea_8edf_0242ac1c0002level0_row0\" class=\"row_heading level0 row0\" >1</th>\n",
              "                        <td id=\"T_f07f0350_7d69_11ea_8edf_0242ac1c0002row0_col0\" class=\"data row0 col0\" >Non-Political</td>\n",
              "                        <td id=\"T_f07f0350_7d69_11ea_8edf_0242ac1c0002row0_col1\" class=\"data row0 col1\" >151061</td>\n",
              "            </tr>\n",
              "            <tr>\n",
              "                        <th id=\"T_f07f0350_7d69_11ea_8edf_0242ac1c0002level0_row1\" class=\"row_heading level0 row1\" >0</th>\n",
              "                        <td id=\"T_f07f0350_7d69_11ea_8edf_0242ac1c0002row1_col0\" class=\"data row1 col0\" >Politics</td>\n",
              "                        <td id=\"T_f07f0350_7d69_11ea_8edf_0242ac1c0002row1_col1\" class=\"data row1 col1\" >130123</td>\n",
              "            </tr>\n",
              "            <tr>\n",
              "                        <th id=\"T_f07f0350_7d69_11ea_8edf_0242ac1c0002level0_row2\" class=\"row_heading level0 row2\" >3</th>\n",
              "                        <td id=\"T_f07f0350_7d69_11ea_8edf_0242ac1c0002row2_col0\" class=\"data row2 col0\" >AskIndia</td>\n",
              "                        <td id=\"T_f07f0350_7d69_11ea_8edf_0242ac1c0002row2_col1\" class=\"data row2 col1\" >45811</td>\n",
              "            </tr>\n",
              "            <tr>\n",
              "                        <th id=\"T_f07f0350_7d69_11ea_8edf_0242ac1c0002level0_row3\" class=\"row_heading level0 row3\" >4</th>\n",
              "                        <td id=\"T_f07f0350_7d69_11ea_8edf_0242ac1c0002row3_col0\" class=\"data row3 col0\" >Policy/Economy</td>\n",
              "                        <td id=\"T_f07f0350_7d69_11ea_8edf_0242ac1c0002row3_col1\" class=\"data row3 col1\" >27111</td>\n",
              "            </tr>\n",
              "            <tr>\n",
              "                        <th id=\"T_f07f0350_7d69_11ea_8edf_0242ac1c0002level0_row4\" class=\"row_heading level0 row4\" >12</th>\n",
              "                        <td id=\"T_f07f0350_7d69_11ea_8edf_0242ac1c0002row4_col0\" class=\"data row4 col0\" >Business/Finance</td>\n",
              "                        <td id=\"T_f07f0350_7d69_11ea_8edf_0242ac1c0002row4_col1\" class=\"data row4 col1\" >18328</td>\n",
              "            </tr>\n",
              "            <tr>\n",
              "                        <th id=\"T_f07f0350_7d69_11ea_8edf_0242ac1c0002level0_row5\" class=\"row_heading level0 row5\" >2</th>\n",
              "                        <td id=\"T_f07f0350_7d69_11ea_8edf_0242ac1c0002row5_col0\" class=\"data row5 col0\" >Science/Technology</td>\n",
              "                        <td id=\"T_f07f0350_7d69_11ea_8edf_0242ac1c0002row5_col1\" class=\"data row5 col1\" >15820</td>\n",
              "            </tr>\n",
              "            <tr>\n",
              "                        <th id=\"T_f07f0350_7d69_11ea_8edf_0242ac1c0002level0_row6\" class=\"row_heading level0 row6\" >11</th>\n",
              "                        <td id=\"T_f07f0350_7d69_11ea_8edf_0242ac1c0002row6_col0\" class=\"data row6 col0\" >[R]eddiquette</td>\n",
              "                        <td id=\"T_f07f0350_7d69_11ea_8edf_0242ac1c0002row6_col1\" class=\"data row6 col1\" >10424</td>\n",
              "            </tr>\n",
              "            <tr>\n",
              "                        <th id=\"T_f07f0350_7d69_11ea_8edf_0242ac1c0002level0_row7\" class=\"row_heading level0 row7\" >5</th>\n",
              "                        <td id=\"T_f07f0350_7d69_11ea_8edf_0242ac1c0002row7_col0\" class=\"data row7 col0\" >Coronavirus</td>\n",
              "                        <td id=\"T_f07f0350_7d69_11ea_8edf_0242ac1c0002row7_col1\" class=\"data row7 col1\" >7004</td>\n",
              "            </tr>\n",
              "            <tr>\n",
              "                        <th id=\"T_f07f0350_7d69_11ea_8edf_0242ac1c0002level0_row8\" class=\"row_heading level0 row8\" >8</th>\n",
              "                        <td id=\"T_f07f0350_7d69_11ea_8edf_0242ac1c0002row8_col0\" class=\"data row8 col0\" >Sports</td>\n",
              "                        <td id=\"T_f07f0350_7d69_11ea_8edf_0242ac1c0002row8_col1\" class=\"data row8 col1\" >6217</td>\n",
              "            </tr>\n",
              "            <tr>\n",
              "                        <th id=\"T_f07f0350_7d69_11ea_8edf_0242ac1c0002level0_row9\" class=\"row_heading level0 row9\" >14</th>\n",
              "                        <td id=\"T_f07f0350_7d69_11ea_8edf_0242ac1c0002row9_col0\" class=\"data row9 col0\" >Not in English.</td>\n",
              "                        <td id=\"T_f07f0350_7d69_11ea_8edf_0242ac1c0002row9_col1\" class=\"data row9 col1\" >4666</td>\n",
              "            </tr>\n",
              "            <tr>\n",
              "                        <th id=\"T_f07f0350_7d69_11ea_8edf_0242ac1c0002level0_row10\" class=\"row_heading level0 row10\" >6</th>\n",
              "                        <td id=\"T_f07f0350_7d69_11ea_8edf_0242ac1c0002row10_col0\" class=\"data row10 col0\" >Entertainment</td>\n",
              "                        <td id=\"T_f07f0350_7d69_11ea_8edf_0242ac1c0002row10_col1\" class=\"data row10 col1\" >4421</td>\n",
              "            </tr>\n",
              "            <tr>\n",
              "                        <th id=\"T_f07f0350_7d69_11ea_8edf_0242ac1c0002level0_row11\" class=\"row_heading level0 row11\" >22</th>\n",
              "                        <td id=\"T_f07f0350_7d69_11ea_8edf_0242ac1c0002row11_col0\" class=\"data row11 col0\" >Photography</td>\n",
              "                        <td id=\"T_f07f0350_7d69_11ea_8edf_0242ac1c0002row11_col1\" class=\"data row11 col1\" >4331</td>\n",
              "            </tr>\n",
              "            <tr>\n",
              "                        <th id=\"T_f07f0350_7d69_11ea_8edf_0242ac1c0002level0_row12\" class=\"row_heading level0 row12\" >16</th>\n",
              "                        <td id=\"T_f07f0350_7d69_11ea_8edf_0242ac1c0002row12_col0\" class=\"data row12 col0\" >Food</td>\n",
              "                        <td id=\"T_f07f0350_7d69_11ea_8edf_0242ac1c0002row12_col1\" class=\"data row12 col1\" >3395</td>\n",
              "            </tr>\n",
              "            <tr>\n",
              "                        <th id=\"T_f07f0350_7d69_11ea_8edf_0242ac1c0002level0_row13\" class=\"row_heading level0 row13\" >20</th>\n",
              "                        <td id=\"T_f07f0350_7d69_11ea_8edf_0242ac1c0002row13_col0\" class=\"data row13 col0\" >Not about India.</td>\n",
              "                        <td id=\"T_f07f0350_7d69_11ea_8edf_0242ac1c0002row13_col1\" class=\"data row13 col1\" >2615</td>\n",
              "            </tr>\n",
              "            <tr>\n",
              "                        <th id=\"T_f07f0350_7d69_11ea_8edf_0242ac1c0002level0_row14\" class=\"row_heading level0 row14\" >7</th>\n",
              "                        <td id=\"T_f07f0350_7d69_11ea_8edf_0242ac1c0002row14_col0\" class=\"data row14 col0\" >Repost.</td>\n",
              "                        <td id=\"T_f07f0350_7d69_11ea_8edf_0242ac1c0002row14_col1\" class=\"data row14 col1\" >2307</td>\n",
              "            </tr>\n",
              "            <tr>\n",
              "                        <th id=\"T_f07f0350_7d69_11ea_8edf_0242ac1c0002level0_row15\" class=\"row_heading level0 row15\" >10</th>\n",
              "                        <td id=\"T_f07f0350_7d69_11ea_8edf_0242ac1c0002row15_col0\" class=\"data row15 col0\" >Policy</td>\n",
              "                        <td id=\"T_f07f0350_7d69_11ea_8edf_0242ac1c0002row15_col1\" class=\"data row15 col1\" >2306</td>\n",
              "            </tr>\n",
              "            <tr>\n",
              "                        <th id=\"T_f07f0350_7d69_11ea_8edf_0242ac1c0002level0_row16\" class=\"row_heading level0 row16\" >23</th>\n",
              "                        <td id=\"T_f07f0350_7d69_11ea_8edf_0242ac1c0002row16_col0\" class=\"data row16 col0\" >Not Original Title.</td>\n",
              "                        <td id=\"T_f07f0350_7d69_11ea_8edf_0242ac1c0002row16_col1\" class=\"data row16 col1\" >2117</td>\n",
              "            </tr>\n",
              "            <tr>\n",
              "                        <th id=\"T_f07f0350_7d69_11ea_8edf_0242ac1c0002level0_row17\" class=\"row_heading level0 row17\" >17</th>\n",
              "                        <td id=\"T_f07f0350_7d69_11ea_8edf_0242ac1c0002row17_col0\" class=\"data row17 col0\" >Scheduled</td>\n",
              "                        <td id=\"T_f07f0350_7d69_11ea_8edf_0242ac1c0002row17_col1\" class=\"data row17 col1\" >1754</td>\n",
              "            </tr>\n",
              "            <tr>\n",
              "                        <th id=\"T_f07f0350_7d69_11ea_8edf_0242ac1c0002level0_row18\" class=\"row_heading level0 row18\" >13</th>\n",
              "                        <td id=\"T_f07f0350_7d69_11ea_8edf_0242ac1c0002row18_col0\" class=\"data row18 col0\" >All CAPS.</td>\n",
              "                        <td id=\"T_f07f0350_7d69_11ea_8edf_0242ac1c0002row18_col1\" class=\"data row18 col1\" >1699</td>\n",
              "            </tr>\n",
              "            <tr>\n",
              "                        <th id=\"T_f07f0350_7d69_11ea_8edf_0242ac1c0002level0_row19\" class=\"row_heading level0 row19\" >18</th>\n",
              "                        <td id=\"T_f07f0350_7d69_11ea_8edf_0242ac1c0002row19_col0\" class=\"data row19 col0\" >Repost;</td>\n",
              "                        <td id=\"T_f07f0350_7d69_11ea_8edf_0242ac1c0002row19_col1\" class=\"data row19 col1\" >1284</td>\n",
              "            </tr>\n",
              "            <tr>\n",
              "                        <th id=\"T_f07f0350_7d69_11ea_8edf_0242ac1c0002level0_row20\" class=\"row_heading level0 row20\" >19</th>\n",
              "                        <td id=\"T_f07f0350_7d69_11ea_8edf_0242ac1c0002row20_col0\" class=\"data row20 col0\" >Low-effort self-post.</td>\n",
              "                        <td id=\"T_f07f0350_7d69_11ea_8edf_0242ac1c0002row20_col1\" class=\"data row20 col1\" >1231</td>\n",
              "            </tr>\n",
              "            <tr>\n",
              "                        <th id=\"T_f07f0350_7d69_11ea_8edf_0242ac1c0002level0_row21\" class=\"row_heading level0 row21\" >21</th>\n",
              "                        <td id=\"T_f07f0350_7d69_11ea_8edf_0242ac1c0002row21_col0\" class=\"data row21 col0\" >Unverified Content.</td>\n",
              "                        <td id=\"T_f07f0350_7d69_11ea_8edf_0242ac1c0002row21_col1\" class=\"data row21 col1\" >930</td>\n",
              "            </tr>\n",
              "            <tr>\n",
              "                        <th id=\"T_f07f0350_7d69_11ea_8edf_0242ac1c0002level0_row22\" class=\"row_heading level0 row22\" >9</th>\n",
              "                        <td id=\"T_f07f0350_7d69_11ea_8edf_0242ac1c0002row22_col0\" class=\"data row22 col0\" >Stickied Topic.</td>\n",
              "                        <td id=\"T_f07f0350_7d69_11ea_8edf_0242ac1c0002row22_col1\" class=\"data row22 col1\" >799</td>\n",
              "            </tr>\n",
              "            <tr>\n",
              "                        <th id=\"T_f07f0350_7d69_11ea_8edf_0242ac1c0002level0_row23\" class=\"row_heading level0 row23\" >15</th>\n",
              "                        <td id=\"T_f07f0350_7d69_11ea_8edf_0242ac1c0002row23_col0\" class=\"data row23 col0\" >Meta.</td>\n",
              "                        <td id=\"T_f07f0350_7d69_11ea_8edf_0242ac1c0002row23_col1\" class=\"data row23 col1\" >529</td>\n",
              "            </tr>\n",
              "    </tbody></table>"
            ],
            "text/plain": [
              "<pandas.io.formats.style.Styler at 0x7ff0b26fe668>"
            ]
          },
          "metadata": {
            "tags": []
          },
          "execution_count": 47
        }
      ]
    },
    {
      "cell_type": "markdown",
      "metadata": {
        "id": "mjdTqKX6jThx",
        "colab_type": "text"
      },
      "source": [
        "## Balancing out the dataset\n",
        "\n",
        "As can be seen from the above figure, the data is highly unbalanced across the classes, thus data balancing is carried out by resampling and downsampling from this data. The most data-rich classes 'Politics' and 'Non-Politics' have been reduced to a comparable size as the other classes."
      ]
    },
    {
      "cell_type": "code",
      "metadata": {
        "id": "rrZD-wDGe8uD",
        "colab_type": "code",
        "colab": {}
      },
      "source": [
        "politics_df = df.loc[df['link_flair_text'] == 'Politics']\n",
        "non_pol_df = df.loc[df['link_flair_text'] == 'Non-Political']"
      ],
      "execution_count": 0,
      "outputs": []
    },
    {
      "cell_type": "code",
      "metadata": {
        "colab_type": "code",
        "id": "L2aS7gJ1g0b7",
        "colab": {}
      },
      "source": [
        "n_p_df = df.loc[df['link_flair_text'] != 'Politics']\n",
        "n_p_df = n_p_df.loc[n_p_df['link_flair_text'] != 'Non-Political']"
      ],
      "execution_count": 0,
      "outputs": []
    },
    {
      "cell_type": "code",
      "metadata": {
        "id": "MD1wp0Lrg1kf",
        "colab_type": "code",
        "outputId": "74ca82dd-9e60-40f9-d37b-068d374766d2",
        "colab": {
          "base_uri": "https://localhost:8080/",
          "height": 34
        }
      },
      "source": [
        "print(politics_df.shape, non_pol_df.shape, n_p_df.shape)"
      ],
      "execution_count": 0,
      "outputs": [
        {
          "output_type": "stream",
          "text": [
            "(130123, 7) (151061, 7) (165099, 7)\n"
          ],
          "name": "stdout"
        }
      ]
    },
    {
      "cell_type": "code",
      "metadata": {
        "id": "nGdfP65Gf_9l",
        "colab_type": "code",
        "colab": {}
      },
      "source": [
        "from sklearn.utils import resample\n",
        "\n",
        "pol_downs = resample(politics_df,\n",
        "                          replace = False, # sample without replacement\n",
        "                          n_samples = 75000, # match minority n\n",
        "                          random_state = 27)\n",
        "\n",
        "non_pol_downs = resample(non_pol_df,\n",
        "                          replace = False, # sample without replacement\n",
        "                          n_samples = 75000, # match minority n\n",
        "                          random_state = 27)"
      ],
      "execution_count": 0,
      "outputs": []
    },
    {
      "cell_type": "code",
      "metadata": {
        "id": "jRbhywa0hX8j",
        "colab_type": "code",
        "outputId": "091809eb-fc0a-48d9-8cd1-7ba9afdd7253",
        "colab": {
          "base_uri": "https://localhost:8080/",
          "height": 34
        }
      },
      "source": [
        "print(pol_downs.shape, non_pol_downs.shape)"
      ],
      "execution_count": 0,
      "outputs": [
        {
          "output_type": "stream",
          "text": [
            "(75000, 7) (75000, 7)\n"
          ],
          "name": "stdout"
        }
      ]
    },
    {
      "cell_type": "code",
      "metadata": {
        "id": "UQeAsc1ThfnI",
        "colab_type": "code",
        "colab": {}
      },
      "source": [
        "df_bal = pd.concat([pol_downs, non_pol_downs, n_p_df])"
      ],
      "execution_count": 0,
      "outputs": []
    },
    {
      "cell_type": "code",
      "metadata": {
        "id": "udKI8asNhtni",
        "colab_type": "code",
        "outputId": "a95da12f-7204-4075-866d-e249d848c498",
        "colab": {
          "base_uri": "https://localhost:8080/",
          "height": 34
        }
      },
      "source": [
        "df_bal.shape"
      ],
      "execution_count": 0,
      "outputs": [
        {
          "output_type": "execute_result",
          "data": {
            "text/plain": [
              "(315099, 7)"
            ]
          },
          "metadata": {
            "tags": []
          },
          "execution_count": 25
        }
      ]
    },
    {
      "cell_type": "code",
      "metadata": {
        "id": "6MCrhGW-iL0j",
        "colab_type": "code",
        "colab": {}
      },
      "source": [
        "flairs_to_keep = list(set(df['link_flair_text']))"
      ],
      "execution_count": 0,
      "outputs": []
    },
    {
      "cell_type": "code",
      "metadata": {
        "id": "gc4DgcqWh4QB",
        "colab_type": "code",
        "outputId": "aa972bfd-51a9-4804-d39c-6c8a3c50e61d",
        "colab": {
          "base_uri": "https://localhost:8080/",
          "height": 553
        }
      },
      "source": [
        "flairs_count = {\n",
        "    'flair': [],\n",
        "    'count': []\n",
        "}\n",
        "\n",
        "for flair in flairs_to_keep:\n",
        "  count = np.sum(df_bal.loc[:, 'link_flair_text'].values == flair)\n",
        "  flairs_count['flair'].append(flair)\n",
        "  flairs_count['count'].append(count)\n",
        "\n",
        "pd.DataFrame(flairs_count) \\\n",
        "    .round(decimals=2) \\\n",
        "    .sort_values('count', ascending=False) \\\n",
        "    .style.bar(color=['grey', 'red'], align='zero')"
      ],
      "execution_count": 0,
      "outputs": [
        {
          "output_type": "execute_result",
          "data": {
            "text/html": [
              "<style  type=\"text/css\" >\n",
              "    #T_5135f376_82fa_11ea_8c45_0242ac1c0002row0_col1 {\n",
              "            width:  10em;\n",
              "             height:  80%;\n",
              "            background:  linear-gradient(90deg, transparent 50.0%, red 50.0%, red 100.0%, transparent 100.0%);\n",
              "        }    #T_5135f376_82fa_11ea_8c45_0242ac1c0002row1_col1 {\n",
              "            width:  10em;\n",
              "             height:  80%;\n",
              "            background:  linear-gradient(90deg, transparent 50.0%, red 50.0%, red 100.0%, transparent 100.0%);\n",
              "        }    #T_5135f376_82fa_11ea_8c45_0242ac1c0002row2_col1 {\n",
              "            width:  10em;\n",
              "             height:  80%;\n",
              "            background:  linear-gradient(90deg, transparent 50.0%, red 50.0%, red 80.5%, transparent 80.5%);\n",
              "        }    #T_5135f376_82fa_11ea_8c45_0242ac1c0002row3_col1 {\n",
              "            width:  10em;\n",
              "             height:  80%;\n",
              "            background:  linear-gradient(90deg, transparent 50.0%, red 50.0%, red 68.1%, transparent 68.1%);\n",
              "        }    #T_5135f376_82fa_11ea_8c45_0242ac1c0002row4_col1 {\n",
              "            width:  10em;\n",
              "             height:  80%;\n",
              "            background:  linear-gradient(90deg, transparent 50.0%, red 50.0%, red 62.2%, transparent 62.2%);\n",
              "        }    #T_5135f376_82fa_11ea_8c45_0242ac1c0002row5_col1 {\n",
              "            width:  10em;\n",
              "             height:  80%;\n",
              "            background:  linear-gradient(90deg, transparent 50.0%, red 50.0%, red 60.5%, transparent 60.5%);\n",
              "        }    #T_5135f376_82fa_11ea_8c45_0242ac1c0002row6_col1 {\n",
              "            width:  10em;\n",
              "             height:  80%;\n",
              "            background:  linear-gradient(90deg, transparent 50.0%, red 50.0%, red 56.9%, transparent 56.9%);\n",
              "        }    #T_5135f376_82fa_11ea_8c45_0242ac1c0002row7_col1 {\n",
              "            width:  10em;\n",
              "             height:  80%;\n",
              "            background:  linear-gradient(90deg, transparent 50.0%, red 50.0%, red 54.7%, transparent 54.7%);\n",
              "        }    #T_5135f376_82fa_11ea_8c45_0242ac1c0002row8_col1 {\n",
              "            width:  10em;\n",
              "             height:  80%;\n",
              "            background:  linear-gradient(90deg, transparent 50.0%, red 50.0%, red 54.1%, transparent 54.1%);\n",
              "        }    #T_5135f376_82fa_11ea_8c45_0242ac1c0002row9_col1 {\n",
              "            width:  10em;\n",
              "             height:  80%;\n",
              "            background:  linear-gradient(90deg, transparent 50.0%, red 50.0%, red 53.1%, transparent 53.1%);\n",
              "        }    #T_5135f376_82fa_11ea_8c45_0242ac1c0002row10_col1 {\n",
              "            width:  10em;\n",
              "             height:  80%;\n",
              "            background:  linear-gradient(90deg, transparent 50.0%, red 50.0%, red 52.9%, transparent 52.9%);\n",
              "        }    #T_5135f376_82fa_11ea_8c45_0242ac1c0002row11_col1 {\n",
              "            width:  10em;\n",
              "             height:  80%;\n",
              "            background:  linear-gradient(90deg, transparent 50.0%, red 50.0%, red 52.9%, transparent 52.9%);\n",
              "        }    #T_5135f376_82fa_11ea_8c45_0242ac1c0002row12_col1 {\n",
              "            width:  10em;\n",
              "             height:  80%;\n",
              "            background:  linear-gradient(90deg, transparent 50.0%, red 50.0%, red 52.3%, transparent 52.3%);\n",
              "        }    #T_5135f376_82fa_11ea_8c45_0242ac1c0002row13_col1 {\n",
              "            width:  10em;\n",
              "             height:  80%;\n",
              "            background:  linear-gradient(90deg, transparent 50.0%, red 50.0%, red 51.7%, transparent 51.7%);\n",
              "        }    #T_5135f376_82fa_11ea_8c45_0242ac1c0002row14_col1 {\n",
              "            width:  10em;\n",
              "             height:  80%;\n",
              "            background:  linear-gradient(90deg, transparent 50.0%, red 50.0%, red 51.5%, transparent 51.5%);\n",
              "        }    #T_5135f376_82fa_11ea_8c45_0242ac1c0002row15_col1 {\n",
              "            width:  10em;\n",
              "             height:  80%;\n",
              "            background:  linear-gradient(90deg, transparent 50.0%, red 50.0%, red 51.5%, transparent 51.5%);\n",
              "        }    #T_5135f376_82fa_11ea_8c45_0242ac1c0002row16_col1 {\n",
              "            width:  10em;\n",
              "             height:  80%;\n",
              "            background:  linear-gradient(90deg, transparent 50.0%, red 50.0%, red 51.4%, transparent 51.4%);\n",
              "        }    #T_5135f376_82fa_11ea_8c45_0242ac1c0002row17_col1 {\n",
              "            width:  10em;\n",
              "             height:  80%;\n",
              "            background:  linear-gradient(90deg, transparent 50.0%, red 50.0%, red 51.2%, transparent 51.2%);\n",
              "        }    #T_5135f376_82fa_11ea_8c45_0242ac1c0002row18_col1 {\n",
              "            width:  10em;\n",
              "             height:  80%;\n",
              "            background:  linear-gradient(90deg, transparent 50.0%, red 50.0%, red 51.1%, transparent 51.1%);\n",
              "        }    #T_5135f376_82fa_11ea_8c45_0242ac1c0002row19_col1 {\n",
              "            width:  10em;\n",
              "             height:  80%;\n",
              "            background:  linear-gradient(90deg, transparent 50.0%, red 50.0%, red 50.9%, transparent 50.9%);\n",
              "        }    #T_5135f376_82fa_11ea_8c45_0242ac1c0002row20_col1 {\n",
              "            width:  10em;\n",
              "             height:  80%;\n",
              "            background:  linear-gradient(90deg, transparent 50.0%, red 50.0%, red 50.8%, transparent 50.8%);\n",
              "        }    #T_5135f376_82fa_11ea_8c45_0242ac1c0002row21_col1 {\n",
              "            width:  10em;\n",
              "             height:  80%;\n",
              "            background:  linear-gradient(90deg, transparent 50.0%, red 50.0%, red 50.6%, transparent 50.6%);\n",
              "        }    #T_5135f376_82fa_11ea_8c45_0242ac1c0002row22_col1 {\n",
              "            width:  10em;\n",
              "             height:  80%;\n",
              "            background:  linear-gradient(90deg, transparent 50.0%, red 50.0%, red 50.5%, transparent 50.5%);\n",
              "        }    #T_5135f376_82fa_11ea_8c45_0242ac1c0002row23_col1 {\n",
              "            width:  10em;\n",
              "             height:  80%;\n",
              "            background:  linear-gradient(90deg, transparent 50.0%, red 50.0%, red 50.4%, transparent 50.4%);\n",
              "        }</style><table id=\"T_5135f376_82fa_11ea_8c45_0242ac1c0002\" ><thead>    <tr>        <th class=\"blank level0\" ></th>        <th class=\"col_heading level0 col0\" >flair</th>        <th class=\"col_heading level0 col1\" >count</th>    </tr></thead><tbody>\n",
              "                <tr>\n",
              "                        <th id=\"T_5135f376_82fa_11ea_8c45_0242ac1c0002level0_row0\" class=\"row_heading level0 row0\" >2</th>\n",
              "                        <td id=\"T_5135f376_82fa_11ea_8c45_0242ac1c0002row0_col0\" class=\"data row0 col0\" >Politics</td>\n",
              "                        <td id=\"T_5135f376_82fa_11ea_8c45_0242ac1c0002row0_col1\" class=\"data row0 col1\" >75000</td>\n",
              "            </tr>\n",
              "            <tr>\n",
              "                        <th id=\"T_5135f376_82fa_11ea_8c45_0242ac1c0002level0_row1\" class=\"row_heading level0 row1\" >19</th>\n",
              "                        <td id=\"T_5135f376_82fa_11ea_8c45_0242ac1c0002row1_col0\" class=\"data row1 col0\" >Non-Political</td>\n",
              "                        <td id=\"T_5135f376_82fa_11ea_8c45_0242ac1c0002row1_col1\" class=\"data row1 col1\" >75000</td>\n",
              "            </tr>\n",
              "            <tr>\n",
              "                        <th id=\"T_5135f376_82fa_11ea_8c45_0242ac1c0002level0_row2\" class=\"row_heading level0 row2\" >11</th>\n",
              "                        <td id=\"T_5135f376_82fa_11ea_8c45_0242ac1c0002row2_col0\" class=\"data row2 col0\" >AskIndia</td>\n",
              "                        <td id=\"T_5135f376_82fa_11ea_8c45_0242ac1c0002row2_col1\" class=\"data row2 col1\" >45811</td>\n",
              "            </tr>\n",
              "            <tr>\n",
              "                        <th id=\"T_5135f376_82fa_11ea_8c45_0242ac1c0002level0_row3\" class=\"row_heading level0 row3\" >16</th>\n",
              "                        <td id=\"T_5135f376_82fa_11ea_8c45_0242ac1c0002row3_col0\" class=\"data row3 col0\" >Policy/Economy</td>\n",
              "                        <td id=\"T_5135f376_82fa_11ea_8c45_0242ac1c0002row3_col1\" class=\"data row3 col1\" >27111</td>\n",
              "            </tr>\n",
              "            <tr>\n",
              "                        <th id=\"T_5135f376_82fa_11ea_8c45_0242ac1c0002level0_row4\" class=\"row_heading level0 row4\" >12</th>\n",
              "                        <td id=\"T_5135f376_82fa_11ea_8c45_0242ac1c0002row4_col0\" class=\"data row4 col0\" >Business/Finance</td>\n",
              "                        <td id=\"T_5135f376_82fa_11ea_8c45_0242ac1c0002row4_col1\" class=\"data row4 col1\" >18328</td>\n",
              "            </tr>\n",
              "            <tr>\n",
              "                        <th id=\"T_5135f376_82fa_11ea_8c45_0242ac1c0002level0_row5\" class=\"row_heading level0 row5\" >20</th>\n",
              "                        <td id=\"T_5135f376_82fa_11ea_8c45_0242ac1c0002row5_col0\" class=\"data row5 col0\" >Science/Technology</td>\n",
              "                        <td id=\"T_5135f376_82fa_11ea_8c45_0242ac1c0002row5_col1\" class=\"data row5 col1\" >15820</td>\n",
              "            </tr>\n",
              "            <tr>\n",
              "                        <th id=\"T_5135f376_82fa_11ea_8c45_0242ac1c0002level0_row6\" class=\"row_heading level0 row6\" >3</th>\n",
              "                        <td id=\"T_5135f376_82fa_11ea_8c45_0242ac1c0002row6_col0\" class=\"data row6 col0\" >[R]eddiquette</td>\n",
              "                        <td id=\"T_5135f376_82fa_11ea_8c45_0242ac1c0002row6_col1\" class=\"data row6 col1\" >10424</td>\n",
              "            </tr>\n",
              "            <tr>\n",
              "                        <th id=\"T_5135f376_82fa_11ea_8c45_0242ac1c0002level0_row7\" class=\"row_heading level0 row7\" >21</th>\n",
              "                        <td id=\"T_5135f376_82fa_11ea_8c45_0242ac1c0002row7_col0\" class=\"data row7 col0\" >Coronavirus</td>\n",
              "                        <td id=\"T_5135f376_82fa_11ea_8c45_0242ac1c0002row7_col1\" class=\"data row7 col1\" >7004</td>\n",
              "            </tr>\n",
              "            <tr>\n",
              "                        <th id=\"T_5135f376_82fa_11ea_8c45_0242ac1c0002level0_row8\" class=\"row_heading level0 row8\" >10</th>\n",
              "                        <td id=\"T_5135f376_82fa_11ea_8c45_0242ac1c0002row8_col0\" class=\"data row8 col0\" >Sports</td>\n",
              "                        <td id=\"T_5135f376_82fa_11ea_8c45_0242ac1c0002row8_col1\" class=\"data row8 col1\" >6217</td>\n",
              "            </tr>\n",
              "            <tr>\n",
              "                        <th id=\"T_5135f376_82fa_11ea_8c45_0242ac1c0002level0_row9\" class=\"row_heading level0 row9\" >18</th>\n",
              "                        <td id=\"T_5135f376_82fa_11ea_8c45_0242ac1c0002row9_col0\" class=\"data row9 col0\" >Not in English.</td>\n",
              "                        <td id=\"T_5135f376_82fa_11ea_8c45_0242ac1c0002row9_col1\" class=\"data row9 col1\" >4666</td>\n",
              "            </tr>\n",
              "            <tr>\n",
              "                        <th id=\"T_5135f376_82fa_11ea_8c45_0242ac1c0002level0_row10\" class=\"row_heading level0 row10\" >9</th>\n",
              "                        <td id=\"T_5135f376_82fa_11ea_8c45_0242ac1c0002row10_col0\" class=\"data row10 col0\" >Entertainment</td>\n",
              "                        <td id=\"T_5135f376_82fa_11ea_8c45_0242ac1c0002row10_col1\" class=\"data row10 col1\" >4421</td>\n",
              "            </tr>\n",
              "            <tr>\n",
              "                        <th id=\"T_5135f376_82fa_11ea_8c45_0242ac1c0002level0_row11\" class=\"row_heading level0 row11\" >15</th>\n",
              "                        <td id=\"T_5135f376_82fa_11ea_8c45_0242ac1c0002row11_col0\" class=\"data row11 col0\" >Photography</td>\n",
              "                        <td id=\"T_5135f376_82fa_11ea_8c45_0242ac1c0002row11_col1\" class=\"data row11 col1\" >4331</td>\n",
              "            </tr>\n",
              "            <tr>\n",
              "                        <th id=\"T_5135f376_82fa_11ea_8c45_0242ac1c0002level0_row12\" class=\"row_heading level0 row12\" >6</th>\n",
              "                        <td id=\"T_5135f376_82fa_11ea_8c45_0242ac1c0002row12_col0\" class=\"data row12 col0\" >Food</td>\n",
              "                        <td id=\"T_5135f376_82fa_11ea_8c45_0242ac1c0002row12_col1\" class=\"data row12 col1\" >3395</td>\n",
              "            </tr>\n",
              "            <tr>\n",
              "                        <th id=\"T_5135f376_82fa_11ea_8c45_0242ac1c0002level0_row13\" class=\"row_heading level0 row13\" >23</th>\n",
              "                        <td id=\"T_5135f376_82fa_11ea_8c45_0242ac1c0002row13_col0\" class=\"data row13 col0\" >Not about India.</td>\n",
              "                        <td id=\"T_5135f376_82fa_11ea_8c45_0242ac1c0002row13_col1\" class=\"data row13 col1\" >2615</td>\n",
              "            </tr>\n",
              "            <tr>\n",
              "                        <th id=\"T_5135f376_82fa_11ea_8c45_0242ac1c0002level0_row14\" class=\"row_heading level0 row14\" >17</th>\n",
              "                        <td id=\"T_5135f376_82fa_11ea_8c45_0242ac1c0002row14_col0\" class=\"data row14 col0\" >Repost.</td>\n",
              "                        <td id=\"T_5135f376_82fa_11ea_8c45_0242ac1c0002row14_col1\" class=\"data row14 col1\" >2307</td>\n",
              "            </tr>\n",
              "            <tr>\n",
              "                        <th id=\"T_5135f376_82fa_11ea_8c45_0242ac1c0002level0_row15\" class=\"row_heading level0 row15\" >14</th>\n",
              "                        <td id=\"T_5135f376_82fa_11ea_8c45_0242ac1c0002row15_col0\" class=\"data row15 col0\" >Policy</td>\n",
              "                        <td id=\"T_5135f376_82fa_11ea_8c45_0242ac1c0002row15_col1\" class=\"data row15 col1\" >2306</td>\n",
              "            </tr>\n",
              "            <tr>\n",
              "                        <th id=\"T_5135f376_82fa_11ea_8c45_0242ac1c0002level0_row16\" class=\"row_heading level0 row16\" >22</th>\n",
              "                        <td id=\"T_5135f376_82fa_11ea_8c45_0242ac1c0002row16_col0\" class=\"data row16 col0\" >Not Original Title.</td>\n",
              "                        <td id=\"T_5135f376_82fa_11ea_8c45_0242ac1c0002row16_col1\" class=\"data row16 col1\" >2117</td>\n",
              "            </tr>\n",
              "            <tr>\n",
              "                        <th id=\"T_5135f376_82fa_11ea_8c45_0242ac1c0002level0_row17\" class=\"row_heading level0 row17\" >1</th>\n",
              "                        <td id=\"T_5135f376_82fa_11ea_8c45_0242ac1c0002row17_col0\" class=\"data row17 col0\" >Scheduled</td>\n",
              "                        <td id=\"T_5135f376_82fa_11ea_8c45_0242ac1c0002row17_col1\" class=\"data row17 col1\" >1754</td>\n",
              "            </tr>\n",
              "            <tr>\n",
              "                        <th id=\"T_5135f376_82fa_11ea_8c45_0242ac1c0002level0_row18\" class=\"row_heading level0 row18\" >13</th>\n",
              "                        <td id=\"T_5135f376_82fa_11ea_8c45_0242ac1c0002row18_col0\" class=\"data row18 col0\" >All CAPS.</td>\n",
              "                        <td id=\"T_5135f376_82fa_11ea_8c45_0242ac1c0002row18_col1\" class=\"data row18 col1\" >1699</td>\n",
              "            </tr>\n",
              "            <tr>\n",
              "                        <th id=\"T_5135f376_82fa_11ea_8c45_0242ac1c0002level0_row19\" class=\"row_heading level0 row19\" >4</th>\n",
              "                        <td id=\"T_5135f376_82fa_11ea_8c45_0242ac1c0002row19_col0\" class=\"data row19 col0\" >Repost;</td>\n",
              "                        <td id=\"T_5135f376_82fa_11ea_8c45_0242ac1c0002row19_col1\" class=\"data row19 col1\" >1284</td>\n",
              "            </tr>\n",
              "            <tr>\n",
              "                        <th id=\"T_5135f376_82fa_11ea_8c45_0242ac1c0002level0_row20\" class=\"row_heading level0 row20\" >7</th>\n",
              "                        <td id=\"T_5135f376_82fa_11ea_8c45_0242ac1c0002row20_col0\" class=\"data row20 col0\" >Low-effort self-post.</td>\n",
              "                        <td id=\"T_5135f376_82fa_11ea_8c45_0242ac1c0002row20_col1\" class=\"data row20 col1\" >1231</td>\n",
              "            </tr>\n",
              "            <tr>\n",
              "                        <th id=\"T_5135f376_82fa_11ea_8c45_0242ac1c0002level0_row21\" class=\"row_heading level0 row21\" >5</th>\n",
              "                        <td id=\"T_5135f376_82fa_11ea_8c45_0242ac1c0002row21_col0\" class=\"data row21 col0\" >Unverified Content.</td>\n",
              "                        <td id=\"T_5135f376_82fa_11ea_8c45_0242ac1c0002row21_col1\" class=\"data row21 col1\" >930</td>\n",
              "            </tr>\n",
              "            <tr>\n",
              "                        <th id=\"T_5135f376_82fa_11ea_8c45_0242ac1c0002level0_row22\" class=\"row_heading level0 row22\" >0</th>\n",
              "                        <td id=\"T_5135f376_82fa_11ea_8c45_0242ac1c0002row22_col0\" class=\"data row22 col0\" >Stickied Topic.</td>\n",
              "                        <td id=\"T_5135f376_82fa_11ea_8c45_0242ac1c0002row22_col1\" class=\"data row22 col1\" >799</td>\n",
              "            </tr>\n",
              "            <tr>\n",
              "                        <th id=\"T_5135f376_82fa_11ea_8c45_0242ac1c0002level0_row23\" class=\"row_heading level0 row23\" >8</th>\n",
              "                        <td id=\"T_5135f376_82fa_11ea_8c45_0242ac1c0002row23_col0\" class=\"data row23 col0\" >Meta.</td>\n",
              "                        <td id=\"T_5135f376_82fa_11ea_8c45_0242ac1c0002row23_col1\" class=\"data row23 col1\" >529</td>\n",
              "            </tr>\n",
              "    </tbody></table>"
            ],
            "text/plain": [
              "<pandas.io.formats.style.Styler at 0x7f4bcdc9b940>"
            ]
          },
          "metadata": {
            "tags": []
          },
          "execution_count": 7
        }
      ]
    },
    {
      "cell_type": "code",
      "metadata": {
        "id": "RtakylgUX8Pg",
        "colab_type": "code",
        "colab": {}
      },
      "source": [
        "df_to_keep = []\n",
        "for flair in flairs_to_keep:\n",
        "  df_ = df_bal.loc[df['link_flair_text'] == flair]\n",
        "  if(df_.shape[0] > 4000):\n",
        "    df_to_keep.append(df_)"
      ],
      "execution_count": 0,
      "outputs": []
    },
    {
      "cell_type": "code",
      "metadata": {
        "id": "DTGarI0TY0eU",
        "colab_type": "code",
        "colab": {}
      },
      "source": [
        "df_bal_2 = pd.concat(df_to_keep)"
      ],
      "execution_count": 0,
      "outputs": []
    },
    {
      "cell_type": "code",
      "metadata": {
        "id": "F03ZZJG-ZAOc",
        "colab_type": "code",
        "outputId": "1cd06ffa-e6be-4abc-e95e-428cc9a1183c",
        "colab": {
          "base_uri": "https://localhost:8080/",
          "height": 297
        }
      },
      "source": [
        "flairs_count = {\n",
        "    'flair': [],\n",
        "    'count': []\n",
        "}\n",
        "\n",
        "for flair in list(set(df_bal_2['link_flair_text'])):\n",
        "  count = np.sum(df_bal_2.loc[:, 'link_flair_text'].values == flair)\n",
        "  flairs_count['flair'].append(flair)\n",
        "  flairs_count['count'].append(count)\n",
        "\n",
        "pd.DataFrame(flairs_count) \\\n",
        "    .round(decimals=2) \\\n",
        "    .sort_values('count', ascending=False) \\\n",
        "    .style.bar(color=['grey', 'red'], align='zero')"
      ],
      "execution_count": 0,
      "outputs": [
        {
          "output_type": "execute_result",
          "data": {
            "text/html": [
              "<style  type=\"text/css\" >\n",
              "    #T_15a9784e_82fc_11ea_8c45_0242ac1c0002row0_col1 {\n",
              "            width:  10em;\n",
              "             height:  80%;\n",
              "            background:  linear-gradient(90deg, transparent 50.0%, red 50.0%, red 100.0%, transparent 100.0%);\n",
              "        }    #T_15a9784e_82fc_11ea_8c45_0242ac1c0002row1_col1 {\n",
              "            width:  10em;\n",
              "             height:  80%;\n",
              "            background:  linear-gradient(90deg, transparent 50.0%, red 50.0%, red 100.0%, transparent 100.0%);\n",
              "        }    #T_15a9784e_82fc_11ea_8c45_0242ac1c0002row2_col1 {\n",
              "            width:  10em;\n",
              "             height:  80%;\n",
              "            background:  linear-gradient(90deg, transparent 50.0%, red 50.0%, red 80.5%, transparent 80.5%);\n",
              "        }    #T_15a9784e_82fc_11ea_8c45_0242ac1c0002row3_col1 {\n",
              "            width:  10em;\n",
              "             height:  80%;\n",
              "            background:  linear-gradient(90deg, transparent 50.0%, red 50.0%, red 68.1%, transparent 68.1%);\n",
              "        }    #T_15a9784e_82fc_11ea_8c45_0242ac1c0002row4_col1 {\n",
              "            width:  10em;\n",
              "             height:  80%;\n",
              "            background:  linear-gradient(90deg, transparent 50.0%, red 50.0%, red 62.2%, transparent 62.2%);\n",
              "        }    #T_15a9784e_82fc_11ea_8c45_0242ac1c0002row5_col1 {\n",
              "            width:  10em;\n",
              "             height:  80%;\n",
              "            background:  linear-gradient(90deg, transparent 50.0%, red 50.0%, red 60.5%, transparent 60.5%);\n",
              "        }    #T_15a9784e_82fc_11ea_8c45_0242ac1c0002row6_col1 {\n",
              "            width:  10em;\n",
              "             height:  80%;\n",
              "            background:  linear-gradient(90deg, transparent 50.0%, red 50.0%, red 56.9%, transparent 56.9%);\n",
              "        }    #T_15a9784e_82fc_11ea_8c45_0242ac1c0002row7_col1 {\n",
              "            width:  10em;\n",
              "             height:  80%;\n",
              "            background:  linear-gradient(90deg, transparent 50.0%, red 50.0%, red 54.7%, transparent 54.7%);\n",
              "        }    #T_15a9784e_82fc_11ea_8c45_0242ac1c0002row8_col1 {\n",
              "            width:  10em;\n",
              "             height:  80%;\n",
              "            background:  linear-gradient(90deg, transparent 50.0%, red 50.0%, red 54.1%, transparent 54.1%);\n",
              "        }    #T_15a9784e_82fc_11ea_8c45_0242ac1c0002row9_col1 {\n",
              "            width:  10em;\n",
              "             height:  80%;\n",
              "            background:  linear-gradient(90deg, transparent 50.0%, red 50.0%, red 53.1%, transparent 53.1%);\n",
              "        }    #T_15a9784e_82fc_11ea_8c45_0242ac1c0002row10_col1 {\n",
              "            width:  10em;\n",
              "             height:  80%;\n",
              "            background:  linear-gradient(90deg, transparent 50.0%, red 50.0%, red 52.9%, transparent 52.9%);\n",
              "        }    #T_15a9784e_82fc_11ea_8c45_0242ac1c0002row11_col1 {\n",
              "            width:  10em;\n",
              "             height:  80%;\n",
              "            background:  linear-gradient(90deg, transparent 50.0%, red 50.0%, red 52.9%, transparent 52.9%);\n",
              "        }</style><table id=\"T_15a9784e_82fc_11ea_8c45_0242ac1c0002\" ><thead>    <tr>        <th class=\"blank level0\" ></th>        <th class=\"col_heading level0 col0\" >flair</th>        <th class=\"col_heading level0 col1\" >count</th>    </tr></thead><tbody>\n",
              "                <tr>\n",
              "                        <th id=\"T_15a9784e_82fc_11ea_8c45_0242ac1c0002level0_row0\" class=\"row_heading level0 row0\" >4</th>\n",
              "                        <td id=\"T_15a9784e_82fc_11ea_8c45_0242ac1c0002row0_col0\" class=\"data row0 col0\" >Politics</td>\n",
              "                        <td id=\"T_15a9784e_82fc_11ea_8c45_0242ac1c0002row0_col1\" class=\"data row0 col1\" >75000</td>\n",
              "            </tr>\n",
              "            <tr>\n",
              "                        <th id=\"T_15a9784e_82fc_11ea_8c45_0242ac1c0002level0_row1\" class=\"row_heading level0 row1\" >5</th>\n",
              "                        <td id=\"T_15a9784e_82fc_11ea_8c45_0242ac1c0002row1_col0\" class=\"data row1 col0\" >Non-Political</td>\n",
              "                        <td id=\"T_15a9784e_82fc_11ea_8c45_0242ac1c0002row1_col1\" class=\"data row1 col1\" >75000</td>\n",
              "            </tr>\n",
              "            <tr>\n",
              "                        <th id=\"T_15a9784e_82fc_11ea_8c45_0242ac1c0002level0_row2\" class=\"row_heading level0 row2\" >7</th>\n",
              "                        <td id=\"T_15a9784e_82fc_11ea_8c45_0242ac1c0002row2_col0\" class=\"data row2 col0\" >AskIndia</td>\n",
              "                        <td id=\"T_15a9784e_82fc_11ea_8c45_0242ac1c0002row2_col1\" class=\"data row2 col1\" >45811</td>\n",
              "            </tr>\n",
              "            <tr>\n",
              "                        <th id=\"T_15a9784e_82fc_11ea_8c45_0242ac1c0002level0_row3\" class=\"row_heading level0 row3\" >1</th>\n",
              "                        <td id=\"T_15a9784e_82fc_11ea_8c45_0242ac1c0002row3_col0\" class=\"data row3 col0\" >Policy/Economy</td>\n",
              "                        <td id=\"T_15a9784e_82fc_11ea_8c45_0242ac1c0002row3_col1\" class=\"data row3 col1\" >27111</td>\n",
              "            </tr>\n",
              "            <tr>\n",
              "                        <th id=\"T_15a9784e_82fc_11ea_8c45_0242ac1c0002level0_row4\" class=\"row_heading level0 row4\" >8</th>\n",
              "                        <td id=\"T_15a9784e_82fc_11ea_8c45_0242ac1c0002row4_col0\" class=\"data row4 col0\" >Business/Finance</td>\n",
              "                        <td id=\"T_15a9784e_82fc_11ea_8c45_0242ac1c0002row4_col1\" class=\"data row4 col1\" >18328</td>\n",
              "            </tr>\n",
              "            <tr>\n",
              "                        <th id=\"T_15a9784e_82fc_11ea_8c45_0242ac1c0002level0_row5\" class=\"row_heading level0 row5\" >9</th>\n",
              "                        <td id=\"T_15a9784e_82fc_11ea_8c45_0242ac1c0002row5_col0\" class=\"data row5 col0\" >Science/Technology</td>\n",
              "                        <td id=\"T_15a9784e_82fc_11ea_8c45_0242ac1c0002row5_col1\" class=\"data row5 col1\" >15820</td>\n",
              "            </tr>\n",
              "            <tr>\n",
              "                        <th id=\"T_15a9784e_82fc_11ea_8c45_0242ac1c0002level0_row6\" class=\"row_heading level0 row6\" >11</th>\n",
              "                        <td id=\"T_15a9784e_82fc_11ea_8c45_0242ac1c0002row6_col0\" class=\"data row6 col0\" >[R]eddiquette</td>\n",
              "                        <td id=\"T_15a9784e_82fc_11ea_8c45_0242ac1c0002row6_col1\" class=\"data row6 col1\" >10424</td>\n",
              "            </tr>\n",
              "            <tr>\n",
              "                        <th id=\"T_15a9784e_82fc_11ea_8c45_0242ac1c0002level0_row7\" class=\"row_heading level0 row7\" >10</th>\n",
              "                        <td id=\"T_15a9784e_82fc_11ea_8c45_0242ac1c0002row7_col0\" class=\"data row7 col0\" >Coronavirus</td>\n",
              "                        <td id=\"T_15a9784e_82fc_11ea_8c45_0242ac1c0002row7_col1\" class=\"data row7 col1\" >7004</td>\n",
              "            </tr>\n",
              "            <tr>\n",
              "                        <th id=\"T_15a9784e_82fc_11ea_8c45_0242ac1c0002level0_row8\" class=\"row_heading level0 row8\" >6</th>\n",
              "                        <td id=\"T_15a9784e_82fc_11ea_8c45_0242ac1c0002row8_col0\" class=\"data row8 col0\" >Sports</td>\n",
              "                        <td id=\"T_15a9784e_82fc_11ea_8c45_0242ac1c0002row8_col1\" class=\"data row8 col1\" >6217</td>\n",
              "            </tr>\n",
              "            <tr>\n",
              "                        <th id=\"T_15a9784e_82fc_11ea_8c45_0242ac1c0002level0_row9\" class=\"row_heading level0 row9\" >2</th>\n",
              "                        <td id=\"T_15a9784e_82fc_11ea_8c45_0242ac1c0002row9_col0\" class=\"data row9 col0\" >Not in English.</td>\n",
              "                        <td id=\"T_15a9784e_82fc_11ea_8c45_0242ac1c0002row9_col1\" class=\"data row9 col1\" >4666</td>\n",
              "            </tr>\n",
              "            <tr>\n",
              "                        <th id=\"T_15a9784e_82fc_11ea_8c45_0242ac1c0002level0_row10\" class=\"row_heading level0 row10\" >3</th>\n",
              "                        <td id=\"T_15a9784e_82fc_11ea_8c45_0242ac1c0002row10_col0\" class=\"data row10 col0\" >Entertainment</td>\n",
              "                        <td id=\"T_15a9784e_82fc_11ea_8c45_0242ac1c0002row10_col1\" class=\"data row10 col1\" >4421</td>\n",
              "            </tr>\n",
              "            <tr>\n",
              "                        <th id=\"T_15a9784e_82fc_11ea_8c45_0242ac1c0002level0_row11\" class=\"row_heading level0 row11\" >0</th>\n",
              "                        <td id=\"T_15a9784e_82fc_11ea_8c45_0242ac1c0002row11_col0\" class=\"data row11 col0\" >Photography</td>\n",
              "                        <td id=\"T_15a9784e_82fc_11ea_8c45_0242ac1c0002row11_col1\" class=\"data row11 col1\" >4331</td>\n",
              "            </tr>\n",
              "    </tbody></table>"
            ],
            "text/plain": [
              "<pandas.io.formats.style.Styler at 0x7f4bcb95e710>"
            ]
          },
          "metadata": {
            "tags": []
          },
          "execution_count": 20
        }
      ]
    },
    {
      "cell_type": "code",
      "metadata": {
        "id": "aCz2kVQ6jeHI",
        "colab_type": "code",
        "outputId": "2d6ae7ad-9d87-4cb7-b937-83912118ffd6",
        "colab": {
          "base_uri": "https://localhost:8080/",
          "height": 1000
        }
      },
      "source": [
        "df_bal_2 = df_bal_2.sample(frac=1).reset_index(drop=True)\n",
        "df_bal_2.head(20)"
      ],
      "execution_count": 0,
      "outputs": [
        {
          "output_type": "execute_result",
          "data": {
            "text/html": [
              "<div>\n",
              "<style scoped>\n",
              "    .dataframe tbody tr th:only-of-type {\n",
              "        vertical-align: middle;\n",
              "    }\n",
              "\n",
              "    .dataframe tbody tr th {\n",
              "        vertical-align: top;\n",
              "    }\n",
              "\n",
              "    .dataframe thead th {\n",
              "        text-align: right;\n",
              "    }\n",
              "</style>\n",
              "<table border=\"1\" class=\"dataframe\">\n",
              "  <thead>\n",
              "    <tr style=\"text-align: right;\">\n",
              "      <th></th>\n",
              "      <th>created_utc</th>\n",
              "      <th>id</th>\n",
              "      <th>link_flair_text</th>\n",
              "      <th>num_comments</th>\n",
              "      <th>selftext</th>\n",
              "      <th>title</th>\n",
              "      <th>url</th>\n",
              "    </tr>\n",
              "  </thead>\n",
              "  <tbody>\n",
              "    <tr>\n",
              "      <th>0</th>\n",
              "      <td>1.518180e+09</td>\n",
              "      <td>7wd78f</td>\n",
              "      <td>Politics</td>\n",
              "      <td>0</td>\n",
              "      <td>None</td>\n",
              "      <td>Nehru Thug Life</td>\n",
              "      <td>i redd it 6tiqhn3co6f01 png</td>\n",
              "    </tr>\n",
              "    <tr>\n",
              "      <th>1</th>\n",
              "      <td>1.552281e+09</td>\n",
              "      <td>azpdkm</td>\n",
              "      <td>Science/Technology</td>\n",
              "      <td>0</td>\n",
              "      <td>None</td>\n",
              "      <td>Ten questions that cannot be answered by science</td>\n",
              "      <td>www eternalhindutva com 2019 03 Ten-questions-...</td>\n",
              "    </tr>\n",
              "    <tr>\n",
              "      <th>2</th>\n",
              "      <td>1.545422e+09</td>\n",
              "      <td>a8dqbe</td>\n",
              "      <td>AskIndia</td>\n",
              "      <td>0</td>\n",
              "      <td>None</td>\n",
              "      <td>Waah modiji waah</td>\n",
              "      <td>www youtube com channel UCfM1o8q1hiCgkBpjmLCmJ9g</td>\n",
              "    </tr>\n",
              "    <tr>\n",
              "      <th>3</th>\n",
              "      <td>1.417681e+09</td>\n",
              "      <td>2o8spg</td>\n",
              "      <td>Non-Political</td>\n",
              "      <td>2</td>\n",
              "      <td>None</td>\n",
              "      <td>Sailing to Agra on Yamuna to be reality soon: ...</td>\n",
              "      <td>zeenews india com news india sailing-to-agra-o...</td>\n",
              "    </tr>\n",
              "    <tr>\n",
              "      <th>4</th>\n",
              "      <td>1.424275e+09</td>\n",
              "      <td>2wbliw</td>\n",
              "      <td>[R]eddiquette</td>\n",
              "      <td>1</td>\n",
              "      <td>How serious the outburst is ? What are initial...</td>\n",
              "      <td>Advice and preventive measures for swine flu</td>\n",
              "      <td>www reddit com r india comments 2wbliw advice_...</td>\n",
              "    </tr>\n",
              "    <tr>\n",
              "      <th>5</th>\n",
              "      <td>1.545826e+09</td>\n",
              "      <td>a9o0n5</td>\n",
              "      <td>Business/Finance</td>\n",
              "      <td>0</td>\n",
              "      <td>None</td>\n",
              "      <td>Slag Crusher Plant Manufacturer Exporters in I...</td>\n",
              "      <td>slagcrusher co in india slag-crusher-plant-man...</td>\n",
              "    </tr>\n",
              "    <tr>\n",
              "      <th>6</th>\n",
              "      <td>1.551449e+09</td>\n",
              "      <td>aw55oe</td>\n",
              "      <td>[R]eddiquette</td>\n",
              "      <td>45</td>\n",
              "      <td>None</td>\n",
              "      <td>Four security personnel, including an officer,...</td>\n",
              "      <td>www ndtv com india-news kupwara-4-security-per...</td>\n",
              "    </tr>\n",
              "    <tr>\n",
              "      <th>7</th>\n",
              "      <td>1.584577e+09</td>\n",
              "      <td>fl0c32</td>\n",
              "      <td>AskIndia</td>\n",
              "      <td>6</td>\n",
              "      <td>Hi. I’m looking for best cat wet food you get ...</td>\n",
              "      <td>Which is the best cat wet food available in in...</td>\n",
              "      <td>www reddit com r india comments fl0c32 which_i...</td>\n",
              "    </tr>\n",
              "    <tr>\n",
              "      <th>8</th>\n",
              "      <td>1.483704e+09</td>\n",
              "      <td>5md788</td>\n",
              "      <td>Non-Political</td>\n",
              "      <td>2</td>\n",
              "      <td>None</td>\n",
              "      <td>Kashmir University defers all exams scheduled ...</td>\n",
              "      <td>indiatoday intoday in story kashmir-university...</td>\n",
              "    </tr>\n",
              "    <tr>\n",
              "      <th>9</th>\n",
              "      <td>1.499679e+09</td>\n",
              "      <td>6mddyx</td>\n",
              "      <td>Non-Political</td>\n",
              "      <td>0</td>\n",
              "      <td>None</td>\n",
              "      <td>Egg mask, honey: Get rid of split ends by mean...</td>\n",
              "      <td>buyhatke com blog ?p=3185</td>\n",
              "    </tr>\n",
              "    <tr>\n",
              "      <th>10</th>\n",
              "      <td>1.496636e+09</td>\n",
              "      <td>6fbyqj</td>\n",
              "      <td>Politics</td>\n",
              "      <td>2</td>\n",
              "      <td>None</td>\n",
              "      <td>Fuck these shitty lawyers!</td>\n",
              "      <td>www monikaarora in blog read-before-you-riot</td>\n",
              "    </tr>\n",
              "    <tr>\n",
              "      <th>11</th>\n",
              "      <td>1.423974e+09</td>\n",
              "      <td>2vxxv2</td>\n",
              "      <td>Politics</td>\n",
              "      <td>0</td>\n",
              "      <td>None</td>\n",
              "      <td>AAP vs BJP: A proxy fight between two Grand Na...</td>\n",
              "      <td>www firstpost com india aap-vs-bjp-proxy-fight...</td>\n",
              "    </tr>\n",
              "    <tr>\n",
              "      <th>12</th>\n",
              "      <td>1.511774e+09</td>\n",
              "      <td>7ftydb</td>\n",
              "      <td>Non-Political</td>\n",
              "      <td>0</td>\n",
              "      <td>None</td>\n",
              "      <td>School Lawyer Alleges 'Tutoring' in 4-Yr-Old's...</td>\n",
              "      <td>www thequint com videos news-videos school-leg...</td>\n",
              "    </tr>\n",
              "    <tr>\n",
              "      <th>13</th>\n",
              "      <td>1.490678e+09</td>\n",
              "      <td>61xgf9</td>\n",
              "      <td>Non-Political</td>\n",
              "      <td>0</td>\n",
              "      <td>None</td>\n",
              "      <td>NATA Admit Card for All India Architecture Exa...</td>\n",
              "      <td>www motachashma com entranceexam 201031 nata-a...</td>\n",
              "    </tr>\n",
              "    <tr>\n",
              "      <th>14</th>\n",
              "      <td>1.419758e+09</td>\n",
              "      <td>2qluzu</td>\n",
              "      <td>Non-Political</td>\n",
              "      <td>0</td>\n",
              "      <td>None</td>\n",
              "      <td>Indian diplomats upset as Sushma Swaraj asks t...</td>\n",
              "      <td>www newscrunch in 2014 12 indian-diplomats-ups...</td>\n",
              "    </tr>\n",
              "    <tr>\n",
              "      <th>15</th>\n",
              "      <td>1.522497e+09</td>\n",
              "      <td>88i61f</td>\n",
              "      <td>Business/Finance</td>\n",
              "      <td>0</td>\n",
              "      <td>None</td>\n",
              "      <td>Steal the deal</td>\n",
              "      <td>bestdealever wooplr com s bestdealever?ref=cp ...</td>\n",
              "    </tr>\n",
              "    <tr>\n",
              "      <th>16</th>\n",
              "      <td>1.517902e+09</td>\n",
              "      <td>7vlpr1</td>\n",
              "      <td>Politics</td>\n",
              "      <td>0</td>\n",
              "      <td>None</td>\n",
              "      <td>This global brand decided to stand with Kashmi...</td>\n",
              "      <td>www instagram com p BezsyH0FlEJ</td>\n",
              "    </tr>\n",
              "    <tr>\n",
              "      <th>17</th>\n",
              "      <td>1.516611e+09</td>\n",
              "      <td>7s4j68</td>\n",
              "      <td>[R]eddiquette</td>\n",
              "      <td>5</td>\n",
              "      <td>None</td>\n",
              "      <td>India will be open-defecation free before Lok ...</td>\n",
              "      <td>timesofindia indiatimes com india india-will-b...</td>\n",
              "    </tr>\n",
              "    <tr>\n",
              "      <th>18</th>\n",
              "      <td>1.414324e+09</td>\n",
              "      <td>2kd2xp</td>\n",
              "      <td>Non-Political</td>\n",
              "      <td>0</td>\n",
              "      <td>None</td>\n",
              "      <td>Haider wins People's choice Award at Rome Film...</td>\n",
              "      <td>www hindustantimes com entertainment bollywood...</td>\n",
              "    </tr>\n",
              "    <tr>\n",
              "      <th>19</th>\n",
              "      <td>1.517990e+09</td>\n",
              "      <td>7vukri</td>\n",
              "      <td>AskIndia</td>\n",
              "      <td>9</td>\n",
              "      <td>None</td>\n",
              "      <td>Should I get a toaster or a 10L OTG? mainly fo...</td>\n",
              "      <td>www reddit com r india comments 7vukri should_...</td>\n",
              "    </tr>\n",
              "  </tbody>\n",
              "</table>\n",
              "</div>"
            ],
            "text/plain": [
              "     created_utc  ...                                                url\n",
              "0   1.518180e+09  ...                        i redd it 6tiqhn3co6f01 png\n",
              "1   1.552281e+09  ...  www eternalhindutva com 2019 03 Ten-questions-...\n",
              "2   1.545422e+09  ...   www youtube com channel UCfM1o8q1hiCgkBpjmLCmJ9g\n",
              "3   1.417681e+09  ...  zeenews india com news india sailing-to-agra-o...\n",
              "4   1.424275e+09  ...  www reddit com r india comments 2wbliw advice_...\n",
              "5   1.545826e+09  ...  slagcrusher co in india slag-crusher-plant-man...\n",
              "6   1.551449e+09  ...  www ndtv com india-news kupwara-4-security-per...\n",
              "7   1.584577e+09  ...  www reddit com r india comments fl0c32 which_i...\n",
              "8   1.483704e+09  ...  indiatoday intoday in story kashmir-university...\n",
              "9   1.499679e+09  ...                          buyhatke com blog ?p=3185\n",
              "10  1.496636e+09  ...      www monikaarora in blog read-before-you-riot \n",
              "11  1.423974e+09  ...  www firstpost com india aap-vs-bjp-proxy-fight...\n",
              "12  1.511774e+09  ...  www thequint com videos news-videos school-leg...\n",
              "13  1.490678e+09  ...  www motachashma com entranceexam 201031 nata-a...\n",
              "14  1.419758e+09  ...  www newscrunch in 2014 12 indian-diplomats-ups...\n",
              "15  1.522497e+09  ...  bestdealever wooplr com s bestdealever?ref=cp ...\n",
              "16  1.517902e+09  ...                    www instagram com p BezsyH0FlEJ\n",
              "17  1.516611e+09  ...  timesofindia indiatimes com india india-will-b...\n",
              "18  1.414324e+09  ...  www hindustantimes com entertainment bollywood...\n",
              "19  1.517990e+09  ...  www reddit com r india comments 7vukri should_...\n",
              "\n",
              "[20 rows x 7 columns]"
            ]
          },
          "metadata": {
            "tags": []
          },
          "execution_count": 21
        }
      ]
    },
    {
      "cell_type": "markdown",
      "metadata": {
        "id": "h982kKB__19U",
        "colab_type": "text"
      },
      "source": [
        ".\n",
        "\n",
        "Finally, after preprocessing, we are left with **446283 (.446M) Data Points** across **23 Classes (Flairs)** in the Unbalanced Data\n",
        "While, **315099 (.315M) Data Points** across **12 Classes (Flairs)** in the Balanced Data.\n",
        "\n",
        "."
      ]
    },
    {
      "cell_type": "markdown",
      "metadata": {
        "id": "u4EhmL01TmbY",
        "colab_type": "text"
      },
      "source": [
        "## Further Exploration of the Data"
      ]
    },
    {
      "cell_type": "markdown",
      "metadata": {
        "id": "ir4xzBTbBJxk",
        "colab_type": "text"
      },
      "source": [
        "The discussion from here on involves numerical EDA of the data by the following ways:\n",
        "\n",
        "- Studying the relation and correlation between [Number of Comments, Length of {Title, Self Text and URL}] wrt the Label (Flair) in the data. \n",
        "\n",
        "- Plotting the Correlation Matrix of the above quantities in various ways."
      ]
    },
    {
      "cell_type": "code",
      "metadata": {
        "id": "Uh9EYwyYfRBw",
        "colab_type": "code",
        "outputId": "ddaec744-a148-4e76-ef30-48fccdbe2f23",
        "colab": {
          "base_uri": "https://localhost:8080/",
          "height": 139
        }
      },
      "source": [
        "!pip install pytorch-nlp"
      ],
      "execution_count": 0,
      "outputs": [
        {
          "output_type": "stream",
          "text": [
            "Collecting pytorch-nlp\n",
            "\u001b[?25l  Downloading https://files.pythonhosted.org/packages/4f/51/f0ee1efb75f7cc2e3065c5da1363d6be2eec79691b2821594f3f2329528c/pytorch_nlp-0.5.0-py3-none-any.whl (90kB)\n",
            "\r\u001b[K     |███▋                            | 10kB 17.2MB/s eta 0:00:01\r\u001b[K     |███████▎                        | 20kB 1.7MB/s eta 0:00:01\r\u001b[K     |███████████                     | 30kB 2.3MB/s eta 0:00:01\r\u001b[K     |██████████████▌                 | 40kB 2.5MB/s eta 0:00:01\r\u001b[K     |██████████████████▏             | 51kB 2.0MB/s eta 0:00:01\r\u001b[K     |█████████████████████▉          | 61kB 2.3MB/s eta 0:00:01\r\u001b[K     |█████████████████████████▌      | 71kB 2.5MB/s eta 0:00:01\r\u001b[K     |█████████████████████████████   | 81kB 2.7MB/s eta 0:00:01\r\u001b[K     |████████████████████████████████| 92kB 2.4MB/s \n",
            "\u001b[?25hRequirement already satisfied: numpy in /usr/local/lib/python3.6/dist-packages (from pytorch-nlp) (1.18.2)\n",
            "Requirement already satisfied: tqdm in /usr/local/lib/python3.6/dist-packages (from pytorch-nlp) (4.38.0)\n",
            "Installing collected packages: pytorch-nlp\n",
            "Successfully installed pytorch-nlp-0.5.0\n"
          ],
          "name": "stdout"
        }
      ]
    },
    {
      "cell_type": "code",
      "metadata": {
        "id": "VqSg75gbex--",
        "colab_type": "code",
        "colab": {}
      },
      "source": [
        "import torchnlp\n",
        "from torchnlp.encoders import LabelEncoder"
      ],
      "execution_count": 0,
      "outputs": []
    },
    {
      "cell_type": "markdown",
      "metadata": {
        "id": "F6yeAJq0CYQh",
        "colab_type": "text"
      },
      "source": [
        ".\n",
        "\n",
        "Creating a corresponding dataset containing the numerical data as was explained above\n",
        "\n",
        "- LabelEncoding the flairs\n",
        "- {Title, Selftext, URL} --> Length of each"
      ]
    },
    {
      "cell_type": "code",
      "metadata": {
        "id": "s14IjYZ3IXS9",
        "colab_type": "code",
        "colab": {}
      },
      "source": [
        "df_cols = {'link_flair_text':[], 'num_comments':[], 'selftext':[], 'title':[], 'url':[]}"
      ],
      "execution_count": 0,
      "outputs": []
    },
    {
      "cell_type": "code",
      "metadata": {
        "id": "keEzo8hiJmo6",
        "colab_type": "code",
        "colab": {}
      },
      "source": [
        "for i in range(df.shape[0]):\n",
        "  df_cols['link_flair_text'].append(df.loc[i, 'link_flair_text'])\n",
        "  df_cols['title'].append(len(df.loc[i, 'title']))\n",
        "  df_cols['url'].append(len(df.loc[i, 'url']))\n",
        "  df_cols['num_comments'].append(int(df.loc[i, 'num_comments']))\n",
        "  if type(df.loc[i, 'selftext']) != float:\n",
        "    df_cols['selftext'].append(len(df.loc[i, 'selftext']))\n",
        "  else:\n",
        "    df_cols['selftext'].append(0)"
      ],
      "execution_count": 0,
      "outputs": []
    },
    {
      "cell_type": "code",
      "metadata": {
        "id": "DS5ed6uqNell",
        "colab_type": "code",
        "colab": {}
      },
      "source": [
        "encoder = LabelEncoder(df_cols['link_flair_text'])"
      ],
      "execution_count": 0,
      "outputs": []
    },
    {
      "cell_type": "code",
      "metadata": {
        "id": "FSRVecu4PD_n",
        "colab_type": "code",
        "colab": {}
      },
      "source": [
        "df_cols['link_flair_text'] = encoder.batch_encode(df_cols['link_flair_text'])"
      ],
      "execution_count": 0,
      "outputs": []
    },
    {
      "cell_type": "code",
      "metadata": {
        "id": "05MOsAvSK_Qx",
        "colab_type": "code",
        "outputId": "b502ba91-a010-41a8-c854-573dcef004cd",
        "colab": {
          "base_uri": "https://localhost:8080/",
          "height": 363
        }
      },
      "source": [
        "df_supp = pd.DataFrame(df_cols)\n",
        "df_supp.head(10)"
      ],
      "execution_count": 0,
      "outputs": [
        {
          "output_type": "execute_result",
          "data": {
            "text/html": [
              "<div>\n",
              "<style scoped>\n",
              "    .dataframe tbody tr th:only-of-type {\n",
              "        vertical-align: middle;\n",
              "    }\n",
              "\n",
              "    .dataframe tbody tr th {\n",
              "        vertical-align: top;\n",
              "    }\n",
              "\n",
              "    .dataframe thead th {\n",
              "        text-align: right;\n",
              "    }\n",
              "</style>\n",
              "<table border=\"1\" class=\"dataframe\">\n",
              "  <thead>\n",
              "    <tr style=\"text-align: right;\">\n",
              "      <th></th>\n",
              "      <th>link_flair_text</th>\n",
              "      <th>num_comments</th>\n",
              "      <th>selftext</th>\n",
              "      <th>title</th>\n",
              "      <th>url</th>\n",
              "    </tr>\n",
              "  </thead>\n",
              "  <tbody>\n",
              "    <tr>\n",
              "      <th>0</th>\n",
              "      <td>1</td>\n",
              "      <td>3</td>\n",
              "      <td>0</td>\n",
              "      <td>53</td>\n",
              "      <td>35</td>\n",
              "    </tr>\n",
              "    <tr>\n",
              "      <th>1</th>\n",
              "      <td>2</td>\n",
              "      <td>0</td>\n",
              "      <td>0</td>\n",
              "      <td>96</td>\n",
              "      <td>43</td>\n",
              "    </tr>\n",
              "    <tr>\n",
              "      <th>2</th>\n",
              "      <td>2</td>\n",
              "      <td>2</td>\n",
              "      <td>1019</td>\n",
              "      <td>41</td>\n",
              "      <td>87</td>\n",
              "    </tr>\n",
              "    <tr>\n",
              "      <th>3</th>\n",
              "      <td>2</td>\n",
              "      <td>1</td>\n",
              "      <td>0</td>\n",
              "      <td>57</td>\n",
              "      <td>25</td>\n",
              "    </tr>\n",
              "    <tr>\n",
              "      <th>4</th>\n",
              "      <td>3</td>\n",
              "      <td>3</td>\n",
              "      <td>0</td>\n",
              "      <td>34</td>\n",
              "      <td>114</td>\n",
              "    </tr>\n",
              "    <tr>\n",
              "      <th>5</th>\n",
              "      <td>1</td>\n",
              "      <td>0</td>\n",
              "      <td>4</td>\n",
              "      <td>30</td>\n",
              "      <td>103</td>\n",
              "    </tr>\n",
              "    <tr>\n",
              "      <th>6</th>\n",
              "      <td>1</td>\n",
              "      <td>2</td>\n",
              "      <td>0</td>\n",
              "      <td>43</td>\n",
              "      <td>93</td>\n",
              "    </tr>\n",
              "    <tr>\n",
              "      <th>7</th>\n",
              "      <td>1</td>\n",
              "      <td>1</td>\n",
              "      <td>1623</td>\n",
              "      <td>71</td>\n",
              "      <td>92</td>\n",
              "    </tr>\n",
              "    <tr>\n",
              "      <th>8</th>\n",
              "      <td>1</td>\n",
              "      <td>0</td>\n",
              "      <td>0</td>\n",
              "      <td>52</td>\n",
              "      <td>33</td>\n",
              "    </tr>\n",
              "    <tr>\n",
              "      <th>9</th>\n",
              "      <td>1</td>\n",
              "      <td>0</td>\n",
              "      <td>0</td>\n",
              "      <td>110</td>\n",
              "      <td>62</td>\n",
              "    </tr>\n",
              "  </tbody>\n",
              "</table>\n",
              "</div>"
            ],
            "text/plain": [
              "   link_flair_text  num_comments  selftext  title  url\n",
              "0                1             3         0     53   35\n",
              "1                2             0         0     96   43\n",
              "2                2             2      1019     41   87\n",
              "3                2             1         0     57   25\n",
              "4                3             3         0     34  114\n",
              "5                1             0         4     30  103\n",
              "6                1             2         0     43   93\n",
              "7                1             1      1623     71   92\n",
              "8                1             0         0     52   33\n",
              "9                1             0         0    110   62"
            ]
          },
          "metadata": {
            "tags": []
          },
          "execution_count": 71
        }
      ]
    },
    {
      "cell_type": "code",
      "metadata": {
        "id": "pkk4ewQ3j19h",
        "colab_type": "code",
        "outputId": "46b4347d-338c-4ddc-9eb9-4131ed26a8b8",
        "colab": {
          "base_uri": "https://localhost:8080/",
          "height": 300
        }
      },
      "source": [
        "df_supp.describe()"
      ],
      "execution_count": 0,
      "outputs": [
        {
          "output_type": "execute_result",
          "data": {
            "text/html": [
              "<div>\n",
              "<style scoped>\n",
              "    .dataframe tbody tr th:only-of-type {\n",
              "        vertical-align: middle;\n",
              "    }\n",
              "\n",
              "    .dataframe tbody tr th {\n",
              "        vertical-align: top;\n",
              "    }\n",
              "\n",
              "    .dataframe thead th {\n",
              "        text-align: right;\n",
              "    }\n",
              "</style>\n",
              "<table border=\"1\" class=\"dataframe\">\n",
              "  <thead>\n",
              "    <tr style=\"text-align: right;\">\n",
              "      <th></th>\n",
              "      <th>link_flair_text</th>\n",
              "      <th>num_comments</th>\n",
              "      <th>selftext</th>\n",
              "      <th>title</th>\n",
              "      <th>url</th>\n",
              "    </tr>\n",
              "  </thead>\n",
              "  <tbody>\n",
              "    <tr>\n",
              "      <th>count</th>\n",
              "      <td>446308.000000</td>\n",
              "      <td>446308.000000</td>\n",
              "      <td>446308.000000</td>\n",
              "      <td>446308.000000</td>\n",
              "      <td>446308.000000</td>\n",
              "    </tr>\n",
              "    <tr>\n",
              "      <th>mean</th>\n",
              "      <td>4.053244</td>\n",
              "      <td>11.064081</td>\n",
              "      <td>106.766800</td>\n",
              "      <td>70.069161</td>\n",
              "      <td>90.535142</td>\n",
              "    </tr>\n",
              "    <tr>\n",
              "      <th>std</th>\n",
              "      <td>4.773658</td>\n",
              "      <td>52.201172</td>\n",
              "      <td>516.591479</td>\n",
              "      <td>40.943143</td>\n",
              "      <td>41.302197</td>\n",
              "    </tr>\n",
              "    <tr>\n",
              "      <th>min</th>\n",
              "      <td>1.000000</td>\n",
              "      <td>-3.000000</td>\n",
              "      <td>0.000000</td>\n",
              "      <td>1.000000</td>\n",
              "      <td>4.000000</td>\n",
              "    </tr>\n",
              "    <tr>\n",
              "      <th>25%</th>\n",
              "      <td>1.000000</td>\n",
              "      <td>0.000000</td>\n",
              "      <td>4.000000</td>\n",
              "      <td>46.000000</td>\n",
              "      <td>60.000000</td>\n",
              "    </tr>\n",
              "    <tr>\n",
              "      <th>50%</th>\n",
              "      <td>2.000000</td>\n",
              "      <td>1.000000</td>\n",
              "      <td>4.000000</td>\n",
              "      <td>64.000000</td>\n",
              "      <td>93.000000</td>\n",
              "    </tr>\n",
              "    <tr>\n",
              "      <th>75%</th>\n",
              "      <td>4.000000</td>\n",
              "      <td>7.000000</td>\n",
              "      <td>4.000000</td>\n",
              "      <td>83.000000</td>\n",
              "      <td>115.000000</td>\n",
              "    </tr>\n",
              "    <tr>\n",
              "      <th>max</th>\n",
              "      <td>24.000000</td>\n",
              "      <td>11706.000000</td>\n",
              "      <td>39826.000000</td>\n",
              "      <td>318.000000</td>\n",
              "      <td>2107.000000</td>\n",
              "    </tr>\n",
              "  </tbody>\n",
              "</table>\n",
              "</div>"
            ],
            "text/plain": [
              "       link_flair_text   num_comments  ...          title            url\n",
              "count    446308.000000  446308.000000  ...  446308.000000  446308.000000\n",
              "mean          4.053244      11.064081  ...      70.069161      90.535142\n",
              "std           4.773658      52.201172  ...      40.943143      41.302197\n",
              "min           1.000000      -3.000000  ...       1.000000       4.000000\n",
              "25%           1.000000       0.000000  ...      46.000000      60.000000\n",
              "50%           2.000000       1.000000  ...      64.000000      93.000000\n",
              "75%           4.000000       7.000000  ...      83.000000     115.000000\n",
              "max          24.000000   11706.000000  ...     318.000000    2107.000000\n",
              "\n",
              "[8 rows x 5 columns]"
            ]
          },
          "metadata": {
            "tags": []
          },
          "execution_count": 72
        }
      ]
    },
    {
      "cell_type": "code",
      "metadata": {
        "id": "SUpfk0S0LfDx",
        "colab_type": "code",
        "outputId": "96565081-93f3-4ab7-9a0a-7a17693a9bc2",
        "colab": {
          "base_uri": "https://localhost:8080/",
          "height": 356
        }
      },
      "source": [
        "plt.figure(figsize=(6,4))\n",
        "sns.heatmap(df_supp.corr(),cmap='Blues',annot=False) "
      ],
      "execution_count": 0,
      "outputs": [
        {
          "output_type": "execute_result",
          "data": {
            "text/plain": [
              "<matplotlib.axes._subplots.AxesSubplot at 0x7ff0b26efa20>"
            ]
          },
          "metadata": {
            "tags": []
          },
          "execution_count": 73
        },
        {
          "output_type": "display_data",
          "data": {
            "image/png": "[encoded data removed]",
            "text/plain": [
              "<Figure size 432x288 with 2 Axes>"
            ]
          },
          "metadata": {
            "tags": [],
            "needs_background": "light"
          }
        }
      ]
    },
    {
      "cell_type": "markdown",
      "metadata": {
        "id": "-bSM0i-rDK7g",
        "colab_type": "text"
      },
      "source": [
        "In the above figure, dark shades represents positive correlation while lighter shades represents negative correlation. "
      ]
    },
    {
      "cell_type": "code",
      "metadata": {
        "id": "XIGTu0FePxuC",
        "colab_type": "code",
        "outputId": "b07f1620-e8a0-4e80-d411-b1a8e37450b6",
        "colab": {
          "base_uri": "https://localhost:8080/",
          "height": 396
        }
      },
      "source": [
        "k = 5 #number of variables for heatmap\n",
        "cols = df_supp.corr().nlargest(k, 'link_flair_text')['link_flair_text'].index\n",
        "cm = df_supp[cols].corr()\n",
        "plt.figure(figsize=(10,6))\n",
        "sns.heatmap(cm, annot=True, cmap = 'viridis')"
      ],
      "execution_count": 0,
      "outputs": [
        {
          "output_type": "execute_result",
          "data": {
            "text/plain": [
              "<matplotlib.axes._subplots.AxesSubplot at 0x7ff05f6e6278>"
            ]
          },
          "metadata": {
            "tags": []
          },
          "execution_count": 74
        },
        {
          "output_type": "display_data",
          "data": {
            "image/png": "[encoded data removed]",
            "text/plain": [
              "<Figure size 720x432 with 2 Axes>"
            ]
          },
          "metadata": {
            "tags": [],
            "needs_background": "light"
          }
        }
      ]
    },
    {
      "cell_type": "code",
      "metadata": {
        "id": "YfBGg-dgQud1",
        "colab_type": "code",
        "outputId": "31000bbe-4484-4bc5-90a8-8daa6f4ab661",
        "colab": {
          "base_uri": "https://localhost:8080/",
          "height": 291
        }
      },
      "source": [
        "l = df_supp.columns.values\n",
        "n_cols = 5\n",
        "n_rows = len(l)-1/n_cols\n",
        "plt.figure(figsize=(2*n_cols+15,5*n_rows))\n",
        "for i in range(0,len(l)):\n",
        "    plt.subplot(n_rows+1, n_cols, i+1)\n",
        "    sns.distplot(df_supp[l[i]],kde=True)"
      ],
      "execution_count": 0,
      "outputs": [
        {
          "output_type": "display_data",
          "data": {
            "image/png": "[encoded data removed]",
            "text/plain": [
              "<Figure size 1944x1740 with 5 Axes>"
            ]
          },
          "metadata": {
            "tags": [],
            "needs_background": "light"
          }
        }
      ]
    },
    {
      "cell_type": "markdown",
      "metadata": {
        "id": "R2AnFKQsDhBS",
        "colab_type": "text"
      },
      "source": [
        "The above figure shows that the 'Title' length spans across a considerable range and can be approximated via a Gaussian Distribution with mean at 100, i.e., most of the Title Lengths have a length around 100. \n",
        "\n",
        "."
      ]
    },
    {
      "cell_type": "markdown",
      "metadata": {
        "id": "Sh8EU6bREDVY",
        "colab_type": "text"
      },
      "source": [
        "## Exporting the final preprocessed data; to be used in the next steps"
      ]
    },
    {
      "cell_type": "code",
      "metadata": {
        "id": "84m10dGjlAOZ",
        "colab_type": "code",
        "colab": {}
      },
      "source": [
        "df.to_csv('./drive/My Drive/rMIDAS.csv', index = False)"
      ],
      "execution_count": 0,
      "outputs": []
    },
    {
      "cell_type": "code",
      "metadata": {
        "id": "ZBRt9k6Q6Ye8",
        "colab_type": "code",
        "outputId": "21a3bafb-8d5c-4849-b989-78c8240ccdb4",
        "colab": {
          "base_uri": "https://localhost:8080/",
          "height": 380
        }
      },
      "source": [
        "df = pd.read_csv('./drive/My Drive/rMIDAS.csv')\n",
        "print(df.shape)\n",
        "df.head(10)"
      ],
      "execution_count": 0,
      "outputs": [
        {
          "output_type": "stream",
          "text": [
            "(446283, 7)\n"
          ],
          "name": "stdout"
        },
        {
          "output_type": "execute_result",
          "data": {
            "text/html": [
              "<div>\n",
              "<style scoped>\n",
              "    .dataframe tbody tr th:only-of-type {\n",
              "        vertical-align: middle;\n",
              "    }\n",
              "\n",
              "    .dataframe tbody tr th {\n",
              "        vertical-align: top;\n",
              "    }\n",
              "\n",
              "    .dataframe thead th {\n",
              "        text-align: right;\n",
              "    }\n",
              "</style>\n",
              "<table border=\"1\" class=\"dataframe\">\n",
              "  <thead>\n",
              "    <tr style=\"text-align: right;\">\n",
              "      <th></th>\n",
              "      <th>created_utc</th>\n",
              "      <th>id</th>\n",
              "      <th>link_flair_text</th>\n",
              "      <th>num_comments</th>\n",
              "      <th>selftext</th>\n",
              "      <th>title</th>\n",
              "      <th>url</th>\n",
              "    </tr>\n",
              "  </thead>\n",
              "  <tbody>\n",
              "    <tr>\n",
              "      <th>0</th>\n",
              "      <td>1.558946e+09</td>\n",
              "      <td>btjiv5</td>\n",
              "      <td>Politics</td>\n",
              "      <td>3</td>\n",
              "      <td>None</td>\n",
              "      <td>Remembering Jawaharlal Nehru on his death anni...</td>\n",
              "      <td>https://i.redd.it/txph3eq1sp031.jpg</td>\n",
              "    </tr>\n",
              "    <tr>\n",
              "      <th>1</th>\n",
              "      <td>1.501065e+09</td>\n",
              "      <td>6pn4gj</td>\n",
              "      <td>Non-Political</td>\n",
              "      <td>0</td>\n",
              "      <td>None</td>\n",
              "      <td>[FRESH VIDEO] Armaan Malik - 'Barfani' (Babumo...</td>\n",
              "      <td>https://www.youtube.com/watch?v=LzETSqumgCY</td>\n",
              "    </tr>\n",
              "    <tr>\n",
              "      <th>2</th>\n",
              "      <td>1.574087e+09</td>\n",
              "      <td>dy3t9k</td>\n",
              "      <td>Non-Political</td>\n",
              "      <td>2</td>\n",
              "      <td>Today I had an appointment for my kid's passpo...</td>\n",
              "      <td>Whims and fancies of officers at PSK [NP]</td>\n",
              "      <td>https://www.reddit.com/r/india/comments/dy3t9k...</td>\n",
              "    </tr>\n",
              "    <tr>\n",
              "      <th>3</th>\n",
              "      <td>1.410478e+09</td>\n",
              "      <td>2g5gqn</td>\n",
              "      <td>Non-Political</td>\n",
              "      <td>1</td>\n",
              "      <td>None</td>\n",
              "      <td>Rann Utsav - A festival in the deserts of Kutc...</td>\n",
              "      <td>http://www.rannutsav.net/</td>\n",
              "    </tr>\n",
              "    <tr>\n",
              "      <th>4</th>\n",
              "      <td>1.483609e+09</td>\n",
              "      <td>5m5j3f</td>\n",
              "      <td>Science/Technology</td>\n",
              "      <td>3</td>\n",
              "      <td>None</td>\n",
              "      <td>CCMB signs MoUs with four startups</td>\n",
              "      <td>http://economictimes.indiatimes.com/small-biz/...</td>\n",
              "    </tr>\n",
              "    <tr>\n",
              "      <th>5</th>\n",
              "      <td>1.479750e+09</td>\n",
              "      <td>5e5caf</td>\n",
              "      <td>Politics</td>\n",
              "      <td>0</td>\n",
              "      <td>None</td>\n",
              "      <td>PM Modi didn't do his homework</td>\n",
              "      <td>http://www.forbes.com/sites/panosmourdoukoutas...</td>\n",
              "    </tr>\n",
              "    <tr>\n",
              "      <th>6</th>\n",
              "      <td>1.492614e+09</td>\n",
              "      <td>66aplw</td>\n",
              "      <td>Politics</td>\n",
              "      <td>2</td>\n",
              "      <td>None</td>\n",
              "      <td>GST rules: One leg still stuck in old taxes</td>\n",
              "      <td>http://www.forbesindia.com/article/special/gst...</td>\n",
              "    </tr>\n",
              "    <tr>\n",
              "      <th>7</th>\n",
              "      <td>1.582680e+09</td>\n",
              "      <td>f9l1cs</td>\n",
              "      <td>Politics</td>\n",
              "      <td>1</td>\n",
              "      <td>You will become neither Hindu nor Muslim,  \\n ...</td>\n",
              "      <td>Translation from Old Song: You, the child of a...</td>\n",
              "      <td>https://www.reddit.com/r/india/comments/f9l1cs...</td>\n",
              "    </tr>\n",
              "    <tr>\n",
              "      <th>8</th>\n",
              "      <td>1.559199e+09</td>\n",
              "      <td>bupx95</td>\n",
              "      <td>Politics</td>\n",
              "      <td>0</td>\n",
              "      <td>None</td>\n",
              "      <td>Indian establishment responsible for Pulwama a...</td>\n",
              "      <td>https://imgur.com/gallery/WKP0iMZ</td>\n",
              "    </tr>\n",
              "    <tr>\n",
              "      <th>9</th>\n",
              "      <td>1.576755e+09</td>\n",
              "      <td>ecrwjc</td>\n",
              "      <td>Politics</td>\n",
              "      <td>0</td>\n",
              "      <td>None</td>\n",
              "      <td>Prime minister cannot find his degree, but the...</td>\n",
              "      <td>https://twitter.com/ankitchiplunkar/status/120...</td>\n",
              "    </tr>\n",
              "  </tbody>\n",
              "</table>\n",
              "</div>"
            ],
            "text/plain": [
              "    created_utc  ...                                                url\n",
              "0  1.558946e+09  ...                https://i.redd.it/txph3eq1sp031.jpg\n",
              "1  1.501065e+09  ...        https://www.youtube.com/watch?v=LzETSqumgCY\n",
              "2  1.574087e+09  ...  https://www.reddit.com/r/india/comments/dy3t9k...\n",
              "3  1.410478e+09  ...                          http://www.rannutsav.net/\n",
              "4  1.483609e+09  ...  http://economictimes.indiatimes.com/small-biz/...\n",
              "5  1.479750e+09  ...  http://www.forbes.com/sites/panosmourdoukoutas...\n",
              "6  1.492614e+09  ...  http://www.forbesindia.com/article/special/gst...\n",
              "7  1.582680e+09  ...  https://www.reddit.com/r/india/comments/f9l1cs...\n",
              "8  1.559199e+09  ...                  https://imgur.com/gallery/WKP0iMZ\n",
              "9  1.576755e+09  ...  https://twitter.com/ankitchiplunkar/status/120...\n",
              "\n",
              "[10 rows x 7 columns]"
            ]
          },
          "metadata": {
            "tags": []
          },
          "execution_count": 78
        }
      ]
    },
    {
      "cell_type": "code",
      "metadata": {
        "id": "llYM1IPLkCo5",
        "colab_type": "code",
        "colab": {}
      },
      "source": [
        "df_bal_2.to_csv('./drive/My Drive/rMIDAS_bal_2.csv', index = False)"
      ],
      "execution_count": 0,
      "outputs": []
    }
  ]
}